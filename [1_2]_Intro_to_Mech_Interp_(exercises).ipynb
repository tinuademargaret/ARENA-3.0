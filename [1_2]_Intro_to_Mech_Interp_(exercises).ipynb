{
  "cells": [
    {
      "cell_type": "markdown",
      "metadata": {
        "id": "view-in-github",
        "colab_type": "text"
      },
      "source": [
        "<a href=\"https://colab.research.google.com/github/tinuademargaret/ARENA-3.0/blob/main/%5B1_2%5D_Intro_to_Mech_Interp_(exercises).ipynb\" target=\"_parent\"><img src=\"https://colab.research.google.com/assets/colab-badge.svg\" alt=\"Open In Colab\"/></a>"
      ]
    },
    {
      "cell_type": "markdown",
      "source": [
        "# [1.2] Intro to Mechanistic Interpretability: TransformerLens & induction circuits\n"
      ],
      "metadata": {
        "id": "XNkMsZEpM6jA"
      }
    },
    {
      "cell_type": "markdown",
      "metadata": {
        "id": "03JpEpAd2Elc"
      },
      "source": [
        "Colab: [exercises](https://colab.research.google.com/drive/1gZdHsBL8Ljq7nSWJtxxlsI4JWHmllxxP?usp=sharing) | [solutions](https://colab.research.google.com/drive/1TVHaqN7if-8aCmc06t8CAIaHUlhJ4ek7?usp=sharing)\n",
        "\n",
        "[Streamlit page](https://arena3-chapter1-transformer-interp.streamlit.app/[1.2]_Intro_to_Mech_Interp)\n",
        "\n",
        "Please send any problems / bugs on the `#errata` channel in the [Slack group](https://join.slack.com/t/arena-uk/shared_invite/zt-28h0xs49u-ZN9ZDbGXl~oCorjbBsSQag), and ask any questions on the dedicated channels for this chapter of material."
      ]
    },
    {
      "cell_type": "markdown",
      "metadata": {
        "id": "DvzNe4Rx2Yqt"
      },
      "source": [
        "<img src=\"https://raw.githubusercontent.com/callummcdougall/computational-thread-art/master/example_images/misc/lens2.png\" width=\"350\">\n"
      ]
    },
    {
      "cell_type": "markdown",
      "metadata": {
        "id": "B_KIvEj9BatC"
      },
      "source": [
        "# Introduction"
      ]
    },
    {
      "cell_type": "markdown",
      "metadata": {
        "id": "6OmTCWiQhNm7"
      },
      "source": [
        "These pages are designed to get you introduced to the core concepts of mechanistic interpretability, via Neel Nanda's **TransformerLens** library.\n",
        "\n",
        "Most of the sections are constructed in the following way:\n",
        "\n",
        "1. A particular feature of TransformerLens is introduced.\n",
        "2. You are given an exercise, in which you have to apply the feature.\n",
        "\n",
        "The running theme of the exercises is **induction circuits**. Induction circuits are a particular type of circuit in a transformer, which can perform basic in-context learning. You should read the [corresponding section of Neel's glossary](https://dynalist.io/d/n2ZWtnoYHrU1s4vnFSAQ519J#z=_Jzi6YHRHKP1JziwdE02qdYZ), before continuing. This [LessWrong post](https://www.lesswrong.com/posts/TvrfY4c9eaGLeyDkE/induction-heads-illustrated) might also help; it contains some diagrams (like the one below) which walk through the induction mechanism step by step.\n",
        "\n",
        "Each exercise will have a difficulty and importance rating out of 5, as well as an estimated maximum time you should spend on these exercises and sometimes a short annotation. You should interpret the ratings & time estimates relatively (e.g. if you find yourself spending about 50% longer on the exercises than the time estimates, adjust accordingly). Please do skip exercises / look at solutions if you don't feel like they're important enough to be worth doing, and you'd rather get to the good stuff!\n"
      ]
    },
    {
      "cell_type": "markdown",
      "metadata": {
        "id": "XglOwgi1_6o5"
      },
      "source": [
        "<img src=\"https://raw.githubusercontent.com/callummcdougall/computational-thread-art/master/example_images/misc/kcomp_diagram.png\" width=\"1000\">\n"
      ]
    },
    {
      "cell_type": "markdown",
      "metadata": {
        "id": "iSm-jMXOBWGU"
      },
      "source": [
        "## Content & Learning Objectives\n"
      ]
    },
    {
      "cell_type": "markdown",
      "metadata": {
        "id": "xoglhcoRhNm9"
      },
      "source": [
        "#### 1️⃣ TransformerLens: Introduction\n",
        "\n",
        "This section is designed to get you up to speed with the TransformerLens library. You'll learn how to load and run models, and learn about the shared architecture template for all of these models (the latter of which should be familiar to you if you've already done the exercises that come before these, since many of the same design principles are followed).\n",
        "\n",
        "> ##### Learning objectives\n",
        ">\n",
        "> - Load and run a `HookedTransformer` model\n",
        "> - Understand the basic architecture of these models\n",
        "> - Use the model's tokenizer to convert text to tokens, and vice versa\n",
        "> - Know how to cache activations, and to access activations from the cache\n",
        "> - Use `circuitsvis` to visualise attention heads\n",
        "\n",
        "#### 2️⃣ Finding induction heads\n",
        "\n",
        "Here, you'll learn about induction heads, how they work and why they are important. You'll also learn how to identify them from the characteristic induction head stripe in their attention patterns when the model input is a repeating sequence.\n",
        "\n",
        "> ##### Learning objectives\n",
        ">\n",
        "> - Understand what induction heads are, and the algorithm they are implementing\n",
        "> - Inspect activation patterns to identify basic attention head patterns, and write your own functions to detect attention heads for you\n",
        "> - Identify induction heads by looking at the attention patterns produced from a repeating random sequence\n",
        "\n",
        "#### 3️⃣ TransformerLens: Hooks\n",
        "\n",
        "Next, you'll learn about hooks, which are a great feature of TransformerLens allowing you to access and intervene on activations within the model. We will mainly focus on the basics of hooks and using them to access activations (we'll mainly save the causal interventions for the later IOI exercises). You will also build some tools to perform logit attribution within your model, so you can identify which components are responsible for your model's performance on certain tasks.\n",
        "\n",
        "> ##### Learning objectives\n",
        ">\n",
        "> - Understand what hooks are, and how they are used in TransformerLens\n",
        "> - Use hooks to access activations, process the results, and write them to an external tensor\n",
        "> - Build tools to perform attribution, i.e. detecting which components of your model are responsible for performance on a given task\n",
        "> - Understand how hooks can be used to perform basic interventions like **ablation**\n",
        "\n",
        "#### 4️⃣ Reverse-engineering induction circuits\n",
        "\n",
        "Lastly, these exercises show you how you can reverse-engineer a circuit by looking directly at a transformer's weights (which can be considered a \"gold standard\" of interpretability; something not possible in every situation). You'll examine QK and OV circuits by multiplying through matrices (and learn how the FactoredMatrix class makes matrices like these much easier to analyse). You'll also look for evidence of composition between two induction heads, and once you've found it then you'll investigate the functionality of the full circuit formed from this composition.\n",
        "\n",
        "> ##### Learning objectives\n",
        ">\n",
        "> - Understand the difference between investigating a circuit by looking at activtion patterns, and reverse-engineering a circuit by looking directly at the weights\n",
        "> - Use the factored matrix class to inspect the QK and OV circuits within an induction circuit\n",
        "> - Perform further exploration of induction circuits: composition scores, and targeted ablations\n"
      ]
    },
    {
      "cell_type": "markdown",
      "metadata": {
        "id": "MwPFDFbFAQfd"
      },
      "source": [
        "## Setup (don't read, just run!)\n"
      ]
    },
    {
      "cell_type": "code",
      "execution_count": 1,
      "metadata": {
        "id": "G6mV_i4LAPuB",
        "colab": {
          "base_uri": "https://localhost:8080/"
        },
        "outputId": "309d5933-3cbe-4e9a-d1b9-33393268bc66"
      },
      "outputs": [
        {
          "output_type": "stream",
          "name": "stdout",
          "text": [
            "Collecting transformer_lens\n",
            "  Downloading transformer_lens-2.0.0-py3-none-any.whl (144 kB)\n",
            "\u001b[2K     \u001b[90m━━━━━━━━━━━━━━━━━━━━━━━━━━━━━━━━━━━━━━━━\u001b[0m \u001b[32m145.0/145.0 kB\u001b[0m \u001b[31m1.7 MB/s\u001b[0m eta \u001b[36m0:00:00\u001b[0m\n",
            "\u001b[?25hCollecting accelerate>=0.23.0 (from transformer_lens)\n",
            "  Downloading accelerate-0.30.1-py3-none-any.whl (302 kB)\n",
            "\u001b[2K     \u001b[90m━━━━━━━━━━━━━━━━━━━━━━━━━━━━━━━━━━━━━━━━\u001b[0m \u001b[32m302.6/302.6 kB\u001b[0m \u001b[31m11.1 MB/s\u001b[0m eta \u001b[36m0:00:00\u001b[0m\n",
            "\u001b[?25hCollecting beartype<0.15.0,>=0.14.1 (from transformer_lens)\n",
            "  Downloading beartype-0.14.1-py3-none-any.whl (739 kB)\n",
            "\u001b[2K     \u001b[90m━━━━━━━━━━━━━━━━━━━━━━━━━━━━━━━━━━━━━━━━\u001b[0m \u001b[32m739.7/739.7 kB\u001b[0m \u001b[31m28.2 MB/s\u001b[0m eta \u001b[36m0:00:00\u001b[0m\n",
            "\u001b[?25hCollecting better-abc<0.0.4,>=0.0.3 (from transformer_lens)\n",
            "  Downloading better_abc-0.0.3-py3-none-any.whl (3.5 kB)\n",
            "Collecting datasets>=2.7.1 (from transformer_lens)\n",
            "  Downloading datasets-2.19.2-py3-none-any.whl (542 kB)\n",
            "\u001b[2K     \u001b[90m━━━━━━━━━━━━━━━━━━━━━━━━━━━━━━━━━━━━━━━━\u001b[0m \u001b[32m542.1/542.1 kB\u001b[0m \u001b[31m27.4 MB/s\u001b[0m eta \u001b[36m0:00:00\u001b[0m\n",
            "\u001b[?25hCollecting einops>=0.6.0 (from transformer_lens)\n",
            "  Downloading einops-0.8.0-py3-none-any.whl (43 kB)\n",
            "\u001b[2K     \u001b[90m━━━━━━━━━━━━━━━━━━━━━━━━━━━━━━━━━━━━━━━━\u001b[0m \u001b[32m43.2/43.2 kB\u001b[0m \u001b[31m4.6 MB/s\u001b[0m eta \u001b[36m0:00:00\u001b[0m\n",
            "\u001b[?25hCollecting fancy-einsum>=0.0.3 (from transformer_lens)\n",
            "  Downloading fancy_einsum-0.0.3-py3-none-any.whl (6.2 kB)\n",
            "Collecting jaxtyping>=0.2.11 (from transformer_lens)\n",
            "  Downloading jaxtyping-0.2.29-py3-none-any.whl (41 kB)\n",
            "\u001b[2K     \u001b[90m━━━━━━━━━━━━━━━━━━━━━━━━━━━━━━━━━━━━━━━━\u001b[0m \u001b[32m41.2/41.2 kB\u001b[0m \u001b[31m4.5 MB/s\u001b[0m eta \u001b[36m0:00:00\u001b[0m\n",
            "\u001b[?25hRequirement already satisfied: numpy>=1.24 in /usr/local/lib/python3.10/dist-packages (from transformer_lens) (1.25.2)\n",
            "Requirement already satisfied: pandas>=1.1.5 in /usr/local/lib/python3.10/dist-packages (from transformer_lens) (2.0.3)\n",
            "Requirement already satisfied: rich>=12.6.0 in /usr/local/lib/python3.10/dist-packages (from transformer_lens) (13.7.1)\n",
            "Requirement already satisfied: sentencepiece in /usr/local/lib/python3.10/dist-packages (from transformer_lens) (0.1.99)\n",
            "Requirement already satisfied: torch>=1.10 in /usr/local/lib/python3.10/dist-packages (from transformer_lens) (2.3.0+cu121)\n",
            "Requirement already satisfied: tqdm>=4.64.1 in /usr/local/lib/python3.10/dist-packages (from transformer_lens) (4.66.4)\n",
            "Requirement already satisfied: transformers>=4.37.2 in /usr/local/lib/python3.10/dist-packages (from transformer_lens) (4.41.1)\n",
            "Requirement already satisfied: typing-extensions in /usr/local/lib/python3.10/dist-packages (from transformer_lens) (4.12.0)\n",
            "Collecting wandb>=0.13.5 (from transformer_lens)\n",
            "  Downloading wandb-0.17.0-py3-none-manylinux_2_5_x86_64.manylinux1_x86_64.manylinux_2_17_x86_64.manylinux2014_x86_64.whl (6.7 MB)\n",
            "\u001b[2K     \u001b[90m━━━━━━━━━━━━━━━━━━━━━━━━━━━━━━━━━━━━━━━━\u001b[0m \u001b[32m6.7/6.7 MB\u001b[0m \u001b[31m54.3 MB/s\u001b[0m eta \u001b[36m0:00:00\u001b[0m\n",
            "\u001b[?25hRequirement already satisfied: packaging>=20.0 in /usr/local/lib/python3.10/dist-packages (from accelerate>=0.23.0->transformer_lens) (24.0)\n",
            "Requirement already satisfied: psutil in /usr/local/lib/python3.10/dist-packages (from accelerate>=0.23.0->transformer_lens) (5.9.5)\n",
            "Requirement already satisfied: pyyaml in /usr/local/lib/python3.10/dist-packages (from accelerate>=0.23.0->transformer_lens) (6.0.1)\n",
            "Requirement already satisfied: huggingface-hub in /usr/local/lib/python3.10/dist-packages (from accelerate>=0.23.0->transformer_lens) (0.23.2)\n",
            "Requirement already satisfied: safetensors>=0.3.1 in /usr/local/lib/python3.10/dist-packages (from accelerate>=0.23.0->transformer_lens) (0.4.3)\n",
            "Requirement already satisfied: filelock in /usr/local/lib/python3.10/dist-packages (from datasets>=2.7.1->transformer_lens) (3.14.0)\n",
            "Requirement already satisfied: pyarrow>=12.0.0 in /usr/local/lib/python3.10/dist-packages (from datasets>=2.7.1->transformer_lens) (14.0.2)\n",
            "Requirement already satisfied: pyarrow-hotfix in /usr/local/lib/python3.10/dist-packages (from datasets>=2.7.1->transformer_lens) (0.6)\n",
            "Collecting dill<0.3.9,>=0.3.0 (from datasets>=2.7.1->transformer_lens)\n",
            "  Downloading dill-0.3.8-py3-none-any.whl (116 kB)\n",
            "\u001b[2K     \u001b[90m━━━━━━━━━━━━━━━━━━━━━━━━━━━━━━━━━━━━━━━━\u001b[0m \u001b[32m116.3/116.3 kB\u001b[0m \u001b[31m10.9 MB/s\u001b[0m eta \u001b[36m0:00:00\u001b[0m\n",
            "\u001b[?25hCollecting requests>=2.32.1 (from datasets>=2.7.1->transformer_lens)\n",
            "  Downloading requests-2.32.3-py3-none-any.whl (64 kB)\n",
            "\u001b[2K     \u001b[90m━━━━━━━━━━━━━━━━━━━━━━━━━━━━━━━━━━━━━━━━\u001b[0m \u001b[32m64.9/64.9 kB\u001b[0m \u001b[31m5.9 MB/s\u001b[0m eta \u001b[36m0:00:00\u001b[0m\n",
            "\u001b[?25hCollecting xxhash (from datasets>=2.7.1->transformer_lens)\n",
            "  Downloading xxhash-3.4.1-cp310-cp310-manylinux_2_17_x86_64.manylinux2014_x86_64.whl (194 kB)\n",
            "\u001b[2K     \u001b[90m━━━━━━━━━━━━━━━━━━━━━━━━━━━━━━━━━━━━━━━━\u001b[0m \u001b[32m194.1/194.1 kB\u001b[0m \u001b[31m12.7 MB/s\u001b[0m eta \u001b[36m0:00:00\u001b[0m\n",
            "\u001b[?25hCollecting multiprocess (from datasets>=2.7.1->transformer_lens)\n",
            "  Downloading multiprocess-0.70.16-py310-none-any.whl (134 kB)\n",
            "\u001b[2K     \u001b[90m━━━━━━━━━━━━━━━━━━━━━━━━━━━━━━━━━━━━━━━━\u001b[0m \u001b[32m134.8/134.8 kB\u001b[0m \u001b[31m15.0 MB/s\u001b[0m eta \u001b[36m0:00:00\u001b[0m\n",
            "\u001b[?25hRequirement already satisfied: fsspec[http]<=2024.3.1,>=2023.1.0 in /usr/local/lib/python3.10/dist-packages (from datasets>=2.7.1->transformer_lens) (2023.6.0)\n",
            "Requirement already satisfied: aiohttp in /usr/local/lib/python3.10/dist-packages (from datasets>=2.7.1->transformer_lens) (3.9.5)\n",
            "Collecting typeguard==2.13.3 (from jaxtyping>=0.2.11->transformer_lens)\n",
            "  Downloading typeguard-2.13.3-py3-none-any.whl (17 kB)\n",
            "Requirement already satisfied: python-dateutil>=2.8.2 in /usr/local/lib/python3.10/dist-packages (from pandas>=1.1.5->transformer_lens) (2.8.2)\n",
            "Requirement already satisfied: pytz>=2020.1 in /usr/local/lib/python3.10/dist-packages (from pandas>=1.1.5->transformer_lens) (2023.4)\n",
            "Requirement already satisfied: tzdata>=2022.1 in /usr/local/lib/python3.10/dist-packages (from pandas>=1.1.5->transformer_lens) (2024.1)\n",
            "Requirement already satisfied: markdown-it-py>=2.2.0 in /usr/local/lib/python3.10/dist-packages (from rich>=12.6.0->transformer_lens) (3.0.0)\n",
            "Requirement already satisfied: pygments<3.0.0,>=2.13.0 in /usr/local/lib/python3.10/dist-packages (from rich>=12.6.0->transformer_lens) (2.16.1)\n",
            "Requirement already satisfied: sympy in /usr/local/lib/python3.10/dist-packages (from torch>=1.10->transformer_lens) (1.12.1)\n",
            "Requirement already satisfied: networkx in /usr/local/lib/python3.10/dist-packages (from torch>=1.10->transformer_lens) (3.3)\n",
            "Requirement already satisfied: jinja2 in /usr/local/lib/python3.10/dist-packages (from torch>=1.10->transformer_lens) (3.1.4)\n",
            "Collecting nvidia-cuda-nvrtc-cu12==12.1.105 (from torch>=1.10->transformer_lens)\n",
            "  Using cached nvidia_cuda_nvrtc_cu12-12.1.105-py3-none-manylinux1_x86_64.whl (23.7 MB)\n",
            "Collecting nvidia-cuda-runtime-cu12==12.1.105 (from torch>=1.10->transformer_lens)\n",
            "  Using cached nvidia_cuda_runtime_cu12-12.1.105-py3-none-manylinux1_x86_64.whl (823 kB)\n",
            "Collecting nvidia-cuda-cupti-cu12==12.1.105 (from torch>=1.10->transformer_lens)\n",
            "  Using cached nvidia_cuda_cupti_cu12-12.1.105-py3-none-manylinux1_x86_64.whl (14.1 MB)\n",
            "Collecting nvidia-cudnn-cu12==8.9.2.26 (from torch>=1.10->transformer_lens)\n",
            "  Using cached nvidia_cudnn_cu12-8.9.2.26-py3-none-manylinux1_x86_64.whl (731.7 MB)\n",
            "Collecting nvidia-cublas-cu12==12.1.3.1 (from torch>=1.10->transformer_lens)\n",
            "  Using cached nvidia_cublas_cu12-12.1.3.1-py3-none-manylinux1_x86_64.whl (410.6 MB)\n",
            "Collecting nvidia-cufft-cu12==11.0.2.54 (from torch>=1.10->transformer_lens)\n",
            "  Using cached nvidia_cufft_cu12-11.0.2.54-py3-none-manylinux1_x86_64.whl (121.6 MB)\n",
            "Collecting nvidia-curand-cu12==10.3.2.106 (from torch>=1.10->transformer_lens)\n",
            "  Using cached nvidia_curand_cu12-10.3.2.106-py3-none-manylinux1_x86_64.whl (56.5 MB)\n",
            "Collecting nvidia-cusolver-cu12==11.4.5.107 (from torch>=1.10->transformer_lens)\n",
            "  Using cached nvidia_cusolver_cu12-11.4.5.107-py3-none-manylinux1_x86_64.whl (124.2 MB)\n",
            "Collecting nvidia-cusparse-cu12==12.1.0.106 (from torch>=1.10->transformer_lens)\n",
            "  Using cached nvidia_cusparse_cu12-12.1.0.106-py3-none-manylinux1_x86_64.whl (196.0 MB)\n",
            "Collecting nvidia-nccl-cu12==2.20.5 (from torch>=1.10->transformer_lens)\n",
            "  Using cached nvidia_nccl_cu12-2.20.5-py3-none-manylinux2014_x86_64.whl (176.2 MB)\n",
            "Collecting nvidia-nvtx-cu12==12.1.105 (from torch>=1.10->transformer_lens)\n",
            "  Using cached nvidia_nvtx_cu12-12.1.105-py3-none-manylinux1_x86_64.whl (99 kB)\n",
            "Requirement already satisfied: triton==2.3.0 in /usr/local/lib/python3.10/dist-packages (from torch>=1.10->transformer_lens) (2.3.0)\n",
            "Collecting nvidia-nvjitlink-cu12 (from nvidia-cusolver-cu12==11.4.5.107->torch>=1.10->transformer_lens)\n",
            "  Downloading nvidia_nvjitlink_cu12-12.5.40-py3-none-manylinux2014_x86_64.whl (21.3 MB)\n",
            "\u001b[2K     \u001b[90m━━━━━━━━━━━━━━━━━━━━━━━━━━━━━━━━━━━━━━━━\u001b[0m \u001b[32m21.3/21.3 MB\u001b[0m \u001b[31m61.9 MB/s\u001b[0m eta \u001b[36m0:00:00\u001b[0m\n",
            "\u001b[?25hRequirement already satisfied: regex!=2019.12.17 in /usr/local/lib/python3.10/dist-packages (from transformers>=4.37.2->transformer_lens) (2024.5.15)\n",
            "Requirement already satisfied: tokenizers<0.20,>=0.19 in /usr/local/lib/python3.10/dist-packages (from transformers>=4.37.2->transformer_lens) (0.19.1)\n",
            "Requirement already satisfied: click!=8.0.0,>=7.1 in /usr/local/lib/python3.10/dist-packages (from wandb>=0.13.5->transformer_lens) (8.1.7)\n",
            "Collecting docker-pycreds>=0.4.0 (from wandb>=0.13.5->transformer_lens)\n",
            "  Downloading docker_pycreds-0.4.0-py2.py3-none-any.whl (9.0 kB)\n",
            "Collecting gitpython!=3.1.29,>=1.0.0 (from wandb>=0.13.5->transformer_lens)\n",
            "  Downloading GitPython-3.1.43-py3-none-any.whl (207 kB)\n",
            "\u001b[2K     \u001b[90m━━━━━━━━━━━━━━━━━━━━━━━━━━━━━━━━━━━━━━━━\u001b[0m \u001b[32m207.3/207.3 kB\u001b[0m \u001b[31m27.5 MB/s\u001b[0m eta \u001b[36m0:00:00\u001b[0m\n",
            "\u001b[?25hRequirement already satisfied: platformdirs in /usr/local/lib/python3.10/dist-packages (from wandb>=0.13.5->transformer_lens) (4.2.2)\n",
            "Requirement already satisfied: protobuf!=4.21.0,<5,>=3.19.0 in /usr/local/lib/python3.10/dist-packages (from wandb>=0.13.5->transformer_lens) (3.20.3)\n",
            "Collecting sentry-sdk>=1.0.0 (from wandb>=0.13.5->transformer_lens)\n",
            "  Downloading sentry_sdk-2.4.0-py2.py3-none-any.whl (289 kB)\n",
            "\u001b[2K     \u001b[90m━━━━━━━━━━━━━━━━━━━━━━━━━━━━━━━━━━━━━━━━\u001b[0m \u001b[32m289.2/289.2 kB\u001b[0m \u001b[31m35.2 MB/s\u001b[0m eta \u001b[36m0:00:00\u001b[0m\n",
            "\u001b[?25hCollecting setproctitle (from wandb>=0.13.5->transformer_lens)\n",
            "  Downloading setproctitle-1.3.3-cp310-cp310-manylinux_2_5_x86_64.manylinux1_x86_64.manylinux_2_17_x86_64.manylinux2014_x86_64.whl (30 kB)\n",
            "Requirement already satisfied: setuptools in /usr/local/lib/python3.10/dist-packages (from wandb>=0.13.5->transformer_lens) (67.7.2)\n",
            "Requirement already satisfied: six>=1.4.0 in /usr/local/lib/python3.10/dist-packages (from docker-pycreds>=0.4.0->wandb>=0.13.5->transformer_lens) (1.16.0)\n",
            "Requirement already satisfied: aiosignal>=1.1.2 in /usr/local/lib/python3.10/dist-packages (from aiohttp->datasets>=2.7.1->transformer_lens) (1.3.1)\n",
            "Requirement already satisfied: attrs>=17.3.0 in /usr/local/lib/python3.10/dist-packages (from aiohttp->datasets>=2.7.1->transformer_lens) (23.2.0)\n",
            "Requirement already satisfied: frozenlist>=1.1.1 in /usr/local/lib/python3.10/dist-packages (from aiohttp->datasets>=2.7.1->transformer_lens) (1.4.1)\n",
            "Requirement already satisfied: multidict<7.0,>=4.5 in /usr/local/lib/python3.10/dist-packages (from aiohttp->datasets>=2.7.1->transformer_lens) (6.0.5)\n",
            "Requirement already satisfied: yarl<2.0,>=1.0 in /usr/local/lib/python3.10/dist-packages (from aiohttp->datasets>=2.7.1->transformer_lens) (1.9.4)\n",
            "Requirement already satisfied: async-timeout<5.0,>=4.0 in /usr/local/lib/python3.10/dist-packages (from aiohttp->datasets>=2.7.1->transformer_lens) (4.0.3)\n",
            "Collecting gitdb<5,>=4.0.1 (from gitpython!=3.1.29,>=1.0.0->wandb>=0.13.5->transformer_lens)\n",
            "  Downloading gitdb-4.0.11-py3-none-any.whl (62 kB)\n",
            "\u001b[2K     \u001b[90m━━━━━━━━━━━━━━━━━━━━━━━━━━━━━━━━━━━━━━━━\u001b[0m \u001b[32m62.7/62.7 kB\u001b[0m \u001b[31m8.7 MB/s\u001b[0m eta \u001b[36m0:00:00\u001b[0m\n",
            "\u001b[?25hRequirement already satisfied: mdurl~=0.1 in /usr/local/lib/python3.10/dist-packages (from markdown-it-py>=2.2.0->rich>=12.6.0->transformer_lens) (0.1.2)\n",
            "Requirement already satisfied: charset-normalizer<4,>=2 in /usr/local/lib/python3.10/dist-packages (from requests>=2.32.1->datasets>=2.7.1->transformer_lens) (3.3.2)\n",
            "Requirement already satisfied: idna<4,>=2.5 in /usr/local/lib/python3.10/dist-packages (from requests>=2.32.1->datasets>=2.7.1->transformer_lens) (3.7)\n",
            "Requirement already satisfied: urllib3<3,>=1.21.1 in /usr/local/lib/python3.10/dist-packages (from requests>=2.32.1->datasets>=2.7.1->transformer_lens) (2.0.7)\n",
            "Requirement already satisfied: certifi>=2017.4.17 in /usr/local/lib/python3.10/dist-packages (from requests>=2.32.1->datasets>=2.7.1->transformer_lens) (2024.2.2)\n",
            "Requirement already satisfied: MarkupSafe>=2.0 in /usr/local/lib/python3.10/dist-packages (from jinja2->torch>=1.10->transformer_lens) (2.1.5)\n",
            "Requirement already satisfied: mpmath<1.4.0,>=1.1.0 in /usr/local/lib/python3.10/dist-packages (from sympy->torch>=1.10->transformer_lens) (1.3.0)\n",
            "Collecting smmap<6,>=3.0.1 (from gitdb<5,>=4.0.1->gitpython!=3.1.29,>=1.0.0->wandb>=0.13.5->transformer_lens)\n",
            "  Downloading smmap-5.0.1-py3-none-any.whl (24 kB)\n",
            "Installing collected packages: better-abc, xxhash, typeguard, smmap, setproctitle, sentry-sdk, requests, nvidia-nvtx-cu12, nvidia-nvjitlink-cu12, nvidia-nccl-cu12, nvidia-curand-cu12, nvidia-cufft-cu12, nvidia-cuda-runtime-cu12, nvidia-cuda-nvrtc-cu12, nvidia-cuda-cupti-cu12, nvidia-cublas-cu12, fancy-einsum, einops, docker-pycreds, dill, beartype, nvidia-cusparse-cu12, nvidia-cudnn-cu12, multiprocess, jaxtyping, gitdb, nvidia-cusolver-cu12, gitpython, wandb, datasets, accelerate, transformer_lens\n",
            "  Attempting uninstall: requests\n",
            "    Found existing installation: requests 2.31.0\n",
            "    Uninstalling requests-2.31.0:\n",
            "      Successfully uninstalled requests-2.31.0\n",
            "\u001b[31mERROR: pip's dependency resolver does not currently take into account all the packages that are installed. This behaviour is the source of the following dependency conflicts.\n",
            "google-colab 1.0.0 requires requests==2.31.0, but you have requests 2.32.3 which is incompatible.\u001b[0m\u001b[31m\n",
            "\u001b[0mSuccessfully installed accelerate-0.30.1 beartype-0.14.1 better-abc-0.0.3 datasets-2.19.2 dill-0.3.8 docker-pycreds-0.4.0 einops-0.8.0 fancy-einsum-0.0.3 gitdb-4.0.11 gitpython-3.1.43 jaxtyping-0.2.29 multiprocess-0.70.16 nvidia-cublas-cu12-12.1.3.1 nvidia-cuda-cupti-cu12-12.1.105 nvidia-cuda-nvrtc-cu12-12.1.105 nvidia-cuda-runtime-cu12-12.1.105 nvidia-cudnn-cu12-8.9.2.26 nvidia-cufft-cu12-11.0.2.54 nvidia-curand-cu12-10.3.2.106 nvidia-cusolver-cu12-11.4.5.107 nvidia-cusparse-cu12-12.1.0.106 nvidia-nccl-cu12-2.20.5 nvidia-nvjitlink-cu12-12.5.40 nvidia-nvtx-cu12-12.1.105 requests-2.32.3 sentry-sdk-2.4.0 setproctitle-1.3.3 smmap-5.0.1 transformer_lens-2.0.0 typeguard-2.13.3 wandb-0.17.0 xxhash-3.4.1\n",
            "Requirement already satisfied: einops in /usr/local/lib/python3.10/dist-packages (0.8.0)\n",
            "Requirement already satisfied: jaxtyping in /usr/local/lib/python3.10/dist-packages (0.2.29)\n",
            "Requirement already satisfied: typeguard==2.13.3 in /usr/local/lib/python3.10/dist-packages (from jaxtyping) (2.13.3)\n",
            "Collecting git+https://github.com/callummcdougall/CircuitsVis.git#subdirectory=python\n",
            "  Cloning https://github.com/callummcdougall/CircuitsVis.git to /tmp/pip-req-build-fofj0h3z\n",
            "  Running command git clone --filter=blob:none --quiet https://github.com/callummcdougall/CircuitsVis.git /tmp/pip-req-build-fofj0h3z\n",
            "  Resolved https://github.com/callummcdougall/CircuitsVis.git to commit 1e6129d08cae7af9242d9ab5d3ed322dd44b4dd3\n",
            "  Installing build dependencies ... \u001b[?25l\u001b[?25hdone\n",
            "  Getting requirements to build wheel ... \u001b[?25l\u001b[?25hdone\n",
            "  Preparing metadata (pyproject.toml) ... \u001b[?25l\u001b[?25hdone\n",
            "Collecting importlib-metadata<6.0.0,>=5.1.0 (from circuitsvis==0.0.0)\n",
            "  Downloading importlib_metadata-5.2.0-py3-none-any.whl (21 kB)\n",
            "Requirement already satisfied: numpy<2.0,>=1.23 in /usr/local/lib/python3.10/dist-packages (from circuitsvis==0.0.0) (1.25.2)\n",
            "Requirement already satisfied: torch<3.0,>=2.0 in /usr/local/lib/python3.10/dist-packages (from circuitsvis==0.0.0) (2.3.0+cu121)\n",
            "Requirement already satisfied: zipp>=0.5 in /usr/local/lib/python3.10/dist-packages (from importlib-metadata<6.0.0,>=5.1.0->circuitsvis==0.0.0) (3.19.0)\n",
            "Requirement already satisfied: filelock in /usr/local/lib/python3.10/dist-packages (from torch<3.0,>=2.0->circuitsvis==0.0.0) (3.14.0)\n",
            "Requirement already satisfied: typing-extensions>=4.8.0 in /usr/local/lib/python3.10/dist-packages (from torch<3.0,>=2.0->circuitsvis==0.0.0) (4.12.0)\n",
            "Requirement already satisfied: sympy in /usr/local/lib/python3.10/dist-packages (from torch<3.0,>=2.0->circuitsvis==0.0.0) (1.12.1)\n",
            "Requirement already satisfied: networkx in /usr/local/lib/python3.10/dist-packages (from torch<3.0,>=2.0->circuitsvis==0.0.0) (3.3)\n",
            "Requirement already satisfied: jinja2 in /usr/local/lib/python3.10/dist-packages (from torch<3.0,>=2.0->circuitsvis==0.0.0) (3.1.4)\n",
            "Requirement already satisfied: fsspec in /usr/local/lib/python3.10/dist-packages (from torch<3.0,>=2.0->circuitsvis==0.0.0) (2023.6.0)\n",
            "Requirement already satisfied: nvidia-cuda-nvrtc-cu12==12.1.105 in /usr/local/lib/python3.10/dist-packages (from torch<3.0,>=2.0->circuitsvis==0.0.0) (12.1.105)\n",
            "Requirement already satisfied: nvidia-cuda-runtime-cu12==12.1.105 in /usr/local/lib/python3.10/dist-packages (from torch<3.0,>=2.0->circuitsvis==0.0.0) (12.1.105)\n",
            "Requirement already satisfied: nvidia-cuda-cupti-cu12==12.1.105 in /usr/local/lib/python3.10/dist-packages (from torch<3.0,>=2.0->circuitsvis==0.0.0) (12.1.105)\n",
            "Requirement already satisfied: nvidia-cudnn-cu12==8.9.2.26 in /usr/local/lib/python3.10/dist-packages (from torch<3.0,>=2.0->circuitsvis==0.0.0) (8.9.2.26)\n",
            "Requirement already satisfied: nvidia-cublas-cu12==12.1.3.1 in /usr/local/lib/python3.10/dist-packages (from torch<3.0,>=2.0->circuitsvis==0.0.0) (12.1.3.1)\n",
            "Requirement already satisfied: nvidia-cufft-cu12==11.0.2.54 in /usr/local/lib/python3.10/dist-packages (from torch<3.0,>=2.0->circuitsvis==0.0.0) (11.0.2.54)\n",
            "Requirement already satisfied: nvidia-curand-cu12==10.3.2.106 in /usr/local/lib/python3.10/dist-packages (from torch<3.0,>=2.0->circuitsvis==0.0.0) (10.3.2.106)\n",
            "Requirement already satisfied: nvidia-cusolver-cu12==11.4.5.107 in /usr/local/lib/python3.10/dist-packages (from torch<3.0,>=2.0->circuitsvis==0.0.0) (11.4.5.107)\n",
            "Requirement already satisfied: nvidia-cusparse-cu12==12.1.0.106 in /usr/local/lib/python3.10/dist-packages (from torch<3.0,>=2.0->circuitsvis==0.0.0) (12.1.0.106)\n",
            "Requirement already satisfied: nvidia-nccl-cu12==2.20.5 in /usr/local/lib/python3.10/dist-packages (from torch<3.0,>=2.0->circuitsvis==0.0.0) (2.20.5)\n",
            "Requirement already satisfied: nvidia-nvtx-cu12==12.1.105 in /usr/local/lib/python3.10/dist-packages (from torch<3.0,>=2.0->circuitsvis==0.0.0) (12.1.105)\n",
            "Requirement already satisfied: triton==2.3.0 in /usr/local/lib/python3.10/dist-packages (from torch<3.0,>=2.0->circuitsvis==0.0.0) (2.3.0)\n",
            "Requirement already satisfied: nvidia-nvjitlink-cu12 in /usr/local/lib/python3.10/dist-packages (from nvidia-cusolver-cu12==11.4.5.107->torch<3.0,>=2.0->circuitsvis==0.0.0) (12.5.40)\n",
            "Requirement already satisfied: MarkupSafe>=2.0 in /usr/local/lib/python3.10/dist-packages (from jinja2->torch<3.0,>=2.0->circuitsvis==0.0.0) (2.1.5)\n",
            "Requirement already satisfied: mpmath<1.4.0,>=1.1.0 in /usr/local/lib/python3.10/dist-packages (from sympy->torch<3.0,>=2.0->circuitsvis==0.0.0) (1.3.0)\n",
            "Building wheels for collected packages: circuitsvis\n",
            "  Building wheel for circuitsvis (pyproject.toml) ... \u001b[?25l\u001b[?25hdone\n",
            "  Created wheel for circuitsvis: filename=circuitsvis-0.0.0-py3-none-any.whl size=6172334 sha256=59415c32edc93016c6c42f3b4833706a3be43b700e7573be5495cc7c0ec5f306\n",
            "  Stored in directory: /tmp/pip-ephem-wheel-cache-p1i8tp_z/wheels/86/be/ad/78078aba9344d200aad61b63d35cdaecdec160212f039eed74\n",
            "Successfully built circuitsvis\n",
            "Installing collected packages: importlib-metadata, circuitsvis\n",
            "  Attempting uninstall: importlib-metadata\n",
            "    Found existing installation: importlib_metadata 7.1.0\n",
            "    Uninstalling importlib_metadata-7.1.0:\n",
            "      Successfully uninstalled importlib_metadata-7.1.0\n",
            "Successfully installed circuitsvis-0.0.0 importlib-metadata-5.2.0\n",
            "--2024-06-05 09:33:07--  https://github.com/callummcdougall/ARENA_3.0/archive/refs/heads/main.zip\n",
            "Resolving github.com (github.com)... 140.82.112.3\n",
            "Connecting to github.com (github.com)|140.82.112.3|:443... connected.\n",
            "HTTP request sent, awaiting response... 302 Found\n",
            "Location: https://codeload.github.com/callummcdougall/ARENA_3.0/zip/refs/heads/main [following]\n",
            "--2024-06-05 09:33:07--  https://codeload.github.com/callummcdougall/ARENA_3.0/zip/refs/heads/main\n",
            "Resolving codeload.github.com (codeload.github.com)... 140.82.112.10\n",
            "Connecting to codeload.github.com (codeload.github.com)|140.82.112.10|:443... connected.\n",
            "HTTP request sent, awaiting response... 200 OK\n",
            "Length: unspecified [application/zip]\n",
            "Saving to: ‘main.zip’\n",
            "\n",
            "main.zip                [   <=>              ]  81.63M  8.66MB/s    in 9.9s    \n",
            "\n",
            "2024-06-05 09:33:17 (8.22 MB/s) - ‘main.zip’ saved [85591229]\n",
            "\n",
            "Archive:  /content/main.zip\n",
            "dabe50e031e979f1e82a2fcc6b5a9a2172271269\n",
            "   creating: ARENA_3.0-main/chapter1_transformer_interp/exercises/\n",
            "   creating: ARENA_3.0-main/chapter1_transformer_interp/exercises/monthly_algorithmic_problems/\n",
            "   creating: ARENA_3.0-main/chapter1_transformer_interp/exercises/monthly_algorithmic_problems/august23_unique_char/\n",
            "  inflating: ARENA_3.0-main/chapter1_transformer_interp/exercises/monthly_algorithmic_problems/august23_unique_char/dataset.py  \n",
            "  inflating: ARENA_3.0-main/chapter1_transformer_interp/exercises/monthly_algorithmic_problems/august23_unique_char/first_unique_char_model.pt  \n",
            "  inflating: ARENA_3.0-main/chapter1_transformer_interp/exercises/monthly_algorithmic_problems/august23_unique_char/model.py  \n",
            "  inflating: ARENA_3.0-main/chapter1_transformer_interp/exercises/monthly_algorithmic_problems/august23_unique_char/training.py  \n",
            "  inflating: ARENA_3.0-main/chapter1_transformer_interp/exercises/monthly_algorithmic_problems/august23_unique_char/training_model.ipynb  \n",
            "   creating: ARENA_3.0-main/chapter1_transformer_interp/exercises/monthly_algorithmic_problems/january24_caesar_cipher/\n",
            "  inflating: ARENA_3.0-main/chapter1_transformer_interp/exercises/monthly_algorithmic_problems/january24_caesar_cipher/caesar_cipher_model_easy.pt  \n",
            "  inflating: ARENA_3.0-main/chapter1_transformer_interp/exercises/monthly_algorithmic_problems/january24_caesar_cipher/caesar_cipher_model_hard.pt  \n",
            "  inflating: ARENA_3.0-main/chapter1_transformer_interp/exercises/monthly_algorithmic_problems/january24_caesar_cipher/caesar_cipher_model_medium.pt  \n",
            "  inflating: ARENA_3.0-main/chapter1_transformer_interp/exercises/monthly_algorithmic_problems/january24_caesar_cipher/dataset.py  \n",
            "  inflating: ARENA_3.0-main/chapter1_transformer_interp/exercises/monthly_algorithmic_problems/january24_caesar_cipher/hitchhikers.txt  \n",
            "  inflating: ARENA_3.0-main/chapter1_transformer_interp/exercises/monthly_algorithmic_problems/january24_caesar_cipher/model.py  \n",
            "  inflating: ARENA_3.0-main/chapter1_transformer_interp/exercises/monthly_algorithmic_problems/january24_caesar_cipher/training.py  \n",
            "  inflating: ARENA_3.0-main/chapter1_transformer_interp/exercises/monthly_algorithmic_problems/january24_caesar_cipher/training_model.ipynb  \n",
            "   creating: ARENA_3.0-main/chapter1_transformer_interp/exercises/monthly_algorithmic_problems/july23_palindromes/\n",
            "  inflating: ARENA_3.0-main/chapter1_transformer_interp/exercises/monthly_algorithmic_problems/july23_palindromes/dataset.py  \n",
            "  inflating: ARENA_3.0-main/chapter1_transformer_interp/exercises/monthly_algorithmic_problems/july23_palindromes/model.py  \n",
            "  inflating: ARENA_3.0-main/chapter1_transformer_interp/exercises/monthly_algorithmic_problems/july23_palindromes/palindrome_classifier.pt  \n",
            "  inflating: ARENA_3.0-main/chapter1_transformer_interp/exercises/monthly_algorithmic_problems/july23_palindromes/training.py  \n",
            "  inflating: ARENA_3.0-main/chapter1_transformer_interp/exercises/monthly_algorithmic_problems/july23_palindromes/training_model.ipynb  \n",
            "   creating: ARENA_3.0-main/chapter1_transformer_interp/exercises/monthly_algorithmic_problems/november23_cumsum/\n",
            "  inflating: ARENA_3.0-main/chapter1_transformer_interp/exercises/monthly_algorithmic_problems/november23_cumsum/cumsum_model.pt  \n",
            "  inflating: ARENA_3.0-main/chapter1_transformer_interp/exercises/monthly_algorithmic_problems/november23_cumsum/dataset.py  \n",
            "  inflating: ARENA_3.0-main/chapter1_transformer_interp/exercises/monthly_algorithmic_problems/november23_cumsum/model.py  \n",
            "  inflating: ARENA_3.0-main/chapter1_transformer_interp/exercises/monthly_algorithmic_problems/november23_cumsum/training.py  \n",
            "  inflating: ARENA_3.0-main/chapter1_transformer_interp/exercises/monthly_algorithmic_problems/november23_cumsum/training_model.ipynb  \n",
            "   creating: ARENA_3.0-main/chapter1_transformer_interp/exercises/monthly_algorithmic_problems/october23_sorted_list/\n",
            "  inflating: ARENA_3.0-main/chapter1_transformer_interp/exercises/monthly_algorithmic_problems/october23_sorted_list/dataset.py  \n",
            "  inflating: ARENA_3.0-main/chapter1_transformer_interp/exercises/monthly_algorithmic_problems/october23_sorted_list/model.py  \n",
            "  inflating: ARENA_3.0-main/chapter1_transformer_interp/exercises/monthly_algorithmic_problems/october23_sorted_list/sorted_list_model.pt  \n",
            "  inflating: ARENA_3.0-main/chapter1_transformer_interp/exercises/monthly_algorithmic_problems/october23_sorted_list/training.py  \n",
            "  inflating: ARENA_3.0-main/chapter1_transformer_interp/exercises/monthly_algorithmic_problems/october23_sorted_list/training_model.ipynb  \n",
            "   creating: ARENA_3.0-main/chapter1_transformer_interp/exercises/monthly_algorithmic_problems/september23_sum/\n",
            "  inflating: ARENA_3.0-main/chapter1_transformer_interp/exercises/monthly_algorithmic_problems/september23_sum/dataset.py  \n",
            "  inflating: ARENA_3.0-main/chapter1_transformer_interp/exercises/monthly_algorithmic_problems/september23_sum/model.py  \n",
            "  inflating: ARENA_3.0-main/chapter1_transformer_interp/exercises/monthly_algorithmic_problems/september23_sum/sum_model.pt  \n",
            "  inflating: ARENA_3.0-main/chapter1_transformer_interp/exercises/monthly_algorithmic_problems/september23_sum/training.py  \n",
            "  inflating: ARENA_3.0-main/chapter1_transformer_interp/exercises/monthly_algorithmic_problems/september23_sum/training_model.ipynb  \n",
            "   creating: ARENA_3.0-main/chapter1_transformer_interp/exercises/part1_transformer_from_scratch/\n",
            "  inflating: ARENA_3.0-main/chapter1_transformer_interp/exercises/part1_transformer_from_scratch/solutions.py  \n",
            "  inflating: ARENA_3.0-main/chapter1_transformer_interp/exercises/part1_transformer_from_scratch/tests.py  \n",
            "   creating: ARENA_3.0-main/chapter1_transformer_interp/exercises/part2_intro_to_mech_interp/\n",
            "  inflating: ARENA_3.0-main/chapter1_transformer_interp/exercises/part2_intro_to_mech_interp/solutions.py  \n",
            "  inflating: ARENA_3.0-main/chapter1_transformer_interp/exercises/part2_intro_to_mech_interp/tests.py  \n",
            "   creating: ARENA_3.0-main/chapter1_transformer_interp/exercises/part3_indirect_object_identification/\n",
            "  inflating: ARENA_3.0-main/chapter1_transformer_interp/exercises/part3_indirect_object_identification/ioi_circuit_extraction.py  \n",
            "  inflating: ARENA_3.0-main/chapter1_transformer_interp/exercises/part3_indirect_object_identification/ioi_dataset.py  \n",
            "  inflating: ARENA_3.0-main/chapter1_transformer_interp/exercises/part3_indirect_object_identification/solutions.py  \n",
            "  inflating: ARENA_3.0-main/chapter1_transformer_interp/exercises/part3_indirect_object_identification/tests.py  \n",
            "   creating: ARENA_3.0-main/chapter1_transformer_interp/exercises/part4_superposition_and_saes/\n",
            "  inflating: ARENA_3.0-main/chapter1_transformer_interp/exercises/part4_superposition_and_saes/solutions.py  \n",
            "  inflating: ARENA_3.0-main/chapter1_transformer_interp/exercises/part4_superposition_and_saes/tests.py  \n",
            "  inflating: ARENA_3.0-main/chapter1_transformer_interp/exercises/part4_superposition_and_saes/utils.py  \n",
            "   creating: ARENA_3.0-main/chapter1_transformer_interp/exercises/part5_function_vectors_and_model_steering/\n",
            "   creating: ARENA_3.0-main/chapter1_transformer_interp/exercises/part5_function_vectors_and_model_steering/data/\n",
            "  inflating: ARENA_3.0-main/chapter1_transformer_interp/exercises/part5_function_vectors_and_model_steering/data/antonym_pairs.txt  \n",
            "  inflating: ARENA_3.0-main/chapter1_transformer_interp/exercises/part5_function_vectors_and_model_steering/data/country_capital_pairs.txt  \n",
            "  inflating: ARENA_3.0-main/chapter1_transformer_interp/exercises/part5_function_vectors_and_model_steering/data/test_fn_vector.pt  \n",
            "  inflating: ARENA_3.0-main/chapter1_transformer_interp/exercises/part5_function_vectors_and_model_steering/data/test_fn_vector_1.pt  \n",
            "  inflating: ARENA_3.0-main/chapter1_transformer_interp/exercises/part5_function_vectors_and_model_steering/data/test_fn_vector_2.pt  \n",
            "  inflating: ARENA_3.0-main/chapter1_transformer_interp/exercises/part5_function_vectors_and_model_steering/data/test_h.pt  \n",
            "  inflating: ARENA_3.0-main/chapter1_transformer_interp/exercises/part5_function_vectors_and_model_steering/solutions.py  \n",
            "  inflating: ARENA_3.0-main/chapter1_transformer_interp/exercises/part5_function_vectors_and_model_steering/tests.py  \n",
            "   creating: ARENA_3.0-main/chapter1_transformer_interp/exercises/part6_othellogpt/\n",
            "  inflating: ARENA_3.0-main/chapter1_transformer_interp/exercises/part6_othellogpt/solutions.py  \n",
            "  inflating: ARENA_3.0-main/chapter1_transformer_interp/exercises/part6_othellogpt/tests.py  \n",
            "   creating: ARENA_3.0-main/chapter1_transformer_interp/exercises/part7_balanced_bracket_classifier/\n",
            "  inflating: ARENA_3.0-main/chapter1_transformer_interp/exercises/part7_balanced_bracket_classifier/brackets_data.json  \n",
            "  inflating: ARENA_3.0-main/chapter1_transformer_interp/exercises/part7_balanced_bracket_classifier/brackets_datasets.py  \n",
            "  inflating: ARENA_3.0-main/chapter1_transformer_interp/exercises/part7_balanced_bracket_classifier/brackets_model_state_dict.pt  \n",
            "  inflating: ARENA_3.0-main/chapter1_transformer_interp/exercises/part7_balanced_bracket_classifier/solutions.py  \n",
            "  inflating: ARENA_3.0-main/chapter1_transformer_interp/exercises/part7_balanced_bracket_classifier/tests.py  \n",
            "   creating: ARENA_3.0-main/chapter1_transformer_interp/exercises/part8_grokking_and_modular_arithmetic/\n",
            "  inflating: ARENA_3.0-main/chapter1_transformer_interp/exercises/part8_grokking_and_modular_arithmetic/my_utils.py  \n",
            "  inflating: ARENA_3.0-main/chapter1_transformer_interp/exercises/part8_grokking_and_modular_arithmetic/solutions.py  \n",
            "  inflating: ARENA_3.0-main/chapter1_transformer_interp/exercises/part8_grokking_and_modular_arithmetic/tests.py  \n",
            "  inflating: ARENA_3.0-main/chapter1_transformer_interp/exercises/plotly_utils.py  \n"
          ]
        }
      ],
      "source": [
        "try:\n",
        "    import google.colab # type: ignore\n",
        "    IN_COLAB = True\n",
        "except:\n",
        "    IN_COLAB = False\n",
        "\n",
        "import os, sys\n",
        "chapter = \"chapter1_transformer_interp\"\n",
        "repo = \"ARENA_3.0\"\n",
        "\n",
        "if IN_COLAB:\n",
        "    # Install packages\n",
        "    %pip install transformer_lens\n",
        "    %pip install einops\n",
        "    %pip install jaxtyping\n",
        "    %pip install git+https://github.com/callummcdougall/CircuitsVis.git#subdirectory=python\n",
        "\n",
        "    # Code to download the necessary files (e.g. solutions, test funcs)\n",
        "    if not os.path.exists(f\"/content/{chapter}\"):\n",
        "        !wget https://github.com/callummcdougall/ARENA_3.0/archive/refs/heads/main.zip\n",
        "        !unzip /content/main.zip 'ARENA_3.0-main/chapter1_transformer_interp/exercises/*'\n",
        "        sys.path.append(f\"/content/{repo}-main/{chapter}/exercises\")\n",
        "        os.remove(\"/content/main.zip\")\n",
        "        os.rename(f\"{repo}-main/{chapter}\", chapter)\n",
        "        os.rmdir(f\"{repo}-main\")\n",
        "        os.chdir(f\"{chapter}/exercises\")\n",
        "else:\n",
        "    chapter_dir = r\"./\" if chapter in os.listdir() else os.getcwd().split(chapter)[0]\n",
        "    sys.path.append(chapter_dir + f\"{chapter}/exercises\")"
      ]
    },
    {
      "cell_type": "code",
      "execution_count": 2,
      "metadata": {
        "id": "5g0vLQbLdbSQ"
      },
      "outputs": [],
      "source": [
        "import os\n",
        "import sys\n",
        "import plotly.express as px\n",
        "import torch as t\n",
        "from torch import Tensor\n",
        "import torch.nn as nn\n",
        "import torch.nn.functional as F\n",
        "from pathlib import Path\n",
        "import numpy as np\n",
        "import einops\n",
        "from jaxtyping import Int, Float\n",
        "from typing import List, Optional, Tuple\n",
        "import functools\n",
        "from tqdm import tqdm\n",
        "from IPython.display import display\n",
        "import webbrowser\n",
        "import gdown\n",
        "from transformer_lens.hook_points import HookPoint\n",
        "from transformer_lens import utils, HookedTransformer, HookedTransformerConfig, FactoredMatrix, ActivationCache\n",
        "import circuitsvis as cv\n",
        "\n",
        "# Make sure exercises are in the path\n",
        "exercises_dir = Path(f\"{os.getcwd().split(chapter)[0]}/{chapter}/exercises\").resolve()\n",
        "section_dir = (exercises_dir / \"part2_intro_to_mech_interp\").resolve()\n",
        "if str(exercises_dir) not in sys.path: sys.path.append(str(exercises_dir))\n",
        "\n",
        "from plotly_utils import imshow, hist, plot_comp_scores, plot_logit_attribution, plot_loss_difference\n",
        "from part1_transformer_from_scratch.solutions import get_log_probs\n",
        "import part2_intro_to_mech_interp.tests as tests\n",
        "\n",
        "# Saves computation time, since we don't need it for the contents of this notebook\n",
        "t.set_grad_enabled(False)\n",
        "\n",
        "device = t.device(\"cuda\" if t.cuda.is_available() else \"cpu\")\n",
        "\n",
        "MAIN = __name__ == \"__main__\""
      ]
    },
    {
      "cell_type": "markdown",
      "metadata": {
        "id": "3whcqc4-B2i2"
      },
      "source": [
        "# 1️⃣ TransformerLens: Introduction\n"
      ]
    },
    {
      "cell_type": "markdown",
      "metadata": {
        "id": "XpHooQYXB2Ry"
      },
      "source": [
        "> ##### Learning objectives\n",
        ">\n",
        "> - Load and run a `HookedTransformer` model\n",
        "> - Understand the basic architecture of these models\n",
        "> - Use the model's tokenizer to convert text to tokens, and vice versa\n",
        "> - Know how to cache activations, and to access activations from the cache\n",
        "> - Use `circuitsvis` to visualise attention heads\n"
      ]
    },
    {
      "cell_type": "markdown",
      "metadata": {
        "id": "4mWSmayGCGd_"
      },
      "source": [
        "## Introduction\n",
        "\n",
        "*Note - most of this is written from the POV of Neel Nanda.*\n",
        "\n",
        "This is a demo notebook for [TransformerLens](https://github.com/neelnanda-io/TransformerLens), **a library I ([Neel Nanda](neelnanda.io)) wrote for doing [mechanistic interpretability](https://distill.pub/2020/circuits/zoom-in/) of GPT-2 Style language models.** The goal of mechanistic interpretability is to take a trained model and reverse engineer the algorithms the model learned during training from its weights. It is a fact about the world today that we have computer programs that can essentially speak English at a human level (GPT-3, PaLM, etc), yet we have no idea how they work nor how to write one ourselves. This offends me greatly, and I would like to solve this! Mechanistic interpretability is a very young and small field, and there are a *lot* of open problems - if you would like to help, please try working on one! **Check out my [list of concrete open problems](https://docs.google.com/document/d/1WONBzNqfKIxERejrrPlQMyKqg7jSFW92x5UMXNrMdPo/edit#) to figure out where to start.**\n",
        "\n",
        "I wrote this library because after I left the Anthropic interpretability team and started doing independent research, I got extremely frustrated by the state of open source tooling. There's a lot of excellent infrastructure like HuggingFace and DeepSpeed to *use* or *train* models, but very little to dig into their internals and reverse engineer how they work. **This library tries to solve that**, and to make it easy to get into the field even if you don't work at an industry org with real infrastructure! The core features were heavily inspired by [Anthropic's excellent Garcon tool](https://transformer-circuits.pub/2021/garcon/index.html). Credit to Nelson Elhage and Chris Olah for building Garcon and showing me the value of good infrastructure for accelerating exploratory research!\n",
        "\n",
        "The core design principle I've followed is to enable exploratory analysis - one of the most fun parts of mechanistic interpretability compared to normal ML is the extremely short feedback loops! The point of this library is to keep the gap between having an experiment idea and seeing the results as small as possible, to make it easy for **research to feel like play** and to enter a flow state. This notebook demonstrates how the library works and how to use it, but if you want to see how well it works for exploratory research, check out [my notebook analysing Indirect Objection Identification](https://github.com/neelnanda-io/TransformerLens/blob/main/Exploratory_Analysis_Demo.ipynb) or [my recording of myself doing research](https://www.youtube.com/watch?v=yo4QvDn-vsU)!\n"
      ]
    },
    {
      "cell_type": "markdown",
      "metadata": {
        "id": "hV9UWb03CJFk"
      },
      "source": [
        "## Loading and Running Models\n",
        "\n",
        "TransformerLens comes loaded with >40 open source GPT-style models. You can load any of them in with `HookedTransformer.from_pretrained(MODEL_NAME)`. For this demo notebook we'll look at GPT-2 Small, an 80M parameter model, see the Available Models section for info on the rest.\n"
      ]
    },
    {
      "cell_type": "code",
      "execution_count": 3,
      "metadata": {
        "id": "oAjxyDmVCVbh",
        "colab": {
          "base_uri": "https://localhost:8080/",
          "height": 422,
          "referenced_widgets": [
            "6467494d72c4473dab840050cdd9968e",
            "d98ebb9ddab74406b382b3bbcab9a275",
            "7e9bcc6c896c40f0b7b268883317c43a",
            "5e8d4a1123eb4d0289f90f6e8694e714",
            "0bfa9e00837c44a588a145818d8d3e3e",
            "772d7dca984c42239844a32edc22440e",
            "53562668a17c404eb42ab3fcbe4be4ad",
            "874dca215264417094d93fc1d1035771",
            "6f9fdf32b9ab4adb8b6f6475e216588d",
            "f6b66533b5124b86baa9883bf14ae245",
            "dab747a148af4056b6b6ca3f83b722a9",
            "d4112fd583f44706af37bd68becc288c",
            "1e9e3076c1574e0182766d3ea5c604c6",
            "0da2c3d594e44c9ca542904d0d8d75ea",
            "67fe32da43ba46ad9c101098c1103a29",
            "54a3f17e036c4b7dad3827351029d654",
            "7c9704f5b550420791ac385a858b1960",
            "0b28fcc417804ec4ba0866998a50f93d",
            "328583df454148a1959dda674e354225",
            "1e9d00a094d747d7b7f6b4f8a3e32bc4",
            "fda938cf14fa4714bafb0d77b78fa181",
            "7855b0d8a64140afa3610c45d0788bb5",
            "d6c0d7dff8b7450da01711546580ec2e",
            "45cc3ef430a14b039dba83d16ce30a8a",
            "bed5c34b62c34a45b202ae83f5c2acee",
            "8b53ba038e5b4aaaa30ef5a0124711e5",
            "003cca16dca14a1db48a7308ec28ab13",
            "7a962c2789cc4c599c3f4983423516e0",
            "2614517e97d4460d8dd06962cadaefce",
            "1e52aaaf5da54df8baa6c0a8e1168504",
            "c159b26671fa49e5a0f80382a9de7589",
            "d9fdc86997e64156bfc90c1d365c754b",
            "823c9830f01e4ff595075f42efa7b1ef",
            "2c185a70a7994c64985a6bdf373d6015",
            "5acfe9fc76134aca9a4a23a6c4a760f3",
            "6eee037566574cc886dff428bc936a79",
            "795aa41453f74a61aac69a28c08ba999",
            "da405ed3140845ddb9b98272d24e2487",
            "a5336fe7e702423783cb9bcfe0902626",
            "504c62fe8f2742ce8701ec23257d215c",
            "cbaedddedb454a1a98346e7577ef68bf",
            "8143de469ce64fb1acb63a28a65b807c",
            "054b315739bc4e66ab185e0e1110b779",
            "d586512ae1914ed980905f0b77cd291f",
            "e63a2dd9b41d4f17aeb9190d5a8d5ce1",
            "ac68c38d5a5846caab4f30de7803a82b",
            "00e8cb2401184b68a7766efb9bcdf211",
            "876b2abd548649859601f2457b7625f9",
            "cc5a1a33333e48a680daa2b3913af3f1",
            "706de1346698447db4a8c5274c4807f2",
            "47d5126642e9422a8bba6d0829c2ecc5",
            "ed67de1e7d7e4b4eb8bb3ebfed3d66a0",
            "4ba3d3737f6346bc97ea36b8f4d98b87",
            "2858ef7eee524d9c89cce76ddac7043e",
            "2ac4f63642af4a7b80338ee94bce2e25",
            "596a84df8c274a0d89e2b92fdeae86e4",
            "5e336f58e95d436a879886c9c8e92ddc",
            "aa9e32c073d543abb81b77689a2f839e",
            "a2b7005fa09346079031d09ea95c9faa",
            "9db6c755afa845ef8f0dedbb19b7c3a2",
            "4367e1f991d74ca2bfad0e97ca976e45",
            "a7aed603811d4fc69aed372e9350f7d4",
            "bddf45b31cf240569edd4bca20fb657d",
            "51fcca01f2704080a65fe35b366a0958",
            "5b8328ccf2ed4f53b767a1a7d1363e30",
            "96825c81c6c94bcc9925b6571786cd85",
            "2819bf25888d4d3d939fef4ebe96bd94",
            "13002ffd2e8d43829aa2ace4ef7d7f20",
            "0392cc919ca94ae0a8df7631e09cf0b9",
            "8db10430f2e643658a62258d7efaae4c",
            "f74358ee867a48cb82ca311e10284f2a",
            "1ba98502f61b49808a532d1eda0f4f5b",
            "44baed368e3242729a60b4fa066f8b84",
            "abfe21c3cca24ed6a629ff3b58845f90",
            "6dd3961dfdf14faa9027b695abd48e24",
            "1d37e3564d0247cba3ddfadddb53117e",
            "6b1c8f084e404a8d9a54be0362b3e0a6"
          ]
        },
        "outputId": "dfa321e2-b508-4258-a049-e9bb54ba48a6"
      },
      "outputs": [
        {
          "output_type": "stream",
          "name": "stderr",
          "text": [
            "/usr/local/lib/python3.10/dist-packages/huggingface_hub/file_download.py:1132: FutureWarning: `resume_download` is deprecated and will be removed in version 1.0.0. Downloads always resume when possible. If you want to force a new download, use `force_download=True`.\n",
            "  warnings.warn(\n",
            "/usr/local/lib/python3.10/dist-packages/huggingface_hub/utils/_token.py:89: UserWarning: \n",
            "The secret `HF_TOKEN` does not exist in your Colab secrets.\n",
            "To authenticate with the Hugging Face Hub, create a token in your settings tab (https://huggingface.co/settings/tokens), set it as secret in your Google Colab and restart your session.\n",
            "You will be able to reuse this secret in all of your notebooks.\n",
            "Please note that authentication is recommended but still optional to access public models or datasets.\n",
            "  warnings.warn(\n"
          ]
        },
        {
          "output_type": "display_data",
          "data": {
            "text/plain": [
              "config.json:   0%|          | 0.00/665 [00:00<?, ?B/s]"
            ],
            "application/vnd.jupyter.widget-view+json": {
              "version_major": 2,
              "version_minor": 0,
              "model_id": "6467494d72c4473dab840050cdd9968e"
            }
          },
          "metadata": {}
        },
        {
          "output_type": "display_data",
          "data": {
            "text/plain": [
              "model.safetensors:   0%|          | 0.00/548M [00:00<?, ?B/s]"
            ],
            "application/vnd.jupyter.widget-view+json": {
              "version_major": 2,
              "version_minor": 0,
              "model_id": "d4112fd583f44706af37bd68becc288c"
            }
          },
          "metadata": {}
        },
        {
          "output_type": "display_data",
          "data": {
            "text/plain": [
              "generation_config.json:   0%|          | 0.00/124 [00:00<?, ?B/s]"
            ],
            "application/vnd.jupyter.widget-view+json": {
              "version_major": 2,
              "version_minor": 0,
              "model_id": "d6c0d7dff8b7450da01711546580ec2e"
            }
          },
          "metadata": {}
        },
        {
          "output_type": "display_data",
          "data": {
            "text/plain": [
              "tokenizer_config.json:   0%|          | 0.00/26.0 [00:00<?, ?B/s]"
            ],
            "application/vnd.jupyter.widget-view+json": {
              "version_major": 2,
              "version_minor": 0,
              "model_id": "2c185a70a7994c64985a6bdf373d6015"
            }
          },
          "metadata": {}
        },
        {
          "output_type": "display_data",
          "data": {
            "text/plain": [
              "vocab.json:   0%|          | 0.00/1.04M [00:00<?, ?B/s]"
            ],
            "application/vnd.jupyter.widget-view+json": {
              "version_major": 2,
              "version_minor": 0,
              "model_id": "e63a2dd9b41d4f17aeb9190d5a8d5ce1"
            }
          },
          "metadata": {}
        },
        {
          "output_type": "display_data",
          "data": {
            "text/plain": [
              "merges.txt:   0%|          | 0.00/456k [00:00<?, ?B/s]"
            ],
            "application/vnd.jupyter.widget-view+json": {
              "version_major": 2,
              "version_minor": 0,
              "model_id": "596a84df8c274a0d89e2b92fdeae86e4"
            }
          },
          "metadata": {}
        },
        {
          "output_type": "display_data",
          "data": {
            "text/plain": [
              "tokenizer.json:   0%|          | 0.00/1.36M [00:00<?, ?B/s]"
            ],
            "application/vnd.jupyter.widget-view+json": {
              "version_major": 2,
              "version_minor": 0,
              "model_id": "2819bf25888d4d3d939fef4ebe96bd94"
            }
          },
          "metadata": {}
        },
        {
          "output_type": "stream",
          "name": "stdout",
          "text": [
            "Loaded pretrained model gpt2-small into HookedTransformer\n"
          ]
        }
      ],
      "source": [
        "gpt2_small: HookedTransformer = HookedTransformer.from_pretrained(\"gpt2-small\")"
      ]
    },
    {
      "cell_type": "markdown",
      "metadata": {
        "id": "6Bz6GYhGCWi_"
      },
      "source": [
        "### HookedTransformerConfig\n",
        "\n",
        "Alternatively, you can define a config object, then call `HookedTransformer.from_config(cfg)` to define your model. This is particularly useful when you want to have finer control over the architecture of your model. We'll see an example of this in the next section, when we define an attention-only model to study induction heads.\n",
        "\n",
        "Even if you don't define your model in this way, you can still access the config object through the `cfg` attribute of the model.\n"
      ]
    },
    {
      "cell_type": "markdown",
      "metadata": {
        "id": "iOZFAhYyCK-P"
      },
      "source": [
        "### Exercise - inspect your model\n",
        "\n",
        "```c\n",
        "Difficulty: 🔴⚪⚪⚪⚪\n",
        "Importance: 🔵🔵🔵⚪⚪\n",
        "```\n",
        "\n",
        "Use `gpt2_small.cfg` to find the following, for your GPT-2 Small model:\n",
        "\n",
        "* Number of layers\n",
        "* Number of heads per layer\n",
        "* Maximum context window\n",
        "\n",
        "You might have to check out the documentation page for some of these. If you're in VSCode then you can reach it by right-clicking on `HookedTransformerConfig` and choosing \"Go to definition\". If you're in Colab, then you can read the [GitHub page](https://github.com/neelnanda-io/TransformerLens).\n",
        "\n",
        "<details>\n",
        "<summary>Answer</summary>\n",
        "\n",
        "The following parameters in the config object give you the answers:\n",
        "\n",
        "```\n",
        "cfg.n_layers == 12\n",
        "cfg.n_heads == 12\n",
        "cfg.n_ctx == 1024\n",
        "```\n",
        "\n",
        "</details>\n"
      ]
    },
    {
      "cell_type": "markdown",
      "metadata": {
        "id": "iQ4GFi5TDe5j"
      },
      "source": [
        "### Running your model\n",
        "\n",
        "Models can be run on a single string or a tensor of tokens (shape: `[batch, position]`, all integers). The possible return types are:\n",
        "\n",
        "* `\"logits\"` (shape `[batch, position, d_vocab]`, floats),\n",
        "* `\"loss\"` (the cross-entropy loss when predicting the next token),\n",
        "* `\"both\"` (a tuple of `(logits, loss)`)\n",
        "* `None` (run the model, but don't calculate the logits - this is faster when we only want to use intermediate activations)\n"
      ]
    },
    {
      "cell_type": "code",
      "execution_count": 4,
      "metadata": {
        "id": "hgDUf25tDiDK",
        "colab": {
          "base_uri": "https://localhost:8080/"
        },
        "outputId": "a5ba596a-350c-4db7-902d-a9cefa1d4a3f"
      },
      "outputs": [
        {
          "output_type": "stream",
          "name": "stdout",
          "text": [
            "Model loss: tensor(4.3443)\n"
          ]
        }
      ],
      "source": [
        "model_description_text = '''## Loading Models\n",
        "\n",
        "HookedTransformer comes loaded with >40 open source GPT-style models. You can load any of them in with `HookedTransformer.from_pretrained(MODEL_NAME)`. Each model is loaded into the consistent HookedTransformer architecture, designed to be clean, consistent and interpretability-friendly.\n",
        "\n",
        "For this demo notebook we'll look at GPT-2 Small, an 80M parameter model. To try the model the model out, let's find the loss on this paragraph!'''\n",
        "\n",
        "loss = gpt2_small(model_description_text, return_type=\"loss\")\n",
        "print(\"Model loss:\", loss)"
      ]
    },
    {
      "cell_type": "markdown",
      "metadata": {
        "id": "mYBk1eymDi5X"
      },
      "source": [
        "## Transformer architecture\n",
        "\n",
        "HookedTransformer is a somewhat adapted GPT-2 architecture, but is computationally identical. The most significant changes are to the internal structure of the attention heads:\n",
        "\n",
        "* The weights `W_K`, `W_Q`, `W_V` mapping the residual stream to queries, keys and values are 3 separate matrices, rather than big concatenated one.\n",
        "* The weight matrices `W_K`, `W_Q`, `W_V`, `W_O` and activations have separate `head_index` and `d_head` axes, rather than flattening them into one big axis.\n",
        "    * The activations all have shape `[batch, position, head_index, d_head]`.\n",
        "    * `W_K`, `W_Q`, `W_V` have shape `[head_index, d_model, d_head]` and `W_O` has shape `[head_index, d_head, d_model]`\n",
        "* **Important - we generally follow the convention that weight matrices multiply on the right rather than the left.** In other words, they have shape `[input, output]`, and we have `new_activation = old_activation @ weights + bias`.\n",
        "    * Click the dropdown below for examples of this, if it seems unintuitive.\n",
        "\n",
        "<details>\n",
        "<summary>Examples of matrix multiplication in our model</summary>\n",
        "\n",
        "* **Query matrices**\n",
        "    * Each query matrix `W_Q` for a particular layer and head has shape `[d_model, d_head]`.\n",
        "    * So if a vector `x` in the residual stream has length `d_model`, then the corresponding query vector is `x @ W_Q`, which has length `d_head`.\n",
        "* **Embedding matrix**\n",
        "    * The embedding matrix `W_E` has shape `[d_vocab, d_model]`.\n",
        "    * So if `A` is a one-hot-encoded vector of length `d_vocab` corresponding to a particular token, then the embedding vector for this token is `A @ W_E`, which has length `d_model`.\n",
        "\n",
        "</details>\n",
        "\n",
        "The actual code is a bit of a mess, as there's a variety of Boolean flags to make it consistent with the various different model families in TransformerLens - to understand it and the internal structure, I instead recommend reading the code in [CleanTransformerDemo](https://colab.research.google.com/github/neelnanda-io/TransformerLens/blob/clean-transformer-demo/Clean_Transformer_Demo.ipynb).\n"
      ]
    },
    {
      "cell_type": "markdown",
      "metadata": {
        "id": "GfFvQsrgDx1t"
      },
      "source": [
        "### Parameters and Activations\n",
        "\n",
        "It's important to distinguish between parameters and activations in the model.\n",
        "\n",
        "* **Parameters** are the weights and biases that are learned during training.\n",
        "    * These don't change when the model input changes.\n",
        "    * They can be accessed direction from the model, e.g. `model.W_E` for the embedding matrix.\n",
        "* **Activations** are temporary numbers calculated during a forward pass, that are functions of the input.\n",
        "    * We can think of these values as only existing for the duration of a single forward pass, and disappearing afterwards.\n",
        "    * We can use hooks to access these values during a forward pass (more on hooks later), but it doesn't make sense to talk about a model's activations outside the context of some particular input.\n",
        "    * Attention scores and patterns are activations (this is slightly non-intuitve because they're used in a matrix multiplication with another activation).\n",
        "\n",
        "The link below shows a diagram of a single layer (called a `TransformerBlock`) for an attention-only model with no biases. Each box corresponds to an **activation** (and also tells you the name of the corresponding hook point, which we will eventually use to access those activations). The red text below each box tells you the shape of the activation (ignoring the batch dimension). Each arrow corresponds to an operation on an activation; where there are **parameters** involved these are labelled on the arrows.\n",
        "\n",
        "[Link to diagram](https://raw.githubusercontent.com/callummcdougall/computational-thread-art/master/example_images/misc/small-merm.svg)\n",
        "\n",
        "The next link is to a diagram of a `TransformerBlock` with full features (including biases, layernorms, and MLPs). Don't worry if not all of this makes sense at first - we'll return to some of the details later. As we work with these transformers, we'll get more comfortable with their architecture.\n",
        "\n",
        "[Link to diagram](https://raw.githubusercontent.com/callummcdougall/computational-thread-art/master/example_images/misc/full-merm.svg)\n"
      ]
    },
    {
      "cell_type": "markdown",
      "metadata": {
        "id": "niAB4j1rEJok"
      },
      "source": [
        "A few shortctus to make your lives easier when using these models:\n",
        "\n",
        "* You can index weights like `W_Q` directly from the model via e.g. `model.blocks[0].attn.W_Q` (which gives you the `[nheads, d_model, d_head]` query weights for all heads in layer 0).\n",
        "    * But an easier way is just to index with `model.W_Q`, which gives you the `[nlayers, nheads, d_model, d_head]` tensor containing **every** query weight in the model.\n",
        "* Similarly, there exist shortcuts `model.W_E`, `model.W_U` and `model.W_pos` for the embeddings, unembeddings and positional embeddings respectively.\n",
        "* With models containing MLP layers, you also have `model.W_in` and `model.W_out` for the linear layers.\n",
        "* The same is true for all biases (e.g. `model.b_Q` for all query biases).\n"
      ]
    },
    {
      "cell_type": "markdown",
      "metadata": {
        "id": "ZMVYV4leEKbL"
      },
      "source": [
        "## Tokenization\n",
        "\n",
        "The tokenizer is stored inside the model, and you can access it using `model.tokenizer`. There are also a few helper methods that call the tokenizer under the hood, for instance:\n",
        "\n",
        "* `model.to_str_tokens(text)` converts a string into a list of tokens-as-strings (or a list of strings into a list of lists of tokens-as-strings).\n",
        "* `model.to_tokens(text)` converts a string into a tensor of tokens.\n",
        "* `model.to_string(tokens)` converts a tensor of tokens into a string.\n",
        "\n",
        "Examples of use:\n"
      ]
    },
    {
      "cell_type": "code",
      "execution_count": 5,
      "metadata": {
        "id": "uhYz1-TIENg8",
        "colab": {
          "base_uri": "https://localhost:8080/"
        },
        "outputId": "d2efe339-91ab-4409-803c-67cd1832f0c8"
      },
      "outputs": [
        {
          "output_type": "stream",
          "name": "stdout",
          "text": [
            "['<|endoftext|>', 'g', 'pt', '2']\n",
            "[['<|endoftext|>', 'g', 'pt', '2'], ['<|endoftext|>', 'g', 'pt', '2']]\n",
            "tensor([[50256,    70,   457,    17]])\n",
            "<|endoftext|>gpt2\n"
          ]
        }
      ],
      "source": [
        "print(gpt2_small.to_str_tokens(\"gpt2\"))\n",
        "print(gpt2_small.to_str_tokens([\"gpt2\", \"gpt2\"]))\n",
        "print(gpt2_small.to_tokens(\"gpt2\"))\n",
        "print(gpt2_small.to_string([50256, 70, 457, 17]))"
      ]
    },
    {
      "cell_type": "markdown",
      "metadata": {
        "id": "Bqi4ia9gEQ0H"
      },
      "source": [
        "<details>\n",
        "<summary>Aside - <code><|endoftext|></code></summary>\n",
        "\n",
        "A weirdness you may have noticed in the above is that `to_tokens` and `to_str_tokens` added a weird `<|endoftext|>` to the start of each prompt. We encountered this in the previous set of exercises, and noted that this was the **Beginning of Sequence (BOS)** token (which for GPT-2 is also the same as the EOS and PAD tokens - index `50256`.\n",
        "\n",
        "TransformerLens appends this token by default, and it can easily trip up new users. Notably, **this includes** `model.forward` (which is what's implicitly used when you do eg `model(\"Hello World\")`). You can disable this behaviour by setting the flag `prepend_bos=False` in `to_tokens`, `to_str_tokens`, `model.forward` and any other function that converts strings to multi-token tensors.\n",
        "\n",
        "`prepend_bos` is a bit of a hack, and I've gone back and forth on what the correct default here is. The reason I do this is that transformers tend to treat the first token weirdly - this doesn't really matter in training (where all inputs are >1000 tokens), but this can be a big issue when investigating short prompts! The reason for this is that attention patterns are a probability distribution and so need to add up to one, so to simulate being \"off\" they normally look at the first token. Giving them a BOS token lets the heads rest by looking at that, preserving the information in the first \"real\" token.\n",
        "\n",
        "Further, *some* models are trained to need a BOS token (OPT and my interpretability-friendly models are, GPT-2 and GPT-Neo are not). But despite GPT-2 not being trained with this, empirically it seems to make interpretability easier.\n",
        "\n",
        "</details>\n"
      ]
    },
    {
      "cell_type": "markdown",
      "metadata": {
        "id": "n1dzElw0EdAu"
      },
      "source": [
        "### Exercise - how many tokens does your model guess correctly?\n",
        "\n",
        "```c\n",
        "Difficulty: 🔴🔴⚪⚪⚪\n",
        "Importance: 🔵🔵🔵⚪⚪\n",
        "\n",
        "You should spend up to ~10 minutes on this exercise.\n",
        "```\n",
        "\n",
        "Consider the `model_description_text` you fed into your model above. How many tokens did your model guess correctly? Which tokens were correct?\n"
      ]
    },
    {
      "cell_type": "code",
      "execution_count": 8,
      "metadata": {
        "id": "bELe8BuHEgCa",
        "colab": {
          "base_uri": "https://localhost:8080/"
        },
        "outputId": "aa485752-b6c4-4966-ffe9-d8a3f4c2956b"
      },
      "outputs": [
        {
          "output_type": "stream",
          "name": "stdout",
          "text": [
            "tensor(33)\n"
          ]
        }
      ],
      "source": [
        "logits: Tensor = gpt2_small(model_description_text, return_type=\"logits\")\n",
        "prediction = logits.argmax(dim=-1).squeeze()[:-1]\n",
        "# YOUR CODE HERE - get the model's prediction on the text\n",
        "tokens = gpt2_small.to_tokens(model_description_text).squeeze()\n",
        "correct_tokens = (prediction == tokens[1:]).sum()\n",
        "print(correct_tokens)"
      ]
    },
    {
      "cell_type": "markdown",
      "metadata": {
        "id": "n3DrdBkEEiRA"
      },
      "source": [
        "<details>\n",
        "<summary>Hint</summary>\n",
        "\n",
        "Use `return_type=\"logits\"` to get the model's predictions, then take argmax across the vocab dimension. Then, compare these predictions with the actual tokens, derived from the `model_description_text`.\n",
        "\n",
        "Remember, you should be comparing the `[:-1]`th elements of this tensor of predictions with the `[1:]`th elements of the input tokens (because your model's output represents a probability distribution over the *next* token, not the current one).\n",
        "\n",
        "Also, remember to handle the batch dimension (since `logits`, and the output of `to_tokens`, will both have batch dimensions by default).\n",
        "\n",
        "</details>\n",
        "\n",
        "<details>\n",
        "<summary>Answer - what you should see</summary>\n",
        "\n",
        "```\n",
        "Model accuracy: 33/111\n",
        "Correct tokens: ['\\n', '\\n', 'former', ' with', ' models', '.', ' can', ' of', 'ooked', 'Trans', 'former', '_', 'NAME', '`.', ' model', ' the', 'Trans', 'former', ' to', ' be', ' and', '-', '.', '\\n', '\\n', ' at', 'PT', '-', ',', ' model', ',', \"'s\", ' the']\n",
        "```\n",
        "\n",
        "So the model got 33 out of 111 tokens correct. Not too bad!\n",
        "\n",
        "</details>"
      ]
    },
    {
      "cell_type": "markdown",
      "metadata": {
        "id": "UX_lpxWuEm4P"
      },
      "source": [
        "**Induction heads** are a special kind of attention head which we'll examine a lot more in coming exercises. They allow a model to perform in-context learning of a specific form: generalising from one observation that token `B` follows token `A`, to predict that token `B` will follow `A` in future occurrences of `A`, even if these two tokens had never appeared together in the model's training data.\n",
        "\n",
        "**Can you see evidence of any induction heads at work, on this text?**\n",
        "\n",
        "<details>\n",
        "<summary>Evidence of induction heads</summary>\n",
        "\n",
        "The evidence for induction heads comes from the fact that the model successfully predicted `'ooked', 'Trans', 'former'` following the token `'H'`. This is because it's the second time that `HookedTransformer` had appeared in this text string, and the model predicted it the second time but not the first. (The model did predict `former` the first time, but we can reasonably assume that `Transformer` is a word this model had already been exposed to during training, so this prediction wouldn't require the induction capability, unlike `HookedTransformer`.)\n",
        "\n",
        "```python\n",
        "print(gpt2_small.to_str_tokens(\"HookedTransformer\", prepend_bos=False))     # --> ['H', 'ooked', 'Trans', 'former']\n",
        "```\n",
        "</details>\n"
      ]
    },
    {
      "cell_type": "markdown",
      "metadata": {
        "id": "cTaC3NSKFZBm"
      },
      "source": [
        "## Caching all Activations\n",
        "\n",
        "The first basic operation when doing mechanistic interpretability is to break open the black box of the model and look at all of the internal activations of a model. This can be done with `logits, cache = model.run_with_cache(tokens)`. Let's try this out, on the first sentence from the GPT-2 paper.\n",
        "\n",
        "<details>\n",
        "<summary>Aside - a note on <code>remove_batch_dim</code></summary>\n",
        "\n",
        "Every activation inside the model begins with a batch dimension. Here, because we only entered a single batch dimension, that dimension is always length 1 and kinda annoying, so passing in the `remove_batch_dim=True` keyword removes it.\n",
        "\n",
        "`gpt2_cache_no_batch_dim = gpt2_cache.remove_batch_dim()` would have achieved the same effect.\n",
        "</details>\n"
      ]
    },
    {
      "cell_type": "code",
      "execution_count": 9,
      "metadata": {
        "id": "5qVoXngtFtdX"
      },
      "outputs": [],
      "source": [
        "gpt2_text = \"Natural language processing tasks, such as question answering, machine translation, reading comprehension, and summarization, are typically approached with supervised learning on taskspecific datasets.\"\n",
        "gpt2_tokens = gpt2_small.to_tokens(gpt2_text)\n",
        "gpt2_logits, gpt2_cache = gpt2_small.run_with_cache(gpt2_tokens, remove_batch_dim=True)"
      ]
    },
    {
      "cell_type": "markdown",
      "metadata": {
        "id": "rSHVuoxUFwrz"
      },
      "source": [
        "If you inspect the `gpt2_cache` object, you should see that it contains a very large number of keys, each one corresponding to a different activation in the model. You can access the keys by indexing the cache directly, or by a more convenient indexing shorthand. For instance, the code:\n"
      ]
    },
    {
      "cell_type": "code",
      "execution_count": 10,
      "metadata": {
        "id": "g6S7nL1SFxlm"
      },
      "outputs": [],
      "source": [
        "attn_patterns_layer_0 = gpt2_cache[\"pattern\", 0]"
      ]
    },
    {
      "cell_type": "markdown",
      "metadata": {
        "id": "6CPykIduFz6C"
      },
      "source": [
        "returns the same thing as:\n"
      ]
    },
    {
      "cell_type": "code",
      "execution_count": 11,
      "metadata": {
        "id": "PIsPKXKOF2KA"
      },
      "outputs": [],
      "source": [
        "attn_patterns_layer_0_copy = gpt2_cache[\"blocks.0.attn.hook_pattern\"]\n",
        "\n",
        "t.testing.assert_close(attn_patterns_layer_0, attn_patterns_layer_0_copy)"
      ]
    },
    {
      "cell_type": "markdown",
      "metadata": {
        "id": "efgg9LEEF33O"
      },
      "source": [
        "<details>\n",
        "<summary>Aside: <code>utils.get_act_name</code></summary>\n",
        "\n",
        "The reason these are the same is that, under the hood, the first example actually indexes by `utils.get_act_name(\"pattern\", 0)`, which evaluates to `\"blocks.0.attn.hook_pattern\"`.\n",
        "\n",
        "In general, `utils.get_act_name` is a useful function for getting the full name of an activation, given its short name and layer number.\n",
        "\n",
        "You can use the diagram from the **Transformer Architecture** section to help you find activation names.\n",
        "</details>\n"
      ]
    },
    {
      "cell_type": "markdown",
      "metadata": {
        "id": "deNLzOcuF9yP"
      },
      "source": [
        "### Exercise - verify activations\n",
        "\n",
        "```c\n",
        "Difficulty: 🔴🔴🔴⚪⚪\n",
        "Importance: 🔵🔵🔵⚪⚪\n",
        "\n",
        "You should spend up to 10-15 minutes on this exercise.\n",
        "\n",
        "If you're already comfortable implementing things like attention calculations (e.g. having gone through Neel's transformer walkthrough) you can skip this exercise. However, it might serve as a useful refresher.\n",
        "```\n",
        "\n",
        "Verify that `hook_q`, `hook_k` and `hook_pattern` are related to each other in the way implied by the diagram. Do this by computing `layer0_pattern_from_cache` (the attention pattern taken directly from the cache, for layer 0) and `layer0_pattern_from_q_and_k` (the attention pattern calculated from `hook_q` and `hook_k`, for layer 0). Remember that attention pattern is the probabilities, so you'll need to scale and softmax appropriately.\n"
      ]
    },
    {
      "cell_type": "code",
      "execution_count": 13,
      "metadata": {
        "id": "gi6rAACXGHAY",
        "colab": {
          "base_uri": "https://localhost:8080/"
        },
        "outputId": "8fbc1fbb-3633-4ea1-8b2b-fffcdebb30a3"
      },
      "outputs": [
        {
          "output_type": "stream",
          "name": "stdout",
          "text": [
            "Tests passed!\n"
          ]
        }
      ],
      "source": [
        "layer0_pattern_from_cache = gpt2_cache[\"pattern\", 0]\n",
        "\n",
        "# YOUR CODE HERE - define `layer0_pattern_from_q_and_k` manually, by manually performing the steps of the attention calculation (dot product, masking, scaling, softmax)\n",
        "q = gpt2_cache[\"q\", 0]\n",
        "k = gpt2_cache[\"k\", 0]\n",
        "attn_scores  = einops.einsum(q, k, 'sq nh dh, sk nh dh -> nh sq sk')\n",
        "seq, n_head, d_head = q.shape\n",
        "sf = d_head ** 0.5\n",
        "attn_scores = attn_scores / sf\n",
        "mask = t.triu(t.ones((seq, seq), dtype=bool), diagonal=1).to(device)\n",
        "attn_scores.masked_fill_(mask, -1e9)\n",
        "layer0_pattern_from_q_and_k = attn_scores.softmax(dim=-1)\n",
        "t.testing.assert_close(layer0_pattern_from_cache, layer0_pattern_from_q_and_k)\n",
        "print(\"Tests passed!\")"
      ]
    },
    {
      "cell_type": "markdown",
      "metadata": {
        "id": "3FDUELPcGC0W"
      },
      "source": [
        "<details>\n",
        "<summary>Hint</summary>\n",
        "\n",
        "You'll need to use three different cache indexes in all:\n",
        "\n",
        "* `gpt2_cache[\"pattern\", 0]` to get the attention patterns, which have shape `[seqQ, seqK]`\n",
        "* `gpt2_cache[\"q\", 0]` to get the query vectors, which have shape `[seqQ, nhead, headsize]`\n",
        "* `gpt2_cache[\"k\", 0]` to get the key vectors, which have shape `[seqK, nhead, headsize]`\n",
        "\n",
        "</details>\n"
      ]
    },
    {
      "cell_type": "markdown",
      "metadata": {
        "id": "dAfJSiXBGRin"
      },
      "source": [
        "## Visualising Attention Heads\n",
        "\n",
        "A key insight from the Mathematical Frameworks paper is that we should focus on interpreting the parts of the model that are intrinsically interpretable - the input tokens, the output logits and the attention patterns. Everything else (the residual stream, keys, queries, values, etc) are compressed intermediate states when calculating meaningful things. So a natural place to start is classifying heads by their attention patterns on various texts.\n",
        "\n",
        "When doing interpretability, it's always good to begin by visualising your data, rather than taking summary statistics. Summary statistics can be super misleading! But now that we have visualised the attention patterns, we can create some basic summary statistics and use our visualisations to validate them! (Accordingly, being good at web dev/data visualisation is a surprisingly useful skillset! Neural networks are very high-dimensional object.)\n",
        "\n",
        "Let's visualize the attention pattern of all the heads in layer 0, using [Alan Cooney's CircuitsVis library](https://github.com/alan-cooney/CircuitsVis) (based on Anthropic's PySvelte library). If you did the previous set of exercises, you'll have seen this library before.\n",
        "\n",
        "We will use the function `cv.attention.attention_patterns`, which takes two important arguments:\n",
        "\n",
        "* `attention`: Attention head activations.\n",
        "    * This should be a tensor of shape `[nhead, seq_dest, seq_src]`, i.e. the `[i, :, :]`th element is the grid of attention patterns (probabilities) for the `i`th attention head.\n",
        "    * We get this by indexing our `gpt2_cache` object.\n",
        "* `tokens`: List of tokens (e.g. `[\"A\", \"person\"]`).\n",
        "    * Sequence length must match that inferred from `attention`.\n",
        "    * This is used to label the grid.\n",
        "    * We get this by using the `gpt2_small.to_str_tokens` method.\n",
        "\n",
        "(Another optional argument is `attention_head_names`, which is useful if you don't just want the heads to show up as \"Head 0\", \"Head 1\", ... in the visualisation. Also, note that we can use `cv.attention.attention_patterns` too, which has the same syntax but presents information differently, and can be more helpful in some cases.)\n",
        "\n",
        "<details>\n",
        "<summary>Help - my <code>attention_heads</code> plots are behaving weirdly (e.g. they continually shrink after I plot them).</summary>\n",
        "\n",
        "This seems to be a bug in `circuitsvis` - on VSCode, the attention head plots continually shrink in size.\n",
        "\n",
        "Until this is fixed, one way to get around it is to open the plots in your browser. You can do this inline with the `webbrowser` library:\n",
        "\n",
        "```python\n",
        "attn_heads = cv.attention.attention_heads(\n",
        "    tokens=gpt2_str_tokens,\n",
        "    attention=attention_pattern,\n",
        "    attention_head_names=[f\"L0H{i}\" for i in range(12)],\n",
        ")\n",
        "\n",
        "path = \"attn_heads.html\"\n",
        "\n",
        "with open(path, \"w\") as f:\n",
        "    f.write(str(attn_heads))\n",
        "\n",
        "webbrowser.open(path)\n",
        "```\n",
        "\n",
        "To check exactly where this is getting saved, you can print your current working directory with `os.getcwd()`.\n",
        "</details>\n",
        "\n",
        "This visualization is interactive! Try hovering over a token or head, and click to lock. The grid on the top left and for each head is the attention pattern as a destination position by source position grid. It's lower triangular because GPT-2 has **causal attention**, attention can only look backwards, so information can only move forwards in the network.\n"
      ]
    },
    {
      "cell_type": "code",
      "execution_count": 14,
      "metadata": {
        "id": "Pm7LUCkYGjcV",
        "colab": {
          "base_uri": "https://localhost:8080/",
          "height": 436
        },
        "outputId": "9ed47ff9-346a-43bd-c35b-0929cb72f716"
      },
      "outputs": [
        {
          "output_type": "stream",
          "name": "stdout",
          "text": [
            "<class 'transformer_lens.ActivationCache.ActivationCache'>\n",
            "torch.Size([12, 33, 33])\n",
            "Layer 0 Head Attention Patterns:\n"
          ]
        },
        {
          "output_type": "display_data",
          "data": {
            "text/plain": [
              "<circuitsvis.utils.render.RenderedHTML at 0x7e6bd947ef50>"
            ],
            "text/html": [
              "<div id=\"circuits-vis-4d946ddf-c1b9\" style=\"margin: 15px 0;\"/>\n",
              "    <script crossorigin type=\"module\">\n",
              "    import { render, AttentionPatterns } from \"https://unpkg.com/circuitsvis@1.41.0/dist/cdn/esm.js\";\n",
              "    render(\n",
              "      \"circuits-vis-4d946ddf-c1b9\",\n",
              "      AttentionPatterns,\n",
              "      {\"tokens\": [\"<|endoftext|>\", \"Natural\", \" language\", \" processing\", \" tasks\", \",\", \" such\", \" as\", \" question\", \" answering\", \",\", \" machine\", \" translation\", \",\", \" reading\", \" comprehension\", \",\", \" and\", \" summar\", \"ization\", \",\", \" are\", \" typically\", \" approached\", \" with\", \" supervised\", \" learning\", \" on\", \" tasks\", \"pe\", \"cific\", \" datasets\", \".\"], \"attention\": [[[1.0, 0.0, 0.0, 0.0, 0.0, 0.0, 0.0, 0.0, 0.0, 0.0, 0.0, 0.0, 0.0, 0.0, 0.0, 0.0, 0.0, 0.0, 0.0, 0.0, 0.0, 0.0, 0.0, 0.0, 0.0, 0.0, 0.0, 0.0, 0.0, 0.0, 0.0, 0.0, 0.0], [0.9639418721199036, 0.03605814278125763, 0.0, 0.0, 0.0, 0.0, 0.0, 0.0, 0.0, 0.0, 0.0, 0.0, 0.0, 0.0, 0.0, 0.0, 0.0, 0.0, 0.0, 0.0, 0.0, 0.0, 0.0, 0.0, 0.0, 0.0, 0.0, 0.0, 0.0, 0.0, 0.0, 0.0, 0.0], [0.8389372825622559, 0.1182878240942955, 0.042774852365255356, 0.0, 0.0, 0.0, 0.0, 0.0, 0.0, 0.0, 0.0, 0.0, 0.0, 0.0, 0.0, 0.0, 0.0, 0.0, 0.0, 0.0, 0.0, 0.0, 0.0, 0.0, 0.0, 0.0, 0.0, 0.0, 0.0, 0.0, 0.0, 0.0, 0.0], [0.47436124086380005, 0.13382022082805634, 0.27371737360954285, 0.11810111999511719, 0.0, 0.0, 0.0, 0.0, 0.0, 0.0, 0.0, 0.0, 0.0, 0.0, 0.0, 0.0, 0.0, 0.0, 0.0, 0.0, 0.0, 0.0, 0.0, 0.0, 0.0, 0.0, 0.0, 0.0, 0.0, 0.0, 0.0, 0.0, 0.0], [0.3560643196105957, 0.10184915363788605, 0.23054225742816925, 0.20397399365901947, 0.10757029801607132, 0.0, 0.0, 0.0, 0.0, 0.0, 0.0, 0.0, 0.0, 0.0, 0.0, 0.0, 0.0, 0.0, 0.0, 0.0, 0.0, 0.0, 0.0, 0.0, 0.0, 0.0, 0.0, 0.0, 0.0, 0.0, 0.0, 0.0, 0.0], [0.6660143136978149, 0.1686638742685318, 0.045356765389442444, 0.03885501250624657, 0.06775481253862381, 0.013355252332985401, 0.0, 0.0, 0.0, 0.0, 0.0, 0.0, 0.0, 0.0, 0.0, 0.0, 0.0, 0.0, 0.0, 0.0, 0.0, 0.0, 0.0, 0.0, 0.0, 0.0, 0.0, 0.0, 0.0, 0.0, 0.0, 0.0, 0.0], [0.38626962900161743, 0.2851092517375946, 0.07609007507562637, 0.059083808213472366, 0.07223352044820786, 0.03979633376002312, 0.08141742646694183, 0.0, 0.0, 0.0, 0.0, 0.0, 0.0, 0.0, 0.0, 0.0, 0.0, 0.0, 0.0, 0.0, 0.0, 0.0, 0.0, 0.0, 0.0, 0.0, 0.0, 0.0, 0.0, 0.0, 0.0, 0.0, 0.0], [0.3775395154953003, 0.1883881539106369, 0.11723987758159637, 0.0868559330701828, 0.06669178605079651, 0.035000160336494446, 0.09693007171154022, 0.03135443106293678, 0.0, 0.0, 0.0, 0.0, 0.0, 0.0, 0.0, 0.0, 0.0, 0.0, 0.0, 0.0, 0.0, 0.0, 0.0, 0.0, 0.0, 0.0, 0.0, 0.0, 0.0, 0.0, 0.0, 0.0, 0.0], [0.4869752824306488, 0.06781316548585892, 0.07952877879142761, 0.08480790257453918, 0.1590261310338974, 0.029577823355793953, 0.02568591758608818, 0.016474608331918716, 0.05011039599776268, 0.0, 0.0, 0.0, 0.0, 0.0, 0.0, 0.0, 0.0, 0.0, 0.0, 0.0, 0.0, 0.0, 0.0, 0.0, 0.0, 0.0, 0.0, 0.0, 0.0, 0.0, 0.0, 0.0, 0.0], [0.29065507650375366, 0.0401349812746048, 0.14614854753017426, 0.09940598160028458, 0.1538918912410736, 0.03900160640478134, 0.024988971650600433, 0.031841300427913666, 0.10222819447517395, 0.07170343399047852, 0.0, 0.0, 0.0, 0.0, 0.0, 0.0, 0.0, 0.0, 0.0, 0.0, 0.0, 0.0, 0.0, 0.0, 0.0, 0.0, 0.0, 0.0, 0.0, 0.0, 0.0, 0.0, 0.0], [0.39624103903770447, 0.09694179147481918, 0.027270672842860222, 0.02355135791003704, 0.03723450377583504, 0.006502409465610981, 0.08118754625320435, 0.013088470324873924, 0.06990595906972885, 0.24043095111846924, 0.007645336911082268, 0.0, 0.0, 0.0, 0.0, 0.0, 0.0, 0.0, 0.0, 0.0, 0.0, 0.0, 0.0, 0.0, 0.0, 0.0, 0.0, 0.0, 0.0, 0.0, 0.0, 0.0, 0.0], [0.24864791333675385, 0.1380206197500229, 0.09235323220491409, 0.08676120638847351, 0.1381969302892685, 0.05914197862148285, 0.032238587737083435, 0.031582415103912354, 0.03048943728208542, 0.03873484209179878, 0.06671836972236633, 0.03711448237299919, 0.0, 0.0, 0.0, 0.0, 0.0, 0.0, 0.0, 0.0, 0.0, 0.0, 0.0, 0.0, 0.0, 0.0, 0.0, 0.0, 0.0, 0.0, 0.0, 0.0, 0.0], [0.19148443639278412, 0.1617259532213211, 0.07445938885211945, 0.07740947604179382, 0.021961115300655365, 0.03392128273844719, 0.05125020816922188, 0.019519241526722908, 0.03132448345422745, 0.04020153358578682, 0.03874269127845764, 0.21578861773014069, 0.042211662977933884, 0.0, 0.0, 0.0, 0.0, 0.0, 0.0, 0.0, 0.0, 0.0, 0.0, 0.0, 0.0, 0.0, 0.0, 0.0, 0.0, 0.0, 0.0, 0.0, 0.0], [0.3704317510128021, 0.08681418746709824, 0.024584675207734108, 0.02161632478237152, 0.03238871693611145, 0.005422739312052727, 0.07275222986936569, 0.011272798292338848, 0.06329694390296936, 0.21726815402507782, 0.006367162801325321, 0.02960381843149662, 0.05099845305085182, 0.007182061206549406, 0.0, 0.0, 0.0, 0.0, 0.0, 0.0, 0.0, 0.0, 0.0, 0.0, 0.0, 0.0, 0.0, 0.0, 0.0, 0.0, 0.0, 0.0, 0.0], [0.19737645983695984, 0.04603997617959976, 0.0439998134970665, 0.13373452425003052, 0.054248202592134476, 0.025475719943642616, 0.027563493698835373, 0.02157093770802021, 0.05171824246644974, 0.06458096951246262, 0.028064634650945663, 0.23551598191261292, 0.0191297959536314, 0.029963519424200058, 0.021017691120505333, 0.0, 0.0, 0.0, 0.0, 0.0, 0.0, 0.0, 0.0, 0.0, 0.0, 0.0, 0.0, 0.0, 0.0, 0.0, 0.0, 0.0, 0.0], [0.08907236158847809, 0.01928834617137909, 0.16653534770011902, 0.07281260937452316, 0.04738643020391464, 0.024487899616360664, 0.02898734249174595, 0.019370367750525475, 0.026673035696148872, 0.0731663852930069, 0.025704579427838326, 0.04242357984185219, 0.05869461968541145, 0.028932703658938408, 0.18119068443775177, 0.0952736958861351, 0.0, 0.0, 0.0, 0.0, 0.0, 0.0, 0.0, 0.0, 0.0, 0.0, 0.0, 0.0, 0.0, 0.0, 0.0, 0.0, 0.0], [0.28167295455932617, 0.06441289186477661, 0.01800854690372944, 0.01616961881518364, 0.023183899000287056, 0.0037532937712967396, 0.05472248047590256, 0.007909763604402542, 0.046164706349372864, 0.16947263479232788, 0.004361641593277454, 0.02101135067641735, 0.03549071028828621, 0.0049325693398714066, 0.0955522209405899, 0.1472633332014084, 0.005917445290833712, 0.0, 0.0, 0.0, 0.0, 0.0, 0.0, 0.0, 0.0, 0.0, 0.0, 0.0, 0.0, 0.0, 0.0, 0.0, 0.0], [0.2130548357963562, 0.059123694896698, 0.033820878714323044, 0.027476871386170387, 0.028393536806106567, 0.008422903716564178, 0.040085311979055405, 0.011629276908934116, 0.05295189842581749, 0.154046431183815, 0.00983181968331337, 0.03610192984342575, 0.04737287759780884, 0.011069191619753838, 0.09972472488880157, 0.13971354067325592, 0.013185336254537106, 0.01399495080113411, 0.0, 0.0, 0.0, 0.0, 0.0, 0.0, 0.0, 0.0, 0.0, 0.0, 0.0, 0.0, 0.0, 0.0, 0.0], [0.15871694684028625, 0.04387890174984932, 0.08712150156497955, 0.08998466283082962, 0.030738577246665955, 0.034148938953876495, 0.02491724118590355, 0.03139194846153259, 0.0248238705098629, 0.01979033090174198, 0.036254845559597015, 0.020694417878985405, 0.04284067824482918, 0.038208991289138794, 0.06234658136963844, 0.10919703543186188, 0.0413760170340538, 0.04916759952902794, 0.05440092086791992, 0.0, 0.0, 0.0, 0.0, 0.0, 0.0, 0.0, 0.0, 0.0, 0.0, 0.0, 0.0, 0.0, 0.0], [0.10485510528087616, 0.12122291326522827, 0.0648748129606247, 0.0876871794462204, 0.03434053435921669, 0.017483945935964584, 0.03415180742740631, 0.01528915110975504, 0.023312130942940712, 0.02830648608505726, 0.01872047409415245, 0.028111929073929787, 0.04190532863140106, 0.02098955772817135, 0.04678507521748543, 0.08659635484218597, 0.02363184653222561, 0.024273177608847618, 0.16702404618263245, 0.010438218712806702, 0.0, 0.0, 0.0, 0.0, 0.0, 0.0, 0.0, 0.0, 0.0, 0.0, 0.0, 0.0, 0.0], [0.22901976108551025, 0.05184381082653999, 0.013585194945335388, 0.01233725156635046, 0.018005432561039925, 0.002770362189039588, 0.04238129034638405, 0.005856258329004049, 0.036144886165857315, 0.13039220869541168, 0.00315342890098691, 0.015672577545046806, 0.02780039794743061, 0.0035543262492865324, 0.07460816949605942, 0.11298283189535141, 0.004272272810339928, 0.0068322052247822285, 0.18569742143154144, 0.018073629587888718, 0.005016356240957975, 0.0, 0.0, 0.0, 0.0, 0.0, 0.0, 0.0, 0.0, 0.0, 0.0, 0.0, 0.0], [0.18869924545288086, 0.034387119114398956, 0.02234475128352642, 0.019972743466496468, 0.016354037448763847, 0.006856545340269804, 0.020859049633145332, 0.005696005187928677, 0.03415916487574577, 0.07260986417531967, 0.007857208140194416, 0.01804024912416935, 0.026904473081231117, 0.009020394645631313, 0.06876447051763535, 0.17578735947608948, 0.010720070451498032, 0.00928453542292118, 0.1925639659166336, 0.02518032118678093, 0.012639068067073822, 0.021299347281455994, 0.0, 0.0, 0.0, 0.0, 0.0, 0.0, 0.0, 0.0, 0.0, 0.0, 0.0], [0.1195831149816513, 0.022259404882788658, 0.032947149127721786, 0.020170262083411217, 0.03565331920981407, 0.013459902256727219, 0.017516475170850754, 0.010057869367301464, 0.025856446474790573, 0.05955956131219864, 0.015084506943821907, 0.015008730813860893, 0.05317465960979462, 0.016597602516412735, 0.04155528545379639, 0.13129331171512604, 0.019296666607260704, 0.01585504598915577, 0.17925086617469788, 0.016183817759156227, 0.022295529022812843, 0.015463407151401043, 0.10187706351280212, 0.0, 0.0, 0.0, 0.0, 0.0, 0.0, 0.0, 0.0, 0.0, 0.0], [0.14615534245967865, 0.02672751061618328, 0.01662455126643181, 0.018987692892551422, 0.06278638541698456, 0.015317173674702644, 0.01979224383831024, 0.014227774925529957, 0.025458162650465965, 0.04530351236462593, 0.01636434905230999, 0.037493057548999786, 0.013288663700222969, 0.01749655045568943, 0.0399458222091198, 0.05881752446293831, 0.019260985776782036, 0.024616047739982605, 0.03821967542171478, 0.02157779596745968, 0.020949900150299072, 0.07973217219114304, 0.05017608031630516, 0.17068108916282654, 0.0, 0.0, 0.0, 0.0, 0.0, 0.0, 0.0, 0.0, 0.0], [0.11321669071912766, 0.03674636408686638, 0.011786578223109245, 0.010274861939251423, 0.020370660349726677, 0.00524388300254941, 0.015918835997581482, 0.005266785155981779, 0.024891745299100876, 0.06593260914087296, 0.005933654960244894, 0.018209027126431465, 0.021020203828811646, 0.006667500361800194, 0.034828800708055496, 0.13742125034332275, 0.007927055470645428, 0.008618668653070927, 0.1137719377875328, 0.013557425700128078, 0.0092778280377388, 0.026121364906430244, 0.08499341458082199, 0.19073913991451263, 0.011263743042945862, 0.0, 0.0, 0.0, 0.0, 0.0, 0.0, 0.0, 0.0], [0.1333770900964737, 0.02621661312878132, 0.038271524012088776, 0.0715256854891777, 0.053177691996097565, 0.013925841078162193, 0.0070841871201992035, 0.013450143858790398, 0.009841452352702618, 0.011789785698056221, 0.013537583872675896, 0.03815499693155289, 0.041933052241802216, 0.013882276602089405, 0.03707147017121315, 0.13838455080986023, 0.014846324920654297, 0.03156951814889908, 0.05598175525665283, 0.015536673367023468, 0.01595636084675789, 0.04545554891228676, 0.016699669882655144, 0.025325775146484375, 0.0367189384996891, 0.08028542995452881, 0.0, 0.0, 0.0, 0.0, 0.0, 0.0, 0.0], [0.1060897558927536, 0.019107729196548462, 0.024468645453453064, 0.027496378868818283, 0.016365814954042435, 0.005011423025280237, 0.010413102805614471, 0.006081143859773874, 0.005301063880324364, 0.011143164709210396, 0.004565385635942221, 0.01896991766989231, 0.004321119748055935, 0.004814977757632732, 0.02940940670669079, 0.028682025149464607, 0.005097254179418087, 0.007234354503452778, 0.03412593901157379, 0.010370594449341297, 0.0056432681158185005, 0.007283585146069527, 0.02938956953585148, 0.01003879215568304, 0.00913451611995697, 0.5466631650924683, 0.012777912430465221, 0.0, 0.0, 0.0, 0.0, 0.0, 0.0], [0.10467307269573212, 0.03321940451860428, 0.015341237187385559, 0.009373541921377182, 0.026595458388328552, 0.005787800997495651, 0.013571344316005707, 0.004554887767881155, 0.02805890329182148, 0.02610723488032818, 0.006353443488478661, 0.013315827585756779, 0.026628248393535614, 0.006888873875141144, 0.06204749271273613, 0.058907054364681244, 0.008068051189184189, 0.007557096425443888, 0.08522789925336838, 0.017075739800930023, 0.009256887249648571, 0.019695749506354332, 0.1261780560016632, 0.13061514496803284, 0.011351032182574272, 0.08984378725290298, 0.046381521970033646, 0.007325290702283382, 0.0, 0.0, 0.0, 0.0, 0.0], [0.08561894297599792, 0.02143893763422966, 0.05641258880496025, 0.05706660449504852, 0.01980220340192318, 0.006727499887347221, 0.005809157155454159, 0.004516263958066702, 0.003164749126881361, 0.01761520281434059, 0.0061746020801365376, 0.08767978101968765, 0.0122998571023345, 0.0063504548743367195, 0.017522135749459267, 0.14295218884944916, 0.006585485767573118, 0.007875689305365086, 0.030078928917646408, 0.013907487504184246, 0.007376695051789284, 0.007684790063649416, 0.022160829976201057, 0.012385029345750809, 0.011890069581568241, 0.08669781684875488, 0.19902533292770386, 0.013594483025372028, 0.02958623133599758, 0.0, 0.0, 0.0, 0.0], [0.1406458467245102, 0.013298697769641876, 0.015702957287430763, 0.017357872799038887, 0.02233150787651539, 0.029672270640730858, 0.04172081500291824, 0.018995430320501328, 0.038277123123407364, 0.048635609447956085, 0.030946899205446243, 0.016023898497223854, 0.020880894735455513, 0.03243822976946831, 0.030558142811059952, 0.022808346897363663, 0.035377584397792816, 0.03145158663392067, 0.03497114032506943, 0.018679112195968628, 0.03821909800171852, 0.02257886901497841, 0.06819558143615723, 0.04214096441864967, 0.028620850294828415, 0.037750035524368286, 0.01857805624604225, 0.03376871719956398, 0.03641696646809578, 0.012956839986145496, 0.0, 0.0, 0.0], [0.07168619334697723, 0.06924441456794739, 0.019306892529129982, 0.014161993749439716, 0.01682320050895214, 0.019380604848265648, 0.019257426261901855, 0.022003689780831337, 0.013706532306969166, 0.035783786326646805, 0.01846517063677311, 0.05207167938351631, 0.02008516900241375, 0.019862134009599686, 0.020662108436226845, 0.04725159332156181, 0.0210767462849617, 0.03678726404905319, 0.02432408183813095, 0.0038275488186627626, 0.023920677602291107, 0.008533235639333725, 0.026241624727845192, 0.0273800790309906, 0.034612011164426804, 0.0228841844946146, 0.10047896951436996, 0.06913502514362335, 0.025474581867456436, 0.06495604664087296, 0.03061535768210888, 0.0, 0.0], [0.06910780072212219, 0.037012264132499695, 0.038621142506599426, 0.05933321639895439, 0.015923552215099335, 0.007918555289506912, 0.010371049866080284, 0.006615667603909969, 0.0025200785603374243, 0.026019388809800148, 0.007905222475528717, 0.029652036726474762, 0.04000624269247055, 0.008451337926089764, 0.0107411565259099, 0.050275612622499466, 0.009428862482309341, 0.013601033017039299, 0.050369229167699814, 0.031767114996910095, 0.010793029330670834, 0.0072168041951954365, 0.006478432100266218, 0.014800596982240677, 0.021585971117019653, 0.15769490599632263, 0.0888475775718689, 0.01901692897081375, 0.02972932904958725, 0.03316134214401245, 0.050883643329143524, 0.0341508574783802, 0.0], [0.14375509321689606, 0.01681104116141796, 0.009386665187776089, 0.006830308586359024, 0.011656847782433033, 0.0015672266017645597, 0.019711477681994438, 0.0023980382829904556, 0.021235886961221695, 0.046836789697408676, 0.0016905132215470076, 0.005827190354466438, 0.011979990638792515, 0.0018251369474455714, 0.04231332242488861, 0.054913729429244995, 0.0021786526776850224, 0.0024170123506337404, 0.09604070335626602, 0.00575287314131856, 0.0025577889755368233, 0.007121228612959385, 0.08889925479888916, 0.10852086544036865, 0.005179052706807852, 0.03657734394073486, 0.024719927459955215, 0.003734763478860259, 0.031077073886990547, 0.016887927427887917, 0.094508595764637, 0.07171523571014404, 0.003372319508343935]], [[1.0, 0.0, 0.0, 0.0, 0.0, 0.0, 0.0, 0.0, 0.0, 0.0, 0.0, 0.0, 0.0, 0.0, 0.0, 0.0, 0.0, 0.0, 0.0, 0.0, 0.0, 0.0, 0.0, 0.0, 0.0, 0.0, 0.0, 0.0, 0.0, 0.0, 0.0, 0.0, 0.0], [0.0004246651369612664, 0.9995753169059753, 0.0, 0.0, 0.0, 0.0, 0.0, 0.0, 0.0, 0.0, 0.0, 0.0, 0.0, 0.0, 0.0, 0.0, 0.0, 0.0, 0.0, 0.0, 0.0, 0.0, 0.0, 0.0, 0.0, 0.0, 0.0, 0.0, 0.0, 0.0, 0.0, 0.0, 0.0], [0.0005621903110295534, 0.01640726439654827, 0.9830306172370911, 0.0, 0.0, 0.0, 0.0, 0.0, 0.0, 0.0, 0.0, 0.0, 0.0, 0.0, 0.0, 0.0, 0.0, 0.0, 0.0, 0.0, 0.0, 0.0, 0.0, 0.0, 0.0, 0.0, 0.0, 0.0, 0.0, 0.0, 0.0, 0.0, 0.0], [0.001162757514975965, 0.0216820165514946, 0.003762046108022332, 0.9733933210372925, 0.0, 0.0, 0.0, 0.0, 0.0, 0.0, 0.0, 0.0, 0.0, 0.0, 0.0, 0.0, 0.0, 0.0, 0.0, 0.0, 0.0, 0.0, 0.0, 0.0, 0.0, 0.0, 0.0, 0.0, 0.0, 0.0, 0.0, 0.0, 0.0], [3.724443740793504e-05, 0.00017202318122144789, 0.0002814398321788758, 0.0027421461418271065, 0.9967671632766724, 0.0, 0.0, 0.0, 0.0, 0.0, 0.0, 0.0, 0.0, 0.0, 0.0, 0.0, 0.0, 0.0, 0.0, 0.0, 0.0, 0.0, 0.0, 0.0, 0.0, 0.0, 0.0, 0.0, 0.0, 0.0, 0.0, 0.0, 0.0], [0.008268442004919052, 0.00023985578445717692, 7.361903408309445e-05, 6.437728006858379e-05, 0.00017566324095241725, 0.9911779761314392, 0.0, 0.0, 0.0, 0.0, 0.0, 0.0, 0.0, 0.0, 0.0, 0.0, 0.0, 0.0, 0.0, 0.0, 0.0, 0.0, 0.0, 0.0, 0.0, 0.0, 0.0, 0.0, 0.0, 0.0, 0.0, 0.0, 0.0], [0.0012215040624141693, 0.005400451831519604, 0.0016716319369152188, 0.00040775633533485234, 0.0006163658108562231, 0.0010931185679510236, 0.9895892143249512, 0.0, 0.0, 0.0, 0.0, 0.0, 0.0, 0.0, 0.0, 0.0, 0.0, 0.0, 0.0, 0.0, 0.0, 0.0, 0.0, 0.0, 0.0, 0.0, 0.0, 0.0, 0.0, 0.0, 0.0, 0.0, 0.0], [0.001245975960046053, 0.000912121613509953, 0.0005976713728159666, 0.00013656872033607215, 0.0003304101701360196, 0.0015722765820100904, 0.003880807664245367, 0.9913241863250732, 0.0, 0.0, 0.0, 0.0, 0.0, 0.0, 0.0, 0.0, 0.0, 0.0, 0.0, 0.0, 0.0, 0.0, 0.0, 0.0, 0.0, 0.0, 0.0, 0.0, 0.0, 0.0, 0.0, 0.0, 0.0], [0.00028217487852089107, 0.004068182315677404, 0.0026605194434523582, 0.0013093105517327785, 0.008030479773879051, 0.0002879090898204595, 0.00022922919015400112, 0.0003948427038267255, 0.9827372431755066, 0.0, 0.0, 0.0, 0.0, 0.0, 0.0, 0.0, 0.0, 0.0, 0.0, 0.0, 0.0, 0.0, 0.0, 0.0, 0.0, 0.0, 0.0, 0.0, 0.0, 0.0, 0.0, 0.0, 0.0], [3.47393324773293e-05, 0.00039538455894216895, 0.00013272723299451172, 0.0002585228648968041, 0.0010855586733669043, 9.198043699143454e-05, 0.00032670784275978804, 0.0005427454598248005, 0.006105930078774691, 0.9910256266593933, 0.0, 0.0, 0.0, 0.0, 0.0, 0.0, 0.0, 0.0, 0.0, 0.0, 0.0, 0.0, 0.0, 0.0, 0.0, 0.0, 0.0, 0.0, 0.0, 0.0, 0.0, 0.0, 0.0], [0.003378510009497404, 5.0908805860672146e-05, 1.645207521505654e-05, 1.6926180251175538e-05, 4.1814146243268624e-05, 0.493940532207489, 0.00012981274630874395, 0.0008837340865284204, 3.221199949621223e-05, 2.7252091967966408e-05, 0.501481831073761, 0.0, 0.0, 0.0, 0.0, 0.0, 0.0, 0.0, 0.0, 0.0, 0.0, 0.0, 0.0, 0.0, 0.0, 0.0, 0.0, 0.0, 0.0, 0.0, 0.0, 0.0, 0.0], [8.416055788984522e-05, 0.0013417241862043738, 0.0012613608269020915, 0.0021450743079185486, 0.004042362328618765, 0.0004830540856346488, 0.0001158266604761593, 0.00015203609655145556, 2.6925305064651184e-05, 0.00012675137259066105, 0.00031289938488043845, 0.9899077415466309, 0.0, 0.0, 0.0, 0.0, 0.0, 0.0, 0.0, 0.0, 0.0, 0.0, 0.0, 0.0, 0.0, 0.0, 0.0, 0.0, 0.0, 0.0, 0.0, 0.0, 0.0], [0.00037822307785972953, 0.000983756734058261, 0.03934124484658241, 0.0027322471141815186, 0.003668021410703659, 0.00011039181117666885, 0.0001293103414354846, 0.00021743500838056207, 0.00010623285197652876, 0.0007748190546408296, 6.647672853432596e-05, 0.0003148665127810091, 0.9511770009994507, 0.0, 0.0, 0.0, 0.0, 0.0, 0.0, 0.0, 0.0, 0.0, 0.0, 0.0, 0.0, 0.0, 0.0, 0.0, 0.0, 0.0, 0.0, 0.0, 0.0], [0.00210172007791698, 2.443686025799252e-05, 7.788777111272793e-06, 8.651618372823577e-06, 2.0140050764894113e-05, 0.29971376061439514, 7.525253022322431e-05, 0.0004898309707641602, 1.845947736001108e-05, 1.5344554412877187e-05, 0.3283386528491974, 4.175802678219043e-05, 6.4691917032178026e-06, 0.3691376745700836, 0.0, 0.0, 0.0, 0.0, 0.0, 0.0, 0.0, 0.0, 0.0, 0.0, 0.0, 0.0, 0.0, 0.0, 0.0, 0.0, 0.0, 0.0, 0.0], [0.00014968313917052, 0.00011296597222099081, 0.0003629484854172915, 0.00018591186380945146, 0.00016460877668578178, 4.1432256693951786e-05, 2.8764718081220053e-05, 7.786935748299584e-05, 0.0009200984495691955, 0.010340185835957527, 2.7572366889216937e-05, 1.783320476533845e-05, 0.00033054465893656015, 2.4375704015255906e-05, 0.9872152805328369, 0.0, 0.0, 0.0, 0.0, 0.0, 0.0, 0.0, 0.0, 0.0, 0.0, 0.0, 0.0, 0.0, 0.0, 0.0, 0.0, 0.0, 0.0], [0.00010753796232165769, 0.002178182825446129, 0.002042605308815837, 0.004251916892826557, 0.006989872083067894, 2.511867569410242e-05, 0.0007779006846249104, 0.0005783525411970913, 0.0029378319159150124, 0.03322529420256615, 1.719921601761598e-05, 0.0008936444064602256, 0.0015238532796502113, 1.4656750863650814e-05, 0.006222618278115988, 0.9382133483886719, 0.0, 0.0, 0.0, 0.0, 0.0, 0.0, 0.0, 0.0, 0.0, 0.0, 0.0, 0.0, 0.0, 0.0, 0.0, 0.0, 0.0], [0.0013634881470352411, 1.3226039300207049e-05, 4.013936177216237e-06, 4.803058345714817e-06, 1.0257444955641404e-05, 0.19665950536727905, 4.5272561692399904e-05, 0.0002776260080281645, 1.17144372779876e-05, 9.473314094066154e-06, 0.22919581830501556, 2.643065818119794e-05, 4.101845206605503e-06, 0.26576104760169983, 8.515357876603957e-06, 4.536018423095811e-06, 0.3066001534461975, 0.0, 0.0, 0.0, 0.0, 0.0, 0.0, 0.0, 0.0, 0.0, 0.0, 0.0, 0.0, 0.0, 0.0, 0.0, 0.0], [0.0008924755384214222, 0.00013490796845871955, 4.779840674018487e-05, 5.803708336316049e-05, 0.00010480154014658183, 0.012799108400940895, 0.0007168236770667136, 0.03257950767874718, 2.6449932192917913e-05, 0.00011185053881490603, 0.011884260922670364, 4.010270276921801e-05, 5.5553988204337656e-05, 0.01237786840647459, 0.00010783460311358795, 5.404360490501858e-05, 0.013122137635946274, 0.9148864150047302, 0.0, 0.0, 0.0, 0.0, 0.0, 0.0, 0.0, 0.0, 0.0, 0.0, 0.0, 0.0, 0.0, 0.0, 0.0], [5.075314675195841e-06, 4.3961426854366437e-05, 3.398511398700066e-05, 7.940301293274388e-05, 5.477911327034235e-05, 7.921550491118978e-07, 9.313342161476612e-06, 7.72709336160915e-06, 8.597270061727613e-05, 0.00012274066102690995, 5.141494057170348e-07, 1.702795316305128e-06, 3.834182643913664e-05, 4.4509752683552506e-07, 0.00013928249245509505, 0.00032758069573901594, 3.994804558260512e-07, 3.948137873521773e-06, 0.999043881893158, 0.0, 0.0, 0.0, 0.0, 0.0, 0.0, 0.0, 0.0, 0.0, 0.0, 0.0, 0.0, 0.0, 0.0], [9.346216393169016e-05, 0.0018395755905658007, 0.002523318398743868, 0.01808730512857437, 0.0029363830108195543, 0.0002733588626142591, 4.872983481618576e-05, 0.0004212784406263381, 0.0001562439138069749, 0.0009748375159688294, 0.00020533663337118924, 0.001022886368446052, 0.0019548090640455484, 0.00019470420375000685, 0.0011294226860627532, 0.0016656150110065937, 0.00018734094919636846, 0.0009503471083007753, 0.0004455189628060907, 0.9648895859718323, 0.0, 0.0, 0.0, 0.0, 0.0, 0.0, 0.0, 0.0, 0.0, 0.0, 0.0, 0.0, 0.0], [0.0010859699686989188, 8.512331987731159e-06, 2.530733127059648e-06, 3.062522864638595e-06, 5.9751278058683965e-06, 0.13292624056339264, 3.345322693348862e-05, 0.00018891259969677776, 8.477763003611472e-06, 6.540420145029202e-06, 0.16445893049240112, 1.813005110307131e-05, 3.062745008719503e-06, 0.19719165563583374, 6.429840141208842e-06, 3.444735511948238e-06, 0.2331714779138565, 0.0022796255070716143, 3.7134323065401986e-06, 3.5288056096760556e-05, 0.268558531999588, 0.0, 0.0, 0.0, 0.0, 0.0, 0.0, 0.0, 0.0, 0.0, 0.0, 0.0, 0.0], [0.0004197949019726366, 0.00011805002577602863, 0.0001424048823537305, 3.796784585574642e-05, 0.00019043161591980606, 0.0017651208909228444, 0.0005709825200028718, 0.0005008853622712195, 8.840746158966795e-05, 0.0001420867774868384, 0.0016639818204566836, 3.3481079299235716e-05, 2.441395918140188e-05, 0.0017546487506479025, 6.520305760204792e-05, 2.414262417005375e-05, 0.0018299149814993143, 0.0015691017033532262, 3.97487347072456e-05, 0.000157123853568919, 0.0018554466078057885, 0.9870065450668335, 0.0, 0.0, 0.0, 0.0, 0.0, 0.0, 0.0, 0.0, 0.0, 0.0, 0.0], [7.501784421037883e-05, 0.0014379840577021241, 6.345151632558554e-05, 0.00010864839714486152, 0.00015633167640771717, 3.210126124031376e-06, 0.0022032777778804302, 0.0002207657671533525, 5.2403069275896996e-05, 4.88158839289099e-05, 2.264461500089965e-06, 1.5327248547691852e-05, 4.157144758210052e-06, 2.0228408175171353e-06, 6.2968028942123055e-06, 4.8486737796338275e-05, 1.992900934055797e-06, 3.247004497097805e-05, 0.00126951327547431, 1.96326454897644e-05, 1.8090950106852688e-06, 0.000581029336899519, 0.9936450719833374, 0.0, 0.0, 0.0, 0.0, 0.0, 0.0, 0.0, 0.0, 0.0, 0.0], [7.450151315424591e-05, 0.0006139386096037924, 0.0009361195843666792, 0.0008487807353958488, 0.002850632881745696, 1.0365041816839948e-05, 0.00021614276920445263, 0.00017397530609741807, 0.0020508375018835068, 0.005805305205285549, 8.05523814051412e-06, 8.086584421107545e-05, 0.000770243932493031, 7.28818440620671e-06, 0.0010576159693300724, 0.0022755973041057587, 6.6632615016715135e-06, 0.00011621028534136713, 0.0005972451181150973, 8.736297604627907e-05, 6.332331849989714e-06, 6.096452852943912e-05, 6.090577517170459e-05, 0.9812840819358826, 0.0, 0.0, 0.0, 0.0, 0.0, 0.0, 0.0, 0.0, 0.0], [0.0005848738364875317, 0.0001590918836882338, 1.0836472029041033e-05, 7.365470082731918e-05, 0.00011349524720571935, 0.0008256652508862317, 0.00031910985126160085, 0.018529964610934258, 1.0226591257378459e-05, 4.9587179091759026e-05, 0.000771641090977937, 4.4548200094141066e-05, 9.86501618172042e-06, 0.0008067172020673752, 2.2673864805256017e-05, 1.2464129213185515e-05, 0.000844910042360425, 0.008790099062025547, 3.579237818485126e-05, 3.662859307951294e-05, 0.0008917524828575552, 0.001079176552593708, 0.0003708464791998267, 0.00010837137961061671, 0.9654980301856995, 0.0, 0.0, 0.0, 0.0, 0.0, 0.0, 0.0, 0.0], [1.6459925973322242e-05, 0.00017152438522316515, 3.2083211408462375e-05, 0.00010234182263957337, 0.0026318745221942663, 9.886184670904186e-06, 3.2508516596863046e-05, 3.7417539715534076e-05, 0.00012631528079509735, 4.991215973859653e-05, 8.302548849314917e-06, 8.443422120762989e-05, 3.127968739136122e-05, 7.633370842086151e-06, 1.0101362931891344e-05, 5.6673809012863785e-05, 7.442136393365217e-06, 2.7689680791809224e-05, 1.841835728555452e-05, 2.8794345325877657e-06, 6.840427886345424e-06, 4.279879249224905e-06, 0.0004317661514505744, 0.00017617484263610095, 8.995590906124562e-05, 0.9958257675170898, 0.0, 0.0, 0.0, 0.0, 0.0, 0.0, 0.0], [2.6368048565927893e-05, 0.0001800870813895017, 0.0001808295346563682, 0.00030464722658507526, 0.0003939090820495039, 4.674840602092445e-05, 2.723169200180564e-05, 4.873490979662165e-05, 0.0002913166827056557, 0.0004206172889098525, 3.804640073212795e-05, 0.0002524516312405467, 5.6067383411573246e-05, 3.820368874585256e-05, 0.0015365114668384194, 0.0012537245638668537, 3.593425208237022e-05, 2.3036618586047553e-05, 0.0001803626073524356, 0.00012266090197954327, 3.5177839890820906e-05, 6.924678746145219e-05, 0.0001126729475799948, 0.0008507381426170468, 0.00014361889043357223, 0.00023527958546765149, 0.9930958151817322, 0.0, 0.0, 0.0, 0.0, 0.0, 0.0], [0.0007048251572996378, 5.6753891840344295e-05, 3.351289251440903e-06, 7.472657671314664e-06, 1.785946005838923e-05, 0.0008156527765095234, 4.9529528041603044e-05, 0.0013530971482396126, 3.741763430298306e-05, 0.00014378006744664162, 0.000763933639973402, 9.991685146815144e-06, 2.884435843952815e-06, 0.0007552225724793971, 0.00010159601515624672, 3.120541123280418e-06, 0.0008060952532105148, 0.0011406762059777975, 1.4343117982207332e-05, 9.910167136695236e-06, 0.0008649186929687858, 8.663273911224678e-05, 3.4695473004831e-05, 0.0001026583049679175, 0.007663471158593893, 4.1878953197738156e-05, 3.4908698580693454e-06, 0.9844048619270325, 0.0, 0.0, 0.0, 0.0, 0.0], [2.0288327505113557e-05, 2.9542719858000055e-05, 5.037501978222281e-05, 0.0009778327075764537, 0.3728255331516266, 6.661304723820649e-06, 1.573365443618968e-05, 3.9812464819988236e-05, 0.00022353224630933255, 0.0001267432962777093, 5.118443823448615e-06, 0.00024116146960295737, 1.2973835509910714e-05, 4.8006900215114e-06, 2.332163421669975e-05, 7.723532326053828e-05, 4.593436187860789e-06, 1.9647141016321257e-05, 0.00021129970264155418, 1.1453507795522455e-05, 4.38048436990357e-06, 1.4442680367210414e-05, 3.67674911103677e-05, 0.00011845329572679475, 3.797718454734422e-05, 0.0007802760228514671, 0.0004048360278829932, 1.0429552276036702e-05, 0.6236647963523865, 0.0, 0.0, 0.0, 0.0], [2.0582907382049598e-05, 8.831234299577773e-05, 0.00020454861805774271, 0.0003018892602995038, 8.223887562053278e-05, 1.970439734577667e-05, 0.0001408509851898998, 2.8963144359295256e-05, 7.669377737329341e-06, 3.724613270605914e-05, 1.673677070357371e-05, 6.404696614481509e-05, 0.0006910577067174017, 1.6027554011088796e-05, 0.00015603650535922498, 0.00014825898688286543, 1.5700054063927382e-05, 9.155381849268451e-05, 8.525074372300878e-05, 4.904512934444938e-06, 1.5784382412675768e-05, 5.293107096804306e-05, 0.0005298349424265325, 0.0005658389418385923, 6.167324318084866e-05, 6.729490996804088e-05, 0.0003077442815992981, 1.0369139090471435e-05, 6.799335824325681e-05, 0.9960988759994507, 0.0, 0.0, 0.0], [1.3371331988309976e-05, 0.0009821535786613822, 0.0004154812777414918, 0.0001144233756349422, 0.0003873075474984944, 5.660860551870428e-06, 0.0012746269349008799, 0.000570806791074574, 0.000638362136669457, 0.0005776660400442779, 4.127733518544119e-06, 9.161743037111592e-06, 9.142841736320406e-05, 3.774864126171451e-06, 1.3575295270129573e-05, 0.0002916179655585438, 3.4474890071578557e-06, 7.899177580839023e-05, 0.003189122537150979, 4.885083853878314e-06, 3.165286670991918e-06, 1.4087455383560155e-05, 0.0001567144354339689, 0.00035448907874524593, 0.00017265455971937627, 0.0013050615089014173, 0.00021867647592443973, 2.6776719096233137e-05, 0.00026460207300260663, 1.3334542018128559e-05, 0.9888005256652832, 0.0, 0.0], [2.745508936641272e-05, 0.00016438262537121773, 7.996438216650859e-05, 0.0011914977803826332, 0.0007883630460128188, 2.658417088241549e-06, 3.0057650292292237e-05, 7.457976153091295e-06, 0.00014940995606593788, 2.8857215511379763e-05, 1.8738293192654965e-06, 0.0003328806778881699, 5.16086547577288e-05, 1.757749942044029e-06, 0.00012656577746383846, 0.000142670251079835, 1.6954471675489913e-06, 2.1952595488983206e-05, 0.00023040825908537954, 4.4293432438280433e-05, 1.6103306279546814e-06, 2.7008050892618485e-05, 0.0002388486755080521, 0.0001904603559523821, 9.496164238953497e-06, 0.000446643796749413, 0.00022095811436884105, 5.379181402531685e-06, 0.0006956413271836936, 0.00015470781363546848, 0.0002548544143792242, 0.9943286776542664, 0.0], [0.006231046747416258, 9.722806862555444e-05, 6.871603090985445e-06, 2.1151136024855077e-05, 5.828053326695226e-05, 0.007238905411213636, 2.0987916286685504e-05, 0.00025459096650592983, 6.2438593886327e-05, 2.09246627491666e-05, 0.007872136309742928, 5.5853244703030214e-05, 9.868757842923515e-06, 0.009169397875666618, 7.203003042377532e-05, 7.068680588417919e-06, 0.010345976799726486, 0.0013096530456095934, 3.803680374403484e-05, 8.022697147680447e-05, 0.012053250335156918, 4.071998773724772e-05, 3.6860749332845444e-06, 3.471342279226519e-05, 0.0005061827832832932, 8.918932871893048e-05, 2.9112034098943695e-05, 0.0012772815534844995, 8.489656465826556e-05, 0.00018447425100021064, 0.00013425729412119836, 6.813048094045371e-05, 0.9425214529037476]], [[1.0, 0.0, 0.0, 0.0, 0.0, 0.0, 0.0, 0.0, 0.0, 0.0, 0.0, 0.0, 0.0, 0.0, 0.0, 0.0, 0.0, 0.0, 0.0, 0.0, 0.0, 0.0, 0.0, 0.0, 0.0, 0.0, 0.0, 0.0, 0.0, 0.0, 0.0, 0.0, 0.0], [0.943029522895813, 0.05697045475244522, 0.0, 0.0, 0.0, 0.0, 0.0, 0.0, 0.0, 0.0, 0.0, 0.0, 0.0, 0.0, 0.0, 0.0, 0.0, 0.0, 0.0, 0.0, 0.0, 0.0, 0.0, 0.0, 0.0, 0.0, 0.0, 0.0, 0.0, 0.0, 0.0, 0.0, 0.0], [0.9185556173324585, 0.03280003368854523, 0.048644352704286575, 0.0, 0.0, 0.0, 0.0, 0.0, 0.0, 0.0, 0.0, 0.0, 0.0, 0.0, 0.0, 0.0, 0.0, 0.0, 0.0, 0.0, 0.0, 0.0, 0.0, 0.0, 0.0, 0.0, 0.0, 0.0, 0.0, 0.0, 0.0, 0.0, 0.0], [0.8779287934303284, 0.05643429234623909, 0.04271192103624344, 0.022925030440092087, 0.0, 0.0, 0.0, 0.0, 0.0, 0.0, 0.0, 0.0, 0.0, 0.0, 0.0, 0.0, 0.0, 0.0, 0.0, 0.0, 0.0, 0.0, 0.0, 0.0, 0.0, 0.0, 0.0, 0.0, 0.0, 0.0, 0.0, 0.0, 0.0], [0.804131805896759, 0.029098210856318474, 0.07556727528572083, 0.05643591657280922, 0.03476677089929581, 0.0, 0.0, 0.0, 0.0, 0.0, 0.0, 0.0, 0.0, 0.0, 0.0, 0.0, 0.0, 0.0, 0.0, 0.0, 0.0, 0.0, 0.0, 0.0, 0.0, 0.0, 0.0, 0.0, 0.0, 0.0, 0.0, 0.0, 0.0], [0.49431052803993225, 0.02018354833126068, 0.027966564521193504, 0.018319061025977135, 0.0314420647919178, 0.40777823328971863, 0.0, 0.0, 0.0, 0.0, 0.0, 0.0, 0.0, 0.0, 0.0, 0.0, 0.0, 0.0, 0.0, 0.0, 0.0, 0.0, 0.0, 0.0, 0.0, 0.0, 0.0, 0.0, 0.0, 0.0, 0.0, 0.0, 0.0], [0.6057478189468384, 0.029242422431707382, 0.09491507709026337, 0.07609350979328156, 0.06614662706851959, 0.08705780655145645, 0.04079665243625641, 0.0, 0.0, 0.0, 0.0, 0.0, 0.0, 0.0, 0.0, 0.0, 0.0, 0.0, 0.0, 0.0, 0.0, 0.0, 0.0, 0.0, 0.0, 0.0, 0.0, 0.0, 0.0, 0.0, 0.0, 0.0, 0.0], [0.44838207960128784, 0.04542432725429535, 0.0740148052573204, 0.06864849478006363, 0.09376626461744308, 0.08774261921644211, 0.0653427392244339, 0.11667871475219727, 0.0, 0.0, 0.0, 0.0, 0.0, 0.0, 0.0, 0.0, 0.0, 0.0, 0.0, 0.0, 0.0, 0.0, 0.0, 0.0, 0.0, 0.0, 0.0, 0.0, 0.0, 0.0, 0.0, 0.0, 0.0], [0.4916927218437195, 0.13782072067260742, 0.03955019265413284, 0.061533186584711075, 0.045399654656648636, 0.04073144495487213, 0.062287040054798126, 0.05861865356564522, 0.06236641854047775, 0.0, 0.0, 0.0, 0.0, 0.0, 0.0, 0.0, 0.0, 0.0, 0.0, 0.0, 0.0, 0.0, 0.0, 0.0, 0.0, 0.0, 0.0, 0.0, 0.0, 0.0, 0.0, 0.0, 0.0], [0.5404125452041626, 0.04442666471004486, 0.039578523486852646, 0.041888076812028885, 0.07529858499765396, 0.0466950349509716, 0.0484752394258976, 0.055005207657814026, 0.08293058723211288, 0.025289513170719147, 0.0, 0.0, 0.0, 0.0, 0.0, 0.0, 0.0, 0.0, 0.0, 0.0, 0.0, 0.0, 0.0, 0.0, 0.0, 0.0, 0.0, 0.0, 0.0, 0.0, 0.0, 0.0, 0.0], [0.28273555636405945, 0.014234174974262714, 0.017647741362452507, 0.011433064937591553, 0.021741710603237152, 0.266653835773468, 0.015403537079691887, 0.047349292784929276, 0.017767539247870445, 0.013926072046160698, 0.29110750555992126, 0.0, 0.0, 0.0, 0.0, 0.0, 0.0, 0.0, 0.0, 0.0, 0.0, 0.0, 0.0, 0.0, 0.0, 0.0, 0.0, 0.0, 0.0, 0.0, 0.0, 0.0, 0.0], [0.344966322183609, 0.046116799116134644, 0.05771547183394432, 0.11131862550973892, 0.11289363354444504, 0.027930330485105515, 0.038591887801885605, 0.05656527727842331, 0.058640558272600174, 0.06648591160774231, 0.02611437253654003, 0.05266084149479866, 0.0, 0.0, 0.0, 0.0, 0.0, 0.0, 0.0, 0.0, 0.0, 0.0, 0.0, 0.0, 0.0, 0.0, 0.0, 0.0, 0.0, 0.0, 0.0, 0.0, 0.0], [0.46992185711860657, 0.03201569616794586, 0.107728973031044, 0.027006767690181732, 0.04465881735086441, 0.022773539647459984, 0.023117076605558395, 0.025491515174508095, 0.049502693116664886, 0.02657395228743553, 0.019708862528204918, 0.06337953358888626, 0.08812074363231659, 0.0, 0.0, 0.0, 0.0, 0.0, 0.0, 0.0, 0.0, 0.0, 0.0, 0.0, 0.0, 0.0, 0.0, 0.0, 0.0, 0.0, 0.0, 0.0, 0.0], [0.2066175937652588, 0.010379290208220482, 0.01226192805916071, 0.008319087326526642, 0.016007088124752045, 0.1952773630619049, 0.011453285813331604, 0.03475672006607056, 0.01307358406484127, 0.010938974097371101, 0.21602493524551392, 0.005866492632776499, 0.02364230528473854, 0.23538126051425934, 0.0, 0.0, 0.0, 0.0, 0.0, 0.0, 0.0, 0.0, 0.0, 0.0, 0.0, 0.0, 0.0, 0.0, 0.0, 0.0, 0.0, 0.0, 0.0], [0.3399347960948944, 0.02916165068745613, 0.09540717303752899, 0.03395187109708786, 0.0844046026468277, 0.012559536844491959, 0.029358645901083946, 0.024564167484641075, 0.10622430592775345, 0.04689214378595352, 0.011469585821032524, 0.006369189824908972, 0.11145279556512833, 0.011317996308207512, 0.05693149194121361, 0.0, 0.0, 0.0, 0.0, 0.0, 0.0, 0.0, 0.0, 0.0, 0.0, 0.0, 0.0, 0.0, 0.0, 0.0, 0.0, 0.0, 0.0], [0.40408816933631897, 0.024195685982704163, 0.03891003504395485, 0.014727432280778885, 0.024456575512886047, 0.03845001012086868, 0.03923032060265541, 0.037171393632888794, 0.06030001863837242, 0.041985444724559784, 0.03716715797781944, 0.016391245648264885, 0.039289675652980804, 0.03772979974746704, 0.13448575139045715, 0.011421289294958115, 0.0, 0.0, 0.0, 0.0, 0.0, 0.0, 0.0, 0.0, 0.0, 0.0, 0.0, 0.0, 0.0, 0.0, 0.0, 0.0, 0.0], [0.15876439213752747, 0.008203903213143349, 0.00929525587707758, 0.00622171675786376, 0.011793217621743679, 0.15069784224033356, 0.008851953782141209, 0.026313554495573044, 0.010186920873820782, 0.008433726616203785, 0.1676224023103714, 0.004420032259076834, 0.018211793154478073, 0.18350809812545776, 0.020927326753735542, 0.006447782274335623, 0.2001000940799713, 0.0, 0.0, 0.0, 0.0, 0.0, 0.0, 0.0, 0.0, 0.0, 0.0, 0.0, 0.0, 0.0, 0.0, 0.0, 0.0], [0.1753920465707779, 0.020569656044244766, 0.01829143427312374, 0.009298022836446762, 0.01737789623439312, 0.042534757405519485, 0.02070157416164875, 0.05044391751289368, 0.025438031181693077, 0.01721823774278164, 0.04311535879969597, 0.013349817134439945, 0.028528617694973946, 0.04597253352403641, 0.03408820927143097, 0.019834203645586967, 0.04992839694023132, 0.3679172694683075, 0.0, 0.0, 0.0, 0.0, 0.0, 0.0, 0.0, 0.0, 0.0, 0.0, 0.0, 0.0, 0.0, 0.0, 0.0], [0.2603333294391632, 0.017148379236459732, 0.03745279461145401, 0.07594800740480423, 0.04674705117940903, 0.018068520352244377, 0.03134644031524658, 0.037415146827697754, 0.07175807654857635, 0.058725371956825256, 0.017078706994652748, 0.040305912494659424, 0.05706357955932617, 0.0171135812997818, 0.1049133688211441, 0.046705372631549835, 0.017230208963155746, 0.02468215301632881, 0.01996397040784359, 0.0, 0.0, 0.0, 0.0, 0.0, 0.0, 0.0, 0.0, 0.0, 0.0, 0.0, 0.0, 0.0, 0.0], [0.30547070503234863, 0.051904961466789246, 0.04346896708011627, 0.021846860647201538, 0.021017195656895638, 0.03390473499894142, 0.04190472140908241, 0.039092883467674255, 0.028871944174170494, 0.023003436625003815, 0.0320579968392849, 0.02333449013531208, 0.07110599428415298, 0.03290087357163429, 0.06164193153381348, 0.03183261305093765, 0.03376764804124832, 0.045714907348155975, 0.03501523286104202, 0.022141898050904274, 0.0, 0.0, 0.0, 0.0, 0.0, 0.0, 0.0, 0.0, 0.0, 0.0, 0.0, 0.0, 0.0], [0.1224295049905777, 0.006105297710746527, 0.006670292001217604, 0.004581777844578028, 0.009337793104350567, 0.11381792277097702, 0.006783360615372658, 0.019719911739230156, 0.007580860517919064, 0.0066136447712779045, 0.12765930593013763, 0.003502657637000084, 0.014002335257828236, 0.1400098353624344, 0.01568487659096718, 0.00509260781109333, 0.15336216986179352, 0.03527418151497841, 0.022465620189905167, 0.006954459007829428, 0.17235161364078522, 0.0, 0.0, 0.0, 0.0, 0.0, 0.0, 0.0, 0.0, 0.0, 0.0, 0.0, 0.0], [0.20538491010665894, 0.034778520464897156, 0.014682925306260586, 0.031183309853076935, 0.030931279063224792, 0.021952755749225616, 0.03290863335132599, 0.05740533396601677, 0.05587515980005264, 0.04864276573061943, 0.023520758375525475, 0.01510855183005333, 0.027386324480175972, 0.024518456310033798, 0.060604557394981384, 0.03477614372968674, 0.026137840002775192, 0.05168436840176582, 0.06281402707099915, 0.020291468128561974, 0.028601735830307007, 0.09081020206212997, 0.0, 0.0, 0.0, 0.0, 0.0, 0.0, 0.0, 0.0, 0.0, 0.0, 0.0], [0.23978593945503235, 0.03132351487874985, 0.050377536565065384, 0.015869436785578728, 0.039014607667922974, 0.02280554361641407, 0.04285355657339096, 0.02888231724500656, 0.04046263173222542, 0.0341072604060173, 0.022644516080617905, 0.03923070430755615, 0.0723857432603836, 0.022345518693327904, 0.04958108067512512, 0.03193335980176926, 0.023325592279434204, 0.04521363973617554, 0.030554380267858505, 0.022876497358083725, 0.024732284247875214, 0.05549481511116028, 0.014199568890035152, 0.0, 0.0, 0.0, 0.0, 0.0, 0.0, 0.0, 0.0, 0.0, 0.0], [0.2358168214559555, 0.020558306947350502, 0.04375005513429642, 0.029704859480261803, 0.03703877329826355, 0.014953458681702614, 0.04004311189055443, 0.027184367179870605, 0.04576181620359421, 0.03809262439608574, 0.014181885868310928, 0.03789154440164566, 0.06518244743347168, 0.014182931743562222, 0.05489494279026985, 0.023720968514680862, 0.014592777006328106, 0.025570034980773926, 0.07356180250644684, 0.03918234631419182, 0.014925519935786724, 0.04628867655992508, 0.027801059186458588, 0.015118872746825218, 0.0, 0.0, 0.0, 0.0, 0.0, 0.0, 0.0, 0.0, 0.0], [0.14254964888095856, 0.012010158970952034, 0.016881290823221207, 0.020742563530802727, 0.03245177119970322, 0.029626009985804558, 0.030295196920633316, 0.05620869621634483, 0.029608745127916336, 0.029481831938028336, 0.03263988345861435, 0.010038218460977077, 0.04078616574406624, 0.03462786227464676, 0.03391636908054352, 0.020155727863311768, 0.03684321418404579, 0.060646943747997284, 0.04744711145758629, 0.032525304704904556, 0.04040035605430603, 0.05947759002447128, 0.031293995678424835, 0.04792546480894089, 0.07141983509063721, 0.0, 0.0, 0.0, 0.0, 0.0, 0.0, 0.0, 0.0], [0.22229069471359253, 0.059111353009939194, 0.0370267778635025, 0.04059012979269028, 0.027254480868577957, 0.019174769520759583, 0.031715359538793564, 0.0204621609300375, 0.03811328113079071, 0.019927889108657837, 0.018538929522037506, 0.015436705201864243, 0.04536491259932518, 0.01935577392578125, 0.05035829916596413, 0.033281393349170685, 0.020179755985736847, 0.03679434210062027, 0.0433138832449913, 0.028476417064666748, 0.021317338570952415, 0.04771285131573677, 0.01310703344643116, 0.026336034759879112, 0.030211376026272774, 0.03454805165529251, 0.0, 0.0, 0.0, 0.0, 0.0, 0.0, 0.0], [0.28438133001327515, 0.023870108649134636, 0.04641878232359886, 0.010260088369250298, 0.033909872174263, 0.018301473930478096, 0.02370886504650116, 0.02476685121655464, 0.0257677361369133, 0.022968826815485954, 0.016735462471842766, 0.013406937941908836, 0.04598662257194519, 0.016673240810632706, 0.08106391131877899, 0.05033262446522713, 0.01672617346048355, 0.019904814660549164, 0.030325351282954216, 0.01014631800353527, 0.017318226397037506, 0.019040964543819427, 0.011081119067966938, 0.052046407014131546, 0.0333535298705101, 0.03880883753299713, 0.012695525772869587, 0.0, 0.0, 0.0, 0.0, 0.0, 0.0], [0.11854352056980133, 0.013350935652852058, 0.013422025367617607, 0.030273202806711197, 0.02616293914616108, 0.020776186138391495, 0.0212801992893219, 0.03798934817314148, 0.03536440059542656, 0.036651790142059326, 0.022004006430506706, 0.015380024909973145, 0.030023103579878807, 0.023299690335989, 0.03000754490494728, 0.014861369505524635, 0.024521950632333755, 0.03999801352620125, 0.039001572877168655, 0.036007679998874664, 0.026851214468479156, 0.06795871257781982, 0.038931313902139664, 0.057258062064647675, 0.06659835577011108, 0.03075685352087021, 0.02334320917725563, 0.05938269942998886, 0.0, 0.0, 0.0, 0.0, 0.0], [0.25091859698295593, 0.011351886205375195, 0.023033946752548218, 0.018849756568670273, 0.013208831660449505, 0.016430390998721123, 0.03763696178793907, 0.02151942066848278, 0.03823146969079971, 0.031223108991980553, 0.01608109660446644, 0.017179002985358238, 0.08239651471376419, 0.01577541045844555, 0.04969310760498047, 0.03397901728749275, 0.016469139605760574, 0.025656115263700485, 0.053269315510988235, 0.02438098005950451, 0.017032913863658905, 0.031062565743923187, 0.014834257774055004, 0.043107789009809494, 0.027818359434604645, 0.015127947553992271, 0.012749837711453438, 0.026852669194340706, 0.014129594899713993, 0.0, 0.0, 0.0, 0.0], [0.19256946444511414, 0.022833669558167458, 0.014495886862277985, 0.02805502526462078, 0.03290428966283798, 0.018577080219984055, 0.02377672865986824, 0.01498892717063427, 0.027755476534366608, 0.019952157512307167, 0.018426887691020966, 0.026808448135852814, 0.04026198387145996, 0.018957341089844704, 0.01998024433851242, 0.039050307124853134, 0.019494330510497093, 0.030714338645339012, 0.07932321727275848, 0.03619769960641861, 0.020379595458507538, 0.023319289088249207, 0.01872384361922741, 0.05692768841981888, 0.02392754703760147, 0.03924325481057167, 0.02178352139890194, 0.020374221727252007, 0.04178831726312637, 0.00840923935174942, 0.0, 0.0, 0.0], [0.18919390439987183, 0.01435207761824131, 0.027829360216856003, 0.018936041742563248, 0.054552339017391205, 0.024302393198013306, 0.020752551034092903, 0.030501794070005417, 0.016900410875678062, 0.029904041439294815, 0.02311178296804428, 0.02166484296321869, 0.0333598293364048, 0.023050501942634583, 0.027927035465836525, 0.026253484189510345, 0.024257967248558998, 0.024394983425736427, 0.017666678875684738, 0.02208106964826584, 0.025441516190767288, 0.02399672009050846, 0.01594141311943531, 0.021863477304577827, 0.04876274615526199, 0.010234065353870392, 0.025762982666492462, 0.06192328408360481, 0.06737107038497925, 0.018184125423431396, 0.009525515139102936, 0.0, 0.0], [0.27111953496932983, 0.05460578203201294, 0.039705973118543625, 0.03512894734740257, 0.020313767716288567, 0.008183852769434452, 0.022556617856025696, 0.014036444947123528, 0.026198463514447212, 0.03235536068677902, 0.007185027468949556, 0.01081349328160286, 0.051626089960336685, 0.007057543378323317, 0.042327746748924255, 0.01850598119199276, 0.006952994968742132, 0.012550849467515945, 0.037855181843042374, 0.014787377789616585, 0.007130765821784735, 0.01895672269165516, 0.010758972726762295, 0.023540524765849113, 0.01625620760023594, 0.007915407419204712, 0.03652311861515045, 0.014562276192009449, 0.019251452758908272, 0.010911819525063038, 0.034396715462207794, 0.06592902541160583, 0.0], [0.14836539328098297, 0.014506885781884193, 0.007646290585398674, 0.01103874109685421, 0.026302488520741463, 0.013194814324378967, 0.0271848663687706, 0.017392192035913467, 0.016122113913297653, 0.03288079425692558, 0.014050286263227463, 0.007167341653257608, 0.0161200650036335, 0.014647024683654308, 0.018450897186994553, 0.013102118857204914, 0.015283250249922276, 0.014542998746037483, 0.05961218848824501, 0.02238389290869236, 0.016796976327896118, 0.10928261280059814, 0.07263998687267303, 0.08393712341785431, 0.025249002501368523, 0.03774845972657204, 0.01622692123055458, 0.02495388500392437, 0.04216580465435982, 0.004525812342762947, 0.01449135784059763, 0.019145706668496132, 0.02284165285527706]], [[1.0, 0.0, 0.0, 0.0, 0.0, 0.0, 0.0, 0.0, 0.0, 0.0, 0.0, 0.0, 0.0, 0.0, 0.0, 0.0, 0.0, 0.0, 0.0, 0.0, 0.0, 0.0, 0.0, 0.0, 0.0, 0.0, 0.0, 0.0, 0.0, 0.0, 0.0, 0.0, 0.0], [0.09646996110677719, 0.9035300612449646, 0.0, 0.0, 0.0, 0.0, 0.0, 0.0, 0.0, 0.0, 0.0, 0.0, 0.0, 0.0, 0.0, 0.0, 0.0, 0.0, 0.0, 0.0, 0.0, 0.0, 0.0, 0.0, 0.0, 0.0, 0.0, 0.0, 0.0, 0.0, 0.0, 0.0, 0.0], [0.043252408504486084, 0.08177752792835236, 0.8749701380729675, 0.0, 0.0, 0.0, 0.0, 0.0, 0.0, 0.0, 0.0, 0.0, 0.0, 0.0, 0.0, 0.0, 0.0, 0.0, 0.0, 0.0, 0.0, 0.0, 0.0, 0.0, 0.0, 0.0, 0.0, 0.0, 0.0, 0.0, 0.0, 0.0, 0.0], [0.09995391219854355, 0.025312697514891624, 0.020108038559556007, 0.8546252846717834, 0.0, 0.0, 0.0, 0.0, 0.0, 0.0, 0.0, 0.0, 0.0, 0.0, 0.0, 0.0, 0.0, 0.0, 0.0, 0.0, 0.0, 0.0, 0.0, 0.0, 0.0, 0.0, 0.0, 0.0, 0.0, 0.0, 0.0, 0.0, 0.0], [0.024889372289180756, 0.0032073582988232374, 0.0018421611748635769, 0.022361520677804947, 0.9476996660232544, 0.0, 0.0, 0.0, 0.0, 0.0, 0.0, 0.0, 0.0, 0.0, 0.0, 0.0, 0.0, 0.0, 0.0, 0.0, 0.0, 0.0, 0.0, 0.0, 0.0, 0.0, 0.0, 0.0, 0.0, 0.0, 0.0, 0.0, 0.0], [0.10732375085353851, 0.017841670662164688, 0.01955334283411503, 0.0433332584798336, 0.10211500525474548, 0.7098329663276672, 0.0, 0.0, 0.0, 0.0, 0.0, 0.0, 0.0, 0.0, 0.0, 0.0, 0.0, 0.0, 0.0, 0.0, 0.0, 0.0, 0.0, 0.0, 0.0, 0.0, 0.0, 0.0, 0.0, 0.0, 0.0, 0.0, 0.0], [0.006426359061151743, 0.0004479784402064979, 0.00014756589371245354, 0.0004693674563895911, 0.0014411886222660542, 0.003859696676954627, 0.98720782995224, 0.0, 0.0, 0.0, 0.0, 0.0, 0.0, 0.0, 0.0, 0.0, 0.0, 0.0, 0.0, 0.0, 0.0, 0.0, 0.0, 0.0, 0.0, 0.0, 0.0, 0.0, 0.0, 0.0, 0.0, 0.0, 0.0], [0.0010354575933888555, 0.00019901820633094758, 0.00016020381008274853, 6.9372785219457e-05, 0.00038674141978845, 0.005171585362404585, 0.8964057564735413, 0.09657192975282669, 0.0, 0.0, 0.0, 0.0, 0.0, 0.0, 0.0, 0.0, 0.0, 0.0, 0.0, 0.0, 0.0, 0.0, 0.0, 0.0, 0.0, 0.0, 0.0, 0.0, 0.0, 0.0, 0.0, 0.0, 0.0], [0.0012883340241387486, 0.0003233459428884089, 0.0002652723924256861, 0.000254906655754894, 0.00020129882614128292, 0.00010049015691038221, 0.000570089730899781, 0.00040913073462434113, 0.9965871572494507, 0.0, 0.0, 0.0, 0.0, 0.0, 0.0, 0.0, 0.0, 0.0, 0.0, 0.0, 0.0, 0.0, 0.0, 0.0, 0.0, 0.0, 0.0, 0.0, 0.0, 0.0, 0.0, 0.0, 0.0], [0.00018741605163086206, 1.619651447981596e-05, 4.2281039895897266e-06, 0.000287588540231809, 1.1125704986625351e-05, 9.805656191019807e-06, 0.0001556719362270087, 7.632956840097904e-05, 0.0034869059454649687, 0.9957647323608398, 0.0, 0.0, 0.0, 0.0, 0.0, 0.0, 0.0, 0.0, 0.0, 0.0, 0.0, 0.0, 0.0, 0.0, 0.0, 0.0, 0.0, 0.0, 0.0, 0.0, 0.0, 0.0, 0.0], [0.015741519629955292, 0.0006393613293766975, 0.00045715257874689996, 0.000991252833046019, 0.002114036353304982, 0.01808975078165531, 0.0471203587949276, 0.0701090469956398, 0.061528366059064865, 0.2769039571285248, 0.5063051581382751, 0.0, 0.0, 0.0, 0.0, 0.0, 0.0, 0.0, 0.0, 0.0, 0.0, 0.0, 0.0, 0.0, 0.0, 0.0, 0.0, 0.0, 0.0, 0.0, 0.0, 0.0, 0.0], [0.000616659817751497, 0.0005207082722336054, 4.61151976196561e-05, 0.001461300882510841, 0.0005623759934678674, 4.447595347301103e-05, 0.0003653968160506338, 0.0002860168751794845, 0.004506120923906565, 0.005816523917019367, 0.0007244533626362681, 0.9850499033927917, 0.0, 0.0, 0.0, 0.0, 0.0, 0.0, 0.0, 0.0, 0.0, 0.0, 0.0, 0.0, 0.0, 0.0, 0.0, 0.0, 0.0, 0.0, 0.0, 0.0, 0.0], [0.0010478582698851824, 3.062820542254485e-05, 0.00017345028754789382, 5.423134643933736e-05, 6.388442125171423e-05, 1.1261148756602779e-05, 1.7169008060591295e-05, 1.3931321518612094e-05, 0.002076044213026762, 0.0002692685811780393, 0.00015268517017830163, 0.0036844429560005665, 0.992405116558075, 0.0, 0.0, 0.0, 0.0, 0.0, 0.0, 0.0, 0.0, 0.0, 0.0, 0.0, 0.0, 0.0, 0.0, 0.0, 0.0, 0.0, 0.0, 0.0, 0.0], [0.01074626948684454, 0.0002535430248826742, 0.00015322912076953799, 0.0002928700705524534, 0.0005376794142648578, 0.0044235410168766975, 0.009884323924779892, 0.012843027710914612, 0.012738605961203575, 0.05966855585575104, 0.10772984474897385, 0.02474566549062729, 0.07808699458837509, 0.6778957843780518, 0.0, 0.0, 0.0, 0.0, 0.0, 0.0, 0.0, 0.0, 0.0, 0.0, 0.0, 0.0, 0.0, 0.0, 0.0, 0.0, 0.0, 0.0, 0.0], [0.00041218040860258043, 2.6218713173875585e-05, 1.7755939552444033e-05, 0.00019181919924449176, 3.2979523894027807e-06, 3.912678039341699e-06, 1.043809788825456e-05, 4.906844878860284e-06, 0.0005868562147952616, 0.003038158407434821, 3.693128383019939e-05, 0.000772431492805481, 0.009622619487345219, 0.00016094441525638103, 0.9851114153862, 0.0, 0.0, 0.0, 0.0, 0.0, 0.0, 0.0, 0.0, 0.0, 0.0, 0.0, 0.0, 0.0, 0.0, 0.0, 0.0, 0.0, 0.0], [0.00010886562085943297, 3.58454167326272e-06, 5.191652689973125e-06, 3.083834599237889e-05, 1.8408745745546184e-05, 7.954757847983274e-07, 3.3532007819303544e-06, 6.574371127499035e-06, 0.0007270929636433721, 0.0018232447328045964, 7.853259376133792e-06, 0.00030627453816123307, 0.006975044962018728, 3.4850869269575924e-05, 0.02829272672533989, 0.9616552591323853, 0.0, 0.0, 0.0, 0.0, 0.0, 0.0, 0.0, 0.0, 0.0, 0.0, 0.0, 0.0, 0.0, 0.0, 0.0, 0.0, 0.0], [0.006073995493352413, 8.815208275336772e-05, 4.583783811540343e-05, 8.250495739048347e-05, 0.00012720450467895716, 0.000931252259761095, 0.001669999212026596, 0.0019381919410079718, 0.002101697726175189, 0.010131681337952614, 0.016047311946749687, 0.0038353849668055773, 0.01224216353148222, 0.10037080943584442, 0.07853130996227264, 0.10997357964515686, 0.6558089256286621, 0.0, 0.0, 0.0, 0.0, 0.0, 0.0, 0.0, 0.0, 0.0, 0.0, 0.0, 0.0, 0.0, 0.0, 0.0, 0.0], [0.0021862986031919718, 1.1892928341694642e-05, 1.6735943063395098e-05, 2.0815448806388304e-05, 2.1162531993468292e-05, 0.0007714927778579295, 0.0008652108372189105, 0.0005560302524827421, 0.0001565589918754995, 0.001949993660673499, 0.010891206562519073, 0.0003954299900215119, 0.0015144739300012589, 0.06916320323944092, 0.0043081059120595455, 0.0040351650677621365, 0.4939699172973633, 0.4091663658618927, 0.0, 0.0, 0.0, 0.0, 0.0, 0.0, 0.0, 0.0, 0.0, 0.0, 0.0, 0.0, 0.0, 0.0, 0.0], [1.979800799745135e-05, 4.972397960045782e-07, 9.165694869750496e-09, 1.3230416584519844e-07, 5.601832597790235e-08, 1.1903853902595074e-08, 6.15311137153185e-07, 4.068542835966582e-08, 4.517441993812099e-06, 1.4017764442542102e-05, 1.6456900198136282e-07, 1.0863833495022845e-06, 7.444068614859134e-06, 1.00566455785156e-06, 2.75950224022381e-05, 0.00031378038693219423, 6.20114269622718e-06, 8.213378350774292e-06, 0.9995948672294617, 0.0, 0.0, 0.0, 0.0, 0.0, 0.0, 0.0, 0.0, 0.0, 0.0, 0.0, 0.0, 0.0, 0.0], [6.497162758023478e-06, 8.692028927725914e-07, 1.405140778842906e-06, 3.770490479837463e-07, 3.3291667023149785e-07, 6.104986027821724e-08, 2.5430054506614397e-08, 1.1067781713336444e-07, 3.670877413242124e-05, 5.70481461181771e-07, 6.172359121592308e-07, 0.00015627981338184327, 0.00014738000754732639, 3.0103849439910846e-06, 6.130666588433087e-05, 0.0017769956029951572, 1.8545992134022526e-05, 3.4263168345205486e-05, 0.9233516454696655, 0.0744030550122261, 0.0, 0.0, 0.0, 0.0, 0.0, 0.0, 0.0, 0.0, 0.0, 0.0, 0.0, 0.0, 0.0], [0.003649005200713873, 3.749436655198224e-05, 1.7470789316575974e-05, 2.8449230740079656e-05, 3.312428088975139e-05, 0.00019569203141145408, 0.0002647591754794121, 0.00024690391728654504, 0.00028033152921125293, 0.0013949201675131917, 0.0017910292372107506, 0.00042467910679988563, 0.0014623706229031086, 0.009717757813632488, 0.008053941652178764, 0.013200568035244942, 0.06315954774618149, 0.07152795046567917, 0.0752311423420906, 0.024205075576901436, 0.7250778079032898, 0.0, 0.0, 0.0, 0.0, 0.0, 0.0, 0.0, 0.0, 0.0, 0.0, 0.0, 0.0], [0.0006410889327526093, 3.925702003471088e-06, 1.160736360361625e-06, 1.5375468365164124e-06, 9.072643365470867e-07, 8.058198545768391e-06, 1.3223934729467146e-05, 4.619919764081715e-06, 3.678829671116546e-05, 4.5651795517187566e-05, 7.577823998872191e-05, 2.2741691282135434e-05, 5.66846392757725e-05, 0.00047375119174830616, 0.0003640763752628118, 0.0004240018897689879, 0.0037573284935206175, 0.004363135434687138, 0.007395218592137098, 0.005022624973207712, 0.05575622245669365, 0.9215315580368042, 0.0, 0.0, 0.0, 0.0, 0.0, 0.0, 0.0, 0.0, 0.0, 0.0, 0.0], [0.0005377682973630726, 8.122552230815927e-07, 2.301856056874385e-06, 1.4700384554089396e-06, 1.8703644855122548e-06, 6.024482104294293e-07, 4.127829015487805e-06, 1.670573169576528e-06, 2.0471920834097546e-06, 7.430032565025613e-05, 3.5942225622420665e-06, 7.171494871727191e-06, 3.0528204661095515e-05, 1.892773616418708e-05, 0.0002543875016272068, 0.0001949636498466134, 0.00012626526586245745, 0.0001823053607949987, 0.0037352179642766714, 0.0006727115251123905, 0.001579830888658762, 0.0111776702105999, 0.9813894629478455, 0.0, 0.0, 0.0, 0.0, 0.0, 0.0, 0.0, 0.0, 0.0, 0.0], [8.512831118423492e-05, 4.870875045526191e-07, 1.2458966693884577e-06, 2.081133487763509e-07, 1.924289705357296e-07, 3.704030859807972e-08, 4.5552562255579687e-07, 5.5045557445509985e-08, 1.5320376860472606e-06, 5.083318683318794e-06, 2.1401018557298812e-07, 1.459531858927221e-06, 1.4768386790819932e-05, 1.0635033049766207e-06, 2.9461503800121136e-05, 5.728815813199617e-05, 6.6156867433164734e-06, 7.844239007681608e-06, 0.00015063839964568615, 0.00022636978246737272, 7.973593892529607e-05, 0.00013040857447776943, 0.010868418030440807, 0.988331139087677, 0.0, 0.0, 0.0, 0.0, 0.0, 0.0, 0.0, 0.0, 0.0], [0.0004166322760283947, 2.250370243928046e-06, 5.270539531920804e-06, 2.754915476543829e-05, 3.963050767197274e-05, 7.514737717428943e-06, 8.100926606857684e-06, 1.1581333637877833e-05, 1.3205944014771376e-05, 6.750717875547707e-05, 2.52127465500962e-05, 1.4860675037198234e-05, 7.521689258283004e-05, 0.00011457454093033448, 0.00025745294988155365, 0.00036668573739007115, 0.000690473010763526, 0.001451847841963172, 0.0032460184302181005, 0.0006353411008603871, 0.008745581842958927, 0.015190837904810905, 0.01815015822649002, 0.13303302228450775, 0.8174035549163818, 0.0, 0.0, 0.0, 0.0, 0.0, 0.0, 0.0, 0.0], [1.673928454692941e-05, 8.245334015555272e-08, 3.25739257789337e-08, 2.8737451529536884e-08, 1.621771161808283e-07, 1.5275413156601303e-09, 2.327868919849152e-08, 5.576728856482305e-09, 1.2825790918213897e-07, 1.3429512080165296e-07, 6.160572496582972e-09, 2.523255204778252e-07, 3.205756911484059e-06, 2.627727724302531e-08, 7.619962616445264e-07, 7.901951903477311e-06, 1.3940480414476042e-07, 1.9552575736270228e-07, 0.00032022554660215974, 8.173685728252167e-07, 1.5630020016033086e-06, 3.763166887438274e-06, 0.0007450510165654123, 0.0037152289878576994, 3.934420965379104e-05, 0.995144248008728, 0.0, 0.0, 0.0, 0.0, 0.0, 0.0, 0.0], [0.00023842287191655487, 5.040105861553457e-06, 1.3208615428084158e-06, 8.599827197031118e-06, 5.166058144823182e-06, 1.347093672166011e-07, 6.710815796395764e-07, 2.6997003033102374e-07, 6.345736892399145e-06, 4.417839227244258e-05, 2.744501159668289e-07, 2.0171210053376853e-05, 1.6526657418580726e-05, 8.122790404740954e-07, 0.00010771032248158008, 0.0001239745324710384, 3.5075918276561424e-06, 8.505855475959834e-06, 6.980274338275194e-05, 0.0002681368787307292, 2.8792945158784278e-05, 0.00011957927927142009, 0.0001296167611144483, 0.007425944320857525, 0.0007109728758223355, 0.005815024022012949, 0.984840452671051, 0.0, 0.0, 0.0, 0.0, 0.0, 0.0], [0.0004089947324246168, 6.095360163271835e-07, 1.9963877093687188e-06, 9.31031445361441e-06, 3.76905404664285e-06, 1.987650648516137e-06, 4.576547496526473e-07, 1.0690704357330105e-06, 3.087171535298694e-06, 9.211415999743622e-06, 4.724365680885967e-06, 1.2070033790223533e-06, 5.095616415928816e-06, 1.804708517738618e-05, 4.8578654968878254e-05, 4.169379099039361e-05, 0.0001053749438142404, 0.0002246684889541939, 0.00011528604954946786, 0.000249289907515049, 0.001367311691865325, 0.0016190300229936838, 0.0013275165110826492, 0.0034917828161269426, 0.063056580722332, 0.0064690615981817245, 0.09512634575366974, 0.8262878656387329, 0.0, 0.0, 0.0, 0.0, 0.0], [0.00031804636819288135, 1.4181788401401718e-06, 3.185494676927192e-07, 2.7823080017697066e-06, 5.388588397181593e-05, 4.300594369510691e-08, 5.38626068191661e-07, 8.497841008647811e-08, 5.999692120894906e-07, 4.110318513994571e-06, 7.099385612718834e-08, 8.454292128590168e-07, 2.526610387576511e-06, 2.1983822762194904e-07, 6.098234734963626e-06, 2.112996662617661e-05, 9.41176608648675e-07, 9.950348385245888e-07, 3.041351737920195e-05, 2.976983751068474e-06, 8.453844202449545e-06, 2.6006940970546566e-05, 0.00023055786732584238, 0.00133833521977067, 0.00021758176444564015, 0.0070143816992640495, 0.017923962324857712, 0.0005302666686475277, 0.9722622632980347, 0.0, 0.0, 0.0, 0.0], [1.85052627443838e-07, 5.565671479246248e-09, 7.262683787701008e-10, 7.745983410245572e-09, 1.507948255152769e-08, 8.228506209739805e-10, 1.7915451344663325e-09, 1.7345613834152118e-09, 1.0962514451762218e-08, 5.003294134553471e-08, 3.9228162940219136e-09, 1.0013924622853665e-07, 2.3337792143252045e-08, 1.6555224746639396e-08, 5.171339623188942e-08, 1.6145995118677092e-07, 9.827901692460728e-08, 2.7074545982941345e-07, 5.4119718697620556e-06, 2.5083886612264905e-07, 1.1806000657088589e-06, 2.8004258183500497e-06, 4.6103677959763445e-06, 0.00022679210815113038, 5.794253229396418e-05, 0.00045195568236522377, 0.00011976478708675131, 0.00023980809783097357, 0.0018740056548267603, 0.9970145225524902, 0.0, 0.0, 0.0], [4.347457434050739e-05, 2.968866283481475e-06, 3.9193648149193905e-07, 9.117064223573834e-07, 4.364485164387588e-07, 4.686581345225704e-09, 9.240376641628245e-08, 1.241937130913584e-08, 7.188949524561394e-08, 6.304548492153117e-07, 6.1088996083924485e-09, 1.9987159305401292e-07, 1.4578700984202442e-06, 1.4727314479046072e-08, 1.7957290765480138e-07, 2.6422632799949497e-05, 5.112665846240816e-08, 4.710682333097793e-08, 0.001576117821969092, 2.1989408196532167e-06, 3.3339884453198465e-07, 2.1814769297634484e-06, 0.0001624042197363451, 0.0017777644097805023, 1.174922817881452e-05, 0.00361609342508018, 6.199476774781942e-05, 3.516822835081257e-05, 0.001148871029727161, 0.016085602343082428, 0.975442111492157, 0.0, 0.0], [0.0011562927393242717, 6.199030394782312e-06, 6.137777290859958e-07, 3.102660230069887e-06, 8.228400361076638e-07, 4.36601119702118e-08, 9.36325577072239e-08, 2.7735437058140633e-08, 5.10950087573292e-07, 1.235528543475084e-06, 3.825297056891941e-08, 1.1272275060036918e-06, 1.9008951994692325e-06, 8.714073373994324e-08, 5.398172561399406e-06, 7.393416581180645e-06, 3.1288666946238664e-07, 3.0146313179102435e-07, 0.00013595313066616654, 1.334382250206545e-05, 2.3996453819563612e-06, 3.871273293043487e-05, 0.000821963301859796, 0.0006131274858489633, 2.151845910702832e-05, 0.004140724893659353, 0.0008760862983763218, 0.00011684626952046528, 0.0021590692922472954, 0.027525300160050392, 0.04434972628951073, 0.9179997444152832, 0.0], [0.003194288117811084, 4.681659993366338e-05, 3.499122249195352e-05, 2.7043040972785093e-05, 1.4000300325278658e-05, 1.7085118088289164e-05, 8.05188847152749e-06, 3.909828592441045e-06, 1.0716920769482385e-05, 1.7930802641785704e-05, 1.420748776581604e-05, 2.6911264285445213e-05, 2.641200444486458e-05, 3.110023681074381e-05, 1.119859553000424e-05, 5.4854859627084807e-05, 0.00011474482016637921, 0.00010493677837075666, 0.00028063036734238267, 0.0002083906001644209, 0.0009329262538813055, 0.0018990013049915433, 0.0011267600348219275, 0.0019257264211773872, 0.003917159512639046, 0.007499458268284798, 0.0106959268450737, 0.023199858143925667, 0.030398178845643997, 0.1272934377193451, 0.04325320944190025, 0.17668065428733826, 0.5669295191764832]], [[1.0, 0.0, 0.0, 0.0, 0.0, 0.0, 0.0, 0.0, 0.0, 0.0, 0.0, 0.0, 0.0, 0.0, 0.0, 0.0, 0.0, 0.0, 0.0, 0.0, 0.0, 0.0, 0.0, 0.0, 0.0, 0.0, 0.0, 0.0, 0.0, 0.0, 0.0, 0.0, 0.0], [0.25308629870414734, 0.746913731098175, 0.0, 0.0, 0.0, 0.0, 0.0, 0.0, 0.0, 0.0, 0.0, 0.0, 0.0, 0.0, 0.0, 0.0, 0.0, 0.0, 0.0, 0.0, 0.0, 0.0, 0.0, 0.0, 0.0, 0.0, 0.0, 0.0, 0.0, 0.0, 0.0, 0.0, 0.0], [0.3067159950733185, 0.3290637731552124, 0.3642202317714691, 0.0, 0.0, 0.0, 0.0, 0.0, 0.0, 0.0, 0.0, 0.0, 0.0, 0.0, 0.0, 0.0, 0.0, 0.0, 0.0, 0.0, 0.0, 0.0, 0.0, 0.0, 0.0, 0.0, 0.0, 0.0, 0.0, 0.0, 0.0, 0.0, 0.0], [0.07416974753141403, 0.16189667582511902, 0.05432592332363129, 0.7096076607704163, 0.0, 0.0, 0.0, 0.0, 0.0, 0.0, 0.0, 0.0, 0.0, 0.0, 0.0, 0.0, 0.0, 0.0, 0.0, 0.0, 0.0, 0.0, 0.0, 0.0, 0.0, 0.0, 0.0, 0.0, 0.0, 0.0, 0.0, 0.0, 0.0], [0.16688227653503418, 0.03901785612106323, 0.03822461515665054, 0.2139836996793747, 0.5418915748596191, 0.0, 0.0, 0.0, 0.0, 0.0, 0.0, 0.0, 0.0, 0.0, 0.0, 0.0, 0.0, 0.0, 0.0, 0.0, 0.0, 0.0, 0.0, 0.0, 0.0, 0.0, 0.0, 0.0, 0.0, 0.0, 0.0, 0.0, 0.0], [0.19483636319637299, 0.21119250357151031, 0.05150557681918144, 0.0870383009314537, 0.22999541461467743, 0.22543179988861084, 0.0, 0.0, 0.0, 0.0, 0.0, 0.0, 0.0, 0.0, 0.0, 0.0, 0.0, 0.0, 0.0, 0.0, 0.0, 0.0, 0.0, 0.0, 0.0, 0.0, 0.0, 0.0, 0.0, 0.0, 0.0, 0.0, 0.0], [0.1390012949705124, 0.02974863536655903, 0.038606978952884674, 0.0513327457010746, 0.19284239411354065, 0.08012380450963974, 0.4683440625667572, 0.0, 0.0, 0.0, 0.0, 0.0, 0.0, 0.0, 0.0, 0.0, 0.0, 0.0, 0.0, 0.0, 0.0, 0.0, 0.0, 0.0, 0.0, 0.0, 0.0, 0.0, 0.0, 0.0, 0.0, 0.0, 0.0], [0.08969773352146149, 0.04080597683787346, 0.03473307564854622, 0.08414527773857117, 0.09911049902439117, 0.07059452682733536, 0.1361657828092575, 0.4447471499443054, 0.0, 0.0, 0.0, 0.0, 0.0, 0.0, 0.0, 0.0, 0.0, 0.0, 0.0, 0.0, 0.0, 0.0, 0.0, 0.0, 0.0, 0.0, 0.0, 0.0, 0.0, 0.0, 0.0, 0.0, 0.0], [0.05986515060067177, 0.020190436393022537, 0.018785325810313225, 0.10584725439548492, 0.057948801666498184, 0.027517713606357574, 0.056663159281015396, 0.0822676345705986, 0.5709145665168762, 0.0, 0.0, 0.0, 0.0, 0.0, 0.0, 0.0, 0.0, 0.0, 0.0, 0.0, 0.0, 0.0, 0.0, 0.0, 0.0, 0.0, 0.0, 0.0, 0.0, 0.0, 0.0, 0.0, 0.0], [0.010379279963672161, 0.004698257893323898, 0.004143994301557541, 0.00729141291230917, 0.0062567018903791904, 0.003318049944937229, 0.00917502585798502, 0.018754417076706886, 0.03393152728676796, 0.9020513892173767, 0.0, 0.0, 0.0, 0.0, 0.0, 0.0, 0.0, 0.0, 0.0, 0.0, 0.0, 0.0, 0.0, 0.0, 0.0, 0.0, 0.0, 0.0, 0.0, 0.0, 0.0, 0.0, 0.0], [0.07270108908414841, 0.0477648489177227, 0.010500337928533554, 0.016159430146217346, 0.046178217977285385, 0.0524945929646492, 0.05184568092226982, 0.2118951827287674, 0.03515822812914848, 0.17267192900180817, 0.2826305031776428, 0.0, 0.0, 0.0, 0.0, 0.0, 0.0, 0.0, 0.0, 0.0, 0.0, 0.0, 0.0, 0.0, 0.0, 0.0, 0.0, 0.0, 0.0, 0.0, 0.0, 0.0, 0.0], [0.015126866288483143, 0.004731182474642992, 0.0023226290941238403, 0.006575728300958872, 0.01836242899298668, 0.003339661518111825, 0.008784201927483082, 0.0074097225442528725, 0.0062897950410842896, 0.07638928294181824, 0.01200344879180193, 0.8386649489402771, 0.0, 0.0, 0.0, 0.0, 0.0, 0.0, 0.0, 0.0, 0.0, 0.0, 0.0, 0.0, 0.0, 0.0, 0.0, 0.0, 0.0, 0.0, 0.0, 0.0, 0.0], [0.032331958413124084, 0.010628974065184593, 0.0026151672936975956, 0.0011762939393520355, 0.0030932859517633915, 0.00150555360596627, 0.007079716771841049, 0.0028344711754471064, 0.005003888159990311, 0.01203258614987135, 0.003987773787230253, 0.05187242105603218, 0.8658378720283508, 0.0, 0.0, 0.0, 0.0, 0.0, 0.0, 0.0, 0.0, 0.0, 0.0, 0.0, 0.0, 0.0, 0.0, 0.0, 0.0, 0.0, 0.0, 0.0, 0.0], [0.05045584216713905, 0.026538822799921036, 0.00578326964750886, 0.008087297901511192, 0.02179938182234764, 0.025670362636446953, 0.022779010236263275, 0.09139908850193024, 0.015017385594546795, 0.07093920558691025, 0.1244862824678421, 0.12668342888355255, 0.061021383851766586, 0.34933921694755554, 0.0, 0.0, 0.0, 0.0, 0.0, 0.0, 0.0, 0.0, 0.0, 0.0, 0.0, 0.0, 0.0, 0.0, 0.0, 0.0, 0.0, 0.0, 0.0], [0.05474121496081352, 0.05296844244003296, 0.003988128155469894, 0.012351611629128456, 0.004415619652718306, 0.0035962776746600866, 0.011385687626898289, 0.009828068315982819, 0.014749730937182903, 0.07078820466995239, 0.011209179647266865, 0.05164057016372681, 0.19734404981136322, 0.02712928131222725, 0.47386401891708374, 0.0, 0.0, 0.0, 0.0, 0.0, 0.0, 0.0, 0.0, 0.0, 0.0, 0.0, 0.0, 0.0, 0.0, 0.0, 0.0, 0.0, 0.0], [0.007163074798882008, 0.0049638510681688786, 0.0027692278381437063, 0.0019424451747909188, 0.010544744320213795, 0.0014144877204671502, 0.0036636609584093094, 0.0031499452888965607, 0.005481296218931675, 0.021614039316773415, 0.003922193311154842, 0.07935071736574173, 0.2247791737318039, 0.009166947565972805, 0.027402691543102264, 0.5926714539527893, 0.0, 0.0, 0.0, 0.0, 0.0, 0.0, 0.0, 0.0, 0.0, 0.0, 0.0, 0.0, 0.0, 0.0, 0.0, 0.0, 0.0], [0.03461108356714249, 0.015296352095901966, 0.003095123218372464, 0.003899096045643091, 0.00998940784484148, 0.011446877382695675, 0.00918935053050518, 0.03356511518359184, 0.005761212669312954, 0.02558104321360588, 0.043846867978572845, 0.04521365463733673, 0.02055342122912407, 0.11962329596281052, 0.15673254430294037, 0.13173453509807587, 0.329861044883728, 0.0, 0.0, 0.0, 0.0, 0.0, 0.0, 0.0, 0.0, 0.0, 0.0, 0.0, 0.0, 0.0, 0.0, 0.0, 0.0], [0.01725386083126068, 0.004397521261125803, 0.004968687426298857, 0.007064309436827898, 0.006634890101850033, 0.006910952273756266, 0.011386901140213013, 0.01617850922048092, 0.02031775936484337, 0.02039678953588009, 0.023422086611390114, 0.01890912465751171, 0.0402420312166214, 0.06200674548745155, 0.11645364761352539, 0.07975100725889206, 0.16864454746246338, 0.37506067752838135, 0.0, 0.0, 0.0, 0.0, 0.0, 0.0, 0.0, 0.0, 0.0, 0.0, 0.0, 0.0, 0.0, 0.0, 0.0], [0.002459116280078888, 0.00024919791030697525, 3.400466084713116e-05, 0.0002113294176524505, 0.00020066798606421798, 0.0001258924457943067, 0.00036506823380477726, 0.0003735981590580195, 0.00013798549480270594, 0.0004702214209828526, 0.00027151801623404026, 0.0034170830622315407, 0.0006049814983271062, 0.000545460672583431, 0.0008937675156630576, 0.0015852147480472922, 0.0012150746770203114, 0.002821272239089012, 0.9840186238288879, 0.0, 0.0, 0.0, 0.0, 0.0, 0.0, 0.0, 0.0, 0.0, 0.0, 0.0, 0.0, 0.0, 0.0], [0.00015282434469554573, 0.038923557847738266, 0.00047151927719824016, 0.00037318107206374407, 3.271787500125356e-05, 1.0635613762133289e-05, 3.82458756575943e-06, 1.324468212260399e-05, 6.418918201234192e-05, 2.7344345653546043e-05, 2.8319931516307406e-05, 0.0022295680828392506, 0.0013866389635950327, 7.163511327235028e-05, 0.0001402555499225855, 0.008246437646448612, 0.00019678636454045773, 0.00020546688756439835, 0.8976381421089172, 0.049783773720264435, 0.0, 0.0, 0.0, 0.0, 0.0, 0.0, 0.0, 0.0, 0.0, 0.0, 0.0, 0.0, 0.0], [0.026458127424120903, 0.010410883463919163, 0.0021332567557692528, 0.0024560156743973494, 0.005542594939470291, 0.0059545706026256084, 0.004195829387754202, 0.01345154270529747, 0.0023519517853856087, 0.009471972472965717, 0.015433414839208126, 0.014804963022470474, 0.006865771487355232, 0.03787313401699066, 0.04744938760995865, 0.04547279700636864, 0.10199162364006042, 0.08666397631168365, 0.06470181792974472, 0.1016075387597084, 0.3947088420391083, 0.0, 0.0, 0.0, 0.0, 0.0, 0.0, 0.0, 0.0, 0.0, 0.0, 0.0, 0.0], [0.021157873794436455, 0.0035484314430505037, 0.001744112349115312, 0.003509305650368333, 0.004201894160360098, 0.002577780745923519, 0.004015854559838772, 0.004599004052579403, 0.003955155611038208, 0.006455838680267334, 0.005907890852540731, 0.0037331595085561275, 0.009013407863676548, 0.013927984982728958, 0.02989581972360611, 0.020082319155335426, 0.03804437816143036, 0.06883100420236588, 0.0815289169549942, 0.03834022581577301, 0.1516025811433792, 0.48332706093788147, 0.0, 0.0, 0.0, 0.0, 0.0, 0.0, 0.0, 0.0, 0.0, 0.0, 0.0], [0.0014211704256013036, 0.0004069017886649817, 0.0002714426373131573, 0.0014869263395667076, 0.0006475158152170479, 0.0002567155461292714, 0.00027297664200887084, 0.000505985866766423, 0.00017537525855004787, 0.0012059614527970552, 0.0005902897100895643, 0.00043073983397334814, 0.00036999661824665964, 0.0013322844170033932, 0.0007594277849420905, 0.002518310211598873, 0.0035999822430312634, 0.0047567239962518215, 0.011892943643033504, 0.0034102187491953373, 0.013851115480065346, 0.05907334387302399, 0.8907637596130371, 0.0, 0.0, 0.0, 0.0, 0.0, 0.0, 0.0, 0.0, 0.0, 0.0], [0.005058860406279564, 0.000882354099303484, 0.0015358275268226862, 0.0016909866826608777, 0.0013438730966299772, 0.0004949701833538711, 0.0006572249112650752, 0.000552159093786031, 0.000581209606025368, 0.0020545588340610266, 0.0008380856597796082, 0.0010067486437037587, 0.001130085438489914, 0.001613991684280336, 0.00502287270501256, 0.014576870016753674, 0.0037143270019441843, 0.00468147499486804, 0.00791381485760212, 0.00677838921546936, 0.012291360646486282, 0.02773299440741539, 0.10214638710021973, 0.7957004904747009, 0.0, 0.0, 0.0, 0.0, 0.0, 0.0, 0.0, 0.0, 0.0], [0.004004694055765867, 0.00045769705320708454, 0.001564521575346589, 0.0031372022349387407, 0.0019937437027692795, 0.00037892634281888604, 0.0004957785131409764, 0.0005698020104318857, 0.0010052066063508391, 0.0023432234302163124, 0.000577214581426233, 0.0016756134573370218, 0.0030787361320108175, 0.0012285254197195172, 0.0052783251740038395, 0.006328051909804344, 0.003151729702949524, 0.005319307092577219, 0.02138310857117176, 0.006147702690213919, 0.012332224287092686, 0.07402162253856659, 0.1211402490735054, 0.5611117482185364, 0.16127502918243408, 0.0, 0.0, 0.0, 0.0, 0.0, 0.0, 0.0, 0.0], [0.001128658070228994, 4.988930231775157e-05, 4.129138324060477e-05, 9.24963824218139e-05, 5.51363846170716e-05, 3.8617366953985766e-05, 5.59204381715972e-05, 0.0001489632559241727, 5.509230959432898e-06, 6.817452958784997e-05, 3.6204492062097415e-05, 4.623966015060432e-05, 0.0010655040387064219, 5.919886825722642e-05, 7.787268259562552e-05, 0.00038421296630986035, 0.00011692449334077537, 0.00022428261581808329, 0.0005083996220491827, 0.000156281515955925, 0.0003233152092434466, 0.0007086835685186088, 0.0009207433904521167, 0.000855972757562995, 0.004414445720613003, 0.9884170889854431, 0.0, 0.0, 0.0, 0.0, 0.0, 0.0, 0.0], [0.002429968910291791, 0.003659638110548258, 0.0006344973226077855, 0.0006202646181918681, 0.002987676067277789, 0.0003476364363450557, 0.0005059160757809877, 0.0004114967305213213, 0.00021321575331967324, 0.000650934292934835, 0.00039556898991577327, 0.16986437141895294, 0.0021888979244977236, 0.0006812371429987252, 0.0008683764608576894, 0.008905136957764626, 0.001463850261643529, 0.0013394583947956562, 0.006495130248367786, 0.007638707756996155, 0.00461939349770546, 0.0031617884524166584, 0.014200889505445957, 0.046396613121032715, 0.022786034271121025, 0.21939241886138916, 0.4771409332752228, 0.0, 0.0, 0.0, 0.0, 0.0, 0.0], [0.01561034470796585, 0.0009648078703321517, 0.0010281841969117522, 0.0071485210210084915, 0.005316658411175013, 0.0005432688631117344, 0.0007839894969947636, 0.00047082992387004197, 0.0022980384528636932, 0.005463100969791412, 0.0005483075510710478, 0.0008661506581120193, 0.0009035564726218581, 0.0009251972078345716, 0.008375938981771469, 0.0014478116063401103, 0.002061491133645177, 0.0036933845840394497, 0.017008868977427483, 0.006138672586530447, 0.0070418999530375, 0.041287098079919815, 0.06922487914562225, 0.2661718428134918, 0.05024212598800659, 0.1144513413310051, 0.13764901459217072, 0.23233464360237122, 0.0, 0.0, 0.0, 0.0, 0.0], [0.02189529873430729, 0.0013514538295567036, 0.0013727964833378792, 0.005157724488526583, 0.010932797566056252, 0.0004452221328392625, 0.0016178287332877517, 0.0005713265854865313, 0.0007700271671637893, 0.0030935369431972504, 0.00036163401091471314, 0.000932903029024601, 0.001903239986859262, 0.0005254385177977383, 0.0007036192109808326, 0.0015780625399202108, 0.0010200467659160495, 0.0009346716105937958, 0.005167576018720865, 0.0007855423027649522, 0.0028796831611543894, 0.006337146274745464, 0.049514152109622955, 0.021886909380555153, 0.030046822503209114, 0.06941599398851395, 0.02995389513671398, 0.06111619994044304, 0.6677284836769104, 0.0, 0.0, 0.0, 0.0], [0.000294666038826108, 8.085126319201663e-05, 0.00011992641520919278, 0.0001715401012916118, 0.00038990125176496804, 8.630267984699458e-05, 5.25372706761118e-05, 6.616386963287368e-05, 0.0001137840372393839, 6.200086500030011e-05, 0.00011238036677241325, 0.0005867322906851768, 9.78500975179486e-05, 0.00021334874327294528, 0.00040444257319904864, 0.00047262446605600417, 0.0004730735963676125, 0.0005199530860409141, 0.0008571154903620481, 0.00022720213746652007, 0.0015976798022165895, 0.0014780652709305286, 0.0016501453937962651, 0.0093396520242095, 0.012792675755918026, 0.012606967240571976, 0.021659621968865395, 0.02886747568845749, 0.0778479129076004, 0.826757550239563, 0.0, 0.0, 0.0], [0.0006396541139110923, 0.0001992026373045519, 0.0003378460824023932, 0.0003228614223189652, 0.0003883978060912341, 2.2511421775561757e-05, 0.00011559668928384781, 1.968370816030074e-05, 8.749762491788715e-05, 0.00016675748338457197, 2.1353202100726776e-05, 0.0001825768267735839, 0.002879622858017683, 3.2708350772736594e-05, 6.355984805850312e-05, 0.0009078503935597837, 6.314194615697488e-05, 4.954513497068547e-05, 0.005010182503610849, 0.00021555769490078092, 0.00018923310562968254, 0.00023579836124554276, 0.0021191718988120556, 0.003475247649475932, 0.0004957503406330943, 0.012673024088144302, 0.0026274609845131636, 0.001192636787891388, 0.02801147848367691, 0.14214563369750977, 0.7951083779335022, 0.0, 0.0], [0.005492149852216244, 0.0014179612044245005, 6.310038588708267e-05, 0.0009282372775487602, 0.0004675877280533314, 9.701230737846345e-05, 5.6787015637382865e-05, 6.82406680425629e-05, 4.054810415254906e-05, 0.00021011468197684735, 6.534699787152931e-05, 0.00011957802053075284, 9.082323231268674e-05, 9.077344293473288e-05, 0.0001382746995659545, 0.0004122828249819577, 0.0001690058852545917, 0.00013570708688348532, 0.002428322099149227, 0.00020654787658713758, 0.0004959602956660092, 0.00016561975644435734, 0.0018254045862704515, 0.0016808181535452604, 0.0010187349980697036, 0.015071484260261059, 0.003408379852771759, 0.003384194802492857, 0.018865535035729408, 0.010037437081336975, 0.008259563706815243, 0.923088550567627, 0.0], [0.009386108256876469, 0.0017380565404891968, 0.0018091691890731454, 0.0014350239653140306, 0.0016812817193567753, 0.001979129621759057, 0.0014143431326374412, 0.002112783258780837, 0.0012016947148367763, 0.0010467652464285493, 0.0012532471446320415, 0.0012125696521252394, 0.0006952418480068445, 0.001685018534772098, 0.0012904965551570058, 0.0014949407195672393, 0.0030524604953825474, 0.006176413036882877, 0.003993148449808359, 0.0029945187270641327, 0.008827602490782738, 0.009542388841509819, 0.010477345436811447, 0.02145143412053585, 0.062213554978370667, 0.026861034333705902, 0.03390644118189812, 0.11987607181072235, 0.050274692475795746, 0.0267968587577343, 0.031165683642029762, 0.10728629678487778, 0.4436681568622589]], [[1.0, 0.0, 0.0, 0.0, 0.0, 0.0, 0.0, 0.0, 0.0, 0.0, 0.0, 0.0, 0.0, 0.0, 0.0, 0.0, 0.0, 0.0, 0.0, 0.0, 0.0, 0.0, 0.0, 0.0, 0.0, 0.0, 0.0, 0.0, 0.0, 0.0, 0.0, 0.0, 0.0], [0.10520479083061218, 0.8947951793670654, 0.0, 0.0, 0.0, 0.0, 0.0, 0.0, 0.0, 0.0, 0.0, 0.0, 0.0, 0.0, 0.0, 0.0, 0.0, 0.0, 0.0, 0.0, 0.0, 0.0, 0.0, 0.0, 0.0, 0.0, 0.0, 0.0, 0.0, 0.0, 0.0, 0.0, 0.0], [0.03907211124897003, 0.0020172216463834047, 0.9589106440544128, 0.0, 0.0, 0.0, 0.0, 0.0, 0.0, 0.0, 0.0, 0.0, 0.0, 0.0, 0.0, 0.0, 0.0, 0.0, 0.0, 0.0, 0.0, 0.0, 0.0, 0.0, 0.0, 0.0, 0.0, 0.0, 0.0, 0.0, 0.0, 0.0, 0.0], [0.015578649006783962, 0.0008392537129111588, 0.0006979772006161511, 0.9828841090202332, 0.0, 0.0, 0.0, 0.0, 0.0, 0.0, 0.0, 0.0, 0.0, 0.0, 0.0, 0.0, 0.0, 0.0, 0.0, 0.0, 0.0, 0.0, 0.0, 0.0, 0.0, 0.0, 0.0, 0.0, 0.0, 0.0, 0.0, 0.0, 0.0], [0.008856466971337795, 9.934306035574991e-06, 1.117485408030916e-05, 0.00030247055110521615, 0.9908198714256287, 0.0, 0.0, 0.0, 0.0, 0.0, 0.0, 0.0, 0.0, 0.0, 0.0, 0.0, 0.0, 0.0, 0.0, 0.0, 0.0, 0.0, 0.0, 0.0, 0.0, 0.0, 0.0, 0.0, 0.0, 0.0, 0.0, 0.0, 0.0], [0.3544497787952423, 0.0305892676115036, 0.05988960340619087, 0.022903524339199066, 0.0474759005010128, 0.48469194769859314, 0.0, 0.0, 0.0, 0.0, 0.0, 0.0, 0.0, 0.0, 0.0, 0.0, 0.0, 0.0, 0.0, 0.0, 0.0, 0.0, 0.0, 0.0, 0.0, 0.0, 0.0, 0.0, 0.0, 0.0, 0.0, 0.0, 0.0], [0.044769056141376495, 0.0015664668753743172, 0.000377385294996202, 0.00025073293363675475, 0.00040889691445045173, 0.0002606563502922654, 0.952366828918457, 0.0, 0.0, 0.0, 0.0, 0.0, 0.0, 0.0, 0.0, 0.0, 0.0, 0.0, 0.0, 0.0, 0.0, 0.0, 0.0, 0.0, 0.0, 0.0, 0.0, 0.0, 0.0, 0.0, 0.0, 0.0, 0.0], [0.09058346599340439, 0.001147073577158153, 0.006027341354638338, 0.000546847702935338, 0.0017094208160415292, 0.00378508516587317, 0.0026845417451113462, 0.8935161828994751, 0.0, 0.0, 0.0, 0.0, 0.0, 0.0, 0.0, 0.0, 0.0, 0.0, 0.0, 0.0, 0.0, 0.0, 0.0, 0.0, 0.0, 0.0, 0.0, 0.0, 0.0, 0.0, 0.0, 0.0, 0.0], [0.0060107288882136345, 2.428904736007098e-05, 0.00031266716541722417, 1.8682918380363844e-05, 0.0002979242999572307, 9.904515536618419e-06, 6.619554824283114e-06, 7.912206569926639e-07, 0.9933184385299683, 0.0, 0.0, 0.0, 0.0, 0.0, 0.0, 0.0, 0.0, 0.0, 0.0, 0.0, 0.0, 0.0, 0.0, 0.0, 0.0, 0.0, 0.0, 0.0, 0.0, 0.0, 0.0, 0.0, 0.0], [0.00454681646078825, 0.00020019362273160368, 0.00029920271481387317, 0.001336391200311482, 0.0003267655265517533, 8.741358215047512e-07, 1.7415721231373027e-05, 2.7834167326545867e-07, 0.00029665272450074553, 0.9929754734039307, 0.0, 0.0, 0.0, 0.0, 0.0, 0.0, 0.0, 0.0, 0.0, 0.0, 0.0, 0.0, 0.0, 0.0, 0.0, 0.0, 0.0, 0.0, 0.0, 0.0, 0.0, 0.0, 0.0], [0.12262554466724396, 0.02392657846212387, 0.03827652707695961, 0.01617196388542652, 0.030366240069270134, 0.293759286403656, 0.10661354660987854, 0.0705995187163353, 0.04190010577440262, 0.017833100631833076, 0.2379276007413864, 0.0, 0.0, 0.0, 0.0, 0.0, 0.0, 0.0, 0.0, 0.0, 0.0, 0.0, 0.0, 0.0, 0.0, 0.0, 0.0, 0.0, 0.0, 0.0, 0.0, 0.0, 0.0], [0.0008121050195768476, 0.00011546615860424936, 0.00013500881323125213, 5.539281846722588e-05, 0.0001317410496994853, 1.0027167718362762e-06, 1.3799076441500802e-06, 1.6001598623915925e-07, 1.8972953057527775e-06, 5.419655622063146e-07, 4.7530869551337673e-07, 0.9987448453903198, 0.0, 0.0, 0.0, 0.0, 0.0, 0.0, 0.0, 0.0, 0.0, 0.0, 0.0, 0.0, 0.0, 0.0, 0.0, 0.0, 0.0, 0.0, 0.0, 0.0, 0.0], [0.0013333058450371027, 0.00010533058230066672, 0.0007669612532481551, 0.0009021882433444262, 3.5708394534594845e-06, 8.120483130369394e-07, 1.4038103302027594e-07, 9.56129397877703e-08, 1.686508653619967e-06, 2.9789038308081217e-05, 4.381344922421704e-07, 1.1965810244873865e-06, 0.9968544840812683, 0.0, 0.0, 0.0, 0.0, 0.0, 0.0, 0.0, 0.0, 0.0, 0.0, 0.0, 0.0, 0.0, 0.0, 0.0, 0.0, 0.0, 0.0, 0.0, 0.0], [0.08159800618886948, 0.02138885296881199, 0.028877170756459236, 0.012675784528255463, 0.024931570515036583, 0.22996489703655243, 0.10401233285665512, 0.06472098082304001, 0.03460093215107918, 0.015198717825114727, 0.1856415718793869, 0.020528046414256096, 0.005003849510103464, 0.1708572655916214, 0.0, 0.0, 0.0, 0.0, 0.0, 0.0, 0.0, 0.0, 0.0, 0.0, 0.0, 0.0, 0.0, 0.0, 0.0, 0.0, 0.0, 0.0, 0.0], [0.0013488875702023506, 8.921202970668674e-05, 0.0006859967252239585, 0.0006963209598325193, 2.1248602934065275e-05, 3.7633867577824276e-07, 6.226732125469425e-07, 4.307212293497287e-07, 7.091874067555182e-06, 0.0013103687670081854, 1.6113736478473584e-07, 9.548743946652394e-07, 0.00016453592979814857, 1.1531915333762299e-07, 0.9956737160682678, 0.0, 0.0, 0.0, 0.0, 0.0, 0.0, 0.0, 0.0, 0.0, 0.0, 0.0, 0.0, 0.0, 0.0, 0.0, 0.0, 0.0, 0.0], [0.0010867511155083776, 0.00040724786231294274, 0.00010700341954361647, 0.0006782711134292185, 0.00011028484004782513, 1.3184238412122795e-07, 2.660271150034532e-07, 4.619564037966484e-07, 8.409730980929453e-06, 0.0007784883491694927, 5.109449574547398e-08, 8.792079029262823e-07, 4.9342852435074747e-05, 3.4893165690164096e-08, 0.000114411988761276, 0.9966580867767334, 0.0, 0.0, 0.0, 0.0, 0.0, 0.0, 0.0, 0.0, 0.0, 0.0, 0.0, 0.0, 0.0, 0.0, 0.0, 0.0, 0.0], [0.05868089199066162, 0.018785733729600906, 0.024067318066954613, 0.011013144627213478, 0.02145637758076191, 0.1911056935787201, 0.09902714937925339, 0.060658663511276245, 0.03016272373497486, 0.014801906421780586, 0.15370333194732666, 0.016615159809589386, 0.0043853819370269775, 0.14085334539413452, 0.01501499954611063, 0.0053902072831988335, 0.13427799940109253, 0.0, 0.0, 0.0, 0.0, 0.0, 0.0, 0.0, 0.0, 0.0, 0.0, 0.0, 0.0, 0.0, 0.0, 0.0, 0.0], [0.07323037832975388, 0.028374576941132545, 0.021058261394500732, 0.007611886598169804, 0.010053582489490509, 0.06553955376148224, 0.1455976665019989, 0.08620847761631012, 0.010241267271339893, 0.007425738964229822, 0.04526272416114807, 0.006621459499001503, 0.0011621781159192324, 0.039238568395376205, 0.008256878703832626, 0.0030656892340630293, 0.03612265735864639, 0.4049285054206848, 0.0, 0.0, 0.0, 0.0, 0.0, 0.0, 0.0, 0.0, 0.0, 0.0, 0.0, 0.0, 0.0, 0.0, 0.0], [7.94449370005168e-05, 1.8382105508862878e-06, 3.7134324060161816e-08, 1.557524774398189e-05, 3.472372327451012e-06, 1.316507125537214e-09, 2.7038657535172206e-08, 1.718662012706318e-08, 9.2322629541286e-08, 1.3506365576176904e-05, 4.4787801245504966e-10, 2.0416692780855783e-09, 5.54200738633881e-08, 3.063855003038185e-10, 4.2177114778496616e-07, 7.065867521305336e-06, 2.4244301011222547e-10, 1.4397331105087119e-09, 0.9998784065246582, 0.0, 0.0, 0.0, 0.0, 0.0, 0.0, 0.0, 0.0, 0.0, 0.0, 0.0, 0.0, 0.0, 0.0], [0.002934493590146303, 0.0005883852136321366, 0.004250307101756334, 0.004028463736176491, 0.00011592954979278147, 4.3316258597769774e-06, 6.773906079615699e-06, 7.076467591105029e-05, 0.0002495272201485932, 0.00031593351741321385, 2.082441824313719e-06, 4.4092124880990013e-05, 0.00030446931486949325, 1.4702575299452292e-06, 0.00019761342264246196, 0.0013599254889413714, 1.2478662938519847e-06, 6.875188319099834e-06, 0.000192611274542287, 0.9853246808052063, 0.0, 0.0, 0.0, 0.0, 0.0, 0.0, 0.0, 0.0, 0.0, 0.0, 0.0, 0.0, 0.0], [0.0405653640627861, 0.017898330464959145, 0.020600976422429085, 0.009821103885769844, 0.01788281835615635, 0.15654000639915466, 0.09208230674266815, 0.05628824234008789, 0.026661334559321404, 0.014471275731921196, 0.12537623941898346, 0.013986770063638687, 0.003927926998585463, 0.11453615128993988, 0.013395381160080433, 0.004846666939556599, 0.10880254209041595, 0.04953394830226898, 0.005186409689486027, 0.004420874174684286, 0.10317535698413849, 0.0, 0.0, 0.0, 0.0, 0.0, 0.0, 0.0, 0.0, 0.0, 0.0, 0.0, 0.0], [0.024536365643143654, 0.003124342067167163, 0.0009699314832687378, 4.63154683529865e-05, 0.00013434789434541017, 0.0006453946698457003, 0.011668852530419827, 0.0003271346795372665, 0.00045730522833764553, 2.397611751803197e-05, 0.00034454200067557395, 4.996428106096573e-05, 2.575740472821053e-05, 0.00028217773069627583, 6.525329808937386e-06, 4.981813617632724e-06, 0.00023554045765195042, 0.00026645135949365795, 2.5311175704700872e-05, 2.9761118639726192e-05, 0.0001880926574813202, 0.9566068649291992, 0.0, 0.0, 0.0, 0.0, 0.0, 0.0, 0.0, 0.0, 0.0, 0.0, 0.0], [0.002075995085760951, 0.00014591761282645166, 5.289893306326121e-05, 4.2180658056167886e-05, 4.7387107770191506e-05, 4.1423234620197036e-07, 0.00012964275083504617, 2.4250975911854766e-05, 1.8034011191048194e-06, 1.4839239383945824e-06, 1.4489953059637628e-07, 4.199920567771187e-06, 4.106825457483865e-08, 1.0260462346423083e-07, 8.285448984679533e-07, 5.7818925824904e-07, 7.695144432773304e-08, 6.669597496511415e-08, 6.472609675256535e-05, 1.5700858284617425e-06, 5.641820521873342e-08, 4.403023922350258e-06, 0.9974013566970825, 0.0, 0.0, 0.0, 0.0, 0.0, 0.0, 0.0, 0.0, 0.0, 0.0], [0.0005159099819138646, 0.00011814619938377291, 3.270557863288559e-05, 0.00021188679966144264, 4.563520269584842e-05, 2.9248784016999707e-07, 3.057933781747124e-06, 7.607346219629108e-08, 0.0001375367137370631, 0.0005283530335873365, 1.1576003089430742e-07, 4.028573584946571e-06, 2.07929269890883e-06, 8.805391615851477e-08, 0.00010051658318843693, 4.431615161593072e-05, 6.963698950812613e-08, 9.373022180625412e-08, 3.3377655199728906e-05, 1.5888872439973056e-05, 5.6106753021367695e-08, 7.05262834799214e-08, 9.389279512106441e-06, 0.9981963038444519, 0.0, 0.0, 0.0, 0.0, 0.0, 0.0, 0.0, 0.0, 0.0], [0.06915231794118881, 0.01403210312128067, 0.005599101539701223, 0.001257685711607337, 0.0008468003943562508, 0.009601176716387272, 0.008965776301920414, 0.05247695371508598, 0.0002502836287021637, 0.0009063855977728963, 0.005419904366135597, 0.0007309209904633462, 0.00019187953148502856, 0.004396581556648016, 0.005964718759059906, 0.000355853873770684, 0.003877017879858613, 0.009727219119668007, 0.001102349255234003, 0.00036442908458411694, 0.0034139580093324184, 0.0030523547902703285, 0.00569825479760766, 0.00029557320522144437, 0.7923203706741333, 0.0, 0.0, 0.0, 0.0, 0.0, 0.0, 0.0, 0.0], [0.001046158722601831, 1.955721563717816e-05, 1.7359042203679564e-06, 3.1030554964672774e-05, 2.7308031349093653e-05, 1.0180717602281675e-08, 4.815781835532107e-07, 1.7494281223662256e-07, 7.3124517996348e-08, 7.983091450114443e-07, 3.464323272694969e-09, 4.906740741716931e-06, 1.0718973442180868e-07, 2.35255281921809e-09, 2.3834166995584383e-07, 1.3731386161452974e-06, 1.8288706105096253e-09, 6.247633965728028e-09, 9.208356459566858e-06, 1.6384317405027105e-06, 1.2523946324449753e-09, 8.27128976421676e-10, 8.456793693767395e-06, 3.1186914384306874e-06, 9.241437837204103e-09, 0.9988435506820679, 0.0, 0.0, 0.0, 0.0, 0.0, 0.0, 0.0], [0.0010544945253059268, 0.00021373217168729752, 0.0002815719344653189, 0.0011373362503945827, 0.00014783968799747527, 2.0068493995495373e-06, 4.831355909118429e-06, 3.482335159787908e-06, 5.100344878883334e-06, 0.000124204860185273, 9.301510885961761e-07, 1.058263296727091e-05, 1.168826474895468e-05, 7.077505301822384e-07, 0.0034115957096219063, 0.00019905276712961495, 5.995612468723266e-07, 4.6430378120021487e-07, 1.9585138943511993e-05, 0.00011087791790487245, 4.7500537903033546e-07, 3.2808816285978537e-07, 4.535354491963517e-06, 5.1617142162285745e-05, 3.2474736144649796e-07, 1.3071360626781825e-05, 0.9931889772415161, 0.0, 0.0, 0.0, 0.0, 0.0, 0.0], [0.024200769141316414, 0.0028201285749673843, 0.004319298546761274, 0.0009108301601372659, 0.0017753951251506805, 0.003809913992881775, 0.00295332376845181, 0.016714781522750854, 0.0013931747525930405, 0.005003180354833603, 0.0022760885767638683, 0.0005876413779333234, 0.0009901630692183971, 0.0018066930351778865, 0.003131238743662834, 0.00023389386478811502, 0.0016082720831036568, 0.009910299442708492, 0.0028539523482322693, 0.00020495163334999233, 0.001371264923363924, 0.0069190021604299545, 0.0010336581617593765, 0.00014528397878166288, 0.017489781603217125, 0.00046553139691241086, 0.0003024085017386824, 0.884769082069397, 0.0, 0.0, 0.0, 0.0, 0.0], [0.0005256083677522838, 3.528644811012782e-06, 1.7037668840202969e-06, 9.408171172253788e-05, 0.6647970080375671, 1.653147734259619e-07, 9.51111303493235e-07, 8.886892146620085e-07, 1.701669862086419e-05, 3.7421832530526444e-05, 6.832259913380767e-08, 9.810918527364265e-06, 7.548730707185314e-08, 4.963256827750229e-08, 2.0393908926052973e-06, 7.686546268814709e-06, 4.0668474809990585e-08, 2.6744341852236175e-08, 3.343185017001815e-05, 4.341083013059688e-07, 3.007991011827471e-08, 3.206054088877863e-08, 4.900574822386261e-06, 3.060945573452045e-06, 1.4603210196639793e-08, 2.2145519324112684e-05, 9.211162250721827e-06, 3.164275241829273e-08, 0.3344285786151886, 0.0, 0.0, 0.0, 0.0], [0.004677004646509886, 0.0002802134840749204, 8.346102549694479e-05, 3.157015271426644e-06, 4.065346672632586e-07, 1.3343500882001536e-07, 2.6423611416248605e-05, 1.1439977498639564e-07, 2.787237463053316e-07, 3.7496063214348396e-06, 4.652897445112103e-08, 1.7213982346220291e-06, 1.8165617632348585e-07, 3.148475968828279e-08, 1.8334249318741058e-07, 5.2147463236451586e-08, 2.5215808108214333e-08, 3.078440968806717e-08, 7.142043045860191e-08, 1.6640171907056356e-08, 1.7768222448921733e-08, 8.634525272555038e-08, 2.8009644665871747e-06, 8.454143767266942e-07, 3.098357126418705e-08, 2.927866091795295e-07, 5.67622805647261e-07, 5.055421414823513e-09, 2.9141034474378102e-08, 0.9949179887771606, 0.0, 0.0, 0.0], [5.636792411678471e-05, 0.0002002374967560172, 1.6319110045515117e-06, 1.508931291027693e-06, 1.7779768313630484e-05, 5.95644145118257e-10, 6.940375897102058e-06, 5.034010541749012e-09, 2.1682893702745787e-07, 1.7164256860269234e-06, 1.9326265587871205e-10, 1.8911425314627195e-08, 9.538840117784275e-08, 1.2946883842790413e-10, 8.07715050399338e-09, 4.386615546536632e-05, 9.768683778554887e-11, 5.256080015669795e-10, 6.93216934450902e-05, 7.505880716962565e-08, 7.069290985928234e-11, 3.988046870517792e-08, 1.0610276149236597e-05, 2.2120727862784406e-06, 8.688617048058234e-10, 9.92847799352603e-06, 5.390105251024124e-09, 1.1354458345769203e-10, 3.0600433547078865e-06, 3.8945626101849484e-07, 0.9995738863945007, 0.0, 0.0], [0.00035569691681303084, 1.9489438273012638e-05, 9.16096723813098e-06, 1.3085226783005055e-05, 2.3808808691683225e-05, 2.9718906446873916e-08, 4.160590469837189e-05, 1.7756474335328676e-07, 6.896235049680399e-07, 1.0506209946470335e-06, 1.2230741752716767e-08, 4.290535798645578e-06, 3.295820931725757e-07, 9.211071905212975e-09, 1.7466363715357147e-06, 4.682776307163294e-06, 7.442711336125285e-09, 9.67378266381047e-09, 3.9665061194682494e-05, 7.324877628889226e-07, 5.5436903956262995e-09, 1.0396686178637538e-07, 1.4401575754163787e-05, 8.873323167790659e-06, 5.9894045278952035e-09, 1.5627754692104645e-05, 2.9811192234774353e-06, 6.874329550043967e-09, 4.85464624944143e-06, 7.072258540574694e-06, 6.210673745954409e-06, 0.999423623085022, 0.0], [0.05455268546938896, 0.016429057344794273, 0.016008341684937477, 0.006986880209296942, 0.024884143844246864, 0.07376933097839355, 0.07933786511421204, 0.05594552680850029, 0.02726820483803749, 0.013368777930736542, 0.05590308457612991, 0.007223025895655155, 0.00542657682672143, 0.05012328177690506, 0.008279064670205116, 0.003060964634642005, 0.04682298004627228, 0.047518473118543625, 0.0028449436649680138, 0.007037976291030645, 0.04282715544104576, 0.051381904631853104, 0.02728237397968769, 0.02637534588575363, 0.02615920826792717, 0.011997980996966362, 0.00622012373059988, 0.03648781031370163, 0.011124699376523495, 0.005218563601374626, 0.0025592006277292967, 0.00260402774438262, 0.1469704508781433]], [[1.0, 0.0, 0.0, 0.0, 0.0, 0.0, 0.0, 0.0, 0.0, 0.0, 0.0, 0.0, 0.0, 0.0, 0.0, 0.0, 0.0, 0.0, 0.0, 0.0, 0.0, 0.0, 0.0, 0.0, 0.0, 0.0, 0.0, 0.0, 0.0, 0.0, 0.0, 0.0, 0.0], [0.9192657470703125, 0.08073429018259048, 0.0, 0.0, 0.0, 0.0, 0.0, 0.0, 0.0, 0.0, 0.0, 0.0, 0.0, 0.0, 0.0, 0.0, 0.0, 0.0, 0.0, 0.0, 0.0, 0.0, 0.0, 0.0, 0.0, 0.0, 0.0, 0.0, 0.0, 0.0, 0.0, 0.0, 0.0], [0.4543737471103668, 0.42650431394577026, 0.11912190169095993, 0.0, 0.0, 0.0, 0.0, 0.0, 0.0, 0.0, 0.0, 0.0, 0.0, 0.0, 0.0, 0.0, 0.0, 0.0, 0.0, 0.0, 0.0, 0.0, 0.0, 0.0, 0.0, 0.0, 0.0, 0.0, 0.0, 0.0, 0.0, 0.0, 0.0], [0.5267522931098938, 0.2232162207365036, 0.12420625239610672, 0.12582522630691528, 0.0, 0.0, 0.0, 0.0, 0.0, 0.0, 0.0, 0.0, 0.0, 0.0, 0.0, 0.0, 0.0, 0.0, 0.0, 0.0, 0.0, 0.0, 0.0, 0.0, 0.0, 0.0, 0.0, 0.0, 0.0, 0.0, 0.0, 0.0, 0.0], [0.39034879207611084, 0.1709941178560257, 0.06872711330652237, 0.1837182193994522, 0.1862117499113083, 0.0, 0.0, 0.0, 0.0, 0.0, 0.0, 0.0, 0.0, 0.0, 0.0, 0.0, 0.0, 0.0, 0.0, 0.0, 0.0, 0.0, 0.0, 0.0, 0.0, 0.0, 0.0, 0.0, 0.0, 0.0, 0.0, 0.0, 0.0], [0.19744212925434113, 0.2543684244155884, 0.14488466084003448, 0.18925856053829193, 0.20821942389011383, 0.005826788023114204, 0.0, 0.0, 0.0, 0.0, 0.0, 0.0, 0.0, 0.0, 0.0, 0.0, 0.0, 0.0, 0.0, 0.0, 0.0, 0.0, 0.0, 0.0, 0.0, 0.0, 0.0, 0.0, 0.0, 0.0, 0.0, 0.0, 0.0], [0.19473569095134735, 0.13241830468177795, 0.14391931891441345, 0.1512073427438736, 0.30024465918540955, 0.020584633573889732, 0.05688999220728874, 0.0, 0.0, 0.0, 0.0, 0.0, 0.0, 0.0, 0.0, 0.0, 0.0, 0.0, 0.0, 0.0, 0.0, 0.0, 0.0, 0.0, 0.0, 0.0, 0.0, 0.0, 0.0, 0.0, 0.0, 0.0, 0.0], [0.1269666701555252, 0.21597382426261902, 0.1608932912349701, 0.1969883143901825, 0.18844623863697052, 0.01354492548853159, 0.07520709931850433, 0.021979713812470436, 0.0, 0.0, 0.0, 0.0, 0.0, 0.0, 0.0, 0.0, 0.0, 0.0, 0.0, 0.0, 0.0, 0.0, 0.0, 0.0, 0.0, 0.0, 0.0, 0.0, 0.0, 0.0, 0.0, 0.0, 0.0], [0.2912123203277588, 0.05954229459166527, 0.11079412698745728, 0.09717854857444763, 0.22345606982707977, 0.016262583434581757, 0.08719441294670105, 0.02476227656006813, 0.0895974338054657, 0.0, 0.0, 0.0, 0.0, 0.0, 0.0, 0.0, 0.0, 0.0, 0.0, 0.0, 0.0, 0.0, 0.0, 0.0, 0.0, 0.0, 0.0, 0.0, 0.0, 0.0, 0.0, 0.0, 0.0], [0.22981958091259003, 0.03802677243947983, 0.160138338804245, 0.11780405044555664, 0.1618119329214096, 0.03552818298339844, 0.07561115175485611, 0.020756028592586517, 0.10670632869005203, 0.05379769206047058, 0.0, 0.0, 0.0, 0.0, 0.0, 0.0, 0.0, 0.0, 0.0, 0.0, 0.0, 0.0, 0.0, 0.0, 0.0, 0.0, 0.0, 0.0, 0.0, 0.0, 0.0, 0.0, 0.0], [0.13314427435398102, 0.1885865181684494, 0.10808100551366806, 0.15994969010353088, 0.17739208042621613, 0.003598014824092388, 0.02506208047270775, 0.012862924486398697, 0.07453098148107529, 0.11275243759155273, 0.0040399846620857716, 0.0, 0.0, 0.0, 0.0, 0.0, 0.0, 0.0, 0.0, 0.0, 0.0, 0.0, 0.0, 0.0, 0.0, 0.0, 0.0, 0.0, 0.0, 0.0, 0.0, 0.0, 0.0], [0.16746403276920319, 0.1435522586107254, 0.06118571758270264, 0.17358073592185974, 0.10113828629255295, 0.01755346544086933, 0.032395292073488235, 0.007995491847395897, 0.05453447625041008, 0.07883203029632568, 0.017258210107684135, 0.1445099413394928, 0.0, 0.0, 0.0, 0.0, 0.0, 0.0, 0.0, 0.0, 0.0, 0.0, 0.0, 0.0, 0.0, 0.0, 0.0, 0.0, 0.0, 0.0, 0.0, 0.0, 0.0], [0.269968181848526, 0.1302907019853592, 0.06605684757232666, 0.06156139820814133, 0.08437129855155945, 0.019846618175506592, 0.01631278730928898, 0.012965916655957699, 0.03231465071439743, 0.05254792049527168, 0.019868608564138412, 0.13695639371871948, 0.09693866223096848, 0.0, 0.0, 0.0, 0.0, 0.0, 0.0, 0.0, 0.0, 0.0, 0.0, 0.0, 0.0, 0.0, 0.0, 0.0, 0.0, 0.0, 0.0, 0.0, 0.0], [0.09820345789194107, 0.1361864060163498, 0.08005785197019577, 0.12152864038944244, 0.1357937753200531, 0.0024323563557118177, 0.01778949797153473, 0.009086485020816326, 0.05637528374791145, 0.08521631360054016, 0.002753336215391755, 0.1520378738641739, 0.09946723282337189, 0.0030714021995663643, 0.0, 0.0, 0.0, 0.0, 0.0, 0.0, 0.0, 0.0, 0.0, 0.0, 0.0, 0.0, 0.0, 0.0, 0.0, 0.0, 0.0, 0.0, 0.0], [0.1701289266347885, 0.08885714411735535, 0.09089688956737518, 0.08085784316062927, 0.11427337676286697, 0.01090148277580738, 0.014788413420319557, 0.0054973699152469635, 0.05151257663965225, 0.05330682918429375, 0.010595811530947685, 0.094422847032547, 0.1309812068939209, 0.011153683997690678, 0.07182563841342926, 0.0, 0.0, 0.0, 0.0, 0.0, 0.0, 0.0, 0.0, 0.0, 0.0, 0.0, 0.0, 0.0, 0.0, 0.0, 0.0, 0.0, 0.0], [0.103658527135849, 0.035885393619537354, 0.08803563565015793, 0.06087934598326683, 0.08348328620195389, 0.03080575540661812, 0.029615938663482666, 0.01091869454830885, 0.04049993306398392, 0.042886052280664444, 0.032192960381507874, 0.1500813215970993, 0.12658780813217163, 0.034902192652225494, 0.05825435742735863, 0.0713128000497818, 0.0, 0.0, 0.0, 0.0, 0.0, 0.0, 0.0, 0.0, 0.0, 0.0, 0.0, 0.0, 0.0, 0.0, 0.0, 0.0, 0.0], [0.0704709142446518, 0.09600995481014252, 0.05621582269668579, 0.0869988277554512, 0.09934128820896149, 0.0016298769041895866, 0.012408620677888393, 0.006380434148013592, 0.04101403430104256, 0.06348709017038345, 0.0018482183804735541, 0.11387644708156586, 0.07328981161117554, 0.002071293769404292, 0.07246166467666626, 0.20012786984443665, 0.002367776818573475, 0.0, 0.0, 0.0, 0.0, 0.0, 0.0, 0.0, 0.0, 0.0, 0.0, 0.0, 0.0, 0.0, 0.0, 0.0, 0.0], [0.05659443512558937, 0.08906206488609314, 0.0470324382185936, 0.09457874298095703, 0.08793889731168747, 0.0019721637945622206, 0.017767688259482384, 0.005990442354232073, 0.06014857441186905, 0.08834964036941528, 0.00226376811042428, 0.10461529344320297, 0.06079370528459549, 0.0025566238909959793, 0.0781862661242485, 0.19496020674705505, 0.0029299946036189795, 0.00425906153395772, 0.0, 0.0, 0.0, 0.0, 0.0, 0.0, 0.0, 0.0, 0.0, 0.0, 0.0, 0.0, 0.0, 0.0, 0.0], [0.159706249833107, 0.02609645202755928, 0.04515179246664047, 0.03497578576207161, 0.08030679076910019, 0.05469035357236862, 0.04078543931245804, 0.026513004675507545, 0.02725193277001381, 0.03919816389679909, 0.05351431667804718, 0.0484292097389698, 0.0626426637172699, 0.05558210611343384, 0.05559666454792023, 0.04792959988117218, 0.056763261556625366, 0.048923008143901825, 0.035943202674388885, 0.0, 0.0, 0.0, 0.0, 0.0, 0.0, 0.0, 0.0, 0.0, 0.0, 0.0, 0.0, 0.0, 0.0], [0.08663123100996017, 0.09557437896728516, 0.036738112568855286, 0.06946706771850586, 0.05681459978222847, 0.008190212771296501, 0.022195827215909958, 0.007642822340130806, 0.03146829083561897, 0.0755520761013031, 0.008965260349214077, 0.05263481289148331, 0.04491105303168297, 0.009935050271451473, 0.04481375962495804, 0.15198466181755066, 0.010933401994407177, 0.007993675768375397, 0.16402560472488403, 0.013528086245059967, 0.0, 0.0, 0.0, 0.0, 0.0, 0.0, 0.0, 0.0, 0.0, 0.0, 0.0, 0.0, 0.0], [0.04783450812101364, 0.06669353693723679, 0.03798919916152954, 0.06040370464324951, 0.06899043917655945, 0.0010267281904816628, 0.008172678761184216, 0.004158171825110912, 0.028268275782465935, 0.04407239332795143, 0.001158645492978394, 0.07832913845777512, 0.05082901194691658, 0.0013004981447011232, 0.049042992293834686, 0.14145001769065857, 0.001493433490395546, 0.0025566830299794674, 0.17534086108207703, 0.12910203635692596, 0.00178705551661551, 0.0, 0.0, 0.0, 0.0, 0.0, 0.0, 0.0, 0.0, 0.0, 0.0, 0.0, 0.0], [0.04114089161157608, 0.04766074940562248, 0.03587000444531441, 0.06666102260351181, 0.07969272881746292, 0.002365077380090952, 0.020340193063020706, 0.004854495637118816, 0.0643620491027832, 0.06737151741981506, 0.002707370324060321, 0.05596054717898369, 0.05648665502667427, 0.0030767235439270735, 0.05354388803243637, 0.15165932476520538, 0.0035397172905504704, 0.004673933144658804, 0.16402719914913177, 0.05968151241540909, 0.004154941998422146, 0.01016951259225607, 0.0, 0.0, 0.0, 0.0, 0.0, 0.0, 0.0, 0.0, 0.0, 0.0, 0.0], [0.0662880688905716, 0.04092540219426155, 0.027322683483362198, 0.04505367577075958, 0.06575217097997665, 0.015657559037208557, 0.027881884947419167, 0.013711252249777317, 0.03174295276403427, 0.05280745401978493, 0.0154477683827281, 0.03218112140893936, 0.032901063561439514, 0.016298862174153328, 0.0266366396099329, 0.09772852808237076, 0.017114199697971344, 0.0169194545596838, 0.09847065061330795, 0.04787909612059593, 0.018412543460726738, 0.015331599861383438, 0.17753544449806213, 0.0, 0.0, 0.0, 0.0, 0.0, 0.0, 0.0, 0.0, 0.0, 0.0], [0.09801427274942398, 0.026328805834054947, 0.035868145525455475, 0.05713057890534401, 0.06943873316049576, 0.012128954753279686, 0.02090909704566002, 0.008747954852879047, 0.02699965424835682, 0.03726676106452942, 0.011716341599822044, 0.08499536663293839, 0.055013369768857956, 0.012196714989840984, 0.03563910350203514, 0.08789663016796112, 0.012970102950930595, 0.01085102278739214, 0.06408384442329407, 0.059639208018779755, 0.014492184855043888, 0.006093737203627825, 0.09761442989110947, 0.05396495759487152, 0.0, 0.0, 0.0, 0.0, 0.0, 0.0, 0.0, 0.0, 0.0], [0.02769325114786625, 0.04073771834373474, 0.031223557889461517, 0.058790385723114014, 0.05601825937628746, 0.0015714784385636449, 0.011908046901226044, 0.0033397905062884092, 0.05176553130149841, 0.052912428975105286, 0.0018259822390973568, 0.06030036509037018, 0.02835717611014843, 0.0020878096111118793, 0.05086477845907211, 0.07898838073015213, 0.002398707438260317, 0.002904824912548065, 0.11135735362768173, 0.0458601638674736, 0.0028849185910075903, 0.011431250721216202, 0.12340560555458069, 0.134884774684906, 0.006487554870545864, 0.0, 0.0, 0.0, 0.0, 0.0, 0.0, 0.0, 0.0], [0.1539076864719391, 0.02378677949309349, 0.05320247262716293, 0.039638862013816833, 0.05711062625050545, 0.015628933906555176, 0.020206082612276077, 0.009252366609871387, 0.021311869844794273, 0.029029954224824905, 0.014741906896233559, 0.06123839318752289, 0.10112591832876205, 0.015157829038798809, 0.043354034423828125, 0.040907200425863266, 0.015732653439044952, 0.0200734231621027, 0.05374931916594505, 0.03468617796897888, 0.016989389434456825, 0.006368498783558607, 0.04042018577456474, 0.031060410663485527, 0.01393715851008892, 0.06738189607858658, 0.0, 0.0, 0.0, 0.0, 0.0, 0.0, 0.0], [0.08555092662572861, 0.035057421773672104, 0.05885257571935654, 0.03497909754514694, 0.05178742855787277, 0.002511989790946245, 0.004151222296059132, 0.002085917629301548, 0.014081125147640705, 0.024491360411047935, 0.0023760043550282717, 0.09535115957260132, 0.07766134291887283, 0.0024908811319619417, 0.04572679102420807, 0.05774117261171341, 0.0026603781152516603, 0.0033477596007287502, 0.04799826815724373, 0.026788821443915367, 0.002958715660497546, 0.0046557895839214325, 0.03607099503278732, 0.021599188446998596, 0.004788635764271021, 0.2205219715833664, 0.033713068813085556, 0.0, 0.0, 0.0, 0.0, 0.0, 0.0], [0.02070670947432518, 0.03719405457377434, 0.019723718985915184, 0.038942232728004456, 0.031826991587877274, 0.001225367421284318, 0.008815756998956203, 0.0024052916560322046, 0.03457954153418541, 0.04729803651571274, 0.0013953748857602477, 0.051482055336236954, 0.020486745983362198, 0.0015608385438099504, 0.03826117515563965, 0.048637550324201584, 0.0017825310351327062, 0.0025446065701544285, 0.06541350483894348, 0.04188564047217369, 0.0020960597321391106, 0.00940138939768076, 0.08460033684968948, 0.09019992500543594, 0.005403275601565838, 0.22932560741901398, 0.05692273750901222, 0.0058829220943152905, 0.0, 0.0, 0.0, 0.0, 0.0], [0.08582810312509537, 0.03967176005244255, 0.014841828495264053, 0.05653619021177292, 0.05960613489151001, 0.006987513974308968, 0.010110093280673027, 0.0028877246659249067, 0.015322854742407799, 0.025928771123290062, 0.006830441765487194, 0.03354894742369652, 0.02109353616833687, 0.007213154342025518, 0.019323399290442467, 0.05298227816820145, 0.0076586101204156876, 0.005157846491783857, 0.06523177772760391, 0.018170014023780823, 0.00853469967842102, 0.00436816830188036, 0.02691243775188923, 0.04962793365120888, 0.004404325503855944, 0.1938866376876831, 0.039332251995801926, 0.005363549571484327, 0.11263898760080338, 0.0, 0.0, 0.0, 0.0], [0.07040347158908844, 0.05926160886883736, 0.015334844589233398, 0.024139031767845154, 0.01572885736823082, 0.019492093473672867, 0.017311513423919678, 0.017303066328167915, 0.020563244819641113, 0.0451558418571949, 0.021815842017531395, 0.07079727947711945, 0.030063936486840248, 0.02354060485959053, 0.02068449556827545, 0.02116367220878601, 0.02644512802362442, 0.02354004792869091, 0.0566372349858284, 0.03369481489062309, 0.030707266181707382, 0.015993356704711914, 0.015474079176783562, 0.0308036170899868, 0.03180557116866112, 0.07969609647989273, 0.034374866634607315, 0.03453715890645981, 0.030624378472566605, 0.06290693581104279, 0.0, 0.0, 0.0], [0.05338499695062637, 0.02962152473628521, 0.021030085161328316, 0.02369571663439274, 0.03343641385436058, 0.018393808975815773, 0.024060705676674843, 0.022810006514191628, 0.01397237554192543, 0.028813567012548447, 0.01905973069369793, 0.015371969901025295, 0.02533530443906784, 0.019971946254372597, 0.014075735583901405, 0.038844525814056396, 0.0213462021201849, 0.01932143047451973, 0.05632655322551727, 0.021360022947192192, 0.023394567891955376, 0.023136626929044724, 0.06416381150484085, 0.06724690645933151, 0.034695085138082504, 0.0434902124106884, 0.03032725304365158, 0.03285713121294975, 0.05327509716153145, 0.0659981369972229, 0.0411825031042099, 0.0, 0.0], [0.1817709058523178, 0.019533157348632812, 0.02800293266773224, 0.029110191389918327, 0.04134834185242653, 0.018019482493400574, 0.01047173049300909, 0.008382905274629593, 0.01533579733222723, 0.02183944173157215, 0.016893349587917328, 0.03806137666106224, 0.03643864765763283, 0.017464272677898407, 0.026129068806767464, 0.04011504724621773, 0.018317213281989098, 0.012488218955695629, 0.05136965215206146, 0.019443843513727188, 0.019889751449227333, 0.003576452611014247, 0.02623296156525612, 0.018429184332489967, 0.011723744682967663, 0.0327298603951931, 0.0348082110285759, 0.012035038322210312, 0.0603029765188694, 0.007873311638832092, 0.04227292537689209, 0.07958997040987015, 0.0], [0.015003394335508347, 0.020334865897893906, 0.00781344622373581, 0.016553577035665512, 0.016466116532683372, 0.00023809634149074554, 0.001959895947948098, 0.0006898260908201337, 0.006483221892267466, 0.010734067298471928, 0.00024435276282019913, 0.014634685590863228, 0.009247618727385998, 0.0002605921181384474, 0.00933991651982069, 0.04272660240530968, 0.0002886394795496017, 0.00038116765790618956, 0.054749395698308945, 0.09452769160270691, 0.00034211305319331586, 0.001727019203826785, 0.04745935648679733, 0.026613809168338776, 0.001023865886963904, 0.16537979245185852, 0.014187122695147991, 0.0013092353474348783, 0.04770655930042267, 0.011198504827916622, 0.22050754725933075, 0.13942614197731018, 0.00044186270679347217]], [[1.0, 0.0, 0.0, 0.0, 0.0, 0.0, 0.0, 0.0, 0.0, 0.0, 0.0, 0.0, 0.0, 0.0, 0.0, 0.0, 0.0, 0.0, 0.0, 0.0, 0.0, 0.0, 0.0, 0.0, 0.0, 0.0, 0.0, 0.0, 0.0, 0.0, 0.0, 0.0, 0.0], [0.9333657622337341, 0.06663419306278229, 0.0, 0.0, 0.0, 0.0, 0.0, 0.0, 0.0, 0.0, 0.0, 0.0, 0.0, 0.0, 0.0, 0.0, 0.0, 0.0, 0.0, 0.0, 0.0, 0.0, 0.0, 0.0, 0.0, 0.0, 0.0, 0.0, 0.0, 0.0, 0.0, 0.0, 0.0], [0.32452353835105896, 0.5923718214035034, 0.0831046998500824, 0.0, 0.0, 0.0, 0.0, 0.0, 0.0, 0.0, 0.0, 0.0, 0.0, 0.0, 0.0, 0.0, 0.0, 0.0, 0.0, 0.0, 0.0, 0.0, 0.0, 0.0, 0.0, 0.0, 0.0, 0.0, 0.0, 0.0, 0.0, 0.0, 0.0], [0.14159756898880005, 0.514380931854248, 0.281441330909729, 0.0625801533460617, 0.0, 0.0, 0.0, 0.0, 0.0, 0.0, 0.0, 0.0, 0.0, 0.0, 0.0, 0.0, 0.0, 0.0, 0.0, 0.0, 0.0, 0.0, 0.0, 0.0, 0.0, 0.0, 0.0, 0.0, 0.0, 0.0, 0.0, 0.0, 0.0], [0.2526226043701172, 0.058340635150671005, 0.10458876937627792, 0.44111600518226624, 0.14333193004131317, 0.0, 0.0, 0.0, 0.0, 0.0, 0.0, 0.0, 0.0, 0.0, 0.0, 0.0, 0.0, 0.0, 0.0, 0.0, 0.0, 0.0, 0.0, 0.0, 0.0, 0.0, 0.0, 0.0, 0.0, 0.0, 0.0, 0.0, 0.0], [0.18051566183567047, 0.09828891605138779, 0.10873974114656448, 0.12262696772813797, 0.0999554917216301, 0.389873206615448, 0.0, 0.0, 0.0, 0.0, 0.0, 0.0, 0.0, 0.0, 0.0, 0.0, 0.0, 0.0, 0.0, 0.0, 0.0, 0.0, 0.0, 0.0, 0.0, 0.0, 0.0, 0.0, 0.0, 0.0, 0.0, 0.0, 0.0], [0.17192292213439941, 0.02332093007862568, 0.12332713603973389, 0.060764994472265244, 0.059717271476984024, 0.34759172797203064, 0.21335503458976746, 0.0, 0.0, 0.0, 0.0, 0.0, 0.0, 0.0, 0.0, 0.0, 0.0, 0.0, 0.0, 0.0, 0.0, 0.0, 0.0, 0.0, 0.0, 0.0, 0.0, 0.0, 0.0, 0.0, 0.0, 0.0, 0.0], [0.0962703675031662, 0.04683610796928406, 0.028257345780730247, 0.0323924645781517, 0.05865047499537468, 0.1582932472229004, 0.309965044260025, 0.26933494210243225, 0.0, 0.0, 0.0, 0.0, 0.0, 0.0, 0.0, 0.0, 0.0, 0.0, 0.0, 0.0, 0.0, 0.0, 0.0, 0.0, 0.0, 0.0, 0.0, 0.0, 0.0, 0.0, 0.0, 0.0, 0.0], [0.09948239475488663, 0.06464176625013351, 0.028671851381659508, 0.07305676490068436, 0.02978716604411602, 0.13960029184818268, 0.20754703879356384, 0.2658021152019501, 0.0914105772972107, 0.0, 0.0, 0.0, 0.0, 0.0, 0.0, 0.0, 0.0, 0.0, 0.0, 0.0, 0.0, 0.0, 0.0, 0.0, 0.0, 0.0, 0.0, 0.0, 0.0, 0.0, 0.0, 0.0, 0.0], [0.0563204400241375, 0.02988586761057377, 0.013419928960502148, 0.002407551510259509, 0.01324548665434122, 0.04564541578292847, 0.055225614458322525, 0.10027080029249191, 0.65799880027771, 0.025580089539289474, 0.0, 0.0, 0.0, 0.0, 0.0, 0.0, 0.0, 0.0, 0.0, 0.0, 0.0, 0.0, 0.0, 0.0, 0.0, 0.0, 0.0, 0.0, 0.0, 0.0, 0.0, 0.0, 0.0], [0.04266996681690216, 0.010426472872495651, 0.010652237571775913, 0.013446652330458164, 0.009353149682283401, 0.040159739553928375, 0.07105167210102081, 0.13737662136554718, 0.10423272103071213, 0.2173663079738617, 0.3432644307613373, 0.0, 0.0, 0.0, 0.0, 0.0, 0.0, 0.0, 0.0, 0.0, 0.0, 0.0, 0.0, 0.0, 0.0, 0.0, 0.0, 0.0, 0.0, 0.0, 0.0, 0.0, 0.0], [0.029683874920010567, 0.0025616397615522146, 0.004407488275319338, 0.0342487096786499, 0.01423873845487833, 0.02800186350941658, 0.022288037464022636, 0.0710596889257431, 0.040262315422296524, 0.5543042421340942, 0.17333048582077026, 0.025612978264689445, 0.0, 0.0, 0.0, 0.0, 0.0, 0.0, 0.0, 0.0, 0.0, 0.0, 0.0, 0.0, 0.0, 0.0, 0.0, 0.0, 0.0, 0.0, 0.0, 0.0, 0.0], [0.04039590060710907, 0.008631564676761627, 0.005494224838912487, 0.0038641421124339104, 0.023363133892416954, 0.027206972241401672, 0.025677314028143883, 0.050485141575336456, 0.051056135445833206, 0.05041782557964325, 0.14164325594902039, 0.5115286707878113, 0.06023568660020828, 0.0, 0.0, 0.0, 0.0, 0.0, 0.0, 0.0, 0.0, 0.0, 0.0, 0.0, 0.0, 0.0, 0.0, 0.0, 0.0, 0.0, 0.0, 0.0, 0.0], [0.028706423938274384, 0.004808459896594286, 0.004723663441836834, 0.005382598377764225, 0.003456050530076027, 0.014470165595412254, 0.024037370458245277, 0.041626233607530594, 0.03567297011613846, 0.07060731947422028, 0.10830995440483093, 0.05811617895960808, 0.20621220767498016, 0.3938705027103424, 0.0, 0.0, 0.0, 0.0, 0.0, 0.0, 0.0, 0.0, 0.0, 0.0, 0.0, 0.0, 0.0, 0.0, 0.0, 0.0, 0.0, 0.0, 0.0], [0.053426481783390045, 0.011923293583095074, 0.015572247095406055, 0.002112323883920908, 0.005851037334650755, 0.022170905023813248, 0.03818466141819954, 0.027411548420786858, 0.05464285612106323, 0.049108296632766724, 0.12328370660543442, 0.05287177115678787, 0.07545655220746994, 0.37015315890312195, 0.09783114492893219, 0.0, 0.0, 0.0, 0.0, 0.0, 0.0, 0.0, 0.0, 0.0, 0.0, 0.0, 0.0, 0.0, 0.0, 0.0, 0.0, 0.0, 0.0], [0.008346715942025185, 0.00027852662606164813, 0.0011786009417846799, 0.0021395485382527113, 0.002476172288879752, 0.002918292535468936, 0.004576897248625755, 0.003965593408793211, 0.004973020404577255, 0.011347766034305096, 0.01301405020058155, 0.005545963998883963, 0.020895594730973244, 0.03838542848825455, 0.8750316500663757, 0.004926194902509451, 0.0, 0.0, 0.0, 0.0, 0.0, 0.0, 0.0, 0.0, 0.0, 0.0, 0.0, 0.0, 0.0, 0.0, 0.0, 0.0, 0.0], [0.021700313314795494, 0.0026786664966493845, 0.002383930142968893, 0.0028156291227787733, 0.0015562332700937986, 0.006139401346445084, 0.00903982762247324, 0.013740862719714642, 0.01241221372038126, 0.024686506018042564, 0.0340690016746521, 0.01756146177649498, 0.060829512774944305, 0.12004056572914124, 0.1151680275797844, 0.1266368180513382, 0.42854106426239014, 0.0, 0.0, 0.0, 0.0, 0.0, 0.0, 0.0, 0.0, 0.0, 0.0, 0.0, 0.0, 0.0, 0.0, 0.0, 0.0], [0.01968141458928585, 0.002866192953661084, 0.002752865431830287, 0.0023641991429030895, 0.0022205759305506945, 0.004776965826749802, 0.005015394650399685, 0.00702077429741621, 0.00660299975425005, 0.01582489348948002, 0.02177910879254341, 0.022375911474227905, 0.03905551880598068, 0.07342644780874252, 0.07227573543787003, 0.081036277115345, 0.255632221698761, 0.36529257893562317, 0.0, 0.0, 0.0, 0.0, 0.0, 0.0, 0.0, 0.0, 0.0, 0.0, 0.0, 0.0, 0.0, 0.0, 0.0], [0.034438688308000565, 0.0024295083712786436, 0.002703877631574869, 0.0010108919814229012, 0.0028212438337504864, 0.009310656227171421, 0.007474055513739586, 0.01052639540284872, 0.019342603161931038, 0.006583380978554487, 0.030525246635079384, 0.008166545070707798, 0.0239456407725811, 0.08047981560230255, 0.044289324432611465, 0.04886510595679283, 0.2326633334159851, 0.3870973289012909, 0.047326426953077316, 0.0, 0.0, 0.0, 0.0, 0.0, 0.0, 0.0, 0.0, 0.0, 0.0, 0.0, 0.0, 0.0, 0.0], [0.0036976826377213, 0.006450964603573084, 0.0004921728977933526, 0.00030695952591486275, 0.00012400795822031796, 0.0010727369226515293, 0.0008858799119479954, 0.0013806350762024522, 0.0008200182928703725, 0.00027311910525895655, 0.0027830637991428375, 0.0352943055331707, 0.003561372170224786, 0.007148310542106628, 0.0016474073054268956, 0.01673164963722229, 0.019172819331288338, 0.022339249029755592, 0.8733667135238647, 0.0024509630165994167, 0.0, 0.0, 0.0, 0.0, 0.0, 0.0, 0.0, 0.0, 0.0, 0.0, 0.0, 0.0, 0.0], [0.013628778979182243, 0.001438442850485444, 0.0012188641121611, 0.0012915852712467313, 0.00061180186457932, 0.002140036318451166, 0.0027469585184007883, 0.0033360447268933058, 0.0030918731354177, 0.005988912656903267, 0.007237215992063284, 0.0035477415658533573, 0.012891949154436588, 0.022229144349694252, 0.02082422748208046, 0.026295311748981476, 0.0764816626906395, 0.16261444985866547, 0.12638655304908752, 0.10034430772066116, 0.40565410256385803, 0.0, 0.0, 0.0, 0.0, 0.0, 0.0, 0.0, 0.0, 0.0, 0.0, 0.0, 0.0], [0.02143297903239727, 0.0007291637011803687, 0.0010889694094657898, 0.000855961290653795, 0.0010556625202298164, 0.0023542463313788176, 0.0018633330473676324, 0.0024869877379387617, 0.004011376295238733, 0.003645629156380892, 0.006636610720306635, 0.0024591670371592045, 0.008106634020805359, 0.019501397386193275, 0.013945501297712326, 0.016831588000059128, 0.06727860122919083, 0.10203740000724792, 0.07506179064512253, 0.037855006754398346, 0.34741583466529846, 0.26334622502326965, 0.0, 0.0, 0.0, 0.0, 0.0, 0.0, 0.0, 0.0, 0.0, 0.0, 0.0], [0.018374426290392876, 0.0016340140718966722, 0.00026486633578315377, 0.0006277088541537523, 0.000721289892680943, 0.002294712932780385, 0.001437578583136201, 0.002433568937703967, 0.0010225047590211034, 0.0021730982698500156, 0.005665964912623167, 0.000585707020945847, 0.004730309825390577, 0.015789613127708435, 0.009121062234044075, 0.006447880994528532, 0.049651894718408585, 0.07221103459596634, 0.04530423879623413, 0.022536233067512512, 0.23380528390407562, 0.28100937604904175, 0.2221575230360031, 0.0, 0.0, 0.0, 0.0, 0.0, 0.0, 0.0, 0.0, 0.0, 0.0], [0.01601027324795723, 0.00041907679405994713, 0.001679316977970302, 0.002033163793385029, 0.0011126060271635652, 0.002304120222106576, 0.001641487586311996, 0.0020452288445085287, 0.0008826436242088675, 0.0035318138543516397, 0.004660746548324823, 0.0011461277026683092, 0.004025280475616455, 0.011729457415640354, 0.0069060008972883224, 0.005978974513709545, 0.03413613513112068, 0.05391989275813103, 0.0753692016005516, 0.0155441639944911, 0.15307292342185974, 0.21672505140304565, 0.23267340660095215, 0.15245291590690613, 0.0, 0.0, 0.0, 0.0, 0.0, 0.0, 0.0, 0.0, 0.0], [0.016415491700172424, 0.001088098855689168, 0.0013027024688199162, 0.0012335632927715778, 0.0010325233452022076, 0.001360527123324573, 0.0011352722067385912, 0.0009713192703202367, 0.0017580221174284816, 0.00235499395057559, 0.0022677972447127104, 0.00261700339615345, 0.0032849626149982214, 0.005564448423683643, 0.007287739310413599, 0.006582655478268862, 0.016911108046770096, 0.023348158225417137, 0.033363744616508484, 0.012060855515301228, 0.08410532772541046, 0.10776971280574799, 0.12741316854953766, 0.2500956952571869, 0.28867506980895996, 0.0, 0.0, 0.0, 0.0, 0.0, 0.0, 0.0, 0.0], [0.031117746606469154, 0.0015063052996993065, 0.0010839324677363038, 0.002421521581709385, 0.0013826880604028702, 0.0037937192246317863, 0.001633930136449635, 0.0031195185147225857, 0.001281262724660337, 0.0020685249473899603, 0.004760123789310455, 0.000875731639098376, 0.008592118509113789, 0.009353655390441418, 0.011993253603577614, 0.005962998606264591, 0.022028207778930664, 0.03411330282688141, 0.009586768224835396, 0.01368181873112917, 0.08417051285505295, 0.08917820453643799, 0.10806843638420105, 0.1556076556444168, 0.37236860394477844, 0.020249484106898308, 0.0, 0.0, 0.0, 0.0, 0.0, 0.0, 0.0], [0.014838483184576035, 0.0005757312173955142, 0.004743658006191254, 0.0004567732394207269, 0.0007412273553200066, 0.001499997335486114, 0.0008866077405400574, 0.0008452086476609111, 0.00010359243606217206, 0.0009065145277418196, 0.0018096768762916327, 0.060291096568107605, 0.0015377566451206803, 0.0033079423010349274, 0.0013713663211092353, 0.002082675229758024, 0.008643998764455318, 0.009088859893381596, 0.007760950364172459, 0.005808327812701464, 0.03386513516306877, 0.03987188637256622, 0.05374554172158241, 0.036947716027498245, 0.12259431928396225, 0.5718703866004944, 0.013804467394948006, 0.0, 0.0, 0.0, 0.0, 0.0, 0.0], [0.018570011481642723, 0.0012143151834607124, 0.0012880479916930199, 0.001061256742104888, 0.0007490045391023159, 0.0010485616512596607, 0.0008687858935445547, 0.0005973857478238642, 0.001293826848268509, 0.0014042495749890804, 0.0011055085342377424, 0.0005003454862162471, 0.0020262603648006916, 0.0021463115699589252, 0.0028737892862409353, 0.002641368191689253, 0.005802982021123171, 0.008191343396902084, 0.008339074440300465, 0.005543301813304424, 0.026558704674243927, 0.03308917209506035, 0.032507386058568954, 0.09199851751327515, 0.10410475730895996, 0.16861772537231445, 0.20895437896251678, 0.26690375804901123, 0.0, 0.0, 0.0, 0.0, 0.0], [0.01665443368256092, 0.0007248650072142482, 0.0008980660350061953, 0.0031616869382560253, 0.000552282901480794, 0.0016607235884293914, 0.0007486110553145409, 0.000965278537478298, 0.0003842799924314022, 0.0022577764466404915, 0.001554562826640904, 0.0007036998285911977, 0.0014688157243654132, 0.002799881622195244, 0.003013978013768792, 0.005369037855416536, 0.006552340462803841, 0.0087015675380826, 0.007138852030038834, 0.006516315974295139, 0.026185553520917892, 0.03929200768470764, 0.0315500870347023, 0.024343017488718033, 0.10670767724514008, 0.15159791707992554, 0.13674205541610718, 0.3201397657394409, 0.09161485731601715, 0.0, 0.0, 0.0, 0.0], [0.03722681477665901, 0.0007442726637236774, 0.0019180321833118796, 0.001429060590453446, 0.0025597321800887585, 0.003292827168479562, 0.0009007241460494697, 0.0015445082681253552, 0.00035572113119997084, 0.0004492724547162652, 0.002668810775503516, 0.001404664828442037, 0.0017281010514125228, 0.0045427302829921246, 0.0012941033346578479, 0.004677655175328255, 0.009138206951320171, 0.008992929011583328, 0.0053436546586453915, 0.0020318408496677876, 0.030930889770388603, 0.021215278655290604, 0.03639976307749748, 0.05679461359977722, 0.11195952445268631, 0.01145811378955841, 0.033532921224832535, 0.2658853828907013, 0.24695426225662231, 0.09262567013502121, 0.0, 0.0, 0.0], [0.04408875107765198, 0.001108295051380992, 0.0033875894732773304, 0.004853184800595045, 0.00286432565189898, 0.004500850103795528, 0.0014518090756610036, 0.002192496554926038, 0.0007902357610873878, 0.00067173718707636, 0.0035771543625742197, 0.0005131773068569601, 0.012861714698374271, 0.005116848740726709, 0.003014254616573453, 0.005887460894882679, 0.010453439317643642, 0.013818331994116306, 0.008691055700182915, 0.01122928224503994, 0.0314008966088295, 0.023181643337011337, 0.030444404110312462, 0.03520679473876953, 0.09999871999025345, 0.006090163718909025, 0.14714206755161285, 0.16393037140369415, 0.12749527394771576, 0.19357769191265106, 0.00045999124995432794, 0.0, 0.0], [0.037174042314291, 0.005006890743970871, 0.0016112308949232101, 0.002830145414918661, 0.0005118501139804721, 0.0027071216609328985, 0.002097028773277998, 0.00123287970200181, 0.000631089264061302, 0.0017632469534873962, 0.0017868775175884366, 0.00025283286231569946, 0.0010720753343775868, 0.0026448324788361788, 0.0015661552315577865, 0.003808405948802829, 0.005276743788272142, 0.006930260919034481, 0.01331080961972475, 0.0035816470626741648, 0.01830451190471649, 0.026684744283556938, 0.01997152715921402, 0.032155733555555344, 0.07432043552398682, 0.023922253400087357, 0.0876147523522377, 0.180075541138649, 0.027492599561810493, 0.05972246453166008, 0.19122695922851562, 0.16271227598190308, 0.0], [0.008116930723190308, 0.0008723045466467738, 0.00037072799750603735, 0.00047348550288006663, 0.0001783298939699307, 0.00039947027107700706, 0.00029511720640584826, 0.00018311945314053446, 0.00016714561206754297, 0.00023702502949163318, 0.0002533356018830091, 0.00012855012028012425, 0.00020213167590554804, 0.00039944855961948633, 0.0001651179773034528, 0.0004622866108547896, 0.0008780233329162002, 0.0011140464339405298, 0.002070876769721508, 0.001963673857972026, 0.0035278573632240295, 0.0044752187095582485, 0.004463488236069679, 0.007312532514333725, 0.014446237124502659, 0.035030465573072433, 0.020014138892292976, 0.04388580471277237, 0.019436774775385857, 0.11325738579034805, 0.07277626544237137, 0.1619681417942047, 0.4804745018482208]], [[1.0, 0.0, 0.0, 0.0, 0.0, 0.0, 0.0, 0.0, 0.0, 0.0, 0.0, 0.0, 0.0, 0.0, 0.0, 0.0, 0.0, 0.0, 0.0, 0.0, 0.0, 0.0, 0.0, 0.0, 0.0, 0.0, 0.0, 0.0, 0.0, 0.0, 0.0, 0.0, 0.0], [0.9473748207092285, 0.05262520909309387, 0.0, 0.0, 0.0, 0.0, 0.0, 0.0, 0.0, 0.0, 0.0, 0.0, 0.0, 0.0, 0.0, 0.0, 0.0, 0.0, 0.0, 0.0, 0.0, 0.0, 0.0, 0.0, 0.0, 0.0, 0.0, 0.0, 0.0, 0.0, 0.0, 0.0, 0.0], [0.8785883784294128, 0.055394671857357025, 0.06601690500974655, 0.0, 0.0, 0.0, 0.0, 0.0, 0.0, 0.0, 0.0, 0.0, 0.0, 0.0, 0.0, 0.0, 0.0, 0.0, 0.0, 0.0, 0.0, 0.0, 0.0, 0.0, 0.0, 0.0, 0.0, 0.0, 0.0, 0.0, 0.0, 0.0, 0.0], [0.7270771265029907, 0.1370987445116043, 0.04866088181734085, 0.08716321736574173, 0.0, 0.0, 0.0, 0.0, 0.0, 0.0, 0.0, 0.0, 0.0, 0.0, 0.0, 0.0, 0.0, 0.0, 0.0, 0.0, 0.0, 0.0, 0.0, 0.0, 0.0, 0.0, 0.0, 0.0, 0.0, 0.0, 0.0, 0.0, 0.0], [0.46517470479011536, 0.1342930793762207, 0.1535816490650177, 0.17472541332244873, 0.0722251683473587, 0.0, 0.0, 0.0, 0.0, 0.0, 0.0, 0.0, 0.0, 0.0, 0.0, 0.0, 0.0, 0.0, 0.0, 0.0, 0.0, 0.0, 0.0, 0.0, 0.0, 0.0, 0.0, 0.0, 0.0, 0.0, 0.0, 0.0, 0.0], [0.17035970091819763, 0.01184193603694439, 0.023650843650102615, 0.021745799109339714, 0.025856317952275276, 0.7465453743934631, 0.0, 0.0, 0.0, 0.0, 0.0, 0.0, 0.0, 0.0, 0.0, 0.0, 0.0, 0.0, 0.0, 0.0, 0.0, 0.0, 0.0, 0.0, 0.0, 0.0, 0.0, 0.0, 0.0, 0.0, 0.0, 0.0, 0.0], [0.14214573800563812, 0.04383271187543869, 0.05021180212497711, 0.045165032148361206, 0.05872129276394844, 0.5111534595489502, 0.14876998960971832, 0.0, 0.0, 0.0, 0.0, 0.0, 0.0, 0.0, 0.0, 0.0, 0.0, 0.0, 0.0, 0.0, 0.0, 0.0, 0.0, 0.0, 0.0, 0.0, 0.0, 0.0, 0.0, 0.0, 0.0, 0.0, 0.0], [0.0847334936261177, 0.020369814708828926, 0.03746160492300987, 0.03195909783244133, 0.03419601544737816, 0.4350069463253021, 0.11894058436155319, 0.23733240365982056, 0.0, 0.0, 0.0, 0.0, 0.0, 0.0, 0.0, 0.0, 0.0, 0.0, 0.0, 0.0, 0.0, 0.0, 0.0, 0.0, 0.0, 0.0, 0.0, 0.0, 0.0, 0.0, 0.0, 0.0, 0.0], [0.3423079550266266, 0.03593634441494942, 0.07259216159582138, 0.10352758318185806, 0.08196531236171722, 0.07694562524557114, 0.14196321368217468, 0.09896712005138397, 0.045794595032930374, 0.0, 0.0, 0.0, 0.0, 0.0, 0.0, 0.0, 0.0, 0.0, 0.0, 0.0, 0.0, 0.0, 0.0, 0.0, 0.0, 0.0, 0.0, 0.0, 0.0, 0.0, 0.0, 0.0, 0.0], [0.37114864587783813, 0.06278739869594574, 0.05806947126984596, 0.05566275492310524, 0.1312483847141266, 0.07535628229379654, 0.10726623982191086, 0.07924024015665054, 0.030107326805591583, 0.029113229364156723, 0.0, 0.0, 0.0, 0.0, 0.0, 0.0, 0.0, 0.0, 0.0, 0.0, 0.0, 0.0, 0.0, 0.0, 0.0, 0.0, 0.0, 0.0, 0.0, 0.0, 0.0, 0.0, 0.0], [0.06430105119943619, 0.0051691047847270966, 0.011012976989150047, 0.009054877795279026, 0.011748060584068298, 0.31885024905204773, 0.036849457770586014, 0.08319543302059174, 0.012068151496350765, 0.014676221646368504, 0.4330745041370392, 0.0, 0.0, 0.0, 0.0, 0.0, 0.0, 0.0, 0.0, 0.0, 0.0, 0.0, 0.0, 0.0, 0.0, 0.0, 0.0, 0.0, 0.0, 0.0, 0.0, 0.0, 0.0], [0.2377791851758957, 0.038129985332489014, 0.019743356853723526, 0.0750802680850029, 0.14420801401138306, 0.06244922801852226, 0.07018379867076874, 0.06523606181144714, 0.04883221909403801, 0.034600332379341125, 0.06439770013093948, 0.13935981690883636, 0.0, 0.0, 0.0, 0.0, 0.0, 0.0, 0.0, 0.0, 0.0, 0.0, 0.0, 0.0, 0.0, 0.0, 0.0, 0.0, 0.0, 0.0, 0.0, 0.0, 0.0], [0.2901448607444763, 0.04085763543844223, 0.06965624541044235, 0.06467737257480621, 0.11515604704618454, 0.07279438525438309, 0.05406038090586662, 0.04095994681119919, 0.03646121919155121, 0.03709697350859642, 0.0811215415596962, 0.06249446049332619, 0.034518949687480927, 0.0, 0.0, 0.0, 0.0, 0.0, 0.0, 0.0, 0.0, 0.0, 0.0, 0.0, 0.0, 0.0, 0.0, 0.0, 0.0, 0.0, 0.0, 0.0, 0.0], [0.041916050016880035, 0.0033880695700645447, 0.007082356605678797, 0.005899202078580856, 0.0075861928053200245, 0.20389801263809204, 0.023296765983104706, 0.05173070356249809, 0.007816814817488194, 0.009731389582157135, 0.2776019871234894, 0.008386761881411076, 0.016172707080841064, 0.33549296855926514, 0.0, 0.0, 0.0, 0.0, 0.0, 0.0, 0.0, 0.0, 0.0, 0.0, 0.0, 0.0, 0.0, 0.0, 0.0, 0.0, 0.0, 0.0, 0.0], [0.1512935608625412, 0.04240791127085686, 0.04383380711078644, 0.09706763923168182, 0.14943549036979675, 0.04439878091216087, 0.06174503266811371, 0.04199514910578728, 0.018608786165714264, 0.03141247481107712, 0.05092647671699524, 0.06660281866788864, 0.0941622331738472, 0.05761294066905975, 0.04849696531891823, 0.0, 0.0, 0.0, 0.0, 0.0, 0.0, 0.0, 0.0, 0.0, 0.0, 0.0, 0.0, 0.0, 0.0, 0.0, 0.0, 0.0, 0.0], [0.29958033561706543, 0.07432074844837189, 0.030061950907111168, 0.01673647202551365, 0.03856483846902847, 0.05106871575117111, 0.09408656507730484, 0.05606794357299805, 0.05458232760429382, 0.04522043466567993, 0.05638071522116661, 0.015378028154373169, 0.04082851484417915, 0.060846924781799316, 0.030811065807938576, 0.03546446934342384, 0.0, 0.0, 0.0, 0.0, 0.0, 0.0, 0.0, 0.0, 0.0, 0.0, 0.0, 0.0, 0.0, 0.0, 0.0, 0.0, 0.0], [0.03043997287750244, 0.0024933915119618177, 0.005298201460391283, 0.0042233895510435104, 0.005517447367310524, 0.14508461952209473, 0.016034146770834923, 0.03598647564649582, 0.005758052691817284, 0.007398172747343779, 0.1961348056793213, 0.006090886425226927, 0.01146512757986784, 0.23737993836402893, 0.008031774312257767, 0.005861479323357344, 0.276802122592926, 0.0, 0.0, 0.0, 0.0, 0.0, 0.0, 0.0, 0.0, 0.0, 0.0, 0.0, 0.0, 0.0, 0.0, 0.0, 0.0], [0.015668921172618866, 0.0019133483292534947, 0.0067479307763278484, 0.005610874854028225, 0.006710357498377562, 0.10858529061079025, 0.013436982408165932, 0.030674776062369347, 0.008698036894202232, 0.005958769004791975, 0.15696418285369873, 0.006401263643056154, 0.014357196167111397, 0.192204549908638, 0.009938811883330345, 0.008154559880495071, 0.22861388325691223, 0.17936018109321594, 0.0, 0.0, 0.0, 0.0, 0.0, 0.0, 0.0, 0.0, 0.0, 0.0, 0.0, 0.0, 0.0, 0.0, 0.0], [0.2751207649707794, 0.04635609686374664, 0.025782722979784012, 0.020371075719594955, 0.04519127681851387, 0.04741503670811653, 0.058008305728435516, 0.05449457839131355, 0.02185584232211113, 0.028674187138676643, 0.050547998398542404, 0.03578943386673927, 0.014343983493745327, 0.05505191534757614, 0.019970901310443878, 0.02507063001394272, 0.059836745262145996, 0.10591268539428711, 0.010205714032053947, 0.0, 0.0, 0.0, 0.0, 0.0, 0.0, 0.0, 0.0, 0.0, 0.0, 0.0, 0.0, 0.0, 0.0], [0.12210460752248764, 0.02900637313723564, 0.027926085516810417, 0.030763661488890648, 0.06431963294744492, 0.05075865238904953, 0.05746712535619736, 0.03854453191161156, 0.02881445176899433, 0.036410342901945114, 0.055306967347860336, 0.02755570411682129, 0.05062386021018028, 0.06039686128497124, 0.03790904954075813, 0.034162577241659164, 0.06550319492816925, 0.08224614709615707, 0.0890314057469368, 0.01114883366972208, 0.0, 0.0, 0.0, 0.0, 0.0, 0.0, 0.0, 0.0, 0.0, 0.0, 0.0, 0.0, 0.0], [0.01992272399365902, 0.0015991271939128637, 0.0035362679045647383, 0.0027606089133769274, 0.003674752777442336, 0.091985784471035, 0.009868190623819828, 0.021762730553746223, 0.00367462495341897, 0.004800301976501942, 0.1232718676328659, 0.003948226571083069, 0.007727706339210272, 0.14901937544345856, 0.00509450351819396, 0.0038495417684316635, 0.17433802783489227, 0.1450376659631729, 0.0031391775701195, 0.0039015659131109715, 0.2170872688293457, 0.0, 0.0, 0.0, 0.0, 0.0, 0.0, 0.0, 0.0, 0.0, 0.0, 0.0, 0.0], [0.025169124826788902, 0.002589145442470908, 0.007904473692178726, 0.0028181758243590593, 0.00831749476492405, 0.06284766644239426, 0.01609737239778042, 0.024833571165800095, 0.007658039219677448, 0.01131708174943924, 0.08451007306575775, 0.012135404162108898, 0.022048382088541985, 0.1001725122332573, 0.015103285200893879, 0.020152252167463303, 0.11906807869672775, 0.1414896845817566, 0.006576648447662592, 0.007074056658893824, 0.14850658178329468, 0.15361085534095764, 0.0, 0.0, 0.0, 0.0, 0.0, 0.0, 0.0, 0.0, 0.0, 0.0, 0.0], [0.08679646253585815, 0.01581868901848793, 0.009913154877722263, 0.005941123701632023, 0.011749119497835636, 0.04402251914143562, 0.04941156879067421, 0.04721160605549812, 0.022448519244790077, 0.02814418449997902, 0.05249372869729996, 0.01366489753127098, 0.038044534623622894, 0.05856488645076752, 0.016008734703063965, 0.028531739488244057, 0.06752396374940872, 0.10004056245088577, 0.026074500754475594, 0.01816527172923088, 0.08061446994543076, 0.14588378369808197, 0.03293200582265854, 0.0, 0.0, 0.0, 0.0, 0.0, 0.0, 0.0, 0.0, 0.0, 0.0], [0.1220332682132721, 0.02679692767560482, 0.03471274673938751, 0.01660086400806904, 0.05098598822951317, 0.03362342715263367, 0.033762890845537186, 0.03289439156651497, 0.022763602435588837, 0.034695446491241455, 0.03710823133587837, 0.027503039687871933, 0.030508041381835938, 0.04070495069026947, 0.019409820437431335, 0.033388081938028336, 0.046037912368774414, 0.0814194306731224, 0.0257929228246212, 0.017713354900479317, 0.05326376482844353, 0.06955213844776154, 0.07340097427368164, 0.03532778471708298, 0.0, 0.0, 0.0, 0.0, 0.0, 0.0, 0.0, 0.0, 0.0], [0.012632702477276325, 0.003196730511263013, 0.008999623358249664, 0.0037871047388762236, 0.005590218584984541, 0.060187481343746185, 0.01017302367836237, 0.026063401252031326, 0.00828032661229372, 0.0059984405525028706, 0.08480246365070343, 0.007755734492093325, 0.014807665720582008, 0.10079342126846313, 0.011636026203632355, 0.007885096594691277, 0.12061365693807602, 0.1281987577676773, 0.006487110164016485, 0.0032305701170116663, 0.15047506988048553, 0.10557683557271957, 0.015480611473321915, 0.01902633160352707, 0.07832161337137222, 0.0, 0.0, 0.0, 0.0, 0.0, 0.0, 0.0, 0.0], [0.11176053434610367, 0.018635563552379608, 0.05622369796037674, 0.04677280783653259, 0.03736496716737747, 0.022993411868810654, 0.03136526420712471, 0.026408886536955833, 0.043359216302633286, 0.056635573506355286, 0.021786419674754143, 0.02382214367389679, 0.030641673132777214, 0.023289266973733902, 0.05430493503808975, 0.06881178170442581, 0.024489399045705795, 0.047770895063877106, 0.03627176955342293, 0.022222531959414482, 0.026998940855264664, 0.021766118705272675, 0.03442491218447685, 0.028240282088518143, 0.058919213712215424, 0.024719828739762306, 0.0, 0.0, 0.0, 0.0, 0.0, 0.0, 0.0], [0.10639803111553192, 0.03710789978504181, 0.08273961395025253, 0.01785685494542122, 0.020950015634298325, 0.018305256962776184, 0.022620100528001785, 0.01819227822124958, 0.021851178258657455, 0.012518538162112236, 0.019214101135730743, 0.030340097844600677, 0.07187619060277939, 0.02078801766037941, 0.03963522985577583, 0.06151585653424263, 0.023179300129413605, 0.0439804270863533, 0.04619224742054939, 0.02066798321902752, 0.027080880478024483, 0.043865546584129333, 0.03276737406849861, 0.04369065538048744, 0.05080845579504967, 0.04029493406414986, 0.025563016533851624, 0.0, 0.0, 0.0, 0.0, 0.0, 0.0], [0.015084543265402317, 0.0038223827723413706, 0.005877263378351927, 0.0049718520604074, 0.005370153579860926, 0.052236463874578476, 0.016127683222293854, 0.031829919666051865, 0.008211133070290089, 0.011473821476101875, 0.0670468732714653, 0.01052838284522295, 0.010598230175673962, 0.07938900589942932, 0.007211722433567047, 0.006271460559219122, 0.09142370522022247, 0.10866516083478928, 0.003973819315433502, 0.005621668417006731, 0.10983321070671082, 0.09237752109766006, 0.022960500791668892, 0.019314924255013466, 0.08864139020442963, 0.018464695662260056, 0.011022255755960941, 0.09165029972791672, 0.0, 0.0, 0.0, 0.0, 0.0], [0.0985412448644638, 0.03967058286070824, 0.050521429628133774, 0.047943923622369766, 0.01953187584877014, 0.015683406963944435, 0.025074731558561325, 0.014997915364801884, 0.027723433449864388, 0.016418183222413063, 0.016389023512601852, 0.026316558942198753, 0.034359272569417953, 0.01775798201560974, 0.023362670093774796, 0.03763511776924133, 0.01940559782087803, 0.034421682357788086, 0.049022991210222244, 0.030190547928214073, 0.022159064188599586, 0.03754067048430443, 0.038793157786130905, 0.04032415524125099, 0.04231265187263489, 0.06829200685024261, 0.025314142927527428, 0.043300725519657135, 0.03699523210525513, 0.0, 0.0, 0.0, 0.0], [0.10688817501068115, 0.036595746874809265, 0.005083095747977495, 0.010160420089960098, 0.013297361321747303, 0.041752055287361145, 0.026246795430779457, 0.03012855164706707, 0.013482409529387951, 0.018223192542791367, 0.0458262637257576, 0.025558775290846825, 0.015618819743394852, 0.05039897561073303, 0.011657019145786762, 0.01165912114083767, 0.05515516176819801, 0.05091661214828491, 0.019206790253520012, 0.013998426496982574, 0.06383468955755234, 0.029088884592056274, 0.0167104359716177, 0.02609526552259922, 0.05484984815120697, 0.03806673362851143, 0.03896070644259453, 0.05375230684876442, 0.02367916889488697, 0.05310812592506409, 0.0, 0.0, 0.0], [0.10871610045433044, 0.06286413967609406, 0.023045089095830917, 0.012493218295276165, 0.009688262827694416, 0.023720758035779, 0.025617318227887154, 0.028282880783081055, 0.01952310837805271, 0.015187141485512257, 0.024615760892629623, 0.01885579526424408, 0.01307191327214241, 0.025697477161884308, 0.010639780201017857, 0.0073364293202757835, 0.028488250449299812, 0.040875110775232315, 0.023693948984146118, 0.028460824862122536, 0.031781189143657684, 0.033992111682891846, 0.01690450683236122, 0.04699757695198059, 0.05480917915701866, 0.06048166751861572, 0.02113783173263073, 0.05147768557071686, 0.015304342843592167, 0.07868862897157669, 0.03755196928977966, 0.0, 0.0], [0.16510626673698425, 0.01330734882503748, 0.022820334881544113, 0.032224949449300766, 0.028327804058790207, 0.011912107467651367, 0.021759115159511566, 0.012591331265866756, 0.025371311232447624, 0.015923485159873962, 0.011745055206120014, 0.021340150386095047, 0.02265850454568863, 0.012097018770873547, 0.05877393111586571, 0.04114291071891785, 0.012866124510765076, 0.021896693855524063, 0.027385754510760307, 0.015412721782922745, 0.014822262339293957, 0.013198778964579105, 0.029060140252113342, 0.04031304642558098, 0.02303694374859333, 0.05035790055990219, 0.046500734984874725, 0.03221072256565094, 0.04574139416217804, 0.011448165401816368, 0.051484815776348114, 0.047162190079689026, 0.0], [0.01986272819340229, 0.0006941382307559252, 0.0017670636298134923, 0.0019038196187466383, 0.002311579417437315, 0.05924391373991966, 0.0051649510860443115, 0.008714544586837292, 0.002490669023245573, 0.0030579620506614447, 0.07585161924362183, 0.0023905520793050528, 0.0031773524824529886, 0.08945116400718689, 0.003065296681597829, 0.00162091467063874, 0.10312024503946304, 0.06259163469076157, 0.002058295998722315, 0.00223221885971725, 0.12742047011852264, 0.024703852832317352, 0.0035101929679512978, 0.004994178656488657, 0.02831711620092392, 0.005874200724065304, 0.0062153334729373455, 0.036865606904029846, 0.005438112188130617, 0.004061865154653788, 0.004735518712550402, 0.004534381441771984, 0.292558491230011]], [[1.0, 0.0, 0.0, 0.0, 0.0, 0.0, 0.0, 0.0, 0.0, 0.0, 0.0, 0.0, 0.0, 0.0, 0.0, 0.0, 0.0, 0.0, 0.0, 0.0, 0.0, 0.0, 0.0, 0.0, 0.0, 0.0, 0.0, 0.0, 0.0, 0.0, 0.0, 0.0, 0.0], [0.9726406335830688, 0.02735934779047966, 0.0, 0.0, 0.0, 0.0, 0.0, 0.0, 0.0, 0.0, 0.0, 0.0, 0.0, 0.0, 0.0, 0.0, 0.0, 0.0, 0.0, 0.0, 0.0, 0.0, 0.0, 0.0, 0.0, 0.0, 0.0, 0.0, 0.0, 0.0, 0.0, 0.0, 0.0], [0.8850566744804382, 0.08160645514726639, 0.033336855471134186, 0.0, 0.0, 0.0, 0.0, 0.0, 0.0, 0.0, 0.0, 0.0, 0.0, 0.0, 0.0, 0.0, 0.0, 0.0, 0.0, 0.0, 0.0, 0.0, 0.0, 0.0, 0.0, 0.0, 0.0, 0.0, 0.0, 0.0, 0.0, 0.0, 0.0], [0.7844979166984558, 0.09045999497175217, 0.107209712266922, 0.017832357436418533, 0.0, 0.0, 0.0, 0.0, 0.0, 0.0, 0.0, 0.0, 0.0, 0.0, 0.0, 0.0, 0.0, 0.0, 0.0, 0.0, 0.0, 0.0, 0.0, 0.0, 0.0, 0.0, 0.0, 0.0, 0.0, 0.0, 0.0, 0.0, 0.0], [0.6679065227508545, 0.10135097056627274, 0.10997920483350754, 0.06990877538919449, 0.050854504108428955, 0.0, 0.0, 0.0, 0.0, 0.0, 0.0, 0.0, 0.0, 0.0, 0.0, 0.0, 0.0, 0.0, 0.0, 0.0, 0.0, 0.0, 0.0, 0.0, 0.0, 0.0, 0.0, 0.0, 0.0, 0.0, 0.0, 0.0, 0.0], [0.586279034614563, 0.06960930675268173, 0.06798024475574493, 0.06058965623378754, 0.08339772373437881, 0.13214407861232758, 0.0, 0.0, 0.0, 0.0, 0.0, 0.0, 0.0, 0.0, 0.0, 0.0, 0.0, 0.0, 0.0, 0.0, 0.0, 0.0, 0.0, 0.0, 0.0, 0.0, 0.0, 0.0, 0.0, 0.0, 0.0, 0.0, 0.0], [0.5015711188316345, 0.06227879598736763, 0.07209987193346024, 0.05590920150279999, 0.0814688578248024, 0.12033162266016006, 0.10634063929319382, 0.0, 0.0, 0.0, 0.0, 0.0, 0.0, 0.0, 0.0, 0.0, 0.0, 0.0, 0.0, 0.0, 0.0, 0.0, 0.0, 0.0, 0.0, 0.0, 0.0, 0.0, 0.0, 0.0, 0.0, 0.0, 0.0], [0.4001609683036804, 0.05525398999452591, 0.0634767934679985, 0.054137878119945526, 0.07119624316692352, 0.11230525374412537, 0.12489722669124603, 0.11857161670923233, 0.0, 0.0, 0.0, 0.0, 0.0, 0.0, 0.0, 0.0, 0.0, 0.0, 0.0, 0.0, 0.0, 0.0, 0.0, 0.0, 0.0, 0.0, 0.0, 0.0, 0.0, 0.0, 0.0, 0.0, 0.0], [0.4018532633781433, 0.08579414337873459, 0.05644882470369339, 0.0718112513422966, 0.08318915218114853, 0.07845643907785416, 0.09191885590553284, 0.07768876850605011, 0.05283927544951439, 0.0, 0.0, 0.0, 0.0, 0.0, 0.0, 0.0, 0.0, 0.0, 0.0, 0.0, 0.0, 0.0, 0.0, 0.0, 0.0, 0.0, 0.0, 0.0, 0.0, 0.0, 0.0, 0.0, 0.0], [0.38271600008010864, 0.07976950705051422, 0.062077511101961136, 0.06360232830047607, 0.08211028575897217, 0.07804947346448898, 0.08597435057163239, 0.07506490498781204, 0.06327839940786362, 0.027357224375009537, 0.0, 0.0, 0.0, 0.0, 0.0, 0.0, 0.0, 0.0, 0.0, 0.0, 0.0, 0.0, 0.0, 0.0, 0.0, 0.0, 0.0, 0.0, 0.0, 0.0, 0.0, 0.0, 0.0], [0.34041672945022583, 0.04535195603966713, 0.046589113771915436, 0.04039172828197479, 0.0548904724419117, 0.08179007470607758, 0.08906514942646027, 0.09645892679691315, 0.05564970150589943, 0.06398673355579376, 0.08540943264961243, 0.0, 0.0, 0.0, 0.0, 0.0, 0.0, 0.0, 0.0, 0.0, 0.0, 0.0, 0.0, 0.0, 0.0, 0.0, 0.0, 0.0, 0.0, 0.0, 0.0, 0.0, 0.0], [0.31186187267303467, 0.09539999067783356, 0.07292015105485916, 0.0697687417268753, 0.07777831703424454, 0.0673503428697586, 0.06161404773592949, 0.05481071397662163, 0.052520137280225754, 0.05022517219185829, 0.07299348711967468, 0.01275695115327835, 0.0, 0.0, 0.0, 0.0, 0.0, 0.0, 0.0, 0.0, 0.0, 0.0, 0.0, 0.0, 0.0, 0.0, 0.0, 0.0, 0.0, 0.0, 0.0, 0.0, 0.0], [0.36652839183807373, 0.06308671087026596, 0.039478451013565063, 0.04609527811408043, 0.05740760266780853, 0.06348332017660141, 0.0523846335709095, 0.055016208440065384, 0.04584016278386116, 0.06228690594434738, 0.06589913368225098, 0.05806361883878708, 0.024429528042674065, 0.0, 0.0, 0.0, 0.0, 0.0, 0.0, 0.0, 0.0, 0.0, 0.0, 0.0, 0.0, 0.0, 0.0, 0.0, 0.0, 0.0, 0.0, 0.0, 0.0], [0.2856443226337433, 0.03804026171565056, 0.03942388668656349, 0.03423863649368286, 0.046394020318984985, 0.06771664321422577, 0.07328074425458908, 0.07855430990457535, 0.04789664223790169, 0.0559365376830101, 0.07124949991703033, 0.03568926081061363, 0.049560438841581345, 0.07637479901313782, 0.0, 0.0, 0.0, 0.0, 0.0, 0.0, 0.0, 0.0, 0.0, 0.0, 0.0, 0.0, 0.0, 0.0, 0.0, 0.0, 0.0, 0.0, 0.0], [0.2977541983127594, 0.05259548872709274, 0.04347939044237137, 0.058458633720874786, 0.04568732529878616, 0.05259402468800545, 0.0445619635283947, 0.0459747239947319, 0.06316150724887848, 0.07768755406141281, 0.05499148741364479, 0.034664712846279144, 0.05020102858543396, 0.05886140838265419, 0.019326550886034966, 0.0, 0.0, 0.0, 0.0, 0.0, 0.0, 0.0, 0.0, 0.0, 0.0, 0.0, 0.0, 0.0, 0.0, 0.0, 0.0, 0.0, 0.0], [0.28853145241737366, 0.046169087290763855, 0.028233051300048828, 0.03824241831898689, 0.04330623149871826, 0.051749154925346375, 0.04318273067474365, 0.04393119737505913, 0.056163422763347626, 0.0677381381392479, 0.05490179732441902, 0.08139310032129288, 0.04325692355632782, 0.0590481199324131, 0.03989902138710022, 0.014254058711230755, 0.0, 0.0, 0.0, 0.0, 0.0, 0.0, 0.0, 0.0, 0.0, 0.0, 0.0, 0.0, 0.0, 0.0, 0.0, 0.0, 0.0], [0.23721367120742798, 0.03161582350730896, 0.03324564918875694, 0.02923194319009781, 0.038618169724941254, 0.05549165979027748, 0.05966496095061302, 0.06321782618761063, 0.04073699563741684, 0.04752673953771591, 0.058378253132104874, 0.030399689450860023, 0.042871586978435516, 0.06284616887569427, 0.05321291461586952, 0.047368962317705154, 0.06835901737213135, 0.0, 0.0, 0.0, 0.0, 0.0, 0.0, 0.0, 0.0, 0.0, 0.0, 0.0, 0.0, 0.0, 0.0, 0.0, 0.0], [0.2098696082830429, 0.02729126065969467, 0.03115660510957241, 0.02661500684916973, 0.03165115788578987, 0.052732259035110474, 0.0527450367808342, 0.056359026581048965, 0.04076547548174858, 0.04278234392404556, 0.05619128420948982, 0.030678274109959602, 0.043989624828100204, 0.06091475486755371, 0.050136998295784, 0.041573166847229004, 0.06652863323688507, 0.07801952958106995, 0.0, 0.0, 0.0, 0.0, 0.0, 0.0, 0.0, 0.0, 0.0, 0.0, 0.0, 0.0, 0.0, 0.0, 0.0], [0.2385382503271103, 0.044145818799734116, 0.04643504321575165, 0.0345127247273922, 0.03572181239724159, 0.04369327798485756, 0.043049730360507965, 0.034988246858119965, 0.043718043714761734, 0.0395219624042511, 0.044578537344932556, 0.024599451571702957, 0.0625118762254715, 0.04753483459353447, 0.04375608637928963, 0.049959294497966766, 0.05090809613466263, 0.0526624359190464, 0.019164476543664932, 0.0, 0.0, 0.0, 0.0, 0.0, 0.0, 0.0, 0.0, 0.0, 0.0, 0.0, 0.0, 0.0, 0.0], [0.17729149758815765, 0.042214617133140564, 0.030818702653050423, 0.030886121094226837, 0.03386852145195007, 0.045211855322122574, 0.04290100932121277, 0.03221559524536133, 0.04018865153193474, 0.04926897957921028, 0.0480162538588047, 0.03814245015382767, 0.051265161484479904, 0.05206841230392456, 0.04744114354252815, 0.03924531862139702, 0.056304775178432465, 0.054629381746053696, 0.05991861969232559, 0.028102951124310493, 0.0, 0.0, 0.0, 0.0, 0.0, 0.0, 0.0, 0.0, 0.0, 0.0, 0.0, 0.0, 0.0], [0.19048276543617249, 0.025203479453921318, 0.02678745426237583, 0.02367268316447735, 0.031104059889912605, 0.04345342516899109, 0.04649331420660019, 0.048206448554992676, 0.03323278948664665, 0.03892750293016434, 0.045491497963666916, 0.02444274164736271, 0.03570158779621124, 0.04907766729593277, 0.043035656213760376, 0.039055634289979935, 0.053717467933893204, 0.06658954173326492, 0.043208252638578415, 0.03176471218466759, 0.06035124510526657, 0.0, 0.0, 0.0, 0.0, 0.0, 0.0, 0.0, 0.0, 0.0, 0.0, 0.0, 0.0], [0.1497536599636078, 0.02347457781434059, 0.02550838701426983, 0.028942441567778587, 0.035171616822481155, 0.0388018861413002, 0.04594280570745468, 0.03962727263569832, 0.037087779492139816, 0.03872300684452057, 0.04190722480416298, 0.021688057109713554, 0.04328257590532303, 0.04592541232705116, 0.038939524441957474, 0.040076106786727905, 0.050600212067365646, 0.060830481350421906, 0.04372159764170647, 0.030235230922698975, 0.057286132127046585, 0.062474027276039124, 0.0, 0.0, 0.0, 0.0, 0.0, 0.0, 0.0, 0.0, 0.0, 0.0, 0.0], [0.1751340627670288, 0.027519280090928078, 0.0295140128582716, 0.02071533165872097, 0.026873530820012093, 0.03454612195491791, 0.03853078931570053, 0.033037807792425156, 0.041815564036369324, 0.040100302547216415, 0.03696897253394127, 0.030468925833702087, 0.039953965693712234, 0.04023701697587967, 0.044826194643974304, 0.03708263486623764, 0.04420146346092224, 0.04931036755442619, 0.04125743359327316, 0.02861069329082966, 0.04997343569993973, 0.05269286409020424, 0.03662918135523796, 0.0, 0.0, 0.0, 0.0, 0.0, 0.0, 0.0, 0.0, 0.0, 0.0], [0.13285990059375763, 0.040708042681217194, 0.04111677408218384, 0.03484427556395531, 0.04087606444954872, 0.027567218989133835, 0.028293676674365997, 0.022520435974001884, 0.03875419497489929, 0.04037802666425705, 0.0290894266217947, 0.029609210789203644, 0.056701187044382095, 0.031181855127215385, 0.037661176174879074, 0.05688635632395744, 0.03396708518266678, 0.03781304135918617, 0.04951411485671997, 0.03194558247923851, 0.03759903833270073, 0.04326638579368591, 0.04305671527981758, 0.03379024937748909, 0.0, 0.0, 0.0, 0.0, 0.0, 0.0, 0.0, 0.0, 0.0], [0.14709363877773285, 0.01821870729327202, 0.022143611684441566, 0.021621394902467728, 0.02707292139530182, 0.033854179084300995, 0.03787612169981003, 0.03801963850855827, 0.027932513505220413, 0.030901825055480003, 0.03606925904750824, 0.019023139029741287, 0.0346580371260643, 0.039169859141111374, 0.0337555892765522, 0.02613660879433155, 0.042978327721357346, 0.05313740670681, 0.03463508188724518, 0.02014029584825039, 0.04878360405564308, 0.04990803450345993, 0.046243924647569656, 0.047156691551208496, 0.06346960365772247, 0.0, 0.0, 0.0, 0.0, 0.0, 0.0, 0.0, 0.0], [0.17602789402008057, 0.014882143586874008, 0.026751168072223663, 0.024088069796562195, 0.035667534917593, 0.027094291523098946, 0.024984251707792282, 0.02147187478840351, 0.02635936625301838, 0.02384510450065136, 0.027567006647586823, 0.01686953939497471, 0.07777434587478638, 0.029109211638569832, 0.04799696430563927, 0.02900250069797039, 0.03132335841655731, 0.036155976355075836, 0.039595600217580795, 0.017008021473884583, 0.03483906388282776, 0.03443719819188118, 0.041492193937301636, 0.09124377369880676, 0.04052295908331871, 0.0038906042464077473, 0.0, 0.0, 0.0, 0.0, 0.0, 0.0, 0.0], [0.18501748144626617, 0.027786999940872192, 0.02509763464331627, 0.027019010856747627, 0.029199233278632164, 0.0303370151668787, 0.03222178295254707, 0.023015083745121956, 0.026792865246534348, 0.022793833166360855, 0.030674872919917107, 0.021220846101641655, 0.053888097405433655, 0.03259299322962761, 0.030737649649381638, 0.025725232437253, 0.034866053611040115, 0.037935808300971985, 0.02867201343178749, 0.026148973032832146, 0.03875335305929184, 0.041795048862695694, 0.03863157704472542, 0.05337154492735863, 0.039820704609155655, 0.02571162022650242, 0.010172730311751366, 0.0, 0.0, 0.0, 0.0, 0.0, 0.0], [0.1244632825255394, 0.01676890254020691, 0.02010509930551052, 0.019267037510871887, 0.024457843974232674, 0.030203362926840782, 0.03127392753958702, 0.032546065747737885, 0.023186009377241135, 0.02350839227437973, 0.03173322230577469, 0.0170805174857378, 0.029082052409648895, 0.034282147884368896, 0.035791292786598206, 0.025820555165410042, 0.03753117471933365, 0.04618244990706444, 0.02950001135468483, 0.0179138146340847, 0.04274730756878853, 0.04243471473455429, 0.039002396166324615, 0.04141837731003761, 0.0594949834048748, 0.03595734387636185, 0.030984865501523018, 0.05726282671093941, 0.0, 0.0, 0.0, 0.0, 0.0], [0.14491020143032074, 0.02584398351609707, 0.031176967546343803, 0.019462747499346733, 0.012575741857290268, 0.02527458965778351, 0.02202068828046322, 0.021267293021082878, 0.03165540099143982, 0.02766416035592556, 0.026251599192619324, 0.022091036662459373, 0.03851795941591263, 0.02826686017215252, 0.028877614066004753, 0.036865342408418655, 0.030699966475367546, 0.03204502910375595, 0.034116294234991074, 0.02035541832447052, 0.03446314483880997, 0.03542865812778473, 0.030728407204151154, 0.04441896826028824, 0.03793593496084213, 0.057348690927028656, 0.038896989077329636, 0.04111207649111748, 0.01972820796072483, 0.0, 0.0, 0.0, 0.0], [0.13168425858020782, 0.02546011097729206, 0.02796240895986557, 0.0241098515689373, 0.016868827864527702, 0.03140677511692047, 0.02324734814465046, 0.022071702405810356, 0.027362484484910965, 0.02637045457959175, 0.03204537555575371, 0.028775818645954132, 0.04614204540848732, 0.03455977141857147, 0.03132107853889465, 0.02943771705031395, 0.03749069944024086, 0.035974208265542984, 0.0306710172444582, 0.026778314262628555, 0.041662365198135376, 0.032743990421295166, 0.030348775908350945, 0.03265197575092316, 0.03805649280548096, 0.03457561507821083, 0.022936128079891205, 0.036903250962495804, 0.025966178625822067, 0.01441489439457655, 0.0, 0.0, 0.0], [0.16563698649406433, 0.02280925028026104, 0.029107756912708282, 0.024944668635725975, 0.024352887645363808, 0.025031818076968193, 0.018486658111214638, 0.018573682755231857, 0.028443647548556328, 0.02919989824295044, 0.025318240746855736, 0.0322050042450428, 0.025753293186426163, 0.026890497654676437, 0.03127394616603851, 0.0330515019595623, 0.028835486620664597, 0.029910419136285782, 0.027558814734220505, 0.02462468296289444, 0.0320536307990551, 0.026493754237890244, 0.021709619089961052, 0.031640153378248215, 0.037074752151966095, 0.047994695603847504, 0.02793213538825512, 0.0347561240196228, 0.03804946690797806, 0.021535685285925865, 0.008750846609473228, 0.0, 0.0], [0.1679421216249466, 0.025983473286032677, 0.03222334384918213, 0.019469385966658592, 0.0237352903932333, 0.023115724325180054, 0.019973622635006905, 0.01655023731291294, 0.029796775430440903, 0.028494661673903465, 0.02310885675251484, 0.022087078541517258, 0.04216557741165161, 0.024390168488025665, 0.020749151706695557, 0.038735851645469666, 0.026269832625985146, 0.02728910744190216, 0.01961737498641014, 0.020242858678102493, 0.029203210026025772, 0.030413368716835976, 0.025762612000107765, 0.04084980860352516, 0.0333266407251358, 0.021795308217406273, 0.02631053701043129, 0.0310134869068861, 0.03689263015985489, 0.019377175718545914, 0.04355606064200401, 0.009558653458952904, 0.0], [0.11396825313568115, 0.0177528727799654, 0.016061948612332344, 0.015585058368742466, 0.01839613914489746, 0.02436707355082035, 0.02605387754738331, 0.023999108001589775, 0.021919477730989456, 0.026251090690493584, 0.024730542674660683, 0.01532302051782608, 0.02561456710100174, 0.026337873190641403, 0.024982869625091553, 0.02464260347187519, 0.028590325266122818, 0.032951485365629196, 0.027568642050027847, 0.01848755031824112, 0.03220852464437485, 0.031914710998535156, 0.03630726411938667, 0.034154027700424194, 0.03678559511899948, 0.03297771140933037, 0.026278894394636154, 0.03809887915849686, 0.029801951721310616, 0.018183251842856407, 0.036320675164461136, 0.03568094223737717, 0.057703107595443726]], [[1.0, 0.0, 0.0, 0.0, 0.0, 0.0, 0.0, 0.0, 0.0, 0.0, 0.0, 0.0, 0.0, 0.0, 0.0, 0.0, 0.0, 0.0, 0.0, 0.0, 0.0, 0.0, 0.0, 0.0, 0.0, 0.0, 0.0, 0.0, 0.0, 0.0, 0.0, 0.0, 0.0], [0.8058414459228516, 0.19415856897830963, 0.0, 0.0, 0.0, 0.0, 0.0, 0.0, 0.0, 0.0, 0.0, 0.0, 0.0, 0.0, 0.0, 0.0, 0.0, 0.0, 0.0, 0.0, 0.0, 0.0, 0.0, 0.0, 0.0, 0.0, 0.0, 0.0, 0.0, 0.0, 0.0, 0.0, 0.0], [0.6373866200447083, 0.09672050178050995, 0.2658928334712982, 0.0, 0.0, 0.0, 0.0, 0.0, 0.0, 0.0, 0.0, 0.0, 0.0, 0.0, 0.0, 0.0, 0.0, 0.0, 0.0, 0.0, 0.0, 0.0, 0.0, 0.0, 0.0, 0.0, 0.0, 0.0, 0.0, 0.0, 0.0, 0.0, 0.0], [0.5870267748832703, 0.09922722727060318, 0.07913827151060104, 0.2346077412366867, 0.0, 0.0, 0.0, 0.0, 0.0, 0.0, 0.0, 0.0, 0.0, 0.0, 0.0, 0.0, 0.0, 0.0, 0.0, 0.0, 0.0, 0.0, 0.0, 0.0, 0.0, 0.0, 0.0, 0.0, 0.0, 0.0, 0.0, 0.0, 0.0], [0.4194740355014801, 0.06312595307826996, 0.08123064041137695, 0.08381499350070953, 0.35235440731048584, 0.0, 0.0, 0.0, 0.0, 0.0, 0.0, 0.0, 0.0, 0.0, 0.0, 0.0, 0.0, 0.0, 0.0, 0.0, 0.0, 0.0, 0.0, 0.0, 0.0, 0.0, 0.0, 0.0, 0.0, 0.0, 0.0, 0.0, 0.0], [0.530853271484375, 0.0959073081612587, 0.07779336720705032, 0.06661548465490341, 0.07293294370174408, 0.15589764714241028, 0.0, 0.0, 0.0, 0.0, 0.0, 0.0, 0.0, 0.0, 0.0, 0.0, 0.0, 0.0, 0.0, 0.0, 0.0, 0.0, 0.0, 0.0, 0.0, 0.0, 0.0, 0.0, 0.0, 0.0, 0.0, 0.0, 0.0], [0.3850307762622833, 0.0747809186577797, 0.06978145241737366, 0.047606535255908966, 0.05144914612174034, 0.08776704221963882, 0.2835841476917267, 0.0, 0.0, 0.0, 0.0, 0.0, 0.0, 0.0, 0.0, 0.0, 0.0, 0.0, 0.0, 0.0, 0.0, 0.0, 0.0, 0.0, 0.0, 0.0, 0.0, 0.0, 0.0, 0.0, 0.0, 0.0, 0.0], [0.2962956726551056, 0.05328269675374031, 0.06944748014211655, 0.040975481271743774, 0.06660831719636917, 0.1021856963634491, 0.10869501531124115, 0.26250964403152466, 0.0, 0.0, 0.0, 0.0, 0.0, 0.0, 0.0, 0.0, 0.0, 0.0, 0.0, 0.0, 0.0, 0.0, 0.0, 0.0, 0.0, 0.0, 0.0, 0.0, 0.0, 0.0, 0.0, 0.0, 0.0], [0.30475008487701416, 0.06337984651327133, 0.057534221559762955, 0.04057719185948372, 0.07300137728452682, 0.07375827431678772, 0.07239886373281479, 0.05693604424595833, 0.25766411423683167, 0.0, 0.0, 0.0, 0.0, 0.0, 0.0, 0.0, 0.0, 0.0, 0.0, 0.0, 0.0, 0.0, 0.0, 0.0, 0.0, 0.0, 0.0, 0.0, 0.0, 0.0, 0.0, 0.0, 0.0], [0.29880768060684204, 0.055528249591588974, 0.05443596839904785, 0.052853021770715714, 0.06568749248981476, 0.07554222643375397, 0.06968102604150772, 0.054113879799842834, 0.09120786935091019, 0.18214258551597595, 0.0, 0.0, 0.0, 0.0, 0.0, 0.0, 0.0, 0.0, 0.0, 0.0, 0.0, 0.0, 0.0, 0.0, 0.0, 0.0, 0.0, 0.0, 0.0, 0.0, 0.0, 0.0, 0.0], [0.2693301737308502, 0.06352430582046509, 0.059521205723285675, 0.05242469906806946, 0.060521580278873444, 0.12185832113027573, 0.07608653604984283, 0.09753072261810303, 0.042326074093580246, 0.050583261996507645, 0.10629310458898544, 0.0, 0.0, 0.0, 0.0, 0.0, 0.0, 0.0, 0.0, 0.0, 0.0, 0.0, 0.0, 0.0, 0.0, 0.0, 0.0, 0.0, 0.0, 0.0, 0.0, 0.0, 0.0], [0.22074301540851593, 0.06960076093673706, 0.04872344806790352, 0.06675714254379272, 0.06954210251569748, 0.06483786553144455, 0.046523742377758026, 0.0393008328974247, 0.018016085028648376, 0.0358063168823719, 0.05302285775542259, 0.2671258747577667, 0.0, 0.0, 0.0, 0.0, 0.0, 0.0, 0.0, 0.0, 0.0, 0.0, 0.0, 0.0, 0.0, 0.0, 0.0, 0.0, 0.0, 0.0, 0.0, 0.0, 0.0], [0.15080071985721588, 0.04732475057244301, 0.12551112473011017, 0.062400829046964645, 0.05354630947113037, 0.055783942341804504, 0.045426107943058014, 0.03888600319623947, 0.03019980527460575, 0.033370550721883774, 0.04645954817533493, 0.023437920957803726, 0.2868523895740509, 0.0, 0.0, 0.0, 0.0, 0.0, 0.0, 0.0, 0.0, 0.0, 0.0, 0.0, 0.0, 0.0, 0.0, 0.0, 0.0, 0.0, 0.0, 0.0, 0.0], [0.2044883370399475, 0.049720507115125656, 0.04838545247912407, 0.04385359212756157, 0.05115719884634018, 0.1007489338517189, 0.06420683115720749, 0.08302561193704605, 0.03880453109741211, 0.047957733273506165, 0.09582381695508957, 0.03239700570702553, 0.044411029666662216, 0.09501936286687851, 0.0, 0.0, 0.0, 0.0, 0.0, 0.0, 0.0, 0.0, 0.0, 0.0, 0.0, 0.0, 0.0, 0.0, 0.0, 0.0, 0.0, 0.0, 0.0], [0.16236743330955505, 0.028519175946712494, 0.047843098640441895, 0.04135480895638466, 0.040284886956214905, 0.052005358040332794, 0.04226505756378174, 0.038211677223443985, 0.05986882746219635, 0.06849396973848343, 0.04734281077980995, 0.019715163856744766, 0.06202229857444763, 0.04572192579507828, 0.24398350715637207, 0.0, 0.0, 0.0, 0.0, 0.0, 0.0, 0.0, 0.0, 0.0, 0.0, 0.0, 0.0, 0.0, 0.0, 0.0, 0.0, 0.0, 0.0], [0.1312893033027649, 0.03962809219956398, 0.05951938405632973, 0.039663221687078476, 0.04406356066465378, 0.04348495230078697, 0.03726546838879585, 0.03240035101771355, 0.037205737084150314, 0.06481602042913437, 0.040474534034729004, 0.025914235040545464, 0.06507600098848343, 0.03922511264681816, 0.07744196802377701, 0.22253206372261047, 0.0, 0.0, 0.0, 0.0, 0.0, 0.0, 0.0, 0.0, 0.0, 0.0, 0.0, 0.0, 0.0, 0.0, 0.0, 0.0, 0.0], [0.1581333875656128, 0.03911251947283745, 0.038564957678318024, 0.03587968647480011, 0.041877955198287964, 0.08161000907421112, 0.05245806276798248, 0.0681268572807312, 0.03444807231426239, 0.04342750832438469, 0.08275996893644333, 0.029333392158150673, 0.04157378897070885, 0.08478686213493347, 0.04881599172949791, 0.032352838665246964, 0.08673813194036484, 0.0, 0.0, 0.0, 0.0, 0.0, 0.0, 0.0, 0.0, 0.0, 0.0, 0.0, 0.0, 0.0, 0.0, 0.0, 0.0], [0.13890594244003296, 0.03169633448123932, 0.03251554071903229, 0.03538899123668671, 0.038000330328941345, 0.06974425911903381, 0.05942453071475029, 0.06768239289522171, 0.027843808755278587, 0.03905466943979263, 0.07273104786872864, 0.030109865590929985, 0.041630931198596954, 0.07565010339021683, 0.040188323706388474, 0.027483617886900902, 0.0779590830206871, 0.09399020671844482, 0.0, 0.0, 0.0, 0.0, 0.0, 0.0, 0.0, 0.0, 0.0, 0.0, 0.0, 0.0, 0.0, 0.0, 0.0], [0.09691289812326431, 0.03068731538951397, 0.03081795573234558, 0.04473433271050453, 0.04171941801905632, 0.03603677451610565, 0.04101703688502312, 0.03210475668311119, 0.043440643697977066, 0.04885552451014519, 0.03457902371883392, 0.01602509804069996, 0.04994167014956474, 0.0346352718770504, 0.06065686047077179, 0.034977879375219345, 0.034543439745903015, 0.03782794997096062, 0.25048622488975525, 0.0, 0.0, 0.0, 0.0, 0.0, 0.0, 0.0, 0.0, 0.0, 0.0, 0.0, 0.0, 0.0, 0.0], [0.1205921545624733, 0.04121065139770508, 0.05098516121506691, 0.052891504019498825, 0.02886129915714264, 0.0470619834959507, 0.02921283431351185, 0.03817001357674599, 0.021046483889222145, 0.029787814244627953, 0.04406720772385597, 0.02650335058569908, 0.04127003625035286, 0.044307366013526917, 0.030801555141806602, 0.040649015456438065, 0.044745106250047684, 0.042122457176446915, 0.02844228409230709, 0.1972716599702835, 0.0, 0.0, 0.0, 0.0, 0.0, 0.0, 0.0, 0.0, 0.0, 0.0, 0.0, 0.0, 0.0], [0.11388306319713593, 0.028255397453904152, 0.028351284563541412, 0.02695867046713829, 0.031310856342315674, 0.05977548286318779, 0.0391821451485157, 0.050720393657684326, 0.02768402174115181, 0.03556423261761665, 0.06452133506536484, 0.024267083033919334, 0.03616494685411453, 0.06838169693946838, 0.04139300435781479, 0.029094640165567398, 0.0723005011677742, 0.07349380850791931, 0.03700020909309387, 0.0352863073348999, 0.07641096413135529, 0.0, 0.0, 0.0, 0.0, 0.0, 0.0, 0.0, 0.0, 0.0, 0.0, 0.0, 0.0], [0.0845385268330574, 0.017416618764400482, 0.018949130550026894, 0.016560642048716545, 0.022296136245131493, 0.04174061119556427, 0.05894864350557327, 0.03893361985683441, 0.03021465241909027, 0.034642335027456284, 0.048319004476070404, 0.01635843887925148, 0.02567455545067787, 0.053096745163202286, 0.02054652012884617, 0.02046983316540718, 0.057046402245759964, 0.06604910641908646, 0.037746455520391464, 0.02141387388110161, 0.061299312859773636, 0.20773892104625702, 0.0, 0.0, 0.0, 0.0, 0.0, 0.0, 0.0, 0.0, 0.0, 0.0, 0.0], [0.1124844029545784, 0.024394849315285683, 0.024523140862584114, 0.02748955599963665, 0.026104673743247986, 0.037315063178539276, 0.06748528778553009, 0.03890376165509224, 0.01798143796622753, 0.028454391285777092, 0.037565309554338455, 0.01832607388496399, 0.020088661462068558, 0.03865170478820801, 0.023285649716854095, 0.02422661893069744, 0.03960611671209335, 0.04833188280463219, 0.04500092566013336, 0.017362141981720924, 0.04009140282869339, 0.0520828478038311, 0.19024406373500824, 0.0, 0.0, 0.0, 0.0, 0.0, 0.0, 0.0, 0.0, 0.0, 0.0], [0.08183359354734421, 0.01982845552265644, 0.0268733948469162, 0.029252564534544945, 0.02518443949520588, 0.03192773461341858, 0.029049795120954514, 0.024972515180706978, 0.03350626304745674, 0.040074292570352554, 0.033517319709062576, 0.016036001965403557, 0.03204454854130745, 0.03448064252734184, 0.02851710096001625, 0.03532731905579567, 0.03583228588104248, 0.040583960711956024, 0.029941115528345108, 0.02109791710972786, 0.03671329468488693, 0.03921257704496384, 0.03543240949511528, 0.23876051604747772, 0.0, 0.0, 0.0, 0.0, 0.0, 0.0, 0.0, 0.0, 0.0], [0.1014568880200386, 0.014237050898373127, 0.01698417030274868, 0.018636560067534447, 0.028536254540085793, 0.036538016051054, 0.029570505023002625, 0.041983187198638916, 0.014166050590574741, 0.030081404373049736, 0.04016640782356262, 0.020075039938092232, 0.030370131134986877, 0.043534424155950546, 0.03039301373064518, 0.02071734517812729, 0.046771105378866196, 0.05495104566216469, 0.028809182345867157, 0.02004370093345642, 0.05092544108629227, 0.040844663977622986, 0.041858017444610596, 0.038489799946546555, 0.15986062586307526, 0.0, 0.0, 0.0, 0.0, 0.0, 0.0, 0.0, 0.0], [0.07937928289175034, 0.02067432925105095, 0.020799750462174416, 0.027988238260149956, 0.0456547737121582, 0.02656259760260582, 0.02539670467376709, 0.021243248134851456, 0.01776380091905594, 0.025200635194778442, 0.02757645957171917, 0.03060709498822689, 0.0343799963593483, 0.028568323701620102, 0.022726938128471375, 0.016051946207880974, 0.029712745919823647, 0.03276180475950241, 0.025702396407723427, 0.012878889217972755, 0.03062613122165203, 0.020369648933410645, 0.03741389885544777, 0.02785036899149418, 0.035718511790037155, 0.27639150619506836, 0.0, 0.0, 0.0, 0.0, 0.0, 0.0, 0.0], [0.09605434536933899, 0.023092899471521378, 0.02419964410364628, 0.02497413195669651, 0.03682965412735939, 0.030014393851161003, 0.02106921374797821, 0.018117519095540047, 0.022569263353943825, 0.028343219310045242, 0.03050512820482254, 0.0217076875269413, 0.028211776167154312, 0.03163941949605942, 0.039166104048490524, 0.03627365082502365, 0.03311570733785629, 0.03514396399259567, 0.025745239108800888, 0.015889009460806847, 0.034675464034080505, 0.026770083233714104, 0.027143444865942, 0.0404508039355278, 0.037603843957185745, 0.03232336416840553, 0.17837101221084595, 0.0, 0.0, 0.0, 0.0, 0.0, 0.0], [0.07476935535669327, 0.011021514423191547, 0.010706552304327488, 0.015325448475778103, 0.01990356296300888, 0.03285866975784302, 0.02193605527281761, 0.029454151168465614, 0.016421502456068993, 0.022476570680737495, 0.03722343593835831, 0.01758023537695408, 0.021954135969281197, 0.04046212509274483, 0.031415414065122604, 0.010417778044939041, 0.04429738596081734, 0.05118126422166824, 0.02956554852426052, 0.015394329093396664, 0.0490642674267292, 0.03202192485332489, 0.030905108898878098, 0.04132052883505821, 0.06578274816274643, 0.0397840291261673, 0.020499691367149353, 0.1662566214799881, 0.0, 0.0, 0.0, 0.0, 0.0], [0.051242027431726456, 0.011390028521418571, 0.020265799015760422, 0.02452964335680008, 0.1273244023323059, 0.02008390799164772, 0.01769273541867733, 0.020381977781653404, 0.01854860968887806, 0.023206060752272606, 0.02102605812251568, 0.020521242171525955, 0.025210728868842125, 0.021994248032569885, 0.017190467566251755, 0.020805906504392624, 0.023035308346152306, 0.026458049193024635, 0.03108612820506096, 0.011454472318291664, 0.024357983842492104, 0.022524937987327576, 0.02460077963769436, 0.024588007479906082, 0.028380827978253365, 0.04660610482096672, 0.0436270646750927, 0.020300468429923058, 0.2115660011768341, 0.0, 0.0, 0.0, 0.0], [0.07929296046495438, 0.023537397384643555, 0.022847285494208336, 0.01993604004383087, 0.015462889336049557, 0.025110291317105293, 0.021429046988487244, 0.015073489397764206, 0.009924097917973995, 0.015724750235676765, 0.027188710868358612, 0.02074727974832058, 0.03497636318206787, 0.02910234034061432, 0.021219026297330856, 0.018147621303796768, 0.031058205291628838, 0.033809494227170944, 0.020137567073106766, 0.01232312060892582, 0.0336926244199276, 0.024336133152246475, 0.03108452633023262, 0.033777009695768356, 0.04355442151427269, 0.03296354040503502, 0.03314929082989693, 0.025364909321069717, 0.022163690999150276, 0.22286593914031982, 0.0, 0.0, 0.0], [0.10059653222560883, 0.03096376173198223, 0.02557850070297718, 0.02022406831383705, 0.027132980525493622, 0.029490763321518898, 0.04074482247233391, 0.021403614431619644, 0.01639261096715927, 0.022520696744322777, 0.02755517140030861, 0.013599208556115627, 0.027306709438562393, 0.02780657820403576, 0.011214186437427998, 0.023586541414260864, 0.028399184346199036, 0.03066891059279442, 0.021664202213287354, 0.017032314091920853, 0.029051588848233223, 0.02654992789030075, 0.03297554329037666, 0.026790326461195946, 0.032060641795396805, 0.027298329398036003, 0.017307184636592865, 0.018768828362226486, 0.028226526454091072, 0.017085116356611252, 0.18000461161136627, 0.0, 0.0], [0.08361607044935226, 0.01658189482986927, 0.015823302790522575, 0.022005166858434677, 0.024062559008598328, 0.021028297021985054, 0.022811293601989746, 0.014412387274205685, 0.01557209249585867, 0.015104830265045166, 0.020917734131217003, 0.021798165515065193, 0.02598598785698414, 0.022013209760189056, 0.022025059908628464, 0.018091218546032906, 0.02311510592699051, 0.025451799854636192, 0.02594352327287197, 0.011241883039474487, 0.024466173723340034, 0.022869890555739403, 0.031613439321517944, 0.029542673379182816, 0.02381790801882744, 0.029349016025662422, 0.025922643020749092, 0.017268182709813118, 0.031844597309827805, 0.012037740088999271, 0.027524925768375397, 0.2561413049697876, 0.0], [0.05258439481258392, 0.012508383952081203, 0.01273767277598381, 0.012144193053245544, 0.014467823319137096, 0.024812445044517517, 0.017109140753746033, 0.02516256831586361, 0.016298970207571983, 0.015160084702074528, 0.029820043593645096, 0.014290270395576954, 0.02409478835761547, 0.03374277427792549, 0.02163226157426834, 0.018924100324511528, 0.03819216787815094, 0.04115182161331177, 0.024165773764252663, 0.02063564583659172, 0.0441853329539299, 0.037937089800834656, 0.02963634766638279, 0.03152840957045555, 0.04542307183146477, 0.03596360608935356, 0.030482539907097816, 0.04609917104244232, 0.03206765279173851, 0.01766294427216053, 0.03169601410627365, 0.044629111886024475, 0.10305343568325043]], [[1.0, 0.0, 0.0, 0.0, 0.0, 0.0, 0.0, 0.0, 0.0, 0.0, 0.0, 0.0, 0.0, 0.0, 0.0, 0.0, 0.0, 0.0, 0.0, 0.0, 0.0, 0.0, 0.0, 0.0, 0.0, 0.0, 0.0, 0.0, 0.0, 0.0, 0.0, 0.0, 0.0], [0.7707714438438416, 0.22922857105731964, 0.0, 0.0, 0.0, 0.0, 0.0, 0.0, 0.0, 0.0, 0.0, 0.0, 0.0, 0.0, 0.0, 0.0, 0.0, 0.0, 0.0, 0.0, 0.0, 0.0, 0.0, 0.0, 0.0, 0.0, 0.0, 0.0, 0.0, 0.0, 0.0, 0.0, 0.0], [0.7813623547554016, 0.10978527367115021, 0.10885230451822281, 0.0, 0.0, 0.0, 0.0, 0.0, 0.0, 0.0, 0.0, 0.0, 0.0, 0.0, 0.0, 0.0, 0.0, 0.0, 0.0, 0.0, 0.0, 0.0, 0.0, 0.0, 0.0, 0.0, 0.0, 0.0, 0.0, 0.0, 0.0, 0.0, 0.0], [0.5350388884544373, 0.11194944381713867, 0.15013688802719116, 0.2028747797012329, 0.0, 0.0, 0.0, 0.0, 0.0, 0.0, 0.0, 0.0, 0.0, 0.0, 0.0, 0.0, 0.0, 0.0, 0.0, 0.0, 0.0, 0.0, 0.0, 0.0, 0.0, 0.0, 0.0, 0.0, 0.0, 0.0, 0.0, 0.0, 0.0], [0.4180358350276947, 0.1603638082742691, 0.10740305483341217, 0.10625775903463364, 0.2079394906759262, 0.0, 0.0, 0.0, 0.0, 0.0, 0.0, 0.0, 0.0, 0.0, 0.0, 0.0, 0.0, 0.0, 0.0, 0.0, 0.0, 0.0, 0.0, 0.0, 0.0, 0.0, 0.0, 0.0, 0.0, 0.0, 0.0, 0.0, 0.0], [0.4349866509437561, 0.09579858183860779, 0.08251798152923584, 0.10028502345085144, 0.15332910418510437, 0.13308264315128326, 0.0, 0.0, 0.0, 0.0, 0.0, 0.0, 0.0, 0.0, 0.0, 0.0, 0.0, 0.0, 0.0, 0.0, 0.0, 0.0, 0.0, 0.0, 0.0, 0.0, 0.0, 0.0, 0.0, 0.0, 0.0, 0.0, 0.0], [0.44621357321739197, 0.05624213442206383, 0.05040299892425537, 0.0708429366350174, 0.09360905736684799, 0.11472618579864502, 0.16796311736106873, 0.0, 0.0, 0.0, 0.0, 0.0, 0.0, 0.0, 0.0, 0.0, 0.0, 0.0, 0.0, 0.0, 0.0, 0.0, 0.0, 0.0, 0.0, 0.0, 0.0, 0.0, 0.0, 0.0, 0.0, 0.0, 0.0], [0.3609195053577423, 0.07294465601444244, 0.05191004276275635, 0.07159050554037094, 0.09321670234203339, 0.09543662518262863, 0.14539922773838043, 0.1085827648639679, 0.0, 0.0, 0.0, 0.0, 0.0, 0.0, 0.0, 0.0, 0.0, 0.0, 0.0, 0.0, 0.0, 0.0, 0.0, 0.0, 0.0, 0.0, 0.0, 0.0, 0.0, 0.0, 0.0, 0.0, 0.0], [0.3171406686306, 0.07683128118515015, 0.05552283674478531, 0.06445366144180298, 0.08586593717336655, 0.10643252730369568, 0.1452113538980484, 0.09439335763454437, 0.05414833128452301, 0.0, 0.0, 0.0, 0.0, 0.0, 0.0, 0.0, 0.0, 0.0, 0.0, 0.0, 0.0, 0.0, 0.0, 0.0, 0.0, 0.0, 0.0, 0.0, 0.0, 0.0, 0.0, 0.0, 0.0], [0.19288600981235504, 0.11343876272439957, 0.045305073261260986, 0.08361203968524933, 0.05763271823525429, 0.11914195120334625, 0.11441226303577423, 0.1236451268196106, 0.07640954852104187, 0.07351642102003098, 0.0, 0.0, 0.0, 0.0, 0.0, 0.0, 0.0, 0.0, 0.0, 0.0, 0.0, 0.0, 0.0, 0.0, 0.0, 0.0, 0.0, 0.0, 0.0, 0.0, 0.0, 0.0, 0.0], [0.25174087285995483, 0.06019413471221924, 0.0493021197617054, 0.0592232383787632, 0.08453337848186493, 0.07307680696249008, 0.12308555096387863, 0.08293970674276352, 0.06380271911621094, 0.07185836136341095, 0.08024314045906067, 0.0, 0.0, 0.0, 0.0, 0.0, 0.0, 0.0, 0.0, 0.0, 0.0, 0.0, 0.0, 0.0, 0.0, 0.0, 0.0, 0.0, 0.0, 0.0, 0.0, 0.0, 0.0], [0.24793608486652374, 0.04855770990252495, 0.061716966331005096, 0.06616782397031784, 0.0878860279917717, 0.059203822165727615, 0.09128592908382416, 0.06866813451051712, 0.060628682374954224, 0.08399354666471481, 0.06569419056177139, 0.05826116353273392, 0.0, 0.0, 0.0, 0.0, 0.0, 0.0, 0.0, 0.0, 0.0, 0.0, 0.0, 0.0, 0.0, 0.0, 0.0, 0.0, 0.0, 0.0, 0.0, 0.0, 0.0], [0.15039604902267456, 0.07072300463914871, 0.0361880324780941, 0.03812884911894798, 0.054965790361166, 0.09552796930074692, 0.1278020292520523, 0.09101752936840057, 0.04133947193622589, 0.06619424372911453, 0.11493084579706192, 0.0352681465446949, 0.07751806825399399, 0.0, 0.0, 0.0, 0.0, 0.0, 0.0, 0.0, 0.0, 0.0, 0.0, 0.0, 0.0, 0.0, 0.0, 0.0, 0.0, 0.0, 0.0, 0.0, 0.0], [0.21730750799179077, 0.0522487610578537, 0.04279685392975807, 0.05130990222096443, 0.07021073251962662, 0.06084864214062691, 0.10094171017408371, 0.06729137152433395, 0.05347270891070366, 0.058032434433698654, 0.063866026699543, 0.041436828672885895, 0.05429812893271446, 0.06593840569257736, 0.0, 0.0, 0.0, 0.0, 0.0, 0.0, 0.0, 0.0, 0.0, 0.0, 0.0, 0.0, 0.0, 0.0, 0.0, 0.0, 0.0, 0.0, 0.0], [0.14158987998962402, 0.08735615015029907, 0.041096281260252, 0.07771319150924683, 0.06641592085361481, 0.06084611266851425, 0.07890867441892624, 0.0646718293428421, 0.04156756028532982, 0.05314023420214653, 0.06033195182681084, 0.049903448671102524, 0.06147689372301102, 0.06152055040001869, 0.05346129834651947, 0.0, 0.0, 0.0, 0.0, 0.0, 0.0, 0.0, 0.0, 0.0, 0.0, 0.0, 0.0, 0.0, 0.0, 0.0, 0.0, 0.0, 0.0], [0.11277396976947784, 0.05140269547700882, 0.034800734370946884, 0.04410992190241814, 0.049271050840616226, 0.08066020160913467, 0.09371131658554077, 0.07634276151657104, 0.034600723534822464, 0.05556501820683479, 0.09000374376773834, 0.027950912714004517, 0.05808688700199127, 0.09759873896837234, 0.0585305355489254, 0.03459075838327408, 0.0, 0.0, 0.0, 0.0, 0.0, 0.0, 0.0, 0.0, 0.0, 0.0, 0.0, 0.0, 0.0, 0.0, 0.0, 0.0, 0.0], [0.19136784970760345, 0.045888014137744904, 0.037184182554483414, 0.044788483530282974, 0.058455418795347214, 0.05162312090396881, 0.08451799303293228, 0.056617286056280136, 0.044779226183891296, 0.04681586101651192, 0.051775235682725906, 0.03474309667944908, 0.04365592449903488, 0.05257754027843475, 0.045719120651483536, 0.05523937568068504, 0.0542522594332695, 0.0, 0.0, 0.0, 0.0, 0.0, 0.0, 0.0, 0.0, 0.0, 0.0, 0.0, 0.0, 0.0, 0.0, 0.0, 0.0], [0.1780986487865448, 0.03651316463947296, 0.03537803143262863, 0.046600595116615295, 0.05606750771403313, 0.05542529746890068, 0.06580902636051178, 0.05869590863585472, 0.044602103531360626, 0.03845332935452461, 0.05522070452570915, 0.028129279613494873, 0.038876309990882874, 0.05635206028819084, 0.043072041124105453, 0.04859212040901184, 0.05801304802298546, 0.05610081925988197, 0.0, 0.0, 0.0, 0.0, 0.0, 0.0, 0.0, 0.0, 0.0, 0.0, 0.0, 0.0, 0.0, 0.0, 0.0], [0.11277125775814056, 0.04416342452168465, 0.01679084822535515, 0.03922899067401886, 0.030570242553949356, 0.08429384231567383, 0.058298345655202866, 0.07985575497150421, 0.02774021402001381, 0.02460792474448681, 0.08568026125431061, 0.012135532684624195, 0.02122362144291401, 0.08979950100183487, 0.024395622313022614, 0.018000073730945587, 0.09797869622707367, 0.08564858883619308, 0.04681727662682533, 0.0, 0.0, 0.0, 0.0, 0.0, 0.0, 0.0, 0.0, 0.0, 0.0, 0.0, 0.0, 0.0, 0.0], [0.15648673474788666, 0.043593354523181915, 0.029469121247529984, 0.023382792249321938, 0.03989394009113312, 0.06601442396640778, 0.07239895313978195, 0.049598753452301025, 0.02572007291018963, 0.028729896992444992, 0.07268751412630081, 0.020104363560676575, 0.03894994035363197, 0.07793483883142471, 0.0318501777946949, 0.02957259863615036, 0.08162932842969894, 0.049830298870801926, 0.04757082462310791, 0.01458201464265585, 0.0, 0.0, 0.0, 0.0, 0.0, 0.0, 0.0, 0.0, 0.0, 0.0, 0.0, 0.0, 0.0], [0.16675153374671936, 0.04021674394607544, 0.03194626420736313, 0.039155539125204086, 0.04867977276444435, 0.04351935535669327, 0.07027735561132431, 0.046769797801971436, 0.03737049549818039, 0.03785952925682068, 0.04185350984334946, 0.029438771307468414, 0.034967005252838135, 0.041871532797813416, 0.0366596058011055, 0.04418947547674179, 0.04244701564311981, 0.04308999702334404, 0.055408235639333725, 0.024029968306422234, 0.04349851980805397, 0.0, 0.0, 0.0, 0.0, 0.0, 0.0, 0.0, 0.0, 0.0, 0.0, 0.0, 0.0], [0.21311703324317932, 0.03452148661017418, 0.026512037962675095, 0.037284646183252335, 0.042002297937870026, 0.05378074571490288, 0.06410719454288483, 0.040195900946855545, 0.029513953253626823, 0.030562080442905426, 0.0481405146420002, 0.01964573934674263, 0.02385598234832287, 0.047123588621616364, 0.02780524455010891, 0.02563280239701271, 0.04690324515104294, 0.04211500659584999, 0.04245338588953018, 0.016209961846470833, 0.04720157012343407, 0.041315577924251556, 0.0, 0.0, 0.0, 0.0, 0.0, 0.0, 0.0, 0.0, 0.0, 0.0, 0.0], [0.16099102795124054, 0.03149213269352913, 0.02550601400434971, 0.03203628957271576, 0.03811938688158989, 0.05386461690068245, 0.05289202183485031, 0.06297369301319122, 0.03872941806912422, 0.030703026801347733, 0.0486149899661541, 0.01696413941681385, 0.02098487690091133, 0.04743489995598793, 0.026178572326898575, 0.032817017287015915, 0.04874100163578987, 0.03702305257320404, 0.05028444528579712, 0.014425930567085743, 0.04926920682191849, 0.027485143393278122, 0.05246911942958832, 0.0, 0.0, 0.0, 0.0, 0.0, 0.0, 0.0, 0.0, 0.0, 0.0], [0.13924194872379303, 0.04732194542884827, 0.022920062765479088, 0.037826746702194214, 0.037331584841012955, 0.056281957775354385, 0.06773107498884201, 0.06383747607469559, 0.02882455848157406, 0.028368620201945305, 0.05008406937122345, 0.014775174669921398, 0.02105889841914177, 0.04819710925221443, 0.017685115337371826, 0.015456218272447586, 0.04842803254723549, 0.037099506705999374, 0.042473237961530685, 0.018426815047860146, 0.04861332103610039, 0.022673942148685455, 0.05998959764838219, 0.025352945551276207, 0.0, 0.0, 0.0, 0.0, 0.0, 0.0, 0.0, 0.0, 0.0], [0.1956235021352768, 0.03233328089118004, 0.02287409082055092, 0.038390759378671646, 0.034498799592256546, 0.046169038861989975, 0.05553752928972244, 0.03960668295621872, 0.023098409175872803, 0.024249296635389328, 0.040433064103126526, 0.016078544780611992, 0.021624943241477013, 0.039030544459819794, 0.026520879939198494, 0.028113430365920067, 0.0382363423705101, 0.035426124930381775, 0.041745759546756744, 0.02109714038670063, 0.037679556757211685, 0.03728693723678589, 0.044239211827516556, 0.022921498864889145, 0.0371847003698349, 0.0, 0.0, 0.0, 0.0, 0.0, 0.0, 0.0, 0.0], [0.0581965334713459, 0.038897402584552765, 0.026005243882536888, 0.023567883297801018, 0.0229799821972847, 0.053841497749090195, 0.058061063289642334, 0.06858772039413452, 0.03745981678366661, 0.02915911003947258, 0.05474673584103584, 0.013592935167253017, 0.027647055685520172, 0.055754028260707855, 0.030779872089624405, 0.01613735966384411, 0.05745430663228035, 0.039687298238277435, 0.034065522253513336, 0.013110967352986336, 0.059776563197374344, 0.01604376919567585, 0.029699301347136497, 0.020566528663039207, 0.08347287029027939, 0.030708611011505127, 0.0, 0.0, 0.0, 0.0, 0.0, 0.0, 0.0], [0.15561482310295105, 0.030323175713419914, 0.021067578345537186, 0.03860041871666908, 0.025089260190725327, 0.0471951998770237, 0.04255650192499161, 0.051662564277648926, 0.030368106439709663, 0.020133640617132187, 0.042556967586278915, 0.018511775881052017, 0.01867172122001648, 0.041430287063121796, 0.022022128105163574, 0.02106102928519249, 0.04166619852185249, 0.027249207720160484, 0.0404815748333931, 0.015536418184638023, 0.04219621792435646, 0.01700734719634056, 0.06220948323607445, 0.015703149139881134, 0.054431866854429245, 0.04092409089207649, 0.01572924666106701, 0.0, 0.0, 0.0, 0.0, 0.0, 0.0], [0.15218870341777802, 0.03232048079371452, 0.026277616620063782, 0.03215136006474495, 0.0370805524289608, 0.038433339446783066, 0.042185209691524506, 0.034409213811159134, 0.02929617464542389, 0.024752279743552208, 0.034612320363521576, 0.021795077249407768, 0.023419683799147606, 0.03386643901467323, 0.028580613434314728, 0.034403249621391296, 0.03315696865320206, 0.026710394769906998, 0.042135659605264664, 0.019021356478333473, 0.032785799354314804, 0.026839982718229294, 0.03304454684257507, 0.023302637040615082, 0.03390035778284073, 0.039449259638786316, 0.02133426070213318, 0.042546436190605164, 0.0, 0.0, 0.0, 0.0, 0.0], [0.10210391879081726, 0.04830532521009445, 0.027957910671830177, 0.02813485451042652, 0.04368893429636955, 0.03765960410237312, 0.04012181982398033, 0.03589580953121185, 0.02449178136885166, 0.019768044352531433, 0.03467409312725067, 0.015431455336511135, 0.03261655941605568, 0.03414337709546089, 0.027461392804980278, 0.020323220640420914, 0.03445842117071152, 0.015827571973204613, 0.03070584498345852, 0.02036093734204769, 0.03558045253157616, 0.0347902737557888, 0.035181500017642975, 0.028572579845786095, 0.04333386942744255, 0.03896386921405792, 0.017587706446647644, 0.045533761382102966, 0.046325117349624634, 0.0, 0.0, 0.0, 0.0], [0.1184174120426178, 0.026689790189266205, 0.02854764647781849, 0.03516456484794617, 0.03519095852971077, 0.030704865232110023, 0.04254690557718277, 0.023103507235646248, 0.02546311914920807, 0.029678557068109512, 0.02839520573616028, 0.019178250804543495, 0.023833584040403366, 0.027640027925372124, 0.033817537128925323, 0.03964013233780861, 0.027574436739087105, 0.0218561589717865, 0.03966763615608215, 0.03941831737756729, 0.02711562067270279, 0.030498048290610313, 0.03493283689022064, 0.0323205292224884, 0.027840537950396538, 0.03877579793334007, 0.021124791353940964, 0.03861141949892044, 0.032771822065114975, 0.019479986280202866, 0.0, 0.0, 0.0], [0.05433791130781174, 0.019247837364673615, 0.011686466634273529, 0.014118615537881851, 0.013909785076975822, 0.05736802518367767, 0.034546397626399994, 0.04665059968829155, 0.013026446104049683, 0.013271305710077286, 0.05952776223421097, 0.009063140489161015, 0.017364205792546272, 0.06135563179850578, 0.01263465080410242, 0.015145532786846161, 0.06425536423921585, 0.046270616352558136, 0.019556373357772827, 0.012543448247015476, 0.06913558393716812, 0.03482367843389511, 0.03000597655773163, 0.012261816300451756, 0.07985590398311615, 0.01899644359946251, 0.0107229333370924, 0.08654540777206421, 0.017174087464809418, 0.02214416116476059, 0.02245398610830307, 0.0, 0.0], [0.05849645286798477, 0.03437737002968788, 0.013603088445961475, 0.024170437827706337, 0.019005868583917618, 0.0654640644788742, 0.03062298148870468, 0.03573206812143326, 0.01885945349931717, 0.012241478078067303, 0.0628218948841095, 0.01183574739843607, 0.009552357718348503, 0.06431794911623001, 0.02158958464860916, 0.010912963189184666, 0.06665915250778198, 0.02399745211005211, 0.026596732437610626, 0.006153553258627653, 0.06984329968690872, 0.037238676100969315, 0.030046721920371056, 0.021686799824237823, 0.043640609830617905, 0.02120962180197239, 0.013490457087755203, 0.04632722586393356, 0.02043450064957142, 0.013362267054617405, 0.018568987026810646, 0.04714023321866989, 0.0], [0.1352868527173996, 0.02973336912691593, 0.026111328974366188, 0.03753575310111046, 0.0388815701007843, 0.033166784793138504, 0.0482439287006855, 0.030468301847577095, 0.02603822760283947, 0.02412371151149273, 0.02789274975657463, 0.022709935903549194, 0.024185296148061752, 0.026114555075764656, 0.023209676146507263, 0.025175288319587708, 0.02461479790508747, 0.02112315408885479, 0.029685046523809433, 0.018167469650506973, 0.02306438237428665, 0.02059805952012539, 0.03441142290830612, 0.021083403378725052, 0.022538838908076286, 0.03228156268596649, 0.013987254351377487, 0.024144921451807022, 0.027002310380339622, 0.012929447926580906, 0.03616538643836975, 0.026840228587388992, 0.03248501941561699]]], \"headLabels\": [\"L0H0\", \"L0H1\", \"L0H2\", \"L0H3\", \"L0H4\", \"L0H5\", \"L0H6\", \"L0H7\", \"L0H8\", \"L0H9\", \"L0H10\", \"L0H11\"]}\n",
              "    )\n",
              "    </script>"
            ]
          },
          "metadata": {}
        }
      ],
      "source": [
        "print(type(gpt2_cache))\n",
        "attention_pattern = gpt2_cache[\"pattern\", 0]\n",
        "print(attention_pattern.shape)\n",
        "gpt2_str_tokens = gpt2_small.to_str_tokens(gpt2_text)\n",
        "\n",
        "print(\"Layer 0 Head Attention Patterns:\")\n",
        "display(cv.attention.attention_patterns(\n",
        "    tokens=gpt2_str_tokens,\n",
        "    attention=attention_pattern,\n",
        "    attention_head_names=[f\"L0H{i}\" for i in range(12)],\n",
        "))"
      ]
    },
    {
      "cell_type": "markdown",
      "metadata": {
        "id": "sDvQvf3nGlgp"
      },
      "source": [
        "Hover over heads to see the attention patterns; click on a head to lock it. Hover over each token to see which other tokens it attends to (or which other tokens attend to it - you can see this by changing the dropdown to `Destination <- Source`).\n"
      ]
    },
    {
      "cell_type": "markdown",
      "source": [
        "\n",
        "<details>\n",
        "<summary>Other circuitsvis functions - neuron activations</summary>\n",
        "\n",
        "The `circuitsvis` library also has a number of cool visualisations for **neuron activations**. Here are some more of them (you don't have to understand them all now, but you can come back to them later).\n",
        "\n",
        "The function below visualises neuron activations. The example shows just one sequence, but it can also show multiple sequences (if `tokens` is a list of lists of strings, and `activations` is a list of tensors).\n",
        "\n",
        "```python\n",
        "neuron_activations_for_all_layers = t.stack([\n",
        "    gpt2_cache[\"post\", layer] for layer in range(gpt2_small.cfg.n_layers)\n",
        "], dim=1)\n",
        "# shape = (seq_pos, layers, neurons)\n",
        "\n",
        "cv.activations.text_neuron_activations(\n",
        "    tokens=gpt2_str_tokens,\n",
        "    activations=neuron_activations_for_all_layers\n",
        ")\n",
        "```\n",
        "\n",
        "The next function shows which words each of the neurons activates most / least on (note that it requires some weird indexing to work correctly).\n",
        "\n",
        "```python\n",
        "neuron_activations_for_all_layers_rearranged = utils.to_numpy(einops.rearrange(neuron_activations_for_all_layers, \"seq layers neurons -> 1 layers seq neurons\"))\n",
        "\n",
        "cv.topk_tokens.topk_tokens(\n",
        "    # Some weird indexing required here ¯\\_(ツ)_/¯\n",
        "    tokens=[gpt2_str_tokens],\n",
        "    activations=neuron_activations_for_all_layers_rearranged,\n",
        "    max_k=7,\n",
        "    first_dimension_name=\"Layer\",\n",
        "    third_dimension_name=\"Neuron\",\n",
        "    first_dimension_labels=list(range(12))\n",
        ")\n",
        "```\n",
        "</details>"
      ],
      "metadata": {
        "id": "DV4pHPMSMROZ"
      }
    },
    {
      "cell_type": "markdown",
      "metadata": {
        "id": "c9dS0gMOGrOZ"
      },
      "source": [
        "# 2️⃣ Finding induction heads\n"
      ]
    },
    {
      "cell_type": "markdown",
      "metadata": {
        "id": "8paALp2IGyqR"
      },
      "source": [
        "> ##### Learning objectives\n",
        ">\n",
        "> - Understand what induction heads are, and the algorithm they are implementing\n",
        "> - Inspect activation patterns to identify basic attention head patterns, and write your own functions to detect attention heads for you\n",
        "> - Identify induction heads by looking at the attention patterns produced from a repeating random sequence\n"
      ]
    },
    {
      "cell_type": "markdown",
      "metadata": {
        "id": "OclKuCm_G4EI"
      },
      "source": [
        "## Introducing Our Toy Attention-Only Model\n",
        "\n",
        "Here we introduce a toy 2L attention-only transformer trained specifically for today. Some changes to make them easier to interpret:\n",
        "- It has only attention blocks.\n",
        "- The positional embeddings are only added to the residual stream before each key and query vector in the attention layers as opposed to the token embeddings - i.e. we compute queries as `Q = (resid + pos_embed) @ W_Q + b_Q` and same for keys, but values as `V = resid @ W_V + b_V`. This means that **the residual stream can't directly encode positional information**.\n",
        "    - This turns out to make it *way* easier for induction heads to form, it happens 2-3x times earlier - [see the comparison of two training runs](https://wandb.ai/mechanistic-interpretability/attn-only/reports/loss_ewma-22-08-24-11-08-83---VmlldzoyNTI0MDMz?accessToken=8ap8ir6y072uqa4f9uinotdtrwmoa8d8k2je4ec0lyasf1jcm3mtdh37ouijgdbm) here. (The bump in each curve is the formation of induction heads.)\n",
        "    - The argument that does this below is `positional_embedding_type=\"shortformer\"`.\n",
        "- It has no MLP layers, no LayerNorms, and no biases.\n",
        "- There are separate embed and unembed matrices (i.e. the weights are not tied).\n",
        "\n",
        "\\*In other words, we compute\n",
        "\n",
        "We now define our model with a `HookedTransformerConfig` object. This is similar to the `Config` object we used in the previous set of exercises, although it has a lot more features. You can look at the documentation page (Right-click, \"Go to Definition\" in VSCode) to seee what the different arguments do.\n"
      ]
    },
    {
      "cell_type": "code",
      "execution_count": null,
      "metadata": {
        "id": "Az0iWVMUGnIy"
      },
      "outputs": [],
      "source": [
        "cfg = HookedTransformerConfig(\n",
        "    d_model=768,\n",
        "    d_head=64,\n",
        "    n_heads=12,\n",
        "    n_layers=2,\n",
        "    n_ctx=2048,\n",
        "    d_vocab=50278,\n",
        "    attention_dir=\"causal\",\n",
        "    attn_only=True, # defaults to False\n",
        "    tokenizer_name=\"EleutherAI/gpt-neox-20b\",\n",
        "    seed=398,\n",
        "    use_attn_result=True,\n",
        "    normalization_type=None, # defaults to \"LN\", i.e. layernorm with weights & biases\n",
        "    positional_embedding_type=\"shortformer\"\n",
        ")"
      ]
    },
    {
      "cell_type": "markdown",
      "metadata": {
        "id": "YSK_0Z0EG8vE"
      },
      "source": [
        "<details>\n",
        "<summary>An aside about tokenizers</summary>\n",
        "\n",
        "In the last section, we defined a tokenizer explicitly, and passed it into our model. But here, we just pass a tokenizer name. The model automatically creates a tokenizer for us (under the hood, it calls `AutoTokenizer.from_pretrained(tokenizer_name)`).\n",
        "</details>\n",
        "\n",
        "Below, you'll load in your weights, with some boilerplate code to download your state dict from HuggingFace (you can do this for any model you've uploaded to HuggingFace yourself):\n"
      ]
    },
    {
      "cell_type": "code",
      "execution_count": null,
      "metadata": {
        "id": "ZiO18Aj6hNnK"
      },
      "outputs": [],
      "source": [
        "from huggingface_hub import hf_hub_download\n",
        "\n",
        "REPO_ID = \"callummcdougall/attn_only_2L_half\"\n",
        "FILENAME = \"attn_only_2L_half.pth\"\n",
        "\n",
        "weights_path = hf_hub_download(repo_id=REPO_ID, filename=FILENAME)"
      ]
    },
    {
      "cell_type": "markdown",
      "metadata": {
        "id": "uh9NhPrBhNnK"
      },
      "source": [
        "Finally, we'll create our model and load in the weights:\n"
      ]
    },
    {
      "cell_type": "code",
      "execution_count": null,
      "metadata": {
        "id": "mkwIxlMgHDcV"
      },
      "outputs": [],
      "source": [
        "model = HookedTransformer(cfg)\n",
        "pretrained_weights = t.load(weights_path, map_location=device)\n",
        "model.load_state_dict(pretrained_weights)"
      ]
    },
    {
      "cell_type": "markdown",
      "metadata": {
        "id": "aI2rp_mKHFGC"
      },
      "source": [
        "Use the [diagram at this link](https://raw.githubusercontent.com/callummcdougall/computational-thread-art/master/example_images/misc/small-merm.svg) to remind yourself of the relevant hook names.\n"
      ]
    },
    {
      "cell_type": "markdown",
      "metadata": {
        "id": "vBDA1EbxHL5R"
      },
      "source": [
        "### Exercise - visualise attention patterns\n",
        "\n",
        "```c\n",
        "Difficulty: 🔴🔴⚪⚪⚪\n",
        "Importance: 🔵🔵🔵⚪⚪\n",
        "\n",
        "You should spend up to ~10 minutes on this exercise.\n",
        "\n",
        "It's important to be comfortable using circuitsvis, and the cache object.\n",
        "```\n",
        "\n",
        "*This exercise should be very quick - you can reuse code from the previous section. You should look at the solution if you're still stuck after 5-10 minutes.*\n",
        "\n",
        "Visualise the attention patterns for both layers of your model, on the following prompt:\n"
      ]
    },
    {
      "cell_type": "code",
      "execution_count": null,
      "metadata": {
        "id": "wF2PES1PHVSf"
      },
      "outputs": [],
      "source": [
        "text = \"We think that powerful, significantly superhuman machine intelligence is more likely than not to be created this century. If current machine learning techniques were scaled up to this level, we think they would by default produce systems that are deceptive or manipulative, and that no solid plans are known for how to avoid this.\"\n",
        "\n",
        "logits, cache = model.run_with_cache(text, remove_batch_dim=True)"
      ]
    },
    {
      "cell_type": "markdown",
      "metadata": {
        "id": "JwukbB_qHS7c"
      },
      "source": [
        "*(Note that we've run the model on the string `text`, rather than on tokens like we did previously when creating a cache - this is something that `HookedTransformer` allows.)*\n",
        "\n",
        "Inspect the attention patterns. What do you notice about the attention heads?\n",
        "\n",
        "You should spot three relatively distinctive basic patterns, which occur in multiple heads. What are these patterns, and can you guess why they might be present?\n",
        "\n",
        "<details>\n",
        "<summary>Aside - what to do if your plots won't show up</summary>\n",
        "\n",
        "A common mistake is to fail to pass the tokens in as arguments. If you do this, your attention patterns won't render.\n",
        "\n",
        "If this isn't the problem, then it might be an issue with the Circuitsvis library.Rather than plotting inline, you can do the following, and then open in your browser from the left-hand file explorer menu of VSCode:\n",
        "</details>\n"
      ]
    },
    {
      "cell_type": "code",
      "execution_count": null,
      "metadata": {
        "id": "WC23gqMaHfRf"
      },
      "outputs": [],
      "source": [
        "# YOUR CODE HERE - visualize attention"
      ]
    },
    {
      "cell_type": "markdown",
      "metadata": {
        "id": "A00EWF9WHUQX"
      },
      "source": [
        "<details>\n",
        "<summary>Discussion of results </summary>\n",
        "\n",
        "We notice that there are three basic patterns which repeat quite frequently:\n",
        "\n",
        "* `prev_token_heads`, which attend mainly to the previous token (e.g. head `0.7`)\n",
        "* `current_token_heads`, which attend mainly to the current token (e.g. head `1.6`)\n",
        "* `first_token_heads`, which attend mainly to the first token (e.g. heads `0.3` or `1.4`, although these are a bit less clear-cut than the other two)\n",
        "\n",
        "The `prev_token_heads` and `current_token_heads` are perhaps unsurprising, because words that are close together in a sequence probably have a lot more mutual information (i.e. we could get quite far using bigram or trigram prediction).\n",
        "\n",
        "The `first_token_heads` are a bit more surprising. The basic intuition here is that the first token in a sequence is often used as a resting or null position for heads that only sometimes activate (since our attention probabilities always have to add up to 1).\n",
        "</details>\n"
      ]
    },
    {
      "cell_type": "markdown",
      "metadata": {
        "id": "Od-uDxRaHUOQ"
      },
      "source": [
        "Now that we've observed our three basic attention patterns, it's time to make detectors for those patterns!\n"
      ]
    },
    {
      "cell_type": "markdown",
      "metadata": {
        "id": "aGXkm-zgHUL9"
      },
      "source": [
        "### Exercise - write your own detectors\n",
        "\n",
        "```c\n",
        "Difficulty: 🔴🔴⚪⚪⚪\n",
        "Importance: 🔵🔵🔵⚪⚪\n",
        "\n",
        "You shouldn't spend more than 15-20 minutes on these exercises.\n",
        "\n",
        "These exercises shouldn't be too challenging, if you understand attention patterns. Use the hint if stuck on things like how to correctly index your tensors, or how to access the activation patterns from the cache.\n",
        "```\n",
        "\n",
        "You should fill in the functions below, which act as detectors for particular types of heads. Validate your detectors by comparing these results to the visual attention patterns above - summary statistics on their own can be dodgy, but are much more reliable if you can validate it by directly playing with the data.\n",
        "\n",
        "Tasks like this are useful, because we need to be able to take our observations / intuitions about what a model is doing, and translate these into quantitative measures. As the exercises proceed, we'll be creating some much more interesting tools and detectors!\n",
        "\n",
        "Note - there's no objectively correct answer for which heads are doing which tasks, and which detectors can spot them. You should just try and come up with something plausible-seeming, which identifies the kind of behaviour you're looking for.\n"
      ]
    },
    {
      "cell_type": "code",
      "execution_count": null,
      "metadata": {
        "id": "3kGccWbxH7oV"
      },
      "outputs": [],
      "source": [
        "def current_attn_detector(cache: ActivationCache) -> List[str]:\n",
        "    '''\n",
        "    Returns a list e.g. [\"0.2\", \"1.4\", \"1.9\"] of \"layer.head\" which you judge to be current-token heads\n",
        "    '''\n",
        "    pass\n",
        "\n",
        "\n",
        "def prev_attn_detector(cache: ActivationCache) -> List[str]:\n",
        "    '''\n",
        "    Returns a list e.g. [\"0.2\", \"1.4\", \"1.9\"] of \"layer.head\" which you judge to be prev-token heads\n",
        "    '''\n",
        "    pass\n",
        "\n",
        "\n",
        "def first_attn_detector(cache: ActivationCache) -> List[str]:\n",
        "    '''\n",
        "    Returns a list e.g. [\"0.2\", \"1.4\", \"1.9\"] of \"layer.head\" which you judge to be first-token heads\n",
        "    '''\n",
        "    pass\n",
        "\n",
        "\n",
        "print(\"Heads attending to current token  = \", \", \".join(current_attn_detector(cache)))\n",
        "print(\"Heads attending to previous token = \", \", \".join(prev_attn_detector(cache)))\n",
        "print(\"Heads attending to first token    = \", \", \".join(first_attn_detector(cache)))"
      ]
    },
    {
      "cell_type": "markdown",
      "metadata": {
        "id": "21HXRwbSSy_8"
      },
      "source": [
        "<details>\n",
        "<summary>Hint</summary>\n",
        "\n",
        "Try and compute the average attention probability along the relevant tokens. For instance, you can get the tokens just below the diagonal by using `t.diagonal` with appropriate `offset` parameter:\n",
        "\n",
        "```python\n",
        ">>> arr = t.arange(9).reshape(3, 3)\n",
        ">>> arr\n",
        "tensor([[0, 1, 2],\n",
        "        [3, 4, 5],\n",
        "        [6, 7, 8]])\n",
        "\n",
        ">>> arr.diagonal()\n",
        "tensor([0, 4, 8])\n",
        "\n",
        ">>> arr.diagonal(-1)\n",
        "tensor([3, 7])\n",
        "```\n",
        "\n",
        "Remember that you should be using `cache[\"pattern\", layer]` to get all the attention probabilities for a given layer, and then indexing on the 0th dimension to get the correct head.\n",
        "</details>\n"
      ]
    },
    {
      "cell_type": "markdown",
      "metadata": {
        "id": "HAxjI6Q9HUJx"
      },
      "source": [
        "Compare the printouts to your attention visualisations above. Do they seem to make sense?\n",
        "\n",
        "### Bonus - try different text\n",
        "\n",
        "Try inputting different text, and see how stable your results are. Do you always get the same classifications for heads?\n"
      ]
    },
    {
      "cell_type": "markdown",
      "metadata": {
        "id": "XsZy1UBgHUHU"
      },
      "source": [
        "Now, it's time to turn our attention to induction heads.\n",
        "\n",
        "## What are induction heads?\n",
        "\n",
        "(Note: I use induction **head** to refer to the head in the second layer which attends to the 'token immediately after the copy of the current token', and induction **circuit** to refer to the circuit consisting of the composition of a **previous token head** in layer 0 and an **induction head** in layer 1)\n",
        "\n",
        "[Induction heads](https://transformer-circuits.pub/2021/framework/index.html#induction-heads) are the first sophisticated circuit we see in transformers! And are sufficiently interesting that we wrote [another paper just about them](https://transformer-circuits.pub/2022/in-context-learning-and-induction-heads/index.html).\n",
        "\n",
        "<details>\n",
        "<summary>An aside on why induction heads are a big deal</summary>\n",
        "\n",
        "There's a few particularly striking things about induction heads:\n",
        "\n",
        "* They develop fairly suddenly in a phase change - from about 2B to 4B tokens we go from no induction heads to pretty well developed ones. This is a striking divergence from a 1L model [see the comparison of in context learning performance curves curves for models with different layers](https://transformer-circuits.pub/2022/in-context-learning-and-induction-heads/index.html#:~:text=Our%20first%20observation) and can be observed in much larger models (eg a 13B one)\n",
        "    * Phase changes are particularly interesting (and depressing) from an alignment perspective, because the prospect of a sharp left turn, or emergent capabilities like deception or situational awareness seems like worlds where alignment may be harder, and we get caught by surprise without warning shots or simpler but analogous models to test our techniques on.\n",
        "* They are responsible for a significant loss decrease - so much so that there's a visible bump in the loss curve when they develop (this change in loss can be pretty comparable to the increase in loss from major increases in model size, though this is hard to make an apples-to-apples comparison)\n",
        "* They seem to be responsible for the vast majority of in-context learning - the ability to use far back tokens in the context to predict the next token. This is a significant way in which transformers outperform older architectures like RNNs or LSTMs, and induction heads seem to be a big part of this.\n",
        "* The same core circuit seems to be used in a bunch of more sophisticated settings, such as translation or few-shot learning - there are heads that seem clearly responsible for those *and* which double as induction heads.\n",
        "\n",
        "</details>\n",
        "\n",
        "Again, you are strongly recommended to read the [corresponding section of the glossary](https://dynalist.io/d/n2ZWtnoYHrU1s4vnFSAQ519J#z=_Jzi6YHRHKP1JziwdE02qdYZ), before continuing (or [this LessWrong post](https://www.lesswrong.com/posts/TvrfY4c9eaGLeyDkE/induction-heads-illustrated)). In brief, however, the induction circuit consists of a previous token head in layer 0 and an induction head in layer 1, where the induction head learns to attend to the token immediately *after* copies of the current token via K-Composition with the previous token head.\n",
        "\n",
        "##### Question - why couldn't an induction head form in a 1L model?\n",
        "\n",
        "<details>\n",
        "<summary>Answer</summary>\n",
        "\n",
        "Because this would require a head which attends a key position based on the *value of the token before it*. Attention scores are just a function of the key token and the query token, and are not a function of other tokens.\n",
        "\n",
        "(The attention pattern *does* in fact include effects from other tokens because of softmax - if another key token has a high attention score, softmax inhibits this pair. But this inhibition is symmetric across positions, so can't systematically favour the token *next* to the relevant one.)\n",
        "\n",
        "Note that a key detail is that the value of adjacent tokens are (approximately) unrelated - if the model wanted to attend based on relative *position* this is easy.\n",
        "</details>\n"
      ]
    },
    {
      "cell_type": "markdown",
      "metadata": {
        "id": "mejpDZlBHUEL"
      },
      "source": [
        "## Checking for the induction capability\n",
        "\n",
        "A striking thing about models with induction heads is that, given a repeated sequence of random tokens, they can predict the repeated half of the sequence. This is nothing like it's training data, so this is kind of wild! The ability to predict this kind of out of distribution generalisation is a strong point of evidence that you've really understood a circuit.\n",
        "\n",
        "To check that this model has induction heads, we're going to run it on exactly that, and compare performance on the two halves - you should see a striking difference in the per token losses.\n",
        "\n",
        "Note - we're using small sequences (and just one sequence), since the results are very obvious and this makes it easier to visualise. In practice we'd obviously use larger ones on more subtle tasks. But it's often easiest to iterate and debug on small tasks.\n"
      ]
    },
    {
      "cell_type": "markdown",
      "metadata": {
        "id": "--Rc6KozHT-1"
      },
      "source": [
        "### Exercise - plot per-token loss on repeated sequence\n",
        "\n",
        "```c\n",
        "Difficulty: 🔴🔴⚪⚪⚪\n",
        "Importance: 🔵🔵⚪⚪⚪\n",
        "\n",
        "You shouldn't spend more than 10-15 minutes on these exercises.\n",
        "```\n",
        "\n",
        "You should fill in the functions below. We've given you the first line of the first function, which defines a prefix (remember we need the BOS token for GPT-2, since it was trained to have one).\n"
      ]
    },
    {
      "cell_type": "code",
      "execution_count": null,
      "metadata": {
        "id": "APlyxd32IWzV"
      },
      "outputs": [],
      "source": [
        "def generate_repeated_tokens(\n",
        "    model: HookedTransformer, seq_len: int, batch: int = 1\n",
        ") -> Int[Tensor, \"batch full_seq_len\"]:\n",
        "    '''\n",
        "    Generates a sequence of repeated random tokens\n",
        "\n",
        "    Outputs are:\n",
        "        rep_tokens: [batch, 1+2*seq_len]\n",
        "    '''\n",
        "    pass\n",
        "\n",
        "\n",
        "def run_and_cache_model_repeated_tokens(model: HookedTransformer, seq_len: int, batch: int = 1) -> Tuple[t.Tensor, t.Tensor, ActivationCache]:\n",
        "    '''\n",
        "    Generates a sequence of repeated random tokens, and runs the model on it, returning logits, tokens and cache\n",
        "\n",
        "    Should use the `generate_repeated_tokens` function above\n",
        "\n",
        "    Outputs are:\n",
        "        rep_tokens: [batch, 1+2*seq_len]\n",
        "        rep_logits: [batch, 1+2*seq_len, d_vocab]\n",
        "        rep_cache: The cache of the model run on rep_tokens\n",
        "    '''\n",
        "    pass\n",
        "\n",
        "\n",
        "seq_len = 50\n",
        "batch = 1\n",
        "(rep_tokens, rep_logits, rep_cache) = run_and_cache_model_repeated_tokens(model, seq_len, batch)\n",
        "rep_cache.remove_batch_dim()\n",
        "rep_str = model.to_str_tokens(rep_tokens)\n",
        "model.reset_hooks()\n",
        "log_probs = get_log_probs(rep_logits, rep_tokens).squeeze()\n",
        "\n",
        "print(f\"Performance on the first half: {log_probs[:seq_len].mean():.3f}\")\n",
        "print(f\"Performance on the second half: {log_probs[seq_len:].mean():.3f}\")\n",
        "\n",
        "plot_loss_difference(log_probs, rep_str, seq_len)"
      ]
    },
    {
      "cell_type": "markdown",
      "metadata": {
        "id": "GQVYx89VHT4a"
      },
      "source": [
        "<details>\n",
        "<summary>Hint</summary>\n",
        "\n",
        "You can define the first half of the repeated tokens using `t.randint(low, high, shape)`. Also remember to specify `dtype=t.long`.\n",
        "\n",
        "Then you can concatenate together your prefix and two copies of the repeated tokens, using `t.concat`.\n",
        "</details>\n",
        "\n"
      ]
    },
    {
      "cell_type": "markdown",
      "metadata": {
        "id": "ooiXcu15HTwv"
      },
      "source": [
        "### Looking for Induction Attention Patterns\n",
        "\n",
        "The next natural thing to check for is the induction attention pattern.\n",
        "\n",
        "First, go back to the attention patterns visualisation code from earlier (i.e. `cv.attention.attention_heads` or `attention_patterns`) and manually check for likely heads in the second layer. Which ones do you think might be serving as induction heads?\n",
        "\n",
        "Note - above, we defined the `rep_str` object for you, so you can use it in your `circuitsvis` functions.\n"
      ]
    },
    {
      "cell_type": "code",
      "execution_count": null,
      "metadata": {
        "id": "pYnjfNSnIoCa"
      },
      "outputs": [],
      "source": [
        "# YOUR CODE HERE - display the attention patterns stored in `rep_cache`, for each layer"
      ]
    },
    {
      "cell_type": "markdown",
      "metadata": {
        "id": "9hUuNqY1HTof"
      },
      "source": [
        "<details>\n",
        "<summary>What you should see (only click after you've made your own observations):</summary>\n",
        "\n",
        "```python\n",
        "for layer in range(model.cfg.n_layers):\n",
        "    attention_pattern = rep_cache[\"pattern\", layer]\n",
        "    display(cv.attention.attention_patterns(tokens=rep_str, attention=attention_pattern))\n",
        "```\n",
        "\n",
        "The characteristic pattern of attention heads is a diagonal stripe, with the diagonal offset as `seq_len - 1` (because the destination token attends to the token *after* the destimation token's previous occurrence).\n",
        "\n",
        "You should see that heads 4 and 10 are strongly induction-y, head 6 is very weakly induction-y, and the rest aren't.\n",
        "\n",
        "</details>\n"
      ]
    },
    {
      "cell_type": "markdown",
      "metadata": {
        "id": "BcK4I-ZBhNnP"
      },
      "source": [
        "### Exercise - make an induction-head detector\n",
        "\n",
        "```c\n",
        "Difficulty: 🔴🔴⚪⚪⚪\n",
        "Importance: 🔵🔵⚪⚪⚪\n",
        "\n",
        "You shouldn't spend more than 5-10 minutes on this exercise.\n",
        "\n",
        "This exercise should be very similar to the earlier detector exercises (with a slightly more difficult form of indexing)\n",
        "```\n"
      ]
    },
    {
      "cell_type": "markdown",
      "metadata": {
        "id": "_MBJKlOMHTKa"
      },
      "source": [
        "Now, you should make an induction pattern score function, which looks for the average attention paid to the offset diagonal. Do this in the same style as our earlier head scorers.\n"
      ]
    },
    {
      "cell_type": "code",
      "execution_count": null,
      "metadata": {
        "id": "d4PMG9cVJGNa"
      },
      "outputs": [],
      "source": [
        "def induction_attn_detector(cache: ActivationCache) -> List[str]:\n",
        "    '''\n",
        "    Returns a list e.g. [\"0.2\", \"1.4\", \"1.9\"] of \"layer.head\" which you judge to be induction heads\n",
        "\n",
        "    Remember - the tokens used to generate rep_cache are (bos_token, *rand_tokens, *rand_tokens)\n",
        "    '''\n",
        "    pass\n",
        "\n",
        "\n",
        "print(\"Induction heads = \", \", \".join(induction_attn_detector(rep_cache)))"
      ]
    },
    {
      "cell_type": "markdown",
      "metadata": {
        "id": "EmUgS0JsJIiC"
      },
      "source": [
        "If this function works as expected, then you should see output that matches your observations from `circuitsvis` (i.e. the heads which you observed to be induction heads are being classified as induction heads by your function here).\n",
        "\n",
        "<details>\n",
        "<summary>Help - I'm not sure what offset to use.</summary>\n",
        "\n",
        "The offset in your diagonal should be `- (seq_len - 1)` (where `seq_len` is the length of the random tokens which you repeat twice), because the second instance of random token `T` will attend to the token **after** the first instance of `T`.\n",
        "</details>\n",
        "\n"
      ]
    },
    {
      "cell_type": "markdown",
      "metadata": {
        "id": "lGYJsGDMJKBk"
      },
      "source": [
        "# 3️⃣ TransformerLens: Hooks\n"
      ]
    },
    {
      "cell_type": "markdown",
      "metadata": {
        "id": "BmvH6gTJJUV_"
      },
      "source": [
        "> ##### Learning objectives\n",
        ">\n",
        "> - Understand what hooks are, and how they are used in TransformerLens\n",
        "> - Use hooks to access activations, process the results, and write them to an external tensor\n",
        "> - Build tools to perform attribution, i.e. detecting which components of your model are responsible for performance on a given task\n",
        "> - Understand how hooks can be used to perform basic interventions like **ablation**\n"
      ]
    },
    {
      "cell_type": "markdown",
      "metadata": {
        "id": "ZFWi9ZoLJKiH"
      },
      "source": [
        "## What are hooks?\n",
        "\n",
        "One of the great things about interpreting neural networks is that we have *full control* over our system. From a computational perspective, we know exactly what operations are going on inside (even if we don't know what they mean!). And we can make precise, surgical edits and see how the model's behaviour and other internals change. This is an extremely powerful tool, because it can let us e.g. set up careful counterfactuals and causal intervention to easily understand model behaviour.\n",
        "\n",
        "Accordingly, being able to do this is a pretty core operation, and this is one of the main things TransformerLens supports! The key feature here is **hook points**. Every activation inside the transformer is surrounded by a hook point, which allows us to edit or intervene on it.\n",
        "\n",
        "We do this by adding a **hook function** to that activation, and then calling `model.run_with_hooks`.\n",
        "\n",
        "*(Terminology note - because basically all the activations in our model have an associated hook point, we'll sometimes use the terms \"hook\" and \"activation\" interchangeably.)*\n"
      ]
    },
    {
      "cell_type": "markdown",
      "metadata": {
        "id": "4BQM1JrCJKaE"
      },
      "source": [
        "### Hook functions\n",
        "\n",
        "Hook functions take two arguments: `activation_value` and `hook_point`. The `activation_value` is a tensor representing some activation in the model, just like the values in our `ActivationCache`. The `hook_point` is an object which gives us methods like `hook.layer()` or attributes like `hook.name` that are sometimes useful to call within the function.\n",
        "\n",
        "If we're using hooks to edit activations, then the hook function should return a tensor of the same shape as the activation value. But we can also just have our hook function access the activation, do some processing, and write the results to some external variable (in which case our hook function should just not return anything).\n",
        "\n",
        "An example hook function for changing the attention patterns at a particular layer might look like:\n"
      ]
    },
    {
      "cell_type": "markdown",
      "metadata": {
        "id": "ToP08SBsJsgS"
      },
      "source": [
        "```python\n",
        "def hook_function(\n",
        "    attn_pattern: Float[Tensor, \"batch heads seq_len seq_len\"],\n",
        "    hook: HookPoint\n",
        ") -> TT[\"batch\", \"heads\", \"seq_len\", \"seq_len\"]:\n",
        "\n",
        "    # modify attn_pattern (can be inplace)\n",
        "    return attn_pattern\n",
        "```\n"
      ]
    },
    {
      "cell_type": "markdown",
      "metadata": {
        "id": "X5gnN_cNJKSc"
      },
      "source": [
        "### Running with hooks\n",
        "\n",
        "Once you've defined a hook function (or functions), you should call `model.run_with_hooks`. A typical call to this function might look like:\n"
      ]
    },
    {
      "cell_type": "markdown",
      "metadata": {
        "id": "dgf9Rv5PJufC"
      },
      "source": [
        "```python\n",
        "loss = model.run_with_hooks(\n",
        "    tokens,\n",
        "    return_type=\"loss\",\n",
        "    fwd_hooks=[\n",
        "        ('blocks.1.attn.hook_pattern', hook_function)\n",
        "    ]\n",
        ")\n",
        "```\n"
      ]
    },
    {
      "cell_type": "markdown",
      "metadata": {
        "id": "-lN0Q41VJKKw"
      },
      "source": [
        "Let's break this code down.\n",
        "\n",
        "* `tokens` represents our model's input.\n",
        "* `return_type=\"loss\"` is used here because we're modifying our activations and seeing how this affects the loss.\n",
        "    * We could also return the logits, or just use `return_type=None` if we only want to access the intermediate activations and we don't care about the output.\n",
        "* `fwd_hooks` is a list of 2-tuples of (hook name, hook function).\n",
        "    * The hook name is a string that specifies which activation we want to hook.\n",
        "    * The hook function gets run with the corresponding activation as its first argument.\n",
        "\n",
        "### A bit more about hooks\n",
        "\n",
        "Here are a few extra notes for how to squeeze even more functionality out of hooks. If you'd prefer, you can [jump ahead](#hooks-accessing-activations) to see an actual example of hooks being used, and come back to this section later.\n",
        "\n",
        "<details>\n",
        "<summary>Resetting hooks</summary>\n",
        "\n",
        "`model.run_with_hooks` has the default parameter `reset_hooks_end=True` which resets all hooks at the end of the run (including both those that were added before and during the run).\n",
        "\n",
        "Despite this, it's possible to shoot yourself in the foot with hooks, e.g. if there's an error in one of your hooks so the function never finishes. In this case, you can use `model.reset_hooks()` to reset all hooks.\n",
        "\n",
        "Further, if you *do* want to keep the hooks that you add, you can do this by calling `add_hook` on the relevant `HookPoint`.\n",
        "</details>\n",
        "<details>\n",
        "<summary>Adding multiple hooks at once</summary>\n",
        "\n",
        "Including more than one tuple in the `fwd_hooks` list is one way to add multiple hooks:\n",
        "\n",
        "```python\n",
        "loss = model.run_with_hooks(\n",
        "    tokens,\n",
        "    return_type=\"loss\",\n",
        "    fwd_hooks=[\n",
        "        ('blocks.0.attn.hook_pattern', hook_function),\n",
        "        ('blocks.1.attn.hook_pattern', hook_function)\n",
        "    ]\n",
        ")\n",
        "```\n",
        "\n",
        "Another way is to use a **name filter** rather than a single name:\n",
        "\n",
        "```python\n",
        "loss = model.run_with_hooks(\n",
        "    tokens,\n",
        "    return_type=\"loss\",\n",
        "    fwd_hooks=[\n",
        "        (lambda name: name.endswith(\"pattern\"), hook_function)\n",
        "    ]\n",
        ")\n",
        "```\n",
        "</details>\n",
        "<details>\n",
        "<summary><code>utils.get_act_name</code></summary>\n",
        "\n",
        "When we were indexing the cache in the previous section, we found we could use strings like `cache['blocks.0.attn.hook_pattern']`, or use the shorthand of `cache['pattern', 0]`. The reason the second one works is that it calls the function `utils.get_act_name` under the hood, i.e. we have:\n",
        "\n",
        "```python\n",
        "utils.get_act_name('pattern', 0) == 'blocks.0.attn.hook_pattern'\n",
        "```\n",
        "\n",
        "Using `utils.get_act_name` in your forward hooks is often easier than using the full string, since the only thing you need to remember is the activation name (you can refer back to the diagram in the previous section for this).\n",
        "</details>\n",
        "<details>\n",
        "<summary>Using <code>functools.partial</code> to create variations on hooks</summary>\n",
        "\n",
        "A useful trick is to define a hook function with more arguments than it needs, and then use `functools.partial` to fill in the extra arguments. For instance, if you want a hook function which only modifies a particular head, but you want to run it on all heads separately (rather than just adding all the hooks and having them all run on the next forward pass), then you can do something like:\n",
        "\n",
        "```python\n",
        "def hook_all_attention_patterns(\n",
        "    attn_pattern: TT[\"batch\", \"heads\", \"seq_len\", \"seq_len\"],\n",
        "    hook: HookPoint,\n",
        "    head_idx: int\n",
        ") -> TT[\"batch\", \"heads\", \"seq_len\", \"seq_len\"]:\n",
        "    # modify attn_pattern inplace, at head_idx\n",
        "    return attn_pattern\n",
        "\n",
        "for head_idx in range(12):\n",
        "    temp_hook_fn = functools.partial(hook_all_attention_patterns, head_idx=head_idx)\n",
        "    model.run_with_hooks(tokens, fwd_hooks=[('blocks.1.attn.hook_pattern', temp_hook_fn)])\n",
        "```\n",
        "</details>\n",
        "\n",
        "And here are some points of interest, which aren't vital to understand:\n",
        "\n",
        "<details>\n",
        "<summary>Relationship to PyTorch hooks</summary>\n",
        "\n",
        "[PyTorch hooks](https://blog.paperspace.com/pytorch-hooks-gradient-clipping-debugging/) are a great and underrated, yet incredibly janky, feature. They can act on a layer, and edit the input or output of that layer, or the gradient when applying autodiff. The key difference is that **Hook points** act on *activations* not layers. This means that you can intervene within a layer on each activation, and don't need to care about the precise layer structure of the transformer. And it's immediately clear exactly how the hook's effect is applied. This adjustment was shamelessly inspired by [Garcon's use of ProbePoints](https://transformer-circuits.pub/2021/garcon/index.html).\n",
        "\n",
        "They also come with a range of other quality of life improvements. PyTorch's hooks are global state, which can be a massive pain if you accidentally leave a hook on a model. TransformerLens hooks are also global state, but `run_with_hooks` tries to create an abstraction where these are local state by removing all hooks at the end of the function (and they come with a helpful `model.reset_hooks()` method to remove all hooks).\n",
        "</details>\n",
        "\n",
        "<details>\n",
        "<summary>How are TransformerLens hooks actually implemented?</summary>\n",
        "\n",
        "They are implemented as modules with the identity function as their forward method:\n",
        "\n",
        "```python\n",
        "class HookPoint(nn.Module):\n",
        "    ...\n",
        "    def forward(self, x):\n",
        "        return x\n",
        "```\n",
        "\n",
        "but also with special features for adding and removing hook functions. This is why you see hooks when you print a HookedTransformer model, because all its modules are recursively printed.\n",
        "\n",
        "When you run the model normally, hook modules won't change the model's behaviour (since applying the identity function does nothing). It's only once you add functions to the hook modules (e.g. a function which ablates any inputs into the hook module) that the model's behaviour changes.\n",
        "\n",
        "</details>\n"
      ]
    },
    {
      "cell_type": "markdown",
      "metadata": {
        "id": "gVxoO6VcKPtW"
      },
      "source": [
        "## Hooks: Accessing Activations\n",
        "\n",
        "In later sections, we'll write some code to intervene on hooks, which is really the core feature that makes them so useful for interpretability. But for now, let's just look at how to access them without changing their value. This can be achieved by having the hook function write to a global variable, and return nothing (rather than modifying the activation in place).\n",
        "\n",
        "Why might we want to do this? It turns out to be useful for things like:\n",
        "\n",
        "* Extracting activations for a specific task\n",
        "* Doing some long-running calculation across many inputs, e.g. finding the text that most activates a specific neuron\n",
        "\n",
        "Note that, in theory, this could all be done using the `run_with_cache` function we used in the previous section, combined with post-processing of the cache result. But using hooks can be more intuitive and memory efficient.\n"
      ]
    },
    {
      "cell_type": "markdown",
      "metadata": {
        "id": "GaJ0zU1kKRDe"
      },
      "source": [
        "### Exercise - calculate induction scores with hooks\n",
        "\n",
        "```c\n",
        "Difficulty: 🔴🔴🔴⚪⚪\n",
        "Importance: 🔵🔵🔵🔵⚪\n",
        "\n",
        "You shouldn't spend more than 15-20 minutes on this exercise.\n",
        "\n",
        "This is our first exercise with hooks, which are an absolutely vital TransformerLens tool. Use the hints if you're stuck.\n",
        "```\n",
        "\n",
        "To start with, we'll look at how hooks can be used to get the same results as from the previous section (where we ran our induction head detector functions on the values in the cache).\n",
        "\n",
        "Most of the code has already been provided for you below; the only thing you need to do is **implement the `induction_score_hook` function**. As mentioned, this function takes two arguments: the activation value (which in this case will be our attention pattern) and the hook object (which gives us some useful methods and attributes that we can access in the function, e.g. `hook.layer()` to return the layer, or `hook.name` to return the name, which is the same as the name in the cache).\n",
        "\n",
        "Your function should do the following:\n",
        "\n",
        "* Calculate the induction score for the attention pattern `pattern`, using the same methodology as you used in the previous section when you wrote your induction head detectors.\n",
        "    * Note that this time, the batch dimension is greater than 1, so you should compute the average attention score over the batch dimension.\n",
        "    * Also note that you are computing the induction score for all heads at once, rather than one at a time. You might find the arguments `dim1` and `dim2` of the `torch.diagonal` function useful.\n",
        "* Write this score to the tensor `induction_score_store`, which is a global variable that we've provided for you. The `[i, j]`th element of this tensor should be the induction score for the `j`th head in the `i`th layer.\n"
      ]
    },
    {
      "cell_type": "code",
      "execution_count": null,
      "metadata": {
        "id": "H7Lz6BE0JIKh"
      },
      "outputs": [],
      "source": [
        "seq_len = 50\n",
        "batch = 10\n",
        "rep_tokens_10 = generate_repeated_tokens(model, seq_len, batch)\n",
        "\n",
        "# We make a tensor to store the induction score for each head.\n",
        "# We put it on the model's device to avoid needing to move things between the GPU and CPU, which can be slow.\n",
        "induction_score_store = t.zeros((model.cfg.n_layers, model.cfg.n_heads), device=model.cfg.device)\n",
        "\n",
        "def induction_score_hook(\n",
        "    pattern: Float[Tensor, \"batch head_index dest_pos source_pos\"],\n",
        "    hook: HookPoint,\n",
        "):\n",
        "    '''\n",
        "    Calculates the induction score, and stores it in the [layer, head] position of the `induction_score_store` tensor.\n",
        "    '''\n",
        "    pass\n",
        "\n",
        "pattern_hook_names_filter = lambda name: name.endswith(\"pattern\")\n",
        "\n",
        "# Run with hooks (this is where we write to the `induction_score_store` tensor`)\n",
        "model.run_with_hooks(\n",
        "    rep_tokens_10,\n",
        "    return_type=None, # For efficiency, we don't need to calculate the logits\n",
        "    fwd_hooks=[(\n",
        "        pattern_hook_names_filter,\n",
        "        induction_score_hook\n",
        "    )]\n",
        ")\n",
        "\n",
        "# Plot the induction scores for each head in each layer\n",
        "imshow(\n",
        "    induction_score_store,\n",
        "    labels={\"x\": \"Head\", \"y\": \"Layer\"},\n",
        "    title=\"Induction Score by Head\",\n",
        "    text_auto=\".2f\",\n",
        "    width=900, height=400\n",
        ")"
      ]
    },
    {
      "cell_type": "markdown",
      "metadata": {
        "id": "fTkPOxVNKaxt"
      },
      "source": [
        "If this function has been implemented correctly, you should see a result matching your observations from the previous section: a high induction score (>0.6) for all the heads which you identified as induction heads, and a low score (close to 0) for all others.\n",
        "\n",
        "<details>\n",
        "<summary>Help - I'm not sure how to implement this function.</summary>\n",
        "\n",
        "To get the induction stripe, you can use:\n",
        "\n",
        "```python\n",
        "torch.diagonal(pattern, dim1=-2, dim2=-1, offset=1-seq_len)\n",
        "```\n",
        "\n",
        "since this returns the diagonal of each attention scores matrix, for every element in the batch and every attention head.\n",
        "\n",
        "Once you have this, you can then take the mean over the batch and diagonal dimensions, giving you a tensor of length `n_heads`. You can then write this to the global `induction_score_store` tensor, using the `hook.layer()` method to get the correct row number.\n",
        "</details>\n"
      ]
    },
    {
      "cell_type": "markdown",
      "metadata": {
        "id": "g0vfMILdKiQA"
      },
      "source": [
        "### Exercise - find induction heads in GPT2-small\n",
        "\n",
        "```c\n",
        "Difficulty: 🔴🔴🔴⚪⚪\n",
        "Importance: 🔵🔵🔵🔵⚪\n",
        "\n",
        "You shouldn't spend more than 10-20 minutes on this exercise.\n",
        "\n",
        "Here, you mostly just need to use previously defined functions and interpret the results, rather than writing new code.\n",
        "```\n",
        "\n",
        "*This is your first opportunity to investigate a larger and more extensively trained model, rather than the simple 2-layer model we've been using so far. None of the code required is new (you can copy most of it from previous sections), so these exercises shouldn't take very long.*\n"
      ]
    },
    {
      "cell_type": "markdown",
      "metadata": {
        "id": "tnG0vhamLU_z"
      },
      "source": [
        "Perform the same analysis on your `gpt2_small`. You should observe that some heads, particularly in a couple of the middle layers, have high induction scores. Use CircuitsVis to plot the attention patterns for these heads when run on the repeated token sequences, and verify that they look like induction heads.\n",
        "\n",
        "Note - you can make CircuitsVis plots (and other visualisations) using hooks rather than plotting directly from the cache. For example, we've given you a hook function which will display the attention patterns at a given hook when you include it in a call to `model.run_with_hooks`.\n"
      ]
    },
    {
      "cell_type": "code",
      "execution_count": null,
      "metadata": {
        "id": "IO2GMPY2Kjqr"
      },
      "outputs": [],
      "source": [
        "def visualize_pattern_hook(\n",
        "    pattern: Float[Tensor, \"batch head_index dest_pos source_pos\"],\n",
        "    hook: HookPoint,\n",
        "):\n",
        "    print(\"Layer: \", hook.layer())\n",
        "    display(\n",
        "        cv.attention.attention_patterns(\n",
        "            tokens=gpt2_small.to_str_tokens(rep_tokens[0]),\n",
        "            attention=pattern.mean(0)\n",
        "        )\n",
        "    )\n",
        "\n",
        "    # YOUR CODE HERE - find induction heads in gpt2_small"
      ]
    },
    {
      "cell_type": "markdown",
      "metadata": {
        "id": "1BSPHnpaKqu7"
      },
      "source": [
        "## Building interpretability tools\n",
        "\n",
        "In order to develop a mechanistic understanding for how transformers perform certain tasks, we need to be able to answer questions like:\n",
        "\n",
        "> *How much of the model's performance on some particular task is attributable to each component of the model?*\n",
        "\n",
        "where \"component\" here might mean, for example, a specific head in a layer.\n",
        "\n",
        "There are many ways to approach a question like this. For example, we might look at how a head interacts with other heads in different layers, or we might perform a causal intervention by seeing how well the model performs if we remove the effect of this head. However, we'll keep things simple for now, and ask the question: **what are the direct contributions of this head to the output logits?**\n",
        "\n",
        "### Direct Logit attribution\n",
        "\n",
        "A consequence of the residual stream is that the output logits are the sum of the contributions of each layer, and thus the sum of the results of each head. This means we can decompose the output logits into a term coming from each head and directly do attribution like this!\n",
        "\n",
        "<details>\n",
        "<summary>A concrete example</summary>\n",
        "\n",
        "Let's say that our model knows that the token Harry is followed by the token Potter, and we want to figure out how it does this. The logits on Harry are `residual @ W_U`. But this is a linear map, and the residual stream is the sum of all previous layers `residual = embed + attn_out_0 + attn_out_1`. So `logits = (embed @ W_U) + (attn_out @ W_U) + (attn_out_1 @ W_U)`\n",
        "\n",
        "We can be even more specific, and *just* look at the logit of the Potter token - this corresponds to a column of `W_U`, and so a direction in the residual stream - our logit is now a single number that is the sum of `(embed @ potter_U) + (attn_out_0 @ potter_U) + (attn_out_1 @ potter_U)`. Even better, we can decompose each attention layer output into the sum of the result of each head, and use this to get many terms.\n",
        "</details>\n",
        "\n",
        "Your mission here is to write a function to look at how much each component contributes to the correct logit. Your components are:\n",
        "\n",
        "* The direct path (i.e. the residual connections from the embedding to unembedding),\n",
        "* Each layer 0 head (via the residual connection and skipping layer 1)\n",
        "* Each layer 1 head\n",
        "\n",
        "To emphasise, these are not paths from the start to the end of the model, these are paths from the output of some component directly to the logits - we make no assumptions about how each path was calculated!\n",
        "\n",
        "A few important notes for this exercise:\n",
        "\n",
        "* Here we are just looking at the DIRECT effect on the logits, i.e. the thing that this component writes / embeds into the residual stream - if heads compose with other heads and affect logits like that, or inhibit logits for other tokens to boost the correct one we will not pick up on this!\n",
        "* By looking at just the logits corresponding to the correct token, our data is much lower dimensional because we can ignore all other tokens other than the correct next one (Dealing with a 50K vocab size is a pain!). But this comes at the cost of missing out on more subtle effects, like a head suppressing other plausible logits, to increase the log prob of the correct one.\n",
        "    * There are other situations where our job might be easier. For instance, in the IOI task (which we'll discuss shortly) we're just comparing the logits of the indirect object to the logits of the direct object, meaning we can use the **difference between these logits**, and ignore all the other logits.\n",
        "* When calculating correct output logits, we will get tensors with a dimension `(position - 1,)`, not `(position,)` - we remove the final element of the output (logits), and the first element of labels (tokens). This is because we're predicting the *next* token, and we don't know the token after the final token, so we ignore it.\n",
        "\n",
        "<details>\n",
        "<summary>Aside - centering <code>W_U</code></summary>\n",
        "\n",
        "While we won't worry about this for this exercise, logit attribution is often more meaningful if we first center `W_U` - i.e. ensure the mean of each row writing to the output logits is zero. Log softmax is invariant when we add a constant to all the logits, so we want to control for a head that just increases all logits by the same amount. We won't do this here for ease of testing.\n",
        "</details>\n",
        "\n",
        "<details>\n",
        "<summary>Question - why don't we do this to the log probs instead?</summary>\n",
        "\n",
        "Because log probs aren't linear, they go through `log_softmax`, a non-linear function.\n",
        "</details>\n"
      ]
    },
    {
      "cell_type": "markdown",
      "metadata": {
        "id": "pg9Mk-Y8K85A"
      },
      "source": [
        "### Exercise - build logit attribution tool\n",
        "\n",
        "```c\n",
        "Difficulty: 🔴🔴🔴⚪⚪\n",
        "Importance: 🔵🔵🔵🔵⚪\n",
        "\n",
        "You shouldn't spend more than 10-15 minutes on this exercise.\n",
        "\n",
        "This exercise is important, but has quite a few messy einsums, so you might get more value from reading the solution than doing the exercises.\n",
        "```\n",
        "\n",
        "You should implement the `logit_attribution` function below. This should return the contribution of each component in the \"correct direction\". We've already given you the unembedding vectors for the correct direction, `W_U_correct_tokens` (note that we take the `[1:]` slice of tokens, for reasons discussed above).\n",
        "\n",
        "The code below this function will check your logit attribution function is working correctly, by taking the sum of logit attributions and comparing it to the actual values in the residual stream at the end of your model.\n"
      ]
    },
    {
      "cell_type": "code",
      "execution_count": null,
      "metadata": {
        "id": "DddLKFSwK_fi"
      },
      "outputs": [],
      "source": [
        "def logit_attribution(\n",
        "    embed: Float[Tensor, \"seq d_model\"],\n",
        "    l1_results: Float[Tensor, \"seq nheads d_model\"],\n",
        "    l2_results: Float[Tensor, \"seq nheads d_model\"],\n",
        "    W_U: Float[Tensor, \"d_model d_vocab\"],\n",
        "    tokens: Int[Tensor, \"seq\"]\n",
        ") -> Float[Tensor, \"seq-1 n_components\"]:\n",
        "    '''\n",
        "    Inputs:\n",
        "        embed: the embeddings of the tokens (i.e. token + position embeddings)\n",
        "        l1_results: the outputs of the attention heads at layer 1 (with head as one of the dimensions)\n",
        "        l2_results: the outputs of the attention heads at layer 2 (with head as one of the dimensions)\n",
        "        W_U: the unembedding matrix\n",
        "        tokens: the token ids of the sequence\n",
        "\n",
        "    Returns:\n",
        "        Tensor of shape (seq_len-1, n_components)\n",
        "        represents the concatenation (along dim=-1) of logit attributions from:\n",
        "            the direct path (seq-1,1)\n",
        "            layer 0 logits (seq-1, n_heads)\n",
        "            layer 1 logits (seq-1, n_heads)\n",
        "        so n_components = 1 + 2*n_heads\n",
        "    '''\n",
        "    W_U_correct_tokens = W_U[:, tokens[1:]]\n",
        "    pass\n",
        "\n",
        "\n",
        "text = \"We think that powerful, significantly superhuman machine intelligence is more likely than not to be created this century. If current machine learning techniques were scaled up to this level, we think they would by default produce systems that are deceptive or manipulative, and that no solid plans are known for how to avoid this.\"\n",
        "logits, cache = model.run_with_cache(text, remove_batch_dim=True)\n",
        "str_tokens = model.to_str_tokens(text)\n",
        "tokens = model.to_tokens(text)\n",
        "\n",
        "with t.inference_mode():\n",
        "    embed = cache[\"embed\"]\n",
        "    l1_results = cache[\"result\", 0]\n",
        "    l2_results = cache[\"result\", 1]\n",
        "    logit_attr = logit_attribution(embed, l1_results, l2_results, model.W_U, tokens[0])\n",
        "    # Uses fancy indexing to get a len(tokens[0])-1 length tensor, where the kth entry is the predicted logit for the correct k+1th token\n",
        "    correct_token_logits = logits[0, t.arange(len(tokens[0]) - 1), tokens[0, 1:]]\n",
        "    t.testing.assert_close(logit_attr.sum(1), correct_token_logits, atol=1e-3, rtol=0)\n",
        "    print(\"Tests passed!\")"
      ]
    },
    {
      "cell_type": "markdown",
      "metadata": {
        "id": "22wzWYZdK81H"
      },
      "source": [
        "Once you've got the tests working, you can visualise the logit attributions for each path through the model. We've provided you with the helper function `plot_logit_attribution`, which presents the results in a nice way.\n"
      ]
    },
    {
      "cell_type": "code",
      "execution_count": null,
      "metadata": {
        "id": "zNsS-qcpLLVz"
      },
      "outputs": [],
      "source": [
        "embed = cache[\"embed\"]\n",
        "l1_results = cache[\"result\", 0]\n",
        "l2_results = cache[\"result\", 1]\n",
        "logit_attr = logit_attribution(embed, l1_results, l2_results, model.W_U, tokens[0])\n",
        "\n",
        "plot_logit_attribution(model, logit_attr, tokens)"
      ]
    },
    {
      "cell_type": "markdown",
      "metadata": {
        "id": "R_5AwUIRK8w5"
      },
      "source": [
        "#### Question - what is the interpretation of this plot?\n",
        "\n",
        "You should find that the most variation in the logit attribution comes from the direct path. In particular, some of the tokens in the direct path have a very high logit attribution (e.g. tokens 12, 24 and 46). Can you guess what gives them in particular such a high logit attribution?\n",
        "\n",
        "<details>\n",
        "<summary>Answer</summary>\n",
        "\n",
        "The tokens with very high logit attribution are the ones which \"offer very probable bigrams\". For instance, the highest contribution on the direct path comes from `| manip|`, because this is very likely to be followed by `|ulative|` (or presumably a different stem like `| ulation|`). `| super|` -> `|human|` is another example of a bigram formed when the tokenizer splits one word into multiple tokens.\n",
        "\n",
        "There are also examples that come from two different words, rather than a single word split by the tokenizer. These include:\n",
        "\n",
        "* `| more|` -> `| likely|`\n",
        "* `| machine|` -> `| learning|`\n",
        "* `| by|` -> `| default|`\n",
        "* `| how|` -> `| to|`\n",
        "\n",
        "See later for a discussion of all the ~infuriating~ fun quirks of tokenization!\n",
        "</details>\n",
        "\n",
        "Another feature of the plot - the heads in the second layer seem to have much higher contributions than the heads in the first layer. Why do you think this might be?\n",
        "\n",
        "<details>\n",
        "<summary>Hint</summary>\n",
        "\n",
        "Think about what this graph actually represents, in terms of paths through the transformer.\n",
        "</details>\n",
        "\n",
        "<details>\n",
        "<summary>Answer</summary>\n",
        "\n",
        "This is because of a point we discussed earlier - this plot doesn't pick up on things like a head's effect in composition with another head. So the attribution for layer-0 heads won't involve any composition, whereas the attributions for layer-1 heads will involve not only the single-head paths through those attention heads, but also the 2-layer compositional paths through heads in layer 0 and layer 1.\n",
        "</details>\n"
      ]
    },
    {
      "cell_type": "markdown",
      "metadata": {
        "id": "Phy2zvxCLdYL"
      },
      "source": [
        "### Exercise - logit attribution for the induction heads\n",
        "\n",
        "```c\n",
        "Difficulty: 🔴🔴🔴⚪⚪\n",
        "Importance: 🔵🔵⚪⚪⚪\n",
        "\n",
        "You shouldn't spend more than ~10 minutes on this exercise.\n",
        "\n",
        "This exercise just involves calling logit_attribution with appropriate arguments. Don't spend too long on it, you should look at solutions if you are stuck.\n",
        "```\n",
        "\n",
        "Perform logit attribution for your attention-only model `model`, on the `rep_cache`. What do you expect to see?\n",
        "\n",
        "Remember, you'll need to split the sequence in two, with one overlapping token (since predicting the next token involves removing the final token with no label) - your `logit_attr` should both have shape `[seq_len, 2*n_heads + 1]` (ie `[50, 25]` here).\n",
        "\n",
        "<details>\n",
        "<summary>Note - the first plot will be pretty meaningless. Can you see why?</summary>\n",
        "\n",
        "Because the first plot shows the logit attribution for the first half of the sequence, i.e. the first occurrence of each of the tokens. Since there is no structure to this sequence (it is purely random), there is no reason to expect the heads to be doing meaningful computation. The structure lies in the second half of the sequence, when the tokens are repeated, and the heads with high logit attributions will be the ones that can perform induction.\n",
        "</details>\n"
      ]
    },
    {
      "cell_type": "code",
      "execution_count": null,
      "metadata": {
        "id": "FgEeiKZPLnyE"
      },
      "outputs": [],
      "source": [
        "seq_len = 50\n",
        "\n",
        "embed = rep_cache[\"embed\"]\n",
        "l1_results = rep_cache[\"result\", 0]\n",
        "l2_results = rep_cache[\"result\", 1]\n",
        "first_half_tokens = rep_tokens[0, : 1 + seq_len]\n",
        "second_half_tokens = rep_tokens[0, seq_len:]\n",
        "\n",
        "# YOUR CODE HERE - define `first_half_logit_attr` and `second_half_logit_attr`\n",
        "\n",
        "assert first_half_logit_attr.shape == (seq_len, 2*model.cfg.n_heads + 1)\n",
        "assert second_half_logit_attr.shape == (seq_len, 2*model.cfg.n_heads + 1)\n",
        "\n",
        "plot_logit_attribution(model, first_half_logit_attr, first_half_tokens, \"Logit attribution (first half of repeated sequence)\")\n",
        "plot_logit_attribution(model, second_half_logit_attr, second_half_tokens, \"Logit attribution (second half of repeated sequence)\")"
      ]
    },
    {
      "cell_type": "markdown",
      "metadata": {
        "id": "PLaGqDfJK8sz"
      },
      "source": [
        "What is the interpretation of this plot, in the context of our induction head circuit?\n",
        "\n",
        "<details>\n",
        "<summary>Answer</summary>\n",
        "\n",
        "Previously, we observed that heads `1.4` and `1.10` seemed to be acting as induction heads.\n",
        "\n",
        "This plot gives further evidence that this is the case, since these two heads have a large logit attribution score **on sequences in which the only way to get accurate predictions is to use the induction mechanism**.\n",
        "\n",
        "This also agrees with our attention scores result, in showing tht `1.10` is a stronger induction head than `1.4`.\n",
        "</details>\n"
      ]
    },
    {
      "cell_type": "markdown",
      "metadata": {
        "id": "4L93pPDiL77t"
      },
      "source": [
        "## Hooks: Intervening on Activations\n",
        "\n",
        "Now that we've built some tools to decompose our model's output, it's time to start making causal interventions.\n",
        "\n",
        "### Ablations\n",
        "\n",
        "Let's start with a simple example: **ablation**. An ablation is a simple causal intervention on a model - we pick some part of it and set it to zero. This is a crude proxy for how much that part matters. Further, if we have some story about how a specific circuit in the model enables some capability, showing that ablating *other* parts does nothing can be strong evidence of this.\n",
        "\n",
        "As mentioned in [the glossary](https://dynalist.io/d/n2ZWtnoYHrU1s4vnFSAQ519J#z=fh-HJyz1CgUVrXuoiban6bYx), there are many ways to do ablation. We'll focus on the simplest: zero-ablation (even though it's somewhat unprincipled).\n"
      ]
    },
    {
      "cell_type": "markdown",
      "metadata": {
        "id": "-JNwwzKxK8oh"
      },
      "source": [
        "### Exercise - induction head ablation\n",
        "\n",
        "```c\n",
        "Difficulty: 🔴🔴⚪⚪⚪\n",
        "Importance: 🔵🔵🔵🔵⚪\n",
        "\n",
        "You shouldn't spend more than ~10 minutes on this exercise.\n",
        "\n",
        "This exercise is conceptually important, but very short.\n",
        "```\n",
        "\n",
        "The code below provides a template for performing zero-ablation on the value vectors at a particular head (i.e. the vectors we get when applying the weight matrices `W_V` to the residual stream). If you're confused about what different activations mean, you can refer back to [the diagram](https://raw.githubusercontent.com/callummcdougall/computational-thread-art/master/example_images/misc/small-merm.svg).\n",
        "\n",
        "**The only thing left for you to do is fill in the function `head_ablation_hook`** so that it performs zero-ablation on the head given by `head_index_to_ablate`. In other words, your function should return a modified version of `value` with this head ablated. (Technically you don't have to return any tensor if you're modifying `value` in-place; this is just convention.)\n",
        "\n",
        "A few notes to help explain the code below:\n",
        "\n",
        "* In the `get_ablation_scores` function, we run our hook function in a for loop: once for each layer and each head. Each time, we write a single value to the tensor `ablation_scores` that stores the results of ablating that particular head.\n",
        "* We use `cross_entropy_loss` as a metric for model performance, rather than logit difference like in the previous section.\n",
        "    * If the head didn't have any effect on the output, then the ablation score would be zero (since the loss doesn't increase when we ablate).\n",
        "    * If the head was very important for making correct predictions, then we should see a very large ablation score.\n",
        "* We use `functools.partial` to create a temporary hook function with the head number fixed. This is a nice way to avoid having to write a separate hook function for each head.\n",
        "* We use `utils.get_act_name` to get the name of our activation. This is a nice shorthand way of getting the full name.\n"
      ]
    },
    {
      "cell_type": "code",
      "execution_count": null,
      "metadata": {
        "id": "iaLTsjZiMMgQ"
      },
      "outputs": [],
      "source": [
        "def head_ablation_hook(\n",
        "    attn_result: Float[Tensor, \"batch seq n_heads d_model\"],\n",
        "    hook: HookPoint,\n",
        "    head_index_to_ablate: int\n",
        ") -> Float[Tensor, \"batch seq n_heads d_model\"]:\n",
        "    pass\n",
        "\n",
        "\n",
        "def cross_entropy_loss(logits, tokens):\n",
        "    '''\n",
        "    Computes the mean cross entropy between logits (the model's prediction) and tokens (the true values).\n",
        "    '''\n",
        "    log_probs = F.log_softmax(logits, dim=-1)\n",
        "    pred_log_probs = t.gather(log_probs[:, :-1], -1, tokens[:, 1:, None])[..., 0]\n",
        "    return -pred_log_probs.mean()\n",
        "\n",
        "\n",
        "def get_ablation_scores(\n",
        "    model: HookedTransformer,\n",
        "    tokens: Int[Tensor, \"batch seq\"]\n",
        ") -> Float[Tensor, \"n_layers n_heads\"]:\n",
        "    '''\n",
        "    Returns a tensor of shape (n_layers, n_heads) containing the increase in cross entropy loss from ablating the output of each head.\n",
        "    '''\n",
        "    # Initialize an object to store the ablation scores\n",
        "    ablation_scores = t.zeros((model.cfg.n_layers, model.cfg.n_heads), device=model.cfg.device)\n",
        "\n",
        "    # Calculating loss without any ablation, to act as a baseline\n",
        "    model.reset_hooks()\n",
        "    logits = model(tokens, return_type=\"logits\")\n",
        "    seq_len = (tokens.shape[1] - 1) // 2\n",
        "    loss_no_ablation = cross_entropy_loss(logits[:, -seq_len:], tokens[:, -seq_len:])\n",
        "\n",
        "    for layer in tqdm(range(model.cfg.n_layers)):\n",
        "        for head in range(model.cfg.n_heads):\n",
        "            # Use functools.partial to create a temporary hook function with the head number fixed\n",
        "            temp_hook_fn = functools.partial(head_ablation_hook, head_index_to_ablate=head)\n",
        "            # Run the model with the ablation hook\n",
        "            ablated_logits = model.run_with_hooks(tokens, fwd_hooks=[\n",
        "                (utils.get_act_name(\"result\", layer), temp_hook_fn)\n",
        "            ])\n",
        "            # Calculate the logit difference\n",
        "            loss = cross_entropy_loss(ablated_logits[:, -seq_len:], tokens[:, -seq_len:])\n",
        "            # Store the result, subtracting the clean loss so that a value of zero means no change in loss\n",
        "            ablation_scores[layer, head] = loss - loss_no_ablation\n",
        "\n",
        "    return ablation_scores\n",
        "\n",
        "\n",
        "ablation_scores = get_ablation_scores(model, rep_tokens)\n",
        "tests.test_get_ablation_scores(ablation_scores, model, rep_tokens)"
      ]
    },
    {
      "cell_type": "markdown",
      "metadata": {
        "id": "mdiktdOqK8jR"
      },
      "source": [
        "Once you've passed the tests, you can plot the results:\n"
      ]
    },
    {
      "cell_type": "code",
      "execution_count": null,
      "metadata": {
        "id": "9wE47lE6MR3T"
      },
      "outputs": [],
      "source": [
        "imshow(\n",
        "    ablation_scores,\n",
        "    labels={\"x\": \"Head\", \"y\": \"Layer\", \"color\": \"Logit diff\"},\n",
        "    title=\"Loss Difference After Ablating Heads\",\n",
        "    text_auto=\".2f\",\n",
        "    width=900, height=400\n",
        ")"
      ]
    },
    {
      "cell_type": "markdown",
      "metadata": {
        "id": "dmbSOM37K8dV"
      },
      "source": [
        "What is your interpretation of these results?\n",
        "\n",
        "<details>\n",
        "<summary>Interpretation</summary>\n",
        "\n",
        "This tells us not just which heads are responsible for writing output to the residual stream that gets us the correct result, but **which heads play an important role in the induction circuit**.\n",
        "\n",
        "This chart tells us that - for sequences of repeated tokens - head `0.7` is by far the most important in layer 0 (which makes sense, since we observed it to be the strongest \"previous token head\"), and heads `1.4`, `1.10` are the most important in layer 1 (which makes sense, since we observed these to be the most induction-y).\n",
        "\n",
        "This is a good illustration of the kind of result which we can get from ablation, but **wouldn't be able to get from something like direct logit attribution**, because it isn't a causal intervention.\n",
        "</details>\n",
        "\n",
        "### Bonus - different ablations\n",
        "\n",
        "Try ablating *every* head apart from the previous token head and the two induction heads. What does this do to performance?\n",
        "\n",
        "What if you mean ablate it, rather than zero ablating it?\n",
        "\n",
        "*(In later sections e.g. Indirect Object Identification, we'll use hooks to implement some more advanced causal interventions, such as **activation patching** and **causal tracing**.)*\n"
      ]
    },
    {
      "cell_type": "markdown",
      "metadata": {
        "id": "RJmvjLzqK75I"
      },
      "source": [
        "# 4️⃣ Reverse-engineering induction circuits\n"
      ]
    },
    {
      "cell_type": "markdown",
      "metadata": {
        "id": "V3wdFTLDMmdY"
      },
      "source": [
        "> ##### Learning objectives\n",
        ">\n",
        "> - Understand the difference between investigating a circuit by looking at activtion patterns, and reverse-engineering a circuit by looking directly at the weights\n",
        "> - Use the factored matrix class to inspect the QK and OV circuits within an induction circuit\n",
        "> - Perform further exploration of induction circuits: composition scores, and targeted ablations\n"
      ]
    },
    {
      "cell_type": "markdown",
      "metadata": {
        "id": "J1NGoyR3MmWT"
      },
      "source": [
        "In previous exercises, we looked at the attention patterns and attributions of attention heads to try and identify which ones were important in the induction circuit. This might be a good way to get a feel for the circuit, but it's not a very rigorous way to understand it. It would be better described as **feature analysis**, where we observe *that* a particular head seems to be performing some task on a certain class of inputs, without identifying *why* it does so.\n",
        "\n",
        "Now we're going to do some more rigorous mechanistic analysis - digging into the weights and using them to reverse engineer the induction head algorithm and verify that it is really doing what we think it is.\n"
      ]
    },
    {
      "cell_type": "markdown",
      "metadata": {
        "id": "EbYD9jWFMmOI"
      },
      "source": [
        "## Refresher - the induction circuit\n",
        "\n",
        "Before we get into the meat of this section, let's refresh the results we've gotten so far from investigating induction heads. We've found:\n",
        "\n",
        "* When fed repeated sequences of tokens, heads `1.4` and `1.10` have the characteristic induction head attention pattern of a diagonal stripe with offset `seq_len - 1`.\n",
        "    * We saw this both from the CircuitsVis results, and from the fact that these heads had high induction scores by our chosen metric (with all other heads having much lower scores).\n",
        "* We also saw that head `0.7` strongly attends to the previous token in the sequence (even on non-repeated sequences).\n",
        "* We performed **logit attribution** on the model, and found that the values written to the residual stream by heads `1.4` and `1.10` were both important for getting us correct predictions in the second half of the sequence.\n",
        "* We performed **zero-ablation** on the model, and found that heads `0.7`, `1.4` and `1.10` all resulted in a large accuracy degradation on the repeated sequence task when they were ablated.\n",
        "\n",
        "Based on all these observations, try and summarise the induction circuit and how it works, in your own words. You should try and link your explanation to the QK and OV circuits for particular heads, and describe what type (or types) of attention head composition are taking place.\n",
        "\n",
        "You can use the dropdown below to check your understanding.\n",
        "\n",
        "<details>\n",
        "<summary>My summary of the algorithm</summary>\n",
        "\n",
        "* Head `0.7` is a previous token head (the QK-circuit ensures it always attends to the previous token).\n",
        "* The OV circuit of head `0.7` writes a copy of the previous token in a *different* subspace to the one used by the embedding.\n",
        "* The output of head `0.7` is used by the *key* input of head `1.10` via K-Composition to attend to 'the source token whose previous token is the destination token'.\n",
        "* The OV-circuit of head `1.10` copies the *value* of the source token to the same output logit.\n",
        "    * Note that this is copying from the embedding subspace, *not* the `0.7` output subspace - it is not using V-Composition at all.\n",
        "* `1.4` is also performing the same role as `1.10` (so together they can be more accurate - we'll see exactly how later).\n",
        "\n",
        "To emphasise - the sophisticated hard part is computing the *attention* pattern of the induction head - this takes careful composition. The previous token and copying parts are fairly easy. This is a good illustrative example of how the QK circuits and OV circuits act semi-independently, and are often best thought of somewhat separately. And that computing the attention patterns can involve real and sophisticated computation!\n",
        "\n",
        "Below is a diagram of the induction circuit, with the heads indicated in the weight matrices.\n",
        "\n",
        "![kcomp_diagram_3.png](https://raw.githubusercontent.com/callummcdougall/computational-thread-art/master/example_images/misc/kcomp_diagram_described_3.png)\n",
        "</details>\n"
      ]
    },
    {
      "cell_type": "markdown",
      "metadata": {
        "id": "5hQ1nB-nMmGV"
      },
      "source": [
        "## Refresher - QK and OV circuits\n",
        "\n",
        "Before we start, a brief terminology note. I'll refer to weight matrices for a particular layer and head using superscript notation, e.g. $W_Q^{1.4}$ is the query matrix for the 4th head in layer 1, and it has shape `[d_model, d_head]` (remember that we multiply with weight matrices on the right). Similarly, attention patterns will be denoted $A^{1.4}$ (remember that these are **activations**, not parameters, since they're given by the formula $A^h = x W_{QK}^h x^T$, where $x$ is the residual stream (with shape `[seq_len, d_model]`).\n",
        "\n",
        "As a shorthand, I'll often have $A$ denote the one-hot encoding of token `A` (i.e. the vector with zeros everywhere except a one at the index of `A`), so $A^T W_E$ is the embedding vector for `A`.\n",
        "\n",
        "Lastly, I'll refer to special matrix products as follows:\n",
        "\n",
        "* $W_{OV}^{h} := W_V^{h}W_O^{h}$ is the **OV circuit** for head $h$, and $W_E W_{OV}^h W_U$ is the **full OV circuit**.\n",
        "* $W_{QK}^h := W_Q^h (W_K^h)^T$ is the **QK circuit** for head $h$, and $W_E W_{QK}^h W_E^T$ is the **full QK circuit**.\n",
        "\n",
        "Note that the order of these matrices are slightly different from the **Mathematical Frameworks** paper - this is a consequence of the way TransformerLens stores its weight matrices.\n"
      ]
    },
    {
      "cell_type": "markdown",
      "metadata": {
        "id": "aWtgyybxMl9N"
      },
      "source": [
        "#### Question - what is the interpretation of each of the following matrices?\n",
        "\n",
        "*There are quite a lot of questions here, but they are conceptually important. If you're confused, you might want to read the answers to the first few questions and then try the later ones.*\n",
        "\n",
        "In your answers, you should describe the type of input it takes, and what the outputs represent.\n",
        "\n",
        "#### $W_{OV}^{h}$\n",
        "\n",
        "<details>\n",
        "<summary>Answer</summary>\n",
        "\n",
        "$W_{OV}^{h}$ has size $(d_\\text{model}, d_\\text{model})$, it is a linear map describing **what information gets moved from source to destination, in the residual stream.**\n",
        "\n",
        "In other words, if $x$ is a vector in the residual stream, then $x^T W_{OV}^{h}$ is the vector written to the residual stream at the destination position, if the destination token only pays attention to the source token at the position of the vector $x$.\n",
        "</details>\n",
        "\n",
        "#### $W_E W_{OV}^h W_U$\n",
        "\n",
        "<details>\n",
        "<summary>Hint</summary>\n",
        "\n",
        "If $A$ is the one-hot encoding for token `A` (i.e. the vector with zeros everywhere except for a one in the position corresponding to token `A`), then think about what $A^T W_E W_{OV}^h W_U$ represents. You can evaluate this expression from left to right (e.g. start with thinking about what $A^T W_E$ represents, then multiply by the other two matrices).\n",
        "</details>\n",
        "<details>\n",
        "<summary>Answer</summary>\n",
        "\n",
        "$W_E W_{OV}^h W_U$ has size $(d_\\text{vocab}, d_\\text{vocab})$, it is a linear map describing **what information gets moved from source to destination, in a start-to-end sense.**\n",
        "\n",
        "If $A$ is the one-hot encoding for token `A`, then:\n",
        "\n",
        "* $A^T W_E$ is the embedding vector for `A`.\n",
        "* $A^T W_E W_{OV}^h$ is the vector which would get written to the residual stream at the destination position, if the destination token only pays attention to `A`.\n",
        "* $A^T W_E W_{OV}^h W_U$ is the unembedding of this vector, i.e. the thing which gets added to the final logits.\n",
        "\n",
        "</details>\n",
        "\n",
        "#### $W_{QK}^{h}$\n",
        "\n",
        "<details>\n",
        "<summary>Answer</summary>\n",
        "\n",
        "$W_{QK}^{h}$ has size $(d_\\text{model}, d_\\text{model})$, it is a bilinear form describing **where information is moved to and from** in the residual stream (i.e. which residual stream vectors attend to which others).\n",
        "\n",
        "$x_i^T W_{QK}^h x_j = (x_i^T W_Q^h) (x_j^T W_K^h)^T$ is the attention score paid by token $i$ to token $j$.\n",
        "</details>\n",
        "\n",
        "#### $W_E W_{QK}^h W_E^T$\n",
        "\n",
        "<details>\n",
        "<summary>Answer</summary>\n",
        "\n",
        "$W_E W_{QK}^h W_E^T$ has size $(d_\\text{vocab}, d_\\text{vocab})$, it is a bilinear form describing **where information is moved to and from**, among words in our vocabulary (i.e. which tokens pay attention to which others).\n",
        "\n",
        "If $A$ and $B$ are one-hot encodings for tokens `A` and `B`, then $A^T W_E W_{QK}^h W_E^T B$ is the attention score paid by token `A` to token `B`:\n",
        "\n",
        "$$\n",
        "A^T \\, W_E\\, W_{QK}^{h}\\, W_E^T \\, B = \\underbrace{(A^T W_E W_Q^{h})}_{\\text{query for token } A}  \\underbrace{(B^T W_E W_K^{h})^T}_{\\text{key for token }B}\n",
        "$$\n",
        "</details>\n",
        "\n",
        "#### $W_{pos} W_{QK}^h W_{pos}^T$\n",
        "\n",
        "<details>\n",
        "<summary>Answer</summary>\n",
        "\n",
        "$W_{pos} W_{QK}^h W_{pos}^T$ has size $(n_\\text{ctx}, n_\\text{ctx})$, it is a bilinear form describing **where information is moved to and from**, among tokens in our context (i.e. which token positions pay attention to other positions).\n",
        "\n",
        "If $i$ and $j$ are one-hot encodings for positions `i` and `j` (in other words they are just the ith and jth basis vectors), then $i^T W_{pos} W_{QK}^h W_{pos}^T j$ is the attention score paid by the token with position `i` to the token with position `j`:\n",
        "\n",
        "$$\n",
        "i^T \\, W_{pos}\\, W_{QK}^{h}\\, W_{pos}^T \\, j = \\underbrace{(i^T W_{pos} W_Q^{h})}_{\\text{query for i-th token}}  \\underbrace{(j^T W_{pos} W_K^{h})^T}_{\\text{key for j-th token}}\n",
        "$$\n",
        "\n",
        "</details>\n",
        "\n",
        "#### $W_E W_{OV}^{h_1} W_{QK}^{h_2} W_E^T$\n",
        "\n",
        "where $h_1$ is in an earlier layer than $h_2$.\n",
        "\n",
        "<details>\n",
        "<summary>Hint</summary>\n",
        "\n",
        "This matrix is best seen as a bilinear form of size $(d_\\text{vocab}, d_\\text{vocab})$. The $(A, B)$-th element is:\n",
        "\n",
        "$$\n",
        "(A^T W_E W_{OV}^{h_1}) W_{QK}^{h_2} (B^T W_E)^T\n",
        "$$\n",
        "</details>\n",
        "\n",
        "<details>\n",
        "<summary>Answer</summary>\n",
        "\n",
        "$W_E W_{OV}^{h_1} W_{QK}^{h_2} W_E^T$ has size $(d_\\text{vocab}, d_\\text{vocab})$, it is a bilinear form describing where information is moved to and from in head $h_2$, given that the **query-side vector** is formed from the output of head $h_1$. In other words, this is an instance of **Q-composition**.\n",
        "\n",
        "If $A$ and $B$ are one-hot encodings for tokens `A` and `B`, then $A^T W_E W_{OV}^{h_1} W_{QK}^{h_2} W_E^T B$ is the attention score paid **to** token `B`, **by** any token which attended strongly to an `A`-token in head $h_1$.\n",
        "\n",
        "---\n",
        "\n",
        "To further break this down, if it still seems confusing:\n",
        "\n",
        "$$\n",
        "\\begin{aligned}\n",
        "A^T \\, W_E\\, W_{OV}^{h_1} W_{QK}^{h_2}\\, W_E^T \\, B &= \\underbrace{(A^T W_E W_{OV}^{h_1}W_Q^{h_2})}_{\\text{query of token which attended to A}}  \\underbrace{(B^T W_E W_K^{h_2})^T}_\\text{key of token B} \\\\\n",
        "\\end{aligned}\n",
        "$$\n",
        "\n",
        "---\n",
        "\n",
        "Note that the actual attention score will be a sum of multiple terms, not just this one (in fact, we'd have a different term for every combination of query and key input). But this term describes the **particular contribution** to the attention score from this combination of query and key input, and it might be the case that this term is the only one that matters (i.e. all other terms don't much affect the final probabilities). We'll see something exactly like this later on.\n",
        "</details>\n"
      ]
    },
    {
      "cell_type": "markdown",
      "metadata": {
        "id": "BMO-17ZPMlpn"
      },
      "source": [
        "Before we start, there's a problem that we might run into when calculating all these matrices. Some of them are massive, and might not fit on our GPU. For instance, both full circuit matrices have shape $(d_\\text{vocab}, d_\\text{vocab})$, which in our case means $50278\\times 50278 \\approx 2.5\\times 10^{9}$ elements. Even if your GPU can handle this, it still seems inefficient. Is there any way we can meaningfully analyse these matrices, without actually having to calculate them?\n",
        "\n",
        "## Factored Matrix class\n",
        "\n",
        "In transformer interpretability, we often need to analyse low rank factorized matrices - a matrix $M = AB$, where M is `[large, large]`, but A is `[large, small]` and B is `[small, large]`. This is a common structure in transformers.\n",
        "\n",
        "For instance, we can factorise the OV circuit above as $W_{OV}^h = W_V^h W_O^h$, where $W_V^h$ has shape `[768, 64]` and $W_O^h$ has shape `[64, 768]`. For an even more extreme example, the full OV circuit can be written as $(W_E W_V^h) (W_O^h W_U)$, where these two matrices have shape `[50278, 64]` and `[64, 50278]` respectively. Similarly, we can write the full QK circuit as $(W_E W_Q^h) (W_E W_K^h)^T$.\n",
        "\n",
        "The `FactoredMatrix` class is a convenient way to work with these. It implements efficient algorithms for various operations on these, such as computing the trace, eigenvalues, Frobenius norm, singular value decomposition, and products with other matrices. It can (approximately) act as a drop-in replacement for the original matrix.\n",
        "\n",
        "This is all possible because knowing the factorisation of a matrix gives us a much easier way of computing its important properties. Intuitively, since $M=AB$ is a very large matrix that operates on very small subspaces, we shouldn't expect knowing the actual values $M_{ij}$ to be the most efficient way of storing it!\n"
      ]
    },
    {
      "cell_type": "markdown",
      "metadata": {
        "id": "IBL1qfvMPT8q"
      },
      "source": [
        "### Exercise - deriving properties of a factored matrix\n",
        "\n",
        "```c\n",
        "Difficulty: 🔴🔴🔴🔴⚪\n",
        "Importance: 🔵🔵⚪⚪⚪\n",
        "\n",
        "You shouldn't spend more than 10-25 minutes on this exercise.\n",
        "\n",
        "If you're less interested in the maths, you can skip these exercises.\n",
        "```\n",
        "\n",
        "To give you an idea of what kinds of properties you can easily compute if you have a factored matrix, let's try and derive some ourselves.\n",
        "\n",
        "Suppose we have $M=AB$, where $A$ has shape $(m, n)$, $B$ has shape $(n, m)$, and $m > n$. So $M$ is a size-$(m, m)$ matrix with rank at most $n$.\\;\n",
        "\n",
        "**Question - how can you easily compute the trace of $M$?**\n",
        "\n",
        "<details>\n",
        "<summary>Answer</summary>\n",
        "\n",
        "We have:\n",
        "\n",
        "$$\n",
        "\\text{Tr}(M) = \\text{Tr}(AB)\n",
        "= \\sum_{i=1}^m \\sum_{j=1}^n A_{ij} B_{ji}\n",
        "$$\n",
        "\n",
        "so evaluation of the trace is $O(mn)$.\n",
        "\n",
        "Note that, by cyclicity of the trace, we can also show that $\\text{Tr}(M) = \\text{Tr}(BA)$ (although we don't even need to calculate the product $AB$ to evaluate the trace).\n",
        "</details>\n",
        "\n",
        "**Question - how can you easily compute the eigenvalues of $M$?**\n",
        "\n",
        "(As you'll see in later exercises, eigenvalues are very important for evaluating matrices, for instance we can assess the [copying scores](https://transformer-circuits.pub/2021/framework/index.html#copying-matrix) of an OV circuit by looking at the eigenvalues of $W_{OV}$.)\n",
        "\n",
        "<details>\n",
        "<summary>Hint</summary>\n",
        "\n",
        "It's computationally cheaper to find the eigenvalues of $BA$ rather than $AB$.\n",
        "\n",
        "How are the eigenvalues of $AB$ and $BA$ related?\n",
        "</details>\n",
        "<details>\n",
        "<summary>Answer</summary>\n",
        "\n",
        "The eigenvalues of $AB$ and $BA$ are related as follows: if $\\mathbf{v}$ is an eigenvector of $AB$ with $ABv = \\lambda \\mathbf{v}$, then $B\\mathbf{v}$ is an eigenvector of $BA$ with the same eigenvalue:\n",
        "\n",
        "$$\n",
        "BA(B\\mathbf{v}) = B (AB\\mathbf{v}) = B (\\lambda \\mathbf{v}) = \\lambda (B\\mathbf{v})\n",
        "$$\n",
        "\n",
        "This only fails when $B\\mathbf{v} = \\mathbf{0}$, but in this case $AB\\mathbf{v} = \\mathbf{0}$ so $\\lambda = 0$. Thus, we can conclude that any non-zero eigenvalues of $AB$ are also eigenvalues of $BA$.\n",
        "\n",
        "It's much computationally cheaper to compute the eigenvalues of $BA$ (since it's a much smaller matrix), and this gives us all the non-zero eigenvalues of $AB$.\n",
        "</details>\n",
        "\n",
        "**Question (hard) - how can you easily compute the SVD of $M$?**\n",
        "\n",
        "<details>\n",
        "<summary>Hint</summary>\n",
        "\n",
        "For a size-$(m, n)$ matrix with $m > n$, the [algorithmic complexity of finding SVD](https://en.wikipedia.org/wiki/Singular_value_decomposition#Numerical_approach) is $O(mn^2)$. So it's relatively cheap to find the SVD of $A$ and $B$ (complexity $mn^2$ vs $m^3$). Can you use that to find the SVD of $M$?\n",
        "</details>\n",
        "\n",
        "\n",
        "<details>\n",
        "<summary>Answer</summary>\n",
        "\n",
        "It's much cheaper to compute the SVD of the small matrices $A$ and $B$. Denote these SVDs by:\n",
        "\n",
        "$$\n",
        "\\begin{aligned}\n",
        "A &= U_A S_A V_A^T \\\\\n",
        "B &= U_B S_B V_B^T\n",
        "\\end{aligned}\n",
        "$$\n",
        "\n",
        "where $U_A$ and $V_B$ are $(m, n)$, and the other matrices are $(n, n)$.\n",
        "\n",
        "Then we have:\n",
        "\n",
        "$$\n",
        "\\begin{aligned}\n",
        "\\quad\\quad\\quad\\quad M &= AB \\\\\n",
        "&= U_A (S_A V_A^T U_B S_B) V_B^T\n",
        "\\end{aligned}\n",
        "$$\n",
        "\n",
        "Note that the matrix in the middle has size $(n, n)$ (i.e. small), so we can compute its SVD cheaply:\n",
        "\n",
        "$$\n",
        "\\begin{aligned}\n",
        "\\; S_A V_A^T U_B S_B &= U' S' {V'}^T \\quad\\quad\\quad\\quad\\quad\n",
        "\\end{aligned}\n",
        "$$\n",
        "\n",
        "and finally, this gives us the SVD of $M$:\n",
        "\n",
        "$$\n",
        "\\begin{aligned}\n",
        "\\quad\\quad M &= U_A U' S' {V'}^T V_B^T \\\\\n",
        "&= U S {V'}^T\n",
        "\\end{aligned}\n",
        "$$\n",
        "\n",
        "where $U = U_A U'$, $V = V_B V'$, and $S = S'$.\n",
        "\n",
        "All our SVD calculations and matrix multiplications had complexity at most $O(mn^2)$, which is much better than $O(m^3)$ (remember that we don't need to compute all the values of $U = U_A U'$, only the ones which correspond to non-zero singular values).\n",
        "</details>\n",
        "\n",
        "If you're curious, you can go to the `FactoredMatrix` documentation to see the implementation of the SVD calculation, as well as other properties and operations.\n"
      ]
    },
    {
      "cell_type": "markdown",
      "metadata": {
        "id": "QbfBXlYcPpxt"
      },
      "source": [
        "Now that we've discussed some of the motivations behind having a `FactoredMatrix` class, let's see it in action.\n",
        "\n",
        "### Basic Examples\n",
        "\n",
        "We can use the basic class directly - let's make a factored matrix directly and look at the basic operations:\n"
      ]
    },
    {
      "cell_type": "code",
      "execution_count": null,
      "metadata": {
        "id": "5LIr_ivOPsk2"
      },
      "outputs": [],
      "source": [
        "A = t.randn(5, 2)\n",
        "B = t.randn(2, 5)\n",
        "AB = A @ B\n",
        "AB_factor = FactoredMatrix(A, B)\n",
        "print(\"Norms:\")\n",
        "print(AB.norm())\n",
        "print(AB_factor.norm())\n",
        "\n",
        "print(f\"Right dimension: {AB_factor.rdim}, Left dimension: {AB_factor.ldim}, Hidden dimension: {AB_factor.mdim}\")"
      ]
    },
    {
      "cell_type": "markdown",
      "metadata": {
        "id": "5YmNMkIYPuqq"
      },
      "source": [
        "We can also look at the eigenvalues and singular values of the matrix. Note that, because the matrix is rank 2 but 5 by 5, the final 3 eigenvalues and singular values are zero - the factored class omits the zeros.\n"
      ]
    },
    {
      "cell_type": "code",
      "execution_count": null,
      "metadata": {
        "id": "tlFXprK4Pweo"
      },
      "outputs": [],
      "source": [
        "print(\"Eigenvalues:\")\n",
        "print(t.linalg.eig(AB).eigenvalues)\n",
        "print(AB_factor.eigenvalues)\n",
        "print()\n",
        "print(\"Singular Values:\")\n",
        "print(t.linalg.svd(AB).S)\n",
        "print(AB_factor.S)\n",
        "print(\"Full SVD:\")\n",
        "print(AB_factor.svd())"
      ]
    },
    {
      "cell_type": "markdown",
      "metadata": {
        "id": "FhP6qtywPTy-"
      },
      "source": [
        "<details>\n",
        "<summary>Aside - the sizes of objects returned by the SVD method.</summary>\n",
        "\n",
        "If $M = USV^T$, and `M.shape = (m, n)` and the rank is `r`, then the SVD method returns the matrices $U, S, V$. They have shape `(m, r)`, `(r,)`, and `(n, r)` respectively, because:\n",
        "\n",
        "* We don't bother storing the off-diagonal entries of $S$, since they're all zero.\n",
        "* We don't bother storing the columns of $U$ and $V$ which correspond to zero singular values, since these won't affect the value of $USV^T$.\n",
        "</details>\n",
        "\n",
        "We can multiply a factored matrix with an unfactored matrix to get another factored matrix (as in example below). We can also multiply two factored matrices together to get another factored matrix.\n"
      ]
    },
    {
      "cell_type": "code",
      "execution_count": null,
      "metadata": {
        "id": "ZUpuZj-kP5cz"
      },
      "outputs": [],
      "source": [
        "C = t.randn(5, 300)\n",
        "ABC = AB @ C\n",
        "ABC_factor = AB_factor @ C\n",
        "print(\"Unfactored:\", ABC.shape, ABC.norm())\n",
        "print(\"Factored:\", ABC_factor.shape, ABC_factor.norm())\n",
        "print(f\"Right dimension: {ABC_factor.rdim}, Left dimension: {ABC_factor.ldim}, Hidden dimension: {ABC_factor.mdim}\")"
      ]
    },
    {
      "cell_type": "markdown",
      "metadata": {
        "id": "vWGT1Do4P6zQ"
      },
      "source": [
        "If we want to collapse this back to an unfactored matrix, we can use the `AB` property to get the product:\n"
      ]
    },
    {
      "cell_type": "code",
      "execution_count": null,
      "metadata": {
        "id": "GjPwvpg_P7rX"
      },
      "outputs": [],
      "source": [
        "AB_unfactored = AB_factor.AB\n",
        "t.testing.assert_close(AB_unfactored, AB)"
      ]
    },
    {
      "cell_type": "markdown",
      "metadata": {
        "id": "AV6Ldh8cPTqN"
      },
      "source": [
        "## Reverse-engineering circuits\n",
        "\n",
        "Within our induction circuit, we have four individual circuits: the OV and QK circuits in our previous token head, and the OV and QK circuits in our induction head. In the following sections of the exercise, we'll reverse-engineer each of these circuits in turn.\n",
        "\n",
        "* In the section **OV copying circuit**, we'll look at the layer-1 OV circuit.\n",
        "* In the section **QK prev-token circuit**, we'll look at the layer-0 QK circuit.\n",
        "* The third section (**K-composition**) is a bit trickier, because it involves looking at the composition of the layer-0 OV circuit **and** layer-1 QK circuit. We will have to do two things:\n",
        "    1. Show that these two circuits are composing (i.e. that the output of the layer-0 OV circuit is the main determinant of the key vectors in the layer-1 QK circuit).\n",
        "    2. Show that the joint operation of these two circuits is \"make the second instance of a token attend to the token *following* an earlier instance.\n",
        "\n",
        "The dropdown below contains a diagram explaining how the three sections relate to the different components of the induction circuit. You might have to open it in a new tab to see it clearly.\n",
        "\n",
        "<details>\n",
        "<summary>Diagram</summary>\n",
        "\n",
        "![kcomp](https://raw.githubusercontent.com/callummcdougall/computational-thread-art/master/example_images/misc/kcomp_diagram_described_2_new.png)\n",
        "</details>\n",
        "\n",
        "After this, we'll have a look at composition scores, which are a more mathematically justified way of showing that two attention heads are composing (without having to look at their behaviour on any particular class of inputs, since it is a property of the actual model weights).\n"
      ]
    },
    {
      "cell_type": "markdown",
      "metadata": {
        "id": "JDERB3SXPTUC"
      },
      "source": [
        "## [1] OV copying circuit\n",
        "\n",
        "Let's start with an easy parts of the circuit - the copying OV circuit of `1.4` and `1.10`. Let's start with head 4. The only interpretable (read: **privileged basis**) things here are the input tokens and output logits, so we want to study the matrix:\n",
        "\n",
        "$$\n",
        "W_E W_{OV}^{1.4} W_U\n",
        "$$\n",
        "\n",
        "(and same for `1.10`). This is the $(d_\\text{vocab}, d_\\text{vocab})$-shape matrix that combines with the attention pattern to get us from input to output.\n",
        "\n",
        "We want to calculate this matrix, and inspect it. We should find that its diagonal values are very high, and its non-diagonal values are much lower.\n",
        "\n",
        "**Question - why should we expect this observation?** (you may find it helpful to refer back to the previous section, where you described what the interpretation of different matrices was.)\n",
        "\n",
        "<details>\n",
        "<summary>Hint</summary>\n",
        "\n",
        "Suppose our repeating sequence is `A B ... A B`. Let $A$, $B$ be the corresponding one-hot encoded tokens. The `B`-th row of this matrix is:\n",
        "\n",
        "$$\n",
        "B^T W_E W_{OV}^{1.4} W_U\n",
        "$$\n",
        "\n",
        "What is the interpretation of this expression, in the context of our attention head?\n",
        "</details>\n",
        "\n",
        "<!-- <details> -->\n",
        "<summary>Answer</summary>\n",
        "\n",
        "If our repeating sequence is `A B ... A B`, then:\n",
        "\n",
        "$$\n",
        "B^T W_E W_{OV}^{1.4} W_U\n",
        "$$\n",
        "\n",
        "is the **vector of logits which gets moved from the first `B` token to the second `A` token, to be used as the prediction for the token following the second `A` token**. It should result in a high prediction for `B`, and a low prediction for everything else. In other words, the `(B, X)`-th element of this matrix should be highest for `X=B`, which is exactly what we claimed.\n",
        "\n",
        "---\n",
        "\n",
        "If this still seems confusing, let's break it down bit by bit. We have:\n",
        "\n",
        "* $B^T W_E$ is the token-embedding of `B`.\n",
        "* $B^T W_E W_{OV}^{1.4}$ is the vector which gets moved from the first `B` token to the second `A` token, by our attention head (because the second `A` token attends strongly to the first `B`).\n",
        "* $B^T W_E W_{OV}^{1.4} W_U$ is the vector of logits representing how this attention head affects the prediction of the token following the second `A`. There should be a higher logit for `B` than for any other token, because the attention head is trying to copy `B` to the second `A`.\n",
        "\n",
        "---\n",
        "\n",
        "<img src=\"https://raw.githubusercontent.com/callummcdougall/computational-thread-art/master/example_images/misc/kcomp_diagram_described-OV-end.png\" width=\"400\">\n",
        "\n",
        "</details>\n"
      ]
    },
    {
      "cell_type": "markdown",
      "metadata": {
        "id": "5LfzLieWPTgi"
      },
      "source": [
        "### Exercise - compute OV circuit for `1.4`\n",
        "\n",
        "*This is the first of several similar exercises where you calculate a circuit by multiplying matrices. This exercise is pretty important (in particular, you should make sure you understand what this matrix represents and why we're interested in it), but the actual calculation shouldn't take very long.*\n"
      ]
    },
    {
      "cell_type": "markdown",
      "metadata": {
        "id": "mw0P4WTGMjU2"
      },
      "source": [
        "You should compute it as a `FactoredMatrix` object.\n",
        "\n",
        "Remember, you can access the model's weights directly e.g. using `model.W_E` or `model.W_Q` (the latter gives you all the `W_Q` matrices, indexed by layer and head).\n"
      ]
    },
    {
      "cell_type": "code",
      "execution_count": null,
      "metadata": {
        "id": "QamUKy6mUQqo"
      },
      "outputs": [],
      "source": [
        "layer = 1\n",
        "head_index = 4\n",
        "\n",
        "# YOUR CODE HERE - compte the `full_OV_circuit` object\n",
        "\n",
        "tests.test_full_OV_circuit(full_OV_circuit, model, layer, head_index)"
      ]
    },
    {
      "cell_type": "markdown",
      "metadata": {
        "id": "KzRwrMMZUSun"
      },
      "source": [
        "<details>\n",
        "<summary>Help - I'm not sure how to use this class to compute a product of more than 2 matrices.</summary>\n",
        "\n",
        "You can compute it directly, as:\n",
        "\n",
        "```python\n",
        "full_OV_circuit = FactoredMatrix(W_E @ W_V, W_O @ W_U)\n",
        "```\n",
        "\n",
        "Alternatively, another nice feature about the `FactoredMatrix` class is that you can chain together matrix multiplications. The following code defines exactly the same `FactoredMatrix` object:\n",
        "\n",
        "```python\n",
        "OV_circuit = FactoredMatrix(W_V, W_O)\n",
        "full_OV_circuit = W_E @ OV_circuit @ W_U\n",
        "```\n",
        "</details>"
      ]
    },
    {
      "cell_type": "markdown",
      "metadata": {
        "id": "c-PjNsfdPS43"
      },
      "source": [
        "### Exercise - verify this is the identity\n",
        "\n",
        "```c\n",
        "Difficulty: 🔴🔴⚪⚪⚪\n",
        "Importance: 🔵🔵🔵⚪⚪\n",
        "\n",
        "You shouldn't spend more than 5-10 minutes on this exercise.\n",
        "\n",
        "This exercise should be very short; it only requires 2 lines of code. Understanding it conceptually is more important than the actual coding.\n",
        "```\n"
      ]
    },
    {
      "cell_type": "markdown",
      "metadata": {
        "id": "h4deQSV5M33H"
      },
      "source": [
        "Now we want to check that this matrix is the identity. Since it's in factored matrix form, this is a bit tricky, but there are still things we can do.\n",
        "\n",
        "First, to validate that it looks diagonal-ish, let's pick 200 random rows and columns and visualise that - it should at least look identity-ish here!\n"
      ]
    },
    {
      "cell_type": "code",
      "execution_count": null,
      "metadata": {
        "id": "qXgRTO1jUbqi"
      },
      "outputs": [],
      "source": [
        "# YOUR CODE HERE - get a random sample from the full OV circuit, so it can be plotted with `imshow`\n",
        "imshow(\n",
        "    full_OV_circuit_sample,\n",
        "    labels={\"x\": \"Input token\", \"y\": \"Logits on output token\"},\n",
        "    title=\"Full OV circuit for copying head\",\n",
        "    width=700,\n",
        ")"
      ]
    },
    {
      "cell_type": "markdown",
      "metadata": {
        "id": "ef6iWjQsUdDd"
      },
      "source": [
        "<details>\n",
        "<summary>Aside - indexing factored matrices</summary>\n",
        "\n",
        "Yet another nice thing about factored matrices is that you can evaluate small submatrices without having to compute the entire matrix. This is based on the fact that the `[i, j]`-th element of matrix `AB` is `A[i, :] @ B[:, j]`.\n",
        "\n",
        "When you index a factored matrix, you get back another factored matrix. So rather than explicitly calculating `A[left_indices, :] @ B[:, left_indices]`, we can just write `AB[left_indices, left_indices]`.\n",
        "</details>\n",
        "\n",
        "You should observe a pretty distinct diagonal pattern here, which is a good sign. However, the matrix is pretty noisy so it probably won't be exactly the identity. Instead, we should come up with a summary statistic to capture a rough sense of \"closeness to the identity\".\n",
        "\n",
        "**Accuracy** is a good summary statistic - what fraction of the time is the largest logit in a row on the diagonal? Even if there's lots of noise, you'd probably still expect the largest logit to be on the diagonal a good deal of the time.\n",
        "\n",
        "If you're on a Colab or have a powerful GPU, you should be able to compute the full matrix and perform this test. However, it's better practice to iterate through this matrix when we can, so that we avoid CUDA issues. We've given you a `batch_size` argument in the function below, and you should try to only explicitly calculate matrices of size `d_vocab * batch_size` rather than the massive matrix of `d_vocab * d_vocab`."
      ]
    },
    {
      "cell_type": "code",
      "execution_count": null,
      "metadata": {
        "id": "0fa73_qlUy9P"
      },
      "outputs": [],
      "source": [
        "def top_1_acc(full_OV_circuit: FactoredMatrix, batch_size: int = 1000) -> float:\n",
        "    '''\n",
        "    This should take the argmax of each column (ie over dim=0) and return the fraction of the time that's equal to the correct logit\n",
        "    '''\n",
        "    pass\n",
        "\n",
        "\n",
        "print(f\"Fraction of the time that the best logit is on the diagonal: {top_1_acc(full_OV_circuit):.4f}\")"
      ]
    },
    {
      "cell_type": "markdown",
      "metadata": {
        "id": "f0omG_tnU01V"
      },
      "source": [
        "This should return about 30.79% - pretty underwhelming. It goes up to 47.73% for top-5. What's up with that?\n"
      ]
    },
    {
      "cell_type": "markdown",
      "metadata": {
        "id": "womxCKC-Uc73"
      },
      "source": [
        "### Exercise - compute effective circuit\n",
        "\n",
        "```c\n",
        "Difficulty: 🔴🔴⚪⚪⚪\n",
        "Importance: 🔵🔵🔵⚪⚪\n",
        "\n",
        "You shouldn't spend more than 5-10 minutes on this exercise.\n",
        "\n",
        "This exercise should be very short; it only requires 2 lines of code. Understanding it conceptually is more important than the actual coding.\n",
        "```\n"
      ]
    },
    {
      "cell_type": "markdown",
      "metadata": {
        "id": "xIFaowSONYhc"
      },
      "source": [
        "Now we return to why we have *two* induction heads. If both have the same attention pattern, the effective OV circuit is actually $W_E(W_V^{1.4}W_O^{1.4}+W_V^{1.10}W_O^{1.10})W_U$, and this is what matters. So let's re-run our analysis on this!\n",
        "\n",
        "<img src=\"https://raw.githubusercontent.com/callummcdougall/computational-thread-art/master/example_images/misc/effective_ov_circuit.png\" width=\"650\">\n"
      ]
    },
    {
      "cell_type": "markdown",
      "metadata": {
        "id": "cvvIxncCV5nJ"
      },
      "source": [
        "<details>\n",
        "<summary>Question - why might the model want to split the circuit across two heads?</summary>\n",
        "\n",
        "Because $W_V W_O$ is a rank 64 matrix. The sum of two is a rank 128 matrix. This can be a significantly better approximation to the desired 50K x 50K matrix!\n",
        "</details>\n"
      ]
    },
    {
      "cell_type": "code",
      "execution_count": null,
      "metadata": {
        "id": "f83trUNAV6ij"
      },
      "outputs": [],
      "source": [
        "# YOUR CODE HERE - compute the effective OV circuit, and run `top_1_acc` on it"
      ]
    },
    {
      "cell_type": "markdown",
      "metadata": {
        "id": "QixqCn7kV94q"
      },
      "source": [
        "<details>\n",
        "<summary>Expected output</summary>\n",
        "\n",
        "You should get an accuracy of 95.6% for top-1, and 98% for top-5 - much better!\n",
        "</details>\n"
      ]
    },
    {
      "cell_type": "markdown",
      "metadata": {
        "id": "1Y89hhZsWB7V"
      },
      "source": [
        "## [2] QK prev-token circuit\n",
        "\n",
        "The other easy circuit is the QK-circuit of L0H7 - how does it know to be a previous token circuit?\n",
        "\n",
        "We can multiply out the full QK circuit via the positional embeddings:\n",
        "\n",
        "$$\n",
        "W_\\text{pos} W_Q^{0.7} (W_K^{0.7})^T W_\\text{pos}^T\n",
        "$$\n",
        "\n",
        "to get a matrix `pos_by_pos` of shape `[max_ctx, max_ctx]` (max ctx = max context length, i.e. maximum length of a sequence we're allowing, which is set by our choice of dimensions in $W_\\text{pos}$).\n",
        "\n",
        "Note that in this case, our max context window is 2048 (we can check this via `model.cfg.n_ctx`). This is much smaller than the 50k-size matrices we were working with in the previous section, so we shouldn't need to use the factored matrix class here.\n",
        "\n",
        "Once we calculate it, we can then mask it and apply a softmax, and should get a clear stripe on the lower diagonal (Tip: Click and drag to zoom in, hover over cells to see their values and indices!)\n"
      ]
    },
    {
      "cell_type": "markdown",
      "metadata": {
        "id": "AzWvf8XQWD28"
      },
      "source": [
        "<details>\n",
        "<summary>Question - why should we expect this matrix to have a lower-diagonal stripe?</summary>\n",
        "\n",
        "The full QK circuit $W_\\text{pos} W_{QK}^{0.7} W_\\text{pos}^T$ has shape `[n_ctx, n_ctx]`. It is a bilinear form, with the $(i, j)$-th element representing the attention score paid by the $i$-th token to the $j$-th token. This should be very large when $j = i - 1$ (and smaller for all other values of $j$), because this is a **previous head token**. So if we softmax over $j$, we should get a lower-diagonal stripe of 1.\n",
        "\n",
        "<img src=\"https://raw.githubusercontent.com/callummcdougall/computational-thread-art/master/example_images/misc/kcomp_diagram_described-QK-last.png\" width=\"600\">\n",
        "\n",
        "</details>\n",
        "\n",
        "Why is it justified to ignore token encodings? In this case, it turns out that the positional encodings have a much larger effect on the attention scores than the token encodings. If you want, you can verify this for yourself - after going through the next section (reverse-engineering K-composition), you'll have a better sense of how to perform attribution on the inputs to attention heads, and assess their importance).\n"
      ]
    },
    {
      "cell_type": "markdown",
      "metadata": {
        "id": "3Kq1FabjWjF4"
      },
      "source": [
        "### Exercise - compute full QK-circuit for `0.7`\n",
        "\n",
        "```c\n",
        "Difficulty: 🔴🔴🔴⚪⚪\n",
        "Importance: 🔵🔵🔵⚪⚪\n",
        "\n",
        "You shouldn't spend more than 10-15 minutes on this exercise.\n",
        "\n",
        "The fiddly masking and scaling steps make this exercise a bit harder than the last one. Look at the solution if you don't see where you're going wrong.\n",
        "```\n",
        "\n",
        "*This is another relatively simple matrix multiplication, although it's a bit fiddly on account of the  masking and scaling steps. If you understand what you're being asked to do but still not passing the tests, you should probably look at the solution.*\n"
      ]
    },
    {
      "cell_type": "markdown",
      "metadata": {
        "id": "-h8HM0LPN4-o"
      },
      "source": [
        "Now, you should compute and plot the matrix.\n",
        "\n",
        "Remember, you're calculating the attention pattern (i.e. probabilites) not the scores. You'll need to mask the scores (you can use the `mask_scores` function we've provided you with), and scale them.\n"
      ]
    },
    {
      "cell_type": "code",
      "execution_count": null,
      "metadata": {
        "id": "sUb-JFppWkg-"
      },
      "outputs": [],
      "source": [
        "def mask_scores(attn_scores: Float[Tensor, \"query_nctx key_nctx\"]):\n",
        "    '''Mask the attention scores so that tokens don't attend to previous tokens.'''\n",
        "    assert attn_scores.shape == (model.cfg.n_ctx, model.cfg.n_ctx)\n",
        "    mask = t.tril(t.ones_like(attn_scores)).bool()\n",
        "    neg_inf = t.tensor(-1.0e6).to(attn_scores.device)\n",
        "    masked_attn_scores = t.where(mask, attn_scores, neg_inf)\n",
        "    return masked_attn_scores\n",
        "\n",
        "\n",
        "    # YOUR CODE HERE - calculate the matrix `pos_by_pos_pattern` as described above\n",
        "tests.test_pos_by_pos_pattern(pos_by_pos_pattern, model, layer, head_index)"
      ]
    },
    {
      "cell_type": "markdown",
      "metadata": {
        "id": "-q20PTgEWmIm"
      },
      "source": [
        "Once the tests pass, you can plot a corner of your matrix:\n"
      ]
    },
    {
      "cell_type": "code",
      "execution_count": null,
      "metadata": {
        "id": "L8dylbJWtxI7"
      },
      "outputs": [],
      "source": [
        "print(f\"Avg lower-diagonal value: {pos_by_pos_pattern.diag(-1).mean():.4f}\")\n",
        "\n",
        "imshow(\n",
        "    utils.to_numpy(pos_by_pos_pattern[:100, :100]),\n",
        "    labels={\"x\": \"Key\", \"y\": \"Query\"},\n",
        "    title=\"Attention patterns for prev-token QK circuit, first 100 indices\",\n",
        "    width=700\n",
        ")"
      ]
    },
    {
      "cell_type": "markdown",
      "metadata": {
        "id": "D4LbhcE5Uc0F"
      },
      "source": [
        "## [3] K-composition circuit\n",
        "\n",
        "We now dig into the hard part of the circuit - demonstrating the K-Composition between the previous token head and the induction head.\n",
        "\n",
        "#### Splitting activations\n",
        "\n",
        "We can repeat the trick from the logit attribution scores. The QK-input for layer 1 is the sum of 14 terms (2+n_heads) - the token embedding, the positional embedding, and the results of each layer 0 head. So for each head $\\text{H}$ in layer 1, the query tensor (ditto key) corresponding to sequence position $i$ is:\n",
        "\n",
        "$$\n",
        "\\begin{align*}\n",
        "x W^\\text{1.H}_Q &= (e + pe + \\sum_{h=0}^{11} x^\\text{0.h}) W^\\text{1.H}_Q \\\\\n",
        "&= e W^\\text{1.H}_Q + pe W^\\text{1.H}_Q + \\sum_{h=0}^{11} x^\\text{0.h} W^\\text{1.H}_Q\n",
        "\\end{align*}\n",
        "$$\n",
        "\n",
        "where $e$ stands for the token embedding, $pe$ for the positional embedding, and $x^\\text{0.h}$ for the output of head $h$ in layer 0 (and the sum of these tensors equals the residual stream $x$). All these tensors have shape `[seq, d_model]`. So we can treat the expression above as a sum of matrix multiplications `[seq, d_model] @ [d_model, d_head] -> [seq, d_head]`.\n",
        "\n",
        "For ease of notation, I'll refer to the 14 inputs as $(y_0, y_1, ..., y_{13})$ rather than $(e, pe, x^\\text{0.h}, ..., x^{h.11})$. So we have:\n",
        "\n",
        "$$\n",
        "x W^h_Q = \\sum_{i=0}^{13} y_i W^h_Q\n",
        "$$\n",
        "\n",
        "with each $y_i$ having shape `[seq, d_model]`, and the sum of $y_i$s being the full residual stream $x$. Here is a diagram to illustrate:\n",
        "\n",
        "<img src=\"https://raw.githubusercontent.com/callummcdougall/computational-thread-art/master/example_images/misc/components.png\" width=\"550\">\n"
      ]
    },
    {
      "cell_type": "markdown",
      "metadata": {
        "id": "9X_s8YfsUctM"
      },
      "source": [
        "### Exercise - analyse the relative importance\n",
        "\n",
        "```c\n",
        "Difficulty: 🔴🔴🔴🔴⚪\n",
        "Importance: 🔵🔵🔵🔵⚪\n",
        "\n",
        "You shouldn't spend more than 15-25 minutes on these exercises.\n",
        "\n",
        "Most of these functions just involve indexing and einsums, but conceptual understanding / figuring out exactly what the question is asking for is the hard part!\n",
        "```\n"
      ]
    },
    {
      "cell_type": "markdown",
      "metadata": {
        "id": "NhlziOldQlda"
      },
      "source": [
        "We can now analyse the relative importance of these 14 terms! A very crude measure is to take the norm of each term (by component and position).\n",
        "\n",
        "Note that this is a pretty dodgy metric - q and k are not inherently interpretable! But it can be a good and easy-to-compute proxy.\n",
        "\n",
        "<details>\n",
        "<summary>Question - why are Q and K not inherently interpretable? Why might the norm be a good metric in spite of this?</summary>\n",
        "\n",
        "They are not inherently interpretable because they operate on the residual stream, which doesn't have a **privileged basis**. You could stick a rotation matrix $R$ after all of the $Q$, $K$ and $V$ weights (and stick a rotation matrix before everything that writes to the residual stream), and the model would still behave exactly the same.\n",
        "\n",
        "The reason taking the norm is still a reasonable thing to do is that, despite the individual elements of these vectors not being inherently interpretable, it's still a safe bet that if they are larger than they will have a greater overall effect on the residual stream. So looking at the norm doesn't tell us how they work, but it does indicate which ones are more important.\n",
        "</details>\n",
        "\n",
        "Fill in the functions below:\n"
      ]
    },
    {
      "cell_type": "code",
      "execution_count": null,
      "metadata": {
        "id": "JQmd48vgW5_v"
      },
      "outputs": [],
      "source": [
        "def decompose_qk_input(cache: ActivationCache) -> t.Tensor:\n",
        "    '''\n",
        "    Output is decomposed_qk_input, with shape [2+num_heads, seq, d_model]\n",
        "\n",
        "    The [i, 0, 0]th element is y_i (from notation above)\n",
        "    '''\n",
        "    pass\n",
        "\n",
        "\n",
        "def decompose_q(decomposed_qk_input: t.Tensor, ind_head_index: int) -> t.Tensor:\n",
        "    '''\n",
        "    Output is decomposed_q with shape [2+num_heads, position, d_head]\n",
        "\n",
        "    The [i, 0, 0]th element is y_i @ W_Q (so the sum along axis 0 is just the q-values)\n",
        "    '''\n",
        "    pass\n",
        "\n",
        "\n",
        "def decompose_k(decomposed_qk_input: t.Tensor, ind_head_index: int) -> t.Tensor:\n",
        "    '''\n",
        "    Output is decomposed_k with shape [2+num_heads, position, d_head]\n",
        "\n",
        "    The [i, 0, 0]th element is y_i @ W_K(so the sum along axis 0 is just the k-values)\n",
        "    '''\n",
        "    pass\n",
        "\n",
        "\n",
        "ind_head_index = 4\n",
        "# First we get decomposed q and k input, and check they're what we expect\n",
        "decomposed_qk_input = decompose_qk_input(rep_cache)\n",
        "decomposed_q = decompose_q(decomposed_qk_input, ind_head_index)\n",
        "decomposed_k = decompose_k(decomposed_qk_input, ind_head_index)\n",
        "t.testing.assert_close(decomposed_qk_input.sum(0), rep_cache[\"resid_pre\", 1] + rep_cache[\"pos_embed\"], rtol=0.01, atol=1e-05)\n",
        "t.testing.assert_close(decomposed_q.sum(0), rep_cache[\"q\", 1][:, ind_head_index], rtol=0.01, atol=0.001)\n",
        "t.testing.assert_close(decomposed_k.sum(0), rep_cache[\"k\", 1][:, ind_head_index], rtol=0.01, atol=0.01)\n",
        "# Second, we plot our results\n",
        "component_labels = [\"Embed\", \"PosEmbed\"] + [f\"0.{h}\" for h in range(model.cfg.n_heads)]\n",
        "for decomposed_input, name in [(decomposed_q, \"query\"), (decomposed_k, \"key\")]:\n",
        "    imshow(\n",
        "        utils.to_numpy(decomposed_input.pow(2).sum([-1])),\n",
        "        labels={\"x\": \"Position\", \"y\": \"Component\"},\n",
        "        title=f\"Norms of components of {name}\",\n",
        "        y=component_labels,\n",
        "        width=1000, height=400\n",
        "    )"
      ]
    },
    {
      "cell_type": "markdown",
      "metadata": {
        "id": "pUaYPdg6Ucfj"
      },
      "source": [
        "<details>\n",
        "<summary>What you should see</summary>\n",
        "\n",
        "You should see that the most important query components are the token and positional embeddings. The most important key components are those from $y_9$, which is $x_7$, i.e. from head `0.7`.\n",
        "\n",
        "</details>\n",
        "\n",
        "<details>\n",
        "\n",
        "<summary>A technical note on the positional embeddings - optional, feel free to skip this.</summary>\n",
        "\n",
        "You might be wondering why the tests compare the decomposed qk sum with the sum of the `resid_pre + pos_embed`, rather than just `resid_pre`. The answer lies in how we defined the transformer, specifically in this line from the config:\n",
        "\n",
        "```python\n",
        "positional_embedding_type=\"shortformer\"\n",
        "```\n",
        "\n",
        "The result of this is that the positional embedding isn't added to the residual stream. Instead, it's added as inputs to the Q and K calculation (i.e. we calculate `(resid_pre + pos_embed) @ W_Q` and same for `W_K`), but **not** as inputs to the V calculation (i.e. we just calculate `resid_pre @ W_V`). This isn't actually how attention works in general, but for our purposes it makes the analysis of induction heads cleaner because we don't have positional embeddings interfering with the OV circuit.\n",
        "\n",
        "**Question - this type of embedding actually makes it impossible for attention heads to form via Q-composition. Can you see why?**\n",
        "</details>\n",
        "\n"
      ]
    },
    {
      "cell_type": "markdown",
      "source": [
        "This tells us which heads are probably important, but we can do better than that. Rather than looking at the query and key components separately, we can see how they combine together - i.e. take the decomposed attention scores.\n",
        "\n",
        "This is a bilinear function of q and k, and so we will end up with a `decomposed_scores` tensor with shape `[query_component, key_component, query_pos, key_pos]`, where summing along BOTH of the first axes will give us the original attention scores (pre-mask).\n"
      ],
      "metadata": {
        "id": "lvlVMODYmagm"
      }
    },
    {
      "cell_type": "markdown",
      "metadata": {
        "id": "KZvU04gYXRXq"
      },
      "source": [
        "### Exercise - decompose attention scores\n",
        "\n",
        "```c\n",
        "Difficulty: 🔴🔴⚪⚪⚪\n",
        "Importance: 🔵🔵🔵🔵⚪\n",
        "\n",
        "You shouldn't spend more than 5-10 minutes on this exercise.\n",
        "\n",
        "Having already done the previous exercises, this one should be easier.\n",
        "```\n",
        "\n",
        "Implement the function giving the decomposed scores (remember to scale by `sqrt(d_head)`!) For now, don't mask it.\n",
        "\n",
        "<details>\n",
        "<summary>Question - why do I focus on the attention scores, not the attention pattern? (i.e. pre softmax not post softmax)</summary>\n",
        "\n",
        "Because the decomposition trick *only* works for things that are linear - softmax isn't linear and so we can no longer consider each component independently.\n",
        "</details>\n",
        "\n",
        "<details>\n",
        "<summary>Help - I'm confused about what we're doing / why we're doing it.</summary>\n",
        "\n",
        "Remember that each of our components writes to the residual stream separately. So after layer 1, we have:\n",
        "\n",
        "<img src=\"https://raw.githubusercontent.com/callummcdougall/computational-thread-art/master/example_images/misc/components.png\" width=\"650\">\n",
        "\n",
        "We're particularly interested in the attention scores computed in head `1.4`, and how they depend on the inputs into that head. We've already decomposed the residual stream value $x$ into its terms $e$, $pe$, and $x^ 0$ through $x^{11}$ (which we've labelled $y_0, ..., y_{13}$ for simplicity), and we've done the same for key and query terms. We can picture these terms being passed into head `1.4` as:\n",
        "\n",
        "<img src=\"https://raw.githubusercontent.com/callummcdougall/computational-thread-art/master/example_images/misc/components-2.png\" width=\"650\">\n",
        "\n",
        "So when we expand `attn_scores` out in full, they are a sum of $14^2 = 196$ terms - one for each combination of `(query_component, key_component)`.\n",
        "\n",
        "---\n",
        "\n",
        "#### Why is this decomposition useful?\n",
        "\n",
        "We have a theory about a particular circuit in our model. We think that head `1.4` is an attention head, and the most important components that feed into this head are the prev token head `0.7` (as key) and the token embedding (as query). This is already supported by the evidence of our magnitude plots above (because we saw that `0.7` as key and token embeddings as query were large), but we still don't know how this particular key and query work **together**; we've only looked at them separately.\n",
        "\n",
        "By decomposing `attn_scores` like this, we can check whether the contribution from combination `(query=tok_emb, key=0.7)` is indeed producing the characteristic induction head pattern which we've observed (and the other 195 terms don't really matter).\n",
        "</details>\n"
      ]
    },
    {
      "cell_type": "code",
      "execution_count": null,
      "metadata": {
        "id": "m3ZhyA9tXQwX"
      },
      "outputs": [],
      "source": [
        "def decompose_attn_scores(decomposed_q: t.Tensor, decomposed_k: t.Tensor) -> t.Tensor:\n",
        "    '''\n",
        "    Output is decomposed_scores with shape [query_component, key_component, query_pos, key_pos]\n",
        "\n",
        "    The [i, j, 0, 0]th element is y_i @ W_QK @ y_j^T (so the sum along both first axes are the attention scores)\n",
        "    '''\n",
        "    pass\n",
        "\n",
        "tests.test_decompose_attn_scores(decompose_attn_scores, decomposed_q, decomposed_k)"
      ]
    },
    {
      "cell_type": "markdown",
      "metadata": {
        "id": "egmtQK4RXKuF"
      },
      "source": [
        "Once these tests have passed, you can plot the results:\n"
      ]
    },
    {
      "cell_type": "code",
      "execution_count": null,
      "metadata": {
        "id": "pD7LG25tYJ0r"
      },
      "outputs": [],
      "source": [
        "decomposed_scores = decompose_attn_scores(decomposed_q, decomposed_k)\n",
        "decomposed_stds = einops.reduce(\n",
        "    decomposed_scores,\n",
        "    \"query_decomp key_decomp query_pos key_pos -> query_decomp key_decomp\",\n",
        "    t.std\n",
        ")\n",
        "\n",
        "# First plot: attention score contribution from (query_component, key_component) = (Embed, L0H7)\n",
        "imshow(\n",
        "    utils.to_numpy(t.tril(decomposed_scores[0, 9])),\n",
        "    title=\"Attention score contributions from (query, key) = (embed, output of L0H7)\",\n",
        "    width=800\n",
        ")\n",
        "\n",
        "# Second plot: std dev over query and key positions, shown by component\n",
        "imshow(\n",
        "    utils.to_numpy(decomposed_stds),\n",
        "    labels={\"x\": \"Key Component\", \"y\": \"Query Component\"},\n",
        "    title=\"Standard deviations of attention score contributions (by key and query component)\",\n",
        "    x=component_labels,\n",
        "    y=component_labels,\n",
        "    width=800\n",
        ")"
      ]
    },
    {
      "cell_type": "markdown",
      "metadata": {
        "id": "oIJO3gpiYNhj"
      },
      "source": [
        "<details>\n",
        "<summary>Question - what is the interpretation of these plots?</summary>\n",
        "\n",
        "The first plot tells you that the term $e W_{QK}^{1.4} (x^{0.7})^T$ (i.e. the component of the attention scores for head `1.4` where the query is supplied by the token embeddings and the key is supplied by the output of head `0.7`) produces the distinctive attention pattern we see in the induction head: a strong diagonal stripe.\n",
        "\n",
        "Although this tells us that this this component would probably be sufficient to implement the induction mechanism, it doesn't tell us the whole story. Ideally, we'd like to show that the other 195 terms are unimportant. Taking the standard deviation across the attention scores for a particular pair of components is a decent proxy for how important this term is in the overall attention pattern. The second plot shows us that the standard deviation is very small for all the other components, so we can be confident that the other components are unimportant.\n",
        "\n",
        "To summarise:\n",
        "\n",
        "* The first plot tells us that the pair `(q_component=tok_emb, k_component=0.7)` produces the characteristic induction-head pattern we see in attention head `1.4`.\n",
        "* The second plot confirms that this pair is the only important one for influencing the attention pattern in `1.4`; all other pairs have very small contributions.\n",
        "</details>\n",
        "\n",
        "### Interpreting the full circuit\n",
        "\n",
        "Now we know that head `1.4` is composing with head `0.7` via K composition, we can multiply through to create a full circuit:\n",
        "\n",
        "$$\n",
        "W_E\\, W_{QK}^{1.4}\\, (W_{OV}^{0.7})^T\\, W_E^T\n",
        "$$\n",
        "\n",
        "and verify that it's the identity. (Note, when we say identity here, we're again thinking about it as a distribution over logits, so this should be taken to mean \"high diagonal values\", and we'll be using our previous metric of `top_1_acc`.)\n",
        "\n",
        "#### Question - why should this be the identity?\n",
        "\n",
        "<details>\n",
        "<summary>Answer</summary>\n",
        "\n",
        "This matrix is a bilinear form. Its diagonal elements $(A, A)$ are:\n",
        "\n",
        "$$\n",
        "A^T \\, W_E\\, W_{QK}^{1.4}\\, W_{OV}^{0.7}\\, W_E^T \\, A = \\underbrace{(A^T W_E W_Q^{1.4})}_{\\text{query}} \\underbrace{(A^T W_E W_{OV}^{0.7} W_K^{1.4})^T}_{\\text{key}}\n",
        "$$\n",
        "\n",
        "Intuitively, the query is saying **\"I'm looking for a token which followed $A$\"**, and the key is saying **\"I *am* a token which folllowed $A$\"** (recall that $A^T W_E W_{OV}^{0.7}$ is the vector which gets moved one position forward by our prev token head `0.7`).\n",
        "\n",
        "Now, consider the off-diagonal elements $(A, X)$ (for $X \\neq A$). We expect these to be small, because the key doesn't match the query:\n",
        "\n",
        "$$\n",
        "A^T \\, W_E\\, W_{QK}^{1.4}\\, W_{OV}^{0.7}\\, W_E^T \\, X = \\underbrace{(\\text{I'm looking for a token which followed A})}_\\text{query} \\boldsymbol{\\cdot} \\underbrace{(\\text{I am a token which followed X})}_{\\text{key}}\n",
        "$$\n",
        "\n",
        "\n",
        "Hence, we expect this to be the identity.\n",
        "\n",
        "An illustration:\n",
        "\n",
        "<img src=\"https://raw.githubusercontent.com/callummcdougall/computational-thread-art/master/example_images/misc/kcomp_diagram_described-K-last.png\" width=\"700\">\n",
        "\n",
        "<!-- ![kcomp_diagram_described-K.png](https://raw.githubusercontent.com/callummcdougall/computational-thread-art/master/example_images/misc/kcomp_diagram_described-K.png) -->\n",
        "</details>\n"
      ]
    },
    {
      "cell_type": "markdown",
      "metadata": {
        "id": "RtpIRXHxYjCO"
      },
      "source": [
        "### Exercise - compute the K-comp circuit\n",
        "\n",
        "```c\n",
        "Difficulty: 🔴🔴🔴⚪⚪\n",
        "Importance: 🔵🔵🔵🔵⚪\n",
        "\n",
        "You shouldn't spend more than 10-20 minutes on this exercise.\n",
        "```\n",
        "\n",
        "Calculate the matrix above, as a `FactoredMatrix` object.\n",
        "\n",
        "<details>\n",
        "<summary>Aside about multiplying FactoredMatrix objects together.</summary>\n",
        "\n",
        "If  `M1 = A1 @ B1` and `M2 = A2 @ B2` are factored matrices, then `M = M1 @ M2` returns a new factored matrix. This might be:\n",
        "\n",
        "```python\n",
        "FactoredMatrix(M1.AB @ M2.A, M2.B)\n",
        "```\n",
        "\n",
        "or it might be:\n",
        "\n",
        "```python\n",
        "FactoredMatrix(M1.A, M1.B @ M2.AB)\n",
        "```\n",
        "\n",
        "with these two objects corresponding to the factorisations $M = (A_1 B_1 A_2) (B_2)$ and $M = (A_1) (B_1 A_2 B_2)$ respectively.\n",
        "\n",
        "Which one gets returned depends on the size of the hidden dimension, e.g. `M1.mdim < M2.mdim` then the factorisation used will be $M = A_1 B_1 (A_2 B_2)$.\n",
        "\n",
        "Remember that both these factorisations are valid, and will give you the exact same SVD. The only reason to prefer one over the other is for computational efficiency (we prefer a smaller bottleneck dimension, because this determines the computational complexity of operations like finding SVD).\n",
        "</details>\n"
      ]
    },
    {
      "cell_type": "code",
      "execution_count": null,
      "metadata": {
        "colab": {
          "background_save": true
        },
        "id": "wDugzs6DZzHO"
      },
      "outputs": [],
      "source": [
        "def find_K_comp_full_circuit(\n",
        "    model: HookedTransformer,\n",
        "    prev_token_head_index: int,\n",
        "    ind_head_index: int\n",
        ") -> FactoredMatrix:\n",
        "    '''\n",
        "    Returns a (vocab, vocab)-size FactoredMatrix, with the first dimension being the query side and the second dimension being the key side (going via the previous token head)\n",
        "    '''\n",
        "    pass\n",
        "\n",
        "\n",
        "prev_token_head_index = 7\n",
        "ind_head_index = 4\n",
        "K_comp_circuit = find_K_comp_full_circuit(model, prev_token_head_index, ind_head_index)\n",
        "\n",
        "tests.test_find_K_comp_full_circuit(find_K_comp_full_circuit, model)\n",
        "\n",
        "print(f\"Fraction of tokens where the highest activating key is the same token: {top_1_acc(K_comp_circuit.T):.4f}\")"
      ]
    },
    {
      "cell_type": "markdown",
      "metadata": {
        "id": "HOfqDceLZXDC"
      },
      "source": [
        "You can also try this out for `ind_head_index = 10`. Do you get a better result?\n",
        "\n",
        "Note - unlike last time, it doesn't make sense to consider the \"effective circuit\" formed by adding together the weight matrices for heads `1.4` and `1.10`. Why not?\n",
        "\n",
        "<details>\n",
        "<summary>Answer</summary>\n",
        "\n",
        "Because the weight matrices we're dealing with here are from the QK circuit, not the OV circuit. These don't get combined in a linear way; instead we take softmax over each head's QK-circuit output individually.\n",
        "</details>\n",
        "\n",
        "## Further Exploration of Induction Circuits\n",
        "\n",
        "I now consider us to have fully reverse engineered an induction circuit - by both interpreting the features and by reverse engineering the circuit from the weights. But there's a bunch more ideas that we can apply for finding circuits in networks that are fun to practice on induction heads, so here's some bonus content - feel free to skip to the later bonus ideas though.\n",
        "\n",
        "### Composition scores\n",
        "\n",
        "A particularly cool idea in the paper is the idea of [virtual weights](https://transformer-circuits.pub/2021/framework/index.html#residual-comms), or compositional scores. (Though I came up with it, so I'm deeply biased!). This is used [to identify induction heads](https://transformer-circuits.pub/2021/framework/index.html#analyzing-a-two-layer-model).\n",
        "\n",
        "The key idea of compositional scores is that the residual stream is a large space, and each head is reading and writing from small subspaces. By default, any two heads will have little overlap between their subspaces (in the same way that any two random vectors have almost zero dot product in a large vector space). But if two heads are deliberately composing, then they will likely want to ensure they write and read from similar subspaces, so that minimal information is lost. As a result, we can just directly look at \"how much overlap there is\" between the output space of the earlier head and the K, Q, or V input space of the later head.\n",
        "\n",
        "We represent the **output space** with $W_{OV}=W_V W_O$. Call matrices like this $W_A$.\n",
        "\n",
        "We represent the **input space** with $W_{QK}=W_Q W_K^T$ (for Q-composition), $W_{QK}^T=W_K  W_Q^T$ (for K-Composition) or $W_{OV}=W_V W_O$ (for V-Composition, of the later head). Call matrices like these $W_B$ (we've used this notation so that $W_B$ refers to a later head, and $W_A$ to an earlier head).\n",
        "\n",
        "<details>\n",
        "<summary>Help - I don't understand what motivates these definitions.</summary>\n",
        "\n",
        "Recall that we can view each head as having three input wires (keys, queries and values), and one output wire (the outputs). The different forms of composition come from the fact that keys, queries and values can all be supplied from the output of a different head.\n",
        "\n",
        "Here is an illustration which shows the three different cases, and should also explain why we use this terminology. You might have to open it in a new tab to see it clearly.\n",
        "\n",
        "![composition](https://raw.githubusercontent.com/callummcdougall/computational-thread-art/master/example_images/misc/composition_new.png)\n",
        "\n",
        "</details>\n",
        "\n",
        "How do we formalise overlap? This is basically an open question, but a surprisingly good metric is $\\frac{\\|W_AW_B\\|_F}{\\|W_B\\|_F\\|W_A\\|_F}$ where $\\|W\\|_F=\\sum_{i,j}W_{i,j}^2$ is the Frobenius norm, the sum of squared elements. (If you're dying of curiosity as to what makes this a good metric, you can jump to the section immediately after the exercises below.)\n"
      ]
    },
    {
      "cell_type": "markdown",
      "metadata": {
        "id": "EtTTNIjEZZbm"
      },
      "source": [
        "### Exercise - calculate composition scores\n",
        "\n",
        "```c\n",
        "Difficulty: 🔴🔴🔴⚪⚪\n",
        "Importance: 🔵🔵🔵⚪⚪\n",
        "\n",
        "You shouldn't spend more than 15-25 minutes on these exercises.\n",
        "\n",
        "Writing a composition score function should be easy. The slightly harder part is getting the right weight matrices in the exercises that come after.\n",
        "```\n"
      ]
    },
    {
      "cell_type": "markdown",
      "metadata": {
        "id": "kebAzc1dWS2v"
      },
      "source": [
        "\n",
        "\n",
        "Let's calculate this metric for all pairs of heads in layer 0 and layer 1 for each of K, Q and V composition and plot it.\n",
        "\n",
        "We'll start by implementing this using plain old tensors (later on we'll see how this can be sped up using the `FactoredMatrix` class). We also won't worry about batching our calculations yet; we'll just do one matrix at a time.\n",
        "\n",
        "We've given you tensors `q_comp_scores` etc. to hold the composition scores for each of Q, K and V composition (i.e. the `[i, j]`th element of `q_comp_scores` is the Q-composition score between the output from the `i`th head in layer 0 and the input to the `j`th head in layer 1). You should complete the function `get_comp_score`, and then fill in each of these tensors.\n"
      ]
    },
    {
      "cell_type": "code",
      "execution_count": null,
      "metadata": {
        "id": "qirubY7ebN-p"
      },
      "outputs": [],
      "source": [
        "def get_comp_score(\n",
        "    W_A: Float[Tensor, \"in_A out_A\"],\n",
        "    W_B: Float[Tensor, \"out_A out_B\"]\n",
        ") -> float:\n",
        "    '''\n",
        "    Return the composition score between W_A and W_B.\n",
        "    '''\n",
        "    pass\n",
        "\n",
        "\n",
        "tests.test_get_comp_score(get_comp_score)"
      ]
    },
    {
      "cell_type": "markdown",
      "metadata": {
        "id": "Ohe2lvvAZZRG"
      },
      "source": [
        "Once you've passed the tests, you can fill in all the composition scores. Here you should just use a for loop, iterating over all possible pairs of `W_A` in layer 0 and `W_B` in layer 1, for each type of composition. Later on, we'll look at ways to batch this computation.\n"
      ]
    },
    {
      "cell_type": "code",
      "execution_count": null,
      "metadata": {
        "id": "NRud3669bRhU"
      },
      "outputs": [],
      "source": [
        "# Get all QK and OV matrices\n",
        "W_QK = model.W_Q @ model.W_K.transpose(-1, -2)\n",
        "W_OV = model.W_V @ model.W_O\n",
        "\n",
        "# Define tensors to hold the composition scores\n",
        "composition_scores = {\n",
        "    \"Q\": t.zeros(model.cfg.n_heads, model.cfg.n_heads).to(device),\n",
        "    \"K\": t.zeros(model.cfg.n_heads, model.cfg.n_heads).to(device),\n",
        "    \"V\": t.zeros(model.cfg.n_heads, model.cfg.n_heads).to(device),\n",
        "}\n",
        "\n",
        "# YOUR CODE HERE - fill in each tensor in the dictionary, by looping over W_A and W_B from layers 0 and 1\n",
        "\n",
        "for comp_type in \"QKV\":\n",
        "    plot_comp_scores(model, composition_scores[comp_type], f\"{comp_type} Composition Scores\")"
      ]
    },
    {
      "cell_type": "markdown",
      "metadata": {
        "id": "bmqFfxcihNnf"
      },
      "source": [
        "### Exercise - Setting a Baseline\n",
        "\n",
        "```c\n",
        "Difficulty: 🔴🔴⚪⚪⚪\n",
        "Importance: 🔵🔵⚪⚪⚪\n",
        "\n",
        "You shouldn't spend more than ~10 minutes on this exercise.\n",
        "```\n",
        "\n",
        "To interpret the above graphs we need a baseline! A good one is what the scores look like at initialisation. Make a function that randomly generates a composition score 200 times and tries this. Remember to generate 4 `[d_head, d_model]` matrices, not 2 `[d_model, d_model]` matrices! This model was initialised with **Kaiming Uniform Initialisation**:\n",
        "\n",
        "```python\n",
        "W = t.empty(shape)\n",
        "nn.init.kaiming_uniform_(W, a=np.sqrt(5))\n",
        "```\n",
        "\n",
        "(Ideally we'd do a more efficient generation involving batching, and more samples, but we won't worry about that yet.)\n"
      ]
    },
    {
      "cell_type": "code",
      "execution_count": null,
      "metadata": {
        "id": "hp6xeJsKbcfJ"
      },
      "outputs": [],
      "source": [
        "def generate_single_random_comp_score() -> float:\n",
        "    '''\n",
        "    Write a function which generates a single composition score for random matrices\n",
        "    '''\n",
        "    pass\n",
        "\n",
        "\n",
        "n_samples = 300\n",
        "comp_scores_baseline = np.zeros(n_samples)\n",
        "for i in tqdm(range(n_samples)):\n",
        "    comp_scores_baseline[i] = generate_single_random_comp_score()"
      ]
    },
    {
      "cell_type": "code",
      "source": [
        "print(\"\\nMean:\", comp_scores_baseline.mean())\n",
        "print(\"Std:\", comp_scores_baseline.std())\n",
        "\n",
        "hist(\n",
        "    comp_scores_baseline,\n",
        "    nbins=50,\n",
        "    width=800,\n",
        "    labels={\"x\": \"Composition score\"},\n",
        "    title=\"Random composition scores\"\n",
        ")"
      ],
      "metadata": {
        "id": "WF_7no3vuZ1D"
      },
      "execution_count": null,
      "outputs": []
    },
    {
      "cell_type": "markdown",
      "metadata": {
        "id": "gM60MEJbZZJV"
      },
      "source": [
        "We can re-plot our above graphs with this baseline set to white. Look for interesting things in this graph!\n"
      ]
    },
    {
      "cell_type": "code",
      "execution_count": null,
      "metadata": {
        "id": "KRwowjP1bmiq"
      },
      "outputs": [],
      "source": [
        "baseline = comp_scores_baseline.mean()\n",
        "for comp_type, comp_scores in composition_scores.items():\n",
        "    plot_comp_scores(model, comp_scores, f\"{comp_type} Composition Scores\", baseline=baseline)"
      ]
    },
    {
      "cell_type": "markdown",
      "metadata": {
        "id": "GoEhNjgU1GzI"
      },
      "source": [
        "<details>\n",
        "<summary>Some interesting things to observe:</summary>\n",
        "\n",
        "The most obvious thing that jumps out (when considered in the context of all the analysis we've done so far) is the K-composition scores. `0.7` (the prev token head) is strongly composing with `1.4` and `1.10` (the two attention heads). This is what we expect, and is a good indication that our composition scores are working as intended.\n",
        "\n",
        "Another interesting thing to note is that the V-composition scores for heads `1.4` and `1.10` with all other heads in layer 0 are very low. In the context of the induction circuit, this is a good thing - the OV circuits of our induction heads should be operating on the **embeddings**, rather than the outputs of the layer-0 heads. (If our repeating sequence is `A B ... A B`, then it's the QK circuit's job to make sure the second `A` attends to the first `B`, and it's the OV circuit's job to project the residual vector at that position onto the **embedding space** in order to extract the `B`-information, while hopefully ignoring anything else that has been written to that position by the heads in layer 0). So once again, this is a good sign for our composition scores.\n",
        "\n",
        "![small_comp](https://raw.githubusercontent.com/callummcdougall/computational-thread-art/master/example_images/misc/small_comp_diagram_last.png)\n",
        "\n",
        "</details>\n"
      ]
    },
    {
      "cell_type": "markdown",
      "metadata": {
        "id": "MPwEd6QzZY0Q"
      },
      "source": [
        "#### Theory + Efficient Implementation\n",
        "\n",
        "So, what's up with that metric? The key is a cute linear algebra result that the squared Frobenius norm is equal to the sum of the squared singular values.\n",
        "\n",
        "<details>\n",
        "<summary>Proof</summary>\n",
        "\n",
        "We'll give three different proofs:\n",
        "\n",
        "---\n",
        "\n",
        "##### Short sketch of proof\n",
        "\n",
        "Clearly $\\|M\\|_F^2$ equals the sum of squared singular values when $M$ is diagonal. The singular values of $M$ don't change when we multiply it by an orthogonal matrix (only the matrices $U$ and $V$ will change, not $S$), so it remains to show that the Frobenius norm also won't change when we multiply $M$ by an orthogonal matrix. But this follows from the fact that the Frobenius norm is the sum of the squared $l_2$ norms of the column vectors of $M$, and orthogonal matrices preserve $l_2$ norms. (If we're right-multiplying $M$ by an orthogonal matrix, then we instead view this as performing orthogonal operations on the row vectors of $M$, and the same argument holds.)\n",
        "\n",
        "---\n",
        "\n",
        "##### Long proof\n",
        "\n",
        "$$\n",
        "\\begin{aligned}\n",
        "\\|M\\|_F^2 &= \\sum_{ij}M_{ij}^2 \\\\\n",
        "&= \\sum_{ij}((USV^T)_{ij})^2 \\\\\n",
        "&= \\sum_{ij}\\bigg(\\sum_k U_{ik}S_{kk}V_{jk}\\bigg)^2 \\\\\n",
        "&= \\sum_{ijk_1 k_2}S_{k_1 k_1} S_{k_2 k_2} U_{i k_1} U_{i k_2} V_{j k_2} V_{j k_2} \\\\\n",
        "&= \\sum_{k_1 k_2}S_{k_1 k_1} S_{k_2 k_2} \\bigg(\\sum_i U_{i k_1} U_{i k_2}\\bigg)\\bigg(\\sum_j V_{j k_2} V_{j k_2}\\bigg) \\\\\n",
        "\\end{aligned}\n",
        "$$\n",
        "\n",
        "Each of the terms in large brackets is actually the dot product of columns of $U$ and $V$ respectively. Since these are orthogonal matrices, these terms evaluate to 1 when $k_1=k_2$ and 0 otherwise. So we are left with:\n",
        "\n",
        "$$\n",
        "\\|M\\|_F^2 = \\sum_{k}S_{k k}^2\n",
        "$$\n",
        "\n",
        "---\n",
        "\n",
        "##### Cute proof which uses the fact that the squared Frobenius norm $|M|^2$ is the same as the trace of $MM^T$\n",
        "\n",
        "$$\n",
        "\\|M\\|_F^2 = \\text{Tr}(MM^T) = \\text{Tr}(USV^TVSU^T) = \\text{Tr}(US^2U^T) = \\text{Tr}(S^2 U^T U) = \\text{Tr}(S^2) = \\|S\\|_F^2\n",
        "$$\n",
        "\n",
        "where we used the cyclicity of trace, and the fact that $U$ is orthogonal so $U^TU=I$ (and same for $V$). We finish by observing that $\\|S\\|_F^2$ is precisely the sum of the squared singular values.\n",
        "</details>\n"
      ]
    },
    {
      "cell_type": "markdown",
      "metadata": {
        "id": "ZDjv_GXUZYgt"
      },
      "source": [
        "So if $W_A=U_AS_AV_A^T$, $W_B=U_BS_BV_B^T$, then $\\|W_A\\|_F=\\|S_A\\|_F$, $\\|W_B\\|_F=\\|S_B\\|_F$ and $\\|W_AW_B\\|_F=\\|S_AV_A^TU_BS_B\\|_F$. In some sense, $V_A^TU_B$ represents how aligned the subspaces written to and read from are, and the $S_A$ and $S_B$ terms weights by the importance of those subspaces.\n",
        "\n",
        "<details>\n",
        "<summary>Click here, if this explanation still seems confusing.</summary>\n",
        "\n",
        "$U_B$ is a matrix of shape `[d_model, d_head]`. It represents **the subspace being read from**, i.e. our later head reads from the residual stream by projecting it onto the `d_head` columns of this matrix.\n",
        "\n",
        "$V_A$ is a matrix of shape `[d_model, d_head]`. It represents **the subspace being written to**, i.e. the thing written to the residual stream by our earlier head is a linear combination of the `d_head` column-vectors of $V_A$.\n",
        "\n",
        "$V_A^T U_B$ is a matrix of shape `[d_head, d_head]`. Each element of this matrix is formed by taking the dot product of two vectors of length `d_model`:\n",
        "\n",
        "* $v_i^A$, a column of $V_A$ (one of the vectors our earlier head embeds into the residual stream)\n",
        "* $u_j^B$, a column of $U_B$ (one of the vectors our later head projects the residual stream onto)\n",
        "\n",
        "Let the singular values of $S_A$ be $\\sigma_1^A, ..., \\sigma_k^A$ and similarly for $S_B$. Then:\n",
        "\n",
        "$$\n",
        "\\|S_A V_A^T U_B S_B\\|_F^2 = \\sum_{i,j=1}^k (\\sigma_i^A \\sigma_j^B)^2 \\|v^A_i \\cdot u^B_j\\|_F^2\n",
        "$$\n",
        "\n",
        "This is a weighted sum of the squared cosine similarity of the columns of $V_A$ and $U_B$ (i.e. the output directions of the earlier head and the input directions of the later head). The weights in this sum are given by the singular values of both $S_A$ and $S_B$ - i.e. if $v^A_i$ is an important output direction, **and** $u_B^i$ is an important input direction, then the composition score will be much higher when these two directions are aligned with each other.\n",
        "\n",
        "---\n",
        "\n",
        "To build intuition, let's consider a couple of extreme examples.\n",
        "\n",
        "* If there was no overlap between the spaces being written to and read from, then $V_A^T U_B$ would be a matrix of zeros (since every $v_i^A \\cdot u_j^B$ would be zero). This would mean that the composition score would be zero.\n",
        "* If there was perfect overlap, i.e. the span of the $v_i^A$ vectors and $u_j^B$ vectors is the same, then the composition score is large. It is as large as possible when the most important input directions and most important output directions line up (i.e. when the singular values $\\sigma_i^A$ and $\\sigma_j^B$ are in the same order).\n",
        "* If our matrices $W_A$ and $W_B$ were just rank 1 (i.e. $W_A = \\sigma_A u_A v_A^T$, and $W_B = \\sigma_B u_B v_B^T$), then the composition score is $|v_A^T u_B|$, in other words just the cosine similarity of the single output direction of $W_A$ and the single input direction of $W_B$.\n",
        "</details>\n"
      ]
    },
    {
      "cell_type": "markdown",
      "metadata": {
        "id": "Kpr8kEeGcTx_"
      },
      "source": [
        "### Exercise - batching, and using the `FactoredMatrix` class\n",
        "\n",
        "```c\n",
        "Difficulty: 🔴🔴🔴🔴⚪\n",
        "Importance: 🔵⚪⚪⚪⚪\n",
        "\n",
        "This exercise is optional, and not a vitally important conceptual part  of this section. It's also quite messy to rearrange our tensors in the right way! You are invited to skip it if you want.\n",
        "```\n"
      ]
    },
    {
      "cell_type": "markdown",
      "metadata": {
        "id": "F5Y7GgKWXPtA"
      },
      "source": [
        "We can also use this insight to write a more efficient way to calculate composition scores - this is extremely useful if you want to do this analysis at scale! The key is that we know that our matrices have a low rank factorisation, and it's much cheaper to calculate the SVD of a narrow matrix than one that's large in both dimensions. See the [algorithm described at the end of the paper](https://transformer-circuits.pub/2021/framework/index.html#induction-heads:~:text=Working%20with%20Low%2DRank%20Matrices) (search for SVD).\n",
        "\n",
        "So we can work with the `FactoredMatrix` class. This also provides the method `.norm()` which returns the Frobenium norm. This is also a good opportunity to bring back baching - this will sometimes be useful in our analysis. In the function below, `W_As` and `W_Bs` are both >2D factored matrices (e.g. they might represent the OV circuits for all heads in a particular layer, or across multiple layers), and the function's output should be a tensor of composition scores for each pair of matrices `(W_A, W_B)` in the >2D tensors `(W_As, W_Bs)`.\n"
      ]
    },
    {
      "cell_type": "code",
      "execution_count": null,
      "metadata": {
        "id": "Apc3rweMcVzc"
      },
      "outputs": [],
      "source": [
        "def get_batched_comp_scores(\n",
        "    W_As: FactoredMatrix,\n",
        "    W_Bs: FactoredMatrix\n",
        ") -> t.Tensor:\n",
        "    '''Computes the compositional scores from indexed factored matrices W_As and W_Bs.\n",
        "\n",
        "    Each of W_As and W_Bs is a FactoredMatrix object which is indexed by all but its last 2 dimensions, i.e.:\n",
        "        W_As.shape == (*A_idx, A_in, A_out)\n",
        "        W_Bs.shape == (*B_idx, B_in, B_out)\n",
        "        A_out == B_in\n",
        "\n",
        "    Return: tensor of shape (*A_idx, *B_idx) where the [*a_idx, *b_idx]th element is the compositional score from W_As[*a_idx] to W_Bs[*b_idx].\n",
        "    '''\n",
        "    pass\n",
        "\n",
        "\n",
        "W_QK = FactoredMatrix(model.W_Q, model.W_K.transpose(-1, -2))\n",
        "W_OV = FactoredMatrix(model.W_V, model.W_O)\n",
        "\n",
        "composition_scores_batched = dict()\n",
        "composition_scores_batched[\"Q\"] = get_batched_comp_scores(W_OV[0], W_QK[1])\n",
        "composition_scores_batched[\"K\"] = get_batched_comp_scores(W_OV[0], W_QK[1].T) # Factored matrix: .T is interpreted as transpose of the last two axes\n",
        "composition_scores_batched[\"V\"] = get_batched_comp_scores(W_OV[0], W_OV[1])\n",
        "\n",
        "t.testing.assert_close(composition_scores_batched[\"Q\"], composition_scores[\"Q\"])\n",
        "t.testing.assert_close(composition_scores_batched[\"K\"], composition_scores[\"K\"])\n",
        "t.testing.assert_close(composition_scores_batched[\"V\"], composition_scores[\"V\"])\n",
        "print(\"Tests passed - your `get_batched_comp_scores` function is working!\")"
      ]
    },
    {
      "cell_type": "markdown",
      "metadata": {
        "id": "Dlf9aXyYcZbg"
      },
      "source": [
        "<details>\n",
        "<summary>Hint</summary>\n",
        "\n",
        "Suppose `W_As` has shape `(A1, A2, ..., Am, A_in, A_out)` and `W_Bs` has shape `(B1, B2, ..., Bn, B_in, B_out)` (where `A_out == B_in`).\n",
        "\n",
        "It will be helpful to reshape these two tensors so that:\n",
        "\n",
        "```python\n",
        "W_As.shape == (A1*A2*...*Am, 1, A_in, A_out)\n",
        "W_Bs.shape == (1, B1*B2*...*Bn, B_in, B_out)\n",
        "```\n",
        "\n",
        "since we can then multiply them together as `W_As @ W_Bs` (broadcasting will take care of this for us!).\n",
        "\n",
        "To do the reshaping, the easiest way is to reshape `W_As.A` and `W_As.B`, and define a new `FactoredMatrix` from these reshaped tensors (and same for `W_Bs`).\n",
        "</details>\n"
      ]
    },
    {
      "cell_type": "markdown",
      "metadata": {
        "id": "PXad9JB6chPy"
      },
      "source": [
        "### Targeted Ablations\n",
        "\n",
        "We can refine the ablation technique to detect composition by looking at the effect of the ablation on the attention pattern of an induction head, rather than the loss. Let's implement this!\n",
        "\n",
        "Gotcha - by default, `run_with_hooks` removes any existing hooks when it runs. If you want to use caching, set the `reset_hooks_start` flag to False.\n"
      ]
    },
    {
      "cell_type": "code",
      "execution_count": null,
      "metadata": {
        "id": "vJcSO_PmcjF6"
      },
      "outputs": [],
      "source": [
        "seq_len = 50\n",
        "\n",
        "def ablation_induction_score(prev_head_index: Optional[int], ind_head_index: int) -> float:\n",
        "    '''\n",
        "    Takes as input the index of the L0 head and the index of the L1 head, and then runs with the previous token head ablated and returns the induction score for the ind_head_index now.\n",
        "    '''\n",
        "    def ablation_hook(v, hook):\n",
        "        if prev_head_index is not None:\n",
        "            v[:, :, prev_head_index] = 0.0\n",
        "        return v\n",
        "\n",
        "    def induction_pattern_hook(attn, hook):\n",
        "        hook.ctx[prev_head_index] = attn[0, ind_head_index].diag(-(seq_len - 1)).mean()\n",
        "\n",
        "    model.run_with_hooks(\n",
        "        rep_tokens,\n",
        "        fwd_hooks=[\n",
        "            (utils.get_act_name(\"v\", 0), ablation_hook),\n",
        "            (utils.get_act_name(\"pattern\", 1), induction_pattern_hook)\n",
        "        ],\n",
        "    )\n",
        "    return model.blocks[1].attn.hook_pattern.ctx[prev_head_index].item()\n",
        "\n",
        "\n",
        "baseline_induction_score = ablation_induction_score(None, 4)\n",
        "print(f\"Induction score for no ablations: {baseline_induction_score:.5f}\\n\")\n",
        "for i in range(model.cfg.n_heads):\n",
        "    new_induction_score = ablation_induction_score(i, 4)\n",
        "    induction_score_change = new_induction_score - baseline_induction_score\n",
        "    print(f\"Ablation score change for head {i:02}: {induction_score_change:+.5f}\")"
      ]
    },
    {
      "cell_type": "markdown",
      "metadata": {
        "id": "cZYSMQ--clXm"
      },
      "source": [
        "<details>\n",
        "<summary>Question - what is the interpretation of the results you're getting?</summary>\n",
        "\n",
        "You should have found that the induction score without any ablations is about 0.68, and that most other heads don't change the induction score by much when they are ablated, except for head 7 which reduces the induction score to nearly zero.\n",
        "\n",
        "This is another strong piece of evidence that head `0.7` is the prev token head in this induction circuit.\n",
        "</details>\n"
      ]
    },
    {
      "cell_type": "markdown",
      "metadata": {
        "id": "gF7BofwBcpmI"
      },
      "source": [
        "## Bonus\n",
        "\n",
        "### Looking for Circuits in Real LLMs\n",
        "\n",
        "A particularly cool application of these techniques is looking for real examples of circuits in large language models. Fortunately, there's a bunch of open source ones you can play around with in the `TransformerLens` library! Many of the techniques we've been using for our 2L transformer carry over to ones with more layers.\n",
        "\n",
        "This library should make it moderately easy to play around with these models - I recommend going wild and looking for interesting circuits!\n",
        "\n",
        "Some fun things you might want to try:\n",
        "\n",
        "- Look for induction heads - try repeating all of the steps from above. Do they follow the same algorithm?\n",
        "- Look for neurons that erase info\n",
        "    - i.e. having a high negative cosine similarity between the input and output weights\n",
        "- Try to interpret a position embedding.\n",
        "\n",
        "<details>\n",
        "<summary>Positional Embedding Hint</summary>\n",
        "\n",
        "Look at the singular value decomposition `t.svd` and plot the principal components over position space. High ones tend to be sine and cosine waves of different frequencies.\n",
        "</details>\n",
        "\n",
        "- Look for heads with interpretable attention patterns: e.g. heads that attend to the same word (or subsequent word) when given text in different languages, or the most recent proper noun, or the most recent full-stop, or the subject of the sentence, etc.\n",
        "    - Pick a head, ablate it, and run the model on a load of text with and without the head. Look for tokens with the largest difference in loss, and try to interpret what the head is doing.\n",
        "- Try replicating some of Kevin's work on indirect object identification.\n",
        "- Inspired by the [ROME paper](https://rome.baulab.info/), use the causal tracing technique of patching in the residual stream - can you analyse how the network answers different facts?\n",
        "\n",
        "Note: I apply several simplifications to the resulting transformer - these leave the model mathematically equivalent and doesn't change the output log probs, but does somewhat change the structure of the model and one change translates the output logits by a constant.\n",
        "\n",
        "<details>\n",
        "<summary>Model simplifications</summary>\n",
        "\n",
        "#### Centering $W_U$\n",
        "\n",
        "The output of $W_U$ is a $d_{vocab}$ vector (or tensor with that as the final dimension) which is fed into a softmax\n",
        "\n",
        "#### LayerNorm Folding\n",
        "\n",
        "LayerNorm is only applied at the start of a linear layer reading from the residual stream (eg query, key, value, mlp_in or unembed calculations)\n",
        "\n",
        "Each LayerNorm has the functional form $LN:\\mathbb{R}^n\\to\\mathbb{R}^n$,\n",
        "$LN(x)=s(x) * w_{ln} + b_{ln}$, where $*$ is element-wise multiply and $s(x)=\\frac{x-\\bar{x}}{|x-\\bar{x}|}$, and $w_{ln},b_{ln}$ are both vectors in $\\mathbb{R}^n$\n",
        "\n",
        "The linear layer has form $l:\\mathbb{R}^n\\to\\mathbb{R}^m$, $l(y)=Wy+b$ where $W\\in \\mathbb{R}^{m\\times n},b\\in \\mathbb{R}^m,y\\in\\mathbb{R}^n$\n",
        "\n",
        "So $f(LN(x))=W(w_{ln} * s(x)+b_{ln})+b=(W * w_{ln})s(x)+(Wb_{ln}+b)=W_{eff}s(x)+b_{eff}$, where $W_{eff}$ is the elementwise product of $W$ and $w_{ln}$ (showing that elementwise multiplication commutes like this is left as an exercise) and $b_{eff}=Wb_{ln}+b\\in \\mathbb{R}^m$.\n",
        "\n",
        "From the perspective of interpretability, it's much nicer to interpret the folded layer $W_{eff},b_{eff}$ - fundamentally, this is the computation being done, and there's no reason to expect $W$ or $w_{ln}$ to be meaningful on their own.\n",
        "</details>\n"
      ]
    },
    {
      "cell_type": "markdown",
      "metadata": {
        "id": "uhGTCGF4c4PQ"
      },
      "source": [
        "### Training Your Own Toy Models\n",
        "\n",
        "A fun exercise is training models on the minimal task that'll produce induction heads - predicting the next token in a sequence of random tokens with repeated subsequences. You can get a small 2L Attention-Only model to do this.\n",
        "\n",
        "<details>\n",
        "<summary>Tips</summary>\n",
        "\n",
        "* Make sure to randomise the positions that are repeated! Otherwise the model can just learn the boring algorithm of attending to fixed positions\n",
        "* It works better if you *only* evaluate loss on the repeated tokens, this makes the task less noisy.\n",
        "* It works best with several repeats of the same sequence rather than just one.\n",
        "* If you do things right, and give it finite data + weight decay, you *should* be able to get it to grok - this may take some hyper-parameter tuning though.\n",
        "* When I've done this I get weird franken-induction heads, where each head has 1/3 of an induction stripe, and together cover all tokens.\n",
        "* It'll work better if you only let the queries and keys access the positional embeddings, but *should* work either way.\n",
        "</details>\n"
      ]
    },
    {
      "cell_type": "markdown",
      "metadata": {
        "id": "4F95nL4ZhNni"
      },
      "source": [
        "### Interpreting Induction Heads During Training\n",
        "\n",
        "A particularly striking result about induction heads is that they consistently [form very abruptly in training as a phase change](https://transformer-circuits.pub/2022/in-context-learning-and-induction-heads/index.html#argument-phase-change), and are such an important capability that there is a [visible non-convex bump in the loss curve](https://wandb.ai/mechanistic-interpretability/attn-only/reports/loss_ewma-22-08-24-22-08-00---VmlldzoyNTI2MDM0?accessToken=r6v951q0e1l4q4o70wb2q67wopdyo3v69kz54siuw7lwb4jz6u732vo56h6dr7c2) (in this model, approx 2B to 4B tokens). I have a bunch of checkpoints for this model, you can try re-running the induction head detection techniques on intermediate checkpoints and see what happens. (Bonus points if you have good ideas for how to efficiently send a bunch of 300MB checkpoints from Wandb lol)\n"
      ]
    },
    {
      "cell_type": "markdown",
      "metadata": {
        "id": "4ykXRb9HhNni"
      },
      "source": [
        "### Further discussion / investigation\n",
        "\n",
        "Anthropic has written a post on [In-context Learning and Induction Heads](https://transformer-circuits.pub/2022/in-context-learning-and-induction-heads/index.html) which goes into much deeper discussion on induction heads. The post is structured around six different points of evidence for the hypothesis that **induction heads are the main source of in-context learning in transformer models**, even large ones. Briefly, these are:\n",
        "\n",
        "1. Transformers undergo a \"phase change\" where they suddenly become much better at in-context learning, and this is around the same time induction heads appear.\n",
        "2. When we change the transformer's architecture to make it easier for induction heads to form, we get a corresponding improvement in in-context learning.\n",
        "3. When we ablate induction heads at runtime, in-context learning gets worse.\n",
        "4. We have specific examples of induction heads performing more complex in-context learning algorithms (you'll have the opportunity to investigate one of these later - **indirect object identification**).\n",
        "5. We have a mechanistic explanation of induction heads, which suggests natural extensions to more general forms of in-context learning.\n",
        "6. In-context learning-related behaviour is generally smoothly continuous between small and large models, suggesting that the underlying mechanism is also the same.\n",
        "\n",
        "Here are a few questions for you:\n",
        "\n",
        "* How compelling do you find this evidence? Discuss with your partner.\n",
        "    * Which points do you find most compelling?\n",
        "    * Which do you find least compelling?\n",
        "    * Are there any subset of these which would be enough to convince you of the hypothesis, in the absence of others?\n",
        "* In point 3, the paper observes that in-context learning performance degrades when you ablate induction heads. While we measured this by testing the model's ability to copy a duplicated random sequence, the paper used **in-context learning score** (the loss of the 500th token in the context, minus the loss on the 50th token).\n",
        "    * Can you see why this is a reasonable metric?\n",
        "    * Can you replicate these results (maybe on a larger model than the 2-layer one we've been using)?\n",
        "* In point 4 (more complex forms of in-context learning), the paper suggests the natural extension of \"fuzzy induction heads\", which match patterns like `[A*][B*]...[A][B]` rather than `[A][B]...[A][B]` (where the `*` indicates some form of linguistic similarity, not necessarily being the same token).\n",
        "    * Can you think of any forms this might take, i.e. any kinds of similarity which induction heads might pick up on? Can you generate examples?\n"
      ]
    }
  ],
  "metadata": {
    "accelerator": "GPU",
    "colab": {
      "provenance": [],
      "collapsed_sections": [
        "B_KIvEj9BatC",
        "3whcqc4-B2i2",
        "c9dS0gMOGrOZ",
        "lGYJsGDMJKBk",
        "RJmvjLzqK75I"
      ],
      "include_colab_link": true
    },
    "gpuClass": "standard",
    "kernelspec": {
      "display_name": "Python 3",
      "name": "python3"
    },
    "language_info": {
      "codemirror_mode": {
        "name": "ipython",
        "version": 3
      },
      "file_extension": ".py",
      "mimetype": "text/x-python",
      "name": "python",
      "nbconvert_exporter": "python",
      "pygments_lexer": "ipython3",
      "version": "3.10.9"
    },
    "widgets": {
      "application/vnd.jupyter.widget-state+json": {
        "6467494d72c4473dab840050cdd9968e": {
          "model_module": "@jupyter-widgets/controls",
          "model_name": "HBoxModel",
          "model_module_version": "1.5.0",
          "state": {
            "_dom_classes": [],
            "_model_module": "@jupyter-widgets/controls",
            "_model_module_version": "1.5.0",
            "_model_name": "HBoxModel",
            "_view_count": null,
            "_view_module": "@jupyter-widgets/controls",
            "_view_module_version": "1.5.0",
            "_view_name": "HBoxView",
            "box_style": "",
            "children": [
              "IPY_MODEL_d98ebb9ddab74406b382b3bbcab9a275",
              "IPY_MODEL_7e9bcc6c896c40f0b7b268883317c43a",
              "IPY_MODEL_5e8d4a1123eb4d0289f90f6e8694e714"
            ],
            "layout": "IPY_MODEL_0bfa9e00837c44a588a145818d8d3e3e"
          }
        },
        "d98ebb9ddab74406b382b3bbcab9a275": {
          "model_module": "@jupyter-widgets/controls",
          "model_name": "HTMLModel",
          "model_module_version": "1.5.0",
          "state": {
            "_dom_classes": [],
            "_model_module": "@jupyter-widgets/controls",
            "_model_module_version": "1.5.0",
            "_model_name": "HTMLModel",
            "_view_count": null,
            "_view_module": "@jupyter-widgets/controls",
            "_view_module_version": "1.5.0",
            "_view_name": "HTMLView",
            "description": "",
            "description_tooltip": null,
            "layout": "IPY_MODEL_772d7dca984c42239844a32edc22440e",
            "placeholder": "​",
            "style": "IPY_MODEL_53562668a17c404eb42ab3fcbe4be4ad",
            "value": "config.json: 100%"
          }
        },
        "7e9bcc6c896c40f0b7b268883317c43a": {
          "model_module": "@jupyter-widgets/controls",
          "model_name": "FloatProgressModel",
          "model_module_version": "1.5.0",
          "state": {
            "_dom_classes": [],
            "_model_module": "@jupyter-widgets/controls",
            "_model_module_version": "1.5.0",
            "_model_name": "FloatProgressModel",
            "_view_count": null,
            "_view_module": "@jupyter-widgets/controls",
            "_view_module_version": "1.5.0",
            "_view_name": "ProgressView",
            "bar_style": "success",
            "description": "",
            "description_tooltip": null,
            "layout": "IPY_MODEL_874dca215264417094d93fc1d1035771",
            "max": 665,
            "min": 0,
            "orientation": "horizontal",
            "style": "IPY_MODEL_6f9fdf32b9ab4adb8b6f6475e216588d",
            "value": 665
          }
        },
        "5e8d4a1123eb4d0289f90f6e8694e714": {
          "model_module": "@jupyter-widgets/controls",
          "model_name": "HTMLModel",
          "model_module_version": "1.5.0",
          "state": {
            "_dom_classes": [],
            "_model_module": "@jupyter-widgets/controls",
            "_model_module_version": "1.5.0",
            "_model_name": "HTMLModel",
            "_view_count": null,
            "_view_module": "@jupyter-widgets/controls",
            "_view_module_version": "1.5.0",
            "_view_name": "HTMLView",
            "description": "",
            "description_tooltip": null,
            "layout": "IPY_MODEL_f6b66533b5124b86baa9883bf14ae245",
            "placeholder": "​",
            "style": "IPY_MODEL_dab747a148af4056b6b6ca3f83b722a9",
            "value": " 665/665 [00:00&lt;00:00, 36.3kB/s]"
          }
        },
        "0bfa9e00837c44a588a145818d8d3e3e": {
          "model_module": "@jupyter-widgets/base",
          "model_name": "LayoutModel",
          "model_module_version": "1.2.0",
          "state": {
            "_model_module": "@jupyter-widgets/base",
            "_model_module_version": "1.2.0",
            "_model_name": "LayoutModel",
            "_view_count": null,
            "_view_module": "@jupyter-widgets/base",
            "_view_module_version": "1.2.0",
            "_view_name": "LayoutView",
            "align_content": null,
            "align_items": null,
            "align_self": null,
            "border": null,
            "bottom": null,
            "display": null,
            "flex": null,
            "flex_flow": null,
            "grid_area": null,
            "grid_auto_columns": null,
            "grid_auto_flow": null,
            "grid_auto_rows": null,
            "grid_column": null,
            "grid_gap": null,
            "grid_row": null,
            "grid_template_areas": null,
            "grid_template_columns": null,
            "grid_template_rows": null,
            "height": null,
            "justify_content": null,
            "justify_items": null,
            "left": null,
            "margin": null,
            "max_height": null,
            "max_width": null,
            "min_height": null,
            "min_width": null,
            "object_fit": null,
            "object_position": null,
            "order": null,
            "overflow": null,
            "overflow_x": null,
            "overflow_y": null,
            "padding": null,
            "right": null,
            "top": null,
            "visibility": null,
            "width": null
          }
        },
        "772d7dca984c42239844a32edc22440e": {
          "model_module": "@jupyter-widgets/base",
          "model_name": "LayoutModel",
          "model_module_version": "1.2.0",
          "state": {
            "_model_module": "@jupyter-widgets/base",
            "_model_module_version": "1.2.0",
            "_model_name": "LayoutModel",
            "_view_count": null,
            "_view_module": "@jupyter-widgets/base",
            "_view_module_version": "1.2.0",
            "_view_name": "LayoutView",
            "align_content": null,
            "align_items": null,
            "align_self": null,
            "border": null,
            "bottom": null,
            "display": null,
            "flex": null,
            "flex_flow": null,
            "grid_area": null,
            "grid_auto_columns": null,
            "grid_auto_flow": null,
            "grid_auto_rows": null,
            "grid_column": null,
            "grid_gap": null,
            "grid_row": null,
            "grid_template_areas": null,
            "grid_template_columns": null,
            "grid_template_rows": null,
            "height": null,
            "justify_content": null,
            "justify_items": null,
            "left": null,
            "margin": null,
            "max_height": null,
            "max_width": null,
            "min_height": null,
            "min_width": null,
            "object_fit": null,
            "object_position": null,
            "order": null,
            "overflow": null,
            "overflow_x": null,
            "overflow_y": null,
            "padding": null,
            "right": null,
            "top": null,
            "visibility": null,
            "width": null
          }
        },
        "53562668a17c404eb42ab3fcbe4be4ad": {
          "model_module": "@jupyter-widgets/controls",
          "model_name": "DescriptionStyleModel",
          "model_module_version": "1.5.0",
          "state": {
            "_model_module": "@jupyter-widgets/controls",
            "_model_module_version": "1.5.0",
            "_model_name": "DescriptionStyleModel",
            "_view_count": null,
            "_view_module": "@jupyter-widgets/base",
            "_view_module_version": "1.2.0",
            "_view_name": "StyleView",
            "description_width": ""
          }
        },
        "874dca215264417094d93fc1d1035771": {
          "model_module": "@jupyter-widgets/base",
          "model_name": "LayoutModel",
          "model_module_version": "1.2.0",
          "state": {
            "_model_module": "@jupyter-widgets/base",
            "_model_module_version": "1.2.0",
            "_model_name": "LayoutModel",
            "_view_count": null,
            "_view_module": "@jupyter-widgets/base",
            "_view_module_version": "1.2.0",
            "_view_name": "LayoutView",
            "align_content": null,
            "align_items": null,
            "align_self": null,
            "border": null,
            "bottom": null,
            "display": null,
            "flex": null,
            "flex_flow": null,
            "grid_area": null,
            "grid_auto_columns": null,
            "grid_auto_flow": null,
            "grid_auto_rows": null,
            "grid_column": null,
            "grid_gap": null,
            "grid_row": null,
            "grid_template_areas": null,
            "grid_template_columns": null,
            "grid_template_rows": null,
            "height": null,
            "justify_content": null,
            "justify_items": null,
            "left": null,
            "margin": null,
            "max_height": null,
            "max_width": null,
            "min_height": null,
            "min_width": null,
            "object_fit": null,
            "object_position": null,
            "order": null,
            "overflow": null,
            "overflow_x": null,
            "overflow_y": null,
            "padding": null,
            "right": null,
            "top": null,
            "visibility": null,
            "width": null
          }
        },
        "6f9fdf32b9ab4adb8b6f6475e216588d": {
          "model_module": "@jupyter-widgets/controls",
          "model_name": "ProgressStyleModel",
          "model_module_version": "1.5.0",
          "state": {
            "_model_module": "@jupyter-widgets/controls",
            "_model_module_version": "1.5.0",
            "_model_name": "ProgressStyleModel",
            "_view_count": null,
            "_view_module": "@jupyter-widgets/base",
            "_view_module_version": "1.2.0",
            "_view_name": "StyleView",
            "bar_color": null,
            "description_width": ""
          }
        },
        "f6b66533b5124b86baa9883bf14ae245": {
          "model_module": "@jupyter-widgets/base",
          "model_name": "LayoutModel",
          "model_module_version": "1.2.0",
          "state": {
            "_model_module": "@jupyter-widgets/base",
            "_model_module_version": "1.2.0",
            "_model_name": "LayoutModel",
            "_view_count": null,
            "_view_module": "@jupyter-widgets/base",
            "_view_module_version": "1.2.0",
            "_view_name": "LayoutView",
            "align_content": null,
            "align_items": null,
            "align_self": null,
            "border": null,
            "bottom": null,
            "display": null,
            "flex": null,
            "flex_flow": null,
            "grid_area": null,
            "grid_auto_columns": null,
            "grid_auto_flow": null,
            "grid_auto_rows": null,
            "grid_column": null,
            "grid_gap": null,
            "grid_row": null,
            "grid_template_areas": null,
            "grid_template_columns": null,
            "grid_template_rows": null,
            "height": null,
            "justify_content": null,
            "justify_items": null,
            "left": null,
            "margin": null,
            "max_height": null,
            "max_width": null,
            "min_height": null,
            "min_width": null,
            "object_fit": null,
            "object_position": null,
            "order": null,
            "overflow": null,
            "overflow_x": null,
            "overflow_y": null,
            "padding": null,
            "right": null,
            "top": null,
            "visibility": null,
            "width": null
          }
        },
        "dab747a148af4056b6b6ca3f83b722a9": {
          "model_module": "@jupyter-widgets/controls",
          "model_name": "DescriptionStyleModel",
          "model_module_version": "1.5.0",
          "state": {
            "_model_module": "@jupyter-widgets/controls",
            "_model_module_version": "1.5.0",
            "_model_name": "DescriptionStyleModel",
            "_view_count": null,
            "_view_module": "@jupyter-widgets/base",
            "_view_module_version": "1.2.0",
            "_view_name": "StyleView",
            "description_width": ""
          }
        },
        "d4112fd583f44706af37bd68becc288c": {
          "model_module": "@jupyter-widgets/controls",
          "model_name": "HBoxModel",
          "model_module_version": "1.5.0",
          "state": {
            "_dom_classes": [],
            "_model_module": "@jupyter-widgets/controls",
            "_model_module_version": "1.5.0",
            "_model_name": "HBoxModel",
            "_view_count": null,
            "_view_module": "@jupyter-widgets/controls",
            "_view_module_version": "1.5.0",
            "_view_name": "HBoxView",
            "box_style": "",
            "children": [
              "IPY_MODEL_1e9e3076c1574e0182766d3ea5c604c6",
              "IPY_MODEL_0da2c3d594e44c9ca542904d0d8d75ea",
              "IPY_MODEL_67fe32da43ba46ad9c101098c1103a29"
            ],
            "layout": "IPY_MODEL_54a3f17e036c4b7dad3827351029d654"
          }
        },
        "1e9e3076c1574e0182766d3ea5c604c6": {
          "model_module": "@jupyter-widgets/controls",
          "model_name": "HTMLModel",
          "model_module_version": "1.5.0",
          "state": {
            "_dom_classes": [],
            "_model_module": "@jupyter-widgets/controls",
            "_model_module_version": "1.5.0",
            "_model_name": "HTMLModel",
            "_view_count": null,
            "_view_module": "@jupyter-widgets/controls",
            "_view_module_version": "1.5.0",
            "_view_name": "HTMLView",
            "description": "",
            "description_tooltip": null,
            "layout": "IPY_MODEL_7c9704f5b550420791ac385a858b1960",
            "placeholder": "​",
            "style": "IPY_MODEL_0b28fcc417804ec4ba0866998a50f93d",
            "value": "model.safetensors: 100%"
          }
        },
        "0da2c3d594e44c9ca542904d0d8d75ea": {
          "model_module": "@jupyter-widgets/controls",
          "model_name": "FloatProgressModel",
          "model_module_version": "1.5.0",
          "state": {
            "_dom_classes": [],
            "_model_module": "@jupyter-widgets/controls",
            "_model_module_version": "1.5.0",
            "_model_name": "FloatProgressModel",
            "_view_count": null,
            "_view_module": "@jupyter-widgets/controls",
            "_view_module_version": "1.5.0",
            "_view_name": "ProgressView",
            "bar_style": "success",
            "description": "",
            "description_tooltip": null,
            "layout": "IPY_MODEL_328583df454148a1959dda674e354225",
            "max": 548105171,
            "min": 0,
            "orientation": "horizontal",
            "style": "IPY_MODEL_1e9d00a094d747d7b7f6b4f8a3e32bc4",
            "value": 548105171
          }
        },
        "67fe32da43ba46ad9c101098c1103a29": {
          "model_module": "@jupyter-widgets/controls",
          "model_name": "HTMLModel",
          "model_module_version": "1.5.0",
          "state": {
            "_dom_classes": [],
            "_model_module": "@jupyter-widgets/controls",
            "_model_module_version": "1.5.0",
            "_model_name": "HTMLModel",
            "_view_count": null,
            "_view_module": "@jupyter-widgets/controls",
            "_view_module_version": "1.5.0",
            "_view_name": "HTMLView",
            "description": "",
            "description_tooltip": null,
            "layout": "IPY_MODEL_fda938cf14fa4714bafb0d77b78fa181",
            "placeholder": "​",
            "style": "IPY_MODEL_7855b0d8a64140afa3610c45d0788bb5",
            "value": " 548M/548M [00:04&lt;00:00, 171MB/s]"
          }
        },
        "54a3f17e036c4b7dad3827351029d654": {
          "model_module": "@jupyter-widgets/base",
          "model_name": "LayoutModel",
          "model_module_version": "1.2.0",
          "state": {
            "_model_module": "@jupyter-widgets/base",
            "_model_module_version": "1.2.0",
            "_model_name": "LayoutModel",
            "_view_count": null,
            "_view_module": "@jupyter-widgets/base",
            "_view_module_version": "1.2.0",
            "_view_name": "LayoutView",
            "align_content": null,
            "align_items": null,
            "align_self": null,
            "border": null,
            "bottom": null,
            "display": null,
            "flex": null,
            "flex_flow": null,
            "grid_area": null,
            "grid_auto_columns": null,
            "grid_auto_flow": null,
            "grid_auto_rows": null,
            "grid_column": null,
            "grid_gap": null,
            "grid_row": null,
            "grid_template_areas": null,
            "grid_template_columns": null,
            "grid_template_rows": null,
            "height": null,
            "justify_content": null,
            "justify_items": null,
            "left": null,
            "margin": null,
            "max_height": null,
            "max_width": null,
            "min_height": null,
            "min_width": null,
            "object_fit": null,
            "object_position": null,
            "order": null,
            "overflow": null,
            "overflow_x": null,
            "overflow_y": null,
            "padding": null,
            "right": null,
            "top": null,
            "visibility": null,
            "width": null
          }
        },
        "7c9704f5b550420791ac385a858b1960": {
          "model_module": "@jupyter-widgets/base",
          "model_name": "LayoutModel",
          "model_module_version": "1.2.0",
          "state": {
            "_model_module": "@jupyter-widgets/base",
            "_model_module_version": "1.2.0",
            "_model_name": "LayoutModel",
            "_view_count": null,
            "_view_module": "@jupyter-widgets/base",
            "_view_module_version": "1.2.0",
            "_view_name": "LayoutView",
            "align_content": null,
            "align_items": null,
            "align_self": null,
            "border": null,
            "bottom": null,
            "display": null,
            "flex": null,
            "flex_flow": null,
            "grid_area": null,
            "grid_auto_columns": null,
            "grid_auto_flow": null,
            "grid_auto_rows": null,
            "grid_column": null,
            "grid_gap": null,
            "grid_row": null,
            "grid_template_areas": null,
            "grid_template_columns": null,
            "grid_template_rows": null,
            "height": null,
            "justify_content": null,
            "justify_items": null,
            "left": null,
            "margin": null,
            "max_height": null,
            "max_width": null,
            "min_height": null,
            "min_width": null,
            "object_fit": null,
            "object_position": null,
            "order": null,
            "overflow": null,
            "overflow_x": null,
            "overflow_y": null,
            "padding": null,
            "right": null,
            "top": null,
            "visibility": null,
            "width": null
          }
        },
        "0b28fcc417804ec4ba0866998a50f93d": {
          "model_module": "@jupyter-widgets/controls",
          "model_name": "DescriptionStyleModel",
          "model_module_version": "1.5.0",
          "state": {
            "_model_module": "@jupyter-widgets/controls",
            "_model_module_version": "1.5.0",
            "_model_name": "DescriptionStyleModel",
            "_view_count": null,
            "_view_module": "@jupyter-widgets/base",
            "_view_module_version": "1.2.0",
            "_view_name": "StyleView",
            "description_width": ""
          }
        },
        "328583df454148a1959dda674e354225": {
          "model_module": "@jupyter-widgets/base",
          "model_name": "LayoutModel",
          "model_module_version": "1.2.0",
          "state": {
            "_model_module": "@jupyter-widgets/base",
            "_model_module_version": "1.2.0",
            "_model_name": "LayoutModel",
            "_view_count": null,
            "_view_module": "@jupyter-widgets/base",
            "_view_module_version": "1.2.0",
            "_view_name": "LayoutView",
            "align_content": null,
            "align_items": null,
            "align_self": null,
            "border": null,
            "bottom": null,
            "display": null,
            "flex": null,
            "flex_flow": null,
            "grid_area": null,
            "grid_auto_columns": null,
            "grid_auto_flow": null,
            "grid_auto_rows": null,
            "grid_column": null,
            "grid_gap": null,
            "grid_row": null,
            "grid_template_areas": null,
            "grid_template_columns": null,
            "grid_template_rows": null,
            "height": null,
            "justify_content": null,
            "justify_items": null,
            "left": null,
            "margin": null,
            "max_height": null,
            "max_width": null,
            "min_height": null,
            "min_width": null,
            "object_fit": null,
            "object_position": null,
            "order": null,
            "overflow": null,
            "overflow_x": null,
            "overflow_y": null,
            "padding": null,
            "right": null,
            "top": null,
            "visibility": null,
            "width": null
          }
        },
        "1e9d00a094d747d7b7f6b4f8a3e32bc4": {
          "model_module": "@jupyter-widgets/controls",
          "model_name": "ProgressStyleModel",
          "model_module_version": "1.5.0",
          "state": {
            "_model_module": "@jupyter-widgets/controls",
            "_model_module_version": "1.5.0",
            "_model_name": "ProgressStyleModel",
            "_view_count": null,
            "_view_module": "@jupyter-widgets/base",
            "_view_module_version": "1.2.0",
            "_view_name": "StyleView",
            "bar_color": null,
            "description_width": ""
          }
        },
        "fda938cf14fa4714bafb0d77b78fa181": {
          "model_module": "@jupyter-widgets/base",
          "model_name": "LayoutModel",
          "model_module_version": "1.2.0",
          "state": {
            "_model_module": "@jupyter-widgets/base",
            "_model_module_version": "1.2.0",
            "_model_name": "LayoutModel",
            "_view_count": null,
            "_view_module": "@jupyter-widgets/base",
            "_view_module_version": "1.2.0",
            "_view_name": "LayoutView",
            "align_content": null,
            "align_items": null,
            "align_self": null,
            "border": null,
            "bottom": null,
            "display": null,
            "flex": null,
            "flex_flow": null,
            "grid_area": null,
            "grid_auto_columns": null,
            "grid_auto_flow": null,
            "grid_auto_rows": null,
            "grid_column": null,
            "grid_gap": null,
            "grid_row": null,
            "grid_template_areas": null,
            "grid_template_columns": null,
            "grid_template_rows": null,
            "height": null,
            "justify_content": null,
            "justify_items": null,
            "left": null,
            "margin": null,
            "max_height": null,
            "max_width": null,
            "min_height": null,
            "min_width": null,
            "object_fit": null,
            "object_position": null,
            "order": null,
            "overflow": null,
            "overflow_x": null,
            "overflow_y": null,
            "padding": null,
            "right": null,
            "top": null,
            "visibility": null,
            "width": null
          }
        },
        "7855b0d8a64140afa3610c45d0788bb5": {
          "model_module": "@jupyter-widgets/controls",
          "model_name": "DescriptionStyleModel",
          "model_module_version": "1.5.0",
          "state": {
            "_model_module": "@jupyter-widgets/controls",
            "_model_module_version": "1.5.0",
            "_model_name": "DescriptionStyleModel",
            "_view_count": null,
            "_view_module": "@jupyter-widgets/base",
            "_view_module_version": "1.2.0",
            "_view_name": "StyleView",
            "description_width": ""
          }
        },
        "d6c0d7dff8b7450da01711546580ec2e": {
          "model_module": "@jupyter-widgets/controls",
          "model_name": "HBoxModel",
          "model_module_version": "1.5.0",
          "state": {
            "_dom_classes": [],
            "_model_module": "@jupyter-widgets/controls",
            "_model_module_version": "1.5.0",
            "_model_name": "HBoxModel",
            "_view_count": null,
            "_view_module": "@jupyter-widgets/controls",
            "_view_module_version": "1.5.0",
            "_view_name": "HBoxView",
            "box_style": "",
            "children": [
              "IPY_MODEL_45cc3ef430a14b039dba83d16ce30a8a",
              "IPY_MODEL_bed5c34b62c34a45b202ae83f5c2acee",
              "IPY_MODEL_8b53ba038e5b4aaaa30ef5a0124711e5"
            ],
            "layout": "IPY_MODEL_003cca16dca14a1db48a7308ec28ab13"
          }
        },
        "45cc3ef430a14b039dba83d16ce30a8a": {
          "model_module": "@jupyter-widgets/controls",
          "model_name": "HTMLModel",
          "model_module_version": "1.5.0",
          "state": {
            "_dom_classes": [],
            "_model_module": "@jupyter-widgets/controls",
            "_model_module_version": "1.5.0",
            "_model_name": "HTMLModel",
            "_view_count": null,
            "_view_module": "@jupyter-widgets/controls",
            "_view_module_version": "1.5.0",
            "_view_name": "HTMLView",
            "description": "",
            "description_tooltip": null,
            "layout": "IPY_MODEL_7a962c2789cc4c599c3f4983423516e0",
            "placeholder": "​",
            "style": "IPY_MODEL_2614517e97d4460d8dd06962cadaefce",
            "value": "generation_config.json: 100%"
          }
        },
        "bed5c34b62c34a45b202ae83f5c2acee": {
          "model_module": "@jupyter-widgets/controls",
          "model_name": "FloatProgressModel",
          "model_module_version": "1.5.0",
          "state": {
            "_dom_classes": [],
            "_model_module": "@jupyter-widgets/controls",
            "_model_module_version": "1.5.0",
            "_model_name": "FloatProgressModel",
            "_view_count": null,
            "_view_module": "@jupyter-widgets/controls",
            "_view_module_version": "1.5.0",
            "_view_name": "ProgressView",
            "bar_style": "success",
            "description": "",
            "description_tooltip": null,
            "layout": "IPY_MODEL_1e52aaaf5da54df8baa6c0a8e1168504",
            "max": 124,
            "min": 0,
            "orientation": "horizontal",
            "style": "IPY_MODEL_c159b26671fa49e5a0f80382a9de7589",
            "value": 124
          }
        },
        "8b53ba038e5b4aaaa30ef5a0124711e5": {
          "model_module": "@jupyter-widgets/controls",
          "model_name": "HTMLModel",
          "model_module_version": "1.5.0",
          "state": {
            "_dom_classes": [],
            "_model_module": "@jupyter-widgets/controls",
            "_model_module_version": "1.5.0",
            "_model_name": "HTMLModel",
            "_view_count": null,
            "_view_module": "@jupyter-widgets/controls",
            "_view_module_version": "1.5.0",
            "_view_name": "HTMLView",
            "description": "",
            "description_tooltip": null,
            "layout": "IPY_MODEL_d9fdc86997e64156bfc90c1d365c754b",
            "placeholder": "​",
            "style": "IPY_MODEL_823c9830f01e4ff595075f42efa7b1ef",
            "value": " 124/124 [00:00&lt;00:00, 4.46kB/s]"
          }
        },
        "003cca16dca14a1db48a7308ec28ab13": {
          "model_module": "@jupyter-widgets/base",
          "model_name": "LayoutModel",
          "model_module_version": "1.2.0",
          "state": {
            "_model_module": "@jupyter-widgets/base",
            "_model_module_version": "1.2.0",
            "_model_name": "LayoutModel",
            "_view_count": null,
            "_view_module": "@jupyter-widgets/base",
            "_view_module_version": "1.2.0",
            "_view_name": "LayoutView",
            "align_content": null,
            "align_items": null,
            "align_self": null,
            "border": null,
            "bottom": null,
            "display": null,
            "flex": null,
            "flex_flow": null,
            "grid_area": null,
            "grid_auto_columns": null,
            "grid_auto_flow": null,
            "grid_auto_rows": null,
            "grid_column": null,
            "grid_gap": null,
            "grid_row": null,
            "grid_template_areas": null,
            "grid_template_columns": null,
            "grid_template_rows": null,
            "height": null,
            "justify_content": null,
            "justify_items": null,
            "left": null,
            "margin": null,
            "max_height": null,
            "max_width": null,
            "min_height": null,
            "min_width": null,
            "object_fit": null,
            "object_position": null,
            "order": null,
            "overflow": null,
            "overflow_x": null,
            "overflow_y": null,
            "padding": null,
            "right": null,
            "top": null,
            "visibility": null,
            "width": null
          }
        },
        "7a962c2789cc4c599c3f4983423516e0": {
          "model_module": "@jupyter-widgets/base",
          "model_name": "LayoutModel",
          "model_module_version": "1.2.0",
          "state": {
            "_model_module": "@jupyter-widgets/base",
            "_model_module_version": "1.2.0",
            "_model_name": "LayoutModel",
            "_view_count": null,
            "_view_module": "@jupyter-widgets/base",
            "_view_module_version": "1.2.0",
            "_view_name": "LayoutView",
            "align_content": null,
            "align_items": null,
            "align_self": null,
            "border": null,
            "bottom": null,
            "display": null,
            "flex": null,
            "flex_flow": null,
            "grid_area": null,
            "grid_auto_columns": null,
            "grid_auto_flow": null,
            "grid_auto_rows": null,
            "grid_column": null,
            "grid_gap": null,
            "grid_row": null,
            "grid_template_areas": null,
            "grid_template_columns": null,
            "grid_template_rows": null,
            "height": null,
            "justify_content": null,
            "justify_items": null,
            "left": null,
            "margin": null,
            "max_height": null,
            "max_width": null,
            "min_height": null,
            "min_width": null,
            "object_fit": null,
            "object_position": null,
            "order": null,
            "overflow": null,
            "overflow_x": null,
            "overflow_y": null,
            "padding": null,
            "right": null,
            "top": null,
            "visibility": null,
            "width": null
          }
        },
        "2614517e97d4460d8dd06962cadaefce": {
          "model_module": "@jupyter-widgets/controls",
          "model_name": "DescriptionStyleModel",
          "model_module_version": "1.5.0",
          "state": {
            "_model_module": "@jupyter-widgets/controls",
            "_model_module_version": "1.5.0",
            "_model_name": "DescriptionStyleModel",
            "_view_count": null,
            "_view_module": "@jupyter-widgets/base",
            "_view_module_version": "1.2.0",
            "_view_name": "StyleView",
            "description_width": ""
          }
        },
        "1e52aaaf5da54df8baa6c0a8e1168504": {
          "model_module": "@jupyter-widgets/base",
          "model_name": "LayoutModel",
          "model_module_version": "1.2.0",
          "state": {
            "_model_module": "@jupyter-widgets/base",
            "_model_module_version": "1.2.0",
            "_model_name": "LayoutModel",
            "_view_count": null,
            "_view_module": "@jupyter-widgets/base",
            "_view_module_version": "1.2.0",
            "_view_name": "LayoutView",
            "align_content": null,
            "align_items": null,
            "align_self": null,
            "border": null,
            "bottom": null,
            "display": null,
            "flex": null,
            "flex_flow": null,
            "grid_area": null,
            "grid_auto_columns": null,
            "grid_auto_flow": null,
            "grid_auto_rows": null,
            "grid_column": null,
            "grid_gap": null,
            "grid_row": null,
            "grid_template_areas": null,
            "grid_template_columns": null,
            "grid_template_rows": null,
            "height": null,
            "justify_content": null,
            "justify_items": null,
            "left": null,
            "margin": null,
            "max_height": null,
            "max_width": null,
            "min_height": null,
            "min_width": null,
            "object_fit": null,
            "object_position": null,
            "order": null,
            "overflow": null,
            "overflow_x": null,
            "overflow_y": null,
            "padding": null,
            "right": null,
            "top": null,
            "visibility": null,
            "width": null
          }
        },
        "c159b26671fa49e5a0f80382a9de7589": {
          "model_module": "@jupyter-widgets/controls",
          "model_name": "ProgressStyleModel",
          "model_module_version": "1.5.0",
          "state": {
            "_model_module": "@jupyter-widgets/controls",
            "_model_module_version": "1.5.0",
            "_model_name": "ProgressStyleModel",
            "_view_count": null,
            "_view_module": "@jupyter-widgets/base",
            "_view_module_version": "1.2.0",
            "_view_name": "StyleView",
            "bar_color": null,
            "description_width": ""
          }
        },
        "d9fdc86997e64156bfc90c1d365c754b": {
          "model_module": "@jupyter-widgets/base",
          "model_name": "LayoutModel",
          "model_module_version": "1.2.0",
          "state": {
            "_model_module": "@jupyter-widgets/base",
            "_model_module_version": "1.2.0",
            "_model_name": "LayoutModel",
            "_view_count": null,
            "_view_module": "@jupyter-widgets/base",
            "_view_module_version": "1.2.0",
            "_view_name": "LayoutView",
            "align_content": null,
            "align_items": null,
            "align_self": null,
            "border": null,
            "bottom": null,
            "display": null,
            "flex": null,
            "flex_flow": null,
            "grid_area": null,
            "grid_auto_columns": null,
            "grid_auto_flow": null,
            "grid_auto_rows": null,
            "grid_column": null,
            "grid_gap": null,
            "grid_row": null,
            "grid_template_areas": null,
            "grid_template_columns": null,
            "grid_template_rows": null,
            "height": null,
            "justify_content": null,
            "justify_items": null,
            "left": null,
            "margin": null,
            "max_height": null,
            "max_width": null,
            "min_height": null,
            "min_width": null,
            "object_fit": null,
            "object_position": null,
            "order": null,
            "overflow": null,
            "overflow_x": null,
            "overflow_y": null,
            "padding": null,
            "right": null,
            "top": null,
            "visibility": null,
            "width": null
          }
        },
        "823c9830f01e4ff595075f42efa7b1ef": {
          "model_module": "@jupyter-widgets/controls",
          "model_name": "DescriptionStyleModel",
          "model_module_version": "1.5.0",
          "state": {
            "_model_module": "@jupyter-widgets/controls",
            "_model_module_version": "1.5.0",
            "_model_name": "DescriptionStyleModel",
            "_view_count": null,
            "_view_module": "@jupyter-widgets/base",
            "_view_module_version": "1.2.0",
            "_view_name": "StyleView",
            "description_width": ""
          }
        },
        "2c185a70a7994c64985a6bdf373d6015": {
          "model_module": "@jupyter-widgets/controls",
          "model_name": "HBoxModel",
          "model_module_version": "1.5.0",
          "state": {
            "_dom_classes": [],
            "_model_module": "@jupyter-widgets/controls",
            "_model_module_version": "1.5.0",
            "_model_name": "HBoxModel",
            "_view_count": null,
            "_view_module": "@jupyter-widgets/controls",
            "_view_module_version": "1.5.0",
            "_view_name": "HBoxView",
            "box_style": "",
            "children": [
              "IPY_MODEL_5acfe9fc76134aca9a4a23a6c4a760f3",
              "IPY_MODEL_6eee037566574cc886dff428bc936a79",
              "IPY_MODEL_795aa41453f74a61aac69a28c08ba999"
            ],
            "layout": "IPY_MODEL_da405ed3140845ddb9b98272d24e2487"
          }
        },
        "5acfe9fc76134aca9a4a23a6c4a760f3": {
          "model_module": "@jupyter-widgets/controls",
          "model_name": "HTMLModel",
          "model_module_version": "1.5.0",
          "state": {
            "_dom_classes": [],
            "_model_module": "@jupyter-widgets/controls",
            "_model_module_version": "1.5.0",
            "_model_name": "HTMLModel",
            "_view_count": null,
            "_view_module": "@jupyter-widgets/controls",
            "_view_module_version": "1.5.0",
            "_view_name": "HTMLView",
            "description": "",
            "description_tooltip": null,
            "layout": "IPY_MODEL_a5336fe7e702423783cb9bcfe0902626",
            "placeholder": "​",
            "style": "IPY_MODEL_504c62fe8f2742ce8701ec23257d215c",
            "value": "tokenizer_config.json: 100%"
          }
        },
        "6eee037566574cc886dff428bc936a79": {
          "model_module": "@jupyter-widgets/controls",
          "model_name": "FloatProgressModel",
          "model_module_version": "1.5.0",
          "state": {
            "_dom_classes": [],
            "_model_module": "@jupyter-widgets/controls",
            "_model_module_version": "1.5.0",
            "_model_name": "FloatProgressModel",
            "_view_count": null,
            "_view_module": "@jupyter-widgets/controls",
            "_view_module_version": "1.5.0",
            "_view_name": "ProgressView",
            "bar_style": "success",
            "description": "",
            "description_tooltip": null,
            "layout": "IPY_MODEL_cbaedddedb454a1a98346e7577ef68bf",
            "max": 26,
            "min": 0,
            "orientation": "horizontal",
            "style": "IPY_MODEL_8143de469ce64fb1acb63a28a65b807c",
            "value": 26
          }
        },
        "795aa41453f74a61aac69a28c08ba999": {
          "model_module": "@jupyter-widgets/controls",
          "model_name": "HTMLModel",
          "model_module_version": "1.5.0",
          "state": {
            "_dom_classes": [],
            "_model_module": "@jupyter-widgets/controls",
            "_model_module_version": "1.5.0",
            "_model_name": "HTMLModel",
            "_view_count": null,
            "_view_module": "@jupyter-widgets/controls",
            "_view_module_version": "1.5.0",
            "_view_name": "HTMLView",
            "description": "",
            "description_tooltip": null,
            "layout": "IPY_MODEL_054b315739bc4e66ab185e0e1110b779",
            "placeholder": "​",
            "style": "IPY_MODEL_d586512ae1914ed980905f0b77cd291f",
            "value": " 26.0/26.0 [00:00&lt;00:00, 1.61kB/s]"
          }
        },
        "da405ed3140845ddb9b98272d24e2487": {
          "model_module": "@jupyter-widgets/base",
          "model_name": "LayoutModel",
          "model_module_version": "1.2.0",
          "state": {
            "_model_module": "@jupyter-widgets/base",
            "_model_module_version": "1.2.0",
            "_model_name": "LayoutModel",
            "_view_count": null,
            "_view_module": "@jupyter-widgets/base",
            "_view_module_version": "1.2.0",
            "_view_name": "LayoutView",
            "align_content": null,
            "align_items": null,
            "align_self": null,
            "border": null,
            "bottom": null,
            "display": null,
            "flex": null,
            "flex_flow": null,
            "grid_area": null,
            "grid_auto_columns": null,
            "grid_auto_flow": null,
            "grid_auto_rows": null,
            "grid_column": null,
            "grid_gap": null,
            "grid_row": null,
            "grid_template_areas": null,
            "grid_template_columns": null,
            "grid_template_rows": null,
            "height": null,
            "justify_content": null,
            "justify_items": null,
            "left": null,
            "margin": null,
            "max_height": null,
            "max_width": null,
            "min_height": null,
            "min_width": null,
            "object_fit": null,
            "object_position": null,
            "order": null,
            "overflow": null,
            "overflow_x": null,
            "overflow_y": null,
            "padding": null,
            "right": null,
            "top": null,
            "visibility": null,
            "width": null
          }
        },
        "a5336fe7e702423783cb9bcfe0902626": {
          "model_module": "@jupyter-widgets/base",
          "model_name": "LayoutModel",
          "model_module_version": "1.2.0",
          "state": {
            "_model_module": "@jupyter-widgets/base",
            "_model_module_version": "1.2.0",
            "_model_name": "LayoutModel",
            "_view_count": null,
            "_view_module": "@jupyter-widgets/base",
            "_view_module_version": "1.2.0",
            "_view_name": "LayoutView",
            "align_content": null,
            "align_items": null,
            "align_self": null,
            "border": null,
            "bottom": null,
            "display": null,
            "flex": null,
            "flex_flow": null,
            "grid_area": null,
            "grid_auto_columns": null,
            "grid_auto_flow": null,
            "grid_auto_rows": null,
            "grid_column": null,
            "grid_gap": null,
            "grid_row": null,
            "grid_template_areas": null,
            "grid_template_columns": null,
            "grid_template_rows": null,
            "height": null,
            "justify_content": null,
            "justify_items": null,
            "left": null,
            "margin": null,
            "max_height": null,
            "max_width": null,
            "min_height": null,
            "min_width": null,
            "object_fit": null,
            "object_position": null,
            "order": null,
            "overflow": null,
            "overflow_x": null,
            "overflow_y": null,
            "padding": null,
            "right": null,
            "top": null,
            "visibility": null,
            "width": null
          }
        },
        "504c62fe8f2742ce8701ec23257d215c": {
          "model_module": "@jupyter-widgets/controls",
          "model_name": "DescriptionStyleModel",
          "model_module_version": "1.5.0",
          "state": {
            "_model_module": "@jupyter-widgets/controls",
            "_model_module_version": "1.5.0",
            "_model_name": "DescriptionStyleModel",
            "_view_count": null,
            "_view_module": "@jupyter-widgets/base",
            "_view_module_version": "1.2.0",
            "_view_name": "StyleView",
            "description_width": ""
          }
        },
        "cbaedddedb454a1a98346e7577ef68bf": {
          "model_module": "@jupyter-widgets/base",
          "model_name": "LayoutModel",
          "model_module_version": "1.2.0",
          "state": {
            "_model_module": "@jupyter-widgets/base",
            "_model_module_version": "1.2.0",
            "_model_name": "LayoutModel",
            "_view_count": null,
            "_view_module": "@jupyter-widgets/base",
            "_view_module_version": "1.2.0",
            "_view_name": "LayoutView",
            "align_content": null,
            "align_items": null,
            "align_self": null,
            "border": null,
            "bottom": null,
            "display": null,
            "flex": null,
            "flex_flow": null,
            "grid_area": null,
            "grid_auto_columns": null,
            "grid_auto_flow": null,
            "grid_auto_rows": null,
            "grid_column": null,
            "grid_gap": null,
            "grid_row": null,
            "grid_template_areas": null,
            "grid_template_columns": null,
            "grid_template_rows": null,
            "height": null,
            "justify_content": null,
            "justify_items": null,
            "left": null,
            "margin": null,
            "max_height": null,
            "max_width": null,
            "min_height": null,
            "min_width": null,
            "object_fit": null,
            "object_position": null,
            "order": null,
            "overflow": null,
            "overflow_x": null,
            "overflow_y": null,
            "padding": null,
            "right": null,
            "top": null,
            "visibility": null,
            "width": null
          }
        },
        "8143de469ce64fb1acb63a28a65b807c": {
          "model_module": "@jupyter-widgets/controls",
          "model_name": "ProgressStyleModel",
          "model_module_version": "1.5.0",
          "state": {
            "_model_module": "@jupyter-widgets/controls",
            "_model_module_version": "1.5.0",
            "_model_name": "ProgressStyleModel",
            "_view_count": null,
            "_view_module": "@jupyter-widgets/base",
            "_view_module_version": "1.2.0",
            "_view_name": "StyleView",
            "bar_color": null,
            "description_width": ""
          }
        },
        "054b315739bc4e66ab185e0e1110b779": {
          "model_module": "@jupyter-widgets/base",
          "model_name": "LayoutModel",
          "model_module_version": "1.2.0",
          "state": {
            "_model_module": "@jupyter-widgets/base",
            "_model_module_version": "1.2.0",
            "_model_name": "LayoutModel",
            "_view_count": null,
            "_view_module": "@jupyter-widgets/base",
            "_view_module_version": "1.2.0",
            "_view_name": "LayoutView",
            "align_content": null,
            "align_items": null,
            "align_self": null,
            "border": null,
            "bottom": null,
            "display": null,
            "flex": null,
            "flex_flow": null,
            "grid_area": null,
            "grid_auto_columns": null,
            "grid_auto_flow": null,
            "grid_auto_rows": null,
            "grid_column": null,
            "grid_gap": null,
            "grid_row": null,
            "grid_template_areas": null,
            "grid_template_columns": null,
            "grid_template_rows": null,
            "height": null,
            "justify_content": null,
            "justify_items": null,
            "left": null,
            "margin": null,
            "max_height": null,
            "max_width": null,
            "min_height": null,
            "min_width": null,
            "object_fit": null,
            "object_position": null,
            "order": null,
            "overflow": null,
            "overflow_x": null,
            "overflow_y": null,
            "padding": null,
            "right": null,
            "top": null,
            "visibility": null,
            "width": null
          }
        },
        "d586512ae1914ed980905f0b77cd291f": {
          "model_module": "@jupyter-widgets/controls",
          "model_name": "DescriptionStyleModel",
          "model_module_version": "1.5.0",
          "state": {
            "_model_module": "@jupyter-widgets/controls",
            "_model_module_version": "1.5.0",
            "_model_name": "DescriptionStyleModel",
            "_view_count": null,
            "_view_module": "@jupyter-widgets/base",
            "_view_module_version": "1.2.0",
            "_view_name": "StyleView",
            "description_width": ""
          }
        },
        "e63a2dd9b41d4f17aeb9190d5a8d5ce1": {
          "model_module": "@jupyter-widgets/controls",
          "model_name": "HBoxModel",
          "model_module_version": "1.5.0",
          "state": {
            "_dom_classes": [],
            "_model_module": "@jupyter-widgets/controls",
            "_model_module_version": "1.5.0",
            "_model_name": "HBoxModel",
            "_view_count": null,
            "_view_module": "@jupyter-widgets/controls",
            "_view_module_version": "1.5.0",
            "_view_name": "HBoxView",
            "box_style": "",
            "children": [
              "IPY_MODEL_ac68c38d5a5846caab4f30de7803a82b",
              "IPY_MODEL_00e8cb2401184b68a7766efb9bcdf211",
              "IPY_MODEL_876b2abd548649859601f2457b7625f9"
            ],
            "layout": "IPY_MODEL_cc5a1a33333e48a680daa2b3913af3f1"
          }
        },
        "ac68c38d5a5846caab4f30de7803a82b": {
          "model_module": "@jupyter-widgets/controls",
          "model_name": "HTMLModel",
          "model_module_version": "1.5.0",
          "state": {
            "_dom_classes": [],
            "_model_module": "@jupyter-widgets/controls",
            "_model_module_version": "1.5.0",
            "_model_name": "HTMLModel",
            "_view_count": null,
            "_view_module": "@jupyter-widgets/controls",
            "_view_module_version": "1.5.0",
            "_view_name": "HTMLView",
            "description": "",
            "description_tooltip": null,
            "layout": "IPY_MODEL_706de1346698447db4a8c5274c4807f2",
            "placeholder": "​",
            "style": "IPY_MODEL_47d5126642e9422a8bba6d0829c2ecc5",
            "value": "vocab.json: 100%"
          }
        },
        "00e8cb2401184b68a7766efb9bcdf211": {
          "model_module": "@jupyter-widgets/controls",
          "model_name": "FloatProgressModel",
          "model_module_version": "1.5.0",
          "state": {
            "_dom_classes": [],
            "_model_module": "@jupyter-widgets/controls",
            "_model_module_version": "1.5.0",
            "_model_name": "FloatProgressModel",
            "_view_count": null,
            "_view_module": "@jupyter-widgets/controls",
            "_view_module_version": "1.5.0",
            "_view_name": "ProgressView",
            "bar_style": "success",
            "description": "",
            "description_tooltip": null,
            "layout": "IPY_MODEL_ed67de1e7d7e4b4eb8bb3ebfed3d66a0",
            "max": 1042301,
            "min": 0,
            "orientation": "horizontal",
            "style": "IPY_MODEL_4ba3d3737f6346bc97ea36b8f4d98b87",
            "value": 1042301
          }
        },
        "876b2abd548649859601f2457b7625f9": {
          "model_module": "@jupyter-widgets/controls",
          "model_name": "HTMLModel",
          "model_module_version": "1.5.0",
          "state": {
            "_dom_classes": [],
            "_model_module": "@jupyter-widgets/controls",
            "_model_module_version": "1.5.0",
            "_model_name": "HTMLModel",
            "_view_count": null,
            "_view_module": "@jupyter-widgets/controls",
            "_view_module_version": "1.5.0",
            "_view_name": "HTMLView",
            "description": "",
            "description_tooltip": null,
            "layout": "IPY_MODEL_2858ef7eee524d9c89cce76ddac7043e",
            "placeholder": "​",
            "style": "IPY_MODEL_2ac4f63642af4a7b80338ee94bce2e25",
            "value": " 1.04M/1.04M [00:00&lt;00:00, 5.66MB/s]"
          }
        },
        "cc5a1a33333e48a680daa2b3913af3f1": {
          "model_module": "@jupyter-widgets/base",
          "model_name": "LayoutModel",
          "model_module_version": "1.2.0",
          "state": {
            "_model_module": "@jupyter-widgets/base",
            "_model_module_version": "1.2.0",
            "_model_name": "LayoutModel",
            "_view_count": null,
            "_view_module": "@jupyter-widgets/base",
            "_view_module_version": "1.2.0",
            "_view_name": "LayoutView",
            "align_content": null,
            "align_items": null,
            "align_self": null,
            "border": null,
            "bottom": null,
            "display": null,
            "flex": null,
            "flex_flow": null,
            "grid_area": null,
            "grid_auto_columns": null,
            "grid_auto_flow": null,
            "grid_auto_rows": null,
            "grid_column": null,
            "grid_gap": null,
            "grid_row": null,
            "grid_template_areas": null,
            "grid_template_columns": null,
            "grid_template_rows": null,
            "height": null,
            "justify_content": null,
            "justify_items": null,
            "left": null,
            "margin": null,
            "max_height": null,
            "max_width": null,
            "min_height": null,
            "min_width": null,
            "object_fit": null,
            "object_position": null,
            "order": null,
            "overflow": null,
            "overflow_x": null,
            "overflow_y": null,
            "padding": null,
            "right": null,
            "top": null,
            "visibility": null,
            "width": null
          }
        },
        "706de1346698447db4a8c5274c4807f2": {
          "model_module": "@jupyter-widgets/base",
          "model_name": "LayoutModel",
          "model_module_version": "1.2.0",
          "state": {
            "_model_module": "@jupyter-widgets/base",
            "_model_module_version": "1.2.0",
            "_model_name": "LayoutModel",
            "_view_count": null,
            "_view_module": "@jupyter-widgets/base",
            "_view_module_version": "1.2.0",
            "_view_name": "LayoutView",
            "align_content": null,
            "align_items": null,
            "align_self": null,
            "border": null,
            "bottom": null,
            "display": null,
            "flex": null,
            "flex_flow": null,
            "grid_area": null,
            "grid_auto_columns": null,
            "grid_auto_flow": null,
            "grid_auto_rows": null,
            "grid_column": null,
            "grid_gap": null,
            "grid_row": null,
            "grid_template_areas": null,
            "grid_template_columns": null,
            "grid_template_rows": null,
            "height": null,
            "justify_content": null,
            "justify_items": null,
            "left": null,
            "margin": null,
            "max_height": null,
            "max_width": null,
            "min_height": null,
            "min_width": null,
            "object_fit": null,
            "object_position": null,
            "order": null,
            "overflow": null,
            "overflow_x": null,
            "overflow_y": null,
            "padding": null,
            "right": null,
            "top": null,
            "visibility": null,
            "width": null
          }
        },
        "47d5126642e9422a8bba6d0829c2ecc5": {
          "model_module": "@jupyter-widgets/controls",
          "model_name": "DescriptionStyleModel",
          "model_module_version": "1.5.0",
          "state": {
            "_model_module": "@jupyter-widgets/controls",
            "_model_module_version": "1.5.0",
            "_model_name": "DescriptionStyleModel",
            "_view_count": null,
            "_view_module": "@jupyter-widgets/base",
            "_view_module_version": "1.2.0",
            "_view_name": "StyleView",
            "description_width": ""
          }
        },
        "ed67de1e7d7e4b4eb8bb3ebfed3d66a0": {
          "model_module": "@jupyter-widgets/base",
          "model_name": "LayoutModel",
          "model_module_version": "1.2.0",
          "state": {
            "_model_module": "@jupyter-widgets/base",
            "_model_module_version": "1.2.0",
            "_model_name": "LayoutModel",
            "_view_count": null,
            "_view_module": "@jupyter-widgets/base",
            "_view_module_version": "1.2.0",
            "_view_name": "LayoutView",
            "align_content": null,
            "align_items": null,
            "align_self": null,
            "border": null,
            "bottom": null,
            "display": null,
            "flex": null,
            "flex_flow": null,
            "grid_area": null,
            "grid_auto_columns": null,
            "grid_auto_flow": null,
            "grid_auto_rows": null,
            "grid_column": null,
            "grid_gap": null,
            "grid_row": null,
            "grid_template_areas": null,
            "grid_template_columns": null,
            "grid_template_rows": null,
            "height": null,
            "justify_content": null,
            "justify_items": null,
            "left": null,
            "margin": null,
            "max_height": null,
            "max_width": null,
            "min_height": null,
            "min_width": null,
            "object_fit": null,
            "object_position": null,
            "order": null,
            "overflow": null,
            "overflow_x": null,
            "overflow_y": null,
            "padding": null,
            "right": null,
            "top": null,
            "visibility": null,
            "width": null
          }
        },
        "4ba3d3737f6346bc97ea36b8f4d98b87": {
          "model_module": "@jupyter-widgets/controls",
          "model_name": "ProgressStyleModel",
          "model_module_version": "1.5.0",
          "state": {
            "_model_module": "@jupyter-widgets/controls",
            "_model_module_version": "1.5.0",
            "_model_name": "ProgressStyleModel",
            "_view_count": null,
            "_view_module": "@jupyter-widgets/base",
            "_view_module_version": "1.2.0",
            "_view_name": "StyleView",
            "bar_color": null,
            "description_width": ""
          }
        },
        "2858ef7eee524d9c89cce76ddac7043e": {
          "model_module": "@jupyter-widgets/base",
          "model_name": "LayoutModel",
          "model_module_version": "1.2.0",
          "state": {
            "_model_module": "@jupyter-widgets/base",
            "_model_module_version": "1.2.0",
            "_model_name": "LayoutModel",
            "_view_count": null,
            "_view_module": "@jupyter-widgets/base",
            "_view_module_version": "1.2.0",
            "_view_name": "LayoutView",
            "align_content": null,
            "align_items": null,
            "align_self": null,
            "border": null,
            "bottom": null,
            "display": null,
            "flex": null,
            "flex_flow": null,
            "grid_area": null,
            "grid_auto_columns": null,
            "grid_auto_flow": null,
            "grid_auto_rows": null,
            "grid_column": null,
            "grid_gap": null,
            "grid_row": null,
            "grid_template_areas": null,
            "grid_template_columns": null,
            "grid_template_rows": null,
            "height": null,
            "justify_content": null,
            "justify_items": null,
            "left": null,
            "margin": null,
            "max_height": null,
            "max_width": null,
            "min_height": null,
            "min_width": null,
            "object_fit": null,
            "object_position": null,
            "order": null,
            "overflow": null,
            "overflow_x": null,
            "overflow_y": null,
            "padding": null,
            "right": null,
            "top": null,
            "visibility": null,
            "width": null
          }
        },
        "2ac4f63642af4a7b80338ee94bce2e25": {
          "model_module": "@jupyter-widgets/controls",
          "model_name": "DescriptionStyleModel",
          "model_module_version": "1.5.0",
          "state": {
            "_model_module": "@jupyter-widgets/controls",
            "_model_module_version": "1.5.0",
            "_model_name": "DescriptionStyleModel",
            "_view_count": null,
            "_view_module": "@jupyter-widgets/base",
            "_view_module_version": "1.2.0",
            "_view_name": "StyleView",
            "description_width": ""
          }
        },
        "596a84df8c274a0d89e2b92fdeae86e4": {
          "model_module": "@jupyter-widgets/controls",
          "model_name": "HBoxModel",
          "model_module_version": "1.5.0",
          "state": {
            "_dom_classes": [],
            "_model_module": "@jupyter-widgets/controls",
            "_model_module_version": "1.5.0",
            "_model_name": "HBoxModel",
            "_view_count": null,
            "_view_module": "@jupyter-widgets/controls",
            "_view_module_version": "1.5.0",
            "_view_name": "HBoxView",
            "box_style": "",
            "children": [
              "IPY_MODEL_5e336f58e95d436a879886c9c8e92ddc",
              "IPY_MODEL_aa9e32c073d543abb81b77689a2f839e",
              "IPY_MODEL_a2b7005fa09346079031d09ea95c9faa"
            ],
            "layout": "IPY_MODEL_9db6c755afa845ef8f0dedbb19b7c3a2"
          }
        },
        "5e336f58e95d436a879886c9c8e92ddc": {
          "model_module": "@jupyter-widgets/controls",
          "model_name": "HTMLModel",
          "model_module_version": "1.5.0",
          "state": {
            "_dom_classes": [],
            "_model_module": "@jupyter-widgets/controls",
            "_model_module_version": "1.5.0",
            "_model_name": "HTMLModel",
            "_view_count": null,
            "_view_module": "@jupyter-widgets/controls",
            "_view_module_version": "1.5.0",
            "_view_name": "HTMLView",
            "description": "",
            "description_tooltip": null,
            "layout": "IPY_MODEL_4367e1f991d74ca2bfad0e97ca976e45",
            "placeholder": "​",
            "style": "IPY_MODEL_a7aed603811d4fc69aed372e9350f7d4",
            "value": "merges.txt: 100%"
          }
        },
        "aa9e32c073d543abb81b77689a2f839e": {
          "model_module": "@jupyter-widgets/controls",
          "model_name": "FloatProgressModel",
          "model_module_version": "1.5.0",
          "state": {
            "_dom_classes": [],
            "_model_module": "@jupyter-widgets/controls",
            "_model_module_version": "1.5.0",
            "_model_name": "FloatProgressModel",
            "_view_count": null,
            "_view_module": "@jupyter-widgets/controls",
            "_view_module_version": "1.5.0",
            "_view_name": "ProgressView",
            "bar_style": "success",
            "description": "",
            "description_tooltip": null,
            "layout": "IPY_MODEL_bddf45b31cf240569edd4bca20fb657d",
            "max": 456318,
            "min": 0,
            "orientation": "horizontal",
            "style": "IPY_MODEL_51fcca01f2704080a65fe35b366a0958",
            "value": 456318
          }
        },
        "a2b7005fa09346079031d09ea95c9faa": {
          "model_module": "@jupyter-widgets/controls",
          "model_name": "HTMLModel",
          "model_module_version": "1.5.0",
          "state": {
            "_dom_classes": [],
            "_model_module": "@jupyter-widgets/controls",
            "_model_module_version": "1.5.0",
            "_model_name": "HTMLModel",
            "_view_count": null,
            "_view_module": "@jupyter-widgets/controls",
            "_view_module_version": "1.5.0",
            "_view_name": "HTMLView",
            "description": "",
            "description_tooltip": null,
            "layout": "IPY_MODEL_5b8328ccf2ed4f53b767a1a7d1363e30",
            "placeholder": "​",
            "style": "IPY_MODEL_96825c81c6c94bcc9925b6571786cd85",
            "value": " 456k/456k [00:00&lt;00:00, 3.53MB/s]"
          }
        },
        "9db6c755afa845ef8f0dedbb19b7c3a2": {
          "model_module": "@jupyter-widgets/base",
          "model_name": "LayoutModel",
          "model_module_version": "1.2.0",
          "state": {
            "_model_module": "@jupyter-widgets/base",
            "_model_module_version": "1.2.0",
            "_model_name": "LayoutModel",
            "_view_count": null,
            "_view_module": "@jupyter-widgets/base",
            "_view_module_version": "1.2.0",
            "_view_name": "LayoutView",
            "align_content": null,
            "align_items": null,
            "align_self": null,
            "border": null,
            "bottom": null,
            "display": null,
            "flex": null,
            "flex_flow": null,
            "grid_area": null,
            "grid_auto_columns": null,
            "grid_auto_flow": null,
            "grid_auto_rows": null,
            "grid_column": null,
            "grid_gap": null,
            "grid_row": null,
            "grid_template_areas": null,
            "grid_template_columns": null,
            "grid_template_rows": null,
            "height": null,
            "justify_content": null,
            "justify_items": null,
            "left": null,
            "margin": null,
            "max_height": null,
            "max_width": null,
            "min_height": null,
            "min_width": null,
            "object_fit": null,
            "object_position": null,
            "order": null,
            "overflow": null,
            "overflow_x": null,
            "overflow_y": null,
            "padding": null,
            "right": null,
            "top": null,
            "visibility": null,
            "width": null
          }
        },
        "4367e1f991d74ca2bfad0e97ca976e45": {
          "model_module": "@jupyter-widgets/base",
          "model_name": "LayoutModel",
          "model_module_version": "1.2.0",
          "state": {
            "_model_module": "@jupyter-widgets/base",
            "_model_module_version": "1.2.0",
            "_model_name": "LayoutModel",
            "_view_count": null,
            "_view_module": "@jupyter-widgets/base",
            "_view_module_version": "1.2.0",
            "_view_name": "LayoutView",
            "align_content": null,
            "align_items": null,
            "align_self": null,
            "border": null,
            "bottom": null,
            "display": null,
            "flex": null,
            "flex_flow": null,
            "grid_area": null,
            "grid_auto_columns": null,
            "grid_auto_flow": null,
            "grid_auto_rows": null,
            "grid_column": null,
            "grid_gap": null,
            "grid_row": null,
            "grid_template_areas": null,
            "grid_template_columns": null,
            "grid_template_rows": null,
            "height": null,
            "justify_content": null,
            "justify_items": null,
            "left": null,
            "margin": null,
            "max_height": null,
            "max_width": null,
            "min_height": null,
            "min_width": null,
            "object_fit": null,
            "object_position": null,
            "order": null,
            "overflow": null,
            "overflow_x": null,
            "overflow_y": null,
            "padding": null,
            "right": null,
            "top": null,
            "visibility": null,
            "width": null
          }
        },
        "a7aed603811d4fc69aed372e9350f7d4": {
          "model_module": "@jupyter-widgets/controls",
          "model_name": "DescriptionStyleModel",
          "model_module_version": "1.5.0",
          "state": {
            "_model_module": "@jupyter-widgets/controls",
            "_model_module_version": "1.5.0",
            "_model_name": "DescriptionStyleModel",
            "_view_count": null,
            "_view_module": "@jupyter-widgets/base",
            "_view_module_version": "1.2.0",
            "_view_name": "StyleView",
            "description_width": ""
          }
        },
        "bddf45b31cf240569edd4bca20fb657d": {
          "model_module": "@jupyter-widgets/base",
          "model_name": "LayoutModel",
          "model_module_version": "1.2.0",
          "state": {
            "_model_module": "@jupyter-widgets/base",
            "_model_module_version": "1.2.0",
            "_model_name": "LayoutModel",
            "_view_count": null,
            "_view_module": "@jupyter-widgets/base",
            "_view_module_version": "1.2.0",
            "_view_name": "LayoutView",
            "align_content": null,
            "align_items": null,
            "align_self": null,
            "border": null,
            "bottom": null,
            "display": null,
            "flex": null,
            "flex_flow": null,
            "grid_area": null,
            "grid_auto_columns": null,
            "grid_auto_flow": null,
            "grid_auto_rows": null,
            "grid_column": null,
            "grid_gap": null,
            "grid_row": null,
            "grid_template_areas": null,
            "grid_template_columns": null,
            "grid_template_rows": null,
            "height": null,
            "justify_content": null,
            "justify_items": null,
            "left": null,
            "margin": null,
            "max_height": null,
            "max_width": null,
            "min_height": null,
            "min_width": null,
            "object_fit": null,
            "object_position": null,
            "order": null,
            "overflow": null,
            "overflow_x": null,
            "overflow_y": null,
            "padding": null,
            "right": null,
            "top": null,
            "visibility": null,
            "width": null
          }
        },
        "51fcca01f2704080a65fe35b366a0958": {
          "model_module": "@jupyter-widgets/controls",
          "model_name": "ProgressStyleModel",
          "model_module_version": "1.5.0",
          "state": {
            "_model_module": "@jupyter-widgets/controls",
            "_model_module_version": "1.5.0",
            "_model_name": "ProgressStyleModel",
            "_view_count": null,
            "_view_module": "@jupyter-widgets/base",
            "_view_module_version": "1.2.0",
            "_view_name": "StyleView",
            "bar_color": null,
            "description_width": ""
          }
        },
        "5b8328ccf2ed4f53b767a1a7d1363e30": {
          "model_module": "@jupyter-widgets/base",
          "model_name": "LayoutModel",
          "model_module_version": "1.2.0",
          "state": {
            "_model_module": "@jupyter-widgets/base",
            "_model_module_version": "1.2.0",
            "_model_name": "LayoutModel",
            "_view_count": null,
            "_view_module": "@jupyter-widgets/base",
            "_view_module_version": "1.2.0",
            "_view_name": "LayoutView",
            "align_content": null,
            "align_items": null,
            "align_self": null,
            "border": null,
            "bottom": null,
            "display": null,
            "flex": null,
            "flex_flow": null,
            "grid_area": null,
            "grid_auto_columns": null,
            "grid_auto_flow": null,
            "grid_auto_rows": null,
            "grid_column": null,
            "grid_gap": null,
            "grid_row": null,
            "grid_template_areas": null,
            "grid_template_columns": null,
            "grid_template_rows": null,
            "height": null,
            "justify_content": null,
            "justify_items": null,
            "left": null,
            "margin": null,
            "max_height": null,
            "max_width": null,
            "min_height": null,
            "min_width": null,
            "object_fit": null,
            "object_position": null,
            "order": null,
            "overflow": null,
            "overflow_x": null,
            "overflow_y": null,
            "padding": null,
            "right": null,
            "top": null,
            "visibility": null,
            "width": null
          }
        },
        "96825c81c6c94bcc9925b6571786cd85": {
          "model_module": "@jupyter-widgets/controls",
          "model_name": "DescriptionStyleModel",
          "model_module_version": "1.5.0",
          "state": {
            "_model_module": "@jupyter-widgets/controls",
            "_model_module_version": "1.5.0",
            "_model_name": "DescriptionStyleModel",
            "_view_count": null,
            "_view_module": "@jupyter-widgets/base",
            "_view_module_version": "1.2.0",
            "_view_name": "StyleView",
            "description_width": ""
          }
        },
        "2819bf25888d4d3d939fef4ebe96bd94": {
          "model_module": "@jupyter-widgets/controls",
          "model_name": "HBoxModel",
          "model_module_version": "1.5.0",
          "state": {
            "_dom_classes": [],
            "_model_module": "@jupyter-widgets/controls",
            "_model_module_version": "1.5.0",
            "_model_name": "HBoxModel",
            "_view_count": null,
            "_view_module": "@jupyter-widgets/controls",
            "_view_module_version": "1.5.0",
            "_view_name": "HBoxView",
            "box_style": "",
            "children": [
              "IPY_MODEL_13002ffd2e8d43829aa2ace4ef7d7f20",
              "IPY_MODEL_0392cc919ca94ae0a8df7631e09cf0b9",
              "IPY_MODEL_8db10430f2e643658a62258d7efaae4c"
            ],
            "layout": "IPY_MODEL_f74358ee867a48cb82ca311e10284f2a"
          }
        },
        "13002ffd2e8d43829aa2ace4ef7d7f20": {
          "model_module": "@jupyter-widgets/controls",
          "model_name": "HTMLModel",
          "model_module_version": "1.5.0",
          "state": {
            "_dom_classes": [],
            "_model_module": "@jupyter-widgets/controls",
            "_model_module_version": "1.5.0",
            "_model_name": "HTMLModel",
            "_view_count": null,
            "_view_module": "@jupyter-widgets/controls",
            "_view_module_version": "1.5.0",
            "_view_name": "HTMLView",
            "description": "",
            "description_tooltip": null,
            "layout": "IPY_MODEL_1ba98502f61b49808a532d1eda0f4f5b",
            "placeholder": "​",
            "style": "IPY_MODEL_44baed368e3242729a60b4fa066f8b84",
            "value": "tokenizer.json: 100%"
          }
        },
        "0392cc919ca94ae0a8df7631e09cf0b9": {
          "model_module": "@jupyter-widgets/controls",
          "model_name": "FloatProgressModel",
          "model_module_version": "1.5.0",
          "state": {
            "_dom_classes": [],
            "_model_module": "@jupyter-widgets/controls",
            "_model_module_version": "1.5.0",
            "_model_name": "FloatProgressModel",
            "_view_count": null,
            "_view_module": "@jupyter-widgets/controls",
            "_view_module_version": "1.5.0",
            "_view_name": "ProgressView",
            "bar_style": "success",
            "description": "",
            "description_tooltip": null,
            "layout": "IPY_MODEL_abfe21c3cca24ed6a629ff3b58845f90",
            "max": 1355256,
            "min": 0,
            "orientation": "horizontal",
            "style": "IPY_MODEL_6dd3961dfdf14faa9027b695abd48e24",
            "value": 1355256
          }
        },
        "8db10430f2e643658a62258d7efaae4c": {
          "model_module": "@jupyter-widgets/controls",
          "model_name": "HTMLModel",
          "model_module_version": "1.5.0",
          "state": {
            "_dom_classes": [],
            "_model_module": "@jupyter-widgets/controls",
            "_model_module_version": "1.5.0",
            "_model_name": "HTMLModel",
            "_view_count": null,
            "_view_module": "@jupyter-widgets/controls",
            "_view_module_version": "1.5.0",
            "_view_name": "HTMLView",
            "description": "",
            "description_tooltip": null,
            "layout": "IPY_MODEL_1d37e3564d0247cba3ddfadddb53117e",
            "placeholder": "​",
            "style": "IPY_MODEL_6b1c8f084e404a8d9a54be0362b3e0a6",
            "value": " 1.36M/1.36M [00:00&lt;00:00, 6.28MB/s]"
          }
        },
        "f74358ee867a48cb82ca311e10284f2a": {
          "model_module": "@jupyter-widgets/base",
          "model_name": "LayoutModel",
          "model_module_version": "1.2.0",
          "state": {
            "_model_module": "@jupyter-widgets/base",
            "_model_module_version": "1.2.0",
            "_model_name": "LayoutModel",
            "_view_count": null,
            "_view_module": "@jupyter-widgets/base",
            "_view_module_version": "1.2.0",
            "_view_name": "LayoutView",
            "align_content": null,
            "align_items": null,
            "align_self": null,
            "border": null,
            "bottom": null,
            "display": null,
            "flex": null,
            "flex_flow": null,
            "grid_area": null,
            "grid_auto_columns": null,
            "grid_auto_flow": null,
            "grid_auto_rows": null,
            "grid_column": null,
            "grid_gap": null,
            "grid_row": null,
            "grid_template_areas": null,
            "grid_template_columns": null,
            "grid_template_rows": null,
            "height": null,
            "justify_content": null,
            "justify_items": null,
            "left": null,
            "margin": null,
            "max_height": null,
            "max_width": null,
            "min_height": null,
            "min_width": null,
            "object_fit": null,
            "object_position": null,
            "order": null,
            "overflow": null,
            "overflow_x": null,
            "overflow_y": null,
            "padding": null,
            "right": null,
            "top": null,
            "visibility": null,
            "width": null
          }
        },
        "1ba98502f61b49808a532d1eda0f4f5b": {
          "model_module": "@jupyter-widgets/base",
          "model_name": "LayoutModel",
          "model_module_version": "1.2.0",
          "state": {
            "_model_module": "@jupyter-widgets/base",
            "_model_module_version": "1.2.0",
            "_model_name": "LayoutModel",
            "_view_count": null,
            "_view_module": "@jupyter-widgets/base",
            "_view_module_version": "1.2.0",
            "_view_name": "LayoutView",
            "align_content": null,
            "align_items": null,
            "align_self": null,
            "border": null,
            "bottom": null,
            "display": null,
            "flex": null,
            "flex_flow": null,
            "grid_area": null,
            "grid_auto_columns": null,
            "grid_auto_flow": null,
            "grid_auto_rows": null,
            "grid_column": null,
            "grid_gap": null,
            "grid_row": null,
            "grid_template_areas": null,
            "grid_template_columns": null,
            "grid_template_rows": null,
            "height": null,
            "justify_content": null,
            "justify_items": null,
            "left": null,
            "margin": null,
            "max_height": null,
            "max_width": null,
            "min_height": null,
            "min_width": null,
            "object_fit": null,
            "object_position": null,
            "order": null,
            "overflow": null,
            "overflow_x": null,
            "overflow_y": null,
            "padding": null,
            "right": null,
            "top": null,
            "visibility": null,
            "width": null
          }
        },
        "44baed368e3242729a60b4fa066f8b84": {
          "model_module": "@jupyter-widgets/controls",
          "model_name": "DescriptionStyleModel",
          "model_module_version": "1.5.0",
          "state": {
            "_model_module": "@jupyter-widgets/controls",
            "_model_module_version": "1.5.0",
            "_model_name": "DescriptionStyleModel",
            "_view_count": null,
            "_view_module": "@jupyter-widgets/base",
            "_view_module_version": "1.2.0",
            "_view_name": "StyleView",
            "description_width": ""
          }
        },
        "abfe21c3cca24ed6a629ff3b58845f90": {
          "model_module": "@jupyter-widgets/base",
          "model_name": "LayoutModel",
          "model_module_version": "1.2.0",
          "state": {
            "_model_module": "@jupyter-widgets/base",
            "_model_module_version": "1.2.0",
            "_model_name": "LayoutModel",
            "_view_count": null,
            "_view_module": "@jupyter-widgets/base",
            "_view_module_version": "1.2.0",
            "_view_name": "LayoutView",
            "align_content": null,
            "align_items": null,
            "align_self": null,
            "border": null,
            "bottom": null,
            "display": null,
            "flex": null,
            "flex_flow": null,
            "grid_area": null,
            "grid_auto_columns": null,
            "grid_auto_flow": null,
            "grid_auto_rows": null,
            "grid_column": null,
            "grid_gap": null,
            "grid_row": null,
            "grid_template_areas": null,
            "grid_template_columns": null,
            "grid_template_rows": null,
            "height": null,
            "justify_content": null,
            "justify_items": null,
            "left": null,
            "margin": null,
            "max_height": null,
            "max_width": null,
            "min_height": null,
            "min_width": null,
            "object_fit": null,
            "object_position": null,
            "order": null,
            "overflow": null,
            "overflow_x": null,
            "overflow_y": null,
            "padding": null,
            "right": null,
            "top": null,
            "visibility": null,
            "width": null
          }
        },
        "6dd3961dfdf14faa9027b695abd48e24": {
          "model_module": "@jupyter-widgets/controls",
          "model_name": "ProgressStyleModel",
          "model_module_version": "1.5.0",
          "state": {
            "_model_module": "@jupyter-widgets/controls",
            "_model_module_version": "1.5.0",
            "_model_name": "ProgressStyleModel",
            "_view_count": null,
            "_view_module": "@jupyter-widgets/base",
            "_view_module_version": "1.2.0",
            "_view_name": "StyleView",
            "bar_color": null,
            "description_width": ""
          }
        },
        "1d37e3564d0247cba3ddfadddb53117e": {
          "model_module": "@jupyter-widgets/base",
          "model_name": "LayoutModel",
          "model_module_version": "1.2.0",
          "state": {
            "_model_module": "@jupyter-widgets/base",
            "_model_module_version": "1.2.0",
            "_model_name": "LayoutModel",
            "_view_count": null,
            "_view_module": "@jupyter-widgets/base",
            "_view_module_version": "1.2.0",
            "_view_name": "LayoutView",
            "align_content": null,
            "align_items": null,
            "align_self": null,
            "border": null,
            "bottom": null,
            "display": null,
            "flex": null,
            "flex_flow": null,
            "grid_area": null,
            "grid_auto_columns": null,
            "grid_auto_flow": null,
            "grid_auto_rows": null,
            "grid_column": null,
            "grid_gap": null,
            "grid_row": null,
            "grid_template_areas": null,
            "grid_template_columns": null,
            "grid_template_rows": null,
            "height": null,
            "justify_content": null,
            "justify_items": null,
            "left": null,
            "margin": null,
            "max_height": null,
            "max_width": null,
            "min_height": null,
            "min_width": null,
            "object_fit": null,
            "object_position": null,
            "order": null,
            "overflow": null,
            "overflow_x": null,
            "overflow_y": null,
            "padding": null,
            "right": null,
            "top": null,
            "visibility": null,
            "width": null
          }
        },
        "6b1c8f084e404a8d9a54be0362b3e0a6": {
          "model_module": "@jupyter-widgets/controls",
          "model_name": "DescriptionStyleModel",
          "model_module_version": "1.5.0",
          "state": {
            "_model_module": "@jupyter-widgets/controls",
            "_model_module_version": "1.5.0",
            "_model_name": "DescriptionStyleModel",
            "_view_count": null,
            "_view_module": "@jupyter-widgets/base",
            "_view_module_version": "1.2.0",
            "_view_name": "StyleView",
            "description_width": ""
          }
        }
      }
    }
  },
  "nbformat": 4,
  "nbformat_minor": 0
}