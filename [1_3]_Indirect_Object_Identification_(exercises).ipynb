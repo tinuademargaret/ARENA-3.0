{
  "cells": [
    {
      "cell_type": "markdown",
      "metadata": {
        "id": "view-in-github",
        "colab_type": "text"
      },
      "source": [
        "<a href=\"https://colab.research.google.com/github/tinuademargaret/ARENA-3.0/blob/main/%5B1_3%5D_Indirect_Object_Identification_(exercises).ipynb\" target=\"_parent\"><img src=\"https://colab.research.google.com/assets/colab-badge.svg\" alt=\"Open In Colab\"/></a>"
      ]
    },
    {
      "cell_type": "markdown",
      "source": [
        "# [1.3] Indirect Object Identification (exercises)\n"
      ],
      "metadata": {
        "id": "M0TkUQy8NEvA"
      }
    },
    {
      "cell_type": "markdown",
      "metadata": {
        "id": "10dADoTyl6l-"
      },
      "source": [
        "Colab: [exercises](https://colab.research.google.com/drive/1ZzLGDngppg5Y7CAKubww45RZrcXpVsrL?usp=sharing) | [solutions](https://colab.research.google.com/drive/1KgrEwvCKdX-8DQ1uSiIuxwIiwzJuQ3Gw?usp=sharing)\n",
        "\n",
        "ARENA 3.0 [Streamlit page](https://arena3-chapter1-transformer-interp.streamlit.app/[1.3]_Indirect_Object_Identification)\n",
        "\n",
        "Please send any problems / bugs on the `#errata` channel in the [Slack group](https://join.slack.com/t/arena-uk/shared_invite/zt-28h0xs49u-ZN9ZDbGXl~oCorjbBsSQag), and ask any questions on the dedicated channels for this chapter of material."
      ]
    },
    {
      "cell_type": "markdown",
      "metadata": {
        "id": "N5QE1FDKl6l1"
      },
      "source": [
        " <img src=\"https://raw.githubusercontent.com/callummcdougall/TransformerLens-intro/main/images/page_images/leaves.png\" width=\"350\">\n"
      ]
    },
    {
      "cell_type": "markdown",
      "metadata": {
        "id": "szdsL4Skl6l-"
      },
      "source": [
        "# Introduction"
      ]
    },
    {
      "cell_type": "markdown",
      "metadata": {
        "id": "OtvY5bPwl6l_"
      },
      "source": [
        "This notebook / document is built around the [Interpretability in the Wild](https://arxiv.org/abs/2211.00593) paper, in which the authors aim to understand the **indirect object identification circuit** in GPT-2 small. This circuit is resposible for the model's ability to complete sentences like `\"John and Mary went to the shops, John gave a bag to\"` with the correct token \"`\" Mary\"`.\n",
        "\n",
        "It is loosely divided into different sections, each one with their own flavour. Sections 1, 2 & 3 are derived from Neel Nanda's notebook [Exploratory_Analysis_Demo](https://colab.research.google.com/github/neelnanda-io/TransformerLens/blob/main/activation_patching_in_TL_demo.py.ipynb#scrollTo=uw7PmPbLuzVO). The flavour of these exercises is experimental and loose, with a focus on demonstrating what exploratory analysis looks like in practice with the transformerlens library. They skimp on rigour, and instead try to speedrun the process of finding suggestive evidence for this circuit. The code and exercises are simple and generic, but accompanied with a lot of detail about what each stage is doing, and why (plus several optional details and tangents). Section 4 introduces you to the idea of **path patching**, which is a more rigorous and structured way of analysing the model's behaviour. Here, you'll be replicating some of the results of the paper, which will serve to rigorously validate the insights gained from earlier sections. It's the most technically dense of all five sections. Lastly, sections 5 & 6 are much less structured, and have a stronger focus on open-ended exercises & letting you go off and explore for yourself.\n",
        "\n",
        "Which exercises you want to do will depend on what you're hoping to get out of these exercises. For example:\n",
        "\n",
        "* You want to understand activation patching - **1, 2, 3**\n",
        "* You want to get a sense of how to do exploratory analysis on a model - **1, 2, 3**\n",
        "* You want to understand activation and path patching - **1, 2, 3, 4**\n",
        "* You want to understand the IOI circuit fully, and replicate the paper's key results - **1, 2, 3, 4, 5**\n",
        "* You want to understand the IOI circuit fully, and replicate the paper's key results (but you already understand activation patching) - **1, 2, 4, 5**\n",
        "* You want to understand IOI, and then dive deeper e.g. by looking for more circuits in models or investigating anomalies - **1, 2, 3, 4, 5, 6**\n",
        "\n",
        "*Note - if you find yourself getting frequent CUDA memory errors, you can periodically call `torch.cuda.empty_cache()` to [free up some memory](https://stackoverflow.com/questions/57858433/how-to-clear-gpu-memory-after-pytorch-model-training-without-restarting-kernel).*\n",
        "\n",
        "Each exercise will have a difficulty and importance rating out of 5, as well as an estimated maximum time you should spend on these exercises and sometimes a short annotation. You should interpret the ratings & time estimates relatively (e.g. if you find yourself spending about 50% longer on the exercises than the time estimates, adjust accordingly). Please do skip exercises / look at solutions if you don't feel like they're important enough to be worth doing, and you'd rather get to the good stuff!\n"
      ]
    },
    {
      "cell_type": "markdown",
      "metadata": {
        "id": "73UWjA-Wd29x"
      },
      "source": [
        "## The purpose / structure of these exercises\n",
        "\n",
        "At a surface level, these exercises are designed to take you through the indirect object identification circuit. But it's also designed to make you a better interpretability researcher! As a result, most exercises will be doing a combination of:\n",
        "\n",
        "1. Showing you some new feature/component of the circuit, and\n",
        "2. Teaching you how to use tools and interpret results in a broader mech interp context.\n",
        "\n",
        "A key idea to have in mind during these exercises is the **spectrum from simpler, more exploratory tools to more rigoruous, complex tools**. On the simpler side, you have something like inspecting attention patterns, which can give a decent (but sometimes misleading) picture of what an attention head is doing. These should be some of the first tools you reach for, and you should be using them a lot even before you have concrete hypotheses about a circuit. On the more rigorous side, you have something like path patching, which is a pretty rigorous and effortful tool that is best used when you already have reasonably concrete hypotheses about a circuit. As we go through the exercises, we'll transition from left to right along this spectrum.\n"
      ]
    },
    {
      "cell_type": "markdown",
      "metadata": {
        "id": "ZcZD6ZFQd29x"
      },
      "source": [
        "## The IOI task\n",
        "\n",
        "The first step when trying to reverse engineer a circuit in a model is to identify *what* capability we want to reverse engineer. Indirect Object Identification is a task studied in Redwood Research's excellent [Interpretability in the Wild](https://arxiv.org/abs/2211.00593) paper (see [Neel Nanda's interview with the authors](https://www.youtube.com/watch?v=gzwj0jWbvbo) or [Kevin Wang's Twitter thread](https://threadreaderapp.com/thread/1587601532639494146.html) for an overview). The task is to complete sentences like \"When Mary and John went to the store, John gave a drink to\" with \" Mary\" rather than \" John\".\n",
        "\n",
        "In the paper they rigorously reverse engineer a 26 head circuit, with 7 separate categories of heads used to perform this capability. The circuit they found roughly breaks down into three parts:\n",
        "\n",
        "1. Identify what names are in the sentence\n",
        "2. Identify which names are duplicated\n",
        "3. Predict the name that is *not* duplicated\n",
        "\n",
        "Why was this task chosen? The authors give a very good explanation for their choice in their [video walkthrough of their paper](https://www.youtube.com/watch?v=gzwj0jWbvbo), which you are encouraged to watch. To be brief, some of the reasons were:\n",
        "\n",
        "* This is a fairly common grammatical structure, so we should expect the model to build some circuitry for solving it quite early on (after it's finished with all the more basic stuff, like n-grams, punctuation, induction, and simpler grammatical structures than this one).\n",
        "* It's easy to measure: the model always puts a much higher probability on the IO and S tokens (i.e. `\" Mary\"` and `\" John\"`) than any others, and this is especially true once the model starts being stripped down to the core part of the circuit we're studying. So we can just take the logit difference between these two tokens, and use this as a metric for how well the model can solve the task.\n",
        "* It is a crisp and well-defined task, so less likely to be solved in terms of memorisation of a large bag of heuristics (unlike e.g. tasks like \"predict that the number `n+1` will follow `n`, which as Neel mentions in the video walkthrough is actually much more annoying and subtle than it first seems!).\n",
        "\n",
        "A terminology note: `IO` will refer to the indirect object (in the example, `\" Mary\"`), `S1` and `S2` will refer to the two instances of the subject token (i.e. `\" John\"`), and `end` will refer to the end token `\" to\"` (because this is the position we take our prediction from, and we don't care about any tokens after this point). We will also sometimes use `S` to refer to the identity of the subject token (rather than referring to the first or second instance in particular).\n"
      ]
    },
    {
      "cell_type": "markdown",
      "metadata": {
        "id": "154Kdpx2l6mD"
      },
      "source": [
        "## Keeping track of your guesses & predictions\n",
        "\n",
        "There's a lot to keep track of in these exercises as we work through them. You'll be exposed to new functions and modules from transformerlens, new ways to causally intervene in models, all the while building up your understanding of how the IOI task is performed. The notebook starts off exploratory in nature (lots of plotting and investigation), and gradually moves into more technical details, refined analysis, and replication of the paper's results, as we improve our understanding of the IOI circuit. You are recommended to keep a document or page of notes nearby as you go through these exercises, so you can keep track of the main takeaways from each section, as well as your hypotheses for how the model performs the task, and your ideas for how you might go off and test these hypotheses on your own if the notebook were to suddenly end.\n",
        "\n",
        "If you are feeling extremely confused at any point, you can come back to the dropdown below, which contains diagrams explaining how the circuit works. There is also an accompanying intuitive explanation which you might find more helpful. However, I'd recommend you try and go through the notebook unassisted before looking at these.\n",
        "\n",
        "<details>\n",
        "<summary>Intuitive explanation of IOI circuit</summary>\n",
        "\n",
        "First, let's start with an analogy for how transformers work (you can skip this if you've already read [my post](https://www.lesswrong.com/posts/euam65XjigaCJQkcN/an-analogy-for-understanding-transformers)). Imagine a line of people, who can only look forward. Each person has a token written on their chest, and their goal is to figure out what token the person in front of them is holding. Each person is allowed to pass a question backwards along the line (not forwards), and anyone can choose to reply to that question by passing information forwards to the person who asked. In this case, the sentence is `\"When Mary and John went to the store, John gave a drink to Mary\"`. You are the person holding the `\" to\"` token, and your goal is to figure out that the person in front of him has the `\" Mary\"` token.\n",
        "\n",
        "To be clear about how this analogy relates to transformers:\n",
        "* Each person in the line represents a vector in the residual stream. Initially they just store their own token, but they accrue more information as they ask questions and receive answers (i.e. as components write to the residual stream)\n",
        "* The operation of an attention head is represented by a question & answer:\n",
        "    * The person who asks is the destination token, the people who answer are the source tokens\n",
        "    * The question is the query vector\n",
        "    * The information *which determines who answers the question* is the key vector\n",
        "    * The information *which gets passed back to the original asker* is the value vector\n",
        "\n",
        "Now, here is how the IOI circuit works in this analogy. Each bullet point represents a class of attention heads.\n",
        "\n",
        "* The person with the second `\" John\"` token asks the question \"does anyone else hold the name `\" John\"`?\". They get a reply from the first `\" John\"` token, who also gives him their location. So he now knows that `\" John\"` is repeated, and he knows that the first `\" John\"` token is 4th in the sequence.\n",
        "    * These are *Duplicate Token Heads*\n",
        "* You ask the question \"which names are repeated?\", and you get an answer from the person holding the second `\" John\"` token. You now also know that `\" John\"` is repeated, and where the first `\" John\"` token is.\n",
        "    * These are *S-Inhibition Heads*\n",
        "* You ask the question \"does anyone have a name that isn't `\" John\"`, and isn't at the 4th position in the sequence?\". You get a reply from the person holding the `\" Mary\"` token, who tells you that they have name `\" Mary\"`. You use this as your prediction.\n",
        "    * These are *Name Mover Heads*\n",
        "\n",
        "This is a fine first-pass understanding of how the circuit works. A few other features:\n",
        "\n",
        "* The person after the first `\" John\"` (holding `\" went\"`) had previously asked about the identity of the person behind him. So he knows that the 4th person in the sequence holds the `\" John\"` token, meaning he can also reply to the question of the person holding the second `\" John\"` token. *(previous token heads / induction heads)*\n",
        "    * This might not seem necessary, but since previous token heads / induction heads are just a pretty useful thing to have in general, it makes sense that you'd want to make use of this information!\n",
        "* If for some reason you forget to ask the question \"does anyone have a name that isn't `\" John\"`, and isn't at the 4th position in the sequence?\", then you'll have another chance to do this.\n",
        "    * These are *(Backup Name Mover Heads)*\n",
        "    * Their existance might be partly because transformers are trained with **dropout**. This can make them \"forget\" things, so it's important to have a backup method for recovering that information!\n",
        "* You want to avoid overconfidence, so you also ask the question \"does anyone have a name that isn't `\" John\"`, and isn't at the 4th position in the sequence?\" another time, in order to ***anti-***predict the response that you get from this question. *(negative name mover heads)*\n",
        "    * Yes, this is as weird as it sounds! The authors speculate that these heads \"hedge\" the predictions, avoiding high cross-entropy loss when making mistakes.\n",
        "\n",
        "</details>\n",
        "\n",
        "<details>\n",
        "<summary>Diagram 1 (simple)</summary>\n",
        "\n",
        "<img src=\"https://raw.githubusercontent.com/callummcdougall/computational-thread-art/master/example_images/misc/ioi-main-simple-a.png\" width=\"1000\">\n",
        "\n",
        "</details>\n",
        "\n",
        "<details>\n",
        "<summary>Diagram 2 (complex)</summary>\n",
        "\n",
        "<img src=\"https://raw.githubusercontent.com/callummcdougall/computational-thread-art/master/example_images/misc/ioi-main-full-d.png\" width=\"1250\">\n",
        "\n",
        "</details>\n"
      ]
    },
    {
      "cell_type": "markdown",
      "metadata": {
        "id": "KRVnueONl6l_"
      },
      "source": [
        "## Content & Learning Objectives\n"
      ]
    },
    {
      "cell_type": "markdown",
      "metadata": {
        "id": "rS2SRRqId29z"
      },
      "source": [
        "#### 1️⃣ Model & Task Setup\n",
        "\n",
        "In this section you'll set up your model, and see how to analyse its performance on the IOI task. You'll also learn how to measure it's performance using tools like logit difference.\n",
        "\n",
        "> ##### Learning objectives\n",
        ">\n",
        "> * Understand the IOI task, and why the authors chose to study it\n",
        "> * Build functions to demonstrate the model's performance on this task\n",
        "\n",
        "#### 2️⃣ Logit Attribution\n",
        "\n",
        "Next, you'll move on to some component attribution: evaluating the importance of each model component for the IOI task. However, this type of analysis is limited to measuring a component's direct effect, as opposed to indirect effect - we'll measure the latter in future sections.\n",
        "\n",
        "> ##### Learning objectives\n",
        ">\n",
        "> * Perform direct logit attribution to figure out which heads are writing to the residual stream in a significant way\n",
        "> * Learn how to use different transformerlens helper functions, which decompose the residual stream in different ways\n",
        "\n",
        "#### 3️⃣ Activation Patching\n",
        "\n",
        "We introduce one of the two important patching tools you'll use during this section: **activation patching**. This can be used to discover which components of a model are important for a particular task, by measuring the changes in our previously-defined task metrics when you patch into a particular component with corrupted input.\n",
        "\n",
        "> ##### Learning objectives\n",
        ">\n",
        "> * Understand the idea of activation patching, and how it can be used\n",
        ">     * Implement some of the activation patching helper functinos in transformerlens from scratch (i.e. using hooks)\n",
        "> * Use activation patching to track the layers & sequence positions in the residual stream where important information is stored and processed\n",
        "> * By the end of this section, you should be able to draw a rough sketch of the IOI circuit\n",
        "\n",
        "#### 4️⃣ Path Patching\n",
        "\n",
        "Next, we move to path patching, a more refined form of activation patching which examines the importance of particular paths between model components. This will give us a more precise picture of how our circuit works.\n",
        "\n",
        "> ##### Learning objectives\n",
        ">\n",
        "> * Understand the idea of path patching, and how it differs from activation patching\n",
        "> * Implement path patching from scratch (i.e. using hooks)\n",
        "> * Replicate several of the results in the [IOI paper](https://arxiv.org/abs/2211.00593)\n",
        "\n",
        "#### 5️⃣ Paper Replication\n",
        "\n",
        "Lastly, we'll do some cleaning up, by replicating some other results from the IOI paper. This includes implementing a complex form of ablation which removes every component from the model except for the ones we've identified from previous analysis, and showing that the performace is recovered. This section is more open-ended and less structured.\n",
        "\n",
        "> ##### Learning objectives\n",
        ">\n",
        "> * Replicate most of the other results from the [IOI paper](https://arxiv.org/abs/2211.00593)\n",
        "> * Practice more open-ended, less guided coding\n",
        "\n",
        "#### 6️⃣ Bonus\n",
        "\n",
        "We end with a few suggested bonus exercises for this particular circuit, as well as ideas for capstone projects / paper replications.\n",
        "\n",
        "> ##### Learning objectives\n",
        ">\n",
        "> * Explore other parts of the model (e.g. negative name mover heads, and induction heads)\n",
        "> * Understand the subtleties present in model circuits, and the fact that there are often more parts to a circuit than seem obvious after initial investigation\n",
        "> * Understand the importance of the three quantitative criteria used by the paper: **faithfulness**, **completeness** and **minimality**\n"
      ]
    },
    {
      "cell_type": "markdown",
      "metadata": {
        "id": "5DKgJ54Wl6mA"
      },
      "source": [
        "## Setup (don't read, just run!)\n"
      ]
    },
    {
      "cell_type": "code",
      "execution_count": 1,
      "metadata": {
        "id": "RbJ0wqZad290",
        "colab": {
          "base_uri": "https://localhost:8080/"
        },
        "outputId": "78e47349-6cb5-4280-cfff-b43a94564672"
      },
      "outputs": [
        {
          "output_type": "stream",
          "name": "stdout",
          "text": [
            "Collecting transformer_lens\n",
            "  Downloading transformer_lens-2.1.0-py3-none-any.whl (154 kB)\n",
            "\u001b[2K     \u001b[90m━━━━━━━━━━━━━━━━━━━━━━━━━━━━━━━━━━━━━━━━\u001b[0m \u001b[32m154.8/154.8 kB\u001b[0m \u001b[31m4.6 MB/s\u001b[0m eta \u001b[36m0:00:00\u001b[0m\n",
            "\u001b[?25hCollecting accelerate>=0.23.0 (from transformer_lens)\n",
            "  Downloading accelerate-0.31.0-py3-none-any.whl (309 kB)\n",
            "\u001b[2K     \u001b[90m━━━━━━━━━━━━━━━━━━━━━━━━━━━━━━━━━━━━━━━━\u001b[0m \u001b[32m309.4/309.4 kB\u001b[0m \u001b[31m20.6 MB/s\u001b[0m eta \u001b[36m0:00:00\u001b[0m\n",
            "\u001b[?25hCollecting beartype<0.15.0,>=0.14.1 (from transformer_lens)\n",
            "  Downloading beartype-0.14.1-py3-none-any.whl (739 kB)\n",
            "\u001b[2K     \u001b[90m━━━━━━━━━━━━━━━━━━━━━━━━━━━━━━━━━━━━━━━━\u001b[0m \u001b[32m739.7/739.7 kB\u001b[0m \u001b[31m37.2 MB/s\u001b[0m eta \u001b[36m0:00:00\u001b[0m\n",
            "\u001b[?25hCollecting better-abc<0.0.4,>=0.0.3 (from transformer_lens)\n",
            "  Downloading better_abc-0.0.3-py3-none-any.whl (3.5 kB)\n",
            "Collecting datasets>=2.7.1 (from transformer_lens)\n",
            "  Downloading datasets-2.20.0-py3-none-any.whl (547 kB)\n",
            "\u001b[2K     \u001b[90m━━━━━━━━━━━━━━━━━━━━━━━━━━━━━━━━━━━━━━━━\u001b[0m \u001b[32m547.8/547.8 kB\u001b[0m \u001b[31m38.8 MB/s\u001b[0m eta \u001b[36m0:00:00\u001b[0m\n",
            "\u001b[?25hCollecting einops>=0.6.0 (from transformer_lens)\n",
            "  Downloading einops-0.8.0-py3-none-any.whl (43 kB)\n",
            "\u001b[2K     \u001b[90m━━━━━━━━━━━━━━━━━━━━━━━━━━━━━━━━━━━━━━━━\u001b[0m \u001b[32m43.2/43.2 kB\u001b[0m \u001b[31m7.3 MB/s\u001b[0m eta \u001b[36m0:00:00\u001b[0m\n",
            "\u001b[?25hCollecting fancy-einsum>=0.0.3 (from transformer_lens)\n",
            "  Downloading fancy_einsum-0.0.3-py3-none-any.whl (6.2 kB)\n",
            "Collecting jaxtyping>=0.2.11 (from transformer_lens)\n",
            "  Downloading jaxtyping-0.2.30-py3-none-any.whl (41 kB)\n",
            "\u001b[2K     \u001b[90m━━━━━━━━━━━━━━━━━━━━━━━━━━━━━━━━━━━━━━━━\u001b[0m \u001b[32m41.9/41.9 kB\u001b[0m \u001b[31m7.4 MB/s\u001b[0m eta \u001b[36m0:00:00\u001b[0m\n",
            "\u001b[?25hRequirement already satisfied: numpy>=1.24 in /usr/local/lib/python3.10/dist-packages (from transformer_lens) (1.25.2)\n",
            "Requirement already satisfied: pandas>=1.1.5 in /usr/local/lib/python3.10/dist-packages (from transformer_lens) (2.0.3)\n",
            "Requirement already satisfied: rich>=12.6.0 in /usr/local/lib/python3.10/dist-packages (from transformer_lens) (13.7.1)\n",
            "Requirement already satisfied: sentencepiece in /usr/local/lib/python3.10/dist-packages (from transformer_lens) (0.1.99)\n",
            "Requirement already satisfied: torch>=1.10 in /usr/local/lib/python3.10/dist-packages (from transformer_lens) (2.3.0+cu121)\n",
            "Requirement already satisfied: tqdm>=4.64.1 in /usr/local/lib/python3.10/dist-packages (from transformer_lens) (4.66.4)\n",
            "Requirement already satisfied: transformers>=4.37.2 in /usr/local/lib/python3.10/dist-packages (from transformer_lens) (4.41.2)\n",
            "Requirement already satisfied: typing-extensions in /usr/local/lib/python3.10/dist-packages (from transformer_lens) (4.12.2)\n",
            "Collecting wandb>=0.13.5 (from transformer_lens)\n",
            "  Downloading wandb-0.17.2-py3-none-manylinux_2_5_x86_64.manylinux1_x86_64.manylinux_2_17_x86_64.manylinux2014_x86_64.whl (6.9 MB)\n",
            "\u001b[2K     \u001b[90m━━━━━━━━━━━━━━━━━━━━━━━━━━━━━━━━━━━━━━━━\u001b[0m \u001b[32m6.9/6.9 MB\u001b[0m \u001b[31m81.5 MB/s\u001b[0m eta \u001b[36m0:00:00\u001b[0m\n",
            "\u001b[?25hRequirement already satisfied: packaging>=20.0 in /usr/local/lib/python3.10/dist-packages (from accelerate>=0.23.0->transformer_lens) (24.1)\n",
            "Requirement already satisfied: psutil in /usr/local/lib/python3.10/dist-packages (from accelerate>=0.23.0->transformer_lens) (5.9.5)\n",
            "Requirement already satisfied: pyyaml in /usr/local/lib/python3.10/dist-packages (from accelerate>=0.23.0->transformer_lens) (6.0.1)\n",
            "Requirement already satisfied: huggingface-hub in /usr/local/lib/python3.10/dist-packages (from accelerate>=0.23.0->transformer_lens) (0.23.3)\n",
            "Requirement already satisfied: safetensors>=0.3.1 in /usr/local/lib/python3.10/dist-packages (from accelerate>=0.23.0->transformer_lens) (0.4.3)\n",
            "Requirement already satisfied: filelock in /usr/local/lib/python3.10/dist-packages (from datasets>=2.7.1->transformer_lens) (3.14.0)\n",
            "Collecting pyarrow>=15.0.0 (from datasets>=2.7.1->transformer_lens)\n",
            "  Downloading pyarrow-16.1.0-cp310-cp310-manylinux_2_28_x86_64.whl (40.8 MB)\n",
            "\u001b[2K     \u001b[90m━━━━━━━━━━━━━━━━━━━━━━━━━━━━━━━━━━━━━━━━\u001b[0m \u001b[32m40.8/40.8 MB\u001b[0m \u001b[31m44.1 MB/s\u001b[0m eta \u001b[36m0:00:00\u001b[0m\n",
            "\u001b[?25hRequirement already satisfied: pyarrow-hotfix in /usr/local/lib/python3.10/dist-packages (from datasets>=2.7.1->transformer_lens) (0.6)\n",
            "Collecting dill<0.3.9,>=0.3.0 (from datasets>=2.7.1->transformer_lens)\n",
            "  Downloading dill-0.3.8-py3-none-any.whl (116 kB)\n",
            "\u001b[2K     \u001b[90m━━━━━━━━━━━━━━━━━━━━━━━━━━━━━━━━━━━━━━━━\u001b[0m \u001b[32m116.3/116.3 kB\u001b[0m \u001b[31m21.9 MB/s\u001b[0m eta \u001b[36m0:00:00\u001b[0m\n",
            "\u001b[?25hCollecting requests>=2.32.2 (from datasets>=2.7.1->transformer_lens)\n",
            "  Downloading requests-2.32.3-py3-none-any.whl (64 kB)\n",
            "\u001b[2K     \u001b[90m━━━━━━━━━━━━━━━━━━━━━━━━━━━━━━━━━━━━━━━━\u001b[0m \u001b[32m64.9/64.9 kB\u001b[0m \u001b[31m12.8 MB/s\u001b[0m eta \u001b[36m0:00:00\u001b[0m\n",
            "\u001b[?25hCollecting xxhash (from datasets>=2.7.1->transformer_lens)\n",
            "  Downloading xxhash-3.4.1-cp310-cp310-manylinux_2_17_x86_64.manylinux2014_x86_64.whl (194 kB)\n",
            "\u001b[2K     \u001b[90m━━━━━━━━━━━━━━━━━━━━━━━━━━━━━━━━━━━━━━━━\u001b[0m \u001b[32m194.1/194.1 kB\u001b[0m \u001b[31m28.3 MB/s\u001b[0m eta \u001b[36m0:00:00\u001b[0m\n",
            "\u001b[?25hCollecting multiprocess (from datasets>=2.7.1->transformer_lens)\n",
            "  Downloading multiprocess-0.70.16-py310-none-any.whl (134 kB)\n",
            "\u001b[2K     \u001b[90m━━━━━━━━━━━━━━━━━━━━━━━━━━━━━━━━━━━━━━━━\u001b[0m \u001b[32m134.8/134.8 kB\u001b[0m \u001b[31m25.1 MB/s\u001b[0m eta \u001b[36m0:00:00\u001b[0m\n",
            "\u001b[?25hRequirement already satisfied: fsspec[http]<=2024.5.0,>=2023.1.0 in /usr/local/lib/python3.10/dist-packages (from datasets>=2.7.1->transformer_lens) (2023.6.0)\n",
            "Requirement already satisfied: aiohttp in /usr/local/lib/python3.10/dist-packages (from datasets>=2.7.1->transformer_lens) (3.9.5)\n",
            "Collecting typeguard==2.13.3 (from jaxtyping>=0.2.11->transformer_lens)\n",
            "  Downloading typeguard-2.13.3-py3-none-any.whl (17 kB)\n",
            "Requirement already satisfied: python-dateutil>=2.8.2 in /usr/local/lib/python3.10/dist-packages (from pandas>=1.1.5->transformer_lens) (2.8.2)\n",
            "Requirement already satisfied: pytz>=2020.1 in /usr/local/lib/python3.10/dist-packages (from pandas>=1.1.5->transformer_lens) (2023.4)\n",
            "Requirement already satisfied: tzdata>=2022.1 in /usr/local/lib/python3.10/dist-packages (from pandas>=1.1.5->transformer_lens) (2024.1)\n",
            "Requirement already satisfied: markdown-it-py>=2.2.0 in /usr/local/lib/python3.10/dist-packages (from rich>=12.6.0->transformer_lens) (3.0.0)\n",
            "Requirement already satisfied: pygments<3.0.0,>=2.13.0 in /usr/local/lib/python3.10/dist-packages (from rich>=12.6.0->transformer_lens) (2.16.1)\n",
            "Requirement already satisfied: sympy in /usr/local/lib/python3.10/dist-packages (from torch>=1.10->transformer_lens) (1.12.1)\n",
            "Requirement already satisfied: networkx in /usr/local/lib/python3.10/dist-packages (from torch>=1.10->transformer_lens) (3.3)\n",
            "Requirement already satisfied: jinja2 in /usr/local/lib/python3.10/dist-packages (from torch>=1.10->transformer_lens) (3.1.4)\n",
            "Collecting nvidia-cuda-nvrtc-cu12==12.1.105 (from torch>=1.10->transformer_lens)\n",
            "  Using cached nvidia_cuda_nvrtc_cu12-12.1.105-py3-none-manylinux1_x86_64.whl (23.7 MB)\n",
            "Collecting nvidia-cuda-runtime-cu12==12.1.105 (from torch>=1.10->transformer_lens)\n",
            "  Using cached nvidia_cuda_runtime_cu12-12.1.105-py3-none-manylinux1_x86_64.whl (823 kB)\n",
            "Collecting nvidia-cuda-cupti-cu12==12.1.105 (from torch>=1.10->transformer_lens)\n",
            "  Using cached nvidia_cuda_cupti_cu12-12.1.105-py3-none-manylinux1_x86_64.whl (14.1 MB)\n",
            "Collecting nvidia-cudnn-cu12==8.9.2.26 (from torch>=1.10->transformer_lens)\n",
            "  Using cached nvidia_cudnn_cu12-8.9.2.26-py3-none-manylinux1_x86_64.whl (731.7 MB)\n",
            "Collecting nvidia-cublas-cu12==12.1.3.1 (from torch>=1.10->transformer_lens)\n",
            "  Using cached nvidia_cublas_cu12-12.1.3.1-py3-none-manylinux1_x86_64.whl (410.6 MB)\n",
            "Collecting nvidia-cufft-cu12==11.0.2.54 (from torch>=1.10->transformer_lens)\n",
            "  Using cached nvidia_cufft_cu12-11.0.2.54-py3-none-manylinux1_x86_64.whl (121.6 MB)\n",
            "Collecting nvidia-curand-cu12==10.3.2.106 (from torch>=1.10->transformer_lens)\n",
            "  Using cached nvidia_curand_cu12-10.3.2.106-py3-none-manylinux1_x86_64.whl (56.5 MB)\n",
            "Collecting nvidia-cusolver-cu12==11.4.5.107 (from torch>=1.10->transformer_lens)\n",
            "  Using cached nvidia_cusolver_cu12-11.4.5.107-py3-none-manylinux1_x86_64.whl (124.2 MB)\n",
            "Collecting nvidia-cusparse-cu12==12.1.0.106 (from torch>=1.10->transformer_lens)\n",
            "  Using cached nvidia_cusparse_cu12-12.1.0.106-py3-none-manylinux1_x86_64.whl (196.0 MB)\n",
            "Collecting nvidia-nccl-cu12==2.20.5 (from torch>=1.10->transformer_lens)\n",
            "  Using cached nvidia_nccl_cu12-2.20.5-py3-none-manylinux2014_x86_64.whl (176.2 MB)\n",
            "Collecting nvidia-nvtx-cu12==12.1.105 (from torch>=1.10->transformer_lens)\n",
            "  Using cached nvidia_nvtx_cu12-12.1.105-py3-none-manylinux1_x86_64.whl (99 kB)\n",
            "Requirement already satisfied: triton==2.3.0 in /usr/local/lib/python3.10/dist-packages (from torch>=1.10->transformer_lens) (2.3.0)\n",
            "Collecting nvidia-nvjitlink-cu12 (from nvidia-cusolver-cu12==11.4.5.107->torch>=1.10->transformer_lens)\n",
            "  Downloading nvidia_nvjitlink_cu12-12.5.40-py3-none-manylinux2014_x86_64.whl (21.3 MB)\n",
            "\u001b[2K     \u001b[90m━━━━━━━━━━━━━━━━━━━━━━━━━━━━━━━━━━━━━━━━\u001b[0m \u001b[32m21.3/21.3 MB\u001b[0m \u001b[31m73.3 MB/s\u001b[0m eta \u001b[36m0:00:00\u001b[0m\n",
            "\u001b[?25hRequirement already satisfied: regex!=2019.12.17 in /usr/local/lib/python3.10/dist-packages (from transformers>=4.37.2->transformer_lens) (2024.5.15)\n",
            "Requirement already satisfied: tokenizers<0.20,>=0.19 in /usr/local/lib/python3.10/dist-packages (from transformers>=4.37.2->transformer_lens) (0.19.1)\n",
            "Requirement already satisfied: click!=8.0.0,>=7.1 in /usr/local/lib/python3.10/dist-packages (from wandb>=0.13.5->transformer_lens) (8.1.7)\n",
            "Collecting docker-pycreds>=0.4.0 (from wandb>=0.13.5->transformer_lens)\n",
            "  Downloading docker_pycreds-0.4.0-py2.py3-none-any.whl (9.0 kB)\n",
            "Collecting gitpython!=3.1.29,>=1.0.0 (from wandb>=0.13.5->transformer_lens)\n",
            "  Downloading GitPython-3.1.43-py3-none-any.whl (207 kB)\n",
            "\u001b[2K     \u001b[90m━━━━━━━━━━━━━━━━━━━━━━━━━━━━━━━━━━━━━━━━\u001b[0m \u001b[32m207.3/207.3 kB\u001b[0m \u001b[31m29.7 MB/s\u001b[0m eta \u001b[36m0:00:00\u001b[0m\n",
            "\u001b[?25hRequirement already satisfied: platformdirs in /usr/local/lib/python3.10/dist-packages (from wandb>=0.13.5->transformer_lens) (4.2.2)\n",
            "Requirement already satisfied: protobuf!=4.21.0,<6,>=3.19.0 in /usr/local/lib/python3.10/dist-packages (from wandb>=0.13.5->transformer_lens) (3.20.3)\n",
            "Collecting sentry-sdk>=1.0.0 (from wandb>=0.13.5->transformer_lens)\n",
            "  Downloading sentry_sdk-2.5.1-py2.py3-none-any.whl (289 kB)\n",
            "\u001b[2K     \u001b[90m━━━━━━━━━━━━━━━━━━━━━━━━━━━━━━━━━━━━━━━━\u001b[0m \u001b[32m289.6/289.6 kB\u001b[0m \u001b[31m41.0 MB/s\u001b[0m eta \u001b[36m0:00:00\u001b[0m\n",
            "\u001b[?25hCollecting setproctitle (from wandb>=0.13.5->transformer_lens)\n",
            "  Downloading setproctitle-1.3.3-cp310-cp310-manylinux_2_5_x86_64.manylinux1_x86_64.manylinux_2_17_x86_64.manylinux2014_x86_64.whl (30 kB)\n",
            "Requirement already satisfied: setuptools in /usr/local/lib/python3.10/dist-packages (from wandb>=0.13.5->transformer_lens) (67.7.2)\n",
            "Requirement already satisfied: six>=1.4.0 in /usr/local/lib/python3.10/dist-packages (from docker-pycreds>=0.4.0->wandb>=0.13.5->transformer_lens) (1.16.0)\n",
            "Requirement already satisfied: aiosignal>=1.1.2 in /usr/local/lib/python3.10/dist-packages (from aiohttp->datasets>=2.7.1->transformer_lens) (1.3.1)\n",
            "Requirement already satisfied: attrs>=17.3.0 in /usr/local/lib/python3.10/dist-packages (from aiohttp->datasets>=2.7.1->transformer_lens) (23.2.0)\n",
            "Requirement already satisfied: frozenlist>=1.1.1 in /usr/local/lib/python3.10/dist-packages (from aiohttp->datasets>=2.7.1->transformer_lens) (1.4.1)\n",
            "Requirement already satisfied: multidict<7.0,>=4.5 in /usr/local/lib/python3.10/dist-packages (from aiohttp->datasets>=2.7.1->transformer_lens) (6.0.5)\n",
            "Requirement already satisfied: yarl<2.0,>=1.0 in /usr/local/lib/python3.10/dist-packages (from aiohttp->datasets>=2.7.1->transformer_lens) (1.9.4)\n",
            "Requirement already satisfied: async-timeout<5.0,>=4.0 in /usr/local/lib/python3.10/dist-packages (from aiohttp->datasets>=2.7.1->transformer_lens) (4.0.3)\n",
            "Collecting gitdb<5,>=4.0.1 (from gitpython!=3.1.29,>=1.0.0->wandb>=0.13.5->transformer_lens)\n",
            "  Downloading gitdb-4.0.11-py3-none-any.whl (62 kB)\n",
            "\u001b[2K     \u001b[90m━━━━━━━━━━━━━━━━━━━━━━━━━━━━━━━━━━━━━━━━\u001b[0m \u001b[32m62.7/62.7 kB\u001b[0m \u001b[31m11.3 MB/s\u001b[0m eta \u001b[36m0:00:00\u001b[0m\n",
            "\u001b[?25hRequirement already satisfied: mdurl~=0.1 in /usr/local/lib/python3.10/dist-packages (from markdown-it-py>=2.2.0->rich>=12.6.0->transformer_lens) (0.1.2)\n",
            "Requirement already satisfied: charset-normalizer<4,>=2 in /usr/local/lib/python3.10/dist-packages (from requests>=2.32.2->datasets>=2.7.1->transformer_lens) (3.3.2)\n",
            "Requirement already satisfied: idna<4,>=2.5 in /usr/local/lib/python3.10/dist-packages (from requests>=2.32.2->datasets>=2.7.1->transformer_lens) (3.7)\n",
            "Requirement already satisfied: urllib3<3,>=1.21.1 in /usr/local/lib/python3.10/dist-packages (from requests>=2.32.2->datasets>=2.7.1->transformer_lens) (2.0.7)\n",
            "Requirement already satisfied: certifi>=2017.4.17 in /usr/local/lib/python3.10/dist-packages (from requests>=2.32.2->datasets>=2.7.1->transformer_lens) (2024.6.2)\n",
            "Requirement already satisfied: MarkupSafe>=2.0 in /usr/local/lib/python3.10/dist-packages (from jinja2->torch>=1.10->transformer_lens) (2.1.5)\n",
            "Requirement already satisfied: mpmath<1.4.0,>=1.1.0 in /usr/local/lib/python3.10/dist-packages (from sympy->torch>=1.10->transformer_lens) (1.3.0)\n",
            "Collecting smmap<6,>=3.0.1 (from gitdb<5,>=4.0.1->gitpython!=3.1.29,>=1.0.0->wandb>=0.13.5->transformer_lens)\n",
            "  Downloading smmap-5.0.1-py3-none-any.whl (24 kB)\n",
            "Installing collected packages: better-abc, xxhash, typeguard, smmap, setproctitle, sentry-sdk, requests, pyarrow, nvidia-nvtx-cu12, nvidia-nvjitlink-cu12, nvidia-nccl-cu12, nvidia-curand-cu12, nvidia-cufft-cu12, nvidia-cuda-runtime-cu12, nvidia-cuda-nvrtc-cu12, nvidia-cuda-cupti-cu12, nvidia-cublas-cu12, fancy-einsum, einops, docker-pycreds, dill, beartype, nvidia-cusparse-cu12, nvidia-cudnn-cu12, multiprocess, jaxtyping, gitdb, nvidia-cusolver-cu12, gitpython, wandb, datasets, accelerate, transformer_lens\n",
            "  Attempting uninstall: requests\n",
            "    Found existing installation: requests 2.31.0\n",
            "    Uninstalling requests-2.31.0:\n",
            "      Successfully uninstalled requests-2.31.0\n",
            "  Attempting uninstall: pyarrow\n",
            "    Found existing installation: pyarrow 14.0.2\n",
            "    Uninstalling pyarrow-14.0.2:\n",
            "      Successfully uninstalled pyarrow-14.0.2\n",
            "\u001b[31mERROR: pip's dependency resolver does not currently take into account all the packages that are installed. This behaviour is the source of the following dependency conflicts.\n",
            "cudf-cu12 24.4.1 requires pyarrow<15.0.0a0,>=14.0.1, but you have pyarrow 16.1.0 which is incompatible.\n",
            "google-colab 1.0.0 requires requests==2.31.0, but you have requests 2.32.3 which is incompatible.\n",
            "ibis-framework 8.0.0 requires pyarrow<16,>=2, but you have pyarrow 16.1.0 which is incompatible.\u001b[0m\u001b[31m\n",
            "\u001b[0mSuccessfully installed accelerate-0.31.0 beartype-0.14.1 better-abc-0.0.3 datasets-2.20.0 dill-0.3.8 docker-pycreds-0.4.0 einops-0.8.0 fancy-einsum-0.0.3 gitdb-4.0.11 gitpython-3.1.43 jaxtyping-0.2.30 multiprocess-0.70.16 nvidia-cublas-cu12-12.1.3.1 nvidia-cuda-cupti-cu12-12.1.105 nvidia-cuda-nvrtc-cu12-12.1.105 nvidia-cuda-runtime-cu12-12.1.105 nvidia-cudnn-cu12-8.9.2.26 nvidia-cufft-cu12-11.0.2.54 nvidia-curand-cu12-10.3.2.106 nvidia-cusolver-cu12-11.4.5.107 nvidia-cusparse-cu12-12.1.0.106 nvidia-nccl-cu12-2.20.5 nvidia-nvjitlink-cu12-12.5.40 nvidia-nvtx-cu12-12.1.105 pyarrow-16.1.0 requests-2.32.3 sentry-sdk-2.5.1 setproctitle-1.3.3 smmap-5.0.1 transformer_lens-2.1.0 typeguard-2.13.3 wandb-0.17.2 xxhash-3.4.1\n",
            "Requirement already satisfied: einops in /usr/local/lib/python3.10/dist-packages (0.8.0)\n",
            "Requirement already satisfied: jaxtyping in /usr/local/lib/python3.10/dist-packages (0.2.30)\n",
            "Requirement already satisfied: typeguard==2.13.3 in /usr/local/lib/python3.10/dist-packages (from jaxtyping) (2.13.3)\n",
            "Collecting git+https://github.com/callummcdougall/CircuitsVis.git#subdirectory=python\n",
            "  Cloning https://github.com/callummcdougall/CircuitsVis.git to /tmp/pip-req-build-zn9lp2ly\n",
            "  Running command git clone --filter=blob:none --quiet https://github.com/callummcdougall/CircuitsVis.git /tmp/pip-req-build-zn9lp2ly\n",
            "  Resolved https://github.com/callummcdougall/CircuitsVis.git to commit 1e6129d08cae7af9242d9ab5d3ed322dd44b4dd3\n",
            "  Installing build dependencies ... \u001b[?25l\u001b[?25hdone\n",
            "  Getting requirements to build wheel ... \u001b[?25l\u001b[?25hdone\n",
            "  Preparing metadata (pyproject.toml) ... \u001b[?25l\u001b[?25hdone\n",
            "Collecting importlib-metadata<6.0.0,>=5.1.0 (from circuitsvis==0.0.0)\n",
            "  Downloading importlib_metadata-5.2.0-py3-none-any.whl (21 kB)\n",
            "Requirement already satisfied: numpy<2.0,>=1.23 in /usr/local/lib/python3.10/dist-packages (from circuitsvis==0.0.0) (1.25.2)\n",
            "Requirement already satisfied: torch<3.0,>=2.0 in /usr/local/lib/python3.10/dist-packages (from circuitsvis==0.0.0) (2.3.0+cu121)\n",
            "Requirement already satisfied: zipp>=0.5 in /usr/local/lib/python3.10/dist-packages (from importlib-metadata<6.0.0,>=5.1.0->circuitsvis==0.0.0) (3.19.2)\n",
            "Requirement already satisfied: filelock in /usr/local/lib/python3.10/dist-packages (from torch<3.0,>=2.0->circuitsvis==0.0.0) (3.14.0)\n",
            "Requirement already satisfied: typing-extensions>=4.8.0 in /usr/local/lib/python3.10/dist-packages (from torch<3.0,>=2.0->circuitsvis==0.0.0) (4.12.2)\n",
            "Requirement already satisfied: sympy in /usr/local/lib/python3.10/dist-packages (from torch<3.0,>=2.0->circuitsvis==0.0.0) (1.12.1)\n",
            "Requirement already satisfied: networkx in /usr/local/lib/python3.10/dist-packages (from torch<3.0,>=2.0->circuitsvis==0.0.0) (3.3)\n",
            "Requirement already satisfied: jinja2 in /usr/local/lib/python3.10/dist-packages (from torch<3.0,>=2.0->circuitsvis==0.0.0) (3.1.4)\n",
            "Requirement already satisfied: fsspec in /usr/local/lib/python3.10/dist-packages (from torch<3.0,>=2.0->circuitsvis==0.0.0) (2023.6.0)\n",
            "Requirement already satisfied: nvidia-cuda-nvrtc-cu12==12.1.105 in /usr/local/lib/python3.10/dist-packages (from torch<3.0,>=2.0->circuitsvis==0.0.0) (12.1.105)\n",
            "Requirement already satisfied: nvidia-cuda-runtime-cu12==12.1.105 in /usr/local/lib/python3.10/dist-packages (from torch<3.0,>=2.0->circuitsvis==0.0.0) (12.1.105)\n",
            "Requirement already satisfied: nvidia-cuda-cupti-cu12==12.1.105 in /usr/local/lib/python3.10/dist-packages (from torch<3.0,>=2.0->circuitsvis==0.0.0) (12.1.105)\n",
            "Requirement already satisfied: nvidia-cudnn-cu12==8.9.2.26 in /usr/local/lib/python3.10/dist-packages (from torch<3.0,>=2.0->circuitsvis==0.0.0) (8.9.2.26)\n",
            "Requirement already satisfied: nvidia-cublas-cu12==12.1.3.1 in /usr/local/lib/python3.10/dist-packages (from torch<3.0,>=2.0->circuitsvis==0.0.0) (12.1.3.1)\n",
            "Requirement already satisfied: nvidia-cufft-cu12==11.0.2.54 in /usr/local/lib/python3.10/dist-packages (from torch<3.0,>=2.0->circuitsvis==0.0.0) (11.0.2.54)\n",
            "Requirement already satisfied: nvidia-curand-cu12==10.3.2.106 in /usr/local/lib/python3.10/dist-packages (from torch<3.0,>=2.0->circuitsvis==0.0.0) (10.3.2.106)\n",
            "Requirement already satisfied: nvidia-cusolver-cu12==11.4.5.107 in /usr/local/lib/python3.10/dist-packages (from torch<3.0,>=2.0->circuitsvis==0.0.0) (11.4.5.107)\n",
            "Requirement already satisfied: nvidia-cusparse-cu12==12.1.0.106 in /usr/local/lib/python3.10/dist-packages (from torch<3.0,>=2.0->circuitsvis==0.0.0) (12.1.0.106)\n",
            "Requirement already satisfied: nvidia-nccl-cu12==2.20.5 in /usr/local/lib/python3.10/dist-packages (from torch<3.0,>=2.0->circuitsvis==0.0.0) (2.20.5)\n",
            "Requirement already satisfied: nvidia-nvtx-cu12==12.1.105 in /usr/local/lib/python3.10/dist-packages (from torch<3.0,>=2.0->circuitsvis==0.0.0) (12.1.105)\n",
            "Requirement already satisfied: triton==2.3.0 in /usr/local/lib/python3.10/dist-packages (from torch<3.0,>=2.0->circuitsvis==0.0.0) (2.3.0)\n",
            "Requirement already satisfied: nvidia-nvjitlink-cu12 in /usr/local/lib/python3.10/dist-packages (from nvidia-cusolver-cu12==11.4.5.107->torch<3.0,>=2.0->circuitsvis==0.0.0) (12.5.40)\n",
            "Requirement already satisfied: MarkupSafe>=2.0 in /usr/local/lib/python3.10/dist-packages (from jinja2->torch<3.0,>=2.0->circuitsvis==0.0.0) (2.1.5)\n",
            "Requirement already satisfied: mpmath<1.4.0,>=1.1.0 in /usr/local/lib/python3.10/dist-packages (from sympy->torch<3.0,>=2.0->circuitsvis==0.0.0) (1.3.0)\n",
            "Building wheels for collected packages: circuitsvis\n",
            "  Building wheel for circuitsvis (pyproject.toml) ... \u001b[?25l\u001b[?25hdone\n",
            "  Created wheel for circuitsvis: filename=circuitsvis-0.0.0-py3-none-any.whl size=6172334 sha256=59415c32edc93016c6c42f3b4833706a3be43b700e7573be5495cc7c0ec5f306\n",
            "  Stored in directory: /tmp/pip-ephem-wheel-cache-j2jo0ssh/wheels/86/be/ad/78078aba9344d200aad61b63d35cdaecdec160212f039eed74\n",
            "Successfully built circuitsvis\n",
            "Installing collected packages: importlib-metadata, circuitsvis\n",
            "  Attempting uninstall: importlib-metadata\n",
            "    Found existing installation: importlib_metadata 7.1.0\n",
            "    Uninstalling importlib_metadata-7.1.0:\n",
            "      Successfully uninstalled importlib_metadata-7.1.0\n",
            "Successfully installed circuitsvis-0.0.0 importlib-metadata-5.2.0\n",
            "--2024-06-17 23:47:05--  https://github.com/callummcdougall/ARENA_3.0/archive/refs/heads/main.zip\n",
            "Resolving github.com (github.com)... 20.205.243.166\n",
            "Connecting to github.com (github.com)|20.205.243.166|:443... connected.\n",
            "HTTP request sent, awaiting response... 302 Found\n",
            "Location: https://codeload.github.com/callummcdougall/ARENA_3.0/zip/refs/heads/main [following]\n",
            "--2024-06-17 23:47:05--  https://codeload.github.com/callummcdougall/ARENA_3.0/zip/refs/heads/main\n",
            "Resolving codeload.github.com (codeload.github.com)... 20.205.243.165\n",
            "Connecting to codeload.github.com (codeload.github.com)|20.205.243.165|:443... connected.\n",
            "HTTP request sent, awaiting response... 200 OK\n",
            "Length: unspecified [application/zip]\n",
            "Saving to: ‘main.zip’\n",
            "\n",
            "main.zip                [    <=>             ]  81.63M  8.91MB/s    in 9.7s    \n",
            "\n",
            "2024-06-17 23:47:16 (8.39 MB/s) - ‘main.zip’ saved [85592904]\n",
            "\n",
            "Archive:  /content/main.zip\n",
            "7b53520e7b642e3827fc9c24ae0fd89420f4e175\n",
            "   creating: ARENA_3.0-main/chapter1_transformer_interp/exercises/\n",
            "   creating: ARENA_3.0-main/chapter1_transformer_interp/exercises/monthly_algorithmic_problems/\n",
            "   creating: ARENA_3.0-main/chapter1_transformer_interp/exercises/monthly_algorithmic_problems/august23_unique_char/\n",
            "  inflating: ARENA_3.0-main/chapter1_transformer_interp/exercises/monthly_algorithmic_problems/august23_unique_char/dataset.py  \n",
            "  inflating: ARENA_3.0-main/chapter1_transformer_interp/exercises/monthly_algorithmic_problems/august23_unique_char/first_unique_char_model.pt  \n",
            "  inflating: ARENA_3.0-main/chapter1_transformer_interp/exercises/monthly_algorithmic_problems/august23_unique_char/model.py  \n",
            "  inflating: ARENA_3.0-main/chapter1_transformer_interp/exercises/monthly_algorithmic_problems/august23_unique_char/training.py  \n",
            "  inflating: ARENA_3.0-main/chapter1_transformer_interp/exercises/monthly_algorithmic_problems/august23_unique_char/training_model.ipynb  \n",
            "   creating: ARENA_3.0-main/chapter1_transformer_interp/exercises/monthly_algorithmic_problems/january24_caesar_cipher/\n",
            "  inflating: ARENA_3.0-main/chapter1_transformer_interp/exercises/monthly_algorithmic_problems/january24_caesar_cipher/caesar_cipher_model_easy.pt  \n",
            "  inflating: ARENA_3.0-main/chapter1_transformer_interp/exercises/monthly_algorithmic_problems/january24_caesar_cipher/caesar_cipher_model_hard.pt  \n",
            "  inflating: ARENA_3.0-main/chapter1_transformer_interp/exercises/monthly_algorithmic_problems/january24_caesar_cipher/caesar_cipher_model_medium.pt  \n",
            "  inflating: ARENA_3.0-main/chapter1_transformer_interp/exercises/monthly_algorithmic_problems/january24_caesar_cipher/dataset.py  \n",
            "  inflating: ARENA_3.0-main/chapter1_transformer_interp/exercises/monthly_algorithmic_problems/january24_caesar_cipher/hitchhikers.txt  \n",
            "  inflating: ARENA_3.0-main/chapter1_transformer_interp/exercises/monthly_algorithmic_problems/january24_caesar_cipher/model.py  \n",
            "  inflating: ARENA_3.0-main/chapter1_transformer_interp/exercises/monthly_algorithmic_problems/january24_caesar_cipher/training.py  \n",
            "  inflating: ARENA_3.0-main/chapter1_transformer_interp/exercises/monthly_algorithmic_problems/january24_caesar_cipher/training_model.ipynb  \n",
            "   creating: ARENA_3.0-main/chapter1_transformer_interp/exercises/monthly_algorithmic_problems/july23_palindromes/\n",
            "  inflating: ARENA_3.0-main/chapter1_transformer_interp/exercises/monthly_algorithmic_problems/july23_palindromes/dataset.py  \n",
            "  inflating: ARENA_3.0-main/chapter1_transformer_interp/exercises/monthly_algorithmic_problems/july23_palindromes/model.py  \n",
            "  inflating: ARENA_3.0-main/chapter1_transformer_interp/exercises/monthly_algorithmic_problems/july23_palindromes/palindrome_classifier.pt  \n",
            "  inflating: ARENA_3.0-main/chapter1_transformer_interp/exercises/monthly_algorithmic_problems/july23_palindromes/training.py  \n",
            "  inflating: ARENA_3.0-main/chapter1_transformer_interp/exercises/monthly_algorithmic_problems/july23_palindromes/training_model.ipynb  \n",
            "   creating: ARENA_3.0-main/chapter1_transformer_interp/exercises/monthly_algorithmic_problems/november23_cumsum/\n",
            "  inflating: ARENA_3.0-main/chapter1_transformer_interp/exercises/monthly_algorithmic_problems/november23_cumsum/cumsum_model.pt  \n",
            "  inflating: ARENA_3.0-main/chapter1_transformer_interp/exercises/monthly_algorithmic_problems/november23_cumsum/dataset.py  \n",
            "  inflating: ARENA_3.0-main/chapter1_transformer_interp/exercises/monthly_algorithmic_problems/november23_cumsum/model.py  \n",
            "  inflating: ARENA_3.0-main/chapter1_transformer_interp/exercises/monthly_algorithmic_problems/november23_cumsum/training.py  \n",
            "  inflating: ARENA_3.0-main/chapter1_transformer_interp/exercises/monthly_algorithmic_problems/november23_cumsum/training_model.ipynb  \n",
            "   creating: ARENA_3.0-main/chapter1_transformer_interp/exercises/monthly_algorithmic_problems/october23_sorted_list/\n",
            "  inflating: ARENA_3.0-main/chapter1_transformer_interp/exercises/monthly_algorithmic_problems/october23_sorted_list/dataset.py  \n",
            "  inflating: ARENA_3.0-main/chapter1_transformer_interp/exercises/monthly_algorithmic_problems/october23_sorted_list/model.py  \n",
            "  inflating: ARENA_3.0-main/chapter1_transformer_interp/exercises/monthly_algorithmic_problems/october23_sorted_list/sorted_list_model.pt  \n",
            "  inflating: ARENA_3.0-main/chapter1_transformer_interp/exercises/monthly_algorithmic_problems/october23_sorted_list/training.py  \n",
            "  inflating: ARENA_3.0-main/chapter1_transformer_interp/exercises/monthly_algorithmic_problems/october23_sorted_list/training_model.ipynb  \n",
            "   creating: ARENA_3.0-main/chapter1_transformer_interp/exercises/monthly_algorithmic_problems/september23_sum/\n",
            "  inflating: ARENA_3.0-main/chapter1_transformer_interp/exercises/monthly_algorithmic_problems/september23_sum/dataset.py  \n",
            "  inflating: ARENA_3.0-main/chapter1_transformer_interp/exercises/monthly_algorithmic_problems/september23_sum/model.py  \n",
            "  inflating: ARENA_3.0-main/chapter1_transformer_interp/exercises/monthly_algorithmic_problems/september23_sum/sum_model.pt  \n",
            "  inflating: ARENA_3.0-main/chapter1_transformer_interp/exercises/monthly_algorithmic_problems/september23_sum/training.py  \n",
            "  inflating: ARENA_3.0-main/chapter1_transformer_interp/exercises/monthly_algorithmic_problems/september23_sum/training_model.ipynb  \n",
            "   creating: ARENA_3.0-main/chapter1_transformer_interp/exercises/part1_transformer_from_scratch/\n",
            "  inflating: ARENA_3.0-main/chapter1_transformer_interp/exercises/part1_transformer_from_scratch/solutions.py  \n",
            "  inflating: ARENA_3.0-main/chapter1_transformer_interp/exercises/part1_transformer_from_scratch/tests.py  \n",
            "   creating: ARENA_3.0-main/chapter1_transformer_interp/exercises/part2_intro_to_mech_interp/\n",
            "  inflating: ARENA_3.0-main/chapter1_transformer_interp/exercises/part2_intro_to_mech_interp/solutions.py  \n",
            "  inflating: ARENA_3.0-main/chapter1_transformer_interp/exercises/part2_intro_to_mech_interp/tests.py  \n",
            "   creating: ARENA_3.0-main/chapter1_transformer_interp/exercises/part3_indirect_object_identification/\n",
            "  inflating: ARENA_3.0-main/chapter1_transformer_interp/exercises/part3_indirect_object_identification/ioi_circuit_extraction.py  \n",
            "  inflating: ARENA_3.0-main/chapter1_transformer_interp/exercises/part3_indirect_object_identification/ioi_dataset.py  \n",
            "  inflating: ARENA_3.0-main/chapter1_transformer_interp/exercises/part3_indirect_object_identification/solutions.py  \n",
            "  inflating: ARENA_3.0-main/chapter1_transformer_interp/exercises/part3_indirect_object_identification/tests.py  \n",
            "   creating: ARENA_3.0-main/chapter1_transformer_interp/exercises/part4_superposition_and_saes/\n",
            "  inflating: ARENA_3.0-main/chapter1_transformer_interp/exercises/part4_superposition_and_saes/solutions.py  \n",
            "  inflating: ARENA_3.0-main/chapter1_transformer_interp/exercises/part4_superposition_and_saes/tests.py  \n",
            "  inflating: ARENA_3.0-main/chapter1_transformer_interp/exercises/part4_superposition_and_saes/utils.py  \n",
            "   creating: ARENA_3.0-main/chapter1_transformer_interp/exercises/part5_function_vectors_and_model_steering/\n",
            "   creating: ARENA_3.0-main/chapter1_transformer_interp/exercises/part5_function_vectors_and_model_steering/data/\n",
            "  inflating: ARENA_3.0-main/chapter1_transformer_interp/exercises/part5_function_vectors_and_model_steering/data/antonym_pairs.txt  \n",
            "  inflating: ARENA_3.0-main/chapter1_transformer_interp/exercises/part5_function_vectors_and_model_steering/data/country_capital_pairs.txt  \n",
            "  inflating: ARENA_3.0-main/chapter1_transformer_interp/exercises/part5_function_vectors_and_model_steering/data/test_fn_vector.pt  \n",
            "  inflating: ARENA_3.0-main/chapter1_transformer_interp/exercises/part5_function_vectors_and_model_steering/data/test_fn_vector_1.pt  \n",
            "  inflating: ARENA_3.0-main/chapter1_transformer_interp/exercises/part5_function_vectors_and_model_steering/data/test_fn_vector_2.pt  \n",
            "  inflating: ARENA_3.0-main/chapter1_transformer_interp/exercises/part5_function_vectors_and_model_steering/data/test_h.pt  \n",
            "  inflating: ARENA_3.0-main/chapter1_transformer_interp/exercises/part5_function_vectors_and_model_steering/solutions.py  \n",
            "  inflating: ARENA_3.0-main/chapter1_transformer_interp/exercises/part5_function_vectors_and_model_steering/tests.py  \n",
            "   creating: ARENA_3.0-main/chapter1_transformer_interp/exercises/part6_othellogpt/\n",
            "  inflating: ARENA_3.0-main/chapter1_transformer_interp/exercises/part6_othellogpt/solutions.py  \n",
            "  inflating: ARENA_3.0-main/chapter1_transformer_interp/exercises/part6_othellogpt/tests.py  \n",
            "   creating: ARENA_3.0-main/chapter1_transformer_interp/exercises/part7_balanced_bracket_classifier/\n",
            "  inflating: ARENA_3.0-main/chapter1_transformer_interp/exercises/part7_balanced_bracket_classifier/brackets_data.json  \n",
            "  inflating: ARENA_3.0-main/chapter1_transformer_interp/exercises/part7_balanced_bracket_classifier/brackets_datasets.py  \n",
            "  inflating: ARENA_3.0-main/chapter1_transformer_interp/exercises/part7_balanced_bracket_classifier/brackets_model_state_dict.pt  \n",
            "  inflating: ARENA_3.0-main/chapter1_transformer_interp/exercises/part7_balanced_bracket_classifier/solutions.py  \n",
            "  inflating: ARENA_3.0-main/chapter1_transformer_interp/exercises/part7_balanced_bracket_classifier/tests.py  \n",
            "   creating: ARENA_3.0-main/chapter1_transformer_interp/exercises/part8_grokking_and_modular_arithmetic/\n",
            "  inflating: ARENA_3.0-main/chapter1_transformer_interp/exercises/part8_grokking_and_modular_arithmetic/my_utils.py  \n",
            "  inflating: ARENA_3.0-main/chapter1_transformer_interp/exercises/part8_grokking_and_modular_arithmetic/solutions.py  \n",
            "  inflating: ARENA_3.0-main/chapter1_transformer_interp/exercises/part8_grokking_and_modular_arithmetic/tests.py  \n",
            "  inflating: ARENA_3.0-main/chapter1_transformer_interp/exercises/plotly_utils.py  \n"
          ]
        }
      ],
      "source": [
        "try:\n",
        "    import google.colab # type: ignore\n",
        "    IN_COLAB = True\n",
        "except:\n",
        "    IN_COLAB = False\n",
        "\n",
        "import os, sys\n",
        "chapter = \"chapter1_transformer_interp\"\n",
        "repo = \"ARENA_3.0\"\n",
        "\n",
        "if IN_COLAB:\n",
        "    # Install packages\n",
        "    %pip install transformer_lens\n",
        "    %pip install einops\n",
        "    %pip install jaxtyping\n",
        "    %pip install git+https://github.com/callummcdougall/CircuitsVis.git#subdirectory=python\n",
        "\n",
        "    # Code to download the necessary files (e.g. solutions, test funcs)\n",
        "    if not os.path.exists(f\"/content/{chapter}\"):\n",
        "        !wget https://github.com/callummcdougall/ARENA_3.0/archive/refs/heads/main.zip\n",
        "        !unzip /content/main.zip 'ARENA_3.0-main/chapter1_transformer_interp/exercises/*'\n",
        "        sys.path.append(f\"/content/{repo}-main/{chapter}/exercises\")\n",
        "        os.remove(\"/content/main.zip\")\n",
        "        os.rename(f\"{repo}-main/{chapter}\", chapter)\n",
        "        os.rmdir(f\"{repo}-main\")\n",
        "        os.chdir(f\"{chapter}/exercises\")\n",
        "else:\n",
        "    chapter_dir = r\"./\" if chapter in os.listdir() else os.getcwd().split(chapter)[0]\n",
        "    sys.path.append(chapter_dir + f\"{chapter}/exercises\")"
      ]
    },
    {
      "cell_type": "code",
      "execution_count": 2,
      "metadata": {
        "id": "Lx3WrMyUl6mB",
        "colab": {
          "base_uri": "https://localhost:8080/"
        },
        "outputId": "7a1cf60b-dced-4ba9-8911-ec1be7d8f77d"
      },
      "outputs": [
        {
          "output_type": "stream",
          "name": "stderr",
          "text": [
            "/usr/local/lib/python3.10/dist-packages/accelerate/utils/imports.py:274: UserWarning: `ACCELERATE_DISABLE_RICH` is deprecated and will be removed in v0.22.0 and deactivated by default. Please use `ACCELERATE_ENABLE_RICH` if you wish to use `rich`.\n",
            "  warnings.warn(\n"
          ]
        }
      ],
      "source": [
        "import os; os.environ[\"ACCELERATE_DISABLE_RICH\"] = \"1\"\n",
        "import sys\n",
        "from pathlib import Path\n",
        "import torch as t\n",
        "from torch import Tensor\n",
        "import numpy as np\n",
        "import einops\n",
        "from tqdm.notebook import tqdm\n",
        "import plotly.express as px\n",
        "import webbrowser\n",
        "import re\n",
        "import itertools\n",
        "from jaxtyping import Float, Int, Bool\n",
        "from typing import List, Optional, Callable, Tuple, Dict, Literal, Set, Union\n",
        "from functools import partial\n",
        "from IPython.display import display, HTML\n",
        "from rich.table import Table, Column\n",
        "from rich import print as rprint\n",
        "import circuitsvis as cv\n",
        "from pathlib import Path\n",
        "from transformer_lens.hook_points import HookPoint\n",
        "from transformer_lens import utils, HookedTransformer, ActivationCache\n",
        "from transformer_lens.components import Embed, Unembed, LayerNorm, MLP\n",
        "\n",
        "t.set_grad_enabled(False)\n",
        "\n",
        "# Make sure exercises are in the path\n",
        "exercises_dir = Path(f\"{os.getcwd().split(chapter)[0]}/{chapter}/exercises\").resolve()\n",
        "section_dir = (exercises_dir / \"part3_indirect_object_identification\").resolve()\n",
        "if str(exercises_dir) not in sys.path: sys.path.append(str(exercises_dir))\n",
        "\n",
        "from plotly_utils import imshow, line, scatter, bar\n",
        "import part3_indirect_object_identification.tests as tests\n",
        "\n",
        "device = t.device(\"cuda\") if t.cuda.is_available() else t.device(\"cpu\")\n",
        "\n",
        "MAIN = __name__ == \"__main__\""
      ]
    },
    {
      "cell_type": "markdown",
      "metadata": {
        "id": "02aFRKnCl6mC"
      },
      "source": [
        "# 1️⃣ Model & Task Setup\n"
      ]
    },
    {
      "cell_type": "markdown",
      "metadata": {
        "id": "KW9iHqxxd291"
      },
      "source": [
        "> ##### Learning objectives\n",
        ">\n",
        "> * Understand the IOI task, and why the authors chose to study it\n",
        "> * Build functions to demonstrate the model's performance on this task\n"
      ]
    },
    {
      "cell_type": "markdown",
      "metadata": {
        "id": "8TcltuwNf4Y_"
      },
      "source": [
        "## Loading our model\n"
      ]
    },
    {
      "cell_type": "markdown",
      "metadata": {
        "id": "p5N8d-nvl6mD"
      },
      "source": [
        "The first step is to load in our model, GPT-2 Small, a 12 layer and 80M parameter transformer with `HookedTransformer.from_pretrained`. The various flags are simplifications that preserve the model's output but simplify its internals.\n"
      ]
    },
    {
      "cell_type": "code",
      "execution_count": 3,
      "metadata": {
        "id": "FyK_Rd9Ol6mE",
        "colab": {
          "base_uri": "https://localhost:8080/",
          "height": 622,
          "referenced_widgets": [
            "3f77e3d91bf54de6a06a0e26c0c79ab3",
            "8ed1d8786cb9424f99e3a9a04a47ba08",
            "fbfa8bc012bf45cc9c5ccfbae63c50fe",
            "fde725e14a9146d980e9a62c55d3f014",
            "f855f570ba8442b7bbe4ffe38fe72c25",
            "10fb53512e8d4028ba43e2081f264557",
            "df22ebbde4374f509eb420c599e68d68",
            "3887d999b0844f0aac97fbfd620b0286",
            "8fa39c84a9024ffc8a37b7a8b827c415",
            "4b0d44011270447da92f4bd52617d9b0",
            "1b22fb51e9d445ab99525bb38add73a8",
            "639946cb01e846739113b1a26180979d",
            "5e69a7f0a02d44728a7c966d49a3dc01",
            "5729163d695e44b7b3d53ddf4cbf931f",
            "0989dfe34ef6446e824065858316dcc3",
            "9c2698e15d714e73b0669e9136c0dcdb",
            "0acdc04727db42ffbe8fa30e3115a636",
            "61614e6dc1ee43b8b3171beee21a4173",
            "70b7226a983643d7b87c8db4580fa293",
            "6df02884b82a4a62b9cd51a21e875879",
            "3f4a2bd5a4f14a7bae972e77e0e1ec6e",
            "3548c7259f584acdb1c36c23a4f2d642",
            "c5bba0f2690e49d1a27b584948bcdcd3",
            "1e48f45ebcb242b5b5612bff55777ae0",
            "cdd4a525ae82471e9ea3fdeb03140599",
            "bb34a3db6a7a40d2b3efc810d9e7376c",
            "57c348da427d4bd3aeee8a8e5ed51df7",
            "bc044bdec42442f2b2ad62cc5f1dae46",
            "ea35c5f3ce9d4ae18725da54dbe86df7",
            "8f89e6c3eb8a40b4b7a6f2cccbcde98a",
            "00773f6d44b441b38734fed2cad0e94b",
            "e2593836709e47929f5ec28dc7d36b61",
            "77cbe3faaa384926a04dfadf9ae7fa48",
            "81c5872d07e54f3b9ec129e566a4aac1",
            "a360ead140904b19815ab9cccb3aa689",
            "f08840188d5747fc8253ab280c49557c",
            "2faade22fc3444db8de03249db4b657a",
            "cddc6aa184a646e89814dbf41db97ffb",
            "7e97f9420ae54d18b43adcb0a4c7de6f",
            "e009f47fc7e64e2f85c369bd8d33c0f1",
            "5d4c03719a284a1db2939064106e2a35",
            "71c05cb5dad24a76b8e6d45c01df2e47",
            "274d2767d357430e8b6c7dab89b6c209",
            "b2acd01490a74b819496fb9c169e819a",
            "4916c3a8c6084a9a88e0ccd9c1d160ca",
            "066e9803a90c4fa3aef2d1b22ebc420e",
            "35b03a851f8b4b91b16218846e76ae9f",
            "1a5d27ee493946dc826270d93561a35f",
            "f509097241854b20bd91523ccb4219e5",
            "f433025a70a64bbca3ebf10c26383c36",
            "fe4548180c25425aad340d49f2180bba",
            "17550d99115543dfb162e7b05e97d5e5",
            "d08dbbd41f954a1ab2b8d2128fadd94d",
            "5174b740828145d889f9da5a7695df4a",
            "be74961e14c441e1a37b71811a76ffdc",
            "173c57a3bcf64969b08bc0b36898fbe6",
            "06331840ae8e4a099d4c2ae46ecfab67",
            "feba7eef28e0433ba3d8d497a628ba8c",
            "dbb9f11b3a9e45ad86899c47978815bd",
            "f7ac46909e4c48758250642016ffa32f",
            "8da978a6c464472caa74f8403e10534b",
            "f36273134f054b5484da4ef6b2acdae8",
            "517823cc517c48fba49c19dbe481c8e9",
            "1ebc3f43e7344c0cb487b4e06de72527",
            "4879d7d947b04ce08f2477a3cd542a26",
            "f654cdc4edba443fafa6c4ed741ffabc",
            "cb5e558898ac4e1b88ab1ff60b0925ba",
            "a9442bf0f5cd4c9ab4e5c70ce627b1f4",
            "d9453c6c8adc40b6908ed8c6b7745001",
            "ef0323bcca824ce49ea9291c18f309bd",
            "8dee06e378e04d40bac9524e72ba0a1a",
            "317964c9484e495887f26e1525341236",
            "c4f289bb4ba14c5d8a4afb48f51a964a",
            "a38e4a527a664dc382a655d6461fb108",
            "d194039a4d234d798a1c12994ec25b70",
            "52a6adb156b7496d82616f4317b5affb",
            "2774f92daadc4a4aa9a43e08ee859233"
          ]
        },
        "outputId": "cd4c2f6c-352e-4a07-ee7d-7a5eb9933dca"
      },
      "outputs": [
        {
          "output_type": "stream",
          "name": "stderr",
          "text": [
            "/usr/local/lib/python3.10/dist-packages/huggingface_hub/file_download.py:1132: FutureWarning: `resume_download` is deprecated and will be removed in version 1.0.0. Downloads always resume when possible. If you want to force a new download, use `force_download=True`.\n",
            "  warnings.warn(\n",
            "/usr/local/lib/python3.10/dist-packages/huggingface_hub/utils/_token.py:89: UserWarning: \n",
            "The secret `HF_TOKEN` does not exist in your Colab secrets.\n",
            "To authenticate with the Hugging Face Hub, create a token in your settings tab (https://huggingface.co/settings/tokens), set it as secret in your Google Colab and restart your session.\n",
            "You will be able to reuse this secret in all of your notebooks.\n",
            "Please note that authentication is recommended but still optional to access public models or datasets.\n",
            "  warnings.warn(\n"
          ]
        },
        {
          "output_type": "display_data",
          "data": {
            "text/plain": [
              "config.json:   0%|          | 0.00/665 [00:00<?, ?B/s]"
            ],
            "application/vnd.jupyter.widget-view+json": {
              "version_major": 2,
              "version_minor": 0,
              "model_id": "3f77e3d91bf54de6a06a0e26c0c79ab3"
            }
          },
          "metadata": {}
        },
        {
          "output_type": "display_data",
          "data": {
            "text/plain": [
              "model.safetensors:   0%|          | 0.00/548M [00:00<?, ?B/s]"
            ],
            "application/vnd.jupyter.widget-view+json": {
              "version_major": 2,
              "version_minor": 0,
              "model_id": "639946cb01e846739113b1a26180979d"
            }
          },
          "metadata": {}
        },
        {
          "output_type": "display_data",
          "data": {
            "text/plain": [
              "generation_config.json:   0%|          | 0.00/124 [00:00<?, ?B/s]"
            ],
            "application/vnd.jupyter.widget-view+json": {
              "version_major": 2,
              "version_minor": 0,
              "model_id": "c5bba0f2690e49d1a27b584948bcdcd3"
            }
          },
          "metadata": {}
        },
        {
          "output_type": "display_data",
          "data": {
            "text/plain": [
              "tokenizer_config.json:   0%|          | 0.00/26.0 [00:00<?, ?B/s]"
            ],
            "application/vnd.jupyter.widget-view+json": {
              "version_major": 2,
              "version_minor": 0,
              "model_id": "81c5872d07e54f3b9ec129e566a4aac1"
            }
          },
          "metadata": {}
        },
        {
          "output_type": "display_data",
          "data": {
            "text/plain": [
              "vocab.json:   0%|          | 0.00/1.04M [00:00<?, ?B/s]"
            ],
            "application/vnd.jupyter.widget-view+json": {
              "version_major": 2,
              "version_minor": 0,
              "model_id": "4916c3a8c6084a9a88e0ccd9c1d160ca"
            }
          },
          "metadata": {}
        },
        {
          "output_type": "display_data",
          "data": {
            "text/plain": [
              "merges.txt:   0%|          | 0.00/456k [00:00<?, ?B/s]"
            ],
            "application/vnd.jupyter.widget-view+json": {
              "version_major": 2,
              "version_minor": 0,
              "model_id": "173c57a3bcf64969b08bc0b36898fbe6"
            }
          },
          "metadata": {}
        },
        {
          "output_type": "display_data",
          "data": {
            "text/plain": [
              "tokenizer.json:   0%|          | 0.00/1.36M [00:00<?, ?B/s]"
            ],
            "application/vnd.jupyter.widget-view+json": {
              "version_major": 2,
              "version_minor": 0,
              "model_id": "cb5e558898ac4e1b88ab1ff60b0925ba"
            }
          },
          "metadata": {}
        },
        {
          "output_type": "stream",
          "name": "stdout",
          "text": [
            "Loaded pretrained model gpt2-small into HookedTransformer\n"
          ]
        }
      ],
      "source": [
        "model = HookedTransformer.from_pretrained(\n",
        "    \"gpt2-small\",\n",
        "    center_unembed=True,\n",
        "    center_writing_weights=True,\n",
        "    fold_ln=True,\n",
        "    refactor_factored_attn_matrices=True,\n",
        ")"
      ]
    },
    {
      "cell_type": "markdown",
      "metadata": {
        "id": "yPltmoLml6mE"
      },
      "source": [
        "<details>\n",
        "<summary>Note on <code>refactor_factored_attn_matrices</code> (optional)</summary>\n",
        "\n",
        "This argument means we redefine the matrices $W_Q$, $W_K$, $W_V$ and $W_O$ in the model (without changing the model's actual behaviour).\n",
        "\n",
        "For example, we know that instead of working with $W_Q$ and $W_K$ individually, the only matrix we actually need to use in the model is the low-rank matrix $W_Q W_K^T$ (note that I'm using the convention of matrix multiplication on the right, which matches the code in transformerlens and previous exercises in this series, but doesn't match Anthropic's Mathematical Frameworks paper). So if we perform singular value decomposition $W_Q W_K^T = U S V^T$, then we see that we can just as easily define $W_Q = U \\sqrt{S}$ and $W_K = V \\sqrt{S}$ and use these instead. This means that $W_Q$ and $W_K$ both have orthogonal columns with matching norms. You can investigate this yourself (e.g. using the code below). This is arguably a more interpretable setup, because now there's no obvious asymmetry between the keys and queries.\n",
        "\n",
        "There's also some fiddlyness with how biases are handled in this factorisation, which is why the comments above don't hold absolutely (see the documnentation for more info).\n",
        "\n",
        "```python\n",
        "# Show column norms are the same (except first few, for fiddly bias reasons)\n",
        "line([model.W_Q[0, 0].pow(2).sum(0), model.W_K[0, 0].pow(2).sum(0)])\n",
        "# Show columns are orthogonal (except first few, again)\n",
        "W_Q_dot_products = einops.einsum(\n",
        "    model.W_Q[0, 0], model.W_Q[0, 0], \"d_model d_head_1, d_model d_head_2 -> d_head_1 d_head_2\"\n",
        ")\n",
        "imshow(W_Q_dot_products)\n",
        "```\n",
        "\n",
        "In a similar way, since $W_{OV} = W_V W_O = U S V^T$, we can define $W_V = U S$ and $W_O = V^T$. This is arguably a more interpretable setup, because now $W_O$ is just a rotation, and doesn't change the norm, so $z$ has the same norm as the result of the head.\n",
        "</details>\n",
        "\n",
        "<details>\n",
        "<summary>Note on <code>fold_ln</code>, <code>center_unembed</code> and <code>center_writing_weights</code> (optional)</summary>\n",
        "\n",
        "See link [here](https://github.com/neelnanda-io/TransformerLens/blob/main/further_comments.md#what-is-layernorm-folding-fold_ln) for comments.\n",
        "</details>\n"
      ]
    },
    {
      "cell_type": "markdown",
      "metadata": {
        "id": "FKrFXFEvl6mE"
      },
      "source": [
        "The next step is to verify that the model can *actually* do the task! Here we use `utils.test_prompt`, and see that the model is significantly better at predicting Mary than John!\n",
        "\n",
        "<details><summary>Asides</summary>\n",
        "\n",
        "Note: If we were being careful, we'd want to run the model on a range of prompts and find the average performance. We'll do more stuff like this in the fourth section (when we try to replicate some of the paper's results, and take a more rigorous approach).\n",
        "\n",
        "`prepend_bos` is a flag to add a BOS (beginning of sequence) to the start of the prompt. GPT-2 was not trained with this, but I find that it often makes model behaviour more stable, as the first token is treated weirdly.\n",
        "</details>\n"
      ]
    },
    {
      "cell_type": "code",
      "execution_count": 4,
      "metadata": {
        "id": "JjpUqNzRl6mE",
        "colab": {
          "base_uri": "https://localhost:8080/",
          "height": 307
        },
        "outputId": "ae0dedec-5031-4ec4-9588-9c9ee05661c8"
      },
      "outputs": [
        {
          "output_type": "stream",
          "name": "stdout",
          "text": [
            "Tokenized prompt: ['<|endoftext|>', 'After', ' John', ' and', ' Mary', ' went', ' to', ' the', ' store', ',', ' John', ' gave', ' a', ' bottle', ' of', ' milk', ' to']\n",
            "Tokenized answer: [' Mary']\n"
          ]
        },
        {
          "output_type": "display_data",
          "data": {
            "text/plain": [
              "Performance on answer token:\n",
              "\u001b[1mRank: \u001b[0m\u001b[1;36m0\u001b[0m\u001b[1m        Logit: \u001b[0m\u001b[1;36m18.09\u001b[0m\u001b[1m Prob: \u001b[0m\u001b[1;36m70.07\u001b[0m\u001b[1m% Token: | Mary|\u001b[0m\n"
            ],
            "text/html": [
              "<pre style=\"white-space:pre;overflow-x:auto;line-height:normal;font-family:Menlo,'DejaVu Sans Mono',consolas,'Courier New',monospace\">Performance on answer token:\n",
              "<span style=\"font-weight: bold\">Rank: </span><span style=\"color: #008080; text-decoration-color: #008080; font-weight: bold\">0</span><span style=\"font-weight: bold\">        Logit: </span><span style=\"color: #008080; text-decoration-color: #008080; font-weight: bold\">18.09</span><span style=\"font-weight: bold\"> Prob: </span><span style=\"color: #008080; text-decoration-color: #008080; font-weight: bold\">70.07</span><span style=\"font-weight: bold\">% Token: | Mary|</span>\n",
              "</pre>\n"
            ]
          },
          "metadata": {}
        },
        {
          "output_type": "stream",
          "name": "stdout",
          "text": [
            "Top 0th token. Logit: 18.09 Prob: 70.07% Token: | Mary|\n",
            "Top 1th token. Logit: 15.38 Prob:  4.67% Token: | the|\n",
            "Top 2th token. Logit: 15.35 Prob:  4.54% Token: | John|\n",
            "Top 3th token. Logit: 15.25 Prob:  4.11% Token: | them|\n",
            "Top 4th token. Logit: 14.84 Prob:  2.73% Token: | his|\n",
            "Top 5th token. Logit: 14.06 Prob:  1.24% Token: | her|\n",
            "Top 6th token. Logit: 13.54 Prob:  0.74% Token: | a|\n",
            "Top 7th token. Logit: 13.52 Prob:  0.73% Token: | their|\n",
            "Top 8th token. Logit: 13.13 Prob:  0.49% Token: | Jesus|\n",
            "Top 9th token. Logit: 12.97 Prob:  0.42% Token: | him|\n"
          ]
        },
        {
          "output_type": "display_data",
          "data": {
            "text/plain": [
              "\u001b[1mRanks of the answer tokens:\u001b[0m \u001b[1m[\u001b[0m\u001b[1m(\u001b[0m\u001b[32m' Mary'\u001b[0m, \u001b[1;36m0\u001b[0m\u001b[1m)\u001b[0m\u001b[1m]\u001b[0m\n"
            ],
            "text/html": [
              "<pre style=\"white-space:pre;overflow-x:auto;line-height:normal;font-family:Menlo,'DejaVu Sans Mono',consolas,'Courier New',monospace\"><span style=\"font-weight: bold\">Ranks of the answer tokens:</span> <span style=\"font-weight: bold\">[(</span><span style=\"color: #008000; text-decoration-color: #008000\">' Mary'</span>, <span style=\"color: #008080; text-decoration-color: #008080; font-weight: bold\">0</span><span style=\"font-weight: bold\">)]</span>\n",
              "</pre>\n"
            ]
          },
          "metadata": {}
        }
      ],
      "source": [
        "# Here is where we test on a single prompt\n",
        "# Result: 70% probability on Mary, as we expect\n",
        "\n",
        "example_prompt = \"After John and Mary went to the store, John gave a bottle of milk to\"\n",
        "example_answer = \" Mary\"\n",
        "utils.test_prompt(example_prompt, example_answer, model, prepend_bos=True)"
      ]
    },
    {
      "cell_type": "markdown",
      "metadata": {
        "id": "Wwk01fvZl6mE"
      },
      "source": [
        "We now want to find a reference prompt to run the model on. Even though our ultimate goal is to reverse engineer how this behaviour is done in general, often the best way to start out in mechanistic interpretability is by zooming in on a concrete example and understanding it in detail, and only *then* zooming out and verifying that our analysis generalises. In section 3, we'll work with a dataset similar to the one used by the paper authors, but this probably wouldn't be the first thing we reached for if we were just doing initial investigations.\n",
        "\n",
        "We'll run the model on 4 instances of this task, each prompt given twice - one with the first name as the indirect object, one with the second name. To make our lives easier, we'll carefully choose prompts with single token names and the corresponding names in the same token positions.\n",
        "\n",
        "<details><summary>Aside on tokenization</summary>\n",
        "\n",
        "We want models that can take in arbitrary text, but models need to have a fixed vocabulary. So the solution is to define a vocabulary of **tokens** and to deterministically break up arbitrary text into tokens. Tokens are, essentially, subwords, and are determined by finding the most frequent substrings - this means that tokens vary a lot in length and frequency!\n",
        "\n",
        "Tokens are a *massive* headache and are one of the most annoying things about reverse engineering language models... Different names will be different numbers of tokens, different prompts will have the relevant tokens at different positions, different prompts will have different total numbers of tokens, etc. Language models often devote significant amounts of parameters in early layers to convert inputs from tokens to a more sensible internal format (and do the reverse in later layers). You really, really want to avoid needing to think about tokenization wherever possible when doing exploratory analysis (though, of course, it's relevant later when trying to flesh out your analysis and make it rigorous!). HookedTransformer comes with several helper methods to deal with tokens: `to_tokens, to_string, to_str_tokens, to_single_token, get_token_position`\n",
        "\n",
        "**Exercise:** I recommend using `model.to_str_tokens` to explore how the model tokenizes different strings. In particular, try adding or removing spaces at the start, or changing capitalization - these change tokenization!</details>\n"
      ]
    },
    {
      "cell_type": "code",
      "execution_count": 5,
      "metadata": {
        "id": "p4kNIsy3l6mE",
        "colab": {
          "base_uri": "https://localhost:8080/",
          "height": 499
        },
        "outputId": "19a30975-e22e-48a0-d06d-c85a047cda6b"
      },
      "outputs": [
        {
          "output_type": "display_data",
          "data": {
            "text/plain": [
              "\u001b[1m[\u001b[0m\n",
              "    \u001b[32m'When John and Mary went to the shops, John gave the bag to'\u001b[0m,\n",
              "    \u001b[32m'When John and Mary went to the shops, Mary gave the bag to'\u001b[0m,\n",
              "    \u001b[32m'When Tom and James went to the park, James gave the ball to'\u001b[0m,\n",
              "    \u001b[32m'When Tom and James went to the park, Tom gave the ball to'\u001b[0m,\n",
              "    \u001b[32m'When Dan and Sid went to the shops, Sid gave an apple to'\u001b[0m,\n",
              "    \u001b[32m'When Dan and Sid went to the shops, Dan gave an apple to'\u001b[0m,\n",
              "    \u001b[32m'After Martin and Amy went to the park, Amy gave a drink to'\u001b[0m,\n",
              "    \u001b[32m'After Martin and Amy went to the park, Martin gave a drink to'\u001b[0m\n",
              "\u001b[1m]\u001b[0m\n"
            ],
            "text/html": [
              "<pre style=\"white-space:pre;overflow-x:auto;line-height:normal;font-family:Menlo,'DejaVu Sans Mono',consolas,'Courier New',monospace\"><span style=\"font-weight: bold\">[</span>\n",
              "    <span style=\"color: #008000; text-decoration-color: #008000\">'When John and Mary went to the shops, John gave the bag to'</span>,\n",
              "    <span style=\"color: #008000; text-decoration-color: #008000\">'When John and Mary went to the shops, Mary gave the bag to'</span>,\n",
              "    <span style=\"color: #008000; text-decoration-color: #008000\">'When Tom and James went to the park, James gave the ball to'</span>,\n",
              "    <span style=\"color: #008000; text-decoration-color: #008000\">'When Tom and James went to the park, Tom gave the ball to'</span>,\n",
              "    <span style=\"color: #008000; text-decoration-color: #008000\">'When Dan and Sid went to the shops, Sid gave an apple to'</span>,\n",
              "    <span style=\"color: #008000; text-decoration-color: #008000\">'When Dan and Sid went to the shops, Dan gave an apple to'</span>,\n",
              "    <span style=\"color: #008000; text-decoration-color: #008000\">'After Martin and Amy went to the park, Amy gave a drink to'</span>,\n",
              "    <span style=\"color: #008000; text-decoration-color: #008000\">'After Martin and Amy went to the park, Martin gave a drink to'</span>\n",
              "<span style=\"font-weight: bold\">]</span>\n",
              "</pre>\n"
            ]
          },
          "metadata": {}
        },
        {
          "output_type": "display_data",
          "data": {
            "text/plain": [
              "\u001b[1m[\u001b[0m\n",
              "    \u001b[1m(\u001b[0m\u001b[32m' Mary'\u001b[0m, \u001b[32m' John'\u001b[0m\u001b[1m)\u001b[0m,\n",
              "    \u001b[1m(\u001b[0m\u001b[32m' John'\u001b[0m, \u001b[32m' Mary'\u001b[0m\u001b[1m)\u001b[0m,\n",
              "    \u001b[1m(\u001b[0m\u001b[32m' Tom'\u001b[0m, \u001b[32m' James'\u001b[0m\u001b[1m)\u001b[0m,\n",
              "    \u001b[1m(\u001b[0m\u001b[32m' James'\u001b[0m, \u001b[32m' Tom'\u001b[0m\u001b[1m)\u001b[0m,\n",
              "    \u001b[1m(\u001b[0m\u001b[32m' Dan'\u001b[0m, \u001b[32m' Sid'\u001b[0m\u001b[1m)\u001b[0m,\n",
              "    \u001b[1m(\u001b[0m\u001b[32m' Sid'\u001b[0m, \u001b[32m' Dan'\u001b[0m\u001b[1m)\u001b[0m,\n",
              "    \u001b[1m(\u001b[0m\u001b[32m' Martin'\u001b[0m, \u001b[32m' Amy'\u001b[0m\u001b[1m)\u001b[0m,\n",
              "    \u001b[1m(\u001b[0m\u001b[32m' Amy'\u001b[0m, \u001b[32m' Martin'\u001b[0m\u001b[1m)\u001b[0m\n",
              "\u001b[1m]\u001b[0m\n"
            ],
            "text/html": [
              "<pre style=\"white-space:pre;overflow-x:auto;line-height:normal;font-family:Menlo,'DejaVu Sans Mono',consolas,'Courier New',monospace\"><span style=\"font-weight: bold\">[</span>\n",
              "    <span style=\"font-weight: bold\">(</span><span style=\"color: #008000; text-decoration-color: #008000\">' Mary'</span>, <span style=\"color: #008000; text-decoration-color: #008000\">' John'</span><span style=\"font-weight: bold\">)</span>,\n",
              "    <span style=\"font-weight: bold\">(</span><span style=\"color: #008000; text-decoration-color: #008000\">' John'</span>, <span style=\"color: #008000; text-decoration-color: #008000\">' Mary'</span><span style=\"font-weight: bold\">)</span>,\n",
              "    <span style=\"font-weight: bold\">(</span><span style=\"color: #008000; text-decoration-color: #008000\">' Tom'</span>, <span style=\"color: #008000; text-decoration-color: #008000\">' James'</span><span style=\"font-weight: bold\">)</span>,\n",
              "    <span style=\"font-weight: bold\">(</span><span style=\"color: #008000; text-decoration-color: #008000\">' James'</span>, <span style=\"color: #008000; text-decoration-color: #008000\">' Tom'</span><span style=\"font-weight: bold\">)</span>,\n",
              "    <span style=\"font-weight: bold\">(</span><span style=\"color: #008000; text-decoration-color: #008000\">' Dan'</span>, <span style=\"color: #008000; text-decoration-color: #008000\">' Sid'</span><span style=\"font-weight: bold\">)</span>,\n",
              "    <span style=\"font-weight: bold\">(</span><span style=\"color: #008000; text-decoration-color: #008000\">' Sid'</span>, <span style=\"color: #008000; text-decoration-color: #008000\">' Dan'</span><span style=\"font-weight: bold\">)</span>,\n",
              "    <span style=\"font-weight: bold\">(</span><span style=\"color: #008000; text-decoration-color: #008000\">' Martin'</span>, <span style=\"color: #008000; text-decoration-color: #008000\">' Amy'</span><span style=\"font-weight: bold\">)</span>,\n",
              "    <span style=\"font-weight: bold\">(</span><span style=\"color: #008000; text-decoration-color: #008000\">' Amy'</span>, <span style=\"color: #008000; text-decoration-color: #008000\">' Martin'</span><span style=\"font-weight: bold\">)</span>\n",
              "<span style=\"font-weight: bold\">]</span>\n",
              "</pre>\n"
            ]
          },
          "metadata": {}
        },
        {
          "output_type": "display_data",
          "data": {
            "text/plain": [
              "\u001b[1;35mtensor\u001b[0m\u001b[1m(\u001b[0m\u001b[1m[\u001b[0m\u001b[1m[\u001b[0m \u001b[1;36m5335\u001b[0m,  \u001b[1;36m1757\u001b[0m\u001b[1m]\u001b[0m,\n",
              "        \u001b[1m[\u001b[0m \u001b[1;36m1757\u001b[0m,  \u001b[1;36m5335\u001b[0m\u001b[1m]\u001b[0m,\n",
              "        \u001b[1m[\u001b[0m \u001b[1;36m4186\u001b[0m,  \u001b[1;36m3700\u001b[0m\u001b[1m]\u001b[0m,\n",
              "        \u001b[1m[\u001b[0m \u001b[1;36m3700\u001b[0m,  \u001b[1;36m4186\u001b[0m\u001b[1m]\u001b[0m,\n",
              "        \u001b[1m[\u001b[0m \u001b[1;36m6035\u001b[0m, \u001b[1;36m15686\u001b[0m\u001b[1m]\u001b[0m,\n",
              "        \u001b[1m[\u001b[0m\u001b[1;36m15686\u001b[0m,  \u001b[1;36m6035\u001b[0m\u001b[1m]\u001b[0m,\n",
              "        \u001b[1m[\u001b[0m \u001b[1;36m5780\u001b[0m, \u001b[1;36m14235\u001b[0m\u001b[1m]\u001b[0m,\n",
              "        \u001b[1m[\u001b[0m\u001b[1;36m14235\u001b[0m,  \u001b[1;36m5780\u001b[0m\u001b[1m]\u001b[0m\u001b[1m]\u001b[0m, \u001b[33mdevice\u001b[0m=\u001b[32m'cuda:0'\u001b[0m\u001b[1m)\u001b[0m\n"
            ],
            "text/html": [
              "<pre style=\"white-space:pre;overflow-x:auto;line-height:normal;font-family:Menlo,'DejaVu Sans Mono',consolas,'Courier New',monospace\"><span style=\"color: #800080; text-decoration-color: #800080; font-weight: bold\">tensor</span><span style=\"font-weight: bold\">([[</span> <span style=\"color: #008080; text-decoration-color: #008080; font-weight: bold\">5335</span>,  <span style=\"color: #008080; text-decoration-color: #008080; font-weight: bold\">1757</span><span style=\"font-weight: bold\">]</span>,\n",
              "        <span style=\"font-weight: bold\">[</span> <span style=\"color: #008080; text-decoration-color: #008080; font-weight: bold\">1757</span>,  <span style=\"color: #008080; text-decoration-color: #008080; font-weight: bold\">5335</span><span style=\"font-weight: bold\">]</span>,\n",
              "        <span style=\"font-weight: bold\">[</span> <span style=\"color: #008080; text-decoration-color: #008080; font-weight: bold\">4186</span>,  <span style=\"color: #008080; text-decoration-color: #008080; font-weight: bold\">3700</span><span style=\"font-weight: bold\">]</span>,\n",
              "        <span style=\"font-weight: bold\">[</span> <span style=\"color: #008080; text-decoration-color: #008080; font-weight: bold\">3700</span>,  <span style=\"color: #008080; text-decoration-color: #008080; font-weight: bold\">4186</span><span style=\"font-weight: bold\">]</span>,\n",
              "        <span style=\"font-weight: bold\">[</span> <span style=\"color: #008080; text-decoration-color: #008080; font-weight: bold\">6035</span>, <span style=\"color: #008080; text-decoration-color: #008080; font-weight: bold\">15686</span><span style=\"font-weight: bold\">]</span>,\n",
              "        <span style=\"font-weight: bold\">[</span><span style=\"color: #008080; text-decoration-color: #008080; font-weight: bold\">15686</span>,  <span style=\"color: #008080; text-decoration-color: #008080; font-weight: bold\">6035</span><span style=\"font-weight: bold\">]</span>,\n",
              "        <span style=\"font-weight: bold\">[</span> <span style=\"color: #008080; text-decoration-color: #008080; font-weight: bold\">5780</span>, <span style=\"color: #008080; text-decoration-color: #008080; font-weight: bold\">14235</span><span style=\"font-weight: bold\">]</span>,\n",
              "        <span style=\"font-weight: bold\">[</span><span style=\"color: #008080; text-decoration-color: #008080; font-weight: bold\">14235</span>,  <span style=\"color: #008080; text-decoration-color: #008080; font-weight: bold\">5780</span><span style=\"font-weight: bold\">]]</span>, <span style=\"color: #808000; text-decoration-color: #808000\">device</span>=<span style=\"color: #008000; text-decoration-color: #008000\">'cuda:0'</span><span style=\"font-weight: bold\">)</span>\n",
              "</pre>\n"
            ]
          },
          "metadata": {}
        }
      ],
      "source": [
        "prompt_format = [\n",
        "    \"When John and Mary went to the shops,{} gave the bag to\",\n",
        "    \"When Tom and James went to the park,{} gave the ball to\",\n",
        "    \"When Dan and Sid went to the shops,{} gave an apple to\",\n",
        "    \"After Martin and Amy went to the park,{} gave a drink to\",\n",
        "]\n",
        "name_pairs = [\n",
        "    (\" Mary\", \" John\"),\n",
        "    (\" Tom\", \" James\"),\n",
        "    (\" Dan\", \" Sid\"),\n",
        "    (\" Martin\", \" Amy\"),\n",
        "]\n",
        "\n",
        "# Define 8 prompts, in 4 groups of 2 (with adjacent prompts having answers swapped)\n",
        "prompts = [\n",
        "    prompt.format(name)\n",
        "    for (prompt, names) in zip(prompt_format, name_pairs) for name in names[::-1]\n",
        "]\n",
        "# Define the answers for each prompt, in the form (correct, incorrect)\n",
        "answers = [names[::i] for names in name_pairs for i in (1, -1)]\n",
        "# Define the answer tokens (same shape as the answers)\n",
        "answer_tokens = t.concat([\n",
        "    model.to_tokens(names, prepend_bos=False).T for names in answers\n",
        "])\n",
        "\n",
        "rprint(prompts)\n",
        "rprint(answers)\n",
        "rprint(answer_tokens)"
      ]
    },
    {
      "cell_type": "code",
      "execution_count": 6,
      "metadata": {
        "id": "gzlgQY8Rl6mF",
        "colab": {
          "base_uri": "https://localhost:8080/",
          "height": 252
        },
        "outputId": "3d817433-9c04-4b3f-f445-ce9887bb2738"
      },
      "outputs": [
        {
          "output_type": "display_data",
          "data": {
            "text/plain": [
              "\u001b[3m                                   Prompts & Answers:                                    \u001b[0m\n",
              "┏━━━━━━━━━━━━━━━━━━━━━━━━━━━━━━━━━━━━━━━━━━━━━━━━━━━━━━━━━━━━━━━┳━━━━━━━━━━━┳━━━━━━━━━━━┓\n",
              "┃\u001b[1m \u001b[0m\u001b[1mPrompt                                                       \u001b[0m\u001b[1m \u001b[0m┃\u001b[1m \u001b[0m\u001b[1mCorrect  \u001b[0m\u001b[1m \u001b[0m┃\u001b[1m \u001b[0m\u001b[1mIncorrect\u001b[0m\u001b[1m \u001b[0m┃\n",
              "┡━━━━━━━━━━━━━━━━━━━━━━━━━━━━━━━━━━━━━━━━━━━━━━━━━━━━━━━━━━━━━━━╇━━━━━━━━━━━╇━━━━━━━━━━━┩\n",
              "│ When John and Mary went to the shops, John gave the bag to    │ ' Mary'   │ ' John'   │\n",
              "│ When John and Mary went to the shops, Mary gave the bag to    │ ' John'   │ ' Mary'   │\n",
              "│ When Tom and James went to the park, James gave the ball to   │ ' Tom'    │ ' James'  │\n",
              "│ When Tom and James went to the park, Tom gave the ball to     │ ' James'  │ ' Tom'    │\n",
              "│ When Dan and Sid went to the shops, Sid gave an apple to      │ ' Dan'    │ ' Sid'    │\n",
              "│ When Dan and Sid went to the shops, Dan gave an apple to      │ ' Sid'    │ ' Dan'    │\n",
              "│ After Martin and Amy went to the park, Amy gave a drink to    │ ' Martin' │ ' Amy'    │\n",
              "│ After Martin and Amy went to the park, Martin gave a drink to │ ' Amy'    │ ' Martin' │\n",
              "└───────────────────────────────────────────────────────────────┴───────────┴───────────┘\n"
            ],
            "text/html": [
              "<pre style=\"white-space:pre;overflow-x:auto;line-height:normal;font-family:Menlo,'DejaVu Sans Mono',consolas,'Courier New',monospace\"><span style=\"font-style: italic\">                                   Prompts &amp; Answers:                                    </span>\n",
              "┏━━━━━━━━━━━━━━━━━━━━━━━━━━━━━━━━━━━━━━━━━━━━━━━━━━━━━━━━━━━━━━━┳━━━━━━━━━━━┳━━━━━━━━━━━┓\n",
              "┃<span style=\"font-weight: bold\"> Prompt                                                        </span>┃<span style=\"font-weight: bold\"> Correct   </span>┃<span style=\"font-weight: bold\"> Incorrect </span>┃\n",
              "┡━━━━━━━━━━━━━━━━━━━━━━━━━━━━━━━━━━━━━━━━━━━━━━━━━━━━━━━━━━━━━━━╇━━━━━━━━━━━╇━━━━━━━━━━━┩\n",
              "│ When John and Mary went to the shops, John gave the bag to    │ ' Mary'   │ ' John'   │\n",
              "│ When John and Mary went to the shops, Mary gave the bag to    │ ' John'   │ ' Mary'   │\n",
              "│ When Tom and James went to the park, James gave the ball to   │ ' Tom'    │ ' James'  │\n",
              "│ When Tom and James went to the park, Tom gave the ball to     │ ' James'  │ ' Tom'    │\n",
              "│ When Dan and Sid went to the shops, Sid gave an apple to      │ ' Dan'    │ ' Sid'    │\n",
              "│ When Dan and Sid went to the shops, Dan gave an apple to      │ ' Sid'    │ ' Dan'    │\n",
              "│ After Martin and Amy went to the park, Amy gave a drink to    │ ' Martin' │ ' Amy'    │\n",
              "│ After Martin and Amy went to the park, Martin gave a drink to │ ' Amy'    │ ' Martin' │\n",
              "└───────────────────────────────────────────────────────────────┴───────────┴───────────┘\n",
              "</pre>\n"
            ]
          },
          "metadata": {}
        }
      ],
      "source": [
        "table = Table(\"Prompt\", \"Correct\", \"Incorrect\", title=\"Prompts & Answers:\")\n",
        "\n",
        "for prompt, answer in zip(prompts, answers):\n",
        "    table.add_row(prompt, repr(answer[0]), repr(answer[1]))\n",
        "\n",
        "rprint(table)"
      ]
    },
    {
      "cell_type": "markdown",
      "metadata": {
        "id": "5v7gHXCel6mF"
      },
      "source": [
        "<details>\n",
        "<summary>Aside - the <code>rich</code> library</summary>\n",
        "\n",
        "The outputs above were created by `rich`, a fun library which prints things in nice formats. It has functions like `rich.table.Table`, which are very easy to use but can produce visually clear outputs which are sometimes useful.\n",
        "\n",
        "You can also color the columns of a table, by using the `rich.table.Column` argument with the `style` parameter:\n",
        "\n",
        "```python\n",
        "cols = [\n",
        "    \"Prompt\",\n",
        "    Column(\"Correct\", style=\"rgb(0,200,0) bold\"),\n",
        "    Column(\"Incorrect\", style=\"rgb(255,0,0) bold\"),\n",
        "]\n",
        "table = Table(*cols, title=\"Prompts & Answers:\")\n",
        "\n",
        "for prompt, answer in zip(prompts, answers):\n",
        "    table.add_row(prompt, repr(answer[0]), repr(answer[1]))\n",
        "\n",
        "rprint(table)\n",
        "```\n",
        "</details>\n"
      ]
    },
    {
      "cell_type": "markdown",
      "metadata": {
        "id": "6FoCmo59l6mF"
      },
      "source": [
        "We now run the model on these prompts and use `run_with_cache` to get both the logits and a cache of all internal activations for later analysis.\n"
      ]
    },
    {
      "cell_type": "code",
      "execution_count": 7,
      "metadata": {
        "id": "msI0O5jCl6mF"
      },
      "outputs": [],
      "source": [
        "tokens = model.to_tokens(prompts, prepend_bos=True)\n",
        "# Move the tokens to the GPU\n",
        "tokens = tokens.to(device)\n",
        "# Run the model and cache all activations\n",
        "original_logits, cache = model.run_with_cache(tokens)"
      ]
    },
    {
      "cell_type": "markdown",
      "metadata": {
        "id": "VcOaXf3sl6mF"
      },
      "source": [
        "We'll later be evaluating how model performance differs upon performing various interventions, so it's useful to have a metric to measure model performance. Our metric here will be the **logit difference**, the difference in logit between the indirect object's name and the subject's name (eg, `logit(Mary) - logit(John)`).\n"
      ]
    },
    {
      "cell_type": "markdown",
      "metadata": {
        "id": "LeRIzLuCl6mF"
      },
      "source": [
        "## Exercise - implement the performance evaluation function\n",
        "\n",
        "```c\n",
        "Difficulty: 🔴🔴🔴⚪⚪\n",
        "Importance: 🔵🔵🔵🔵⚪\n",
        "\n",
        "You should spend up to 10-15 minutes on this exercise.\n",
        "\n",
        "It's important to understand exactly what this function is computing, and why it matters.\n",
        "```\n",
        "\n",
        "This function should take in your model's logit output (shape `(batch, seq, d_vocab)`), and the array of answer tokens (shape `(batch, 2)`, containing the token ids of correct and incorrect answers respectively for each sequence), and return the logit difference as described above. If `per_prompt` is False, then it should take the mean over the batch dimension, if not then it should return an array of length `batch`.\n"
      ]
    },
    {
      "cell_type": "code",
      "execution_count": 8,
      "metadata": {
        "id": "t8chMxqel6mF",
        "colab": {
          "base_uri": "https://localhost:8080/",
          "height": 325
        },
        "outputId": "2e22eb2d-57a8-4263-9f4f-4b1f1a9976bc"
      },
      "outputs": [
        {
          "output_type": "stream",
          "name": "stdout",
          "text": [
            "All tests in `test_logits_to_ave_logit_diff` passed!\n",
            "Per prompt logit difference: tensor([3.3367, 3.2016, 2.7095, 3.7975, 1.7204, 5.2812, 2.6008, 5.7674],\n",
            "       device='cuda:0')\n",
            "Average logit difference: tensor(3.5519, device='cuda:0')\n"
          ]
        },
        {
          "output_type": "display_data",
          "data": {
            "text/plain": [
              "\u001b[3m                                             Logit differences                                              \u001b[0m\n",
              "┏━━━━━━━━━━━━━━━━━━━━━━━━━━━━━━━━━━━━━━━━━━━━━━━━━━━━━━━━━━━━━━━┳━━━━━━━━━━━┳━━━━━━━━━━━┳━━━━━━━━━━━━━━━━━━┓\n",
              "┃\u001b[1m \u001b[0m\u001b[1mPrompt                                                       \u001b[0m\u001b[1m \u001b[0m┃\u001b[1m \u001b[0m\u001b[1mCorrect  \u001b[0m\u001b[1m \u001b[0m┃\u001b[1m \u001b[0m\u001b[1mIncorrect\u001b[0m\u001b[1m \u001b[0m┃\u001b[1m \u001b[0m\u001b[1mLogit Difference\u001b[0m\u001b[1m \u001b[0m┃\n",
              "┡━━━━━━━━━━━━━━━━━━━━━━━━━━━━━━━━━━━━━━━━━━━━━━━━━━━━━━━━━━━━━━━╇━━━━━━━━━━━╇━━━━━━━━━━━╇━━━━━━━━━━━━━━━━━━┩\n",
              "│ When John and Mary went to the shops, John gave the bag to    │\u001b[1;38;2;0;200;0m \u001b[0m\u001b[1;38;2;0;200;0m' Mary'  \u001b[0m\u001b[1;38;2;0;200;0m \u001b[0m│\u001b[1;38;2;255;0;0m \u001b[0m\u001b[1;38;2;255;0;0m' John'  \u001b[0m\u001b[1;38;2;255;0;0m \u001b[0m│\u001b[1m \u001b[0m\u001b[1m3.337           \u001b[0m\u001b[1m \u001b[0m│\n",
              "│ When John and Mary went to the shops, Mary gave the bag to    │\u001b[1;38;2;0;200;0m \u001b[0m\u001b[1;38;2;0;200;0m' John'  \u001b[0m\u001b[1;38;2;0;200;0m \u001b[0m│\u001b[1;38;2;255;0;0m \u001b[0m\u001b[1;38;2;255;0;0m' Mary'  \u001b[0m\u001b[1;38;2;255;0;0m \u001b[0m│\u001b[1m \u001b[0m\u001b[1m3.202           \u001b[0m\u001b[1m \u001b[0m│\n",
              "│ When Tom and James went to the park, James gave the ball to   │\u001b[1;38;2;0;200;0m \u001b[0m\u001b[1;38;2;0;200;0m' Tom'   \u001b[0m\u001b[1;38;2;0;200;0m \u001b[0m│\u001b[1;38;2;255;0;0m \u001b[0m\u001b[1;38;2;255;0;0m' James' \u001b[0m\u001b[1;38;2;255;0;0m \u001b[0m│\u001b[1m \u001b[0m\u001b[1m2.709           \u001b[0m\u001b[1m \u001b[0m│\n",
              "│ When Tom and James went to the park, Tom gave the ball to     │\u001b[1;38;2;0;200;0m \u001b[0m\u001b[1;38;2;0;200;0m' James' \u001b[0m\u001b[1;38;2;0;200;0m \u001b[0m│\u001b[1;38;2;255;0;0m \u001b[0m\u001b[1;38;2;255;0;0m' Tom'   \u001b[0m\u001b[1;38;2;255;0;0m \u001b[0m│\u001b[1m \u001b[0m\u001b[1m3.797           \u001b[0m\u001b[1m \u001b[0m│\n",
              "│ When Dan and Sid went to the shops, Sid gave an apple to      │\u001b[1;38;2;0;200;0m \u001b[0m\u001b[1;38;2;0;200;0m' Dan'   \u001b[0m\u001b[1;38;2;0;200;0m \u001b[0m│\u001b[1;38;2;255;0;0m \u001b[0m\u001b[1;38;2;255;0;0m' Sid'   \u001b[0m\u001b[1;38;2;255;0;0m \u001b[0m│\u001b[1m \u001b[0m\u001b[1m1.720           \u001b[0m\u001b[1m \u001b[0m│\n",
              "│ When Dan and Sid went to the shops, Dan gave an apple to      │\u001b[1;38;2;0;200;0m \u001b[0m\u001b[1;38;2;0;200;0m' Sid'   \u001b[0m\u001b[1;38;2;0;200;0m \u001b[0m│\u001b[1;38;2;255;0;0m \u001b[0m\u001b[1;38;2;255;0;0m' Dan'   \u001b[0m\u001b[1;38;2;255;0;0m \u001b[0m│\u001b[1m \u001b[0m\u001b[1m5.281           \u001b[0m\u001b[1m \u001b[0m│\n",
              "│ After Martin and Amy went to the park, Amy gave a drink to    │\u001b[1;38;2;0;200;0m \u001b[0m\u001b[1;38;2;0;200;0m' Martin'\u001b[0m\u001b[1;38;2;0;200;0m \u001b[0m│\u001b[1;38;2;255;0;0m \u001b[0m\u001b[1;38;2;255;0;0m' Amy'   \u001b[0m\u001b[1;38;2;255;0;0m \u001b[0m│\u001b[1m \u001b[0m\u001b[1m2.601           \u001b[0m\u001b[1m \u001b[0m│\n",
              "│ After Martin and Amy went to the park, Martin gave a drink to │\u001b[1;38;2;0;200;0m \u001b[0m\u001b[1;38;2;0;200;0m' Amy'   \u001b[0m\u001b[1;38;2;0;200;0m \u001b[0m│\u001b[1;38;2;255;0;0m \u001b[0m\u001b[1;38;2;255;0;0m' Martin'\u001b[0m\u001b[1;38;2;255;0;0m \u001b[0m│\u001b[1m \u001b[0m\u001b[1m5.767           \u001b[0m\u001b[1m \u001b[0m│\n",
              "└───────────────────────────────────────────────────────────────┴───────────┴───────────┴──────────────────┘\n"
            ],
            "text/html": [
              "<pre style=\"white-space:pre;overflow-x:auto;line-height:normal;font-family:Menlo,'DejaVu Sans Mono',consolas,'Courier New',monospace\"><span style=\"font-style: italic\">                                             Logit differences                                              </span>\n",
              "┏━━━━━━━━━━━━━━━━━━━━━━━━━━━━━━━━━━━━━━━━━━━━━━━━━━━━━━━━━━━━━━━┳━━━━━━━━━━━┳━━━━━━━━━━━┳━━━━━━━━━━━━━━━━━━┓\n",
              "┃<span style=\"font-weight: bold\"> Prompt                                                        </span>┃<span style=\"font-weight: bold\"> Correct   </span>┃<span style=\"font-weight: bold\"> Incorrect </span>┃<span style=\"font-weight: bold\"> Logit Difference </span>┃\n",
              "┡━━━━━━━━━━━━━━━━━━━━━━━━━━━━━━━━━━━━━━━━━━━━━━━━━━━━━━━━━━━━━━━╇━━━━━━━━━━━╇━━━━━━━━━━━╇━━━━━━━━━━━━━━━━━━┩\n",
              "│ When John and Mary went to the shops, John gave the bag to    │<span style=\"color: #00c800; text-decoration-color: #00c800; font-weight: bold\"> ' Mary'   </span>│<span style=\"color: #ff0000; text-decoration-color: #ff0000; font-weight: bold\"> ' John'   </span>│<span style=\"font-weight: bold\"> 3.337            </span>│\n",
              "│ When John and Mary went to the shops, Mary gave the bag to    │<span style=\"color: #00c800; text-decoration-color: #00c800; font-weight: bold\"> ' John'   </span>│<span style=\"color: #ff0000; text-decoration-color: #ff0000; font-weight: bold\"> ' Mary'   </span>│<span style=\"font-weight: bold\"> 3.202            </span>│\n",
              "│ When Tom and James went to the park, James gave the ball to   │<span style=\"color: #00c800; text-decoration-color: #00c800; font-weight: bold\"> ' Tom'    </span>│<span style=\"color: #ff0000; text-decoration-color: #ff0000; font-weight: bold\"> ' James'  </span>│<span style=\"font-weight: bold\"> 2.709            </span>│\n",
              "│ When Tom and James went to the park, Tom gave the ball to     │<span style=\"color: #00c800; text-decoration-color: #00c800; font-weight: bold\"> ' James'  </span>│<span style=\"color: #ff0000; text-decoration-color: #ff0000; font-weight: bold\"> ' Tom'    </span>│<span style=\"font-weight: bold\"> 3.797            </span>│\n",
              "│ When Dan and Sid went to the shops, Sid gave an apple to      │<span style=\"color: #00c800; text-decoration-color: #00c800; font-weight: bold\"> ' Dan'    </span>│<span style=\"color: #ff0000; text-decoration-color: #ff0000; font-weight: bold\"> ' Sid'    </span>│<span style=\"font-weight: bold\"> 1.720            </span>│\n",
              "│ When Dan and Sid went to the shops, Dan gave an apple to      │<span style=\"color: #00c800; text-decoration-color: #00c800; font-weight: bold\"> ' Sid'    </span>│<span style=\"color: #ff0000; text-decoration-color: #ff0000; font-weight: bold\"> ' Dan'    </span>│<span style=\"font-weight: bold\"> 5.281            </span>│\n",
              "│ After Martin and Amy went to the park, Amy gave a drink to    │<span style=\"color: #00c800; text-decoration-color: #00c800; font-weight: bold\"> ' Martin' </span>│<span style=\"color: #ff0000; text-decoration-color: #ff0000; font-weight: bold\"> ' Amy'    </span>│<span style=\"font-weight: bold\"> 2.601            </span>│\n",
              "│ After Martin and Amy went to the park, Martin gave a drink to │<span style=\"color: #00c800; text-decoration-color: #00c800; font-weight: bold\"> ' Amy'    </span>│<span style=\"color: #ff0000; text-decoration-color: #ff0000; font-weight: bold\"> ' Martin' </span>│<span style=\"font-weight: bold\"> 5.767            </span>│\n",
              "└───────────────────────────────────────────────────────────────┴───────────┴───────────┴──────────────────┘\n",
              "</pre>\n"
            ]
          },
          "metadata": {}
        }
      ],
      "source": [
        "def logits_to_ave_logit_diff(\n",
        "    logits: Float[Tensor, \"batch seq d_vocab\"],\n",
        "    answer_tokens: Float[Tensor, \"batch 2\"] = answer_tokens,\n",
        "    per_prompt: bool = False\n",
        ") -> Union[Float[Tensor, \"\"], Float[Tensor, \"batch\"]]:\n",
        "    '''\n",
        "    Returns logit difference between the correct and incorrect answer.\n",
        "\n",
        "    If per_prompt=True, return the array of differences rather than the average.\n",
        "    '''\n",
        "    final_logits = logits[:, -1, :]\n",
        "    answer_logits = final_logits.gather(dim=-1, index=answer_tokens)\n",
        "    correct_logits, wrong_logits = answer_logits.unbind(dim=-1)\n",
        "    answer_logits_diff = correct_logits - wrong_logits\n",
        "\n",
        "    return answer_logits_diff if per_prompt else answer_logits_diff.mean()\n",
        "\n",
        "tests.test_logits_to_ave_logit_diff(logits_to_ave_logit_diff)\n",
        "\n",
        "original_per_prompt_diff = logits_to_ave_logit_diff(original_logits, answer_tokens, per_prompt=True)\n",
        "print(\"Per prompt logit difference:\", original_per_prompt_diff)\n",
        "original_average_logit_diff = logits_to_ave_logit_diff(original_logits, answer_tokens)\n",
        "print(\"Average logit difference:\", original_average_logit_diff)\n",
        "\n",
        "cols = [\n",
        "    \"Prompt\",\n",
        "    Column(\"Correct\", style=\"rgb(0,200,0) bold\"),\n",
        "    Column(\"Incorrect\", style=\"rgb(255,0,0) bold\"),\n",
        "    Column(\"Logit Difference\", style=\"bold\")\n",
        "]\n",
        "table = Table(*cols, title=\"Logit differences\")\n",
        "\n",
        "for prompt, answer, logit_diff in zip(prompts, answers, original_per_prompt_diff):\n",
        "    table.add_row(prompt, repr(answer[0]), repr(answer[1]), f\"{logit_diff.item():.3f}\")\n",
        "\n",
        "rprint(table)"
      ]
    },
    {
      "cell_type": "markdown",
      "metadata": {
        "id": "u7JPGqrcl6mG"
      },
      "source": [
        "## Brainstorm What's Actually Going On\n"
      ]
    },
    {
      "cell_type": "markdown",
      "metadata": {
        "id": "gSfB10X6d294"
      },
      "source": [
        "\n",
        "Before diving into running experiments, it's often useful to spend some time actually reasoning about how the behaviour in question could be implemented in the transformer. **This is optional, and you'll likely get the most out of engaging with this section if you have a decent understanding already of what a transformer is and how it works!**\n",
        "\n",
        "You don't have to do this and forming hypotheses after exploration is also reasonable, but I think it's often easier to explore and interpret results with some grounding in what you might find. In this particular case, I'm cheating somewhat, since I know the answer, but I'm trying to simulate the process of reasoning about it!\n",
        "\n",
        "Note that often your hypothesis will be wrong in some ways and often be completely off. We're doing science here, and the goal is to understand how the model *actually* works, and to form true beliefs! There are two separate traps here at two extremes that it's worth tracking:\n",
        "* Confusion: Having no hypotheses at all, getting a lot of data and not knowing what to do with it, and just floundering around\n",
        "* Dogmatism: Being overconfident in an incorrect hypothesis and being unwilling to let go of it when reality contradicts you, or flinching away from running the experiments that might disconfirm it.\n",
        "\n",
        "**Exercise:** Spend some time thinking through how you might imagine this behaviour being implemented in a transformer. Try to think through this for yourself before reading through my thoughts!\n",
        "\n",
        "<details> <summary>(*) <b>My reasoning</b></summary>\n",
        "\n",
        "<h3>Brainstorming:</h3>\n",
        "\n",
        "So, what's hard about the task? Let's focus on the concrete example of the first prompt, `\"When John and Mary went to the shops, John gave the bag to\" -> \" Mary\"`.\n",
        "\n",
        "A good starting point is thinking though whether a tiny model could do this, e.g. a <a href=\"https://transformer-circuits.pub/2021/framework/index.html\">1L Attn-Only model</a>. I'm pretty sure the answer is no! Attention is really good at the primitive operations of looking nearby, or copying information. I can believe a tiny model could figure out that at `to` it should look for names and predict that those names came next (e.g. the skip trigram \" John...to -> John\"). But it's much harder to tell how <i>many</i> of each previous name there are - attending to each copy of John will look exactly the same as attending to a single John token. So this will be pretty hard to figure out on the \" to\" token!\n",
        "\n",
        "The natural place to break this symmetry is on the second `\" John\"` token - telling whether there is an earlier copy of the <i>current</i> token should be a much easier task. So I might expect there to be a head which detects duplicate tokens on the second `\" John\"` token, and then another head which moves that information from the second `\" John` token to the `\" to\"` token.\n",
        "\n",
        "The model then needs to learn to predict `\" Mary\"` and <i>not</i> `\" John\"`. I can see two natural ways to do this:\n",
        "1. Detect all preceding names and move this information to \" to\" and then delete the any name corresponding to the duplicate token feature. This feels easier done with a non-linearity, since precisely cancelling out vectors is hard, so I'd imagine an MLP layer deletes the `\" John\"` direction of the residual stream.\n",
        "2. Have a head which attends to all previous names, but where the duplicate token features <i>inhibit</i> it from attending to specific names. So this only attends to Mary. And then the output of this head maps to the logits.\n",
        "\n",
        "<details>\n",
        "<summary>Spoiler - which one of these two is correct</summary>\n",
        "\n",
        "It's the second one.\n",
        "</details>\n",
        "\n",
        "<h3>Experiment Ideas</h3>\n",
        "\n",
        "A test that could distinguish these two is to look at which components of the model add directly to the logits - if it's mostly attention heads which attend to `\" Mary\"` and to neither `\" John\"` it's probably hypothesis 2, if it's mostly MLPs it's probably hypothesis 1.\n",
        "\n",
        "And we should be able to identify duplicate token heads by finding ones which attend from `\" John\"` to `\" John\"`, and whose outputs are then moved to the `\" to\"` token by V-Composition with another head (Spoiler: It's more complicated than that!)\n",
        "\n",
        "Note that all of the above reasoning is very simplistic and could easily break in a real model! There'll be significant parts of the model that figure out whether to use this circuit at all (we don't want to inhibit duplicated names when, e.g. figuring out what goes at the start of the <i>next</i> sentence), and may be parts towards the end of the model that do \"post-processing\" just before the final output. But it's a good starting point for thinking about what's going on.\n",
        "\n",
        "</details>\n"
      ]
    },
    {
      "cell_type": "markdown",
      "metadata": {
        "id": "jX5wBPspl6mG"
      },
      "source": [
        "# 2️⃣ Logit Attribution\n"
      ]
    },
    {
      "cell_type": "markdown",
      "metadata": {
        "id": "GAfC9xEUd294"
      },
      "source": [
        "> ##### Learning objectives\n",
        ">\n",
        "> * Perform direct logit attribution to figure out which heads are writing to the residual stream in a significant way\n",
        "> * Learn how to use different transformerlens helper functions, which decompose the residual stream in different ways\n"
      ]
    },
    {
      "cell_type": "markdown",
      "metadata": {
        "id": "P3xzQ0j6l6mG"
      },
      "source": [
        "## Direct Logit Attribution\n"
      ]
    },
    {
      "cell_type": "markdown",
      "metadata": {
        "id": "JvDB7Lvsl6mG"
      },
      "source": [
        "The easiest part of the model to understand is the output - this is what the model is trained to optimize, and so it can always be directly interpreted! Often the right approach to reverse engineering a circuit is to start at the end, understand how the model produces the right answer, and to then work backwards (you will have seen this if you went through the balanced bracket classifier task, and in fact if you did then this section will probably be quite familiar to you and you should feel free to just skim through it). The main technique used to do this is called **direct logit attribution**\n",
        "\n",
        "**Background:** The central object of a transformer is the **residual stream**. This is the sum of the outputs of each layer and of the original token and positional embedding. Importantly, this means that any linear function of the residual stream can be perfectly decomposed into the contribution of each layer of the transformer. Further, each attention layer's output can be broken down into the sum of the output of each head (See [A Mathematical Framework for Transformer Circuits](https://transformer-circuits.pub/2021/framework/index.html) for details), and each MLP layer's output can be broken down into the sum of the output of each neuron (and a bias term for each layer).\n",
        "\n",
        "The logits of a model are `logits=Unembed(LayerNorm(final_residual_stream))`. The Unembed is a linear map, and LayerNorm is approximately a linear map, so we can decompose the logits into the sum of the contributions of each component, and look at which components contribute the most to the logit of the correct token! This is called **direct logit attribution**. Here we look at the direct attribution to the logit difference!\n"
      ]
    },
    {
      "cell_type": "markdown",
      "metadata": {
        "id": "QC1-upzol6mG"
      },
      "source": [
        "### Background and motivation of the logit difference\n",
        "\n",
        "Logit difference is actually a *really* nice and elegant metric and is a particularly nice aspect of the setup of Indirect Object Identification. In general, there are two natural ways to interpret the model's outputs: the output logits, or the output log probabilities (or probabilities).\n",
        "\n",
        "The logits are much nicer and easier to understand, as noted above. However, the model is trained to optimize the cross-entropy loss (the average of log probability of the correct token). This means it does not directly optimize the logits, and indeed if the model adds an arbitrary constant to every logit, the log probabilities are unchanged.\n",
        "\n",
        "But we have:\n",
        "\n",
        "```\n",
        "log_probs == logits.log_softmax(dim=-1) == logits - logsumexp(logits)\n",
        "```\n",
        "\n",
        "and so:\n",
        "\n",
        "```\n",
        "log_probs(\" Mary\") - log_probs(\" John\") = logits(\" Mary\") - logits(\" John\")\n",
        "```\n",
        "\n",
        "- the ability to add an arbitrary constant cancels out!\n",
        "\n",
        "<details>\n",
        "<summary>Technical details (if this equivalence doesn't seem obvious to you)</summary>\n",
        "\n",
        "Let $\\vec{\\textbf{x}}$ be the logits, $\\vec{\\textbf{L}}$ be the log probs, and $\\vec{\\textbf{p}}$ be the probs. Then we have the following relations:\n",
        "\n",
        "$$\n",
        "p_i = \\operatorname{softmax}(\\vec{\\textbf{x}})_i = \\frac{e^{x_i}}{\\sum_{i=1}^n e^{x_i}}\n",
        "$$\n",
        "\n",
        "and:\n",
        "\n",
        "$$\n",
        "L_i = \\log p_i\n",
        "$$\n",
        "\n",
        "Combining these, we get:\n",
        "\n",
        "$$\n",
        "L_i = \\log \\frac{e^{x_i}}{\\sum_{j=1}^n e^{x_j}} = x_i - \\log \\sum_{j=1}^n e^{x_j}\n",
        "$$\n",
        "\n",
        "Notice that the sum term on the right hand side is the same for all $i$, so we get:\n",
        "\n",
        "$$\n",
        "L_i - L_j = x_i - x_j\n",
        "$$\n",
        "\n",
        "in other words, the logit diff $x_i - x_j$ is the same as the log prob diff. This motivates the choice of logit diff as our choice of metric (since the model is directly training to make the log prob of the correct token large, and all other log probs small).\n",
        "\n",
        "</details>\n",
        "\n",
        "Further, the metric helps us isolate the precise capability we care about - figuring out *which* name is the Indirect Object. There are many other components of the task - deciding whether to return an article (the) or pronoun (her) or name, realising that the sentence wants a person next at all, etc. By taking the logit difference we control for all of that.\n",
        "\n",
        "Our metric is further refined, because each prompt is repeated twice, for each possible indirect object. This controls for irrelevant behaviour such as the model learning that John is a more frequent token than Mary (this actually happens! The final layernorm bias increases the John logit by 1 relative to the Mary logit). Another way to handle this would be to use a large enough dataset (with names randomly chosen) that this effect is averaged out, which is what we'll do in section 3.\n"
      ]
    },
    {
      "cell_type": "markdown",
      "metadata": {
        "id": "MiRNLqzol6mH"
      },
      "source": [
        "\n",
        "<details> <summary>Ignoring LayerNorm</summary>\n",
        "\n",
        "LayerNorm is an analogous normalization technique to BatchNorm (that's friendlier to massive parallelization) that transformers use. Every time a transformer layer reads information from the residual stream, it applies a LayerNorm to normalize the vector at each position (translating to set the mean to 0 and scaling to set the variance to 1) and then applying a learned vector of weights and biases to scale and translate the normalized vector. This is *almost* a linear map, apart from the scaling step, because that divides by the norm of the vector and the norm is not a linear function. (The `fold_ln` flag when loading a model factors out all the linear parts).\n",
        "\n",
        "But if we fixed the scale factor, the LayerNorm would be fully linear. And the scale of the residual stream is a global property that's a function of *all* components of the stream, while in practice there is normally just a few directions relevant to any particular component, so in practice this is an acceptable approximation. So when doing direct logit attribution we use the `apply_ln` flag on the `cache` to apply the global layernorm scaling factor to each constant. See [my clean GPT-2 implementation](https://colab.research.google.com/github/neelnanda-io/TransformerLens/blob/clean-transformer-demo/Clean_Transformer_Demo.ipynb#scrollTo=Clean_Transformer_Implementation) for more on LayerNorm.\n",
        "</details>\n"
      ]
    },
    {
      "cell_type": "markdown",
      "metadata": {
        "id": "N6b6yRIQl6mH"
      },
      "source": [
        "### Logit diff directions\n"
      ]
    },
    {
      "cell_type": "markdown",
      "metadata": {
        "id": "B-e9Gbr3l6mH"
      },
      "source": [
        "***Getting an output logit is equivalent to projecting onto a direction in the residual stream, and the same is true for getting the logit diff.***\n",
        "\n",
        "<details>\n",
        "<summary>If it's not clear what is meant by this statement, read this dropdown.</summary>\n",
        "\n",
        "Suppose our final value in the residual stream for a single sequence and a position within that sequence is $x$ (i.e. $x$ is a vector of length $d_{model}$). Then (ignoring layernorm - see the point above for why it's okay to do this), we get logits by multiplying by the unembedding matrix $W_U$ (which has shape $(d_{model}, d_{vocab})$):\n",
        "\n",
        "$$\n",
        "\\text{output} = x^T W_U\n",
        "$$\n",
        "\n",
        "Now, remember that we want the logit diff, which is $\\text{output}_{IO} - \\text{output}_{S}$ (the difference between the logits for our indirect object and subject). We can write this as:\n",
        "\n",
        "$$\n",
        "\\text{logit diff} = (x^T W_U)_{IO} - (x^T W_U)_{S} = x^T (u_{IO} - u_{S})\n",
        "$$\n",
        "\n",
        "where $u_{IO}$ and $u_S$ are the **columns of the unembedding matrix** $W_U$ corresponding to the indirect object and subject tokens respectively.\n",
        "\n",
        "To summarize, we've written the logit diff as a dot product between the vector in the residual stream and a constant vector (which is a function of the model's unembedding matrix). We call this vector $u_{IO} - u_{S}$ the **logit difference direction** (because it *\"points in the direction of largest logit difference\"*). To put it another way, if $x$ is a vector of fixed magnitude, then it maximises the logit difference when it is pointing in the same direction as the vector $u_{IO} - u_{S}$. We use the term \"projection\" synonymously with \"dot product\" here.\n",
        "\n",
        "(If you've completed the exercise where we interpret a transformer on balanced / unbalanced bracket strings, this is basically the same principle. The only difference here is that we actually have a much larger unembedding vocabulary than just the classifications `{balanced, unbalanced}`, but since we're only interested in comparing the model's prediction for IO vs S, and the logits for these two tokens are usually larger than most others, this method is still well-justified).\n",
        "</details>\n",
        "\n",
        "We use `model.tokens_to_residual_directions` to map the answer tokens to that direction, and then convert this to a logit difference direction for each batch\n"
      ]
    },
    {
      "cell_type": "code",
      "execution_count": 9,
      "metadata": {
        "id": "-iz_a_Qgl6mH",
        "colab": {
          "base_uri": "https://localhost:8080/"
        },
        "outputId": "64921109-f814-49c6-c2a0-f27be9192296"
      },
      "outputs": [
        {
          "output_type": "stream",
          "name": "stdout",
          "text": [
            "Answer residual directions shape: torch.Size([8, 2, 768])\n",
            "Logit difference directions shape: torch.Size([8, 768])\n"
          ]
        }
      ],
      "source": [
        "answer_residual_directions = model.tokens_to_residual_directions(answer_tokens) # [batch 2 d_model]\n",
        "print(\"Answer residual directions shape:\", answer_residual_directions.shape)\n",
        "\n",
        "correct_residual_directions, incorrect_residual_directions = answer_residual_directions.unbind(dim=1)\n",
        "logit_diff_directions = correct_residual_directions - incorrect_residual_directions # [batch d_model]\n",
        "print(f\"Logit difference directions shape:\", logit_diff_directions.shape)"
      ]
    },
    {
      "cell_type": "markdown",
      "metadata": {
        "id": "1NvPuJVSl6mH"
      },
      "source": [
        "To verify that this works, we can apply this to the final residual stream for our cached prompts (after applying LayerNorm scaling) and verify that we get the same answer.\n",
        "\n",
        "<details> <summary>Technical details</summary>\n",
        "\n",
        "`logits = Unembed(LayerNorm(final_residual_stream))`, so we technically need to account for the centering, and then learned translation and scaling of the layernorm, not just the variance 1 scaling.\n",
        "\n",
        "The centering is accounted for with the preprocessing flag `center_writing_weights` which ensures that every weight matrix writing to the residual stream has mean zero.\n",
        "\n",
        "The learned scaling is folded into the unembedding weights `model.unembed.W_U` via `W_U_fold = layer_norm.weights[:, None] * unembed.W_U`\n",
        "\n",
        "The learned translation is folded to `model.unembed.b_U`, a bias added to the logits (note that GPT-2 is not trained with an existing `b_U`). This roughly represents unigram statistics. But we can ignore this because each prompt occurs twice with names in the opposite order, so this perfectly cancels out.\n",
        "\n",
        "Note that rather than using layernorm scaling we could just study cache[\"ln_final.hook_normalised\"]\n",
        "\n",
        "</details>\n"
      ]
    },
    {
      "cell_type": "markdown",
      "metadata": {
        "id": "miSgPpsfl6mH"
      },
      "source": [
        "The code below does the following:\n",
        "\n",
        "* Gets the final residual stream values from the `cache` object (which you should already have defined above).\n",
        "* Apply layernorm scaling to these values.\n",
        "    * This is done by `cache.apply_to_ln_stack`, a helpful function which takes a stack of residual stream values (e.g. a batch, or the residual stream decomposed into components), treats them as the input to a specific layer, and applies the layer norm scaling of that layer to them.\n",
        "    * The keyword arguments here indicate that our input is the residual stream values for the last sequence position, and we want to apply the final layernorm in the model.\n",
        "* Project them along the unembedding directions (you've already defined these above, as `logit_diff_directions`).\n"
      ]
    },
    {
      "cell_type": "code",
      "execution_count": 10,
      "metadata": {
        "id": "yn1wwyrfl6mI",
        "colab": {
          "base_uri": "https://localhost:8080/"
        },
        "outputId": "74422e09-44f3-4ebe-9a1e-9ccd118beedf"
      },
      "outputs": [
        {
          "output_type": "stream",
          "name": "stdout",
          "text": [
            "Final residual stream shape: torch.Size([8, 15, 768])\n",
            "Calculated average logit diff: 3.5518836975\n",
            "Original logit difference:     3.5518851280\n"
          ]
        }
      ],
      "source": [
        "# cache syntax - resid_post is the residual stream at the end of the layer, -1 gets the final layer. The general syntax is [activation_name, layer_index, sub_layer_type].\n",
        "final_residual_stream: Float[Tensor, \"batch seq d_model\"] = cache[\"resid_post\", -1]\n",
        "print(f\"Final residual stream shape: {final_residual_stream.shape}\")\n",
        "final_token_residual_stream: Float[Tensor, \"batch d_model\"] = final_residual_stream[:, -1, :]\n",
        "\n",
        "# Apply LayerNorm scaling (to just the final sequence position)\n",
        "# pos_slice is the subset of the positions we take - here the final token of each prompt\n",
        "scaled_final_token_residual_stream = cache.apply_ln_to_stack(final_token_residual_stream, layer=-1, pos_slice=-1)\n",
        "\n",
        "average_logit_diff = einops.einsum(\n",
        "    scaled_final_token_residual_stream, logit_diff_directions,\n",
        "    \"batch d_model, batch d_model ->\"\n",
        ") / len(prompts)\n",
        "\n",
        "print(f\"Calculated average logit diff: {average_logit_diff:.10f}\")\n",
        "print(f\"Original logit difference:     {original_average_logit_diff:.10f}\")\n",
        "\n",
        "t.testing.assert_close(average_logit_diff, original_average_logit_diff)"
      ]
    },
    {
      "cell_type": "markdown",
      "metadata": {
        "id": "x2tfp-Xjl6mI"
      },
      "source": [
        "## Logit Lens\n"
      ]
    },
    {
      "cell_type": "markdown",
      "metadata": {
        "id": "Z_14HTZpl6mI"
      },
      "source": [
        "We can now decompose the residual stream! First we apply a technique called the [**logit lens**](https://www.alignmentforum.org/posts/AcKRB8wDpdaN6v6ru/interpreting-gpt-the-logit-lens) - this looks at the residual stream after each layer and calculates the logit difference from that. This simulates what happens if we delete all subsequence layers.\n"
      ]
    },
    {
      "cell_type": "markdown",
      "metadata": {
        "id": "LZnvb3Ljl6mI"
      },
      "source": [
        "### Exercise - implement `residual_stack_to_logit_diff`\n",
        "\n",
        "```c\n",
        "Difficulty: 🔴🔴🔴⚪⚪\n",
        "Importance: 🔵🔵🔵⚪⚪\n",
        "\n",
        "You should spend up to 10-15 minutes on this exercise.\n",
        "\n",
        "Again, make sure you understand what the output of this function represents.\n",
        "```\n",
        "\n",
        "This function should look a lot like your code immediately above. `residual_stack` is a tensor of shape `(..., batch, d_model)` containing the residual stream values for the final sequence position. You should apply the final layernorm to these values, then project them in the logit difference directions.\n"
      ]
    },
    {
      "cell_type": "code",
      "execution_count": 15,
      "metadata": {
        "id": "p5hFaaENl6mI"
      },
      "outputs": [],
      "source": [
        "def residual_stack_to_logit_diff(\n",
        "    residual_stack: Float[Tensor, \"... batch d_model\"],\n",
        "    cache: ActivationCache,\n",
        "    logit_diff_directions: Float[Tensor, \"batch d_model\"] = logit_diff_directions,\n",
        ") -> Float[Tensor, \"...\"]:\n",
        "    '''\n",
        "    Gets the avg logit difference between the correct and incorrect answer for a given\n",
        "    stack of components in the residual stream.\n",
        "    '''\n",
        "    batch_size = residual_stack.size(-2)\n",
        "    scaled_residual_stack = cache.apply_ln_to_stack(residual_stack, layer=-1, pos_slice=-1)\n",
        "    return einops.einsum(\n",
        "        scaled_residual_stack, logit_diff_directions,\n",
        "        \"... batch d_model, batch d_model -> ...\"\n",
        "    ) / batch_size\n",
        "\n",
        "t.testing.assert_close(\n",
        "    residual_stack_to_logit_diff(final_token_residual_stream, cache),\n",
        "    original_average_logit_diff\n",
        ")"
      ]
    },
    {
      "cell_type": "markdown",
      "metadata": {
        "id": "U3FE3Azsl6mI"
      },
      "source": [
        "Once you have the solution, you can plot your results.\n",
        "\n",
        "<details> <summary>Details on <code>accumulated_resid</code></summary>\n",
        "\n",
        "Key for the plot below: `n_pre` means the residual stream at the start of layer n, `n_mid` means the residual stream after the attention part of layer n (`n_post` is the same as `n+1_pre` so is not included)\n",
        "\n",
        "* `layer` is the layer for which we input the residual stream (this is used to identify *which* layer norm scaling factor we want)\n",
        "* `incl_mid` is whether to include the residual stream in the middle of a layer, ie after attention & before MLP\n",
        "* `pos_slice` is the subset of the positions used. See `utils.Slice` for details on the syntax.\n",
        "* `return_labels` is whether to return the labels for each component returned (useful for plotting)\n",
        "</details>\n"
      ]
    },
    {
      "cell_type": "code",
      "execution_count": 16,
      "metadata": {
        "id": "O80qgBSCl6mI",
        "colab": {
          "base_uri": "https://localhost:8080/",
          "height": 542
        },
        "outputId": "e1ee3aef-7d69-4807-ff54-1e750519af87"
      },
      "outputs": [
        {
          "output_type": "display_data",
          "data": {
            "text/html": [
              "<html>\n",
              "<head><meta charset=\"utf-8\" /></head>\n",
              "<body>\n",
              "    <div>            <script src=\"https://cdnjs.cloudflare.com/ajax/libs/mathjax/2.7.5/MathJax.js?config=TeX-AMS-MML_SVG\"></script><script type=\"text/javascript\">if (window.MathJax && window.MathJax.Hub && window.MathJax.Hub.Config) {window.MathJax.Hub.Config({SVG: {font: \"STIX-Web\"}});}</script>                <script type=\"text/javascript\">window.PlotlyConfig = {MathJaxConfig: 'local'};</script>\n",
              "        <script charset=\"utf-8\" src=\"https://cdn.plot.ly/plotly-2.24.1.min.js\"></script>                <div id=\"17a479ea-ef83-4674-910e-a2c4e61f8c5d\" class=\"plotly-graph-div\" style=\"height:525px; width:800px;\"></div>            <script type=\"text/javascript\">                                    window.PLOTLYENV=window.PLOTLYENV || {};                                    if (document.getElementById(\"17a479ea-ef83-4674-910e-a2c4e61f8c5d\")) {                    Plotly.newPlot(                        \"17a479ea-ef83-4674-910e-a2c4e61f8c5d\",                        [{\"hovertemplate\":\"Layer=%{x}\\u003cbr\\u003eLogit Diff=%{y}\\u003cextra\\u003e\\u003c\\u002fextra\\u003e\",\"legendgroup\":\"\",\"line\":{\"color\":\"#636efa\",\"dash\":\"solid\"},\"marker\":{\"symbol\":\"circle\"},\"mode\":\"lines\",\"name\":\"\",\"orientation\":\"v\",\"showlegend\":false,\"x\":[0,1,2,3,4,5,6,7,8,9,10,11,12,13,14,15,16,17,18,19,20,21,22,23,24],\"xaxis\":\"x\",\"y\":[1.2934906408190727e-05,-0.0066434284672141075,-0.007525056134909391,-0.009075582958757877,-0.008736771531403065,-0.008685583248734474,-0.00648039486259222,-0.007939820177853107,-0.00966176949441433,-0.015095879323780537,-0.014190265908837318,-0.019929315894842148,-0.009124270640313625,-0.027297547087073326,-0.029854580760002136,0.2497270703315735,0.25055962800979614,0.4500536024570465,0.45997095108032227,5.025458812713623,5.142906188964844,4.7305827140808105,4.887077331542969,3.4453961849212646,3.551884174346924],\"yaxis\":\"y\",\"type\":\"scatter\"}],                        {\"template\":{\"data\":{\"histogram2dcontour\":[{\"type\":\"histogram2dcontour\",\"colorbar\":{\"outlinewidth\":0,\"ticks\":\"\"},\"colorscale\":[[0.0,\"#0d0887\"],[0.1111111111111111,\"#46039f\"],[0.2222222222222222,\"#7201a8\"],[0.3333333333333333,\"#9c179e\"],[0.4444444444444444,\"#bd3786\"],[0.5555555555555556,\"#d8576b\"],[0.6666666666666666,\"#ed7953\"],[0.7777777777777778,\"#fb9f3a\"],[0.8888888888888888,\"#fdca26\"],[1.0,\"#f0f921\"]]}],\"choropleth\":[{\"type\":\"choropleth\",\"colorbar\":{\"outlinewidth\":0,\"ticks\":\"\"}}],\"histogram2d\":[{\"type\":\"histogram2d\",\"colorbar\":{\"outlinewidth\":0,\"ticks\":\"\"},\"colorscale\":[[0.0,\"#0d0887\"],[0.1111111111111111,\"#46039f\"],[0.2222222222222222,\"#7201a8\"],[0.3333333333333333,\"#9c179e\"],[0.4444444444444444,\"#bd3786\"],[0.5555555555555556,\"#d8576b\"],[0.6666666666666666,\"#ed7953\"],[0.7777777777777778,\"#fb9f3a\"],[0.8888888888888888,\"#fdca26\"],[1.0,\"#f0f921\"]]}],\"heatmap\":[{\"type\":\"heatmap\",\"colorbar\":{\"outlinewidth\":0,\"ticks\":\"\"},\"colorscale\":[[0.0,\"#0d0887\"],[0.1111111111111111,\"#46039f\"],[0.2222222222222222,\"#7201a8\"],[0.3333333333333333,\"#9c179e\"],[0.4444444444444444,\"#bd3786\"],[0.5555555555555556,\"#d8576b\"],[0.6666666666666666,\"#ed7953\"],[0.7777777777777778,\"#fb9f3a\"],[0.8888888888888888,\"#fdca26\"],[1.0,\"#f0f921\"]]}],\"heatmapgl\":[{\"type\":\"heatmapgl\",\"colorbar\":{\"outlinewidth\":0,\"ticks\":\"\"},\"colorscale\":[[0.0,\"#0d0887\"],[0.1111111111111111,\"#46039f\"],[0.2222222222222222,\"#7201a8\"],[0.3333333333333333,\"#9c179e\"],[0.4444444444444444,\"#bd3786\"],[0.5555555555555556,\"#d8576b\"],[0.6666666666666666,\"#ed7953\"],[0.7777777777777778,\"#fb9f3a\"],[0.8888888888888888,\"#fdca26\"],[1.0,\"#f0f921\"]]}],\"contourcarpet\":[{\"type\":\"contourcarpet\",\"colorbar\":{\"outlinewidth\":0,\"ticks\":\"\"}}],\"contour\":[{\"type\":\"contour\",\"colorbar\":{\"outlinewidth\":0,\"ticks\":\"\"},\"colorscale\":[[0.0,\"#0d0887\"],[0.1111111111111111,\"#46039f\"],[0.2222222222222222,\"#7201a8\"],[0.3333333333333333,\"#9c179e\"],[0.4444444444444444,\"#bd3786\"],[0.5555555555555556,\"#d8576b\"],[0.6666666666666666,\"#ed7953\"],[0.7777777777777778,\"#fb9f3a\"],[0.8888888888888888,\"#fdca26\"],[1.0,\"#f0f921\"]]}],\"surface\":[{\"type\":\"surface\",\"colorbar\":{\"outlinewidth\":0,\"ticks\":\"\"},\"colorscale\":[[0.0,\"#0d0887\"],[0.1111111111111111,\"#46039f\"],[0.2222222222222222,\"#7201a8\"],[0.3333333333333333,\"#9c179e\"],[0.4444444444444444,\"#bd3786\"],[0.5555555555555556,\"#d8576b\"],[0.6666666666666666,\"#ed7953\"],[0.7777777777777778,\"#fb9f3a\"],[0.8888888888888888,\"#fdca26\"],[1.0,\"#f0f921\"]]}],\"mesh3d\":[{\"type\":\"mesh3d\",\"colorbar\":{\"outlinewidth\":0,\"ticks\":\"\"}}],\"scatter\":[{\"fillpattern\":{\"fillmode\":\"overlay\",\"size\":10,\"solidity\":0.2},\"type\":\"scatter\"}],\"parcoords\":[{\"type\":\"parcoords\",\"line\":{\"colorbar\":{\"outlinewidth\":0,\"ticks\":\"\"}}}],\"scatterpolargl\":[{\"type\":\"scatterpolargl\",\"marker\":{\"colorbar\":{\"outlinewidth\":0,\"ticks\":\"\"}}}],\"bar\":[{\"error_x\":{\"color\":\"#2a3f5f\"},\"error_y\":{\"color\":\"#2a3f5f\"},\"marker\":{\"line\":{\"color\":\"#E5ECF6\",\"width\":0.5},\"pattern\":{\"fillmode\":\"overlay\",\"size\":10,\"solidity\":0.2}},\"type\":\"bar\"}],\"scattergeo\":[{\"type\":\"scattergeo\",\"marker\":{\"colorbar\":{\"outlinewidth\":0,\"ticks\":\"\"}}}],\"scatterpolar\":[{\"type\":\"scatterpolar\",\"marker\":{\"colorbar\":{\"outlinewidth\":0,\"ticks\":\"\"}}}],\"histogram\":[{\"marker\":{\"pattern\":{\"fillmode\":\"overlay\",\"size\":10,\"solidity\":0.2}},\"type\":\"histogram\"}],\"scattergl\":[{\"type\":\"scattergl\",\"marker\":{\"colorbar\":{\"outlinewidth\":0,\"ticks\":\"\"}}}],\"scatter3d\":[{\"type\":\"scatter3d\",\"line\":{\"colorbar\":{\"outlinewidth\":0,\"ticks\":\"\"}},\"marker\":{\"colorbar\":{\"outlinewidth\":0,\"ticks\":\"\"}}}],\"scattermapbox\":[{\"type\":\"scattermapbox\",\"marker\":{\"colorbar\":{\"outlinewidth\":0,\"ticks\":\"\"}}}],\"scatterternary\":[{\"type\":\"scatterternary\",\"marker\":{\"colorbar\":{\"outlinewidth\":0,\"ticks\":\"\"}}}],\"scattercarpet\":[{\"type\":\"scattercarpet\",\"marker\":{\"colorbar\":{\"outlinewidth\":0,\"ticks\":\"\"}}}],\"carpet\":[{\"aaxis\":{\"endlinecolor\":\"#2a3f5f\",\"gridcolor\":\"white\",\"linecolor\":\"white\",\"minorgridcolor\":\"white\",\"startlinecolor\":\"#2a3f5f\"},\"baxis\":{\"endlinecolor\":\"#2a3f5f\",\"gridcolor\":\"white\",\"linecolor\":\"white\",\"minorgridcolor\":\"white\",\"startlinecolor\":\"#2a3f5f\"},\"type\":\"carpet\"}],\"table\":[{\"cells\":{\"fill\":{\"color\":\"#EBF0F8\"},\"line\":{\"color\":\"white\"}},\"header\":{\"fill\":{\"color\":\"#C8D4E3\"},\"line\":{\"color\":\"white\"}},\"type\":\"table\"}],\"barpolar\":[{\"marker\":{\"line\":{\"color\":\"#E5ECF6\",\"width\":0.5},\"pattern\":{\"fillmode\":\"overlay\",\"size\":10,\"solidity\":0.2}},\"type\":\"barpolar\"}],\"pie\":[{\"automargin\":true,\"type\":\"pie\"}]},\"layout\":{\"autotypenumbers\":\"strict\",\"colorway\":[\"#636efa\",\"#EF553B\",\"#00cc96\",\"#ab63fa\",\"#FFA15A\",\"#19d3f3\",\"#FF6692\",\"#B6E880\",\"#FF97FF\",\"#FECB52\"],\"font\":{\"color\":\"#2a3f5f\"},\"hovermode\":\"closest\",\"hoverlabel\":{\"align\":\"left\"},\"paper_bgcolor\":\"white\",\"plot_bgcolor\":\"#E5ECF6\",\"polar\":{\"bgcolor\":\"#E5ECF6\",\"angularaxis\":{\"gridcolor\":\"white\",\"linecolor\":\"white\",\"ticks\":\"\"},\"radialaxis\":{\"gridcolor\":\"white\",\"linecolor\":\"white\",\"ticks\":\"\"}},\"ternary\":{\"bgcolor\":\"#E5ECF6\",\"aaxis\":{\"gridcolor\":\"white\",\"linecolor\":\"white\",\"ticks\":\"\"},\"baxis\":{\"gridcolor\":\"white\",\"linecolor\":\"white\",\"ticks\":\"\"},\"caxis\":{\"gridcolor\":\"white\",\"linecolor\":\"white\",\"ticks\":\"\"}},\"coloraxis\":{\"colorbar\":{\"outlinewidth\":0,\"ticks\":\"\"}},\"colorscale\":{\"sequential\":[[0.0,\"#0d0887\"],[0.1111111111111111,\"#46039f\"],[0.2222222222222222,\"#7201a8\"],[0.3333333333333333,\"#9c179e\"],[0.4444444444444444,\"#bd3786\"],[0.5555555555555556,\"#d8576b\"],[0.6666666666666666,\"#ed7953\"],[0.7777777777777778,\"#fb9f3a\"],[0.8888888888888888,\"#fdca26\"],[1.0,\"#f0f921\"]],\"sequentialminus\":[[0.0,\"#0d0887\"],[0.1111111111111111,\"#46039f\"],[0.2222222222222222,\"#7201a8\"],[0.3333333333333333,\"#9c179e\"],[0.4444444444444444,\"#bd3786\"],[0.5555555555555556,\"#d8576b\"],[0.6666666666666666,\"#ed7953\"],[0.7777777777777778,\"#fb9f3a\"],[0.8888888888888888,\"#fdca26\"],[1.0,\"#f0f921\"]],\"diverging\":[[0,\"#8e0152\"],[0.1,\"#c51b7d\"],[0.2,\"#de77ae\"],[0.3,\"#f1b6da\"],[0.4,\"#fde0ef\"],[0.5,\"#f7f7f7\"],[0.6,\"#e6f5d0\"],[0.7,\"#b8e186\"],[0.8,\"#7fbc41\"],[0.9,\"#4d9221\"],[1,\"#276419\"]]},\"xaxis\":{\"gridcolor\":\"white\",\"linecolor\":\"white\",\"ticks\":\"\",\"title\":{\"standoff\":15},\"zerolinecolor\":\"white\",\"automargin\":true,\"zerolinewidth\":2},\"yaxis\":{\"gridcolor\":\"white\",\"linecolor\":\"white\",\"ticks\":\"\",\"title\":{\"standoff\":15},\"zerolinecolor\":\"white\",\"automargin\":true,\"zerolinewidth\":2},\"scene\":{\"xaxis\":{\"backgroundcolor\":\"#E5ECF6\",\"gridcolor\":\"white\",\"linecolor\":\"white\",\"showbackground\":true,\"ticks\":\"\",\"zerolinecolor\":\"white\",\"gridwidth\":2},\"yaxis\":{\"backgroundcolor\":\"#E5ECF6\",\"gridcolor\":\"white\",\"linecolor\":\"white\",\"showbackground\":true,\"ticks\":\"\",\"zerolinecolor\":\"white\",\"gridwidth\":2},\"zaxis\":{\"backgroundcolor\":\"#E5ECF6\",\"gridcolor\":\"white\",\"linecolor\":\"white\",\"showbackground\":true,\"ticks\":\"\",\"zerolinecolor\":\"white\",\"gridwidth\":2}},\"shapedefaults\":{\"line\":{\"color\":\"#2a3f5f\"}},\"annotationdefaults\":{\"arrowcolor\":\"#2a3f5f\",\"arrowhead\":0,\"arrowwidth\":1},\"geo\":{\"bgcolor\":\"white\",\"landcolor\":\"#E5ECF6\",\"subunitcolor\":\"white\",\"showland\":true,\"showlakes\":true,\"lakecolor\":\"white\"},\"title\":{\"x\":0.05},\"mapbox\":{\"style\":\"light\"}}},\"xaxis\":{\"anchor\":\"y\",\"domain\":[0.0,1.0],\"title\":{\"text\":\"Layer\"},\"tickmode\":\"array\",\"tickvals\":[0,1,2,3,4,5,6,7,8,9,10,11,12,13,14,15,16,17,18,19,20,21,22,23,24],\"ticktext\":[\"0_pre\",\"0_mid\",\"1_pre\",\"1_mid\",\"2_pre\",\"2_mid\",\"3_pre\",\"3_mid\",\"4_pre\",\"4_mid\",\"5_pre\",\"5_mid\",\"6_pre\",\"6_mid\",\"7_pre\",\"7_mid\",\"8_pre\",\"8_mid\",\"9_pre\",\"9_mid\",\"10_pre\",\"10_mid\",\"11_pre\",\"11_mid\",\"final_post\"]},\"yaxis\":{\"anchor\":\"x\",\"domain\":[0.0,1.0],\"title\":{\"text\":\"Logit Diff\"}},\"legend\":{\"tracegroupgap\":0},\"title\":{\"text\":\"Logit Difference From Accumulated Residual Stream\"},\"width\":800,\"hovermode\":\"x unified\"},                        {\"responsive\": true}                    ).then(function(){\n",
              "                            \n",
              "var gd = document.getElementById('17a479ea-ef83-4674-910e-a2c4e61f8c5d');\n",
              "var x = new MutationObserver(function (mutations, observer) {{\n",
              "        var display = window.getComputedStyle(gd).display;\n",
              "        if (!display || display === 'none') {{\n",
              "            console.log([gd, 'removed!']);\n",
              "            Plotly.purge(gd);\n",
              "            observer.disconnect();\n",
              "        }}\n",
              "}});\n",
              "\n",
              "// Listen for the removal of the full notebook cells\n",
              "var notebookContainer = gd.closest('#notebook-container');\n",
              "if (notebookContainer) {{\n",
              "    x.observe(notebookContainer, {childList: true});\n",
              "}}\n",
              "\n",
              "// Listen for the clearing of the current output cell\n",
              "var outputEl = gd.closest('.output');\n",
              "if (outputEl) {{\n",
              "    x.observe(outputEl, {childList: true});\n",
              "}}\n",
              "\n",
              "                        })                };                            </script>        </div>\n",
              "</body>\n",
              "</html>"
            ]
          },
          "metadata": {}
        }
      ],
      "source": [
        "accumulated_residual, labels = cache.accumulated_resid(layer=-1, incl_mid=True, pos_slice=-1, return_labels=True)\n",
        "# accumulated_residual has shape (component, batch, d_model)\n",
        "\n",
        "logit_lens_logit_diffs: Float[Tensor, \"component\"] = residual_stack_to_logit_diff(accumulated_residual, cache)\n",
        "\n",
        "line(\n",
        "    logit_lens_logit_diffs,\n",
        "    hovermode=\"x unified\",\n",
        "    title=\"Logit Difference From Accumulated Residual Stream\",\n",
        "    labels={\"x\": \"Layer\", \"y\": \"Logit Diff\"},\n",
        "    xaxis_tickvals=labels,\n",
        "    width=800\n",
        ")"
      ]
    },
    {
      "cell_type": "markdown",
      "metadata": {
        "id": "bJr6Umzjl6mJ"
      },
      "source": [
        "<details>\n",
        "<summary>Question - what is the interpretation of this plot? What does this tell you about how the model solves this task?</summary>\n",
        "\n",
        "Fascinatingly, we see that the model is utterly unable to do the task until layer 7, almost all performance comes from attention layer 9, and performance actually *decreases* from there.\n",
        "\n",
        "This tells us that there must be something going on (primarily in layers 7, 8 and 9) which writes to the residual stream in the correct way to solve the IOI task. This allows us to narrow in our focus, and start asking questions about what kind of computation is going on in those layers (e.g. the contribution of attention layers vs MLPs, and which attention heads are most important).\n",
        "</details>\n"
      ]
    },
    {
      "cell_type": "markdown",
      "metadata": {
        "id": "KP4rqArGl6mJ"
      },
      "source": [
        "## Layer Attribution\n"
      ]
    },
    {
      "cell_type": "markdown",
      "metadata": {
        "id": "Rddrbkzhl6mJ"
      },
      "source": [
        "We can repeat the above analysis but for each layer (this is equivalent to the differences between adjacent residual streams)\n",
        "\n",
        "Note: Annoying terminology overload - layer k of a transformer means the kth **transformer block**, but each block consists of an **attention layer** (to move information around) *and* an **MLP layer** (to process information).\n"
      ]
    },
    {
      "cell_type": "code",
      "execution_count": 17,
      "metadata": {
        "id": "CMUMDYzgl6mJ",
        "colab": {
          "base_uri": "https://localhost:8080/",
          "height": 542
        },
        "outputId": "bd6f1b10-f0d6-4088-dc85-faeb3ed3b45a"
      },
      "outputs": [
        {
          "output_type": "display_data",
          "data": {
            "text/html": [
              "<html>\n",
              "<head><meta charset=\"utf-8\" /></head>\n",
              "<body>\n",
              "    <div>            <script src=\"https://cdnjs.cloudflare.com/ajax/libs/mathjax/2.7.5/MathJax.js?config=TeX-AMS-MML_SVG\"></script><script type=\"text/javascript\">if (window.MathJax && window.MathJax.Hub && window.MathJax.Hub.Config) {window.MathJax.Hub.Config({SVG: {font: \"STIX-Web\"}});}</script>                <script type=\"text/javascript\">window.PlotlyConfig = {MathJaxConfig: 'local'};</script>\n",
              "        <script charset=\"utf-8\" src=\"https://cdn.plot.ly/plotly-2.24.1.min.js\"></script>                <div id=\"20560253-0e29-4c66-8775-397b1e1f0d7e\" class=\"plotly-graph-div\" style=\"height:525px; width:800px;\"></div>            <script type=\"text/javascript\">                                    window.PLOTLYENV=window.PLOTLYENV || {};                                    if (document.getElementById(\"20560253-0e29-4c66-8775-397b1e1f0d7e\")) {                    Plotly.newPlot(                        \"20560253-0e29-4c66-8775-397b1e1f0d7e\",                        [{\"hovertemplate\":\"Layer=%{x}\\u003cbr\\u003eLogit Diff=%{y}\\u003cextra\\u003e\\u003c\\u002fextra\\u003e\",\"legendgroup\":\"\",\"line\":{\"color\":\"#636efa\",\"dash\":\"solid\"},\"marker\":{\"symbol\":\"circle\"},\"mode\":\"lines\",\"name\":\"\",\"orientation\":\"v\",\"showlegend\":false,\"x\":[0,1,2,3,4,5,6,7,8,9,10,11,12,13,14,15,16,17,18,19,20,21,22,23,24,25],\"xaxis\":\"x\",\"y\":[-0.0002836659550666809,0.0002966028405353427,-0.006656362675130367,-0.0008816294721327722,-0.0015505244955420494,0.0003388116601854563,5.117629189044237e-05,0.0022052032873034477,-0.0014594276435673237,-0.0017219529254361987,-0.005434103775769472,0.0009056241251528263,-0.005739079788327217,0.010805062018334866,-0.01817326992750168,-0.0025570702273398638,0.27958160638809204,0.0008325772359967232,0.19949395954608917,0.009917349554598331,4.565486907958984,0.1174485981464386,-0.41232413053512573,0.15649473667144775,-1.4416812658309937,0.10648773610591888],\"yaxis\":\"y\",\"type\":\"scatter\"}],                        {\"template\":{\"data\":{\"histogram2dcontour\":[{\"type\":\"histogram2dcontour\",\"colorbar\":{\"outlinewidth\":0,\"ticks\":\"\"},\"colorscale\":[[0.0,\"#0d0887\"],[0.1111111111111111,\"#46039f\"],[0.2222222222222222,\"#7201a8\"],[0.3333333333333333,\"#9c179e\"],[0.4444444444444444,\"#bd3786\"],[0.5555555555555556,\"#d8576b\"],[0.6666666666666666,\"#ed7953\"],[0.7777777777777778,\"#fb9f3a\"],[0.8888888888888888,\"#fdca26\"],[1.0,\"#f0f921\"]]}],\"choropleth\":[{\"type\":\"choropleth\",\"colorbar\":{\"outlinewidth\":0,\"ticks\":\"\"}}],\"histogram2d\":[{\"type\":\"histogram2d\",\"colorbar\":{\"outlinewidth\":0,\"ticks\":\"\"},\"colorscale\":[[0.0,\"#0d0887\"],[0.1111111111111111,\"#46039f\"],[0.2222222222222222,\"#7201a8\"],[0.3333333333333333,\"#9c179e\"],[0.4444444444444444,\"#bd3786\"],[0.5555555555555556,\"#d8576b\"],[0.6666666666666666,\"#ed7953\"],[0.7777777777777778,\"#fb9f3a\"],[0.8888888888888888,\"#fdca26\"],[1.0,\"#f0f921\"]]}],\"heatmap\":[{\"type\":\"heatmap\",\"colorbar\":{\"outlinewidth\":0,\"ticks\":\"\"},\"colorscale\":[[0.0,\"#0d0887\"],[0.1111111111111111,\"#46039f\"],[0.2222222222222222,\"#7201a8\"],[0.3333333333333333,\"#9c179e\"],[0.4444444444444444,\"#bd3786\"],[0.5555555555555556,\"#d8576b\"],[0.6666666666666666,\"#ed7953\"],[0.7777777777777778,\"#fb9f3a\"],[0.8888888888888888,\"#fdca26\"],[1.0,\"#f0f921\"]]}],\"heatmapgl\":[{\"type\":\"heatmapgl\",\"colorbar\":{\"outlinewidth\":0,\"ticks\":\"\"},\"colorscale\":[[0.0,\"#0d0887\"],[0.1111111111111111,\"#46039f\"],[0.2222222222222222,\"#7201a8\"],[0.3333333333333333,\"#9c179e\"],[0.4444444444444444,\"#bd3786\"],[0.5555555555555556,\"#d8576b\"],[0.6666666666666666,\"#ed7953\"],[0.7777777777777778,\"#fb9f3a\"],[0.8888888888888888,\"#fdca26\"],[1.0,\"#f0f921\"]]}],\"contourcarpet\":[{\"type\":\"contourcarpet\",\"colorbar\":{\"outlinewidth\":0,\"ticks\":\"\"}}],\"contour\":[{\"type\":\"contour\",\"colorbar\":{\"outlinewidth\":0,\"ticks\":\"\"},\"colorscale\":[[0.0,\"#0d0887\"],[0.1111111111111111,\"#46039f\"],[0.2222222222222222,\"#7201a8\"],[0.3333333333333333,\"#9c179e\"],[0.4444444444444444,\"#bd3786\"],[0.5555555555555556,\"#d8576b\"],[0.6666666666666666,\"#ed7953\"],[0.7777777777777778,\"#fb9f3a\"],[0.8888888888888888,\"#fdca26\"],[1.0,\"#f0f921\"]]}],\"surface\":[{\"type\":\"surface\",\"colorbar\":{\"outlinewidth\":0,\"ticks\":\"\"},\"colorscale\":[[0.0,\"#0d0887\"],[0.1111111111111111,\"#46039f\"],[0.2222222222222222,\"#7201a8\"],[0.3333333333333333,\"#9c179e\"],[0.4444444444444444,\"#bd3786\"],[0.5555555555555556,\"#d8576b\"],[0.6666666666666666,\"#ed7953\"],[0.7777777777777778,\"#fb9f3a\"],[0.8888888888888888,\"#fdca26\"],[1.0,\"#f0f921\"]]}],\"mesh3d\":[{\"type\":\"mesh3d\",\"colorbar\":{\"outlinewidth\":0,\"ticks\":\"\"}}],\"scatter\":[{\"fillpattern\":{\"fillmode\":\"overlay\",\"size\":10,\"solidity\":0.2},\"type\":\"scatter\"}],\"parcoords\":[{\"type\":\"parcoords\",\"line\":{\"colorbar\":{\"outlinewidth\":0,\"ticks\":\"\"}}}],\"scatterpolargl\":[{\"type\":\"scatterpolargl\",\"marker\":{\"colorbar\":{\"outlinewidth\":0,\"ticks\":\"\"}}}],\"bar\":[{\"error_x\":{\"color\":\"#2a3f5f\"},\"error_y\":{\"color\":\"#2a3f5f\"},\"marker\":{\"line\":{\"color\":\"#E5ECF6\",\"width\":0.5},\"pattern\":{\"fillmode\":\"overlay\",\"size\":10,\"solidity\":0.2}},\"type\":\"bar\"}],\"scattergeo\":[{\"type\":\"scattergeo\",\"marker\":{\"colorbar\":{\"outlinewidth\":0,\"ticks\":\"\"}}}],\"scatterpolar\":[{\"type\":\"scatterpolar\",\"marker\":{\"colorbar\":{\"outlinewidth\":0,\"ticks\":\"\"}}}],\"histogram\":[{\"marker\":{\"pattern\":{\"fillmode\":\"overlay\",\"size\":10,\"solidity\":0.2}},\"type\":\"histogram\"}],\"scattergl\":[{\"type\":\"scattergl\",\"marker\":{\"colorbar\":{\"outlinewidth\":0,\"ticks\":\"\"}}}],\"scatter3d\":[{\"type\":\"scatter3d\",\"line\":{\"colorbar\":{\"outlinewidth\":0,\"ticks\":\"\"}},\"marker\":{\"colorbar\":{\"outlinewidth\":0,\"ticks\":\"\"}}}],\"scattermapbox\":[{\"type\":\"scattermapbox\",\"marker\":{\"colorbar\":{\"outlinewidth\":0,\"ticks\":\"\"}}}],\"scatterternary\":[{\"type\":\"scatterternary\",\"marker\":{\"colorbar\":{\"outlinewidth\":0,\"ticks\":\"\"}}}],\"scattercarpet\":[{\"type\":\"scattercarpet\",\"marker\":{\"colorbar\":{\"outlinewidth\":0,\"ticks\":\"\"}}}],\"carpet\":[{\"aaxis\":{\"endlinecolor\":\"#2a3f5f\",\"gridcolor\":\"white\",\"linecolor\":\"white\",\"minorgridcolor\":\"white\",\"startlinecolor\":\"#2a3f5f\"},\"baxis\":{\"endlinecolor\":\"#2a3f5f\",\"gridcolor\":\"white\",\"linecolor\":\"white\",\"minorgridcolor\":\"white\",\"startlinecolor\":\"#2a3f5f\"},\"type\":\"carpet\"}],\"table\":[{\"cells\":{\"fill\":{\"color\":\"#EBF0F8\"},\"line\":{\"color\":\"white\"}},\"header\":{\"fill\":{\"color\":\"#C8D4E3\"},\"line\":{\"color\":\"white\"}},\"type\":\"table\"}],\"barpolar\":[{\"marker\":{\"line\":{\"color\":\"#E5ECF6\",\"width\":0.5},\"pattern\":{\"fillmode\":\"overlay\",\"size\":10,\"solidity\":0.2}},\"type\":\"barpolar\"}],\"pie\":[{\"automargin\":true,\"type\":\"pie\"}]},\"layout\":{\"autotypenumbers\":\"strict\",\"colorway\":[\"#636efa\",\"#EF553B\",\"#00cc96\",\"#ab63fa\",\"#FFA15A\",\"#19d3f3\",\"#FF6692\",\"#B6E880\",\"#FF97FF\",\"#FECB52\"],\"font\":{\"color\":\"#2a3f5f\"},\"hovermode\":\"closest\",\"hoverlabel\":{\"align\":\"left\"},\"paper_bgcolor\":\"white\",\"plot_bgcolor\":\"#E5ECF6\",\"polar\":{\"bgcolor\":\"#E5ECF6\",\"angularaxis\":{\"gridcolor\":\"white\",\"linecolor\":\"white\",\"ticks\":\"\"},\"radialaxis\":{\"gridcolor\":\"white\",\"linecolor\":\"white\",\"ticks\":\"\"}},\"ternary\":{\"bgcolor\":\"#E5ECF6\",\"aaxis\":{\"gridcolor\":\"white\",\"linecolor\":\"white\",\"ticks\":\"\"},\"baxis\":{\"gridcolor\":\"white\",\"linecolor\":\"white\",\"ticks\":\"\"},\"caxis\":{\"gridcolor\":\"white\",\"linecolor\":\"white\",\"ticks\":\"\"}},\"coloraxis\":{\"colorbar\":{\"outlinewidth\":0,\"ticks\":\"\"}},\"colorscale\":{\"sequential\":[[0.0,\"#0d0887\"],[0.1111111111111111,\"#46039f\"],[0.2222222222222222,\"#7201a8\"],[0.3333333333333333,\"#9c179e\"],[0.4444444444444444,\"#bd3786\"],[0.5555555555555556,\"#d8576b\"],[0.6666666666666666,\"#ed7953\"],[0.7777777777777778,\"#fb9f3a\"],[0.8888888888888888,\"#fdca26\"],[1.0,\"#f0f921\"]],\"sequentialminus\":[[0.0,\"#0d0887\"],[0.1111111111111111,\"#46039f\"],[0.2222222222222222,\"#7201a8\"],[0.3333333333333333,\"#9c179e\"],[0.4444444444444444,\"#bd3786\"],[0.5555555555555556,\"#d8576b\"],[0.6666666666666666,\"#ed7953\"],[0.7777777777777778,\"#fb9f3a\"],[0.8888888888888888,\"#fdca26\"],[1.0,\"#f0f921\"]],\"diverging\":[[0,\"#8e0152\"],[0.1,\"#c51b7d\"],[0.2,\"#de77ae\"],[0.3,\"#f1b6da\"],[0.4,\"#fde0ef\"],[0.5,\"#f7f7f7\"],[0.6,\"#e6f5d0\"],[0.7,\"#b8e186\"],[0.8,\"#7fbc41\"],[0.9,\"#4d9221\"],[1,\"#276419\"]]},\"xaxis\":{\"gridcolor\":\"white\",\"linecolor\":\"white\",\"ticks\":\"\",\"title\":{\"standoff\":15},\"zerolinecolor\":\"white\",\"automargin\":true,\"zerolinewidth\":2},\"yaxis\":{\"gridcolor\":\"white\",\"linecolor\":\"white\",\"ticks\":\"\",\"title\":{\"standoff\":15},\"zerolinecolor\":\"white\",\"automargin\":true,\"zerolinewidth\":2},\"scene\":{\"xaxis\":{\"backgroundcolor\":\"#E5ECF6\",\"gridcolor\":\"white\",\"linecolor\":\"white\",\"showbackground\":true,\"ticks\":\"\",\"zerolinecolor\":\"white\",\"gridwidth\":2},\"yaxis\":{\"backgroundcolor\":\"#E5ECF6\",\"gridcolor\":\"white\",\"linecolor\":\"white\",\"showbackground\":true,\"ticks\":\"\",\"zerolinecolor\":\"white\",\"gridwidth\":2},\"zaxis\":{\"backgroundcolor\":\"#E5ECF6\",\"gridcolor\":\"white\",\"linecolor\":\"white\",\"showbackground\":true,\"ticks\":\"\",\"zerolinecolor\":\"white\",\"gridwidth\":2}},\"shapedefaults\":{\"line\":{\"color\":\"#2a3f5f\"}},\"annotationdefaults\":{\"arrowcolor\":\"#2a3f5f\",\"arrowhead\":0,\"arrowwidth\":1},\"geo\":{\"bgcolor\":\"white\",\"landcolor\":\"#E5ECF6\",\"subunitcolor\":\"white\",\"showland\":true,\"showlakes\":true,\"lakecolor\":\"white\"},\"title\":{\"x\":0.05},\"mapbox\":{\"style\":\"light\"}}},\"xaxis\":{\"anchor\":\"y\",\"domain\":[0.0,1.0],\"title\":{\"text\":\"Layer\"},\"tickmode\":\"array\",\"tickvals\":[0,1,2,3,4,5,6,7,8,9,10,11,12,13,14,15,16,17,18,19,20,21,22,23,24,25],\"ticktext\":[\"embed\",\"pos_embed\",\"0_attn_out\",\"0_mlp_out\",\"1_attn_out\",\"1_mlp_out\",\"2_attn_out\",\"2_mlp_out\",\"3_attn_out\",\"3_mlp_out\",\"4_attn_out\",\"4_mlp_out\",\"5_attn_out\",\"5_mlp_out\",\"6_attn_out\",\"6_mlp_out\",\"7_attn_out\",\"7_mlp_out\",\"8_attn_out\",\"8_mlp_out\",\"9_attn_out\",\"9_mlp_out\",\"10_attn_out\",\"10_mlp_out\",\"11_attn_out\",\"11_mlp_out\"]},\"yaxis\":{\"anchor\":\"x\",\"domain\":[0.0,1.0],\"title\":{\"text\":\"Logit Diff\"}},\"legend\":{\"tracegroupgap\":0},\"title\":{\"text\":\"Logit Difference From Each Layer\"},\"width\":800,\"hovermode\":\"x unified\"},                        {\"responsive\": true}                    ).then(function(){\n",
              "                            \n",
              "var gd = document.getElementById('20560253-0e29-4c66-8775-397b1e1f0d7e');\n",
              "var x = new MutationObserver(function (mutations, observer) {{\n",
              "        var display = window.getComputedStyle(gd).display;\n",
              "        if (!display || display === 'none') {{\n",
              "            console.log([gd, 'removed!']);\n",
              "            Plotly.purge(gd);\n",
              "            observer.disconnect();\n",
              "        }}\n",
              "}});\n",
              "\n",
              "// Listen for the removal of the full notebook cells\n",
              "var notebookContainer = gd.closest('#notebook-container');\n",
              "if (notebookContainer) {{\n",
              "    x.observe(notebookContainer, {childList: true});\n",
              "}}\n",
              "\n",
              "// Listen for the clearing of the current output cell\n",
              "var outputEl = gd.closest('.output');\n",
              "if (outputEl) {{\n",
              "    x.observe(outputEl, {childList: true});\n",
              "}}\n",
              "\n",
              "                        })                };                            </script>        </div>\n",
              "</body>\n",
              "</html>"
            ]
          },
          "metadata": {}
        }
      ],
      "source": [
        "per_layer_residual, labels = cache.decompose_resid(layer=-1, pos_slice=-1, return_labels=True)\n",
        "per_layer_logit_diffs = residual_stack_to_logit_diff(per_layer_residual, cache)\n",
        "\n",
        "line(\n",
        "    per_layer_logit_diffs,\n",
        "    hovermode=\"x unified\",\n",
        "    title=\"Logit Difference From Each Layer\",\n",
        "    labels={\"x\": \"Layer\", \"y\": \"Logit Diff\"},\n",
        "    xaxis_tickvals=labels,\n",
        "    width=800\n",
        ")"
      ]
    },
    {
      "cell_type": "markdown",
      "metadata": {
        "id": "N_-qd-rkl6mJ"
      },
      "source": [
        "<details>\n",
        "<summary>Question - what is the interpretation of this plot? What does this tell you about how the model solves this task?</summary>\n",
        "\n",
        "We see that only attention layers matter, which makes sense! The IOI task is about moving information around (i.e. moving the correct name and not the incorrect name), and less about processing it. And again we note that attention layer 9 improves things a lot, while attention 10 and attention 11 *decrease* performance.\n",
        "</details>\n"
      ]
    },
    {
      "cell_type": "markdown",
      "metadata": {
        "id": "PlwmFSyPl6mJ"
      },
      "source": [
        "## Head Attribution\n"
      ]
    },
    {
      "cell_type": "markdown",
      "metadata": {
        "id": "-o4wLrnil6mJ"
      },
      "source": [
        "We can further break down the output of each attention layer into the sum of the outputs of each attention head. Each attention layer consists of 12 heads, which each act independently and additively.\n",
        "\n",
        "<details> <summary>Decomposing attention output into sums of heads</summary>\n",
        "\n",
        "The standard way to compute the output of an attention layer is by concatenating the mixed values of each head, and multiplying by a big output weight matrix. But as described in [A Mathematical Framework](https://transformer-circuits.pub/2021/framework/index.html) this is equivalent to splitting the output weight matrix into a per-head output (here `model.blocks[k].attn.W_O`) and adding them up (including an overall bias term for the entire layer).\n",
        "</details>\n"
      ]
    },
    {
      "cell_type": "code",
      "execution_count": 18,
      "metadata": {
        "id": "EPD6V1OIl6mJ",
        "colab": {
          "base_uri": "https://localhost:8080/",
          "height": 560
        },
        "outputId": "90c82e0b-8e80-47f4-80d9-50ff1deb227a"
      },
      "outputs": [
        {
          "output_type": "stream",
          "name": "stdout",
          "text": [
            "Tried to stack head results when they weren't cached. Computing head results now\n"
          ]
        },
        {
          "output_type": "display_data",
          "data": {
            "text/html": [
              "<html>\n",
              "<head><meta charset=\"utf-8\" /></head>\n",
              "<body>\n",
              "    <div>            <script src=\"https://cdnjs.cloudflare.com/ajax/libs/mathjax/2.7.5/MathJax.js?config=TeX-AMS-MML_SVG\"></script><script type=\"text/javascript\">if (window.MathJax && window.MathJax.Hub && window.MathJax.Hub.Config) {window.MathJax.Hub.Config({SVG: {font: \"STIX-Web\"}});}</script>                <script type=\"text/javascript\">window.PlotlyConfig = {MathJaxConfig: 'local'};</script>\n",
              "        <script charset=\"utf-8\" src=\"https://cdn.plot.ly/plotly-2.24.1.min.js\"></script>                <div id=\"12b8f48d-7112-42f6-ba8d-caf06394f507\" class=\"plotly-graph-div\" style=\"height:525px; width:600px;\"></div>            <script type=\"text/javascript\">                                    window.PLOTLYENV=window.PLOTLYENV || {};                                    if (document.getElementById(\"12b8f48d-7112-42f6-ba8d-caf06394f507\")) {                    Plotly.newPlot(                        \"12b8f48d-7112-42f6-ba8d-caf06394f507\",                        [{\"coloraxis\":\"coloraxis\",\"name\":\"0\",\"z\":[[-0.002056329743936658,-0.0005101929418742657,0.0004685744643211365,0.00012511973909568042,-0.0006028675707057118,-0.00024294770264532417,-0.002318888669833541,-0.0027583700139075518,0.0005645750788971782,0.0009697413770481944,-0.00025043179630301893,4.727276973426342e-06],[-0.0010071191936731339,0.00039470940828323364,-0.0015487303026020527,0.0014034921769052744,-0.0012652770383283496,-0.001135792350396514,-0.0028159483335912228,-0.0029645259492099285,0.002919022925198078,0.0025743553414940834,0.00036237994208931923,0.0017548808827996254],[0.0005569476634263992,-0.0011266351211816072,-0.0017355134477838874,-0.0014514689100906253,-0.00028738094260916114,0.0017210583901032805,0.0026659031864255667,0.0031146733090281487,0.0005667395889759064,-0.0036664698272943497,-0.0018846974708139896,7.027294486761093e-06],[-0.0007264372543431818,0.00011368811829015613,0.0014302232302725315,0.000749073107726872,0.0020184707827866077,0.000743687036447227,-0.0004617353552021086,-0.0039057841058820486,0.0011407120618969202,-4.0257000364363194e-05,-0.0013293169904500246,-0.0017636892152950168],[-0.0028282322455197573,0.00033645902294665575,-0.0014248739462345839,-0.003777286969125271,0.0015998940216377378,0.0002989001804962754,-0.0008046253933571279,0.002038832986727357,-0.001559356926009059,-0.0006437428528442979,0.001116817002184689,-0.00035003694938495755],[0.0011338058393448591,0.0011259076418355107,-0.002516445703804493,-0.0014790219720453024,0.00038790592225268483,-6.409795605577528e-05,-0.0005097033572383225,-0.0008841081289574504,0.0006399024277925491,-0.0010096941841766238,-0.006759049836546183,0.003366764634847641],[-0.015147550031542778,-0.0021349783055484295,0.002593167359009385,-0.0004267316544428468,-0.005558968987315893,0.0026659229770302773,0.00641113193705678,-0.003826866624876857,-0.0003843174781650305,-0.0016429993556812406,-0.0013344185426831245,-9.181234054267406e-05],[-9.486671478953212e-05,-0.005788951180875301,-0.0006383625441230834,0.13493451476097107,-0.0017687833169475198,-0.018917977809906006,0.003873387584462762,-0.002145076170563698,-0.010327397845685482,0.1832590103149414,-0.0007748011266812682,-0.0010451906127855182],[-0.0038339525926858187,-0.0008046266157180071,-0.012673265300691128,0.008045904338359833,0.0036040539853274822,-0.009398131631314754,-0.08272124826908112,0.0035550841130316257,-0.018404148519039154,0.0017586990725249052,0.28961390256881714,0.022854171693325043],[0.08595239371061325,-0.0006932913674972951,0.06817008554935455,0.013111654669046402,-0.021098170429468155,0.051123954355716705,1.384490728378296,0.04583679884672165,-0.03830260783433914,2.9854516983032227,0.001966156531125307,-0.008030066266655922],[0.560873806476593,0.17083165049552917,-0.033617254346609116,0.058215562254190445,-0.002452981425449252,0.0018771393224596977,0.2882727384567261,-1.8986470699310303,-0.0015286903362721205,-0.03512975201010704,0.48022156953811646,-0.0009116003639064729],[0.016075769439339638,-0.03986204415559769,-0.3879125416278839,0.011123446747660637,-0.005477797240018845,-0.0025129676796495914,-0.08056183159351349,0.0075186630710959435,0.04301115497946739,-0.040082164108753204,-0.9702417850494385,0.011862390674650669]],\"type\":\"heatmap\",\"xaxis\":\"x\",\"yaxis\":\"y\",\"hovertemplate\":\"Head: %{x}\\u003cbr\\u003eLayer: %{y}\\u003cbr\\u003ecolor: %{z}\\u003cextra\\u003e\\u003c\\u002fextra\\u003e\"}],                        {\"template\":{\"data\":{\"histogram2dcontour\":[{\"type\":\"histogram2dcontour\",\"colorbar\":{\"outlinewidth\":0,\"ticks\":\"\"},\"colorscale\":[[0.0,\"#0d0887\"],[0.1111111111111111,\"#46039f\"],[0.2222222222222222,\"#7201a8\"],[0.3333333333333333,\"#9c179e\"],[0.4444444444444444,\"#bd3786\"],[0.5555555555555556,\"#d8576b\"],[0.6666666666666666,\"#ed7953\"],[0.7777777777777778,\"#fb9f3a\"],[0.8888888888888888,\"#fdca26\"],[1.0,\"#f0f921\"]]}],\"choropleth\":[{\"type\":\"choropleth\",\"colorbar\":{\"outlinewidth\":0,\"ticks\":\"\"}}],\"histogram2d\":[{\"type\":\"histogram2d\",\"colorbar\":{\"outlinewidth\":0,\"ticks\":\"\"},\"colorscale\":[[0.0,\"#0d0887\"],[0.1111111111111111,\"#46039f\"],[0.2222222222222222,\"#7201a8\"],[0.3333333333333333,\"#9c179e\"],[0.4444444444444444,\"#bd3786\"],[0.5555555555555556,\"#d8576b\"],[0.6666666666666666,\"#ed7953\"],[0.7777777777777778,\"#fb9f3a\"],[0.8888888888888888,\"#fdca26\"],[1.0,\"#f0f921\"]]}],\"heatmap\":[{\"type\":\"heatmap\",\"colorbar\":{\"outlinewidth\":0,\"ticks\":\"\"},\"colorscale\":[[0.0,\"#0d0887\"],[0.1111111111111111,\"#46039f\"],[0.2222222222222222,\"#7201a8\"],[0.3333333333333333,\"#9c179e\"],[0.4444444444444444,\"#bd3786\"],[0.5555555555555556,\"#d8576b\"],[0.6666666666666666,\"#ed7953\"],[0.7777777777777778,\"#fb9f3a\"],[0.8888888888888888,\"#fdca26\"],[1.0,\"#f0f921\"]]}],\"heatmapgl\":[{\"type\":\"heatmapgl\",\"colorbar\":{\"outlinewidth\":0,\"ticks\":\"\"},\"colorscale\":[[0.0,\"#0d0887\"],[0.1111111111111111,\"#46039f\"],[0.2222222222222222,\"#7201a8\"],[0.3333333333333333,\"#9c179e\"],[0.4444444444444444,\"#bd3786\"],[0.5555555555555556,\"#d8576b\"],[0.6666666666666666,\"#ed7953\"],[0.7777777777777778,\"#fb9f3a\"],[0.8888888888888888,\"#fdca26\"],[1.0,\"#f0f921\"]]}],\"contourcarpet\":[{\"type\":\"contourcarpet\",\"colorbar\":{\"outlinewidth\":0,\"ticks\":\"\"}}],\"contour\":[{\"type\":\"contour\",\"colorbar\":{\"outlinewidth\":0,\"ticks\":\"\"},\"colorscale\":[[0.0,\"#0d0887\"],[0.1111111111111111,\"#46039f\"],[0.2222222222222222,\"#7201a8\"],[0.3333333333333333,\"#9c179e\"],[0.4444444444444444,\"#bd3786\"],[0.5555555555555556,\"#d8576b\"],[0.6666666666666666,\"#ed7953\"],[0.7777777777777778,\"#fb9f3a\"],[0.8888888888888888,\"#fdca26\"],[1.0,\"#f0f921\"]]}],\"surface\":[{\"type\":\"surface\",\"colorbar\":{\"outlinewidth\":0,\"ticks\":\"\"},\"colorscale\":[[0.0,\"#0d0887\"],[0.1111111111111111,\"#46039f\"],[0.2222222222222222,\"#7201a8\"],[0.3333333333333333,\"#9c179e\"],[0.4444444444444444,\"#bd3786\"],[0.5555555555555556,\"#d8576b\"],[0.6666666666666666,\"#ed7953\"],[0.7777777777777778,\"#fb9f3a\"],[0.8888888888888888,\"#fdca26\"],[1.0,\"#f0f921\"]]}],\"mesh3d\":[{\"type\":\"mesh3d\",\"colorbar\":{\"outlinewidth\":0,\"ticks\":\"\"}}],\"scatter\":[{\"fillpattern\":{\"fillmode\":\"overlay\",\"size\":10,\"solidity\":0.2},\"type\":\"scatter\"}],\"parcoords\":[{\"type\":\"parcoords\",\"line\":{\"colorbar\":{\"outlinewidth\":0,\"ticks\":\"\"}}}],\"scatterpolargl\":[{\"type\":\"scatterpolargl\",\"marker\":{\"colorbar\":{\"outlinewidth\":0,\"ticks\":\"\"}}}],\"bar\":[{\"error_x\":{\"color\":\"#2a3f5f\"},\"error_y\":{\"color\":\"#2a3f5f\"},\"marker\":{\"line\":{\"color\":\"#E5ECF6\",\"width\":0.5},\"pattern\":{\"fillmode\":\"overlay\",\"size\":10,\"solidity\":0.2}},\"type\":\"bar\"}],\"scattergeo\":[{\"type\":\"scattergeo\",\"marker\":{\"colorbar\":{\"outlinewidth\":0,\"ticks\":\"\"}}}],\"scatterpolar\":[{\"type\":\"scatterpolar\",\"marker\":{\"colorbar\":{\"outlinewidth\":0,\"ticks\":\"\"}}}],\"histogram\":[{\"marker\":{\"pattern\":{\"fillmode\":\"overlay\",\"size\":10,\"solidity\":0.2}},\"type\":\"histogram\"}],\"scattergl\":[{\"type\":\"scattergl\",\"marker\":{\"colorbar\":{\"outlinewidth\":0,\"ticks\":\"\"}}}],\"scatter3d\":[{\"type\":\"scatter3d\",\"line\":{\"colorbar\":{\"outlinewidth\":0,\"ticks\":\"\"}},\"marker\":{\"colorbar\":{\"outlinewidth\":0,\"ticks\":\"\"}}}],\"scattermapbox\":[{\"type\":\"scattermapbox\",\"marker\":{\"colorbar\":{\"outlinewidth\":0,\"ticks\":\"\"}}}],\"scatterternary\":[{\"type\":\"scatterternary\",\"marker\":{\"colorbar\":{\"outlinewidth\":0,\"ticks\":\"\"}}}],\"scattercarpet\":[{\"type\":\"scattercarpet\",\"marker\":{\"colorbar\":{\"outlinewidth\":0,\"ticks\":\"\"}}}],\"carpet\":[{\"aaxis\":{\"endlinecolor\":\"#2a3f5f\",\"gridcolor\":\"white\",\"linecolor\":\"white\",\"minorgridcolor\":\"white\",\"startlinecolor\":\"#2a3f5f\"},\"baxis\":{\"endlinecolor\":\"#2a3f5f\",\"gridcolor\":\"white\",\"linecolor\":\"white\",\"minorgridcolor\":\"white\",\"startlinecolor\":\"#2a3f5f\"},\"type\":\"carpet\"}],\"table\":[{\"cells\":{\"fill\":{\"color\":\"#EBF0F8\"},\"line\":{\"color\":\"white\"}},\"header\":{\"fill\":{\"color\":\"#C8D4E3\"},\"line\":{\"color\":\"white\"}},\"type\":\"table\"}],\"barpolar\":[{\"marker\":{\"line\":{\"color\":\"#E5ECF6\",\"width\":0.5},\"pattern\":{\"fillmode\":\"overlay\",\"size\":10,\"solidity\":0.2}},\"type\":\"barpolar\"}],\"pie\":[{\"automargin\":true,\"type\":\"pie\"}]},\"layout\":{\"autotypenumbers\":\"strict\",\"colorway\":[\"#636efa\",\"#EF553B\",\"#00cc96\",\"#ab63fa\",\"#FFA15A\",\"#19d3f3\",\"#FF6692\",\"#B6E880\",\"#FF97FF\",\"#FECB52\"],\"font\":{\"color\":\"#2a3f5f\"},\"hovermode\":\"closest\",\"hoverlabel\":{\"align\":\"left\"},\"paper_bgcolor\":\"white\",\"plot_bgcolor\":\"#E5ECF6\",\"polar\":{\"bgcolor\":\"#E5ECF6\",\"angularaxis\":{\"gridcolor\":\"white\",\"linecolor\":\"white\",\"ticks\":\"\"},\"radialaxis\":{\"gridcolor\":\"white\",\"linecolor\":\"white\",\"ticks\":\"\"}},\"ternary\":{\"bgcolor\":\"#E5ECF6\",\"aaxis\":{\"gridcolor\":\"white\",\"linecolor\":\"white\",\"ticks\":\"\"},\"baxis\":{\"gridcolor\":\"white\",\"linecolor\":\"white\",\"ticks\":\"\"},\"caxis\":{\"gridcolor\":\"white\",\"linecolor\":\"white\",\"ticks\":\"\"}},\"coloraxis\":{\"colorbar\":{\"outlinewidth\":0,\"ticks\":\"\"}},\"colorscale\":{\"sequential\":[[0.0,\"#0d0887\"],[0.1111111111111111,\"#46039f\"],[0.2222222222222222,\"#7201a8\"],[0.3333333333333333,\"#9c179e\"],[0.4444444444444444,\"#bd3786\"],[0.5555555555555556,\"#d8576b\"],[0.6666666666666666,\"#ed7953\"],[0.7777777777777778,\"#fb9f3a\"],[0.8888888888888888,\"#fdca26\"],[1.0,\"#f0f921\"]],\"sequentialminus\":[[0.0,\"#0d0887\"],[0.1111111111111111,\"#46039f\"],[0.2222222222222222,\"#7201a8\"],[0.3333333333333333,\"#9c179e\"],[0.4444444444444444,\"#bd3786\"],[0.5555555555555556,\"#d8576b\"],[0.6666666666666666,\"#ed7953\"],[0.7777777777777778,\"#fb9f3a\"],[0.8888888888888888,\"#fdca26\"],[1.0,\"#f0f921\"]],\"diverging\":[[0,\"#8e0152\"],[0.1,\"#c51b7d\"],[0.2,\"#de77ae\"],[0.3,\"#f1b6da\"],[0.4,\"#fde0ef\"],[0.5,\"#f7f7f7\"],[0.6,\"#e6f5d0\"],[0.7,\"#b8e186\"],[0.8,\"#7fbc41\"],[0.9,\"#4d9221\"],[1,\"#276419\"]]},\"xaxis\":{\"gridcolor\":\"white\",\"linecolor\":\"white\",\"ticks\":\"\",\"title\":{\"standoff\":15},\"zerolinecolor\":\"white\",\"automargin\":true,\"zerolinewidth\":2},\"yaxis\":{\"gridcolor\":\"white\",\"linecolor\":\"white\",\"ticks\":\"\",\"title\":{\"standoff\":15},\"zerolinecolor\":\"white\",\"automargin\":true,\"zerolinewidth\":2},\"scene\":{\"xaxis\":{\"backgroundcolor\":\"#E5ECF6\",\"gridcolor\":\"white\",\"linecolor\":\"white\",\"showbackground\":true,\"ticks\":\"\",\"zerolinecolor\":\"white\",\"gridwidth\":2},\"yaxis\":{\"backgroundcolor\":\"#E5ECF6\",\"gridcolor\":\"white\",\"linecolor\":\"white\",\"showbackground\":true,\"ticks\":\"\",\"zerolinecolor\":\"white\",\"gridwidth\":2},\"zaxis\":{\"backgroundcolor\":\"#E5ECF6\",\"gridcolor\":\"white\",\"linecolor\":\"white\",\"showbackground\":true,\"ticks\":\"\",\"zerolinecolor\":\"white\",\"gridwidth\":2}},\"shapedefaults\":{\"line\":{\"color\":\"#2a3f5f\"}},\"annotationdefaults\":{\"arrowcolor\":\"#2a3f5f\",\"arrowhead\":0,\"arrowwidth\":1},\"geo\":{\"bgcolor\":\"white\",\"landcolor\":\"#E5ECF6\",\"subunitcolor\":\"white\",\"showland\":true,\"showlakes\":true,\"lakecolor\":\"white\"},\"title\":{\"x\":0.05},\"mapbox\":{\"style\":\"light\"}}},\"xaxis\":{\"anchor\":\"y\",\"domain\":[0.0,1.0],\"scaleanchor\":\"y\",\"constrain\":\"domain\",\"title\":{\"text\":\"Head\"}},\"yaxis\":{\"anchor\":\"x\",\"domain\":[0.0,1.0],\"autorange\":\"reversed\",\"constrain\":\"domain\",\"title\":{\"text\":\"Layer\"}},\"coloraxis\":{\"colorscale\":[[0.0,\"rgb(103,0,31)\"],[0.1,\"rgb(178,24,43)\"],[0.2,\"rgb(214,96,77)\"],[0.3,\"rgb(244,165,130)\"],[0.4,\"rgb(253,219,199)\"],[0.5,\"rgb(247,247,247)\"],[0.6,\"rgb(209,229,240)\"],[0.7,\"rgb(146,197,222)\"],[0.8,\"rgb(67,147,195)\"],[0.9,\"rgb(33,102,172)\"],[1.0,\"rgb(5,48,97)\"]],\"cmid\":0.0},\"title\":{\"text\":\"Logit Difference From Each Head\"},\"width\":600},                        {\"staticPlot\": false, \"responsive\": true}                    ).then(function(){\n",
              "                            \n",
              "var gd = document.getElementById('12b8f48d-7112-42f6-ba8d-caf06394f507');\n",
              "var x = new MutationObserver(function (mutations, observer) {{\n",
              "        var display = window.getComputedStyle(gd).display;\n",
              "        if (!display || display === 'none') {{\n",
              "            console.log([gd, 'removed!']);\n",
              "            Plotly.purge(gd);\n",
              "            observer.disconnect();\n",
              "        }}\n",
              "}});\n",
              "\n",
              "// Listen for the removal of the full notebook cells\n",
              "var notebookContainer = gd.closest('#notebook-container');\n",
              "if (notebookContainer) {{\n",
              "    x.observe(notebookContainer, {childList: true});\n",
              "}}\n",
              "\n",
              "// Listen for the clearing of the current output cell\n",
              "var outputEl = gd.closest('.output');\n",
              "if (outputEl) {{\n",
              "    x.observe(outputEl, {childList: true});\n",
              "}}\n",
              "\n",
              "                        })                };                            </script>        </div>\n",
              "</body>\n",
              "</html>"
            ]
          },
          "metadata": {}
        }
      ],
      "source": [
        "per_head_residual, labels = cache.stack_head_results(layer=-1, pos_slice=-1, return_labels=True)\n",
        "per_head_residual = einops.rearrange(\n",
        "    per_head_residual,\n",
        "    \"(layer head) ... -> layer head ...\",\n",
        "    layer=model.cfg.n_layers\n",
        ")\n",
        "per_head_logit_diffs = residual_stack_to_logit_diff(per_head_residual, cache)\n",
        "\n",
        "imshow(\n",
        "    per_head_logit_diffs,\n",
        "    labels={\"x\":\"Head\", \"y\":\"Layer\"},\n",
        "    title=\"Logit Difference From Each Head\",\n",
        "    width=600\n",
        ")"
      ]
    },
    {
      "cell_type": "markdown",
      "metadata": {
        "id": "wRyQZrNgl6mK"
      },
      "source": [
        "We see that only a few heads really matter - heads 9.6 and 9.9 contribute a lot positively (explaining why attention layer 9 is so important), while heads 10.7 and 11.10 contribute a lot negatively (explaining why attention layer 10 and layer 11 are actively harmful). These correspond to (some of) the name movers and negative name movers discussed in the paper. There are also several heads that matter positively or negatively but less strongly (other name movers and backup name movers).\n",
        "\n",
        "There are a few meta observations worth making here - our model has 144 heads, yet we could localise this behaviour to a handful of specific heads, using straightforward, general techniques. This supports the claim in [A Mathematical Framework](https://transformer-circuits.pub/2021/framework/index.html) that attention heads are the right level of abstraction to understand attention. It also really surprising that there are *negative* heads - eg 10.7 makes the incorrect logit 7x *more* likely. I'm not sure what's going on there, though the paper discusses some possibilities.\n"
      ]
    },
    {
      "cell_type": "markdown",
      "metadata": {
        "id": "_kOt1JbHl6mK"
      },
      "source": [
        "## Recap of useful functions from this section\n",
        "\n",
        "Here, we take stock of all the functions from transformerlens which you might not have seen previously.\n",
        "\n",
        "* `cache.apply_ln_to_stack`\n",
        "    * Apply layernorm scaling to a stack of residual stream values.\n",
        "    * We used this to help us go from \"final value in residual stream\" to \"projection of logits in logit difference directions\", without getting the code too messy!\n",
        "* `cache.accumulated_resid(layer=None)`\n",
        "    * Returns the accumulated residual stream up to layer `layer` (or up to the final value of residual stream if layer is None), i.e. a stack of previous residual streams up to that layer's input.\n",
        "    * Useful when studying the **logit lens**.\n",
        "    * First dimension of output is `(0_pre, 0_mid, 1_pre, 1_mid, ..., final_post)`\n",
        "* `cache.decompose_resid(layer)`.\n",
        "    * Decomposes the residual stream input to layer `layer` into a stack of the output of previous layers. The sum of these is the input to layer `layer`.\n",
        "    * First dimension of output is `(embed, pos_embed, 0_attn_out, 0_mlp_out, ...)`.\n",
        "* `cache.stack_head_results(layer)`\n",
        "    * Returns a stack of all head results (i.e. residual stream contribution) up to layer `layer`\n",
        "    * (i.e. like `decompose_resid` except it splits each attention layer by head rather than splitting each layer by attention/MLP)\n",
        "    * First dimension of output is `layer * head` (we needed to rearrange to `(layer, head)` to plot it).\n"
      ]
    },
    {
      "cell_type": "markdown",
      "metadata": {
        "id": "A5z5RSlZl6mK"
      },
      "source": [
        "## Attention Analysis\n",
        "\n",
        "Attention heads are particularly fruitful to study because we can look directly at their attention patterns and study from what positions they move information from and to. This is particularly useful here as we're looking at the direct effect on the logits so we need only look at the attention patterns from the final token.\n",
        "\n",
        "We use the `circuitsvis` library (developed from Anthropic's PySvelte library) to visualize the attention patterns! We visualize the top 3 positive and negative heads by direct logit attribution, and show these for the first prompt (as an illustration).\n",
        "\n",
        "<details> <summary>Interpreting Attention Patterns</summary>\n",
        "\n",
        "A common mistake to make when looking at attention patterns is thinking that they must convey information about the *token* looked at (maybe accounting for the context of the token). But actually, all we can confidently say is that it moves information from the *residual stream position* corresponding to that input token. Especially later on in the model, there may be components in the residual stream that are nothing to do with the input token! Eg the period at the end of a sentence may contain summary information for that sentence, and the head may solely move that, rather than caring about whether it ends in \".\", \"!\" or \"?\"\n",
        "</details>\n"
      ]
    },
    {
      "cell_type": "code",
      "execution_count": 19,
      "metadata": {
        "id": "K3UJjS7_l6mK",
        "colab": {
          "base_uri": "https://localhost:8080/",
          "height": 773
        },
        "outputId": "7bd253a8-ecca-4f29-8ff8-8f01704c5bbb"
      },
      "outputs": [
        {
          "output_type": "display_data",
          "data": {
            "text/plain": [
              "<IPython.core.display.HTML object>"
            ],
            "text/html": [
              "<h2>Top 3 Positive Logit Attribution Heads</h2>"
            ]
          },
          "metadata": {}
        },
        {
          "output_type": "display_data",
          "data": {
            "text/plain": [
              "<circuitsvis.utils.render.RenderedHTML at 0x7e73ce4c5c90>"
            ],
            "text/html": [
              "<div id=\"circuits-vis-3a94542e-64eb\" style=\"margin: 15px 0;\"/>\n",
              "    <script crossorigin type=\"module\">\n",
              "    import { render, AttentionPatterns } from \"https://unpkg.com/circuitsvis@1.41.0/dist/cdn/esm.js\";\n",
              "    render(\n",
              "      \"circuits-vis-3a94542e-64eb\",\n",
              "      AttentionPatterns,\n",
              "      {\"tokens\": [\"<|endoftext|>\", \"When\", \" John\", \" and\", \" Mary\", \" went\", \" to\", \" the\", \" shops\", \",\", \" John\", \" gave\", \" the\", \" bag\", \" to\"], \"attention\": [[[1.0, 0.0, 0.0, 0.0, 0.0, 0.0, 0.0, 0.0, 0.0, 0.0, 0.0, 0.0, 0.0, 0.0, 0.0], [0.9972943663597107, 0.0027056485414505005, 0.0, 0.0, 0.0, 0.0, 0.0, 0.0, 0.0, 0.0, 0.0, 0.0, 0.0, 0.0, 0.0], [0.9962596893310547, 0.0009261614759452641, 0.0028141906950622797, 0.0, 0.0, 0.0, 0.0, 0.0, 0.0, 0.0, 0.0, 0.0, 0.0, 0.0, 0.0], [0.9528969526290894, 0.0022213917691260576, 0.042856935411691666, 0.0020247334614396095, 0.0, 0.0, 0.0, 0.0, 0.0, 0.0, 0.0, 0.0, 0.0, 0.0, 0.0], [0.9851977825164795, 0.0015897220000624657, 0.006368797272443771, 0.001531498390249908, 0.005312192253768444, 0.0, 0.0, 0.0, 0.0, 0.0, 0.0, 0.0, 0.0, 0.0, 0.0], [0.9954929351806641, 0.0010612687328830361, 0.0010805935598909855, 0.00015537325816694647, 0.0007782339816913009, 0.0014315755106508732, 0.0, 0.0, 0.0, 0.0, 0.0, 0.0, 0.0, 0.0, 0.0], [0.973646342754364, 0.0022832686081528664, 0.008155777119100094, 0.000249253585934639, 0.009252970106899738, 0.0015051867812871933, 0.004907242953777313, 0.0, 0.0, 0.0, 0.0, 0.0, 0.0, 0.0, 0.0], [0.9938424825668335, 0.0017841376829892397, 0.0012922764290124178, 0.00020421079534571618, 0.0004908465198241174, 0.00019043960492126644, 0.00037622483796440065, 0.001819328055717051, 0.0, 0.0, 0.0, 0.0, 0.0, 0.0, 0.0], [0.9912062883377075, 0.0017233493272215128, 0.0010265912860631943, 0.00011960667325183749, 0.0007412456325255334, 0.0001590006286278367, 0.0002987222105730325, 0.00018268913845531642, 0.004542419221252203, 0.0, 0.0, 0.0, 0.0, 0.0, 0.0], [0.5234010815620422, 0.0083545483648777, 0.24390144646167755, 0.0023504800628870726, 0.21125739812850952, 0.000769553822465241, 0.000634768046438694, 0.0015820569824427366, 0.004504251293838024, 0.0032444200478494167, 0.0, 0.0, 0.0, 0.0, 0.0], [0.9352383613586426, 0.002883380278944969, 0.005771114025264978, 0.023919999599456787, 0.018724054098129272, 0.006232318468391895, 0.0004495848552323878, 0.00044703087769448757, 0.001886328449472785, 0.0012447385815903544, 0.003203074913471937, 0.0, 0.0, 0.0, 0.0], [0.19591882824897766, 0.011928529478609562, 0.3522184193134308, 0.009018855169415474, 0.3910823464393616, 0.0006064138142392039, 0.0003816766256932169, 0.0012834863737225533, 0.00271714199334383, 0.00155955262016505, 0.031729914247989655, 0.0015549204545095563, 0.0, 0.0, 0.0], [0.8878714442253113, 0.004403671249747276, 0.018914557993412018, 0.006009300705045462, 0.013130495324730873, 0.0017338136676698923, 0.0006078354781493545, 0.0005778358317911625, 0.051839783787727356, 0.0020752744749188423, 0.0029555114451795816, 0.0017708961386233568, 0.00810958445072174, 0.0, 0.0], [0.9741848707199097, 0.0015543089248239994, 0.001331356237642467, 0.00039071316132321954, 0.0008167062187567353, 0.00024481097352690995, 0.0005729039548896253, 0.00012022209557471797, 0.0022324195597320795, 0.0012384988367557526, 0.0003908978251274675, 0.0008206809870898724, 0.0012903662864118814, 0.014811165630817413, 0.0], [0.09833905100822449, 0.00914799328893423, 0.3815748691558838, 0.0017671802779659629, 0.47477519512176514, 0.00013708174810744822, 8.885390707291663e-05, 0.0005996972322463989, 0.0003626226098276675, 0.0010625239228829741, 0.027502698823809624, 0.0001410927507095039, 0.0028980353381484747, 0.0004912582226097584, 0.0011118515394628048]], [[1.0, 0.0, 0.0, 0.0, 0.0, 0.0, 0.0, 0.0, 0.0, 0.0, 0.0, 0.0, 0.0, 0.0, 0.0], [0.9982616901397705, 0.0017383919330313802, 0.0, 0.0, 0.0, 0.0, 0.0, 0.0, 0.0, 0.0, 0.0, 0.0, 0.0, 0.0, 0.0], [0.9945154190063477, 0.0007295109680853784, 0.004755081608891487, 0.0, 0.0, 0.0, 0.0, 0.0, 0.0, 0.0, 0.0, 0.0, 0.0, 0.0, 0.0], [0.9052161574363708, 0.0009898794814944267, 0.09214037656784058, 0.0016536649782210588, 0.0, 0.0, 0.0, 0.0, 0.0, 0.0, 0.0, 0.0, 0.0, 0.0, 0.0], [0.9793538451194763, 0.0011637033894658089, 0.0060330964624881744, 0.005824121180921793, 0.00762525387108326, 0.0, 0.0, 0.0, 0.0, 0.0, 0.0, 0.0, 0.0, 0.0, 0.0], [0.9945240020751953, 0.0006744038546457887, 0.0014488664455711842, 0.0003899302100762725, 0.0010136134224012494, 0.0019491708371788263, 0.0, 0.0, 0.0, 0.0, 0.0, 0.0, 0.0, 0.0, 0.0], [0.9773287773132324, 0.0016440852778032422, 0.010376428253948689, 0.00043533777352422476, 0.0067628961987793446, 0.0009672460146248341, 0.0024852422066032887, 0.0, 0.0, 0.0, 0.0, 0.0, 0.0, 0.0, 0.0], [0.9941056370735168, 0.0010262796422466636, 0.0010850676335394382, 0.0005199766019359231, 0.0006984130013734102, 0.00045032292837277055, 0.0011270145187154412, 0.0009872836526483297, 0.0, 0.0, 0.0, 0.0, 0.0, 0.0, 0.0], [0.9748077392578125, 0.006466949358582497, 0.0014510382898151875, 0.0002602159511297941, 0.0012046679621562362, 0.00034581052022986114, 0.0019551320001482964, 0.0007788643706589937, 0.012729661539196968, 0.0, 0.0, 0.0, 0.0, 0.0, 0.0], [0.5774252414703369, 0.0064529129303991795, 0.1444598138332367, 0.0024811876937747, 0.25919973850250244, 0.0007872115820646286, 0.0004807526711374521, 0.00042626619688235223, 0.006937566213309765, 0.0013492257567122579, 0.0, 0.0, 0.0, 0.0, 0.0], [0.9336607456207275, 0.0018418249674141407, 0.0031791450455784798, 0.022608470171689987, 0.015273676253855228, 0.007421970833092928, 0.002388068474829197, 0.0008246181532740593, 0.006557927466928959, 0.001629894832149148, 0.004613627679646015, 0.0, 0.0, 0.0, 0.0], [0.29627087712287903, 0.002159133553504944, 0.1583985686302185, 0.005378556437790394, 0.48517870903015137, 0.0008874662453308702, 0.0004517032648436725, 0.0008572715451009572, 0.003793463809415698, 0.0003608991682995111, 0.04474975913763046, 0.0015135619323700666, 0.0, 0.0, 0.0], [0.8873327970504761, 0.002311029238626361, 0.005899518728256226, 0.011047329753637314, 0.015069164335727692, 0.002994600450620055, 0.001086840289644897, 0.00022122547670733184, 0.06407012790441513, 0.0015461882576346397, 0.00245399191044271, 0.0017224568873643875, 0.004244642332196236, 0.0, 0.0], [0.9753478765487671, 0.0013571567833423615, 0.0020864978432655334, 0.0003703830298036337, 0.0017645551124587655, 0.0003551100962795317, 0.0011722615454345942, 0.0002516527893021703, 0.0032001303043216467, 0.0012765058781951666, 0.001451288815587759, 0.0004812514816876501, 0.001922516617923975, 0.008962820284068584, 0.0], [0.16742122173309326, 0.001117866369895637, 0.2988725006580353, 0.0009690693113952875, 0.49646586179733276, 0.0001599355018697679, 4.598071245709434e-05, 0.00010881596244871616, 0.0009416781831532717, 9.384608711116016e-05, 0.03158051148056984, 0.00010068943811347708, 0.0008205082849599421, 0.0009754007332958281, 0.0003261255915276706]], [[1.0, 0.0, 0.0, 0.0, 0.0, 0.0, 0.0, 0.0, 0.0, 0.0, 0.0, 0.0, 0.0, 0.0, 0.0], [0.9807033538818359, 0.019296705722808838, 0.0, 0.0, 0.0, 0.0, 0.0, 0.0, 0.0, 0.0, 0.0, 0.0, 0.0, 0.0, 0.0], [0.9365872740745544, 0.014715731143951416, 0.048696912825107574, 0.0, 0.0, 0.0, 0.0, 0.0, 0.0, 0.0, 0.0, 0.0, 0.0, 0.0, 0.0], [0.8537853956222534, 0.0076423874124884605, 0.11181601881980896, 0.02675618976354599, 0.0, 0.0, 0.0, 0.0, 0.0, 0.0, 0.0, 0.0, 0.0, 0.0, 0.0], [0.8629213571548462, 0.01831302046775818, 0.049165114760398865, 0.015434492379426956, 0.054166030138731, 0.0, 0.0, 0.0, 0.0, 0.0, 0.0, 0.0, 0.0, 0.0, 0.0], [0.970747709274292, 0.004160067066550255, 0.0016869433457031846, 0.008711873553693295, 0.005908943247050047, 0.008784344419836998, 0.0, 0.0, 0.0, 0.0, 0.0, 0.0, 0.0, 0.0, 0.0], [0.7560630440711975, 0.018519645556807518, 0.05475188046693802, 0.0149367805570364, 0.10818026959896088, 0.015644989907741547, 0.03190336376428604, 0.0, 0.0, 0.0, 0.0, 0.0, 0.0, 0.0, 0.0], [0.8467602729797363, 0.013943219557404518, 0.02731136791408062, 0.015852076932787895, 0.04357723146677017, 0.00697507755830884, 0.026266343891620636, 0.019314497709274292, 0.0, 0.0, 0.0, 0.0, 0.0, 0.0, 0.0], [0.9167338013648987, 0.004641381092369556, 0.016126573085784912, 0.0015967984218150377, 0.022550789639353752, 0.0011065497528761625, 0.0014546522870659828, 0.0009346928563900292, 0.03485476225614548, 0.0, 0.0, 0.0, 0.0, 0.0, 0.0], [0.401076078414917, 0.005766057409346104, 0.14772777259349823, 0.006764854304492474, 0.38764864206314087, 0.0031183676328510046, 0.0024684180971235037, 0.002493457403033972, 0.03517064079642296, 0.0077657015062868595, 0.0, 0.0, 0.0, 0.0, 0.0], [0.8043427467346191, 0.012787550687789917, 0.016314325854182243, 0.014958998188376427, 0.04045349732041359, 0.01497748401015997, 0.008033756166696548, 0.004049431532621384, 0.034923769533634186, 0.022129077464342117, 0.02702939324080944, 0.0, 0.0, 0.0, 0.0], [0.3483803868293762, 0.010672464966773987, 0.20956093072891235, 0.011965769343078136, 0.3235318064689636, 0.002604495035484433, 0.004141568206250668, 0.00400780513882637, 0.015816867351531982, 0.007456142455339432, 0.0575813353061676, 0.004280407913029194, 0.0, 0.0, 0.0], [0.6796213388442993, 0.006313266232609749, 0.03498566150665283, 0.02640092931687832, 0.048000723123550415, 0.007243202533572912, 0.012139298021793365, 0.004096245858818293, 0.1410488784313202, 0.011302586644887924, 0.01108022965490818, 0.010713894851505756, 0.00705373752862215, 0.0, 0.0], [0.9063901901245117, 0.00405797129496932, 0.006339047569781542, 0.0018839335534721613, 0.00680271303281188, 0.0009668180136941373, 0.001792223658412695, 0.0009803015273064375, 0.025496922433376312, 0.0039005172438919544, 0.00525703327730298, 0.003559173084795475, 0.0016815379494801164, 0.030891630798578262, 0.0], [0.431026816368103, 0.0075417133048176765, 0.17085106670856476, 0.006576351821422577, 0.3028320074081421, 0.0015554162673652172, 0.0019247496966272593, 0.0014887810684740543, 0.014001541770994663, 0.004136480391025543, 0.031717777252197266, 0.0011210067896172404, 0.0024683030787855387, 0.015909995883703232, 0.00684799998998642]]], \"headLabels\": [\"9.9\", \"9.6\", \"10.0\"]}\n",
              "    )\n",
              "    </script>"
            ]
          },
          "metadata": {}
        },
        {
          "output_type": "display_data",
          "data": {
            "text/plain": [
              "<IPython.core.display.HTML object>"
            ],
            "text/html": [
              "<h2>Top 3 Negative Logit Attribution Heads</h2>"
            ]
          },
          "metadata": {}
        },
        {
          "output_type": "display_data",
          "data": {
            "text/plain": [
              "<circuitsvis.utils.render.RenderedHTML at 0x7e73ce4c5c90>"
            ],
            "text/html": [
              "<div id=\"circuits-vis-6a3f1aea-125e\" style=\"margin: 15px 0;\"/>\n",
              "    <script crossorigin type=\"module\">\n",
              "    import { render, AttentionPatterns } from \"https://unpkg.com/circuitsvis@1.41.0/dist/cdn/esm.js\";\n",
              "    render(\n",
              "      \"circuits-vis-6a3f1aea-125e\",\n",
              "      AttentionPatterns,\n",
              "      {\"tokens\": [\"<|endoftext|>\", \"When\", \" John\", \" and\", \" Mary\", \" went\", \" to\", \" the\", \" shops\", \",\", \" John\", \" gave\", \" the\", \" bag\", \" to\"], \"attention\": [[[1.0, 0.0, 0.0, 0.0, 0.0, 0.0, 0.0, 0.0, 0.0, 0.0, 0.0, 0.0, 0.0, 0.0, 0.0], [0.9613690972328186, 0.03863087669014931, 0.0, 0.0, 0.0, 0.0, 0.0, 0.0, 0.0, 0.0, 0.0, 0.0, 0.0, 0.0, 0.0], [0.9806347489356995, 0.0037045725621283054, 0.015660669654607773, 0.0, 0.0, 0.0, 0.0, 0.0, 0.0, 0.0, 0.0, 0.0, 0.0, 0.0, 0.0], [0.7969305515289307, 0.006064300425350666, 0.165278822183609, 0.03172633424401283, 0.0, 0.0, 0.0, 0.0, 0.0, 0.0, 0.0, 0.0, 0.0, 0.0, 0.0], [0.9220060110092163, 0.011583622545003891, 0.011504288762807846, 0.03564683720469475, 0.019259294494986534, 0.0, 0.0, 0.0, 0.0, 0.0, 0.0, 0.0, 0.0, 0.0, 0.0], [0.9755076169967651, 0.00400084163993597, 0.0002936728997156024, 0.004432233516126871, 0.000363292230758816, 0.015402366407215595, 0.0, 0.0, 0.0, 0.0, 0.0, 0.0, 0.0, 0.0, 0.0], [0.7979729175567627, 0.007075928151607513, 0.01400976162403822, 0.034790731966495514, 0.026189569383859634, 0.039593055844306946, 0.08036801218986511, 0.0, 0.0, 0.0, 0.0, 0.0, 0.0, 0.0, 0.0], [0.8270447254180908, 0.009806475602090359, 0.0042199743911623955, 0.03341503441333771, 0.008020900189876556, 0.008373371325433254, 0.07203340530395508, 0.03708606958389282, 0.0, 0.0, 0.0, 0.0, 0.0, 0.0, 0.0], [0.8182318210601807, 0.017609544098377228, 0.002703293925151229, 0.01795942336320877, 0.003947384189814329, 0.010499834083020687, 0.03400000184774399, 0.010616841726005077, 0.08443190157413483, 0.0, 0.0, 0.0, 0.0, 0.0, 0.0], [0.29915913939476013, 0.013350455090403557, 0.1559710055589676, 0.07339465618133545, 0.38500696420669556, 0.007714268751442432, 0.014953125268220901, 0.013666924089193344, 0.0073362840339541435, 0.02944718301296234, 0.0, 0.0, 0.0, 0.0, 0.0], [0.7702518701553345, 0.02473156899213791, 0.0022865966893732548, 0.07290206849575043, 0.008041727356612682, 0.0411914698779583, 0.022477325052022934, 0.005776752717792988, 0.003543059341609478, 0.04029162973165512, 0.008505988866090775, 0.0, 0.0, 0.0, 0.0], [0.13142001628875732, 0.013434024527668953, 0.24378997087478638, 0.021214736625552177, 0.4560108482837677, 0.005478321574628353, 0.007663142867386341, 0.006567694246768951, 0.0006128145614638925, 0.012400600127875805, 0.08472193032503128, 0.01668591983616352, 0.0, 0.0, 0.0], [0.6249722838401794, 0.01565583609044552, 0.01880909502506256, 0.057505760341882706, 0.02543390356004238, 0.01255154050886631, 0.036429263651371, 0.020899206399917603, 0.07214062660932541, 0.024229397997260094, 0.01178772933781147, 0.028149673715233803, 0.051435686647892, 0.0, 0.0], [0.8628625869750977, 0.004461431875824928, 0.0021599808242172003, 0.007581555284559727, 0.0035816046874970198, 0.0034526390954852104, 0.009512288495898247, 0.0026049723383039236, 0.009449043311178684, 0.010862233117222786, 0.004349292255938053, 0.01419782917946577, 0.004222414456307888, 0.060702040791511536, 0.0], [0.05995550379157066, 0.003886854276061058, 0.38045480847358704, 0.017042815685272217, 0.47335949540138245, 0.0013377945870161057, 0.002390166511759162, 0.003516589058563113, 0.00019050091214012355, 0.004266620613634586, 0.035934142768383026, 0.0016259453259408474, 0.006366312503814697, 0.0008289068355225027, 0.0088435597717762]], [[1.0, 0.0, 0.0, 0.0, 0.0, 0.0, 0.0, 0.0, 0.0, 0.0, 0.0, 0.0, 0.0, 0.0, 0.0], [0.9159103631973267, 0.08408968150615692, 0.0, 0.0, 0.0, 0.0, 0.0, 0.0, 0.0, 0.0, 0.0, 0.0, 0.0, 0.0, 0.0], [0.9572203755378723, 0.02520301192998886, 0.01757662370800972, 0.0, 0.0, 0.0, 0.0, 0.0, 0.0, 0.0, 0.0, 0.0, 0.0, 0.0, 0.0], [0.8114084005355835, 0.03956051915884018, 0.08558887988328934, 0.06344214826822281, 0.0, 0.0, 0.0, 0.0, 0.0, 0.0, 0.0, 0.0, 0.0, 0.0, 0.0], [0.6620084643363953, 0.14451155066490173, 0.05584289878606796, 0.08134789019823074, 0.056289173662662506, 0.0, 0.0, 0.0, 0.0, 0.0, 0.0, 0.0, 0.0, 0.0, 0.0], [0.9276679158210754, 0.039297401905059814, 0.0004479844938032329, 0.011186419986188412, 0.0003939811431337148, 0.021006282418966293, 0.0, 0.0, 0.0, 0.0, 0.0, 0.0, 0.0, 0.0, 0.0], [0.7048228979110718, 0.06263703107833862, 0.029190178960561752, 0.02724875509738922, 0.05934739112854004, 0.06415942311286926, 0.052594300359487534, 0.0, 0.0, 0.0, 0.0, 0.0, 0.0, 0.0, 0.0], [0.761258065700531, 0.047738924622535706, 0.010893583297729492, 0.030798859894275665, 0.009215479716658592, 0.017460444942116737, 0.08015040308237076, 0.04248423129320145, 0.0, 0.0, 0.0, 0.0, 0.0, 0.0, 0.0], [0.6269270777702332, 0.08047052472829819, 0.018924877047538757, 0.034725431352853775, 0.021243924275040627, 0.04038064181804657, 0.03988094627857208, 0.05820660665631294, 0.07924003899097443, 0.0, 0.0, 0.0, 0.0, 0.0, 0.0], [0.13361920416355133, 0.02953016757965088, 0.3443559408187866, 0.036395858973264694, 0.3688282072544098, 0.005313664674758911, 0.007874314673244953, 0.008964870125055313, 0.010313346050679684, 0.05480436980724335, 0.0, 0.0, 0.0, 0.0, 0.0], [0.5535792708396912, 0.12907327711582184, 0.008745656348764896, 0.06685911864042282, 0.00920075923204422, 0.03057446889579296, 0.01410561054944992, 0.003875880502164364, 0.013563266955316067, 0.13261784613132477, 0.03780485317111015, 0.0, 0.0, 0.0, 0.0], [0.07568240165710449, 0.02327924221754074, 0.3121494948863983, 0.042602699249982834, 0.34044814109802246, 0.0011642989702522755, 0.0012352843768894672, 0.0033204311039298773, 0.001283347373828292, 0.038912542164325714, 0.14029809832572937, 0.01962403580546379, 0.0, 0.0, 0.0], [0.5352708101272583, 0.04653152823448181, 0.04064879193902016, 0.05397561192512512, 0.017668666318058968, 0.018881477415561676, 0.010571243241429329, 0.01101071760058403, 0.04412436485290527, 0.0333985835313797, 0.025437969714403152, 0.07452232390642166, 0.08795791119337082, 0.0, 0.0], [0.6547316312789917, 0.018681183457374573, 0.0035332494881004095, 0.013703948818147182, 0.003099095541983843, 0.010325009003281593, 0.007464627735316753, 0.012537568807601929, 0.007658165879547596, 0.013390103355050087, 0.006239821203052998, 0.06469450891017914, 0.08906379342079163, 0.09487730264663696, 0.0], [0.06460665166378021, 0.019441574811935425, 0.29676389694213867, 0.034400563687086105, 0.42954206466674805, 0.0014504693681374192, 0.0017175809480249882, 0.00409939419478178, 0.0008781020296737552, 0.03010917268693447, 0.07955092191696167, 0.013083726167678833, 0.006648735608905554, 0.0009256997145712376, 0.016781466081738472]], [[1.0, 0.0, 0.0, 0.0, 0.0, 0.0, 0.0, 0.0, 0.0, 0.0, 0.0, 0.0, 0.0, 0.0, 0.0], [0.971021294593811, 0.02897873893380165, 0.0, 0.0, 0.0, 0.0, 0.0, 0.0, 0.0, 0.0, 0.0, 0.0, 0.0, 0.0, 0.0], [0.9845665693283081, 0.008561788126826286, 0.006871569901704788, 0.0, 0.0, 0.0, 0.0, 0.0, 0.0, 0.0, 0.0, 0.0, 0.0, 0.0, 0.0], [0.9251189827919006, 0.011784056201577187, 0.0339803546667099, 0.02911662869155407, 0.0, 0.0, 0.0, 0.0, 0.0, 0.0, 0.0, 0.0, 0.0, 0.0, 0.0], [0.910671055316925, 0.02295835316181183, 0.028004243969917297, 0.013815987855196, 0.024550307542085648, 0.0, 0.0, 0.0, 0.0, 0.0, 0.0, 0.0, 0.0, 0.0, 0.0], [0.9801301956176758, 0.007381412200629711, 0.003544056322425604, 0.002122030360624194, 0.00395702850073576, 0.0028652981854975224, 0.0, 0.0, 0.0, 0.0, 0.0, 0.0, 0.0, 0.0, 0.0], [0.8823458552360535, 0.018687278032302856, 0.03254121541976929, 0.008485022932291031, 0.04002963379025459, 0.0032450663857162, 0.01466595008969307, 0.0, 0.0, 0.0, 0.0, 0.0, 0.0, 0.0, 0.0], [0.9216861128807068, 0.013462814502418041, 0.013909263536334038, 0.006236576475203037, 0.01221185177564621, 0.0018461947329342365, 0.014635085128247738, 0.016012081876397133, 0.0, 0.0, 0.0, 0.0, 0.0, 0.0, 0.0], [0.8206170201301575, 0.030062410980463028, 0.045977868139743805, 0.007286434061825275, 0.06682392954826355, 0.007735232822597027, 0.006979794707149267, 0.0033234572038054466, 0.011193920858204365, 0.0, 0.0, 0.0, 0.0, 0.0, 0.0], [0.6344054937362671, 0.020608797669410706, 0.10489929467439651, 0.020668383687734604, 0.17440152168273926, 0.0014858286594972014, 0.003828404936939478, 0.003924739081412554, 0.01259798277169466, 0.023179588839411736, 0.0, 0.0, 0.0, 0.0, 0.0], [0.8786828517913818, 0.016268938779830933, 0.013101289980113506, 0.01120796985924244, 0.028150007128715515, 0.02193811535835266, 0.002919093705713749, 0.0008600032888352871, 0.0069781094789505005, 0.010260151699185371, 0.00963335670530796, 0.0, 0.0, 0.0, 0.0], [0.684654951095581, 0.023638924583792686, 0.07196378707885742, 0.03071773424744606, 0.11308839172124863, 0.0019178555812686682, 0.0033461651764810085, 0.00463634729385376, 0.0050948914140462875, 0.018088702112436295, 0.032998308539390564, 0.009853973053395748, 0.0, 0.0, 0.0], [0.8094359040260315, 0.018703220412135124, 0.024317488074302673, 0.014005840755999088, 0.041570164263248444, 0.006791180931031704, 0.0053102970123291016, 0.005367143079638481, 0.040367018431425095, 0.0092246662825346, 0.008207259699702263, 0.005477055907249451, 0.01122276671230793, 0.0, 0.0], [0.8977056741714478, 0.008978314697742462, 0.009998546913266182, 0.004818471148610115, 0.023795925080776215, 0.0027967405039817095, 0.0018252801382914186, 0.0010312322992831469, 0.006509026978164911, 0.00853556115180254, 0.012882472947239876, 0.0033254893496632576, 0.0033020558767020702, 0.01449516974389553, 0.0], [0.6829172372817993, 0.0193239226937294, 0.07638577371835709, 0.030278827995061874, 0.09444528073072433, 0.0013117147609591484, 0.0026386361569166183, 0.002801398281008005, 0.004264886491000652, 0.015131938271224499, 0.029992960393428802, 0.0064776623621582985, 0.003917255438864231, 0.0081768948584795, 0.021935634315013885]]], \"headLabels\": [\"10.7\", \"11.10\", \"11.2\"]}\n",
              "    )\n",
              "    </script>"
            ]
          },
          "metadata": {}
        }
      ],
      "source": [
        "def topk_of_Nd_tensor(tensor: Float[Tensor, \"rows cols\"], k: int):\n",
        "    '''\n",
        "    Helper function: does same as tensor.topk(k).indices, but works over 2D tensors.\n",
        "    Returns a list of indices, i.e. shape [k, tensor.ndim].\n",
        "\n",
        "    Example: if tensor is 2D array of values for each head in each layer, this will\n",
        "    return a list of heads.\n",
        "    '''\n",
        "    i = t.topk(tensor.flatten(), k).indices\n",
        "    return np.array(np.unravel_index(utils.to_numpy(i), tensor.shape)).T.tolist()\n",
        "\n",
        "\n",
        "k = 3\n",
        "\n",
        "for head_type in [\"Positive\", \"Negative\"]:\n",
        "\n",
        "    # Get the heads with largest (or smallest) contribution to the logit difference\n",
        "    top_heads = topk_of_Nd_tensor(per_head_logit_diffs * (1 if head_type==\"Positive\" else -1), k)\n",
        "\n",
        "    # Get all their attention patterns\n",
        "    attn_patterns_for_important_heads: Float[Tensor, \"head q k\"] = t.stack([\n",
        "        cache[\"pattern\", layer][:, head].mean(0)\n",
        "         for layer, head in top_heads\n",
        "    ])\n",
        "\n",
        "    # Display results\n",
        "    display(HTML(f\"<h2>Top {k} {head_type} Logit Attribution Heads</h2>\"))\n",
        "    display(cv.attention.attention_patterns(\n",
        "        attention = attn_patterns_for_important_heads,\n",
        "        tokens = model.to_str_tokens(tokens[0]),\n",
        "        attention_head_names = [f\"{layer}.{head}\" for layer, head in top_heads],\n",
        "    ))"
      ]
    },
    {
      "cell_type": "markdown",
      "metadata": {
        "id": "tX970VEel6mK"
      },
      "source": [
        "Reminder - you can use `attention_patterns` or `attention_heads` for these visuals. The former lets you see the actual values, the latter lets you hover over tokens in a printed sentence (and it provides other useful features like locking on tokens, or a superposition of all heads in the display). Both can be useful in different contexts (although I'd recommend usually using `attention_patterns`, it's more useful in most cases for quickly getting a sense of attention patterns).\n",
        "\n",
        "Try replacing `attention_patterns` above with `attention_heads`, and compare the output.\n",
        "\n",
        "<details>\n",
        "<summary>Help - my <code>attention_heads</code> plots are behaving weirdly.</summary>\n",
        "\n",
        "This seems to be a bug in `circuitsvis` - on VSCode, the attention head plots continually shrink in size.\n",
        "\n",
        "Until this is fixed, one way to get around it is to open the plots in your browser. You can do this inline with the `webbrowser` library:\n",
        "\n",
        "```python\n",
        "attn_heads = cv.attention.attention_heads(\n",
        "    attention = attn_patterns_for_important_heads,\n",
        "    tokens = model.to_str_tokens(tokens[0]),\n",
        "    attention_head_names = [f\"{layer}.{head}\" for layer, head in top_heads],\n",
        ")\n",
        "\n",
        "path = \"attn_heads.html\"\n",
        "\n",
        "with open(path, \"w\") as f:\n",
        "    f.write(str(attn_heads))\n",
        "\n",
        "webbrowser.open(path)\n",
        "```\n",
        "\n",
        "To check exactly where this is getting saved, you can print your current working directory with `os.getcwd()`.\n",
        "</details>\n",
        "\n",
        "From these plots, you might want to start thinking about the algorithm which is being implemented. In particular, for the attention heads with high positive attribution scores, where is `\" to\"` attending to? How might this head be affecting the logit diff score?\n",
        "\n",
        "We'll save a full hypothesis for how the model works until the end of the next section.\n"
      ]
    },
    {
      "cell_type": "markdown",
      "metadata": {
        "id": "DnwdEGrGl6mK"
      },
      "source": [
        "# 3️⃣ Activation Patching\n"
      ]
    },
    {
      "cell_type": "markdown",
      "metadata": {
        "id": "P9o6eTqtd29_"
      },
      "source": [
        "> ##### Learning objectives\n",
        ">\n",
        "> * Understand the idea of activation patching, and how it can be used\n",
        ">     * Implement some of the activation patching helper functinos in transformerlens from scratch (i.e. using hooks)\n",
        "> * Use activation patching to track the layers & sequence positions in the residual stream where important information is stored and processed\n",
        "> * By the end of this section, you should be able to draw a rough sketch of the IOI circuit\n"
      ]
    },
    {
      "cell_type": "markdown",
      "metadata": {
        "id": "MlBQ6z16d29_"
      },
      "source": [
        "## Introduction\n"
      ]
    },
    {
      "cell_type": "markdown",
      "metadata": {
        "id": "hEs-paRpl6mK"
      },
      "source": [
        "The obvious limitation to the techniques used above is that they only look at the very end of the circuit - the parts that directly affect the logits. Clearly this is not sufficient to understand the circuit! We want to understand how things compose together to produce this final output, and ideally to produce an end-to-end circuit fully explaining this behaviour.\n",
        "\n",
        "The technique we'll use to investigate this is called **activation patching**. This was first introduced in [David Bau and Kevin Meng's excellent ROME paper](https://rome.baulab.info/), there called causal tracing.\n",
        "\n",
        "The setup of activation patching is to take two runs of the model on two different inputs, the clean run and the corrupted run. The clean run outputs the correct answer and the corrupted run does not. The key idea is that we give the model the corrupted input, but then **intervene** on a specific activation and **patch** in the corresponding activation from the clean run (i.e. replace the corrupted activation with the clean activation), and then continue the run. And we then measure how much the output has updated towards the correct answer.\n",
        "\n",
        "We can then iterate over many possible activations and look at how much they affect the corrupted run. If patching in an activation significantly increases the probability of the correct answer, this allows us to *localise* which activations matter.\n",
        "\n",
        "In other words, this is a **noising** algorithm (unlike last section which was mostly **denoising**).\n",
        "\n",
        "The ability to localise is a key move in mechanistic interpretability - if the computation is diffuse and spread across the entire model, it is likely much harder to form a clean mechanistic story for what's going on. But if we can identify precisely which parts of the model matter, we can then zoom in and determine what they represent and how they connect up with each other, and ultimately reverse engineer the underlying circuit that they represent.\n"
      ]
    },
    {
      "cell_type": "markdown",
      "metadata": {
        "id": "zWkoLfNWl6mK"
      },
      "source": [
        "The diagrams below demonstrate activation patching on an abstract neural network (the nodes represent activations, and the arrows between them are weight connections).\n",
        "\n",
        "A regular forward pass on the clean input looks like:\n",
        "\n",
        "<img src=\"https://raw.githubusercontent.com/callummcdougall/computational-thread-art/master/example_images/misc/simpler-patching-1c.png\" width=\"300\">\n",
        "\n",
        "And activation patching from a corrupted input (green) into a forward pass for the clean input (black) looks like:\n",
        "\n",
        "<img src=\"https://raw.githubusercontent.com/callummcdougall/computational-thread-art/master/example_images/misc/simpler-patching-2c.png\" width=\"440\">\n",
        "\n",
        "where the dotted line represents patching in a value (i.e. during the forward pass on the clean input, we replace node $D$ with the value it takes on the corrupted input). Nodes $H$, $G$ and $F$ are colored orange, to represent that they now follow a distribution which is not the same as clean or corrupted.\n"
      ]
    },
    {
      "cell_type": "markdown",
      "metadata": {
        "id": "fEstkWxdl6mL"
      },
      "source": [
        "We can patch into a transformer in many different ways (e.g. values of the residual stream, the MLP, or attention heads' output - see below). We can also get even more granular by patching at particular sequence positions (not shown in diagram).\n",
        "\n",
        "<img src=\"https://raw.githubusercontent.com/callummcdougall/computational-thread-art/master/example_images/misc/simpler-patching-examples.png\" width=\"840\">\n"
      ]
    },
    {
      "cell_type": "markdown",
      "source": [
        "### Noising vs denoising\n",
        "\n",
        "We might call this algorithm a type of **noising**, since we're running the model on a clean input and adding noise by patching in from the corrupted input. We can also consider the opposite algorithm, **denoising**, where we run the model on a corrupted input and remove noise by patching in from the clean input.\n",
        "\n",
        "When would you use noising vs denoising? It depends on your goals. The results of denoising are much stronger, because showing that a component or set of components is sufficient for a task is a big deal. On the other hand, the complexity of transformers and interdependence of components means that noising a model can have unpredictable consequences. If loss goes up when we ablate a component, it doesn't necessarily mean that this component was necessary for the task. As an example, ablating MLP0 in gpt2-small seems to make performance much worse on basically any task (because it acts as a kind of extended embedding; more on this later in these exercises), but it's not doing anything important which is *specfic* for the IOI task."
      ],
      "metadata": {
        "id": "drhMcfv2c5LB"
      }
    },
    {
      "cell_type": "markdown",
      "source": [
        "### Example: denoising the residual stream\n",
        "\n",
        "The above was all fairly abstract, so let's zoom in and lay out a concrete example to understand Indirect Object Identification. We'll start with an exercise on denoising, but we'll move onto noising later in this section (and the next section, on path patching).\n",
        "\n",
        "Here our clean input will be the original sentences (e.g. <code>\"When Mary and John went to the store, John gave a drink to\"</code>) and our corrupted input will have the subject token flipped (e.g. <code>\"When Mary and John went to the store, <u>Mary</u> gave a drink to\"</code>). Patching by replacing corrupted residual stream values with clean values is a causal intervention which will allow us to understand precisely which parts of the network are identifying the indirect object. If a component is important, then patching in (replacing that component's corrupted output with its clean output) will reverse the signal that this component produces, hence making performance much better.\n",
        "\n",
        "Note - the noising and denoising terminology doesn't exactly fit here, since the \"noised dataset\" actually **reverses** the signal rather than erasing it. The reason we're describing this as denoising is more a matter of framing - we're trying to figure out which components / activations are **sufficient** to recover performance, rather than which are **necessary**. If you're ever confused, this is a useful framing to have - **noising tells you what is necessary, denoising tells you what is sufficient.**"
      ],
      "metadata": {
        "id": "x20s5UEwc3x7"
      }
    },
    {
      "cell_type": "markdown",
      "metadata": {
        "id": "ft2GmPDgl6mL"
      },
      "source": [
        "Question - we could instead have our corrupted sentence be <code>\"When <u>John</u> and <u>Mary</u> went to the store, <u>Mary</u> gave a drink to\"</code> (i.e. flip all 3 occurrences of names in the sentence). Why do you think we don't do this?\n",
        "\n",
        "<details>\n",
        "<summary>Hint</summary>\n",
        "\n",
        "What if, at some point during the model's forward pass on the prompt `\"When Mary and John went to the store, John gave a drink to\"`, it contains some representation of the information **\"the indirect object is the fourth token in this sequence\"**?\n",
        "</details>\n",
        "\n",
        "<details>\n",
        "<summary>Answer</summary>\n",
        "\n",
        "The model could point to the indirect object `' Mary'` in two different ways:\n",
        "\n",
        "* Via **token information**, i.e. **\"the indirect object is the token `' Mary'`\"**.\n",
        "* Via **positional information**, i.e. **\"the indirect object is the fourth token in this sequence\"**.\n",
        "\n",
        "We want the corrupted dataset to reverse both these signals when it's patched into the clean dataset. But if we corrupted the dataset by flipping all three names, then:\n",
        "\n",
        "* The token information is flipped, because the corresponding information in the model for the corrupted prompt will be **\"the indirect object is the token `' Mary'`\"**.\n",
        "* The positional information is ***not*** flipped, because the corresponding information will still be **\"the indirect object is the fourth token in this sequence\"**.\n",
        "\n",
        "In fact, in the bonus section we'll take advantage of this fact to try and disentangle whether token or positional information is being used by the model (i.e. by flipping the token information but not the positional information, and vice-versa). Spoiler alert - it turns out to be using a bit of both!\n",
        "</details>\n"
      ]
    },
    {
      "cell_type": "markdown",
      "metadata": {
        "id": "R3pzDIjZl6mL"
      },
      "source": [
        "One natural thing to patch in is the residual stream at a specific layer and specific position. For example, the model is likely intitially doing some processing on the `S2` token to realise that it's a duplicate, but then uses attention to move that information to the `end` token. So patching in the residual stream at the `end` token will likely matter a lot in later layers but not at all in early layers.\n",
        "\n",
        "We can zoom in much further and patch in specific activations from specific layers. For example, we think that the output of head 9.9 on the final token is significant for directly connecting to the logits, so we predict that just patching the output of this head will significantly affect performance.\n",
        "\n",
        "Note that this technique does *not* tell us how the components of the circuit connect up, just what they are.\n"
      ]
    },
    {
      "cell_type": "markdown",
      "metadata": {
        "id": "4Akf4HyIl6mL"
      },
      "source": [
        "TransformerLens has helpful built-in functions to perform activation patching, but in order to understand the process better, you're now going to implement some of these functions from first principles (i.e. just using hooks). You'll be able to test your functions by comparing their output to the built-in functions.\n",
        "\n",
        "If you need a refresher on hooks, you can return to the exercises on induction heads (which take you through how to use hooks, as well as how to cache activations).\n"
      ]
    },
    {
      "cell_type": "code",
      "execution_count": null,
      "metadata": {
        "id": "sQMB72Lwl6mM"
      },
      "outputs": [],
      "source": [
        "from transformer_lens import patching"
      ]
    },
    {
      "cell_type": "markdown",
      "metadata": {
        "id": "_HPIlUmzl6mM"
      },
      "source": [
        "## Creating a metric\n"
      ]
    },
    {
      "cell_type": "markdown",
      "metadata": {
        "id": "U-hMSH96l6mM"
      },
      "source": [
        "Before we patch, we need to create a metric for evaluating a set of logits. Since we'll be running our **corrupted prompts** (with `S2` replaced with the wrong name) and patching in our **clean prompts**, it makes sense to choose a metric such that:\n",
        "\n",
        "* A value of zero means no change (from the performance on the corrupted prompt)\n",
        "* A value of one means clean performance has been completely recovered\n",
        "\n",
        "For example, if we patched in the entire clean prompt, we'd get a value of one. If our patching actually makes the model even better at solving the task than its regular behaviour on the clean prompt then we'd get a value greater than 1, but generally we expect values between 0 and 1.\n",
        "\n",
        "It also makes sense to have the metric be a linear function of the logit difference. This is enough to uniquely specify a metric.\n"
      ]
    },
    {
      "cell_type": "code",
      "execution_count": null,
      "metadata": {
        "id": "IzLtmTaNl6mM"
      },
      "outputs": [],
      "source": [
        "clean_tokens = tokens\n",
        "# Swap each adjacent pair to get corrupted tokens\n",
        "indices = [i+1 if i % 2 == 0 else i-1 for i in range(len(tokens))]\n",
        "corrupted_tokens = clean_tokens[indices]\n",
        "\n",
        "print(\n",
        "    \"Clean string 0:    \", model.to_string(clean_tokens[0]), \"\\n\"\n",
        "    \"Corrupted string 0:\", model.to_string(corrupted_tokens[0])\n",
        ")\n",
        "\n",
        "clean_logits, clean_cache = model.run_with_cache(clean_tokens)\n",
        "corrupted_logits, corrupted_cache = model.run_with_cache(corrupted_tokens)\n",
        "\n",
        "clean_logit_diff = logits_to_ave_logit_diff(clean_logits, answer_tokens)\n",
        "print(f\"Clean logit diff: {clean_logit_diff:.4f}\")\n",
        "\n",
        "corrupted_logit_diff = logits_to_ave_logit_diff(corrupted_logits, answer_tokens)\n",
        "print(f\"Corrupted logit diff: {corrupted_logit_diff:.4f}\")"
      ]
    },
    {
      "cell_type": "markdown",
      "metadata": {
        "id": "6fc8TiqNl6mM"
      },
      "source": [
        "### Exercise - create a metric\n",
        "\n",
        "```c\n",
        "Difficulty: 🔴🔴⚪⚪⚪\n",
        "Importance: 🔵🔵🔵⚪⚪\n",
        "\n",
        "You should spend up to ~10 minutes on this exercise.\n",
        "```\n",
        "\n",
        "Fill in the function `ioi_metric` below, to create the required metric. Note that we can afford to use default arguments in this function, because we'll be using the same dataset for this whole section.\n",
        "\n",
        "**Important note** - this function needs to return a scalar tensor, rather than a float. If not, then some of the patching functions later on won't work. The type signature of this is `Float[Tensor, \"\"]`.\n",
        "\n",
        "**Second important note** - we've defined this to be 0 when performance is the same as on corrupted input, and 1 when it's the same as on clean input. This is because we're performing a **denoising algorithm**; we're looking for activations which are sufficient for recovering a model's performance (i.e. activations which have enough information to recover the correct answer from the corrupted input). Our \"null hypothesis\" is that the component isn't sufficient, and so patching it by replacing corrupted with clean values doesn't recover any performance. In later sections we'll be doing noising, and we'll define a new metric function for that."
      ]
    },
    {
      "cell_type": "code",
      "execution_count": null,
      "metadata": {
        "id": "iwh5CS4Zl6mM"
      },
      "outputs": [],
      "source": [
        "def ioi_metric(\n",
        "    logits: Float[Tensor, \"batch seq d_vocab\"],\n",
        "    answer_tokens: Float[Tensor, \"batch 2\"] = answer_tokens,\n",
        "    corrupted_logit_diff: float = corrupted_logit_diff,\n",
        "    clean_logit_diff: float = clean_logit_diff,\n",
        ") -> Float[Tensor, \"\"]:\n",
        "    '''\n",
        "    Linear function of logit diff, calibrated so that it equals 0 when performance is\n",
        "    same as on corrupted input, and 1 when performance is same as on clean input.\n",
        "    '''\n",
        "    pass\n",
        "\n",
        "t.testing.assert_close(ioi_metric(clean_logits).item(), 1.0)\n",
        "t.testing.assert_close(ioi_metric(corrupted_logits).item(), 0.0)\n",
        "t.testing.assert_close(ioi_metric((clean_logits + corrupted_logits) / 2).item(), 0.5)"
      ]
    },
    {
      "cell_type": "markdown",
      "metadata": {
        "id": "GETfJljll6mN"
      },
      "source": [
        "## Residual Stream Patching\n"
      ]
    },
    {
      "cell_type": "markdown",
      "metadata": {
        "id": "qjCDgiYGl6mN"
      },
      "source": [
        "Lets begin with a simple example: we patch in the residual stream at the start of each layer and for each token position. Before you write your own function to do this, let's see what this looks like with TransformerLens' `patching` module. Run the code below.\n"
      ]
    },
    {
      "cell_type": "code",
      "execution_count": null,
      "metadata": {
        "id": "ZFccL4TT0Xea"
      },
      "outputs": [],
      "source": [
        "act_patch_resid_pre = patching.get_act_patch_resid_pre(\n",
        "    model = model,\n",
        "    corrupted_tokens = corrupted_tokens,\n",
        "    clean_cache = clean_cache,\n",
        "    patching_metric = ioi_metric\n",
        ")\n",
        "\n",
        "labels = [f\"{tok} {i}\" for i, tok in enumerate(model.to_str_tokens(clean_tokens[0]))]"
      ]
    },
    {
      "cell_type": "code",
      "source": [
        "imshow(\n",
        "    act_patch_resid_pre,\n",
        "    labels={\"x\": \"Position\", \"y\": \"Layer\"},\n",
        "    x=labels,\n",
        "    title=\"resid_pre Activation Patching\",\n",
        "    width=600\n",
        ")"
      ],
      "metadata": {
        "id": "ihsycX8wziNQ"
      },
      "execution_count": null,
      "outputs": []
    },
    {
      "cell_type": "markdown",
      "metadata": {
        "id": "RN_CeEHgl6mN"
      },
      "source": [
        "Question - what is the interpretation of this graph? What significant things does it tell you about the nature of how the model solves this task?\n",
        "\n",
        "<details>\n",
        "<summary>Hint</summary>\n",
        "\n",
        "Think about locality of computation.\n",
        "</details>\n",
        "\n",
        "<details>\n",
        "<summary>Answer</summary>\n",
        "\n",
        "Originally all relevant computation happens on `S2`, and at layers 7 and 8, the information is moved to `END`. Moving the residual stream at the correct position near *exactly* recovers performance!\n",
        "\n",
        "To be clear, the striking thing about this graph isn't that the first row is zero everywhere except for `S2` where it is 1, or that the rows near the end trend to being zero everywhere except for `END` where they are 1; both of these are exactly what we'd expect. The striking things are:\n",
        "\n",
        "* The computation is highly localized; the relevant information for choosing `IO` over `S` is initially stored in `S2` token and then moved to `END` token without taking any detours.\n",
        "* The model is basically done after layer 8, and the rest of the layers actually slightly impede performance on this particular task.\n",
        "\n",
        "(Note - for reference, tokens and their index from the first prompt are on the x-axis. In an abuse of notation, note that the difference here is averaged over *all* 8 prompts, while the labels only come from the *first* prompt.)\n",
        "</details>\n"
      ]
    },
    {
      "cell_type": "markdown",
      "metadata": {
        "id": "qwjkJ5NRl6mN"
      },
      "source": [
        "### Exercise - implement head-to-residual patching\n",
        "\n",
        "```c\n",
        "Difficulty: 🔴🔴🔴🔴⚪\n",
        "Importance: 🔵🔵🔵🔵🔵\n",
        "\n",
        "You should spend up to 20-25 minutes on this exercise.\n",
        "\n",
        "It's very important to understand how patching works. Many subsequent exercises will build on this one.\n",
        "```\n",
        "\n",
        "Now, you should implement the `get_act_patch_resid_pre` function below, which should behave just like the one above. A quick refresher on how to use hooks in this way:\n",
        "\n",
        "* Hook functions take arguments `tensor: t.Tensor` and `hook: HookPoint`. It's often easier to define a hook function taking more arguments than these, and then use `functools.partial` when it actually comes time to add your hook.\n",
        "* The function `model.run_with_hooks` takes arguments:\n",
        "    * The tokens to run (as first argument)\n",
        "    * `fwd_hooks` - a list of `(hook_name, hook_fn)` tuples. Remember that you can use `utils.get_act_name` to get hook names.\n",
        "* Tip - it's good practice to have `model.reset_hooks()` at the start of functions which add and run hooks. This is because sometimes hooks fail to be removed (if they cause an error while running). There's nothing more frustrating than fixing a hook error only to get the same error message, not realising that you've failed to clear the broken hook!\n"
      ]
    },
    {
      "cell_type": "code",
      "execution_count": null,
      "metadata": {
        "id": "DtyotOUGl6mN"
      },
      "outputs": [],
      "source": [
        "def patch_residual_component(\n",
        "    corrupted_residual_component: Float[Tensor, \"batch pos d_model\"],\n",
        "    hook: HookPoint,\n",
        "    pos: int,\n",
        "    clean_cache: ActivationCache\n",
        ") -> Float[Tensor, \"batch pos d_model\"]:\n",
        "    '''\n",
        "    Patches a given sequence position in the residual stream, using the value\n",
        "    from the clean cache.\n",
        "    '''\n",
        "    pass\n",
        "\n",
        "def get_act_patch_resid_pre(\n",
        "    model: HookedTransformer,\n",
        "    corrupted_tokens: Float[Tensor, \"batch pos\"],\n",
        "    clean_cache: ActivationCache,\n",
        "    patching_metric: Callable[[Float[Tensor, \"batch pos d_vocab\"]], float]\n",
        ") -> Float[Tensor, \"layer pos\"]:\n",
        "    '''\n",
        "    Returns an array of results of patching each position at each layer in the residual\n",
        "    stream, using the value from the clean cache.\n",
        "\n",
        "    The results are calculated using the patching_metric function, which should be\n",
        "    called on the model's logit output.\n",
        "    '''\n",
        "    pass\n",
        "\n",
        "act_patch_resid_pre_own = get_act_patch_resid_pre(model, corrupted_tokens, clean_cache, ioi_metric)\n",
        "\n",
        "t.testing.assert_close(act_patch_resid_pre, act_patch_resid_pre_own)"
      ]
    },
    {
      "cell_type": "markdown",
      "metadata": {
        "id": "zG0uGMIJl6mN"
      },
      "source": [
        "Once you've passed the tests, you can plot your results.\n"
      ]
    },
    {
      "cell_type": "code",
      "execution_count": null,
      "metadata": {
        "id": "QjR3fEXEl6mO"
      },
      "outputs": [],
      "source": [
        "imshow(\n",
        "    act_patch_resid_pre_own,\n",
        "    x=labels,\n",
        "    title=\"Logit Difference From Patched Residual Stream\",\n",
        "    labels={\"x\":\"Sequence Position\", \"y\":\"Layer\"},\n",
        "    width=600 # If you remove this argument, the plot will usually fill the available space\n",
        ")"
      ]
    },
    {
      "cell_type": "markdown",
      "metadata": {
        "id": "99rA4NrHl6mO"
      },
      "source": [
        "## Patching in residual stream by block\n"
      ]
    },
    {
      "cell_type": "markdown",
      "metadata": {
        "id": "5l0ACZcql6mO"
      },
      "source": [
        "Rather than just patching to the residual stream in each layer, we can also patch just after the attention layer or just after the MLP. This gives is a slightly more refined view of which tokens matter and when.\n",
        "\n",
        "The function `patching.get_act_patch_block_every` works just like `get_act_patch_resid_pre`, but rather than just patching to the residual stream, it patches to `resid_pre`, `attn_out` and `mlp_out`, and returns a tensor of shape `(3, n_layers, seq_len)`.\n",
        "\n",
        "One important thing to note - we're cycling through the `resid_pre`, `attn_out` and `mlp_out` and only patching one of them at a time, rather than patching all three at once.\n"
      ]
    },
    {
      "cell_type": "code",
      "execution_count": null,
      "metadata": {
        "id": "6hLDTEJW0aUA"
      },
      "outputs": [],
      "source": [
        "act_patch_block_every = patching.get_act_patch_block_every(model, corrupted_tokens, clean_cache, ioi_metric)"
      ]
    },
    {
      "cell_type": "code",
      "source": [
        "imshow(\n",
        "    act_patch_block_every,\n",
        "    x=labels,\n",
        "    facet_col=0, # This argument tells plotly which dimension to split into separate plots\n",
        "    facet_labels=[\"Residual Stream\", \"Attn Output\", \"MLP Output\"], # Subtitles of separate plots\n",
        "    title=\"Logit Difference From Patched Attn Head Output\",\n",
        "    labels={\"x\": \"Sequence Position\", \"y\": \"Layer\"},\n",
        "    width=1000,\n",
        ")"
      ],
      "metadata": {
        "id": "Wqgng-57zeM9"
      },
      "execution_count": null,
      "outputs": []
    },
    {
      "cell_type": "markdown",
      "metadata": {
        "id": "-ibpjHZil6mO"
      },
      "source": [
        "<details>\n",
        "<summary>What is the interpretation of the second two plots?</summary>\n",
        "\n",
        "We see that several attention layers are significant but that, matching the residual stream results, early layers matter on `S2`, and later layers matter on `END`, and layers essentially don't matter on any other token. Extremely localised!\n",
        "\n",
        "As with direct logit attribution, layer 9 is positive and layers 10 and 11 are not, suggesting that the late layers only matter for direct logit effects, but we also see that layers 7 and 8 matter significantly. Presumably these are the heads that move information about which name is duplicated from `S2` to `END`.\n",
        "\n",
        "In contrast, the MLP layers do not matter much. This makes sense, since this is more a task about moving information than about processing it, and the MLP layers specialise in processing information. The one exception is MLP 0, which matters a lot, but I think this is misleading and just a generally true statement about MLP 0 rather than being about the circuit on this task.\n",
        "\n",
        "<details> <summary>My takes on MLP0</summary>\n",
        "\n",
        "It's often observed on GPT-2 Small that MLP0 matters a lot, and that ablating it utterly destroys performance. My current best guess is that the first MLP layer is essentially acting as an extension of the embedding (for whatever reason) and that when later layers want to access the input tokens they mostly read in the output of the first MLP layer, rather than the token embeddings. Within this frame, the first attention layer doesn't do much.\n",
        "\n",
        "In this framing, it makes sense that MLP0 matters on `S2`, because that's the one position with a different input token!\n",
        "\n",
        "I'm not entirely sure why this happens, but I would guess that it's because the embedding and unembedding matrices in GPT-2 Small are the same. This is pretty unprincipled, as the tasks of embedding and unembedding tokens are <i>not</i> inverses, but this is common practice, and plausibly models want to dedicate some parameters to overcoming this.\n",
        "\n",
        "I only have suggestive evidence of this, and would love to see someone look into this properly!\n",
        "</details>\n",
        "</details>\n"
      ]
    },
    {
      "cell_type": "markdown",
      "metadata": {
        "id": "kc1vkXDvl6mO"
      },
      "source": [
        "### Exercise (optional) - implement head-to-block patching\n",
        "\n",
        "```c\n",
        "Difficulty: 🔴🔴⚪⚪⚪\n",
        "Importance: 🔵🔵⚪⚪⚪\n",
        "\n",
        "You should spend up to ~10 minutes on this exercise.\n",
        "\n",
        "Most code can be copied from the last exercise.\n",
        "```\n",
        "\n",
        "If you want, you can implement the `get_act_patch_resid_pre` function for fun, although it's similar enough to the previous exercise that doing this isn't compulsory.\n"
      ]
    },
    {
      "cell_type": "code",
      "execution_count": null,
      "metadata": {
        "id": "CuvKkpezd2-D"
      },
      "outputs": [],
      "source": [
        "def get_act_patch_block_every(\n",
        "    model: HookedTransformer,\n",
        "    corrupted_tokens: Float[Tensor, \"batch pos\"],\n",
        "    clean_cache: ActivationCache,\n",
        "    patching_metric: Callable[[Float[Tensor, \"batch pos d_vocab\"]], float]\n",
        ") -> Float[Tensor, \"layer pos\"]:\n",
        "    '''\n",
        "    Returns an array of results of patching each position at each layer in the residual\n",
        "    stream, using the value from the clean cache.\n",
        "\n",
        "    The results are calculated using the patching_metric function, which should be\n",
        "    called on the model's logit output.\n",
        "    '''\n",
        "    pass"
      ]
    },
    {
      "cell_type": "code",
      "execution_count": null,
      "metadata": {
        "id": "Fa0OHcqhl6mO"
      },
      "outputs": [],
      "source": [
        "act_patch_block_every_own = get_act_patch_block_every(model, corrupted_tokens, clean_cache, ioi_metric)\n",
        "\n",
        "t.testing.assert_close(act_patch_block_every, act_patch_block_every_own)"
      ]
    },
    {
      "cell_type": "code",
      "source": [
        "imshow(\n",
        "    act_patch_block_every_own,\n",
        "    x=labels,\n",
        "    facet_col=0,\n",
        "    facet_labels=[\"Residual Stream\", \"Attn Output\", \"MLP Output\"],\n",
        "    title=\"Logit Difference From Patched Attn Head Output\",\n",
        "    labels={\"x\": \"Sequence Position\", \"y\": \"Layer\"},\n",
        "    width=1000\n",
        ")"
      ],
      "metadata": {
        "id": "9Y5tzF_ezbIi"
      },
      "execution_count": null,
      "outputs": []
    },
    {
      "cell_type": "markdown",
      "metadata": {
        "id": "kwY0twQgl6mP"
      },
      "source": [
        "## Head Patching\n"
      ]
    },
    {
      "cell_type": "markdown",
      "metadata": {
        "id": "uV0XcpsHl6mP"
      },
      "source": [
        "We can refine the above analysis by patching in individual heads! This is somewhat more annoying, because there are now three dimensions `(head_index, position and layer)`.\n",
        "\n",
        "The code below patches a head's output over all sequence positions, and returns the results (for each head in the model).\n"
      ]
    },
    {
      "cell_type": "code",
      "execution_count": null,
      "metadata": {
        "id": "o-st8Eo90cti"
      },
      "outputs": [],
      "source": [
        "act_patch_attn_head_out_all_pos = patching.get_act_patch_attn_head_out_all_pos(\n",
        "    model,\n",
        "    corrupted_tokens,\n",
        "    clean_cache,\n",
        "    ioi_metric\n",
        ")"
      ]
    },
    {
      "cell_type": "code",
      "source": [
        "imshow(\n",
        "    act_patch_attn_head_out_all_pos,\n",
        "    labels={\"y\": \"Layer\", \"x\": \"Head\"},\n",
        "    title=\"attn_head_out Activation Patching (All Pos)\",\n",
        "    width=600\n",
        ")"
      ],
      "metadata": {
        "id": "umQ-feVzzlei"
      },
      "execution_count": null,
      "outputs": []
    },
    {
      "cell_type": "markdown",
      "metadata": {
        "id": "QDJPL78Ul6mP"
      },
      "source": [
        "<details>\n",
        "<summary>What are the interpretations of this graph? Which heads do you think are important?</summary>\n",
        "\n",
        "We see some of the heads that we observed in our attention plots at the end of last section (e.g. `9.9` having a large positive score, and `10.7` having a large negative score). But we can also see some other important heads, for instance:\n",
        "\n",
        "* In layers 7-8 there are several important heads. We might deduce that these are the ones responsible for moving information from `S2` to `end`.\n",
        "* In the earlier layers, there are some more important heads (e.g. `3.0` and `5.5`). We might guess these are performing some primitive logic, e.g. causing the second `\" John\"` token to attend to previous instances of itself.\n",
        "\n",
        "</details>\n"
      ]
    },
    {
      "cell_type": "markdown",
      "metadata": {
        "id": "347vm7mVl6mP"
      },
      "source": [
        "### Exercise - implement head-to-head patching\n",
        "\n",
        "```c\n",
        "Difficulty: 🔴🔴🔴⚪⚪\n",
        "Importance: 🔵🔵🔵🔵⚪\n",
        "\n",
        "You should spend up to 10-15 minutes on this exercise.\n",
        "\n",
        "Again, it should be similar to the first patching exercise (you can copy code).\n",
        "```\n",
        "\n",
        "You should implement your own version of this patching function below.\n",
        "\n",
        "You'll need to define a new hook function, but most of the code from the previous exercise should be reusable.\n",
        "\n",
        "<details>\n",
        "<summary>Help - I'm not sure what hook name to use for my patching.</summary>\n",
        "\n",
        "You should patch at:\n",
        "\n",
        "```python\n",
        "utils.get_act_name(\"z\", layer)\n",
        "```\n",
        "\n",
        "This is the linear combination of value vectors, i.e. it's the thing you multiply by $W_O$ before adding back into the residual stream. There's no point patching after the $W_O$ multiplication, because it will have the same effect, but take up more memory (since `d_model` is larger than `d_head`).\n",
        "</details>\n"
      ]
    },
    {
      "cell_type": "code",
      "execution_count": null,
      "metadata": {
        "id": "vykTXb_Yl6mP"
      },
      "outputs": [],
      "source": [
        "def patch_head_vector(\n",
        "    corrupted_head_vector: Float[Tensor, \"batch pos head_index d_head\"],\n",
        "    hook: HookPoint,\n",
        "    head_index: int,\n",
        "    clean_cache: ActivationCache\n",
        ") -> Float[Tensor, \"batch pos head_index d_head\"]:\n",
        "    '''\n",
        "    Patches the output of a given head (before it's added to the residual stream) at\n",
        "    every sequence position, using the value from the clean cache.\n",
        "    '''\n",
        "    pass\n",
        "\n",
        "def get_act_patch_attn_head_out_all_pos(\n",
        "    model: HookedTransformer,\n",
        "    corrupted_tokens: Float[Tensor, \"batch pos\"],\n",
        "    clean_cache: ActivationCache,\n",
        "    patching_metric: Callable\n",
        ") -> Float[Tensor, \"layer head\"]:\n",
        "    '''\n",
        "    Returns an array of results of patching at all positions for each head in each\n",
        "    layer, using the value from the clean cache.\n",
        "\n",
        "    The results are calculated using the patching_metric function, which should be\n",
        "    called on the model's logit output.\n",
        "    '''\n",
        "    pass\n",
        "\n",
        "act_patch_attn_head_out_all_pos_own = get_act_patch_attn_head_out_all_pos(model, corrupted_tokens, clean_cache, ioi_metric)\n",
        "\n",
        "t.testing.assert_close(act_patch_attn_head_out_all_pos, act_patch_attn_head_out_all_pos_own)"
      ]
    },
    {
      "cell_type": "code",
      "source": [
        "imshow(\n",
        "    act_patch_attn_head_out_all_pos_own,\n",
        "    title=\"Logit Difference From Patched Attn Head Output\",\n",
        "    labels={\"x\":\"Head\", \"y\":\"Layer\"},\n",
        "    width=600\n",
        ")"
      ],
      "metadata": {
        "id": "tXfLlvsMznKG"
      },
      "execution_count": null,
      "outputs": []
    },
    {
      "cell_type": "markdown",
      "metadata": {
        "id": "xTdAiHL5l6mQ"
      },
      "source": [
        "## Decomposing Heads\n"
      ]
    },
    {
      "cell_type": "markdown",
      "metadata": {
        "id": "6ZYFq5WPl6mQ"
      },
      "source": [
        "Finally, we'll look at one more example of activation patching.\n",
        "\n",
        "Decomposing attention layers into patching in individual heads has already helped us localise the behaviour a lot. But we can understand it further by decomposing heads. An attention head consists of two semi-independent operations - calculating *where* to move information from and to (represented by the attention pattern and implemented via the QK-circuit) and calculating *what* information to move (represented by the value vectors and implemented by the OV circuit). We can disentangle which of these is important by patching in just the attention pattern *or* the value vectors. See [A Mathematical Framework](https://transformer-circuits.pub/2021/framework/index.html) or [Neel's walkthrough video](https://www.youtube.com/watch?v=KV5gbOmHbjU) for more on this decomposition.\n"
      ]
    },
    {
      "cell_type": "markdown",
      "metadata": {
        "id": "D3Yw4X6ll6mQ"
      },
      "source": [
        "A useful function for doing this is `get_act_patch_attn_head_all_pos_every`. Rather than just patching on head output (like the previous one), it patches on:\n",
        "* Output (this is equivalent to patching the value the head writes to the residual stream)\n",
        "* Querys (i.e. the patching the query vectors, without changing the key or value vectors)\n",
        "* Keys\n",
        "* Values\n",
        "* Patterns (i.e. the attention patterns).\n",
        "\n",
        "Again, note that this function isn't patching multiple things at once. It's looping through each of these five, and getting the results from patching them one at a time.\n"
      ]
    },
    {
      "cell_type": "code",
      "execution_count": null,
      "metadata": {
        "id": "4x5AZIdRl6mQ"
      },
      "outputs": [],
      "source": [
        "act_patch_attn_head_all_pos_every = patching.get_act_patch_attn_head_all_pos_every(\n",
        "    model,\n",
        "    corrupted_tokens,\n",
        "    clean_cache,\n",
        "    ioi_metric\n",
        ")"
      ]
    },
    {
      "cell_type": "code",
      "source": [
        "imshow(\n",
        "    act_patch_attn_head_all_pos_every,\n",
        "    facet_col=0,\n",
        "    facet_labels=[\"Output\", \"Query\", \"Key\", \"Value\", \"Pattern\"],\n",
        "    title=\"Activation Patching Per Head (All Pos)\",\n",
        "    labels={\"x\": \"Head\", \"y\": \"Layer\"},\n",
        ")"
      ],
      "metadata": {
        "id": "yNCTJfzmzofq"
      },
      "execution_count": null,
      "outputs": []
    },
    {
      "cell_type": "markdown",
      "metadata": {
        "id": "u-XMqTXhl6mQ"
      },
      "source": [
        "### Exercise (optional) - implement head-to-head-input patching\n",
        "\n",
        "```c\n",
        "Difficulty: 🔴🔴⚪⚪⚪\n",
        "Importance: 🔵🔵⚪⚪⚪\n",
        "\n",
        "You should spend up to ~10 minutes on this exercise.\n",
        "\n",
        "Most code can be copied from the last exercise.\n",
        "```\n",
        "\n",
        "Again, if you want to implement this yourself then you can do so below, but it isn't a compulsory exercise because it isn't conceptually different from the previous exercises. If you don't implement it, then you should still look at the solution to make sure you understand what's going on.\n"
      ]
    },
    {
      "cell_type": "code",
      "execution_count": null,
      "metadata": {
        "id": "M2BtLSBKl6mQ"
      },
      "outputs": [],
      "source": [
        "def patch_attn_patterns(\n",
        "    corrupted_head_vector: Float[Tensor, \"batch head_index pos_q pos_k\"],\n",
        "    hook: HookPoint,\n",
        "    head_index: int,\n",
        "    clean_cache: ActivationCache\n",
        ") -> Float[Tensor, \"batch pos head_index d_head\"]:\n",
        "    '''\n",
        "    Patches the attn patterns of a given head at every sequence position, using\n",
        "    the value from the clean cache.\n",
        "    '''\n",
        "    pass\n",
        "\n",
        "def get_act_patch_attn_head_all_pos_every(\n",
        "    model: HookedTransformer,\n",
        "    corrupted_tokens: Float[Tensor, \"batch pos\"],\n",
        "    clean_cache: ActivationCache,\n",
        "    patching_metric: Callable\n",
        ") -> Float[Tensor, \"layer head\"]:\n",
        "    '''\n",
        "    Returns an array of results of patching at all positions for each head in each\n",
        "    layer (using the value from the clean cache) for output, queries, keys, values\n",
        "    and attn pattern in turn.\n",
        "\n",
        "    The results are calculated using the patching_metric function, which should be\n",
        "    called on the model's logit output.\n",
        "    '''\n",
        "    pass\n",
        "\n",
        "act_patch_attn_head_all_pos_every_own = get_act_patch_attn_head_all_pos_every(\n",
        "    model,\n",
        "    corrupted_tokens,\n",
        "    clean_cache,\n",
        "    ioi_metric\n",
        ")\n",
        "\n",
        "t.testing.assert_close(act_patch_attn_head_all_pos_every, act_patch_attn_head_all_pos_every_own)"
      ]
    },
    {
      "cell_type": "code",
      "source": [
        "imshow(\n",
        "    act_patch_attn_head_all_pos_every_own,\n",
        "    facet_col=0,\n",
        "    facet_labels=[\"Output\", \"Query\", \"Key\", \"Value\", \"Pattern\"],\n",
        "    title=\"Activation Patching Per Head (All Pos)\",\n",
        "    labels={\"x\": \"Head\", \"y\": \"Layer\"},\n",
        "    width=1200\n",
        ")"
      ],
      "metadata": {
        "id": "PmJl0xp_zpvm"
      },
      "execution_count": null,
      "outputs": []
    },
    {
      "cell_type": "markdown",
      "metadata": {
        "id": "eBPQQe9Yl6mR"
      },
      "source": [
        "Note - we can do this in an even more fine-grained way; the function `patching.get_act_patch_attn_head_by_pos_every` (i.e. same as above but replacing `all_pos` with `by_pos`) will give you the same decomposition, but by sequence position *as well as* by layer, head and component. The same holds for the `patching.get_act_patch_attn_head_out_all_pos` function earlier (replace `all_pos` with `by_pos`). These functions are unsurprisingly pretty slow though!\n"
      ]
    },
    {
      "cell_type": "markdown",
      "metadata": {
        "id": "s4qCUPESl6mR"
      },
      "source": [
        "This plot has some striking features. For instance, this shows us that we have at least three different groups of heads:\n",
        "\n",
        "* Earlier heads (`3.0`, `5.5`, `6.9`) which matter because of their attention patterns (specifically their query vectors).\n",
        "* Middle heads in layers 7 & 8 (`7.3`, `7.9`, `8.6`, `8.10`) seem to matter more because of their value vectors.\n",
        "* Later heads which improve the logit difference (`9.9`, `10.0`), which matter because of their query vectors.\n",
        "\n",
        "Question - what is the significance of the results for the middle heads (i.e. the important ones in layers 7 & 8)? In particular, how should we interpret the fact that value patching has a much bigger effect than the other two forms of patching?\n",
        "\n",
        "*Hint - if you're confused, try plotting the attention patterns of heads `7.3`, `7.9`, `8.6`, `8.10`. You can mostly reuse the code from above when we displayed the output of attention heads.*\n",
        "\n",
        "<details>\n",
        "<summary>Code to plot attention heads</summary>\n",
        "\n",
        "```python\n",
        "# Get the heads with largest value patching\n",
        "# (we know from plot above that these are the 4 heads in layers 7 & 8)\n",
        "k = 4\n",
        "top_heads = topk_of_Nd_tensor(act_patch_attn_head_all_pos_every[3], k=k)\n",
        "\n",
        "# Get all their attention patterns\n",
        "attn_patterns_for_important_heads: Float[Tensor, \"head q k\"] = t.stack([\n",
        "    cache[\"pattern\", layer][:, head].mean(0)\n",
        "        for layer, head in top_heads\n",
        "])\n",
        "\n",
        "# Display results\n",
        "display(HTML(f\"<h2>Top {k} Logit Attribution Heads (from value-patching)</h2>\"))\n",
        "display(cv.attention.attention_patterns(\n",
        "    attention = attn_patterns_for_important_heads,\n",
        "    tokens = model.to_str_tokens(tokens[0]),\n",
        "    attention_head_names = [f\"{layer}.{head}\" for layer, head in top_heads],\n",
        "))\n",
        "```\n",
        "</details>\n",
        "\n",
        "<details>\n",
        "<summary>Answer</summary>\n",
        "\n",
        "The attention patterns show us that these heads attend from `END` to `S2`, so we can guess that they're responsible for moving information from `S2` to `END` which is used to determine the answer. This agrees with our earlier results, when we saw that most of the information gets moved over layers 7 & 8.\n",
        "\n",
        "The fact that value patching is the most important thing for them suggests that the interesting computation goes into **what information they move from `S2` to `end`**, rather than **why `end` attends to `S2`**. See the diagram below if you're confused why we can draw this inference.\n",
        "\n",
        "<img src=\"https://raw.githubusercontent.com/callummcdougall/computational-thread-art/master/example_images/misc/k-vs-v-patching-explained.png\" width=\"900\">\n",
        "\n",
        "</details>\n"
      ]
    },
    {
      "cell_type": "markdown",
      "metadata": {
        "id": "YWHZ83sIl6mR"
      },
      "source": [
        "## Consolidating Understanding\n"
      ]
    },
    {
      "cell_type": "markdown",
      "metadata": {
        "id": "pwUPrrhbl6mR"
      },
      "source": [
        "OK, let's zoom out and reconsolidate. Here's a recap of the most important observations we have so far:\n",
        "\n",
        "* Heads `9.9`, `9.6`, and `10.0` are the most important heads in terms of directly writing to the residual stream. In all these heads, the `END` attends strongly to the `IO`.\n",
        "    * We discovered this by taking the values written by each head in each layer to the residual stream, and projecting them along the logit diff direction by using `residual_stack_to_logit_diff`. We also looked at attention patterns using `circuitsvis`.\n",
        "    * <span style=\"color:darkorange\">**This suggests that these heads are copying `IO` to `end`, to use it as the predicted next token.**</span>\n",
        "    * The question then becomes *\"how do these heads know to attend to this token, and not attend to `S`?\"*\n",
        "\n",
        "<br>\n",
        "\n",
        "* All the action is on `S2` until layer 7 and then transitions to `END`. And that attention layers matter a lot, MLP layers not so much (apart from MLP0, likely as an extended embedding).\n",
        "    * We discovered this by doing **activation patching** on `resid_pre`, `attn_out`, and `mlp_out`.\n",
        "    * <span style=\"color:darkorange\">**This suggests that there is a cluster of heads in layers 7 & 8, which move information from `S2` to `END`. We deduce that this information is how heads `9.9`, `9.6` and `10.0` know to attend to `IO`.**</span>\n",
        "    * The question then becomes *\"what is this information, how does it end up in the `S2` token, and how does `END` know to attend to it?\"*\n",
        "\n",
        "<br>\n",
        "\n",
        "* The significant heads in layers 7 & 8 are `7.3`, `7.9`, `8.6`, `8.10`. These heads have high activation patching values for their value vectors, less so for their queries and keys.\n",
        "    * We discovered this by doing **activation patching** on the value inputs for these heads.\n",
        "    * <span style=\"color:darkorange\">**This supports the previous observation, and it tells us that the interesting computation goes into *what gets moved* from `S2` to `END`, rather than the fact that `END` attends to `S2`.**</span>.\n",
        "    * We still don't know: *\"what is this information, and how does it end up in the `S2` token?\"*\n",
        "\n",
        "<br>\n",
        "\n",
        "* As well as the 2 clusters of heads given above, there's a third cluster of important heads: early heads (e.g. `3.0`, `5.5`, `6.9`) whose query vectors are particularly important for getting good performance.\n",
        "    * We discovered this by doing **activation patching** on the query inputs for these heads.\n"
      ]
    },
    {
      "cell_type": "markdown",
      "metadata": {
        "id": "Z7B36Pu_l6mS"
      },
      "source": [
        "With all this in mind, can you come up with a theory for what these three heads are doing, and come up with a simple model of the whole circuit?\n",
        "\n",
        "*Hint - if you're still stuck, try plotting the attention pattern of head `3.0`. The patterns of `5.5` and `6.9` might seem a bit confusing at first (they add complications to the \"simplest possible picture\" of how the circuit works); we'll discuss them later so they don't get in the way of understanding the core of the circuit.*\n",
        "\n",
        "<details>\n",
        "<summary>Answer (and simple diagram of circuit)</summary>\n",
        "\n",
        "If you plotted the attention pattern for head `3.0`, you should have seen that `S2` paid attention to `S1`. This suggests that the early heads are detecting when the destination token is a duplicate. So the information that the subject is a duplicate gets stored in `S2`.\n",
        "\n",
        "How can the information that the subject token is a duplicate help us predict the token after `end`? Well, the correct answer (the `IO` token) is the non-duplicated token. So we can infer that the information that the subject token is a duplicate is used to *inhibit* the attention of the late heads to the duplicated token, and they instead attend to the non-duplicated token.\n",
        "\n",
        "To summarise the second half of the circuit: information about this duplicated token is then moved from `S2` to `end` by the middle cluster of heads `7.3`, `7.9`, `8.6` and `8.10`, and this information goes into the queries of the late heads `9.9`, `9.6` and `10.0`, making them *inhibit* their attention to the duplicated token. Instead, they attend to `IO` (copying this token directly to the logits).\n",
        "\n",
        "This picture of the circuit turns out to be mostly right. It misses out on some subtleties which we'll discuss shortly, but it's a good rough picture to have in your head. We might illustrate this as follows:\n",
        "\n",
        "<img src=\"https://raw.githubusercontent.com/callummcdougall/computational-thread-art/master/example_images/misc/ioi-main-simple.png\" width=\"1000\">\n",
        "\n",
        "Explanation:\n",
        "\n",
        "* We call the early heads **DTH** (duplicate token heads), their job is to detect that `S2` is a duplicate.\n",
        "* The second group of heads are called **SIH** (S-inhibition heads), their job is to move the duplicated token information from `S2` to `END`. We've illustrated this as them moving the positional information, but in principle this could also be token embedding information (more on this in the final section).\n",
        "* The last group of heads are called **NMH** (name mover heads), their job is to copy the `IO` token to the `END` token, where it is used as the predicted next token (thanks to the S-inihbition heads, these heads don't pay attention to the `S` token).\n",
        "\n",
        "Note - if you're still confused about how to interpret this diagram, but you understand induction circuits and how they work, it might help to compare this diagram to one written in the same style which I made for [induction circuits](https://raw.githubusercontent.com/callummcdougall/computational-thread-art/master/example_images/misc/ih-simple.png). Also, if you've read my induction heads [LessWrong post](https://www.lesswrong.com/posts/TvrfY4c9eaGLeyDkE/induction-heads-illustrated) and you're confused about how this style of diagram is different from that one, [here](https://raw.githubusercontent.com/callummcdougall/computational-thread-art/master/example_images/misc/ih-compared.png) is an image comparing the two diagrams (for induction heads) and explaining how they differ.\n",
        "\n",
        "</details>\n"
      ]
    },
    {
      "cell_type": "markdown",
      "metadata": {
        "id": "ERpYurdFl6mS"
      },
      "source": [
        "Now, let's flesh out this picture a bit more by comparing our results to the paper results. Below is a more complicated version of the diagram in the dropdown above, which also labels the important heads. The diagram is based on the paper's [original diagram](https://res.cloudinary.com/lesswrong-2-0/image/upload/v1672942728/mirroredImages/3ecs6duLmTfyra3Gp/h5icqzpyuhu4mqvfjhvw.png). Don't worry if you don't understand everything in this diagram; the boundaries of the circuit are fuzzy and the \"role\" of every head is in this circuit is a leaky abstraction. Rather, this diagram is meant to point your intuitions in the right direction for better understanding this circuit.\n",
        "\n",
        "<details>\n",
        "<summary>Diagram of large circuit</summary>\n",
        "\n",
        "<img src=\"https://raw.githubusercontent.com/callummcdougall/computational-thread-art/master/example_images/misc/ioi-main-full-c.png\" width=\"1250\">\n",
        "</details>\n"
      ]
    },
    {
      "cell_type": "markdown",
      "metadata": {
        "id": "TmamR-1UpwHd"
      },
      "source": [
        "Here are the main ways it differs from the one above:\n"
      ]
    },
    {
      "cell_type": "markdown",
      "metadata": {
        "id": "OCRqaIqBpz70"
      },
      "source": [
        "#### Induction heads\n",
        "\n",
        "Rather than just having duplicate token heads in the first cluster of heads, we have two other types of heads as well: previous token heads and induction heads. The induction heads do the same thing as the duplicate token heads, via an induction mechanism. They cause token `S2` to attend to `S1+1` (mediated by the previous token heads), and their output is used as both a pointer to `S1` and as a signal that `S1` is duplicated (more on the distinction between these two in the paragraph \"Position vs token information being moved\" below).\n",
        "\n",
        "*(Note - the original paper's diagram implies the induction heads and duplicate token heads compose with each other. This is misleading, and is not the case.)*\n",
        "\n",
        "Why are induction heads used in this circuit? We'll dig into this more in the bonus section, but one likely possibility is that induction heads are just a thing that forms very early on in training by default, and so it makes sense for the model to repurpose this already-existing machinery for this job. See [this paper](https://transformer-circuits.pub/2022/in-context-learning-and-induction-heads/index.html) for more on induction heads, and how / why they form.\n"
      ]
    },
    {
      "cell_type": "markdown",
      "metadata": {
        "id": "Xi34JQ3wp1el"
      },
      "source": [
        "#### Negative & Backup name mover heads\n",
        "\n",
        "Earlier, we saw that some heads in later layers were actually harming performance. These heads turn out to be doing something pretty similar to name mover heads, but in reverse (i.e. they inhibit the correct answer). It's not obvious why the model does this; the paper speculates that these heads might help the model \"hedge\" so as to avoid high cross-entropy loss when making mistakes.\n",
        "\n",
        "Backup name mover heads are possibly even weirder. It turns out that when we **ablate** the name mover heads, these ones pick up the slack and do the task anyway (even though they don't seem to do it when the NMHs aren't ablated). This is an example of **built-in redundancy** in the model. One possible explanation is that this resulted from the model being trained with dropout, although this explanation isn't fully satisfying (models trained without dropout still seem to have BNMHs, although they aren't as strong as they are in this model). Like with induction heads, we'll dig into this more in the final section.\n"
      ]
    },
    {
      "cell_type": "markdown",
      "metadata": {
        "id": "JxzpY4Frp2rp"
      },
      "source": [
        "#### Positional vs token information\n",
        "\n",
        "There are 2 kinds of S-inhibition heads shown in the diagram - ones that inhibit based on positional information (pink), and ones that inhibit based on token information (purple). It's not clear which heads are doing which (and in fact some heads might be doing both!).\n",
        "\n",
        "The paper has an ingenious way of teasing apart which type of information is being used by which of the S-inhibition heads, which we'll discuss in the final section.\n"
      ]
    },
    {
      "cell_type": "markdown",
      "metadata": {
        "id": "TaJWx_rwp33O"
      },
      "source": [
        "#### K-composition in S-inhibition heads\n",
        "\n",
        "When we did activation patching on the keys and values of S-inhibition heads, we found that the values were important and the keys weren't. We concluded that K-composition isn't really happening in these heads, and `END` must be paying attention to `S2` for reasons other than the duplicate token information (e.g. it might just be paying attention to the closest name, or to any names which aren't separated from it by a comma). Although this is mostly true, it turns out that there is a bit of K-composition happening in these heads. We can think of this as the duplicate token heads writing the \"duplicated\" flag to the residual stream (without containing any information about the identity and position of this token), and this flag is being used by the keys of the S-inhibition heads (i.e. they make `END` pay attention to `S2`). In the diagram, this is represented by the dark grey boxes (rather than just the light grey boxes we had in the simplified version). We haven't seen any evidence for this happening yet, but we will in the next section (when we look at path patching).\n",
        "\n",
        "Note - whether the early heads are writing positional information or \"duplicate flag\" information to the residual stream is not necessarily related to whether the head is an induction head or a duplicate token head. In principle, either type of head could write either type of information.\n"
      ]
    },
    {
      "cell_type": "markdown",
      "metadata": {
        "id": "teSb1k5Ul6mS"
      },
      "source": [
        "# 4️⃣ Path Patching\n"
      ]
    },
    {
      "cell_type": "markdown",
      "metadata": {
        "id": "V3CwDlMzd2-J"
      },
      "source": [
        "> ##### Learning objectives\n",
        ">\n",
        "> * Understand the idea of path patching, and how it differs from activation patching\n",
        "> * Implement path patching from scratch (i.e. using hooks)\n",
        "> * Replicate several of the results in the [IOI paper](https://arxiv.org/abs/2211.00593)\n"
      ]
    },
    {
      "cell_type": "markdown",
      "metadata": {
        "id": "coJBdcIil6mS"
      },
      "source": [
        "This section will be a lot less conceptual and exploratory than the last two sections, and a lot more technical and rigorous. You'll learn what path patching is and how it works, and you'll use it to replicate many of the paper's results (as well as some other paper results not related to path patching).\n"
      ]
    },
    {
      "cell_type": "markdown",
      "metadata": {
        "id": "Srst_LcHl6mS"
      },
      "source": [
        "## Setup\n"
      ]
    },
    {
      "cell_type": "markdown",
      "metadata": {
        "id": "tDDY8pgll6mS"
      },
      "source": [
        "Here, we'll be more closely following the setup that the paper's authors used, rather than the rough-and-ready exploration we used in the first few sections. To be clear, a lot of the rigour that we'll be using in the setup here isn't necessary if you're just starting to investigate a model's circuit. This rigour is necessary if you're publishing a paper, but it can take a lot of time and effort!\n"
      ]
    },
    {
      "cell_type": "code",
      "execution_count": null,
      "metadata": {
        "id": "MHJUVp2jl6mS"
      },
      "outputs": [],
      "source": [
        "from part3_indirect_object_identification.ioi_dataset import NAMES, IOIDataset"
      ]
    },
    {
      "cell_type": "markdown",
      "metadata": {
        "id": "q36cUtm7l6mS"
      },
      "source": [
        "The dataset we'll be using is an instance of `IOIDataset`, which is generated by randomly choosing names from the `NAMES` list (as well as sentence templates and objects from different lists). You can look at the `ioi_dataset.py` file to see details of how this is done.\n",
        "\n",
        "(Note - you can reduce `N` if you're getting memory errors from running this code. If you're still getting memory errors from `N = 10` then you're recommended to switch to Colab, or to use a virtual machine e.g. via Lambda Labs.)\n"
      ]
    },
    {
      "cell_type": "code",
      "execution_count": null,
      "metadata": {
        "id": "oQfjMAcMl6mT"
      },
      "outputs": [],
      "source": [
        "N = 25\n",
        "ioi_dataset = IOIDataset(\n",
        "    prompt_type=\"mixed\",\n",
        "    N=N,\n",
        "    tokenizer=model.tokenizer,\n",
        "    prepend_bos=False,\n",
        "    seed=1,\n",
        "    device=str(device)\n",
        ")"
      ]
    },
    {
      "cell_type": "markdown",
      "metadata": {
        "id": "qlMXGGqel6mT"
      },
      "source": [
        "This dataset has a few useful attributes & methods. Here are the main ones you should be aware of for these exercises:\n",
        "\n",
        "* `toks` is a tensor of shape `(batch_size, max_seq_len)` containing the token IDs (i.e. this is what you pass to your model)\n",
        "* `s_tokenIDs` and `io_tokenIDs` are lists containing the token IDs for the subjects and objects\n",
        "* `sentences` is a list containing the sentences (as strings)\n",
        "* `word_idx` is a dictionary mapping word types (e.g. `\"S1\"`, `\"S2\"`, `\"IO\"` or `\"end\"`) to tensors containing the positions of those words for each sequence in the dataset.\n",
        "    * This is particularly handy for indexing, since the positions of the subject, indirect object, and end tokens are no longer the same in every sentence like they were in previous sections.\n"
      ]
    },
    {
      "cell_type": "markdown",
      "metadata": {
        "id": "6rOo1Wa9l6mT"
      },
      "source": [
        "Firstly, what dataset should we use for patching? In the previous section we just flipped the subject and indirect object tokens around, which meant the direction of the signal was flipped around. However, what we'll be doing here is a bit more principled - rather than flipping the IOI signal, we'll be erasing it. We do this by constructing a new dataset from `ioi_dataset` which replaces every name with a different random name. This way, the sentence structure stays the same, but all information related to the actual indirect object identification  task (i.e. the identities and positions of repeated names) has been erased.\n",
        "\n",
        "For instance, given the sentence `\"When John and Mary went to the shops, John gave the bag to Mary\"`, the corresponding sentence in the ABC dataset might be `\"When Edward and Laura went to the shops, Adam gave the bag to Mary\"`. We would expect the residual stream for the latter prompt to carry no token or positional information which could help it solve the IOI task (i.e. favouring `Mary` over `John`, or favouring the 2nd token over the 4th token).\n",
        "\n",
        "We define this dataset below. Note the syntax of the `gen_flipped_prompts` method - the letters tell us how to replace the names in the sequence. For instance, `ABB->XYZ` tells us to take sentences of the form `\"When Mary and John went to the store, John gave a drink to Mary\"` with `\"When [X] and [Y] went to the store, [Z] gave a drink to Mary\"` for 3 independent randomly chosen names `[X]`, `[Y]` and `[Z]`. We'll use this function more in the bonus section, when we're trying to disentangle positional and token signals (since we can also do fun things like `ABB->BAB` to swap the first two names, etc).\n"
      ]
    },
    {
      "cell_type": "code",
      "execution_count": null,
      "metadata": {
        "id": "vHpmVgCjl6mT"
      },
      "outputs": [],
      "source": [
        "abc_dataset = ioi_dataset.gen_flipped_prompts(\"ABB->XYZ, BAB->XYZ\")"
      ]
    },
    {
      "cell_type": "markdown",
      "metadata": {
        "id": "nod-zm4_l6mT"
      },
      "source": [
        "Let's take a look at this dataset. We'll define a helper function `make_table`, which prints out tables after being fed columns rather than rows (don't worry about the syntax, it's not important).\n"
      ]
    },
    {
      "cell_type": "code",
      "execution_count": null,
      "metadata": {
        "id": "gN6-2ApVl6mT"
      },
      "outputs": [],
      "source": [
        "def format_prompt(sentence: str) -> str:\n",
        "    '''Format a prompt by underlining names (for rich print)'''\n",
        "    return re.sub(\"(\" + \"|\".join(NAMES) + \")\", lambda x: f\"[u bold dark_orange]{x.group(0)}[/]\", sentence) + \"\\n\"\n",
        "\n",
        "\n",
        "def make_table(cols, colnames, title=\"\", n_rows=5, decimals=4):\n",
        "    '''Makes and displays a table, from cols rather than rows (using rich print)'''\n",
        "    table = Table(*colnames, title=title)\n",
        "    rows = list(zip(*cols))\n",
        "    f = lambda x: x if isinstance(x, str) else f\"{x:.{decimals}f}\"\n",
        "    for row in rows[:n_rows]:\n",
        "        table.add_row(*list(map(f, row)))\n",
        "    rprint(table)"
      ]
    },
    {
      "cell_type": "code",
      "execution_count": null,
      "metadata": {
        "id": "-UlIiMNDl6mT"
      },
      "outputs": [],
      "source": [
        "make_table(\n",
        "    colnames = [\"IOI prompt\", \"IOI subj\", \"IOI indirect obj\", \"ABC prompt\"],\n",
        "    cols = [\n",
        "        map(format_prompt, ioi_dataset.sentences),\n",
        "        model.to_string(ioi_dataset.s_tokenIDs).split(),\n",
        "        model.to_string(ioi_dataset.io_tokenIDs).split(),\n",
        "        map(format_prompt, abc_dataset.sentences),\n",
        "    ],\n",
        "    title = \"Sentences from IOI vs ABC distribution\",\n",
        ")"
      ]
    },
    {
      "cell_type": "markdown",
      "metadata": {
        "id": "JGICTOkzl6mT"
      },
      "source": [
        "Next, we'll define functions similar to the ones from previous sections. We've just given you these, rather than making you repeat the exercise of writing them (although you should compare these functions to the ones you wrote earlier, and make sure you understand how they work).\n",
        "\n",
        "We'll call these functions something slightly different, so as not to pollute namespace.\n"
      ]
    },
    {
      "cell_type": "code",
      "execution_count": null,
      "metadata": {
        "id": "VPKTb0ril6mT"
      },
      "outputs": [],
      "source": [
        "def logits_to_ave_logit_diff_2(\n",
        "    logits: Float[Tensor, \"batch seq d_vocab\"],\n",
        "    ioi_dataset: IOIDataset = ioi_dataset,\n",
        "    per_prompt=False\n",
        ") -> Union[Float[Tensor, \"\"], Float[Tensor, \"batch\"]]:\n",
        "    '''\n",
        "    Returns logit difference between the correct and incorrect answer.\n",
        "\n",
        "    If per_prompt=True, return the array of differences rather than the average.\n",
        "    '''\n",
        "\n",
        "    # Only the final logits are relevant for the answer\n",
        "    # Get the logits corresponding to the indirect object / subject tokens respectively\n",
        "    io_logits: Float[Tensor, \"batch\"] = logits[range(logits.size(0)), ioi_dataset.word_idx[\"end\"], ioi_dataset.io_tokenIDs]\n",
        "    s_logits: Float[Tensor, \"batch\"] = logits[range(logits.size(0)), ioi_dataset.word_idx[\"end\"], ioi_dataset.s_tokenIDs]\n",
        "    # Find logit difference\n",
        "    answer_logit_diff = io_logits - s_logits\n",
        "    return answer_logit_diff if per_prompt else answer_logit_diff.mean()\n",
        "\n",
        "\n",
        "model.reset_hooks(including_permanent=True)\n",
        "\n",
        "ioi_logits_original, ioi_cache = model.run_with_cache(ioi_dataset.toks)\n",
        "abc_logits_original, abc_cache = model.run_with_cache(abc_dataset.toks)\n",
        "\n",
        "ioi_per_prompt_diff = logits_to_ave_logit_diff_2(ioi_logits_original, per_prompt=True)\n",
        "abc_per_prompt_diff = logits_to_ave_logit_diff_2(abc_logits_original, per_prompt=True)\n",
        "\n",
        "ioi_average_logit_diff = logits_to_ave_logit_diff_2(ioi_logits_original).item()\n",
        "abc_average_logit_diff = logits_to_ave_logit_diff_2(abc_logits_original).item()"
      ]
    },
    {
      "cell_type": "code",
      "execution_count": null,
      "metadata": {
        "id": "DSehMYDBl6mT"
      },
      "outputs": [],
      "source": [
        "print(f\"Average logit diff (IOI dataset): {ioi_average_logit_diff:.4f}\")\n",
        "print(f\"Average logit diff (ABC dataset): {abc_average_logit_diff:.4f}\")\n",
        "\n",
        "make_table(\n",
        "    colnames = [\"IOI prompt\", \"IOI logit diff\", \"ABC prompt\", \"ABC logit diff\"],\n",
        "    cols = [\n",
        "        map(format_prompt, ioi_dataset.sentences),\n",
        "        ioi_per_prompt_diff,\n",
        "        map(format_prompt, abc_dataset.sentences),\n",
        "        abc_per_prompt_diff,\n",
        "    ],\n",
        "    title = \"Sentences from IOI vs ABC distribution\",\n",
        ")"
      ]
    },
    {
      "cell_type": "markdown",
      "metadata": {
        "id": "YJNhAu-Xl6mU"
      },
      "source": [
        "Note that we're always measuring performance ***with respect to the correct answers for the IOI dataset, not the ABC dataset***, because we want our ABC dataset to carry no information that helps with the IOI task (hence patching it in gives us signals which are totally uncorrelated with the correct answer). For instance, the model will obviously not complete sentences like `\"When Max and Victoria got a snack at the store, Clark decided to give it to\"` with the name `\"Tyler\"`.\n"
      ]
    },
    {
      "cell_type": "markdown",
      "metadata": {
        "id": "zxjUupMgl6mU"
      },
      "source": [
        "Finally, let's define a new `ioi_metric` function which works for our new data.\n",
        "\n",
        "In order to match the paper's results, we'll use a different convention here. 0 means performance is the same as on the IOI dataset (i.e. hasn't been harmed in any way), and -1 means performance is the same as on the ABC dataset (i.e. the model has completely lost the ability to distinguish between the subject and indirect object).\n",
        "\n",
        "Again, we'll call this function something slightly different.\n"
      ]
    },
    {
      "cell_type": "code",
      "execution_count": null,
      "metadata": {
        "id": "fg1gtdoVl6mU"
      },
      "outputs": [],
      "source": [
        "def ioi_metric_2(\n",
        "    logits: Float[Tensor, \"batch seq d_vocab\"],\n",
        "    clean_logit_diff: float = ioi_average_logit_diff,\n",
        "    corrupted_logit_diff: float = abc_average_logit_diff,\n",
        "    ioi_dataset: IOIDataset = ioi_dataset,\n",
        ") -> float:\n",
        "    '''\n",
        "    We calibrate this so that the value is 0 when performance isn't harmed (i.e. same as IOI dataset),\n",
        "    and -1 when performance has been destroyed (i.e. is same as ABC dataset).\n",
        "    '''\n",
        "    patched_logit_diff = logits_to_ave_logit_diff_2(logits, ioi_dataset)\n",
        "    return (patched_logit_diff - clean_logit_diff) / (clean_logit_diff - corrupted_logit_diff)\n",
        "\n",
        "\n",
        "print(f\"IOI metric (IOI dataset): {ioi_metric_2(ioi_logits_original):.4f}\")\n",
        "print(f\"IOI metric (ABC dataset): {ioi_metric_2(abc_logits_original):.4f}\")"
      ]
    },
    {
      "cell_type": "markdown",
      "metadata": {
        "id": "b32Qdk-Gl6mU"
      },
      "source": [
        "## What is path patching?\n"
      ]
    },
    {
      "cell_type": "markdown",
      "metadata": {
        "id": "T2oLJRm0l6mU"
      },
      "source": [
        "In the previous section, we looked at activation patching, which answers questions like *what would happen if you took an attention head, and swapped the value it writes to the residual stream with the value it would have written under a different distribution, while keeping everything else the same?*. This proved to be a good way to examine the role of individual components like attention heads, and it allowed us to perform some more subtle analysis like patching keys / queries / values in turn to figure out which of them were more important for which heads.\n",
        "\n",
        "However, when we're studying a circuit, rather than just swapping out an entire attention head, we might want to ask more nuanced questions like *what would happen if the direct input from attention head $A$ to head $B$ (where $B$ comes after $A$) was swapped out with the value it would have been under a different distribution, while keeping everything else the same?*. Rather than answering the general question of how important attention heads are, this answers the more specific question of how important the circuit formed by connecting up these two attention heads is. Path patching is designed to answer questions like these.\n"
      ]
    },
    {
      "cell_type": "markdown",
      "metadata": {
        "id": "T_i8bI2hl6mU"
      },
      "source": [
        "The following diagrams might help explain the difference between activation and path patching in transformers. Recall that activation patching looked like:\n",
        "\n",
        "<img src=\"https://raw.githubusercontent.com/callummcdougall/computational-thread-art/master/example_images/misc/simpler-patching-2c.png\" width=\"420\">\n",
        "\n",
        "where the black and green distributions are our clean and corrupted datasets respectively (so this would be `ioi_dataset` and `abc_dataset`). In contrast, path patching involves replacing **edges** rather than **nodes**. In the diagram below, we're replacing the edge $D \\to G$ with what it would be on the corrupted distribution. So in our patched run, $G$ is calculated just like it would be on the clean distribution, but as if the **direct** input from $D$ had come from the corrupted distribution instead.\n",
        "\n",
        "<img src=\"https://raw.githubusercontent.com/callummcdougall/computational-thread-art/master/example_images/misc/simpler-patching-3c.png\" width=\"560\">\n"
      ]
    },
    {
      "cell_type": "markdown",
      "metadata": {
        "id": "CmG4-urTl6mU"
      },
      "source": [
        "Unfortunately, for a transformer, this is easier to describe than to actually implement. This is because the \"nodes\" are attention heads, and the \"edges\" are all tangled together in the residual stream (that is to say, it's not clear how one could change the value of one edge without without affecting every path that includes that edge). The solution is to use the 3-step algorithm shown in the diagram below (which reads from right to left).\n",
        "\n",
        "Terminology note - we call head $D$ the **sender node**, and head $G$ the **receiver node**. Also, by \"freezing\" nodes, we mean \"patch with the value that is the same as the input\". For instance, if we didn't freeze head $H$ in step 2 below, it would have a different value because it would be affected by the corrupted value of head $D$.\n",
        "\n",
        "<img src=\"https://raw.githubusercontent.com/callummcdougall/computational-thread-art/master/example_images/misc/simpler-patching-4c.png\" width=\"900\">\n"
      ]
    },
    {
      "cell_type": "markdown",
      "metadata": {
        "id": "Pag5Nl9zl6mV"
      },
      "source": [
        "Let's make this concrete, and take a simple 3-layer transformer with 2 heads per layer. Let's perform path patching on the edge from head `0.0` to `2.0` (terminology note: `0.0` is the **sender**, and `2.0` is the **receiver**). Note that here, we're considering \"direct paths\" as anything that doesn't go through another attention head (so it can go through any combination of MLPs). Intuitively, the nodes (attention heads) are the only things that can move information around in the model, and this is the thing we want to study. In contrast, MLPs just perform information processing, and they're not as interesting for this task.\n",
        "\n",
        "Our 3-step process looks like the diagram below (remember green is corrupted, grey is clean).\n",
        "\n",
        "<img src=\"https://raw.githubusercontent.com/callummcdougall/computational-thread-art/master/example_images/misc/path-patching-alg-transformers-6.png\" width=\"700\">\n",
        "\n",
        "(Note - in this diagram, the uncoloured nodes indicate we aren't doing any patching; we're just allowing them to be computed from the values of nodes which are downstream of it.)\n"
      ]
    },
    {
      "cell_type": "markdown",
      "metadata": {
        "id": "0mnuOkE3l6mV"
      },
      "source": [
        "Why does this work? If you stare at the middle picture above for long enough, you'll realise that the contribution from every non-direct path from `0.0` $\\to$ `2.0` is the same as it would be on the clean distribution, while all the direct paths' contributions are the same as they would be on the corrupted distribution.\n",
        "\n",
        "<img src=\"https://raw.githubusercontent.com/callummcdougall/computational-thread-art/master/example_images/misc/path-patching-decomp-four.png\" width=\"850\">\n"
      ]
    },
    {
      "cell_type": "markdown",
      "source": [
        "### Why MLPs?"
      ],
      "metadata": {
        "id": "a3q15r4-glbt"
      }
    },
    {
      "cell_type": "markdown",
      "source": [
        "You might be wondering why we're including MLPs as part of our direct path. The short answer is that this is what the IOI paper does, and we're trying to replicate it! The slightly longer answer is that both this method and a method which doesn't count MLPs as the direct path are justifiable.\n",
        "\n",
        "To take one example, suppose the output of head `0.0` is being used directly by head `2.0`, but one of the MLPs is acting as a mediator. To oversimplify, we might imagine that `0.0` writes the vector $v$ into the residual stream, some neuron detects $v$ and writes $w$ to the residual stream, and `2.0` detects $w$. If we didn't count MLPs as a direct path then we wouldn't catch this causal relationship. The drawback is that things get a bit messier, because now we're essentially passing a \"fake input\" into our MLPs, and it's dangerous to assume that any operation as clean as the one previously described (with vectors $v$, $w$) would still happen under these new circumstances.\n",
        "\n",
        "Also, having MLPs as part of the direct path doesn't help us understand what role the MLPs play in the circuit, all it does is tell us that some of them are important! Luckily, in the IOI circuit, MLPs aren't important (except for MLP0), and so doing both these forms of path patching get pretty similar results. As an optional exercise, you can reproduce the results from the following few sections using this different form of path patching. It's actually algorithmically easier to implement, because we only need one forward pass rather than two. Can you see why?\n",
        "\n",
        "<details>\n",
        "<summary>Answer</summary>\n",
        "\n",
        "Because the MLPs were part of the direct paths between sender and receiver in the previous version of the algorithm, we had to do a forward pass to find the value we'd be patching into the receivers. But if MLPs aren't part of the direct path, then we can directly compute what to patch into the receiver nodes:\n",
        "\n",
        "```\n",
        "orig_receiver_input <- orig_receiver_input + (new_sender_output - old_sender_output)\n",
        "```\n",
        "\n",
        "Diagram with direct paths not including MLPs:\n",
        "\n",
        "<img src=\"https://raw.githubusercontent.com/callummcdougall/computational-thread-art/master/example_images/misc/path-patching-decomp-one.png\" width=\"1200\">\n",
        "\n",
        "</details>"
      ],
      "metadata": {
        "id": "16cyP2Xdgmdr"
      }
    },
    {
      "cell_type": "markdown",
      "metadata": {
        "id": "-3HctAcHl6mV"
      },
      "source": [
        "## Path Patching: Name Mover Heads\n"
      ]
    },
    {
      "cell_type": "markdown",
      "metadata": {
        "id": "PCbk9zmKl6mV"
      },
      "source": [
        "We'll start with a simple type of path patching - with just one receiver node, which is the final value of the residual stream. We've only discussed receiver nodes being other attention heads so far, but the same priciples hold for any choice of receiver nodes.\n",
        "\n",
        "<details>\n",
        "<summary>Question - can you explain the difference between path patching from an attention head to the residual stream, and activation patching on that attention head?</summary>\n",
        "\n",
        "Activation patching changes the value of that head, and all subsequent layers which depend on that head.\n",
        "\n",
        "Path patching will answer the question \"what if the value written by the head directly to the residual stream was the same as in $x_{new}$, but every non-direct path from this head to the residual stream (i.e. paths going through other heads) the value was the same as it would have been under $x_{orig}$?\n",
        "</details>\n",
        "\n",
        "This patching is described at the start of section 3.1 in [the paper](https://arxiv.org/pdf/2211.00593.pdf) (page 5). The 3-step process will look like:\n",
        "\n",
        "1. Run the model on clean and corrupted input. Cache the head outputs.\n",
        "2. Run the model on clean input, with the sender head **patched** from the corrupted input, and every other head **frozen** to their values on the clean input. Cache the final value of the residual stream (i.e. `resid_post` in the final layer).\n",
        "3. Normally we would re-run the model on the clean input and patch in the cached value of the final residual stream, but in this case we don't need to because we can just unembed the final value of the residual stream directly without having to run another forward pass.\n",
        "\n",
        "Here is an illustration for a 2-layer transformer:\n",
        "\n",
        "<img src=\"https://raw.githubusercontent.com/callummcdougall/computational-thread-art/master/example_images/misc/path-patching-residpost-newest.png\" width=\"680\">\n"
      ]
    },
    {
      "cell_type": "markdown",
      "metadata": {
        "id": "vTEkedLol6mV"
      },
      "source": [
        "### Exercise - implement path patching to the final residual stream value\n",
        "\n",
        "```c\n",
        "Difficulty: 🔴🔴🔴🔴🔴\n",
        "Importance: 🔵🔵🔵🔵⚪\n",
        "\n",
        "You should spend up to 30-45 minutes on this exercise.\n",
        "\n",
        "Path patching is a very challenging algorithm with many different steps.\n",
        "```\n",
        "\n",
        "You should implement path patching from heads to the residual stream, as described above (and in the paper).\n",
        "\n",
        "This exercise is expected to be challenging, with several moving parts. We've purposefully left it very open-ended, without even giving you a docstring for the function you'll be writing.\n",
        "\n",
        "Here are a few hints / tips for how to proceed:\n",
        "\n",
        "* Split your function up into 3 parts (one for each of the steps above), and write each section one at a time.\n",
        "* You'll need a new hook function: one which performs freezing / patching for step 2 of the algorithm.\n",
        "* You can reuse a lot of code from your activation patching function.\n",
        "* When calling `model.run_with_cache`, you can use the keyword argument `names_filter`, which is a function from name to boolean. If you use this argument, your model will only cache activtions with a name which passes this filter (e.g. you can use it like `names_filter = lambda name: name.endswith(\"q\")` to only cache query vectors).\n",
        "\n",
        "You can also look at the dropdowns to get more hints and guidance (e.g. if you want to start from a function docstring).\n",
        "\n",
        "You'll know you've succeeded if you can plot the results, and replicate Figure 3(b) from [the paper](https://arxiv.org/pdf/2211.00593.pdf) (at the top of page 6).\n",
        "\n",
        "\n",
        "**Note - if you use `model.add_hook` then `model.run_with_cache`, you might have to pass the argument `level=1` to the `add_hook` method. I don't know why the function sometimes fails unless you do this (this bug only started appearing after the exercises were written). I've not had time to track this down, but extra credit to anyone who can (-:**"
      ]
    },
    {
      "cell_type": "markdown",
      "metadata": {
        "id": "ry8DZVtJl6mV"
      },
      "source": [
        "<details>\n",
        "<summary>Click here to get a docstring for the main function.</summary>\n",
        "\n",
        "```python\n",
        "def get_path_patch_head_to_final_resid_post(\n",
        "    model: HookedTransformer,\n",
        "    patching_metric: Callable,\n",
        "    new_dataset: IOIDataset = abc_dataset,\n",
        "    orig_dataset: IOIDataset = ioi_dataset,\n",
        "    new_cache: Optional[ActivationCache] = abc_cache,\n",
        "    orig_cache: Optional[ActivationCache] = ioi_cache,\n",
        ") -> Float[Tensor, \"layer head\"]:\n",
        "    '''\n",
        "    Performs path patching (see algorithm in appendix B of IOI paper), with:\n",
        "\n",
        "        sender head = (each head, looped through, one at a time)\n",
        "        receiver node = final value of residual stream\n",
        "\n",
        "    Returns:\n",
        "        tensor of metric values for every possible sender head\n",
        "    '''\n",
        "    pass\n",
        "```\n",
        "</details>\n",
        "\n",
        "<details>\n",
        "<summary>Click here to get a docstring for the main function, plus some annotations and function structure.</summary>\n",
        "\n",
        "```python\n",
        "def get_path_patch_head_to_final_resid_post(\n",
        "    model: HookedTransformer,\n",
        "    patching_metric: Callable,\n",
        "    new_dataset: IOIDataset = abc_dataset,\n",
        "    orig_dataset: IOIDataset = ioi_dataset,\n",
        "    new_cache: Optional[ActivationCache] = abc_cache,\n",
        "    orig_cache: Optional[ActivationCache] = ioi_cache,\n",
        ") -> Float[Tensor, \"layer head\"]:\n",
        "    '''\n",
        "    Performs path patching (see algorithm in appendix B of IOI paper), with:\n",
        "\n",
        "        sender head = (each head, looped through, one at a time)\n",
        "        receiver node = final value of residual stream\n",
        "\n",
        "    Returns:\n",
        "        tensor of metric values for every possible sender head\n",
        "    '''\n",
        "    model.reset_hooks()\n",
        "    results = t.zeros(model.cfg.n_layers, model.cfg.n_heads, device=\"cuda\", dtype=t.float32)\n",
        "\n",
        "    # ========== Step 1 ==========\n",
        "    # Gather activations on x_orig and x_new\n",
        "\n",
        "    # YOUR CODE HERE\n",
        "\n",
        "\n",
        "    # Using itertools to loop gives us a smoother progress bar (using nested for loops is also fine)\n",
        "    for (sender_layer, sender_head) in tqdm_notebook(list(itertools.product(\n",
        "        range(model.cfg.n_layers),\n",
        "        range(model.cfg.n_heads)\n",
        "    ))):\n",
        "        pass\n",
        "\n",
        "        # ========== Step 2 ==========\n",
        "        # Run on x_orig, with sender head patched from x_new, every other head frozen\n",
        "\n",
        "        # YOUR CODE HERE\n",
        "\n",
        "\n",
        "        # ========== Step 3 ==========\n",
        "        # Unembed the final residual stream value, to get our patched logits\n",
        "\n",
        "        # YOUR CODE HERE\n",
        "\n",
        "\n",
        "        # Save the results\n",
        "        results[sender_layer, sender_head] = patching_metric(patched_logits)\n",
        "\n",
        "\n",
        "    return results\n",
        "```\n",
        "</details>\n"
      ]
    },
    {
      "cell_type": "code",
      "execution_count": null,
      "metadata": {
        "id": "4DZ2SGhfl6mW"
      },
      "outputs": [],
      "source": [
        "def get_path_patch_head_to_final_resid_post(\n",
        "    model: HookedTransformer,\n",
        "    patching_metric: Callable,\n",
        "    new_dataset: IOIDataset = abc_dataset,\n",
        "    orig_dataset: IOIDataset = ioi_dataset,\n",
        "    new_cache: Optional[ActivationCache] = abc_cache,\n",
        "    orig_cache: Optional[ActivationCache] = ioi_cache,\n",
        ") -> Float[Tensor, \"layer head\"]:\n",
        "    pass\n",
        "\n",
        "path_patch_head_to_final_resid_post = get_path_patch_head_to_final_resid_post(model, ioi_metric_2)"
      ]
    },
    {
      "cell_type": "code",
      "source": [
        "imshow(\n",
        "    100 * path_patch_head_to_final_resid_post,\n",
        "    title=\"Direct effect on logit difference\",\n",
        "    labels={\"x\":\"Head\", \"y\":\"Layer\", \"color\": \"Logit diff. variation\"},\n",
        "    coloraxis=dict(colorbar_ticksuffix = \"%\"),\n",
        "    width=600,\n",
        ")"
      ],
      "metadata": {
        "id": "epD3Fvm4zzWi"
      },
      "execution_count": null,
      "outputs": []
    },
    {
      "cell_type": "markdown",
      "metadata": {
        "id": "iK9VehsAd2-M"
      },
      "source": [
        "<details>\n",
        "<summary>Help - all the values in my heatmap are the same.</summary>\n",
        "\n",
        "There could be a few possible reasons for this. A common one is that you're changing an actual tensor, rather than just changing its values - this means when one tensor changes, the other one does too. For instance, if you do something like:\n",
        "\n",
        "```python\n",
        "x = t.zeros(3)\n",
        "y = x\n",
        "x[0] = 1\n",
        "print(y)\n",
        "```\n",
        "\n",
        "then `y` will also be `[1, 0, 0]`. To avoid this, you can use the `...` syntax, which means \"set all values in this tensor to the values in this other tensor\". For instance, if you do:\n",
        "\n",
        "```python\n",
        "x = t.zeros(3)\n",
        "y = t.zeros(3)\n",
        "x[...] = y\n",
        "x[0] = 1\n",
        "print(y)\n",
        "```\n",
        "\n",
        "then `y` will still be `[0, 0, 0]`.\n",
        "\n",
        "Using `x[:] = y` will also work.\n",
        "\n",
        "---\n",
        "\n",
        "Another possible explanation would be passing in the wrong input values / cache at some point in the algorithm, or freezing to the wrong values. Remember that in the diagram, grey represents original values (clean) and blue represents new values (corrupted), so e.g. in step 2 we want to run the model on `orig_dataset` (= IOI dataset) and we also want to freeze all non-sender heads to their values in `orig_cache`.\n",
        "\n",
        "---\n",
        "\n",
        "Lastly, make sure you're not freezing your heads in a way that doesn't override the sender patching! If more than one hook function is added to a hook point, they're executed in the order they were added (with the last one possibly overriding the previous ones).\n",
        "\n",
        "</details>\n"
      ]
    },
    {
      "cell_type": "markdown",
      "metadata": {
        "id": "stlWoafYl6mW"
      },
      "source": [
        "What is the interpretation of this plot? How does it compare to the equivalent plot we got from activation patching? (Remember that our metric is defined in a different way, so we should expect a sign difference between the two results.)\n",
        "\n",
        "<details>\n",
        "<summary>Some thoughts</summary>\n",
        "\n",
        "This plot is actually almost identical to the one we got from activation patching (apart from the results being negated, because of the new metric).\n",
        "\n",
        "This makes sense; the only reason activation patching would do something different to path patching is if the heads writing in the `Mary - John` direction had their outputs used by a later head (because this would be accounted for in activation patching, whereas path patching isolates the direct effect on the residual stream only). Since attention heads' primary purpose is to move information around the model, it's reasonable to guess that this probably isn't happening.\n",
        "\n",
        "Don't worry though, in the next set of exercises we'll do some more interesting path patching, and we'll get some results which are meaningfully different from our activation patching results.\n",
        "</details>\n"
      ]
    },
    {
      "cell_type": "markdown",
      "metadata": {
        "id": "N3WFsxrRl6mZ"
      },
      "source": [
        "## Path Patching: S-Inhibition Heads\n"
      ]
    },
    {
      "cell_type": "markdown",
      "metadata": {
        "id": "GELqmSQxl6mZ"
      },
      "source": [
        "In the first section on path patching, we performed a simple kind of patching - from the output of an attention head to the final value of the residual stream. Here we'll do something a bit more interesting, and patch from the output of one head to the input of a later head. The purpose of this is to examine exactly how two heads are composing, and what effect the composed heads have on the model's output.\n",
        "\n",
        "We got a hint of this in the previous section, where we patched the values of the S-inhibition heads and found that they were important. But this didn't tell us which inputs to these value vectors were important; we had to make educated guesses about this based on our analysis earlier parts of the model. In path patching, we can perform a more precise test to find which heads are important.\n",
        "\n",
        "The paper's results from path patching are shown in figure 5(b), on page 7.\n"
      ]
    },
    {
      "cell_type": "markdown",
      "metadata": {
        "id": "GdHnNPmnl6mZ"
      },
      "source": [
        "### Exercise - implement path patching from head to head\n",
        "\n",
        "```c\n",
        "Difficulty: 🔴🔴🔴⚪⚪\n",
        "Importance: 🔵🔵🔵⚪⚪\n",
        "\n",
        "You should spend up to 20-25 minutes on this exercise.\n",
        "\n",
        "You'll need a new hook function, but copying code from the previous exercise should make this one easier.\n",
        "```\n",
        "\n",
        "You should fill in the function `get_path_patch_head_to_head` below. It takes as arguments a list of receiver nodes (as well as the type of input - keys, queries, or values), and returns a tensor of shape\\* `(layer, head)` where each element is the result of running the patching metric on the output of the model, after applying the 3-step path patching algorithm from one of the model's heads to all the receiver heads. You should be able to replicate the paper's results (figure 5(b)).\n",
        "\n",
        "\\**Actually, you don't need to return all layers, because the causal effect from any sender head which is on the same or a later layer than the last of your receiver heads will necessarily be zero.*\n",
        "\n",
        "If you want a bit more guidance, you can use the dropdown below to see the ways in which this function should be different from your first path patching function (in most ways these functions will be similar, so you can start by copying that function).\n",
        "\n",
        "<details>\n",
        "<summary>Differences from first path patching function</summary>\n",
        "\n",
        "Step 1 is identical in both - gather all the observations.\n",
        "\n",
        "Step 2 is very similar. The only difference is that you'll be caching a different set of activations (your receiver heads).\n",
        "\n",
        "In section 3, since your receiver nodes are in the middle of the model rather than at the very end, you will have to run the model again with these nodes patched in rather than just calculating the logit output directly from the patched values of the final residual stream. To do this, you'll have to write a new hook function to patch in the inputs to an attention head (if you haven't done this already).\n",
        "</details>\n"
      ]
    },
    {
      "cell_type": "code",
      "execution_count": null,
      "metadata": {
        "id": "h-7sxrQkl6mZ"
      },
      "outputs": [],
      "source": [
        "def get_path_patch_head_to_heads(\n",
        "    receiver_heads: List[Tuple[int, int]],\n",
        "    receiver_input: str,\n",
        "    model: HookedTransformer,\n",
        "    patching_metric: Callable,\n",
        "    new_dataset: IOIDataset = abc_dataset,\n",
        "    orig_dataset: IOIDataset = ioi_dataset,\n",
        "    new_cache: Optional[ActivationCache] = None,\n",
        "    orig_cache: Optional[ActivationCache] = None,\n",
        ") -> Float[Tensor, \"layer head\"]:\n",
        "    '''\n",
        "    Performs path patching (see algorithm in appendix B of IOI paper), with:\n",
        "\n",
        "        sender head = (each head, looped through, one at a time)\n",
        "        receiver node = input to a later head (or set of heads)\n",
        "\n",
        "    The receiver node is specified by receiver_heads and receiver_input.\n",
        "    Example (for S-inhibition path patching the queries):\n",
        "        receiver_heads = [(8, 6), (8, 10), (7, 9), (7, 3)],\n",
        "        receiver_input = \"v\"\n",
        "\n",
        "    Returns:\n",
        "        tensor of metric values for every possible sender head\n",
        "    '''\n",
        "    pass"
      ]
    },
    {
      "cell_type": "code",
      "execution_count": null,
      "metadata": {
        "id": "ctPba3SUl6mZ"
      },
      "outputs": [],
      "source": [
        "model.reset_hooks()\n",
        "\n",
        "s_inhibition_value_path_patching_results = get_path_patch_head_to_heads(\n",
        "    receiver_heads = [(8, 6), (8, 10), (7, 9), (7, 3)],\n",
        "    receiver_input = \"v\",\n",
        "    model = model,\n",
        "    patching_metric = ioi_metric_2\n",
        ")"
      ]
    },
    {
      "cell_type": "code",
      "source": [
        "imshow(\n",
        "    100 * s_inhibition_value_path_patching_results,\n",
        "    title=\"Direct effect on S-Inhibition Heads' values\",\n",
        "    labels={\"x\": \"Head\", \"y\": \"Layer\", \"color\": \"Logit diff.<br>variation\"},\n",
        "    width=600,\n",
        "    coloraxis=dict(colorbar_ticksuffix = \"%\"),\n",
        ")"
      ],
      "metadata": {
        "id": "2Un6ybMLz1b8"
      },
      "execution_count": null,
      "outputs": []
    },
    {
      "cell_type": "markdown",
      "metadata": {
        "id": "c2CkwTpal6ma"
      },
      "source": [
        "<details>\n",
        "<summary>Question - what is the interpretation of this plot? </summary>\n",
        "\n",
        "This plot confirms our earlier observations, that the S-inhibition heads' value vectors are the ones which matter. But it does more, by confirming our hypothesis that the S-inhibition heads' value vectors are supplied to them primarily by the outputs of heads `0.1`, `3.0`, `5.5` and `6.9` (which are the heads found by the paper to be the two most important duplicate token heads and two most important induction heads respectively).\n",
        "</details>\n"
      ]
    },
    {
      "cell_type": "markdown",
      "metadata": {
        "id": "F1UOGXJhd2-N"
      },
      "source": [
        "# 5️⃣ Paper Replication\n"
      ]
    },
    {
      "cell_type": "markdown",
      "metadata": {
        "id": "h794Ng2Nd2-O"
      },
      "source": [
        "> ##### Learning objectives\n",
        ">\n",
        "> * Replicate most of the other results from the [IOI paper](https://arxiv.org/abs/2211.00593)\n",
        "> * Practice more open-ended, less guided coding\n",
        "\n",
        "This section will be a lot more open-ended and challenging. You'll be given less guidance in the exercises.\n"
      ]
    },
    {
      "cell_type": "markdown",
      "metadata": {
        "id": "pakAZTeBl6mW"
      },
      "source": [
        "## Copying & writing direction results\n"
      ]
    },
    {
      "cell_type": "markdown",
      "metadata": {
        "id": "9GBuJZ32d2-O"
      },
      "source": [
        "We'll start this section by replicating the paper's analysis of the **name mover heads** and **negative name mover heads**. Our previous analysis should have pretty much convinced us that these heads are copying / negatively copying our indirect object token, but the results here show this with a bit more rigour.\n"
      ]
    },
    {
      "cell_type": "markdown",
      "metadata": {
        "id": "xAf5sH-Wl6mX"
      },
      "source": [
        "### Exercise - replicate writing direction results\n",
        "\n",
        "```c\n",
        "Difficulty: 🔴🔴🔴🔴⚪\n",
        "Importance: 🔵🔵⚪⚪⚪\n",
        "\n",
        "You should spend up to 20-25 minutes on this exercise.\n",
        "\n",
        "These exercises are much more challenging than they are conceptually important.\n",
        "```\n",
        "\n",
        "Let's look at figure 3(c) from the paper. This plots the output of the strongest name mover and negative name mover heads against the attention probabilities for `END` attending to `IO` or `S` (color-coded).\n",
        "\n",
        "Some clarifications:\n",
        "* \"Projection\" here is being used synonymously with \"dot product\".\n",
        "* We're projecting onto the name embedding, i.e. the embedding vector for the token which is being paid attention to. This is not the same as the logit diff (which we got by projecting the heads' output onto the difference between the unembedding vectors for `IO` and `S`).\n",
        "    * We're doing this because the question we're trying to answer is *\"does the attention head copy (or anti-copy) the names which it pays attention to?\"*\n"
      ]
    },
    {
      "cell_type": "markdown",
      "metadata": {
        "id": "yDl1iyLYd2-O"
      },
      "source": [
        "\n",
        "You should write code to replicate the paper's results in the cells below. Given four 1D tensors storing the results for a particular head (i.e. the projections and attention probabilities, for the `IO` and `S` tokens respectively), we've given you code to generate a plot which looks like the one in the paper. Again, you'll know that your code has worked if you can get results that resemble those in the paper.\n"
      ]
    },
    {
      "cell_type": "code",
      "execution_count": null,
      "metadata": {
        "id": "NNva2keel6mX"
      },
      "outputs": [],
      "source": [
        "def scatter_embedding_vs_attn(\n",
        "    attn_from_end_to_io: Float[Tensor, \"batch\"],\n",
        "    attn_from_end_to_s: Float[Tensor, \"batch\"],\n",
        "    projection_in_io_dir: Float[Tensor, \"batch\"],\n",
        "    projection_in_s_dir: Float[Tensor, \"batch\"],\n",
        "    layer: int,\n",
        "    head: int\n",
        "):\n",
        "    scatter(\n",
        "        x=t.concat([attn_from_end_to_io, attn_from_end_to_s], dim=0),\n",
        "        y=t.concat([projection_in_io_dir, projection_in_s_dir], dim=0),\n",
        "        color=[\"IO\"] * N + [\"S\"] * N,\n",
        "        title=f\"Projection of the output of {layer}.{head} along the name<br>embedding vs attention probability on name\",\n",
        "        title_x=0.5,\n",
        "        labels={\"x\": \"Attn prob on name\", \"y\": \"Dot w Name Embed\", \"color\": \"Name type\"},\n",
        "        color_discrete_sequence=[\"#72FF64\", \"#C9A5F7\"],\n",
        "        width=650\n",
        "    )"
      ]
    },
    {
      "cell_type": "code",
      "execution_count": null,
      "metadata": {
        "id": "Vj0IxCXvl6mX"
      },
      "outputs": [],
      "source": [
        "def calculate_and_show_scatter_embedding_vs_attn(\n",
        "    layer: int,\n",
        "    head: int,\n",
        "    cache: ActivationCache = ioi_cache,\n",
        "    dataset: IOIDataset = ioi_dataset,\n",
        ") -> None:\n",
        "    '''\n",
        "    Creates and plots a figure equivalent to 3(c) in the paper.\n",
        "\n",
        "    This should involve computing the four 1D tensors:\n",
        "        attn_from_end_to_io\n",
        "        attn_from_end_to_s\n",
        "        projection_in_io_dir\n",
        "        projection_in_s_dir\n",
        "    and then calling the scatter_embedding_vs_attn function.\n",
        "    '''\n",
        "    pass\n",
        "\n",
        "nmh = (9, 9)\n",
        "calculate_and_show_scatter_embedding_vs_attn(*nmh)\n",
        "\n",
        "nnmh = (11, 10)\n",
        "calculate_and_show_scatter_embedding_vs_attn(*nnmh)"
      ]
    },
    {
      "cell_type": "markdown",
      "metadata": {
        "id": "qUsuG80Jl6mX"
      },
      "source": [
        "<details>\n",
        "<summary>Question - what is the interpretation of this plot in the paper?</summary>\n",
        "\n",
        "For head `9.9`, Both the `S` and `IO` tokens exhibit a positive correlation between their contribution to logit difference and the attention probability on their name. This suggests the head is just copying names it attends to from the name to the `END` token. We can see that it is paying more attention to the `IO` token and less on `S`, which is what we expect (thanks to Q-composition with the S-inhibition heads).\n",
        "\n",
        "The same is true for the negative name mover head `11.10`, only it works in the opposite direction (actively suppressing the logit score for the names it attends to). Note, it's important that we observe this negative correlation, because this shows us that the head really is anti-copying the `IO` token (rather than just copying the `S` token).\n",
        "</details>\n"
      ]
    },
    {
      "cell_type": "markdown",
      "metadata": {
        "id": "pl7SJ9Mkl6mY"
      },
      "source": [
        "### Exercise - replicate copying score results\n",
        "\n",
        "```c\n",
        "Difficulty: 🔴🔴🔴🔴🔴\n",
        "Importance: 🔵🔵⚪⚪⚪\n",
        "\n",
        "You should spend up to 30-40 minutes on this exercise.\n",
        "\n",
        "These exercises are much more challenging than they are conceptually important.\n",
        "```\n",
        "\n",
        "Now let's do a different kind of test of the name mover heads' copying, by looking directly at the OV circuits.\n",
        "\n",
        "From page 6 of the paper:\n",
        "\n",
        "> To check that the Name Mover Heads copy names generally, we studied what values are written via the heads’ OV matrix. Specifically, we first obtained the state of the residual stream at the position of each name token after the first MLP layer. Then, we multiplied this by the OV matrix of a Name Mover Head (simulating what would happen if the head attended perfectly to that token), multiplied by the unembedding matrix, and applied the final layer norm to obtain logit probabilities. We compute the proportion of samples that contain the input name token in the top 5 logits (N = 1000) and call this the copy score. All three Name Mover Heads have a copy score above 95%, compared to less than 20% for an average head.\n",
        ">\n",
        "> Negative Name Mover Heads ... have a large negative copy score–the copy score calculated with the negative of the OV matrix (98% compared to 12% for an average head).\n",
        "\n",
        "Note the similarity between their method and how we studied copying in induction heads, during an earlier set of exercises. However, there are differences (e.g. we're only looking at whether the head copies names, rather than whether it copies tokens in general).\n"
      ]
    },
    {
      "cell_type": "markdown",
      "metadata": {
        "id": "m9nfm6hXl6mY"
      },
      "source": [
        "You should replicate these results by completing the `get_copying_scores` function below.\n",
        "\n",
        "You could do this by indexing from the `ioi_cache`, but a much more principled alternative would be to embed all the names in the `NAMES` list and apply operations like MLPs, layernorms and OV matrices manually. This is what the solutions do.\n",
        "\n",
        "A few notes:\n",
        "\n",
        "* You can use `model.to_tokens` to convert the names to tokens. Remember to use `prepend_bos=False`, since you just want the tokens of names so you can embed them. Note that this function will treat the list of names as a batch of single-token inputs, which works fine for our purposes.\n",
        "* You can apply MLPs and layernorms as functions, by just indexing the model's blocks (e.g. use `model.blocks[i].mlp` or `model.blocks[j].ln1` as a function). Remember that `ln1` is the layernorm that comes before attention, and `ln2` comes before the MLP.\n",
        "* Remember that you need to apply MLP0 before you apply the OV matrix (which is why we omit the 0th layer in our scores). The reason for this is that ablating MLP0 has a strangely large effect in gpt2-small relative to ablating other MLPs, possibly because it's acting as an extended embedding (see [here](https://www.lesswrong.com/s/yivyHaCAmMJ3CqSyj/p/XNjRwEX9kxbpzWFWd#:~:text=GPT%2D2%20Small%E2%80%99s%20performance%20is%20ruined%20if%20you%20ablate%20MLP0) for an explanation).\n",
        "\n",
        "Also, you shouldn't expect to get exactly the same results as the paper (because some parts of this experiment have been set up very slightly different), although you probably shouldn't be off by more than 10%.\n"
      ]
    },
    {
      "cell_type": "code",
      "execution_count": null,
      "metadata": {
        "id": "bL0G4eUOl6mY"
      },
      "outputs": [],
      "source": [
        "def get_copying_scores(\n",
        "    model: HookedTransformer,\n",
        "    k: int = 5,\n",
        "    names: list = NAMES\n",
        ") -> Float[Tensor, \"2 layer-1 head\"]:\n",
        "    '''\n",
        "    Gets copying scores (both positive and negative) as described in page 6 of the IOI paper, for every (layer, head) pair in the model.\n",
        "\n",
        "    Returns these in a 3D tensor (the first dimension is for positive vs negative).\n",
        "    '''\n",
        "    pass"
      ]
    },
    {
      "cell_type": "code",
      "execution_count": null,
      "metadata": {
        "id": "lMlG2oN0d2-P"
      },
      "outputs": [],
      "source": [
        "copying_results = get_copying_scores(model)\n",
        "\n",
        "imshow(\n",
        "    copying_results,\n",
        "    facet_col=0,\n",
        "    facet_labels=[\"Positive copying scores\", \"Negative copying scores\"],\n",
        "    title=\"Copying scores of attention heads' OV circuits\",\n",
        "    width=800\n",
        ")"
      ]
    },
    {
      "cell_type": "code",
      "execution_count": null,
      "metadata": {
        "id": "TtzNwTMnl6mZ"
      },
      "outputs": [],
      "source": [
        "heads = {\"name mover\": [(9, 9), (10, 0), (9, 6)], \"negative name mover\": [(10, 7), (11, 10)]}\n",
        "\n",
        "for i, name in enumerate([\"name mover\", \"negative name mover\"]):\n",
        "    make_table(\n",
        "        title=f\"Copying Scores ({name} heads)\",\n",
        "        colnames=[\"Head\", \"Score\"],\n",
        "        cols=[\n",
        "            list(map(str, heads[name])) + [\"[dark_orange bold]Average\"],\n",
        "            [f\"{copying_results[i, layer-1, head]:.2%}\" for (layer, head) in heads[name]] + [f\"[dark_orange bold]{copying_results[i].mean():.2%}\"]\n",
        "        ]\n",
        "    )"
      ]
    },
    {
      "cell_type": "markdown",
      "metadata": {
        "id": "D5WIRcnsl6ma"
      },
      "source": [
        "## Validation of early heads\n"
      ]
    },
    {
      "cell_type": "markdown",
      "metadata": {
        "id": "i4F2rIg0l6ma"
      },
      "source": [
        "There are three different kinds of heads which appear early in the circuit, which can be validated by looking at their attention patterns on simple random sequences of tokens. Can you figure out which three types these are, and how to validate them in this way?\n",
        "\n",
        "<details>\n",
        "<summary>Answer</summary>\n",
        "\n",
        "Previous token heads, induction heads, and duplicate token heads.\n",
        "\n",
        "We can validate them all at the same time, using sequences of `n` random tokens followed by those same `n` random tokens repeated. This works as follows:\n",
        "\n",
        "* Prev token heads, by measuring the attention patterns with an offset of one (i.e. one below the diagonal).\n",
        "* Induction heads, by measuring the attention patterns with an offset of `n-1` (i.e. the second instance of a token paying attention to the token after its first instance).\n",
        "* Duplicate token heads, by measuring the attention patterns with an offset of `n` (i.e. a token paying attention to its previous instance).\n",
        "\n",
        "In all three cases, if heads score close to 1 on these metrics, it's strong evidence that they are working as this type of head.\n",
        "\n",
        "Note, it's a leaky abstraction to say things like \"head X is an induction head\", since we're only observing it on a certain distribution. For instance, it's not clear what the role of induction heads and duplicate token heads is when there are no duplicates (they could in theory do something completely different).\n",
        "</details>\n"
      ]
    },
    {
      "cell_type": "markdown",
      "metadata": {
        "id": "2apaT013l6ma"
      },
      "source": [
        "### Exercise - perform head validation\n",
        "\n",
        "```c\n",
        "Difficulty: 🔴🔴🔴⚪⚪\n",
        "Importance: 🔵🔵🔵⚪⚪\n",
        "\n",
        "You should spend up to 20-30 minutes on this exercise.\n",
        "\n",
        "Understanding how to identify certain types of heads by their characteristic attention patterns is important.\n",
        "```\n",
        "\n",
        "Once you've read the answer in the dropdown above, you should perform this validation. The result should be a replication of Figure 18 in the paper.\n",
        "\n",
        "We've provided a template for this function. Note use of `typing.Literal`, which is how we indicate that the argument should be one of the following options.\n",
        "\n",
        "We've also provided a helper function `generate_repeated_tokens` (which is similar to the one you used from exercise set 1.2, except that it has no start token, to match the paper), and a helper function `plot_early_head_validation_results` which calls the `get_attn_scores` function and plots the results (in a way which should look like Figure 18). So it's just the `get_attn_scores` function that you need to fill in."
      ]
    },
    {
      "cell_type": "code",
      "execution_count": null,
      "metadata": {
        "id": "P60AH-cHl6ma"
      },
      "outputs": [],
      "source": [
        "def generate_repeated_tokens(\n",
        "    model: HookedTransformer,\n",
        "    seq_len: int,\n",
        "    batch: int = 1\n",
        ") -> Float[Tensor, \"batch 2*seq_len\"]:\n",
        "    '''\n",
        "    Generates a sequence of repeated random tokens (no start token).\n",
        "    '''\n",
        "    rep_tokens_half = t.randint(0, model.cfg.d_vocab, (batch, seq_len), dtype=t.int64)\n",
        "    rep_tokens = t.cat([rep_tokens_half, rep_tokens_half], dim=-1).to(device)\n",
        "    return rep_tokens\n",
        "\n",
        "\n",
        "def get_attn_scores(\n",
        "    model: HookedTransformer,\n",
        "    seq_len: int,\n",
        "    batch: int,\n",
        "    head_type: Literal[\"duplicate\", \"prev\", \"induction\"]\n",
        ") -> Float[Tensor, \"n_layers n_heads\"]:\n",
        "    '''\n",
        "    Returns attention scores for sequence of duplicated tokens, for every head.\n",
        "    '''\n",
        "    pass\n",
        "\n",
        "\n",
        "def plot_early_head_validation_results(seq_len: int = 50, batch: int = 50):\n",
        "    '''\n",
        "    Produces a plot that looks like Figure 18 in the paper.\n",
        "    '''\n",
        "    head_types = [\"duplicate\", \"prev\", \"induction\"]\n",
        "\n",
        "    results = t.stack([\n",
        "        get_attn_scores(model, seq_len, batch, head_type=head_type)\n",
        "        for head_type in head_types\n",
        "    ])\n",
        "\n",
        "    imshow(\n",
        "        results,\n",
        "        facet_col=0,\n",
        "        facet_labels=[\n",
        "            f\"{head_type.capitalize()} token attention prob.<br>on sequences of random tokens\"\n",
        "            for head_type in head_types\n",
        "        ],\n",
        "        labels={\"x\": \"Head\", \"y\": \"Layer\"},\n",
        "        width=1300,\n",
        "    )"
      ]
    },
    {
      "cell_type": "code",
      "source": [
        "model.reset_hooks()\n",
        "plot_early_head_validation_results()"
      ],
      "metadata": {
        "id": "B5hbC1PHz8KH"
      },
      "execution_count": null,
      "outputs": []
    },
    {
      "cell_type": "markdown",
      "metadata": {
        "id": "WUnpI9rkl6ma"
      },
      "source": [
        "Note - these figures suggest that it would be a useful bit of infrastructure to have a \"wiki\" for the heads of a model, giving their scores according to some metrics re head functions, like the ones we've seen here. HookedTransformer makes this pretty easy to make, as just changing the name input to `HookedTransformer.from_pretrained` gives a different model but in the same architecture, so the same code should work. If you want to make this, I'd love to see it!\n",
        "\n",
        "As a proof of concept, [I made a mosaic of all induction heads across the 40 models then in HookedTransformer](https://www.neelnanda.io/mosaic).\n"
      ]
    },
    {
      "cell_type": "markdown",
      "metadata": {
        "id": "jHjUFdAPl6ma"
      },
      "source": [
        "## Minimal Circuit\n"
      ]
    },
    {
      "cell_type": "markdown",
      "metadata": {
        "id": "8u-Hylosl6ma"
      },
      "source": [
        "### Background: faithfulness, completeness, and minimality\n"
      ]
    },
    {
      "cell_type": "markdown",
      "metadata": {
        "id": "Lt1AGm5El6mb"
      },
      "source": [
        "The authors developed three criteria for validating their circuit explanations: faithfulness, completeness and minimality. They are defined as follows:\n",
        "\n",
        "* **Faithful** = the circuit can perform as well as the whole model\n",
        "* **Complete** = the circuit contains all nodes used to perform the task\n",
        "* **Minimal** = the circuit doesn't contain nodes irrelevant to the task\n",
        "\n",
        "If all three criteria are met, then the circuit is considered a reliable explanation for model behaviour.\n",
        "\n",
        "Exercise - can you understand why each of these criteria is important? For each pair of criteria, is it possible for a circuit to meet them both but fail the third (and if yes, can you give examples?).\n",
        "\n",
        "<details>\n",
        "<summary>Answer</summary>\n",
        "\n",
        "The naive circuit (containing the entire model) is trivially faithful and complete, but obviously not minimal. In general, the problem with non-minimal circuits is that they may not be mechanistically understandable, which defeats the purpose of this kind of circuit analysis.\n",
        "\n",
        "Completeness obviously implies faithfulness, because if a node isn't involved in the task, then it can't improve the model's performance on that task.\n",
        "\n",
        "You might initially think faithfulness implies completeness, but this actually isn't true. Backup name mover heads illustrate this point. They are used in the task, and without understanding the role they play you'll have an incorrect model of reality (e.g. you'll think ablating the name mover heads would destroy performance, which turns out not to be true). So if you define a circuit that doesn't contain backup name mover heads then it will be faithful (the backup name mover heads won't be used) but not complete.\n",
        "\n",
        "Summary:\n",
        "\n",
        "* **Faithful & complete, not minimal** = possible (example: naive circuit)\n",
        "* **Faithful & minimal, not complete** = possible (example: circuit missing backup name mover heads)\n",
        "* **Complete & minimal, not faithful** = impossible (since completeness implies faithfulness)\n",
        "\n",
        "In the paper, the authors formalise these concepts. Faithfulness is equivalent to $|F(C) - F(M)|$ being small (where $C$ is our circuit, $M$ is the model, and $F$ is our performance metric function), and completeness is equivalent to $|F(C\\backslash K) - F(M\\backslash K)|$ being small **for any subset $K \\subset C$** (including when $K$ is the empty set, showing that completeness implies faithfulness). Can you see how our circuit missing backup name mover heads violates this condition?\n",
        "\n",
        "<details>\n",
        "<summary>Answer</summary>\n",
        "\n",
        "It violates the condition when $K$ is the set of name mover heads. $C \\backslash K$ performs worse than $M \\backslash K$, because the latter contains backup name mover heads while the former has lost its name mover heads ***and*** backup name mover heads.\n",
        "</details>\n",
        "</details>\n"
      ]
    },
    {
      "cell_type": "markdown",
      "metadata": {
        "id": "rtWMTIq2l6mb"
      },
      "source": [
        "Now that we've analysed most components of the circuit and we have a rough idea of how they work, the next step is to ablate everything except those core components and verify that the model still performs well.\n",
        "\n",
        "This ablation is pretty massive - we're ablating everything except for the output of each of our key attention heads (e.g. duplicate token heads or S-inhibition heads) at a single sequence position (e.g. for the DTHs this is the `S2` token, and for SIHs this is the `end` token). Given that our core circuit has 26 heads in total, and our sequences have length around 20 on average, this means we're ablating all but $(26 / 144) / 20 \\approx 1\\%$ of our attention heads' output (and the number of possible paths through the model is reduced by ***much*** more than this).\n"
      ]
    },
    {
      "cell_type": "markdown",
      "metadata": {
        "id": "I6cZaIs_l6mb"
      },
      "source": [
        "How do we ablate? We could use zero-ablation, but this actually has some non-obvious problems. To explain why intuitively, heads might be \"expecting\" non-zero input, and setting the input to zero is essentially an arbitrary choice which takes it off distribution. You can think of this as adding a bias term to this head, which might mess up subsequent computation and lead to noisy results. We could also use mean-ablation (i.e. set a head's output to its average output over `ioi_dataset`), but the problem here is that taking the mean over this dataset might contain relevant information for solving the IOI task. For example the `is_duplicated` flag which gets written to `S2` will be present for all sequences, so averaging won't remove this information.\n",
        "\n",
        "Can you think of a way to solve this problem? After you've considered this, you can use the dropdown below to see how the authors handled this.\n",
        "\n",
        "<details>\n",
        "<summary>Answer</summary>\n",
        "\n",
        "We ablate with the mean of the ABC dataset rather than the IOI dataset. This removes the problem of averages still containing relevant information from solving the IOI task.\n",
        "\n",
        "</details>\n",
        "\n",
        "One other complication - the sentences have different templates, and the positions of tokens like `S` and `IO` are not consistent across these templates (we avoided this problem in previous exercises by choosing a very small set of sentences, where all the important tokens had the same indices). An example of two templates with different positions:\n",
        "\n",
        "```\n",
        "\"Then, [B] and [A] had a long argument and after that [B] said to [A]\"\n",
        "\"After the lunch [B] and [A] went to the [PLACE], and [B] gave a [OBJECT] to [A]\"\n",
        "```\n",
        "\n",
        "Can you guess what the authors did to solve this problem?\n",
        "\n",
        "<details>\n",
        "<summary>Answer</summary>\n",
        "\n",
        "They took the mean over each template rather than over the whole dataset, and used these values to ablate with.\n",
        "\n",
        "In other words, when they performed ablation by patching in the output of a head (which has shape `(batch, seq, d_model)`), the value patched into the `(i, j, k)`-th element of this tensor would be the average value of the `k`-th element of the vector at sequence position `j`, for all sentences with the same template as the `i`-th sentence in the batch.\n",
        "</details>\n"
      ]
    },
    {
      "cell_type": "markdown",
      "metadata": {
        "id": "l3GVn5U4l6mb"
      },
      "source": [
        "### Exercise - constructing the minimal circuit\n",
        "\n",
        "```c\n",
        "Difficulty: 🔴🔴🔴🔴🔴\n",
        "Importance: 🔵🔵⚪⚪⚪\n",
        "\n",
        "This exercise is expected to take a long time; at least an hour. It is probably the most challenging exercise in this notebook.\n",
        "```\n"
      ]
    },
    {
      "cell_type": "markdown",
      "metadata": {
        "id": "4l66t1All6mb"
      },
      "source": [
        "You now have enough information to perform ablation on your model, to get the minimal circuit. Below, you can try to implement this yourself.\n",
        "\n",
        "This exercise is very technically challenging, so you're welcome to skip it if it doesn't seem interesting to you. However, I recommend you have a read of the solution, to understand the rough contours of how this ablation works.\n",
        "\n",
        "If you want to attempt this task, then you can start with the code below. We define two dictionaries, one mapping head types to the heads in the model which are of that type, and the other mapping head types to the sequence positions which we *won't* be ablating for those types of head.\n"
      ]
    },
    {
      "cell_type": "code",
      "execution_count": null,
      "metadata": {
        "id": "u62uyeczl6mb"
      },
      "outputs": [],
      "source": [
        "CIRCUIT = {\n",
        "    \"name mover\": [(9, 9), (10, 0), (9, 6)],\n",
        "    \"backup name mover\": [(10, 10), (10, 6), (10, 2), (10, 1), (11, 2), (9, 7), (9, 0), (11, 9)],\n",
        "    \"negative name mover\": [(10, 7), (11, 10)],\n",
        "    \"s2 inhibition\": [(7, 3), (7, 9), (8, 6), (8, 10)],\n",
        "    \"induction\": [(5, 5), (5, 8), (5, 9), (6, 9)],\n",
        "    \"duplicate token\": [(0, 1), (0, 10), (3, 0)],\n",
        "    \"previous token\": [(2, 2), (4, 11)],\n",
        "}\n",
        "\n",
        "SEQ_POS_TO_KEEP = {\n",
        "    \"name mover\": \"end\",\n",
        "    \"backup name mover\": \"end\",\n",
        "    \"negative name mover\": \"end\",\n",
        "    \"s2 inhibition\": \"end\",\n",
        "    \"induction\": \"S2\",\n",
        "    \"duplicate token\": \"S2\",\n",
        "    \"previous token\": \"S1+1\",\n",
        "}"
      ]
    },
    {
      "cell_type": "markdown",
      "metadata": {
        "id": "JQcQU9yql6mb"
      },
      "source": [
        "To be clear, the things that we'll be mean-ablating are:\n",
        "\n",
        "* Every head not in the `CIRCUIT` dict\n",
        "* Every sequence position for the heads in `CIRCUIT` dict, except for the sequence positions given by the `SEQ_POS_TO_KEEP` dict\n",
        "\n",
        "And we'll be mean-ablating by replacing a head's output with the mean output for `abc_dataset`, over all sentences with the same template as the sentence in the batch. You can access the templates for a dataset using the `dataset.groups` attribute, which returns a list of tensors (each one containing the indices of sequences in the batch sharing the same template).\n"
      ]
    },
    {
      "cell_type": "markdown",
      "metadata": {
        "id": "MC1f4hfol6mb"
      },
      "source": [
        "Now, you can try and complete the following function, which should add a ***permanent hook*** to perform this ablation whenever the model is run on the `ioi_dataset` (note that this hook will only make sense if the model is run on this dataset, so we should reset hooks if we run it on a different dataset).\n",
        "\n",
        "Permanent hooks are a useful feature of transformerlens. They behave just like regular hooks, except they aren't removed when you run the model (e.g. using `model.run_with_cache` or `model.run_with_hooks`). The only way to remove them is with:\n",
        "\n",
        "```python\n",
        "model.reset_hooks(including_permanent=True)\n",
        "```\n",
        "\n",
        "You can add permanent hooks as follows:\n",
        "\n",
        "```python\n",
        "model.add_hook(hook_name, hook_fn, is_permanent=True)\n",
        "```\n",
        "\n",
        "where `hook_name` can be a string or a filter function mapping strings to booleans.\n"
      ]
    },
    {
      "cell_type": "code",
      "execution_count": null,
      "metadata": {
        "id": "yv6QEwDIl6mc"
      },
      "outputs": [],
      "source": [
        "def add_mean_ablation_hook(\n",
        "    model: HookedTransformer,\n",
        "    means_dataset: IOIDataset,\n",
        "    circuit: Dict[str, List[Tuple[int, int]]] = CIRCUIT,\n",
        "    seq_pos_to_keep: Dict[str, str] = SEQ_POS_TO_KEEP,\n",
        "    is_permanent: bool = True,\n",
        ") -> HookedTransformer:\n",
        "    '''\n",
        "    Adds a permanent hook to the model, which ablates according to the circuit and\n",
        "    seq_pos_to_keep dictionaries.\n",
        "\n",
        "    In other words, when the model is run on ioi_dataset, every head's output will\n",
        "    be replaced with the mean over means_dataset for sequences with the same template,\n",
        "    except for a subset of heads and sequence positions as specified by the circuit\n",
        "    and seq_pos_to_keep dicts.\n",
        "    '''\n",
        "    pass"
      ]
    },
    {
      "cell_type": "markdown",
      "metadata": {
        "id": "GVA_vXMZl6mc"
      },
      "source": [
        "To test whether your function works, you can use the function provided to you, and see if the logit difference from your implementation of the circuit matches this one:\n"
      ]
    },
    {
      "cell_type": "code",
      "execution_count": null,
      "metadata": {
        "id": "UFsbKB4dl6mc"
      },
      "outputs": [],
      "source": [
        "import part3_indirect_object_identification.ioi_circuit_extraction as ioi_circuit_extraction\n",
        "\n",
        "model = ioi_circuit_extraction.add_mean_ablation_hook(model, means_dataset=abc_dataset, circuit=CIRCUIT, seq_pos_to_keep=SEQ_POS_TO_KEEP)\n",
        "\n",
        "ioi_logits_minimal = model(ioi_dataset.toks)\n",
        "\n",
        "print(f\"Average logit difference (IOI dataset, using entire model): {logits_to_ave_logit_diff_2(ioi_logits_original):.4f}\")\n",
        "print(f\"Average logit difference (IOI dataset, only using circuit): {logits_to_ave_logit_diff_2(ioi_logits_minimal):.4f}\")"
      ]
    },
    {
      "cell_type": "code",
      "execution_count": null,
      "metadata": {
        "id": "MZ7NcY9nl6mc"
      },
      "outputs": [],
      "source": [
        "model = add_mean_ablation_hook(model, means_dataset=abc_dataset, circuit=CIRCUIT, seq_pos_to_keep=SEQ_POS_TO_KEEP)\n",
        "\n",
        "ioi_logits_minimal = model(ioi_dataset.toks)\n",
        "\n",
        "print(f\"Average logit difference (IOI dataset, using entire model): {logits_to_ave_logit_diff_2(ioi_logits_original):.4f}\")\n",
        "print(f\"Average logit difference (IOI dataset, only using circuit): {logits_to_ave_logit_diff_2(ioi_logits_minimal):.4f}\")"
      ]
    },
    {
      "cell_type": "markdown",
      "metadata": {
        "id": "W-j5mK09l6mc"
      },
      "source": [
        "You should find that the logit difference only drops by a small amount, and is still high enough to represent a high likelihood ratio favouring the IO token over S.\n"
      ]
    },
    {
      "cell_type": "markdown",
      "metadata": {
        "id": "EY4-iNNfl6mc"
      },
      "source": [
        "<details>\n",
        "<summary>Hint (docstrings of some functions which will be useful for your main function)</summary>\n",
        "\n",
        "```python\n",
        "def compute_means_by_template(\n",
        "    means_dataset: IOIDataset,\n",
        "    model: HookedTransformer\n",
        ") -> Float[Tensor, \"layer batch seq head_idx d_head\"]:\n",
        "    '''\n",
        "    Returns the mean of each head's output over the means dataset. This mean is\n",
        "    computed separately for each group of prompts with the same template (these\n",
        "    are given by means_dataset.groups).\n",
        "    '''\n",
        "    pass\n",
        "\n",
        "\n",
        "def get_heads_and_posns_to_keep(\n",
        "    means_dataset: IOIDataset,\n",
        "    model: HookedTransformer,\n",
        "    circuit: Dict[str, List[Tuple[int, int]]],\n",
        "    seq_pos_to_keep: Dict[str, str],\n",
        ") -> Dict[int, Bool[Tensor, \"batch seq head\"]]:\n",
        "    '''\n",
        "    Returns a dictionary mapping layers to a boolean mask giving the indices of the\n",
        "    z output which *shouldn't* be mean-ablated.\n",
        "\n",
        "    The output of this function will be used for the hook function that does ablation.\n",
        "    '''\n",
        "    pass\n",
        "\n",
        "\n",
        "def hook_fn_mask_z(\n",
        "    z: Float[Tensor, \"batch seq head d_head\"],\n",
        "    hook: HookPoint,\n",
        "    heads_and_posns_to_keep: Dict[int, Bool[Tensor, \"batch seq head\"]],\n",
        "    means: Float[Tensor, \"layer batch seq head d_head\"],\n",
        ") -> Float[Tensor, \"batch seq head d_head\"]:\n",
        "    '''\n",
        "    Hook function which masks the z output of a transformer head.\n",
        "\n",
        "    heads_and_posns_to_keep\n",
        "        Dict created with the get_heads_and_posns_to_keep function. This tells\n",
        "        us where to mask.\n",
        "\n",
        "    means\n",
        "        Tensor of mean z values of the means_dataset over each group of prompts\n",
        "        with the same template. This tells us what values to mask with.\n",
        "    '''\n",
        "    pass\n",
        "```\n",
        "\n",
        "Once you fill in these three functions, completing the main function is simple. It should:\n",
        "\n",
        "* Use `compute_means_by_template` to get the means\n",
        "* Use `get_heads_and_posns_to_keep` to get the boolean mask\n",
        "* Apply `functools.partial` to `hook_fn_mask_z`, using the outputs of the 2 previous functions, to get your hook function which performs the mean ablation\n",
        "* Add this hook function to your model, as a permanent hook\n",
        "\n",
        "</details>\n",
        "\n",
        "\n"
      ]
    },
    {
      "cell_type": "markdown",
      "metadata": {
        "id": "b7H4z00sd2-S"
      },
      "source": [
        "### Exercise - calculate minimality scores\n",
        "\n",
        "```c\n",
        "Difficulty: 🔴🔴🔴🔴🔴\n",
        "Importance: 🔵🔵⚪⚪⚪\n",
        "\n",
        "This exercise is expected to take a long time; at least an hour. It is probably the second most challenging exercise in this notebook.\n",
        "```\n"
      ]
    },
    {
      "cell_type": "markdown",
      "metadata": {
        "id": "i0PKTnM3l6mc"
      },
      "source": [
        "We'll conclude this section by replicating figure 7 of the paper, which shows the minimality scores for the model.\n",
        "\n",
        "Again, this exercise is very challenging and is designed to be done with minimal guidance. You will need to read the relevant sections of the paper which explain this plot: section 4 (experimental validation), from the start up to the end of section 4.2. Note that you won't need to perform the sampling algorithm described on page 10, because we're giving you the set $K$ for each component, in the form of the dictionary below (this is based on the information given in figure 20 of the paper, the \"minimality sets\" table).\n"
      ]
    },
    {
      "cell_type": "code",
      "execution_count": null,
      "metadata": {
        "id": "EeJqsHNkl6mc"
      },
      "outputs": [],
      "source": [
        "K_FOR_EACH_COMPONENT = {\n",
        "    (9, 9): set(),\n",
        "    (10, 0): {(9, 9)},\n",
        "    (9, 6): {(9, 9), (10, 0)},\n",
        "    (10, 7): {(11, 10)},\n",
        "    (11, 10): {(10, 7)},\n",
        "    (8, 10): {(7, 9), (8, 6), (7, 3)},\n",
        "    (7, 9): {(8, 10), (8, 6), (7, 3)},\n",
        "    (8, 6): {(7, 9), (8, 10), (7, 3)},\n",
        "    (7, 3): {(7, 9), (8, 10), (8, 6)},\n",
        "    (5, 5): {(5, 9), (6, 9), (5, 8)},\n",
        "    (5, 9): {(11, 10), (10, 7)},\n",
        "    (6, 9): {(5, 9), (5, 5), (5, 8)},\n",
        "    (5, 8): {(11, 10), (10, 7)},\n",
        "    (0, 1): {(0, 10), (3, 0)},\n",
        "    (0, 10): {(0, 1), (3, 0)},\n",
        "    (3, 0): {(0, 1), (0, 10)},\n",
        "    (4, 11): {(2, 2)},\n",
        "    (2, 2): {(4, 11)},\n",
        "    (11, 2): {(9, 9), (10, 0), (9, 6)},\n",
        "    (10, 6): {(9, 9), (10, 0), (9, 6), (11, 2)},\n",
        "    (10, 10): {(9, 9), (10, 0), (9, 6), (11, 2), (10, 6)},\n",
        "    (10, 2): {(9, 9), (10, 0), (9, 6), (11, 2), (10, 6), (10, 10)},\n",
        "    (9, 7): {(9, 9), (10, 0), (9, 6), (11, 2), (10, 6), (10, 10), (10, 2)},\n",
        "    (10, 1): {(9, 9), (10, 0), (9, 6), (11, 2), (10, 6), (10, 10), (10, 2), (9, 7)},\n",
        "    (11, 9): {(9, 9), (10, 0), (9, 6), (9, 0)},\n",
        "    (9, 0): {(9, 9), (10, 0), (9, 6), (11, 9)},\n",
        "}"
      ]
    },
    {
      "cell_type": "markdown",
      "metadata": {
        "id": "VUkJGJjrl6md"
      },
      "source": [
        "Also, given a dictionary `minimality_scores` (which maps heads to their scores), the following code will produce a plot that looks like the one from the paper:\n"
      ]
    },
    {
      "cell_type": "code",
      "execution_count": null,
      "metadata": {
        "id": "exCDYsTAl6md"
      },
      "outputs": [],
      "source": [
        "def plot_minimal_set_results(minimality_scores: Dict[Tuple[int, int], float]):\n",
        "    '''\n",
        "    Plots the minimality results, in a way resembling figure 7 in the paper.\n",
        "\n",
        "    minimality_scores:\n",
        "        Dict with elements like (9, 9): minimality score for head 9.9 (as described\n",
        "        in section 4.2 of the paper)\n",
        "    '''\n",
        "\n",
        "    CIRCUIT_reversed = {head: k for k, v in CIRCUIT.items() for head in v}\n",
        "    colors = [CIRCUIT_reversed[head].capitalize() + \" head\" for head in minimality_scores.keys()]\n",
        "    color_sequence = [px.colors.qualitative.Dark2[i] for i in [0, 1, 2, 5, 3, 6]] + [\"#BAEA84\"]\n",
        "\n",
        "    bar(\n",
        "        list(minimality_scores.values()),\n",
        "        x=list(map(str, minimality_scores.keys())),\n",
        "        labels={\"x\": \"Attention head\", \"y\": \"Change in logit diff\", \"color\": \"Head type\"},\n",
        "        color=colors,\n",
        "        template=\"ggplot2\",\n",
        "        color_discrete_sequence=color_sequence,\n",
        "        bargap=0.02,\n",
        "        yaxis_tickformat=\".0%\",\n",
        "        legend_title_text=\"\",\n",
        "        title=\"Plot of minimality scores (as percentages of full model logit diff)\",\n",
        "        width=800,\n",
        "        hovermode=\"x unified\"\n",
        "    )"
      ]
    },
    {
      "cell_type": "code",
      "execution_count": null,
      "metadata": {
        "id": "LuEjfL1sl6md"
      },
      "outputs": [],
      "source": [
        "# YOUR CODE HERE - define the `minimality_scores` dictionary, to be used in the plot function given above"
      ]
    },
    {
      "cell_type": "code",
      "execution_count": null,
      "metadata": {
        "id": "5W_CThdxtQiv"
      },
      "outputs": [],
      "source": [
        "plot_minimal_set_results(minimality_scores)"
      ]
    },
    {
      "cell_type": "markdown",
      "metadata": {
        "id": "0zJFlcmUl6md"
      },
      "source": [
        "<details>\n",
        "<summary>Hint (docstrings of some functions which will be useful for your main function)</summary>\n",
        "\n",
        "```python\n",
        "def get_score(\n",
        "    model: HookedTransformer,\n",
        "    ioi_dataset: IOIDataset,\n",
        "    abc_dataset: IOIDataset,\n",
        "    K: Set[Tuple[int, int]],\n",
        "    C: Dict[str, List[Tuple[int, int]]],\n",
        ") -> float:\n",
        "    '''\n",
        "    Returns the value F(C \\ K), where F is the logit diff, C is the\n",
        "    core circuit, and K is the set of circuit components to remove.\n",
        "    '''\n",
        "    pass\n",
        "\n",
        "\n",
        "def get_minimality_score(\n",
        "    model: HookedTransformer,\n",
        "    ioi_dataset: IOIDataset,\n",
        "    abc_dataset: IOIDataset,\n",
        "    v: Tuple[int, int],\n",
        "    K: Set[Tuple[int, int]],\n",
        "    C: Dict[str, List[Tuple[int, int]]] = CIRCUIT,\n",
        ") -> float:\n",
        "    '''\n",
        "    Returns the value | F(C \\ K_union_v) - F(C | K) |, where F is\n",
        "    the logit diff, C is the core circuit, K is the set of circuit\n",
        "    components to remove, and v is a head (not in K).\n",
        "    '''\n",
        "    pass\n",
        "\n",
        "\n",
        "def get_all_minimality_scores(\n",
        "    model: HookedTransformer,\n",
        "    ioi_dataset: IOIDataset = ioi_dataset,\n",
        "    abc_dataset: IOIDataset = abc_dataset,\n",
        "    k_for_each_component: Dict = K_FOR_EACH_COMPONENT\n",
        ") -> Dict[Tuple[int, int], float]:\n",
        "    '''\n",
        "    Returns dict of minimality scores for every head in the model (as\n",
        "    a fraction of F(M), the logit diff of the full model).\n",
        "\n",
        "    Warning - this resets all hooks at the end (including permanent).\n",
        "    '''\n",
        "    pass\n",
        "\n",
        "\n",
        "minimality_scores = get_all_minimality_scores(model)\n",
        "\n",
        "plot_minimal_set_results(minimality_scores)\n",
        "```\n",
        "\n",
        "The output of the third function can be plotted using the plotting function given above.\n",
        "\n",
        "</details>"
      ]
    },
    {
      "cell_type": "markdown",
      "metadata": {
        "id": "kXPKB6Uil6md"
      },
      "source": [
        "Note - your results won't be exactly the same as the paper's, because of random error (e.g. the order of importanc of heads within each category might not be the same, especially heads with a small effect on the model like the backup name mover heads). But they should be reasonably similar in their important features.\n"
      ]
    },
    {
      "cell_type": "markdown",
      "metadata": {
        "id": "fMHnae9xl6md"
      },
      "source": [
        "# 6️⃣ Bonus / exploring anomalies\n"
      ]
    },
    {
      "cell_type": "markdown",
      "metadata": {
        "id": "ge59xOkhd2-T"
      },
      "source": [
        "> ##### Learning objectives\n",
        ">\n",
        "> * Explore other parts of the model (e.g. negative name mover heads, and induction heads)\n",
        "> * Understand the subtleties present in model circuits, and the fact that there are often more parts to a circuit than seem obvious after initial investigation\n",
        "> * Understand the importance of the three quantitative criteria used by the paper: **faithfulness**, **completeness** and **minimality**\n"
      ]
    },
    {
      "cell_type": "markdown",
      "metadata": {
        "id": "a_GU1K_9l6md"
      },
      "source": [
        "Here, you'll explore some weirder parts of the circuit which we haven't looked at in detail yet. Specifically, there are three parts to explore:\n",
        "\n",
        "* Early induction heads\n",
        "* Backup name mover heads\n",
        "* Positional vs token information being moved\n",
        "\n",
        "These three sections are all optional, and you can do as many of them as you want (in whichever order you prefer). There will also be some further directions of investigation at the end of this section, which have been suggested either by the authors or by Neel.\n"
      ]
    },
    {
      "cell_type": "markdown",
      "metadata": {
        "id": "J6-zWs1hl6md"
      },
      "source": [
        "## Early induction heads\n"
      ]
    },
    {
      "cell_type": "markdown",
      "metadata": {
        "id": "y76qR7d4l6md"
      },
      "source": [
        "As we've discussed, a really weird observation is that some of the early heads detecting duplicated tokens are induction heads, not just direct duplicate token heads. This is very weird! What's up with that?\n"
      ]
    },
    {
      "cell_type": "markdown",
      "metadata": {
        "id": "czXZXzMVl6me"
      },
      "source": [
        "First off, let's just recap what induction heads are. An induction head is an important type of attention head that can detect and continue repeated sequences. It is the second head in a two head induction circuit, which looks for previous copies of the current token and attends to the token *after* it, and then copies that to the current position and predicts that it will come next. They're enough of a big deal that [Anthropic wrote a whole paper on them](https://transformer-circuits.pub/2022/in-context-learning-and-induction-heads/index.html).\n",
        "\n",
        "The diagram below shows a diagram for how they work to predict that the token `\"urs\"` follows `\" D\"`, the second time the word `\"Dursley\"` appears (note that we assume the model has not been trained on Harry Potter, so this is an example of in-context learning).\n",
        "\n",
        "<img src=\"https://raw.githubusercontent.com/callummcdougall/computational-thread-art/master/example_images/misc/ih-simple.png\" width=\"650\">\n"
      ]
    },
    {
      "cell_type": "markdown",
      "metadata": {
        "id": "zD-gnGdml6me"
      },
      "source": [
        "Why is it surprising that induction heads up here? It's surprising because it feels like overkill. The model doesn't care about *what* token comes after the first copy of the subject, just that it's duplicated. And it already has simpler duplicate token heads. My best guess is that it just already had induction heads around and that, in addition to their main function, they *also* only activate on duplicated tokens. So it was useful to repurpose this existing machinery.\n",
        "\n",
        "This suggests that as we look for circuits in larger models life may get more and more complicated, as components in simpler circuits get repurposed and built upon.\n"
      ]
    },
    {
      "cell_type": "markdown",
      "metadata": {
        "id": "ROzMGTZRl6me"
      },
      "source": [
        "First, in the cell below, you should visualise the attention patterns of the induction heads (`5.5` and `6.9`) on sequences containg repeated tokens, and verify that they are attending to the token *after* the previous instance of that same token. You might want to repeat code you wrote in the \"Validation of duplicate token heads\" section.\n"
      ]
    },
    {
      "cell_type": "code",
      "execution_count": null,
      "metadata": {
        "id": "pFBG5Cq_l6me"
      },
      "outputs": [],
      "source": [
        "model.reset_hooks(including_permanent=True)\n",
        "\n",
        "attn_heads = [(5, 5), (6, 9)]\n",
        "\n",
        "# Get repeating sequences (note we could also take mean over larger batch)\n",
        "batch = 1\n",
        "seq_len = 15\n",
        "rep_tokens = generate_repeated_tokens(model, seq_len, batch)\n",
        "\n",
        "# Run cache (we only need attention patterns for layers 5 and 6)\n",
        "_, cache = model.run_with_cache(\n",
        "    rep_tokens,\n",
        "    return_type = None,\n",
        "    names_filter = lambda name: name.endswith(\"pattern\") and any(f\".{layer}.\" in name for layer, head in attn_heads)\n",
        ")\n",
        "\n",
        "# Display results\n",
        "attn = t.stack([\n",
        "    cache[\"pattern\", layer][0, head]\n",
        "    for (layer, head) in attn_heads\n",
        "])\n",
        "cv.attention.attention_patterns(\n",
        "    tokens = model.to_str_tokens(rep_tokens[0]),\n",
        "    attention = attn,\n",
        "    attention_head_names = [f\"{layer}.{head}\" for (layer, head) in attn_heads]\n",
        ")"
      ]
    },
    {
      "cell_type": "markdown",
      "metadata": {
        "id": "WaH4OYFXl6me"
      },
      "source": [
        "One implication of this is that it's useful to categories heads according to whether they occur in simpler circuits, so that as we look for more complex circuits we can easily look for them. This is Hooked to do here! An interesting fact about induction heads is that they work on a sequence of repeated random tokens - notable for being wildly off distribution from the natural language GPT-2 was trained on. Being able to predict a model's behaviour off distribution is a good mark of success for mechanistic interpretability! This is a good sanity check for whether a head is an induction head or not.\n",
        "\n",
        "We can characterise an induction head by just giving a sequence of random tokens repeated once, and measuring the average attention paid from the second copy of a token to the token after the first copy. At the same time, we can also measure the average attention paid from the second copy of a token to the first copy of the token, which is the attention that the induction head would pay if it were a duplicate token head, and the average attention paid to the previous token to find previous token heads.\n",
        "\n",
        "Note that this is a superficial study of whether something is an induction head - we totally ignore the question of whether it actually does boost the correct token or whether it composes with a single previous head and how. In particular, we sometimes get anti-induction heads which suppress the induction-y token (no clue why!), and this technique will find those too.\n"
      ]
    },
    {
      "cell_type": "markdown",
      "metadata": {
        "id": "Lef_r1BWl6me"
      },
      "source": [
        "### Exercise - validate prev token heads via patching\n",
        "\n",
        "```c\n",
        "Difficulty: 🔴🔴⚪⚪⚪\n",
        "Importance: 🔵🔵⚪⚪⚪\n",
        "\n",
        "This just involves performing a specific kind of patching, with functions you've already written.\n",
        "```\n",
        "\n",
        "The paper mentions that heads `2.2` and `4.11` are previous token heads. Hopefully you already validated this in the previous section by plotting the previous token scores (in your replication of Figure 18). But this time, you'll perform a particular kind of path patching to prove that these heads are functioning as previous token heads, in the way implied by our circuit diagram.\n",
        "\n",
        "<details>\n",
        "<summary>Question - what kind of path patching should you perform?</summary>\n",
        "\n",
        "To show these heads are acting as prev token heads in an induction circuit, we want to perform key-patching (i.e. patch the path from the output of the prev token heads to the key inputs of the induction heads).\n",
        "\n",
        "We expect this to worsen performance, because it interrupts the duplicate token signal provided by the induction heads.\n",
        "</details>\n"
      ]
    },
    {
      "cell_type": "code",
      "execution_count": null,
      "metadata": {
        "id": "fneGh5x6l6me"
      },
      "outputs": [],
      "source": [
        "model.reset_hooks(including_permanent=True)\n",
        "\n",
        "# YOUR CODE HERE - create `induction_head_key_path_patching_results`"
      ]
    },
    {
      "cell_type": "code",
      "execution_count": null,
      "metadata": {
        "id": "eiPu66P-tuXS"
      },
      "outputs": [],
      "source": [
        "imshow(\n",
        "    100 * induction_head_key_path_patching_results,\n",
        "    title=\"Direct effect on Induction Heads' keys\",\n",
        "    labels={\"x\": \"Head\", \"y\": \"Layer\", \"color\": \"Logit diff.<br>variation\"},\n",
        "    coloraxis=dict(colorbar_ticksuffix = \"%\"),\n",
        "    width=600,\n",
        ")"
      ]
    },
    {
      "cell_type": "markdown",
      "metadata": {
        "id": "kULmNRKKl6me"
      },
      "source": [
        "You might notice that there are two other heads in the induction heads box in the paper's diagram, both in brackets (heads `5.8` and `5.9`). Can you try and figure out what these heads are doing, and why they're in brackets?\n"
      ]
    },
    {
      "cell_type": "markdown",
      "metadata": {
        "id": "tQmLbkDml6me"
      },
      "source": [
        "<details>\n",
        "<summary>Hint</summary>\n",
        "\n",
        "Recall the path patching section, where you applied patching from attention heads' outputs to the value inputs to the S-inhibition heads (hopefully replicating figure 4b from the paper). Try patching the **keys** of the S-inhibition heads instead. Do heads `5.8` and `5.9` stand out here?\n",
        "</details>\n",
        "\n",
        "<details>\n",
        "<summary>Answer</summary>\n",
        "\n",
        "After making the plot suggested in the hint, you should find that patching from `5.8` and `5.9` each have around a 5% negative impact on the logit difference if you patch from them to the S-inhibition heads. We'd like to conclude that these are induction heads, and they're acting to increase the attention paid by `end` to `S2`. Unfortunately, they don't seem to be induction heads according to the results of figure 18 in the paper (which we replicated in the section \"validation of early heads\").\n",
        "\n",
        "It turns out that they're acting as induction heads on this distribution, but not in general. A simple way we can support this hypothesis is to look at attention patterns (we find that `S2` pays attention to `S1+1` in both head `5.8` and `5.9`).\n",
        "</details>\n",
        "\n",
        "<details>\n",
        "<summary>Aside - a lesson in nonlinearity</summary>\n",
        "\n",
        "In the dropdown above, I claimed that `5.8` and `5.9` were doing induction on this distribution. A more rigorous way to test this would be to path patch to the keys of these heads, and see if either of the previous token heads have a large effect. If they do, this is very strong evidence for induction. However, it turns out that neither of the prev token heads affect the model's IOI performance via their path through the fuzzy induction heads. Does this invalidate our hypothesis?\n",
        "\n",
        "In fact, no, because of nonlinearity. The two prev token heads `2.2` and `4.11` will be adding onto the **logits** used to calculate the attention probability from `S2` to `S1+1`, rather than adding onto the probabilities directly. SO it might be the case that one head on its own doesn't increase the attention probability very much, both both heads acting together significantly increase it. (Motivating example: suppose we only had 2 possible source tokens, without either head acting the logits are `[0.0, -8.0]`, and the action of each head is to add `4.0` to the second logit. If one head acts then the probability on the second token goes from basically zero to `0.018` (which will have a very small impact on the attention head's output), but if both heads are acting then the logits are equal and the probability is `0.5` (which obviously has a much larger effect)).\n",
        "\n",
        "This is in fact what I found here - after modifying the path patching function to allow more than one sender head, I found that patching from both `2.2` and `4.11` to `5.8` and `5.9` had a larger effect on the model's IOI performance than patching from either head alone (about a 1% drop in performance for both vs almost 0% for either individually). The same effect can be found when we patch from these heads to all four induction heads, although it's even more pronounced (a 3% and 15% drop respectively for the heads individually, vs 31% for both).\n",
        "</details>\n"
      ]
    },
    {
      "cell_type": "markdown",
      "metadata": {
        "id": "PKShPICGl6me"
      },
      "source": [
        "## Backup name mover heads\n"
      ]
    },
    {
      "cell_type": "markdown",
      "metadata": {
        "id": "YxzA2DUSl6mf"
      },
      "source": [
        "Another fascinating anomaly is that of the **backup name mover heads**. A standard technique to apply when interpreting model internals is ablations, or knock-out. If we run the model but intervene to set a specific head to zero, what happens? If the model is robust to this intervention, then naively we can be confident that the head is not doing anything important, and conversely if the model is much worse at the task this suggests that head was important. There are several conceptual flaws with this approach, making the evidence only suggestive, e.g. that the average output of the head may be far from zero and so the knockout may send it far from expected activations, breaking internals on *any* task. But it's still an Hooked technique to apply to give some data.\n",
        "\n",
        "But a wild finding in the paper is that models have **built in redundancy**. If we knock out one of the name movers, then there are some backup name movers in later layers that *change their behaviour* and do (some of) the job of the original name mover head. This means that naive knock-out will significantly underestimate the importance of the name movers.\n"
      ]
    },
    {
      "cell_type": "markdown",
      "metadata": {
        "id": "uCC8Qnhtl6mf"
      },
      "source": [
        "Let's test this! Let's ablate the most important name mover (which is `9.9`, as the code below verifies for us) on just the `end` token, and compare performance.\n"
      ]
    },
    {
      "cell_type": "code",
      "execution_count": null,
      "metadata": {
        "id": "bjdLizYDl6mf"
      },
      "outputs": [],
      "source": [
        "model.reset_hooks(including_permanent=True)\n",
        "\n",
        "ioi_logits, ioi_cache = model.run_with_cache(ioi_dataset.toks)\n",
        "original_average_logit_diff = logits_to_ave_logit_diff_2(ioi_logits)"
      ]
    },
    {
      "cell_type": "code",
      "execution_count": null,
      "metadata": {
        "id": "3LiMMUPwl6mf"
      },
      "outputs": [],
      "source": [
        "s_unembeddings = model.W_U.T[ioi_dataset.s_tokenIDs]\n",
        "io_unembeddings = model.W_U.T[ioi_dataset.io_tokenIDs]\n",
        "logit_diff_directions =  io_unembeddings - s_unembeddings # [batch d_model]\n",
        "\n",
        "per_head_residual, labels = ioi_cache.stack_head_results(layer=-1, return_labels=True)\n",
        "per_head_residual = einops.rearrange(\n",
        "    per_head_residual[:, t.arange(len(ioi_dataset)).to(device), ioi_dataset.word_idx[\"end\"].to(device)],\n",
        "    \"(layer head) batch d_model -> layer head batch d_model\",\n",
        "    layer=model.cfg.n_layers\n",
        ")\n",
        "\n",
        "per_head_logit_diffs = residual_stack_to_logit_diff(per_head_residual, ioi_cache, logit_diff_directions)\n",
        "\n",
        "top_layer, top_head = topk_of_Nd_tensor(per_head_logit_diffs, k=1)[0]\n",
        "print(f\"Top Name Mover to ablate: {top_layer}.{top_head}\")"
      ]
    },
    {
      "cell_type": "code",
      "execution_count": null,
      "metadata": {
        "id": "VdqCQV0Hl6mf"
      },
      "outputs": [],
      "source": [
        "# Getting means we can use to ablate\n",
        "abc_means = ioi_circuit_extraction.compute_means_by_template(abc_dataset, model)[top_layer]\n",
        "\n",
        "# Define hook function and add to model\n",
        "def ablate_top_head_hook(z: Float[Tensor, \"batch pos head_index d_head\"], hook):\n",
        "    '''\n",
        "    Ablates hook by patching in results\n",
        "    '''\n",
        "    z[range(len(ioi_dataset)), ioi_dataset.word_idx[\"end\"], top_head] = abc_means[range(len(ioi_dataset)), ioi_dataset.word_idx[\"end\"], top_head]\n",
        "    return z\n",
        "\n",
        "model.add_hook(utils.get_act_name(\"z\", top_layer), ablate_top_head_hook)\n",
        "\n",
        "# Runs the model, temporarily adds caching hooks and then removes *all* hooks after running, including the ablation hook.\n",
        "ablated_logits, ablated_cache = model.run_with_cache(ioi_dataset.toks)\n",
        "rprint(\"\\n\".join([\n",
        "    f\"{original_average_logit_diff:.4f} = Original logit diff\",\n",
        "    f\"{per_head_logit_diffs[top_layer, top_head]:.4f} = Direct Logit Attribution of top name mover head\",\n",
        "    f\"{original_average_logit_diff - per_head_logit_diffs[top_layer, top_head]:.4f} = Naive prediction of post ablation logit diff\",\n",
        "    f\"{logits_to_ave_logit_diff_2(ablated_logits):.4f} = Logit diff after abla\n",
        "]))"
      ]
    },
    {
      "cell_type": "code",
      "execution_count": null,
      "metadata": {
        "id": "QN9DXVInd2-W"
      },
      "outputs": [],
      "source": [
        "make_table(\n",
        "    cols = [\n",
        "        \"Original logit diff\", \"Direct Logit Attribution of top name mover head\", \"Naive prediction of post ablation logit diff\", f\"Logit diff after ablating L{top_layer}H{top_head}\",\n",
        "        original_average_logit_diff, per_head_logit_diffs[top_layer, top_head]\n",
        "    ]\n",
        ")"
      ]
    },
    {
      "cell_type": "markdown",
      "metadata": {
        "id": "koWQDqxOl6mf"
      },
      "source": [
        "What's going on here? We calculate the logit diff for our full model, and how much of that is coming directly from head `9.9`. Given this, we come up with an estimate for what the logit diff will fall to when we ablate this head. In fact, performance is **much** better than this naive prediction.\n",
        "\n",
        "Why is this happening? As before, we can look at the direct logit attribution of each head to get a sense of what's going on.\n"
      ]
    },
    {
      "cell_type": "code",
      "execution_count": null,
      "metadata": {
        "id": "-xLVDvjD0UhK"
      },
      "outputs": [],
      "source": [
        "per_head_ablated_residual, labels = ablated_cache.stack_head_results(layer=-1, return_labels=True)\n",
        "per_head_ablated_residual = einops.rearrange(\n",
        "    per_head_ablated_residual[:, t.arange(len(ioi_dataset)).to(device), ioi_dataset.word_idx[\"end\"].to(device)],\n",
        "    \"(layer head) batch d_model -> layer head batch d_model\",\n",
        "    layer=model.cfg.n_layers\n",
        ")\n",
        "per_head_ablated_logit_diffs = residual_stack_to_logit_diff(per_head_ablated_residual, ablated_cache, logit_diff_directions)\n",
        "per_head_ablated_logit_diffs = per_head_ablated_logit_diffs.reshape(model.cfg.n_layers, model.cfg.n_heads)"
      ]
    },
    {
      "cell_type": "code",
      "source": [
        "imshow(\n",
        "    t.stack([\n",
        "        per_head_logit_diffs,\n",
        "        per_head_ablated_logit_diffs,\n",
        "        per_head_ablated_logit_diffs - per_head_logit_diffs\n",
        "    ]),\n",
        "    title=\"Direct logit contribution by head, pre / post ablation\",\n",
        "    labels={\"x\":\"Head\", \"y\":\"Layer\"},\n",
        "    facet_col=0,\n",
        "    facet_labels=[\"No ablation\", \"9.9 is ablated\", \"Change in head contribution post-ablation\"],\n",
        ")\n",
        "\n",
        "scatter(\n",
        "    y=per_head_logit_diffs.flatten(),\n",
        "    x=per_head_ablated_logit_diffs.flatten(),\n",
        "    hover_name=labels,\n",
        "    range_x=(-1, 1),\n",
        "    range_y=(-2, 2),\n",
        "    labels={\"x\": \"Ablated\", \"y\": \"Original\"},\n",
        "    title=\"Original vs Post-Ablation Direct Logit Attribution of Heads\",\n",
        "    width=600,\n",
        "    add_line=\"y=x\"\n",
        ")"
      ],
      "metadata": {
        "id": "T1uwDAjI0H8x"
      },
      "execution_count": null,
      "outputs": []
    },
    {
      "cell_type": "markdown",
      "metadata": {
        "id": "bjno6o8Tl6mf"
      },
      "source": [
        "The first plots show us that, after we ablate head `9.9`, while its direct contribution to the logit diff falls (obviously), a lot of contributions from other heads (particularly in layer 10) actually increase. The second plot shows this in a different way (the distinctive heads in the right hand heatmap are the same as the heads lying well below the y=x line in the scatter plot).\n",
        "\n",
        "One natural hypothesis is that this is because the final LayerNorm scaling has changed, which can scale up or down the final residual stream. This is slightly true, and we can see that the typical head is a bit off from the x=y line. But the average LN scaling ratio is 1.04, and this should uniformly change *all* heads by the same factor, so this can't be sufficient.\n"
      ]
    },
    {
      "cell_type": "code",
      "execution_count": null,
      "metadata": {
        "id": "gH-YQi2U35cx"
      },
      "outputs": [],
      "source": [
        "ln_scaling_no_ablation = ioi_cache[\"ln_final.hook_scale\"][t.arange(len(ioi_dataset)), ioi_dataset.word_idx[\"end\"]].squeeze()\n",
        "ln_scaling_ablated = ablated_cache[\"ln_final.hook_scale\"][t.arange(len(ioi_dataset)), ioi_dataset.word_idx[\"end\"]].squeeze()"
      ]
    },
    {
      "cell_type": "code",
      "execution_count": null,
      "metadata": {
        "id": "CPrXbtIal6mf"
      },
      "outputs": [],
      "source": [
        "scatter(\n",
        "    y=ln_scaling_ablated,\n",
        "    x=ln_scaling_no_ablation,\n",
        "    labels={\"x\": \"No ablation\", \"y\": \"Ablation\"},\n",
        "    title=f\"Final LN scaling factors compared (ablation vs no ablation)<br>Average ratio = {(ln_scaling_no_ablation / ln_scaling_ablated).mean():.4f}\",\n",
        "    width=700,\n",
        "    add_line=\"y=x\"\n",
        ")"
      ]
    },
    {
      "cell_type": "markdown",
      "metadata": {
        "id": "PMbUAUp8l6mg"
      },
      "source": [
        "**Exercise to the reader:** Can you finish off this analysis? What's going on here? Why are the backup name movers changing their behaviour? Why is one negative name mover becoming significantly less important?\n"
      ]
    },
    {
      "cell_type": "markdown",
      "metadata": {
        "id": "jum1DGALl6mg"
      },
      "source": [
        "## Positional vs token information being moved\n",
        "\n",
        "In section A of the appendix (titled **Disentangling token and positional signal in the output of S-Inhibition Heads**), the authors attempt to figure out whether the S-Inhibition heads are using token or positional information to supress the attention paid to `S1`. This is illustrated in my IOI diagram, by purple vs pink boxes.\n",
        "\n",
        "The way the authors find out which one is which is ingenious. They construct datasets from the original IOI dataset, with some of the signals erased or flipped. For instance, if they want to examine the effect of inverting the positional information but preserving the token information written by the S-inhibition heads, they can replace sentences like:\n",
        "\n",
        "```\n",
        "When Mary and John went to the store, John gave a drink to Mary\n",
        "```\n",
        "\n",
        "with:\n",
        "\n",
        "```\n",
        "When John and Mary went to the store, John gave a drink to Mary\n",
        "```\n",
        "\n",
        "Let's be exactly clear on why this works. The information written to the `end` token position by the S-inhibition heads will be some combination of \"don't pay attention to the duplicated token\" and \"don't pay attention to the token that's in the same position as the duplicated token\". If we run our model on the first sentence above but then patch in the second sentence, then:\n",
        "\n",
        "* The **\"don't pay attention to the duplicated token\"** signal will be unchanged (because this signal still refers to John)\n",
        "* The **\"don't pay attention to the token that's in the same position as the duplicated token\"** signal will flip (because this information points to the position of `Mary` in the second sentence, hence to the position of `John` in the first sentence).\n"
      ]
    },
    {
      "cell_type": "markdown",
      "metadata": {
        "id": "orXgSzynl6mg"
      },
      "source": [
        "That was just one example (flipping positional information, keeping token information the same), but we can do any of six different types of flip:\n"
      ]
    },
    {
      "cell_type": "markdown",
      "metadata": {
        "id": "BUwhNEKol6mg"
      },
      "source": [
        "| Token signal | Positional signal | Sentence                                                          | ABB -> ? |\n",
        "| ------------ | ----------------- | ----------------------------------------------------------------- | -------- |\n",
        "| Same         | Same              | `When Mary and John went to the store, John gave a drink to Mary` | ABB      |\n",
        "| Random       | Same              | `When Emma and Paul went to the store, Paul gave ...`             | CDD      |\n",
        "| Inverted     | Same              | `When John and Mary went to the store, Mary gave ...`             | BAA      |\n",
        "| Same         | Inverted          | `When John and Mary went to the store, John gave ...`             | BAB      |\n",
        "| Random       | Inverted          | `When Paul and Emma went to the store, Emma gave ...`             | DCD      |\n",
        "| Inverted     | Inverted          | `When Mary and John went to the store, Mary gave ...`             | ABA      |\n"
      ]
    },
    {
      "cell_type": "markdown",
      "metadata": {
        "id": "Pz33xTK9l6mg"
      },
      "source": [
        "We use the `gen_flipped_prompts` method to generate each of these datasets:\n"
      ]
    },
    {
      "cell_type": "code",
      "execution_count": null,
      "metadata": {
        "id": "1Itx1Gsdl6mg"
      },
      "outputs": [],
      "source": [
        "datasets: List[Tuple[Tuple, str, IOIDataset]] = [\n",
        "    ((0, 0), \"original\", ioi_dataset),\n",
        "    ((1, 0), \"random token\", ioi_dataset.gen_flipped_prompts(\"ABB->CDD, BAB->DCD\")),\n",
        "    ((2, 0), \"inverted token\", ioi_dataset.gen_flipped_prompts(\"ABB->BAA, BAB->ABA\")),\n",
        "    ((0, 1), \"inverted position\", ioi_dataset.gen_flipped_prompts(\"ABB->BAB, BAB->ABB\")),\n",
        "    ((1, 1), \"inverted position, random token\", ioi_dataset.gen_flipped_prompts(\"ABB->DCD, BAB->CDD\")),\n",
        "    ((2, 1), \"inverted position, inverted token\", ioi_dataset.gen_flipped_prompts(\"ABB->ABA, BAB->BAA\")),\n",
        "]"
      ]
    },
    {
      "cell_type": "markdown",
      "metadata": {
        "id": "-pznTVfpd2-X"
      },
      "source": [
        "*Note - the purpose of the type annotation for `datasets` is so that, when we iterate through datasets, the type checker can identify the third item in each iterate as an `IOIDataset`, and autocomplete methods for us.*\n"
      ]
    },
    {
      "cell_type": "code",
      "execution_count": null,
      "metadata": {
        "id": "zlMSBlK50ik9"
      },
      "outputs": [],
      "source": [
        "results = t.zeros(3, 2).to(device)\n",
        "\n",
        "s2_inhibition_heads = CIRCUIT[\"s2 inhibition\"]\n",
        "layers = set(layer for layer, head in s2_inhibition_heads)\n",
        "\n",
        "names_filter=lambda name: name in [utils.get_act_name(\"z\", layer) for layer in layers]\n",
        "\n",
        "def patching_hook_fn(z: Float[Tensor, \"batch seq head d_head\"], hook: HookPoint, cache: ActivationCache):\n",
        "    heads_to_patch = [head for layer, head in s2_inhibition_heads if layer == hook.layer()]\n",
        "    z[:, :, heads_to_patch] = cache[hook.name][:, :, heads_to_patch]\n",
        "    return z\n",
        "\n",
        "for ((row, col), desc, dataset) in datasets:\n",
        "\n",
        "    # Get cache of values from the modified dataset\n",
        "    _, cache_for_patching = model.run_with_cache(\n",
        "        dataset.toks,\n",
        "        names_filter=names_filter,\n",
        "        return_type=None\n",
        "    )\n",
        "\n",
        "    # Run model on IOI dataset, but patch S-inhibition heads with signals from modified dataset\n",
        "    patched_logits = model.run_with_hooks(\n",
        "        ioi_dataset.toks,\n",
        "        fwd_hooks=[(names_filter, partial(patching_hook_fn, cache=cache_for_patching))]\n",
        "    )\n",
        "\n",
        "    # Get logit diff for patched results\n",
        "    # Note, we still use IOI dataset for our \"correct answers\" reference point\n",
        "    results[row, col] = logits_to_ave_logit_diff_2(patched_logits, ioi_dataset)"
      ]
    },
    {
      "cell_type": "code",
      "execution_count": null,
      "metadata": {
        "id": "sHrErbHRl6mg"
      },
      "outputs": [],
      "source": [
        "imshow(\n",
        "    results,\n",
        "    labels={\"x\": \"Positional signal\", \"y\": \"Token signal\"},\n",
        "    x=[\"Original\", \"Inverted\"],\n",
        "    y=[\"Original\", \"Random\", \"Inverted\"],\n",
        "    title=\"Logit diff after changing all S2 inhibition heads' output signals via patching\",\n",
        "    text_auto=\".2f\"\n",
        ")"
      ]
    },
    {
      "cell_type": "markdown",
      "metadata": {
        "id": "U30SYXdil6mg"
      },
      "source": [
        "What are your interpretations of this plot?\n",
        "\n",
        "<details>\n",
        "<summary>Some thoughts</summary>\n",
        "\n",
        "A few sanity checks, which are what we'd expect from this plot (and hence validate our code as probably being correct):\n",
        "\n",
        "* When token and positional signals are inverted, performance is close to negative of the original performance.\n",
        "* Inverting the positional signal makes performance worse.\n",
        "* Randomizing the token signal makes performance worse.\n",
        "* Inverting the token signal makes performance worse. This effect is larger than randomizing (because we're pointing away from a correct answer, rather than just in a random direction).\n",
        "\n",
        "There are two main interesting findings from this plot (which we might have guessed at beforehand, but couldn't have been certain about):\n",
        "* The row and column differences are close to constant (column diff is approx 4.5, row diff is approx 0.75). In other words, the logit diff can be well approximated by a linear combination of the positional and token signal correlations (where correlation is 1 if the signal points towards the correct value, -1 if it points away, and 0 if it points in a random direction).\n",
        "* The coefficients on the positional signal correlation is **much** bigger than the coefficient on the token signal correlation. The former is about 4.5, the latter is about 1.5. This tells us that positional information is a lot more important than token information.\n",
        "    * One possible intuition here is that name information (i.e. representing the identity of the token `\" John\"`) takes up many dimensions, so is probably harder for the model. Relative positional information on the other hand will mostly have fewer dimensions. Since the model only needs to move enough information to single out a single positional index from about 15-20, rather than single out a name in the entire set of names. This is jus a guess though, and I'd love to hear other interpretations.\n",
        "\n",
        "</details>\n"
      ]
    },
    {
      "cell_type": "markdown",
      "metadata": {
        "id": "v4CnC7nTl6mg"
      },
      "source": [
        "Let's dig a little deeper. Rather than just looking at the S-inhibition heads collectively, we can look at each of them individually.\n"
      ]
    },
    {
      "cell_type": "markdown",
      "metadata": {
        "id": "1m9OJ7rql6mg"
      },
      "source": [
        "### Exercise - decompose S-Inhibition heads\n",
        "\n",
        "```c\n",
        "Difficulty: 🔴🔴⚪⚪⚪\n",
        "Importance: 🔵🔵🔵⚪⚪\n",
        "\n",
        "You should spend up to 10-15 minutes on this exercise.\n",
        "\n",
        "This involves a lot of duplicating code from above.\n",
        "```\n",
        "\n",
        "Make the same plot as above, but after intervening on each of the S-inhibition heads individually.\n",
        "\n",
        "You can do this by creating a `results` tensor of shape `(M, 3, 2)` where `M` is the number of S-inhibition heads, and each slice contains the results of intervening on that particular head, then using the `facet` arguments of the `imshow` function:\n",
        "\n",
        "(You might prefer to plot the results in the form of \"change in logit diff from clean value, as a fraction of clean value\", to make the results look clearer.)\n"
      ]
    },
    {
      "cell_type": "code",
      "execution_count": null,
      "metadata": {
        "id": "HyDswlfv0lOf"
      },
      "outputs": [],
      "source": [
        "results = t.zeros(len(CIRCUIT[\"s2 inhibition\"]), 3, 2).to(device)\n",
        "# Your code here - fill in results!"
      ]
    },
    {
      "cell_type": "code",
      "execution_count": null,
      "metadata": {
        "id": "dGgAga0jl6mg"
      },
      "outputs": [],
      "source": [
        "imshow(\n",
        "    (results - results[0, 0, 0]) / results[0, 0, 0],\n",
        "    labels={\"x\": \"Positional signal\", \"y\": \"Token signal\"},\n",
        "    x=[\"Original\", \"Inverted\"],\n",
        "    y=[\"Original\", \"Random\", \"Inverted\"],\n",
        "    title=\"Logit diff after patching individual S2 inhibition heads (as proportion of clean logit diff)\",\n",
        "    facet_col=0,\n",
        "    facet_labels=[f\"{layer}.{head}\" for (layer, head) in CIRCUIT[\"s2 inhibition\"]],\n",
        "    facet_col_spacing = 0.08,\n",
        "    text_auto=\".2f\",\n",
        ")"
      ]
    },
    {
      "cell_type": "markdown",
      "metadata": {
        "id": "7lqBsXENl6mh"
      },
      "source": [
        "Noteworthy features of this plot:\n",
        "\n",
        "* Every head cares more about positional signal than token signal\n",
        "* Head `8.6` (the biggest S-inhibition head) cares MUCH more about positional signal, in fact it doesn't care at all about token signal\n",
        "    * Suggests maybe `8.6` was the first head which learned to do this task, and subsequent heads basically just helped out by providing the remainder (which was token signal). Shows the heads specialise.\n",
        "* The only heads that kinda care about token signal are `7.9` and `8.10` (but they still both care about positional signal almost twice as much)\n",
        "* The approximation of logit diff as a sum of positional and token signal correlations still seems to hold for each head individually, although the coefficients for each head are different.\n"
      ]
    },
    {
      "cell_type": "markdown",
      "metadata": {
        "id": "xvpEB9Gll6mh"
      },
      "source": [
        "## Further Reading\n",
        "\n",
        "Here is a collection of links for further reading, which haven't already been mentioned:\n",
        "\n",
        "* [Some Lessons Learned from Studying Indirect Object Identification in GPT-2 small](https://www.alignmentforum.org/posts/3ecs6duLmTfyra3Gp/some-lessons-learned-from-studying-indirect-object)\n",
        "    * A blog post by the authors of this paper, which goes into more detail about the experiments and results.\n",
        "* [Causal Scrubbing: a method for rigorously testing interpretability hypotheses [Redwood Research]](https://www.alignmentforum.org/posts/JvZhhzycHu2Yd57RN/causal-scrubbing-a-method-for-rigorously-testing)\n",
        "    * Introduces the idea of causal scubbing, a proposed systematic method for evaluting the quality of mechanistic interpretations\n"
      ]
    },
    {
      "cell_type": "markdown",
      "metadata": {
        "id": "SOysl2Jtl6mh"
      },
      "source": [
        "## Suggested topics for further exploration\n",
        "\n",
        "Here are some future directions, some suggested by Neel, others by the authors of the paper. Many of these might make good capstone projects!\n",
        "\n",
        "* 3 letter acronyms (or more!)\n",
        "* Converting names to emails.\n",
        "    * An extension task is e.g. constructing an email from a snippet like the following: Name: Neel Nanda; Email: last name dot first name k @ gmail\n",
        "* Grammatical rules\n",
        "    * Learning that words after full stops are capital letters\n",
        "    * Verb conjugation\n",
        "    * Choosing the right pronouns (e.g. he vs she vs it vs they)\n",
        "    * Whether something is a proper noun or not\n",
        "* Detecting sentiment (e.g. predicting whether something will be described as good vs bad)\n",
        "* Interpreting memorisation. E.g., there are times when GPT-2 knows surprising facts like people’s contact information. How does that happen?\n",
        "* Counting objects described in text. E.g.: I picked up an apple, a pear, and an orange. I was holding three fruits.\n",
        "* Extensions from Alex Variengien\n",
        "    * Understanding what's happening in the adversarial examples: most notably S-Inhibition Head attention pattern (hard). (S-Inhibition heads are mentioned in the IOI paper)\n",
        "    * Understanding how are positional signal encoded (relative distance, something else?) bonus point if we have a story that include the positional embeddings and that explain how the difference between position is computed (if relative is the right framework) by Duplicate Token Heads / Induction Heads. (hard, but less context dependant)\n",
        "    * What are the role of MLPs in IOI (quite broad and hard)\n",
        "    * What is the role of Duplicate Token Heads outside IOI? Are they used in other Q-compositions with S-Inhibition Heads? Can we describe how their QK circuit implement \"collision detection\" at a parameter level? (Last question is low context dependant and quite tractable)\n",
        "    * What is the role of Negative/ Backup/ regular Name Movers Heads outside IOI? Can we find examples on which Negative Name Movers contribute positively to the next-token prediction?\n",
        "    * What are the differences between the 5 inductions heads present in GPT2-small? What are the heads they rely on / what are the later heads they compose with (low context dependence form IOI)\n",
        "    * Understanding 4.11, (a really sharp previous token heads) at the parameter level. I think this can be quite tractable given that its attention pattern is almost perfectly off-diagonal\n",
        "* What are the conditions for compensation mechanisms to occur? Is it due to drop-out? (Arthur Conmy is working on this - feel free to reach out to arthur@rdwrs.com )\n",
        "* Extensions from Arthur Conmy\n",
        "    * Understand IOI in GPT-Neo: it's a same size model but does IOI via composition of MLPs\n",
        "    * Understand IOI in the Stanford mistral models - they all seem to do IOI in the same way, so maybe look at the development of the circuit through training?\n",
        "* [Help out Redwood Research’s interpretability team by finding heuristics implemented by GPT-2 small](https://www.lesswrong.com/posts/LkBmAGJgZX2tbwGKg/help-out-redwood-research-s-interpretability-team-by-finding)\n",
        "    * This LessWrong post from 6 months ago outlines some features of the IOI task that made it a good choice to study, and suggests other tasks that might meet these criteria / how you might go about finding such tasks.\n"
      ]
    },
    {
      "cell_type": "markdown",
      "source": [
        "## Suggested paper replications\n",
        "\n",
        "<br>\n",
        "\n",
        "### [A circuit for Python docstrings in a 4-layer attention-only transformer](https://www.lesswrong.com/posts/u6KXXmKFbXfWzoAXn/a-circuit-for-python-docstrings-in-a-4-layer-attention-only)\n",
        "\n",
        "This work was produced as part of the SERI ML Alignment Theory Scholars Program (Winter 2022) under the supervision of Neel Nanda. Similar to how the IOI paper searched for in some sense the simplest kind of circuit which required 3 layers, this work was looking for the simplest kind of circuit which required 4 layers. The task they investigated was the **docstring task** - can you predict parameters in the right order, in situations like this:\n",
        "\n",
        "```python\n",
        "def port(self, load, size, files, last):\n",
        "    '''oil column piece\n",
        "\n",
        "    :param load: crime population\n",
        "    :param size: unit dark\n",
        "    :param\n",
        "```\n",
        "\n",
        "The token that follows should be ` files`, and just like in the case of IOI we can deeply analyze how the transformer solves this task. Unlike IOI, we're looking at a 4-layer transformer which was trained on code (not GPT2-Small), which makes a lot of the analysis cleaner (even though the circuit has more levels of composition than IOI does).\n",
        "\n",
        "For an extra challenge, rather than replicating the authors' results, you can try and perform this investigation yourself, without seeing what tools the authors of the paper used! Most will be similar to the ones you've used in the exercises so far.\n",
        "\n",
        "This might be a good replication for you if:\n",
        "\n",
        "* You enjoyed most/all sections of these exercises, and want to practice using the tools you learned in a different context\n",
        "* You don't want to try anything *too* far left field from the content of these exercises (this post also comes with a Colab notebook which can be referred to if you're stuck)\n",
        "\n",
        "<br>\n",
        "\n",
        "### [Mechanistically interpreting time in GPT-2 small](https://www.lesswrong.com/posts/6tHNM2s6SWzFHv3Wo/mechanistically-interpreting-time-in-gpt-2-small)\n",
        "\n",
        "This work was done by a group of independent researchers, supervised by Arthur Conmy. The task was to interpret how GPT2-Small can solve the task of next day prediction, i.e. predicting the next token in sentences like *If today is Monday, tomorrow is*. This replication is easier than the previous one, since the core circuit only contains one attention head rather than a composition of several. For this reason, we'd more strongly encourage trying to do this replication without guidance, i.e. have a crack at it before reading the full post.\n",
        "\n",
        "<br>\n",
        "\n",
        "### [How does GPT-2 compute greater-than? Interpreting mathematical abilities in a pre-trained language model](https://openreview.net/pdf?id=p4PckNQR8k)\n",
        "\n",
        "This paper came out of the REMIX program run by Redwood Research. It analyses a circuit in GPT2-Small, much like this one. Here, the circuit is for computing greater-than; in other words detecting that sentences like *The war lasted from the year 1732 to the year 17...* will be completed by valid two-digit end years (years > 32). The paper identifies a circuit, explains the role of each circuit component, and also finds related tasks that activate the circuit.\n",
        "\n",
        "For an extra challenge, rather than replicating this paper, you can try and perform this investigation yourself, without seeing what tools the authors of the paper used! Many will be similar to the ones you've used in the exercises so far; some will be different. In particular, there will be some analysis of individual neurons in this replication, unlike in this IOI notebook.\n",
        "\n",
        "This might be a good replication for you if:\n",
        "\n",
        "* You enjoyed most/all sections of these exercises, and want to practice using the tools you learned in a different context\n",
        "* You don't want to try anything *too* far left field from the content of these exercises (although this is probably more challenging than the docstring circuit, mainly due to the presence of MLPs)\n",
        "\n",
        "<br>\n",
        "\n",
        "### [Towards Automated Circuit Discovery for Mechanistic Interpretability](https://arxiv.org/abs/2304.14997) / [Attribution Patching Outperforms Automated Circuit Discovery](https://arxiv.org/abs/2310.10348)\n",
        "\n",
        "These two are grouped together, because they both study the possibility of scaling circuit discovery tools using automation. **Automated Circuit Discovery** (ACDC) was a tool discovered by Arthur Conmy & collaborators partially done at Redwood Research. They automate several of the techniques we've used in these exercises (in particular activation & patch patching), iteratively severing connections between components until we're left with a minimal circuit which can still effectively solve the task. **Attribution patching** is slightly different; it approximates the effect of each component on the model's output (and by extension its importance in a particular task) by a simple and computationally cheap first-order approximation.\n",
        "\n",
        "Either of these techniques would serve as suitable replication challenges over the course of a week. There's also a lot of work that can still be done in improving or refining these techniques.\n",
        "\n",
        "This might be a good replication for you if:\n",
        "\n",
        "* You enjoyed the exercises in this section, in particular those on activation and path patching\n",
        "* You're looking for a project which is more focused on coding and implementation than on theory\n",
        "* You're excited about exploring ways to scale / automate circuit discovery efficiently"
      ],
      "metadata": {
        "id": "Wi8NI0d-IkM-"
      }
    }
  ],
  "metadata": {
    "accelerator": "GPU",
    "colab": {
      "collapsed_sections": [
        "szdsL4Skl6l-",
        "02aFRKnCl6mC",
        "jX5wBPspl6mG",
        "DnwdEGrGl6mK",
        "teSb1k5Ul6mS",
        "F1UOGXJhd2-N",
        "fMHnae9xl6md"
      ],
      "provenance": [],
      "machine_shape": "hm",
      "gpuType": "L4",
      "include_colab_link": true
    },
    "kernelspec": {
      "display_name": "Python 3",
      "name": "python3"
    },
    "language_info": {
      "codemirror_mode": {
        "name": "ipython",
        "version": 3
      },
      "file_extension": ".py",
      "mimetype": "text/x-python",
      "name": "python",
      "nbconvert_exporter": "python",
      "pygments_lexer": "ipython3",
      "version": "3.10.9"
    },
    "orig_nbformat": 4,
    "widgets": {
      "application/vnd.jupyter.widget-state+json": {
        "3f77e3d91bf54de6a06a0e26c0c79ab3": {
          "model_module": "@jupyter-widgets/controls",
          "model_name": "HBoxModel",
          "model_module_version": "1.5.0",
          "state": {
            "_dom_classes": [],
            "_model_module": "@jupyter-widgets/controls",
            "_model_module_version": "1.5.0",
            "_model_name": "HBoxModel",
            "_view_count": null,
            "_view_module": "@jupyter-widgets/controls",
            "_view_module_version": "1.5.0",
            "_view_name": "HBoxView",
            "box_style": "",
            "children": [
              "IPY_MODEL_8ed1d8786cb9424f99e3a9a04a47ba08",
              "IPY_MODEL_fbfa8bc012bf45cc9c5ccfbae63c50fe",
              "IPY_MODEL_fde725e14a9146d980e9a62c55d3f014"
            ],
            "layout": "IPY_MODEL_f855f570ba8442b7bbe4ffe38fe72c25"
          }
        },
        "8ed1d8786cb9424f99e3a9a04a47ba08": {
          "model_module": "@jupyter-widgets/controls",
          "model_name": "HTMLModel",
          "model_module_version": "1.5.0",
          "state": {
            "_dom_classes": [],
            "_model_module": "@jupyter-widgets/controls",
            "_model_module_version": "1.5.0",
            "_model_name": "HTMLModel",
            "_view_count": null,
            "_view_module": "@jupyter-widgets/controls",
            "_view_module_version": "1.5.0",
            "_view_name": "HTMLView",
            "description": "",
            "description_tooltip": null,
            "layout": "IPY_MODEL_10fb53512e8d4028ba43e2081f264557",
            "placeholder": "​",
            "style": "IPY_MODEL_df22ebbde4374f509eb420c599e68d68",
            "value": "config.json: 100%"
          }
        },
        "fbfa8bc012bf45cc9c5ccfbae63c50fe": {
          "model_module": "@jupyter-widgets/controls",
          "model_name": "FloatProgressModel",
          "model_module_version": "1.5.0",
          "state": {
            "_dom_classes": [],
            "_model_module": "@jupyter-widgets/controls",
            "_model_module_version": "1.5.0",
            "_model_name": "FloatProgressModel",
            "_view_count": null,
            "_view_module": "@jupyter-widgets/controls",
            "_view_module_version": "1.5.0",
            "_view_name": "ProgressView",
            "bar_style": "success",
            "description": "",
            "description_tooltip": null,
            "layout": "IPY_MODEL_3887d999b0844f0aac97fbfd620b0286",
            "max": 665,
            "min": 0,
            "orientation": "horizontal",
            "style": "IPY_MODEL_8fa39c84a9024ffc8a37b7a8b827c415",
            "value": 665
          }
        },
        "fde725e14a9146d980e9a62c55d3f014": {
          "model_module": "@jupyter-widgets/controls",
          "model_name": "HTMLModel",
          "model_module_version": "1.5.0",
          "state": {
            "_dom_classes": [],
            "_model_module": "@jupyter-widgets/controls",
            "_model_module_version": "1.5.0",
            "_model_name": "HTMLModel",
            "_view_count": null,
            "_view_module": "@jupyter-widgets/controls",
            "_view_module_version": "1.5.0",
            "_view_name": "HTMLView",
            "description": "",
            "description_tooltip": null,
            "layout": "IPY_MODEL_4b0d44011270447da92f4bd52617d9b0",
            "placeholder": "​",
            "style": "IPY_MODEL_1b22fb51e9d445ab99525bb38add73a8",
            "value": " 665/665 [00:00&lt;00:00, 52.5kB/s]"
          }
        },
        "f855f570ba8442b7bbe4ffe38fe72c25": {
          "model_module": "@jupyter-widgets/base",
          "model_name": "LayoutModel",
          "model_module_version": "1.2.0",
          "state": {
            "_model_module": "@jupyter-widgets/base",
            "_model_module_version": "1.2.0",
            "_model_name": "LayoutModel",
            "_view_count": null,
            "_view_module": "@jupyter-widgets/base",
            "_view_module_version": "1.2.0",
            "_view_name": "LayoutView",
            "align_content": null,
            "align_items": null,
            "align_self": null,
            "border": null,
            "bottom": null,
            "display": null,
            "flex": null,
            "flex_flow": null,
            "grid_area": null,
            "grid_auto_columns": null,
            "grid_auto_flow": null,
            "grid_auto_rows": null,
            "grid_column": null,
            "grid_gap": null,
            "grid_row": null,
            "grid_template_areas": null,
            "grid_template_columns": null,
            "grid_template_rows": null,
            "height": null,
            "justify_content": null,
            "justify_items": null,
            "left": null,
            "margin": null,
            "max_height": null,
            "max_width": null,
            "min_height": null,
            "min_width": null,
            "object_fit": null,
            "object_position": null,
            "order": null,
            "overflow": null,
            "overflow_x": null,
            "overflow_y": null,
            "padding": null,
            "right": null,
            "top": null,
            "visibility": null,
            "width": null
          }
        },
        "10fb53512e8d4028ba43e2081f264557": {
          "model_module": "@jupyter-widgets/base",
          "model_name": "LayoutModel",
          "model_module_version": "1.2.0",
          "state": {
            "_model_module": "@jupyter-widgets/base",
            "_model_module_version": "1.2.0",
            "_model_name": "LayoutModel",
            "_view_count": null,
            "_view_module": "@jupyter-widgets/base",
            "_view_module_version": "1.2.0",
            "_view_name": "LayoutView",
            "align_content": null,
            "align_items": null,
            "align_self": null,
            "border": null,
            "bottom": null,
            "display": null,
            "flex": null,
            "flex_flow": null,
            "grid_area": null,
            "grid_auto_columns": null,
            "grid_auto_flow": null,
            "grid_auto_rows": null,
            "grid_column": null,
            "grid_gap": null,
            "grid_row": null,
            "grid_template_areas": null,
            "grid_template_columns": null,
            "grid_template_rows": null,
            "height": null,
            "justify_content": null,
            "justify_items": null,
            "left": null,
            "margin": null,
            "max_height": null,
            "max_width": null,
            "min_height": null,
            "min_width": null,
            "object_fit": null,
            "object_position": null,
            "order": null,
            "overflow": null,
            "overflow_x": null,
            "overflow_y": null,
            "padding": null,
            "right": null,
            "top": null,
            "visibility": null,
            "width": null
          }
        },
        "df22ebbde4374f509eb420c599e68d68": {
          "model_module": "@jupyter-widgets/controls",
          "model_name": "DescriptionStyleModel",
          "model_module_version": "1.5.0",
          "state": {
            "_model_module": "@jupyter-widgets/controls",
            "_model_module_version": "1.5.0",
            "_model_name": "DescriptionStyleModel",
            "_view_count": null,
            "_view_module": "@jupyter-widgets/base",
            "_view_module_version": "1.2.0",
            "_view_name": "StyleView",
            "description_width": ""
          }
        },
        "3887d999b0844f0aac97fbfd620b0286": {
          "model_module": "@jupyter-widgets/base",
          "model_name": "LayoutModel",
          "model_module_version": "1.2.0",
          "state": {
            "_model_module": "@jupyter-widgets/base",
            "_model_module_version": "1.2.0",
            "_model_name": "LayoutModel",
            "_view_count": null,
            "_view_module": "@jupyter-widgets/base",
            "_view_module_version": "1.2.0",
            "_view_name": "LayoutView",
            "align_content": null,
            "align_items": null,
            "align_self": null,
            "border": null,
            "bottom": null,
            "display": null,
            "flex": null,
            "flex_flow": null,
            "grid_area": null,
            "grid_auto_columns": null,
            "grid_auto_flow": null,
            "grid_auto_rows": null,
            "grid_column": null,
            "grid_gap": null,
            "grid_row": null,
            "grid_template_areas": null,
            "grid_template_columns": null,
            "grid_template_rows": null,
            "height": null,
            "justify_content": null,
            "justify_items": null,
            "left": null,
            "margin": null,
            "max_height": null,
            "max_width": null,
            "min_height": null,
            "min_width": null,
            "object_fit": null,
            "object_position": null,
            "order": null,
            "overflow": null,
            "overflow_x": null,
            "overflow_y": null,
            "padding": null,
            "right": null,
            "top": null,
            "visibility": null,
            "width": null
          }
        },
        "8fa39c84a9024ffc8a37b7a8b827c415": {
          "model_module": "@jupyter-widgets/controls",
          "model_name": "ProgressStyleModel",
          "model_module_version": "1.5.0",
          "state": {
            "_model_module": "@jupyter-widgets/controls",
            "_model_module_version": "1.5.0",
            "_model_name": "ProgressStyleModel",
            "_view_count": null,
            "_view_module": "@jupyter-widgets/base",
            "_view_module_version": "1.2.0",
            "_view_name": "StyleView",
            "bar_color": null,
            "description_width": ""
          }
        },
        "4b0d44011270447da92f4bd52617d9b0": {
          "model_module": "@jupyter-widgets/base",
          "model_name": "LayoutModel",
          "model_module_version": "1.2.0",
          "state": {
            "_model_module": "@jupyter-widgets/base",
            "_model_module_version": "1.2.0",
            "_model_name": "LayoutModel",
            "_view_count": null,
            "_view_module": "@jupyter-widgets/base",
            "_view_module_version": "1.2.0",
            "_view_name": "LayoutView",
            "align_content": null,
            "align_items": null,
            "align_self": null,
            "border": null,
            "bottom": null,
            "display": null,
            "flex": null,
            "flex_flow": null,
            "grid_area": null,
            "grid_auto_columns": null,
            "grid_auto_flow": null,
            "grid_auto_rows": null,
            "grid_column": null,
            "grid_gap": null,
            "grid_row": null,
            "grid_template_areas": null,
            "grid_template_columns": null,
            "grid_template_rows": null,
            "height": null,
            "justify_content": null,
            "justify_items": null,
            "left": null,
            "margin": null,
            "max_height": null,
            "max_width": null,
            "min_height": null,
            "min_width": null,
            "object_fit": null,
            "object_position": null,
            "order": null,
            "overflow": null,
            "overflow_x": null,
            "overflow_y": null,
            "padding": null,
            "right": null,
            "top": null,
            "visibility": null,
            "width": null
          }
        },
        "1b22fb51e9d445ab99525bb38add73a8": {
          "model_module": "@jupyter-widgets/controls",
          "model_name": "DescriptionStyleModel",
          "model_module_version": "1.5.0",
          "state": {
            "_model_module": "@jupyter-widgets/controls",
            "_model_module_version": "1.5.0",
            "_model_name": "DescriptionStyleModel",
            "_view_count": null,
            "_view_module": "@jupyter-widgets/base",
            "_view_module_version": "1.2.0",
            "_view_name": "StyleView",
            "description_width": ""
          }
        },
        "639946cb01e846739113b1a26180979d": {
          "model_module": "@jupyter-widgets/controls",
          "model_name": "HBoxModel",
          "model_module_version": "1.5.0",
          "state": {
            "_dom_classes": [],
            "_model_module": "@jupyter-widgets/controls",
            "_model_module_version": "1.5.0",
            "_model_name": "HBoxModel",
            "_view_count": null,
            "_view_module": "@jupyter-widgets/controls",
            "_view_module_version": "1.5.0",
            "_view_name": "HBoxView",
            "box_style": "",
            "children": [
              "IPY_MODEL_5e69a7f0a02d44728a7c966d49a3dc01",
              "IPY_MODEL_5729163d695e44b7b3d53ddf4cbf931f",
              "IPY_MODEL_0989dfe34ef6446e824065858316dcc3"
            ],
            "layout": "IPY_MODEL_9c2698e15d714e73b0669e9136c0dcdb"
          }
        },
        "5e69a7f0a02d44728a7c966d49a3dc01": {
          "model_module": "@jupyter-widgets/controls",
          "model_name": "HTMLModel",
          "model_module_version": "1.5.0",
          "state": {
            "_dom_classes": [],
            "_model_module": "@jupyter-widgets/controls",
            "_model_module_version": "1.5.0",
            "_model_name": "HTMLModel",
            "_view_count": null,
            "_view_module": "@jupyter-widgets/controls",
            "_view_module_version": "1.5.0",
            "_view_name": "HTMLView",
            "description": "",
            "description_tooltip": null,
            "layout": "IPY_MODEL_0acdc04727db42ffbe8fa30e3115a636",
            "placeholder": "​",
            "style": "IPY_MODEL_61614e6dc1ee43b8b3171beee21a4173",
            "value": "model.safetensors: 100%"
          }
        },
        "5729163d695e44b7b3d53ddf4cbf931f": {
          "model_module": "@jupyter-widgets/controls",
          "model_name": "FloatProgressModel",
          "model_module_version": "1.5.0",
          "state": {
            "_dom_classes": [],
            "_model_module": "@jupyter-widgets/controls",
            "_model_module_version": "1.5.0",
            "_model_name": "FloatProgressModel",
            "_view_count": null,
            "_view_module": "@jupyter-widgets/controls",
            "_view_module_version": "1.5.0",
            "_view_name": "ProgressView",
            "bar_style": "success",
            "description": "",
            "description_tooltip": null,
            "layout": "IPY_MODEL_70b7226a983643d7b87c8db4580fa293",
            "max": 548105171,
            "min": 0,
            "orientation": "horizontal",
            "style": "IPY_MODEL_6df02884b82a4a62b9cd51a21e875879",
            "value": 548105171
          }
        },
        "0989dfe34ef6446e824065858316dcc3": {
          "model_module": "@jupyter-widgets/controls",
          "model_name": "HTMLModel",
          "model_module_version": "1.5.0",
          "state": {
            "_dom_classes": [],
            "_model_module": "@jupyter-widgets/controls",
            "_model_module_version": "1.5.0",
            "_model_name": "HTMLModel",
            "_view_count": null,
            "_view_module": "@jupyter-widgets/controls",
            "_view_module_version": "1.5.0",
            "_view_name": "HTMLView",
            "description": "",
            "description_tooltip": null,
            "layout": "IPY_MODEL_3f4a2bd5a4f14a7bae972e77e0e1ec6e",
            "placeholder": "​",
            "style": "IPY_MODEL_3548c7259f584acdb1c36c23a4f2d642",
            "value": " 548M/548M [00:01&lt;00:00, 553MB/s]"
          }
        },
        "9c2698e15d714e73b0669e9136c0dcdb": {
          "model_module": "@jupyter-widgets/base",
          "model_name": "LayoutModel",
          "model_module_version": "1.2.0",
          "state": {
            "_model_module": "@jupyter-widgets/base",
            "_model_module_version": "1.2.0",
            "_model_name": "LayoutModel",
            "_view_count": null,
            "_view_module": "@jupyter-widgets/base",
            "_view_module_version": "1.2.0",
            "_view_name": "LayoutView",
            "align_content": null,
            "align_items": null,
            "align_self": null,
            "border": null,
            "bottom": null,
            "display": null,
            "flex": null,
            "flex_flow": null,
            "grid_area": null,
            "grid_auto_columns": null,
            "grid_auto_flow": null,
            "grid_auto_rows": null,
            "grid_column": null,
            "grid_gap": null,
            "grid_row": null,
            "grid_template_areas": null,
            "grid_template_columns": null,
            "grid_template_rows": null,
            "height": null,
            "justify_content": null,
            "justify_items": null,
            "left": null,
            "margin": null,
            "max_height": null,
            "max_width": null,
            "min_height": null,
            "min_width": null,
            "object_fit": null,
            "object_position": null,
            "order": null,
            "overflow": null,
            "overflow_x": null,
            "overflow_y": null,
            "padding": null,
            "right": null,
            "top": null,
            "visibility": null,
            "width": null
          }
        },
        "0acdc04727db42ffbe8fa30e3115a636": {
          "model_module": "@jupyter-widgets/base",
          "model_name": "LayoutModel",
          "model_module_version": "1.2.0",
          "state": {
            "_model_module": "@jupyter-widgets/base",
            "_model_module_version": "1.2.0",
            "_model_name": "LayoutModel",
            "_view_count": null,
            "_view_module": "@jupyter-widgets/base",
            "_view_module_version": "1.2.0",
            "_view_name": "LayoutView",
            "align_content": null,
            "align_items": null,
            "align_self": null,
            "border": null,
            "bottom": null,
            "display": null,
            "flex": null,
            "flex_flow": null,
            "grid_area": null,
            "grid_auto_columns": null,
            "grid_auto_flow": null,
            "grid_auto_rows": null,
            "grid_column": null,
            "grid_gap": null,
            "grid_row": null,
            "grid_template_areas": null,
            "grid_template_columns": null,
            "grid_template_rows": null,
            "height": null,
            "justify_content": null,
            "justify_items": null,
            "left": null,
            "margin": null,
            "max_height": null,
            "max_width": null,
            "min_height": null,
            "min_width": null,
            "object_fit": null,
            "object_position": null,
            "order": null,
            "overflow": null,
            "overflow_x": null,
            "overflow_y": null,
            "padding": null,
            "right": null,
            "top": null,
            "visibility": null,
            "width": null
          }
        },
        "61614e6dc1ee43b8b3171beee21a4173": {
          "model_module": "@jupyter-widgets/controls",
          "model_name": "DescriptionStyleModel",
          "model_module_version": "1.5.0",
          "state": {
            "_model_module": "@jupyter-widgets/controls",
            "_model_module_version": "1.5.0",
            "_model_name": "DescriptionStyleModel",
            "_view_count": null,
            "_view_module": "@jupyter-widgets/base",
            "_view_module_version": "1.2.0",
            "_view_name": "StyleView",
            "description_width": ""
          }
        },
        "70b7226a983643d7b87c8db4580fa293": {
          "model_module": "@jupyter-widgets/base",
          "model_name": "LayoutModel",
          "model_module_version": "1.2.0",
          "state": {
            "_model_module": "@jupyter-widgets/base",
            "_model_module_version": "1.2.0",
            "_model_name": "LayoutModel",
            "_view_count": null,
            "_view_module": "@jupyter-widgets/base",
            "_view_module_version": "1.2.0",
            "_view_name": "LayoutView",
            "align_content": null,
            "align_items": null,
            "align_self": null,
            "border": null,
            "bottom": null,
            "display": null,
            "flex": null,
            "flex_flow": null,
            "grid_area": null,
            "grid_auto_columns": null,
            "grid_auto_flow": null,
            "grid_auto_rows": null,
            "grid_column": null,
            "grid_gap": null,
            "grid_row": null,
            "grid_template_areas": null,
            "grid_template_columns": null,
            "grid_template_rows": null,
            "height": null,
            "justify_content": null,
            "justify_items": null,
            "left": null,
            "margin": null,
            "max_height": null,
            "max_width": null,
            "min_height": null,
            "min_width": null,
            "object_fit": null,
            "object_position": null,
            "order": null,
            "overflow": null,
            "overflow_x": null,
            "overflow_y": null,
            "padding": null,
            "right": null,
            "top": null,
            "visibility": null,
            "width": null
          }
        },
        "6df02884b82a4a62b9cd51a21e875879": {
          "model_module": "@jupyter-widgets/controls",
          "model_name": "ProgressStyleModel",
          "model_module_version": "1.5.0",
          "state": {
            "_model_module": "@jupyter-widgets/controls",
            "_model_module_version": "1.5.0",
            "_model_name": "ProgressStyleModel",
            "_view_count": null,
            "_view_module": "@jupyter-widgets/base",
            "_view_module_version": "1.2.0",
            "_view_name": "StyleView",
            "bar_color": null,
            "description_width": ""
          }
        },
        "3f4a2bd5a4f14a7bae972e77e0e1ec6e": {
          "model_module": "@jupyter-widgets/base",
          "model_name": "LayoutModel",
          "model_module_version": "1.2.0",
          "state": {
            "_model_module": "@jupyter-widgets/base",
            "_model_module_version": "1.2.0",
            "_model_name": "LayoutModel",
            "_view_count": null,
            "_view_module": "@jupyter-widgets/base",
            "_view_module_version": "1.2.0",
            "_view_name": "LayoutView",
            "align_content": null,
            "align_items": null,
            "align_self": null,
            "border": null,
            "bottom": null,
            "display": null,
            "flex": null,
            "flex_flow": null,
            "grid_area": null,
            "grid_auto_columns": null,
            "grid_auto_flow": null,
            "grid_auto_rows": null,
            "grid_column": null,
            "grid_gap": null,
            "grid_row": null,
            "grid_template_areas": null,
            "grid_template_columns": null,
            "grid_template_rows": null,
            "height": null,
            "justify_content": null,
            "justify_items": null,
            "left": null,
            "margin": null,
            "max_height": null,
            "max_width": null,
            "min_height": null,
            "min_width": null,
            "object_fit": null,
            "object_position": null,
            "order": null,
            "overflow": null,
            "overflow_x": null,
            "overflow_y": null,
            "padding": null,
            "right": null,
            "top": null,
            "visibility": null,
            "width": null
          }
        },
        "3548c7259f584acdb1c36c23a4f2d642": {
          "model_module": "@jupyter-widgets/controls",
          "model_name": "DescriptionStyleModel",
          "model_module_version": "1.5.0",
          "state": {
            "_model_module": "@jupyter-widgets/controls",
            "_model_module_version": "1.5.0",
            "_model_name": "DescriptionStyleModel",
            "_view_count": null,
            "_view_module": "@jupyter-widgets/base",
            "_view_module_version": "1.2.0",
            "_view_name": "StyleView",
            "description_width": ""
          }
        },
        "c5bba0f2690e49d1a27b584948bcdcd3": {
          "model_module": "@jupyter-widgets/controls",
          "model_name": "HBoxModel",
          "model_module_version": "1.5.0",
          "state": {
            "_dom_classes": [],
            "_model_module": "@jupyter-widgets/controls",
            "_model_module_version": "1.5.0",
            "_model_name": "HBoxModel",
            "_view_count": null,
            "_view_module": "@jupyter-widgets/controls",
            "_view_module_version": "1.5.0",
            "_view_name": "HBoxView",
            "box_style": "",
            "children": [
              "IPY_MODEL_1e48f45ebcb242b5b5612bff55777ae0",
              "IPY_MODEL_cdd4a525ae82471e9ea3fdeb03140599",
              "IPY_MODEL_bb34a3db6a7a40d2b3efc810d9e7376c"
            ],
            "layout": "IPY_MODEL_57c348da427d4bd3aeee8a8e5ed51df7"
          }
        },
        "1e48f45ebcb242b5b5612bff55777ae0": {
          "model_module": "@jupyter-widgets/controls",
          "model_name": "HTMLModel",
          "model_module_version": "1.5.0",
          "state": {
            "_dom_classes": [],
            "_model_module": "@jupyter-widgets/controls",
            "_model_module_version": "1.5.0",
            "_model_name": "HTMLModel",
            "_view_count": null,
            "_view_module": "@jupyter-widgets/controls",
            "_view_module_version": "1.5.0",
            "_view_name": "HTMLView",
            "description": "",
            "description_tooltip": null,
            "layout": "IPY_MODEL_bc044bdec42442f2b2ad62cc5f1dae46",
            "placeholder": "​",
            "style": "IPY_MODEL_ea35c5f3ce9d4ae18725da54dbe86df7",
            "value": "generation_config.json: 100%"
          }
        },
        "cdd4a525ae82471e9ea3fdeb03140599": {
          "model_module": "@jupyter-widgets/controls",
          "model_name": "FloatProgressModel",
          "model_module_version": "1.5.0",
          "state": {
            "_dom_classes": [],
            "_model_module": "@jupyter-widgets/controls",
            "_model_module_version": "1.5.0",
            "_model_name": "FloatProgressModel",
            "_view_count": null,
            "_view_module": "@jupyter-widgets/controls",
            "_view_module_version": "1.5.0",
            "_view_name": "ProgressView",
            "bar_style": "success",
            "description": "",
            "description_tooltip": null,
            "layout": "IPY_MODEL_8f89e6c3eb8a40b4b7a6f2cccbcde98a",
            "max": 124,
            "min": 0,
            "orientation": "horizontal",
            "style": "IPY_MODEL_00773f6d44b441b38734fed2cad0e94b",
            "value": 124
          }
        },
        "bb34a3db6a7a40d2b3efc810d9e7376c": {
          "model_module": "@jupyter-widgets/controls",
          "model_name": "HTMLModel",
          "model_module_version": "1.5.0",
          "state": {
            "_dom_classes": [],
            "_model_module": "@jupyter-widgets/controls",
            "_model_module_version": "1.5.0",
            "_model_name": "HTMLModel",
            "_view_count": null,
            "_view_module": "@jupyter-widgets/controls",
            "_view_module_version": "1.5.0",
            "_view_name": "HTMLView",
            "description": "",
            "description_tooltip": null,
            "layout": "IPY_MODEL_e2593836709e47929f5ec28dc7d36b61",
            "placeholder": "​",
            "style": "IPY_MODEL_77cbe3faaa384926a04dfadf9ae7fa48",
            "value": " 124/124 [00:00&lt;00:00, 9.97kB/s]"
          }
        },
        "57c348da427d4bd3aeee8a8e5ed51df7": {
          "model_module": "@jupyter-widgets/base",
          "model_name": "LayoutModel",
          "model_module_version": "1.2.0",
          "state": {
            "_model_module": "@jupyter-widgets/base",
            "_model_module_version": "1.2.0",
            "_model_name": "LayoutModel",
            "_view_count": null,
            "_view_module": "@jupyter-widgets/base",
            "_view_module_version": "1.2.0",
            "_view_name": "LayoutView",
            "align_content": null,
            "align_items": null,
            "align_self": null,
            "border": null,
            "bottom": null,
            "display": null,
            "flex": null,
            "flex_flow": null,
            "grid_area": null,
            "grid_auto_columns": null,
            "grid_auto_flow": null,
            "grid_auto_rows": null,
            "grid_column": null,
            "grid_gap": null,
            "grid_row": null,
            "grid_template_areas": null,
            "grid_template_columns": null,
            "grid_template_rows": null,
            "height": null,
            "justify_content": null,
            "justify_items": null,
            "left": null,
            "margin": null,
            "max_height": null,
            "max_width": null,
            "min_height": null,
            "min_width": null,
            "object_fit": null,
            "object_position": null,
            "order": null,
            "overflow": null,
            "overflow_x": null,
            "overflow_y": null,
            "padding": null,
            "right": null,
            "top": null,
            "visibility": null,
            "width": null
          }
        },
        "bc044bdec42442f2b2ad62cc5f1dae46": {
          "model_module": "@jupyter-widgets/base",
          "model_name": "LayoutModel",
          "model_module_version": "1.2.0",
          "state": {
            "_model_module": "@jupyter-widgets/base",
            "_model_module_version": "1.2.0",
            "_model_name": "LayoutModel",
            "_view_count": null,
            "_view_module": "@jupyter-widgets/base",
            "_view_module_version": "1.2.0",
            "_view_name": "LayoutView",
            "align_content": null,
            "align_items": null,
            "align_self": null,
            "border": null,
            "bottom": null,
            "display": null,
            "flex": null,
            "flex_flow": null,
            "grid_area": null,
            "grid_auto_columns": null,
            "grid_auto_flow": null,
            "grid_auto_rows": null,
            "grid_column": null,
            "grid_gap": null,
            "grid_row": null,
            "grid_template_areas": null,
            "grid_template_columns": null,
            "grid_template_rows": null,
            "height": null,
            "justify_content": null,
            "justify_items": null,
            "left": null,
            "margin": null,
            "max_height": null,
            "max_width": null,
            "min_height": null,
            "min_width": null,
            "object_fit": null,
            "object_position": null,
            "order": null,
            "overflow": null,
            "overflow_x": null,
            "overflow_y": null,
            "padding": null,
            "right": null,
            "top": null,
            "visibility": null,
            "width": null
          }
        },
        "ea35c5f3ce9d4ae18725da54dbe86df7": {
          "model_module": "@jupyter-widgets/controls",
          "model_name": "DescriptionStyleModel",
          "model_module_version": "1.5.0",
          "state": {
            "_model_module": "@jupyter-widgets/controls",
            "_model_module_version": "1.5.0",
            "_model_name": "DescriptionStyleModel",
            "_view_count": null,
            "_view_module": "@jupyter-widgets/base",
            "_view_module_version": "1.2.0",
            "_view_name": "StyleView",
            "description_width": ""
          }
        },
        "8f89e6c3eb8a40b4b7a6f2cccbcde98a": {
          "model_module": "@jupyter-widgets/base",
          "model_name": "LayoutModel",
          "model_module_version": "1.2.0",
          "state": {
            "_model_module": "@jupyter-widgets/base",
            "_model_module_version": "1.2.0",
            "_model_name": "LayoutModel",
            "_view_count": null,
            "_view_module": "@jupyter-widgets/base",
            "_view_module_version": "1.2.0",
            "_view_name": "LayoutView",
            "align_content": null,
            "align_items": null,
            "align_self": null,
            "border": null,
            "bottom": null,
            "display": null,
            "flex": null,
            "flex_flow": null,
            "grid_area": null,
            "grid_auto_columns": null,
            "grid_auto_flow": null,
            "grid_auto_rows": null,
            "grid_column": null,
            "grid_gap": null,
            "grid_row": null,
            "grid_template_areas": null,
            "grid_template_columns": null,
            "grid_template_rows": null,
            "height": null,
            "justify_content": null,
            "justify_items": null,
            "left": null,
            "margin": null,
            "max_height": null,
            "max_width": null,
            "min_height": null,
            "min_width": null,
            "object_fit": null,
            "object_position": null,
            "order": null,
            "overflow": null,
            "overflow_x": null,
            "overflow_y": null,
            "padding": null,
            "right": null,
            "top": null,
            "visibility": null,
            "width": null
          }
        },
        "00773f6d44b441b38734fed2cad0e94b": {
          "model_module": "@jupyter-widgets/controls",
          "model_name": "ProgressStyleModel",
          "model_module_version": "1.5.0",
          "state": {
            "_model_module": "@jupyter-widgets/controls",
            "_model_module_version": "1.5.0",
            "_model_name": "ProgressStyleModel",
            "_view_count": null,
            "_view_module": "@jupyter-widgets/base",
            "_view_module_version": "1.2.0",
            "_view_name": "StyleView",
            "bar_color": null,
            "description_width": ""
          }
        },
        "e2593836709e47929f5ec28dc7d36b61": {
          "model_module": "@jupyter-widgets/base",
          "model_name": "LayoutModel",
          "model_module_version": "1.2.0",
          "state": {
            "_model_module": "@jupyter-widgets/base",
            "_model_module_version": "1.2.0",
            "_model_name": "LayoutModel",
            "_view_count": null,
            "_view_module": "@jupyter-widgets/base",
            "_view_module_version": "1.2.0",
            "_view_name": "LayoutView",
            "align_content": null,
            "align_items": null,
            "align_self": null,
            "border": null,
            "bottom": null,
            "display": null,
            "flex": null,
            "flex_flow": null,
            "grid_area": null,
            "grid_auto_columns": null,
            "grid_auto_flow": null,
            "grid_auto_rows": null,
            "grid_column": null,
            "grid_gap": null,
            "grid_row": null,
            "grid_template_areas": null,
            "grid_template_columns": null,
            "grid_template_rows": null,
            "height": null,
            "justify_content": null,
            "justify_items": null,
            "left": null,
            "margin": null,
            "max_height": null,
            "max_width": null,
            "min_height": null,
            "min_width": null,
            "object_fit": null,
            "object_position": null,
            "order": null,
            "overflow": null,
            "overflow_x": null,
            "overflow_y": null,
            "padding": null,
            "right": null,
            "top": null,
            "visibility": null,
            "width": null
          }
        },
        "77cbe3faaa384926a04dfadf9ae7fa48": {
          "model_module": "@jupyter-widgets/controls",
          "model_name": "DescriptionStyleModel",
          "model_module_version": "1.5.0",
          "state": {
            "_model_module": "@jupyter-widgets/controls",
            "_model_module_version": "1.5.0",
            "_model_name": "DescriptionStyleModel",
            "_view_count": null,
            "_view_module": "@jupyter-widgets/base",
            "_view_module_version": "1.2.0",
            "_view_name": "StyleView",
            "description_width": ""
          }
        },
        "81c5872d07e54f3b9ec129e566a4aac1": {
          "model_module": "@jupyter-widgets/controls",
          "model_name": "HBoxModel",
          "model_module_version": "1.5.0",
          "state": {
            "_dom_classes": [],
            "_model_module": "@jupyter-widgets/controls",
            "_model_module_version": "1.5.0",
            "_model_name": "HBoxModel",
            "_view_count": null,
            "_view_module": "@jupyter-widgets/controls",
            "_view_module_version": "1.5.0",
            "_view_name": "HBoxView",
            "box_style": "",
            "children": [
              "IPY_MODEL_a360ead140904b19815ab9cccb3aa689",
              "IPY_MODEL_f08840188d5747fc8253ab280c49557c",
              "IPY_MODEL_2faade22fc3444db8de03249db4b657a"
            ],
            "layout": "IPY_MODEL_cddc6aa184a646e89814dbf41db97ffb"
          }
        },
        "a360ead140904b19815ab9cccb3aa689": {
          "model_module": "@jupyter-widgets/controls",
          "model_name": "HTMLModel",
          "model_module_version": "1.5.0",
          "state": {
            "_dom_classes": [],
            "_model_module": "@jupyter-widgets/controls",
            "_model_module_version": "1.5.0",
            "_model_name": "HTMLModel",
            "_view_count": null,
            "_view_module": "@jupyter-widgets/controls",
            "_view_module_version": "1.5.0",
            "_view_name": "HTMLView",
            "description": "",
            "description_tooltip": null,
            "layout": "IPY_MODEL_7e97f9420ae54d18b43adcb0a4c7de6f",
            "placeholder": "​",
            "style": "IPY_MODEL_e009f47fc7e64e2f85c369bd8d33c0f1",
            "value": "tokenizer_config.json: 100%"
          }
        },
        "f08840188d5747fc8253ab280c49557c": {
          "model_module": "@jupyter-widgets/controls",
          "model_name": "FloatProgressModel",
          "model_module_version": "1.5.0",
          "state": {
            "_dom_classes": [],
            "_model_module": "@jupyter-widgets/controls",
            "_model_module_version": "1.5.0",
            "_model_name": "FloatProgressModel",
            "_view_count": null,
            "_view_module": "@jupyter-widgets/controls",
            "_view_module_version": "1.5.0",
            "_view_name": "ProgressView",
            "bar_style": "success",
            "description": "",
            "description_tooltip": null,
            "layout": "IPY_MODEL_5d4c03719a284a1db2939064106e2a35",
            "max": 26,
            "min": 0,
            "orientation": "horizontal",
            "style": "IPY_MODEL_71c05cb5dad24a76b8e6d45c01df2e47",
            "value": 26
          }
        },
        "2faade22fc3444db8de03249db4b657a": {
          "model_module": "@jupyter-widgets/controls",
          "model_name": "HTMLModel",
          "model_module_version": "1.5.0",
          "state": {
            "_dom_classes": [],
            "_model_module": "@jupyter-widgets/controls",
            "_model_module_version": "1.5.0",
            "_model_name": "HTMLModel",
            "_view_count": null,
            "_view_module": "@jupyter-widgets/controls",
            "_view_module_version": "1.5.0",
            "_view_name": "HTMLView",
            "description": "",
            "description_tooltip": null,
            "layout": "IPY_MODEL_274d2767d357430e8b6c7dab89b6c209",
            "placeholder": "​",
            "style": "IPY_MODEL_b2acd01490a74b819496fb9c169e819a",
            "value": " 26.0/26.0 [00:00&lt;00:00, 2.21kB/s]"
          }
        },
        "cddc6aa184a646e89814dbf41db97ffb": {
          "model_module": "@jupyter-widgets/base",
          "model_name": "LayoutModel",
          "model_module_version": "1.2.0",
          "state": {
            "_model_module": "@jupyter-widgets/base",
            "_model_module_version": "1.2.0",
            "_model_name": "LayoutModel",
            "_view_count": null,
            "_view_module": "@jupyter-widgets/base",
            "_view_module_version": "1.2.0",
            "_view_name": "LayoutView",
            "align_content": null,
            "align_items": null,
            "align_self": null,
            "border": null,
            "bottom": null,
            "display": null,
            "flex": null,
            "flex_flow": null,
            "grid_area": null,
            "grid_auto_columns": null,
            "grid_auto_flow": null,
            "grid_auto_rows": null,
            "grid_column": null,
            "grid_gap": null,
            "grid_row": null,
            "grid_template_areas": null,
            "grid_template_columns": null,
            "grid_template_rows": null,
            "height": null,
            "justify_content": null,
            "justify_items": null,
            "left": null,
            "margin": null,
            "max_height": null,
            "max_width": null,
            "min_height": null,
            "min_width": null,
            "object_fit": null,
            "object_position": null,
            "order": null,
            "overflow": null,
            "overflow_x": null,
            "overflow_y": null,
            "padding": null,
            "right": null,
            "top": null,
            "visibility": null,
            "width": null
          }
        },
        "7e97f9420ae54d18b43adcb0a4c7de6f": {
          "model_module": "@jupyter-widgets/base",
          "model_name": "LayoutModel",
          "model_module_version": "1.2.0",
          "state": {
            "_model_module": "@jupyter-widgets/base",
            "_model_module_version": "1.2.0",
            "_model_name": "LayoutModel",
            "_view_count": null,
            "_view_module": "@jupyter-widgets/base",
            "_view_module_version": "1.2.0",
            "_view_name": "LayoutView",
            "align_content": null,
            "align_items": null,
            "align_self": null,
            "border": null,
            "bottom": null,
            "display": null,
            "flex": null,
            "flex_flow": null,
            "grid_area": null,
            "grid_auto_columns": null,
            "grid_auto_flow": null,
            "grid_auto_rows": null,
            "grid_column": null,
            "grid_gap": null,
            "grid_row": null,
            "grid_template_areas": null,
            "grid_template_columns": null,
            "grid_template_rows": null,
            "height": null,
            "justify_content": null,
            "justify_items": null,
            "left": null,
            "margin": null,
            "max_height": null,
            "max_width": null,
            "min_height": null,
            "min_width": null,
            "object_fit": null,
            "object_position": null,
            "order": null,
            "overflow": null,
            "overflow_x": null,
            "overflow_y": null,
            "padding": null,
            "right": null,
            "top": null,
            "visibility": null,
            "width": null
          }
        },
        "e009f47fc7e64e2f85c369bd8d33c0f1": {
          "model_module": "@jupyter-widgets/controls",
          "model_name": "DescriptionStyleModel",
          "model_module_version": "1.5.0",
          "state": {
            "_model_module": "@jupyter-widgets/controls",
            "_model_module_version": "1.5.0",
            "_model_name": "DescriptionStyleModel",
            "_view_count": null,
            "_view_module": "@jupyter-widgets/base",
            "_view_module_version": "1.2.0",
            "_view_name": "StyleView",
            "description_width": ""
          }
        },
        "5d4c03719a284a1db2939064106e2a35": {
          "model_module": "@jupyter-widgets/base",
          "model_name": "LayoutModel",
          "model_module_version": "1.2.0",
          "state": {
            "_model_module": "@jupyter-widgets/base",
            "_model_module_version": "1.2.0",
            "_model_name": "LayoutModel",
            "_view_count": null,
            "_view_module": "@jupyter-widgets/base",
            "_view_module_version": "1.2.0",
            "_view_name": "LayoutView",
            "align_content": null,
            "align_items": null,
            "align_self": null,
            "border": null,
            "bottom": null,
            "display": null,
            "flex": null,
            "flex_flow": null,
            "grid_area": null,
            "grid_auto_columns": null,
            "grid_auto_flow": null,
            "grid_auto_rows": null,
            "grid_column": null,
            "grid_gap": null,
            "grid_row": null,
            "grid_template_areas": null,
            "grid_template_columns": null,
            "grid_template_rows": null,
            "height": null,
            "justify_content": null,
            "justify_items": null,
            "left": null,
            "margin": null,
            "max_height": null,
            "max_width": null,
            "min_height": null,
            "min_width": null,
            "object_fit": null,
            "object_position": null,
            "order": null,
            "overflow": null,
            "overflow_x": null,
            "overflow_y": null,
            "padding": null,
            "right": null,
            "top": null,
            "visibility": null,
            "width": null
          }
        },
        "71c05cb5dad24a76b8e6d45c01df2e47": {
          "model_module": "@jupyter-widgets/controls",
          "model_name": "ProgressStyleModel",
          "model_module_version": "1.5.0",
          "state": {
            "_model_module": "@jupyter-widgets/controls",
            "_model_module_version": "1.5.0",
            "_model_name": "ProgressStyleModel",
            "_view_count": null,
            "_view_module": "@jupyter-widgets/base",
            "_view_module_version": "1.2.0",
            "_view_name": "StyleView",
            "bar_color": null,
            "description_width": ""
          }
        },
        "274d2767d357430e8b6c7dab89b6c209": {
          "model_module": "@jupyter-widgets/base",
          "model_name": "LayoutModel",
          "model_module_version": "1.2.0",
          "state": {
            "_model_module": "@jupyter-widgets/base",
            "_model_module_version": "1.2.0",
            "_model_name": "LayoutModel",
            "_view_count": null,
            "_view_module": "@jupyter-widgets/base",
            "_view_module_version": "1.2.0",
            "_view_name": "LayoutView",
            "align_content": null,
            "align_items": null,
            "align_self": null,
            "border": null,
            "bottom": null,
            "display": null,
            "flex": null,
            "flex_flow": null,
            "grid_area": null,
            "grid_auto_columns": null,
            "grid_auto_flow": null,
            "grid_auto_rows": null,
            "grid_column": null,
            "grid_gap": null,
            "grid_row": null,
            "grid_template_areas": null,
            "grid_template_columns": null,
            "grid_template_rows": null,
            "height": null,
            "justify_content": null,
            "justify_items": null,
            "left": null,
            "margin": null,
            "max_height": null,
            "max_width": null,
            "min_height": null,
            "min_width": null,
            "object_fit": null,
            "object_position": null,
            "order": null,
            "overflow": null,
            "overflow_x": null,
            "overflow_y": null,
            "padding": null,
            "right": null,
            "top": null,
            "visibility": null,
            "width": null
          }
        },
        "b2acd01490a74b819496fb9c169e819a": {
          "model_module": "@jupyter-widgets/controls",
          "model_name": "DescriptionStyleModel",
          "model_module_version": "1.5.0",
          "state": {
            "_model_module": "@jupyter-widgets/controls",
            "_model_module_version": "1.5.0",
            "_model_name": "DescriptionStyleModel",
            "_view_count": null,
            "_view_module": "@jupyter-widgets/base",
            "_view_module_version": "1.2.0",
            "_view_name": "StyleView",
            "description_width": ""
          }
        },
        "4916c3a8c6084a9a88e0ccd9c1d160ca": {
          "model_module": "@jupyter-widgets/controls",
          "model_name": "HBoxModel",
          "model_module_version": "1.5.0",
          "state": {
            "_dom_classes": [],
            "_model_module": "@jupyter-widgets/controls",
            "_model_module_version": "1.5.0",
            "_model_name": "HBoxModel",
            "_view_count": null,
            "_view_module": "@jupyter-widgets/controls",
            "_view_module_version": "1.5.0",
            "_view_name": "HBoxView",
            "box_style": "",
            "children": [
              "IPY_MODEL_066e9803a90c4fa3aef2d1b22ebc420e",
              "IPY_MODEL_35b03a851f8b4b91b16218846e76ae9f",
              "IPY_MODEL_1a5d27ee493946dc826270d93561a35f"
            ],
            "layout": "IPY_MODEL_f509097241854b20bd91523ccb4219e5"
          }
        },
        "066e9803a90c4fa3aef2d1b22ebc420e": {
          "model_module": "@jupyter-widgets/controls",
          "model_name": "HTMLModel",
          "model_module_version": "1.5.0",
          "state": {
            "_dom_classes": [],
            "_model_module": "@jupyter-widgets/controls",
            "_model_module_version": "1.5.0",
            "_model_name": "HTMLModel",
            "_view_count": null,
            "_view_module": "@jupyter-widgets/controls",
            "_view_module_version": "1.5.0",
            "_view_name": "HTMLView",
            "description": "",
            "description_tooltip": null,
            "layout": "IPY_MODEL_f433025a70a64bbca3ebf10c26383c36",
            "placeholder": "​",
            "style": "IPY_MODEL_fe4548180c25425aad340d49f2180bba",
            "value": "vocab.json: 100%"
          }
        },
        "35b03a851f8b4b91b16218846e76ae9f": {
          "model_module": "@jupyter-widgets/controls",
          "model_name": "FloatProgressModel",
          "model_module_version": "1.5.0",
          "state": {
            "_dom_classes": [],
            "_model_module": "@jupyter-widgets/controls",
            "_model_module_version": "1.5.0",
            "_model_name": "FloatProgressModel",
            "_view_count": null,
            "_view_module": "@jupyter-widgets/controls",
            "_view_module_version": "1.5.0",
            "_view_name": "ProgressView",
            "bar_style": "success",
            "description": "",
            "description_tooltip": null,
            "layout": "IPY_MODEL_17550d99115543dfb162e7b05e97d5e5",
            "max": 1042301,
            "min": 0,
            "orientation": "horizontal",
            "style": "IPY_MODEL_d08dbbd41f954a1ab2b8d2128fadd94d",
            "value": 1042301
          }
        },
        "1a5d27ee493946dc826270d93561a35f": {
          "model_module": "@jupyter-widgets/controls",
          "model_name": "HTMLModel",
          "model_module_version": "1.5.0",
          "state": {
            "_dom_classes": [],
            "_model_module": "@jupyter-widgets/controls",
            "_model_module_version": "1.5.0",
            "_model_name": "HTMLModel",
            "_view_count": null,
            "_view_module": "@jupyter-widgets/controls",
            "_view_module_version": "1.5.0",
            "_view_name": "HTMLView",
            "description": "",
            "description_tooltip": null,
            "layout": "IPY_MODEL_5174b740828145d889f9da5a7695df4a",
            "placeholder": "​",
            "style": "IPY_MODEL_be74961e14c441e1a37b71811a76ffdc",
            "value": " 1.04M/1.04M [00:00&lt;00:00, 2.25MB/s]"
          }
        },
        "f509097241854b20bd91523ccb4219e5": {
          "model_module": "@jupyter-widgets/base",
          "model_name": "LayoutModel",
          "model_module_version": "1.2.0",
          "state": {
            "_model_module": "@jupyter-widgets/base",
            "_model_module_version": "1.2.0",
            "_model_name": "LayoutModel",
            "_view_count": null,
            "_view_module": "@jupyter-widgets/base",
            "_view_module_version": "1.2.0",
            "_view_name": "LayoutView",
            "align_content": null,
            "align_items": null,
            "align_self": null,
            "border": null,
            "bottom": null,
            "display": null,
            "flex": null,
            "flex_flow": null,
            "grid_area": null,
            "grid_auto_columns": null,
            "grid_auto_flow": null,
            "grid_auto_rows": null,
            "grid_column": null,
            "grid_gap": null,
            "grid_row": null,
            "grid_template_areas": null,
            "grid_template_columns": null,
            "grid_template_rows": null,
            "height": null,
            "justify_content": null,
            "justify_items": null,
            "left": null,
            "margin": null,
            "max_height": null,
            "max_width": null,
            "min_height": null,
            "min_width": null,
            "object_fit": null,
            "object_position": null,
            "order": null,
            "overflow": null,
            "overflow_x": null,
            "overflow_y": null,
            "padding": null,
            "right": null,
            "top": null,
            "visibility": null,
            "width": null
          }
        },
        "f433025a70a64bbca3ebf10c26383c36": {
          "model_module": "@jupyter-widgets/base",
          "model_name": "LayoutModel",
          "model_module_version": "1.2.0",
          "state": {
            "_model_module": "@jupyter-widgets/base",
            "_model_module_version": "1.2.0",
            "_model_name": "LayoutModel",
            "_view_count": null,
            "_view_module": "@jupyter-widgets/base",
            "_view_module_version": "1.2.0",
            "_view_name": "LayoutView",
            "align_content": null,
            "align_items": null,
            "align_self": null,
            "border": null,
            "bottom": null,
            "display": null,
            "flex": null,
            "flex_flow": null,
            "grid_area": null,
            "grid_auto_columns": null,
            "grid_auto_flow": null,
            "grid_auto_rows": null,
            "grid_column": null,
            "grid_gap": null,
            "grid_row": null,
            "grid_template_areas": null,
            "grid_template_columns": null,
            "grid_template_rows": null,
            "height": null,
            "justify_content": null,
            "justify_items": null,
            "left": null,
            "margin": null,
            "max_height": null,
            "max_width": null,
            "min_height": null,
            "min_width": null,
            "object_fit": null,
            "object_position": null,
            "order": null,
            "overflow": null,
            "overflow_x": null,
            "overflow_y": null,
            "padding": null,
            "right": null,
            "top": null,
            "visibility": null,
            "width": null
          }
        },
        "fe4548180c25425aad340d49f2180bba": {
          "model_module": "@jupyter-widgets/controls",
          "model_name": "DescriptionStyleModel",
          "model_module_version": "1.5.0",
          "state": {
            "_model_module": "@jupyter-widgets/controls",
            "_model_module_version": "1.5.0",
            "_model_name": "DescriptionStyleModel",
            "_view_count": null,
            "_view_module": "@jupyter-widgets/base",
            "_view_module_version": "1.2.0",
            "_view_name": "StyleView",
            "description_width": ""
          }
        },
        "17550d99115543dfb162e7b05e97d5e5": {
          "model_module": "@jupyter-widgets/base",
          "model_name": "LayoutModel",
          "model_module_version": "1.2.0",
          "state": {
            "_model_module": "@jupyter-widgets/base",
            "_model_module_version": "1.2.0",
            "_model_name": "LayoutModel",
            "_view_count": null,
            "_view_module": "@jupyter-widgets/base",
            "_view_module_version": "1.2.0",
            "_view_name": "LayoutView",
            "align_content": null,
            "align_items": null,
            "align_self": null,
            "border": null,
            "bottom": null,
            "display": null,
            "flex": null,
            "flex_flow": null,
            "grid_area": null,
            "grid_auto_columns": null,
            "grid_auto_flow": null,
            "grid_auto_rows": null,
            "grid_column": null,
            "grid_gap": null,
            "grid_row": null,
            "grid_template_areas": null,
            "grid_template_columns": null,
            "grid_template_rows": null,
            "height": null,
            "justify_content": null,
            "justify_items": null,
            "left": null,
            "margin": null,
            "max_height": null,
            "max_width": null,
            "min_height": null,
            "min_width": null,
            "object_fit": null,
            "object_position": null,
            "order": null,
            "overflow": null,
            "overflow_x": null,
            "overflow_y": null,
            "padding": null,
            "right": null,
            "top": null,
            "visibility": null,
            "width": null
          }
        },
        "d08dbbd41f954a1ab2b8d2128fadd94d": {
          "model_module": "@jupyter-widgets/controls",
          "model_name": "ProgressStyleModel",
          "model_module_version": "1.5.0",
          "state": {
            "_model_module": "@jupyter-widgets/controls",
            "_model_module_version": "1.5.0",
            "_model_name": "ProgressStyleModel",
            "_view_count": null,
            "_view_module": "@jupyter-widgets/base",
            "_view_module_version": "1.2.0",
            "_view_name": "StyleView",
            "bar_color": null,
            "description_width": ""
          }
        },
        "5174b740828145d889f9da5a7695df4a": {
          "model_module": "@jupyter-widgets/base",
          "model_name": "LayoutModel",
          "model_module_version": "1.2.0",
          "state": {
            "_model_module": "@jupyter-widgets/base",
            "_model_module_version": "1.2.0",
            "_model_name": "LayoutModel",
            "_view_count": null,
            "_view_module": "@jupyter-widgets/base",
            "_view_module_version": "1.2.0",
            "_view_name": "LayoutView",
            "align_content": null,
            "align_items": null,
            "align_self": null,
            "border": null,
            "bottom": null,
            "display": null,
            "flex": null,
            "flex_flow": null,
            "grid_area": null,
            "grid_auto_columns": null,
            "grid_auto_flow": null,
            "grid_auto_rows": null,
            "grid_column": null,
            "grid_gap": null,
            "grid_row": null,
            "grid_template_areas": null,
            "grid_template_columns": null,
            "grid_template_rows": null,
            "height": null,
            "justify_content": null,
            "justify_items": null,
            "left": null,
            "margin": null,
            "max_height": null,
            "max_width": null,
            "min_height": null,
            "min_width": null,
            "object_fit": null,
            "object_position": null,
            "order": null,
            "overflow": null,
            "overflow_x": null,
            "overflow_y": null,
            "padding": null,
            "right": null,
            "top": null,
            "visibility": null,
            "width": null
          }
        },
        "be74961e14c441e1a37b71811a76ffdc": {
          "model_module": "@jupyter-widgets/controls",
          "model_name": "DescriptionStyleModel",
          "model_module_version": "1.5.0",
          "state": {
            "_model_module": "@jupyter-widgets/controls",
            "_model_module_version": "1.5.0",
            "_model_name": "DescriptionStyleModel",
            "_view_count": null,
            "_view_module": "@jupyter-widgets/base",
            "_view_module_version": "1.2.0",
            "_view_name": "StyleView",
            "description_width": ""
          }
        },
        "173c57a3bcf64969b08bc0b36898fbe6": {
          "model_module": "@jupyter-widgets/controls",
          "model_name": "HBoxModel",
          "model_module_version": "1.5.0",
          "state": {
            "_dom_classes": [],
            "_model_module": "@jupyter-widgets/controls",
            "_model_module_version": "1.5.0",
            "_model_name": "HBoxModel",
            "_view_count": null,
            "_view_module": "@jupyter-widgets/controls",
            "_view_module_version": "1.5.0",
            "_view_name": "HBoxView",
            "box_style": "",
            "children": [
              "IPY_MODEL_06331840ae8e4a099d4c2ae46ecfab67",
              "IPY_MODEL_feba7eef28e0433ba3d8d497a628ba8c",
              "IPY_MODEL_dbb9f11b3a9e45ad86899c47978815bd"
            ],
            "layout": "IPY_MODEL_f7ac46909e4c48758250642016ffa32f"
          }
        },
        "06331840ae8e4a099d4c2ae46ecfab67": {
          "model_module": "@jupyter-widgets/controls",
          "model_name": "HTMLModel",
          "model_module_version": "1.5.0",
          "state": {
            "_dom_classes": [],
            "_model_module": "@jupyter-widgets/controls",
            "_model_module_version": "1.5.0",
            "_model_name": "HTMLModel",
            "_view_count": null,
            "_view_module": "@jupyter-widgets/controls",
            "_view_module_version": "1.5.0",
            "_view_name": "HTMLView",
            "description": "",
            "description_tooltip": null,
            "layout": "IPY_MODEL_8da978a6c464472caa74f8403e10534b",
            "placeholder": "​",
            "style": "IPY_MODEL_f36273134f054b5484da4ef6b2acdae8",
            "value": "merges.txt: 100%"
          }
        },
        "feba7eef28e0433ba3d8d497a628ba8c": {
          "model_module": "@jupyter-widgets/controls",
          "model_name": "FloatProgressModel",
          "model_module_version": "1.5.0",
          "state": {
            "_dom_classes": [],
            "_model_module": "@jupyter-widgets/controls",
            "_model_module_version": "1.5.0",
            "_model_name": "FloatProgressModel",
            "_view_count": null,
            "_view_module": "@jupyter-widgets/controls",
            "_view_module_version": "1.5.0",
            "_view_name": "ProgressView",
            "bar_style": "success",
            "description": "",
            "description_tooltip": null,
            "layout": "IPY_MODEL_517823cc517c48fba49c19dbe481c8e9",
            "max": 456318,
            "min": 0,
            "orientation": "horizontal",
            "style": "IPY_MODEL_1ebc3f43e7344c0cb487b4e06de72527",
            "value": 456318
          }
        },
        "dbb9f11b3a9e45ad86899c47978815bd": {
          "model_module": "@jupyter-widgets/controls",
          "model_name": "HTMLModel",
          "model_module_version": "1.5.0",
          "state": {
            "_dom_classes": [],
            "_model_module": "@jupyter-widgets/controls",
            "_model_module_version": "1.5.0",
            "_model_name": "HTMLModel",
            "_view_count": null,
            "_view_module": "@jupyter-widgets/controls",
            "_view_module_version": "1.5.0",
            "_view_name": "HTMLView",
            "description": "",
            "description_tooltip": null,
            "layout": "IPY_MODEL_4879d7d947b04ce08f2477a3cd542a26",
            "placeholder": "​",
            "style": "IPY_MODEL_f654cdc4edba443fafa6c4ed741ffabc",
            "value": " 456k/456k [00:00&lt;00:00, 17.7MB/s]"
          }
        },
        "f7ac46909e4c48758250642016ffa32f": {
          "model_module": "@jupyter-widgets/base",
          "model_name": "LayoutModel",
          "model_module_version": "1.2.0",
          "state": {
            "_model_module": "@jupyter-widgets/base",
            "_model_module_version": "1.2.0",
            "_model_name": "LayoutModel",
            "_view_count": null,
            "_view_module": "@jupyter-widgets/base",
            "_view_module_version": "1.2.0",
            "_view_name": "LayoutView",
            "align_content": null,
            "align_items": null,
            "align_self": null,
            "border": null,
            "bottom": null,
            "display": null,
            "flex": null,
            "flex_flow": null,
            "grid_area": null,
            "grid_auto_columns": null,
            "grid_auto_flow": null,
            "grid_auto_rows": null,
            "grid_column": null,
            "grid_gap": null,
            "grid_row": null,
            "grid_template_areas": null,
            "grid_template_columns": null,
            "grid_template_rows": null,
            "height": null,
            "justify_content": null,
            "justify_items": null,
            "left": null,
            "margin": null,
            "max_height": null,
            "max_width": null,
            "min_height": null,
            "min_width": null,
            "object_fit": null,
            "object_position": null,
            "order": null,
            "overflow": null,
            "overflow_x": null,
            "overflow_y": null,
            "padding": null,
            "right": null,
            "top": null,
            "visibility": null,
            "width": null
          }
        },
        "8da978a6c464472caa74f8403e10534b": {
          "model_module": "@jupyter-widgets/base",
          "model_name": "LayoutModel",
          "model_module_version": "1.2.0",
          "state": {
            "_model_module": "@jupyter-widgets/base",
            "_model_module_version": "1.2.0",
            "_model_name": "LayoutModel",
            "_view_count": null,
            "_view_module": "@jupyter-widgets/base",
            "_view_module_version": "1.2.0",
            "_view_name": "LayoutView",
            "align_content": null,
            "align_items": null,
            "align_self": null,
            "border": null,
            "bottom": null,
            "display": null,
            "flex": null,
            "flex_flow": null,
            "grid_area": null,
            "grid_auto_columns": null,
            "grid_auto_flow": null,
            "grid_auto_rows": null,
            "grid_column": null,
            "grid_gap": null,
            "grid_row": null,
            "grid_template_areas": null,
            "grid_template_columns": null,
            "grid_template_rows": null,
            "height": null,
            "justify_content": null,
            "justify_items": null,
            "left": null,
            "margin": null,
            "max_height": null,
            "max_width": null,
            "min_height": null,
            "min_width": null,
            "object_fit": null,
            "object_position": null,
            "order": null,
            "overflow": null,
            "overflow_x": null,
            "overflow_y": null,
            "padding": null,
            "right": null,
            "top": null,
            "visibility": null,
            "width": null
          }
        },
        "f36273134f054b5484da4ef6b2acdae8": {
          "model_module": "@jupyter-widgets/controls",
          "model_name": "DescriptionStyleModel",
          "model_module_version": "1.5.0",
          "state": {
            "_model_module": "@jupyter-widgets/controls",
            "_model_module_version": "1.5.0",
            "_model_name": "DescriptionStyleModel",
            "_view_count": null,
            "_view_module": "@jupyter-widgets/base",
            "_view_module_version": "1.2.0",
            "_view_name": "StyleView",
            "description_width": ""
          }
        },
        "517823cc517c48fba49c19dbe481c8e9": {
          "model_module": "@jupyter-widgets/base",
          "model_name": "LayoutModel",
          "model_module_version": "1.2.0",
          "state": {
            "_model_module": "@jupyter-widgets/base",
            "_model_module_version": "1.2.0",
            "_model_name": "LayoutModel",
            "_view_count": null,
            "_view_module": "@jupyter-widgets/base",
            "_view_module_version": "1.2.0",
            "_view_name": "LayoutView",
            "align_content": null,
            "align_items": null,
            "align_self": null,
            "border": null,
            "bottom": null,
            "display": null,
            "flex": null,
            "flex_flow": null,
            "grid_area": null,
            "grid_auto_columns": null,
            "grid_auto_flow": null,
            "grid_auto_rows": null,
            "grid_column": null,
            "grid_gap": null,
            "grid_row": null,
            "grid_template_areas": null,
            "grid_template_columns": null,
            "grid_template_rows": null,
            "height": null,
            "justify_content": null,
            "justify_items": null,
            "left": null,
            "margin": null,
            "max_height": null,
            "max_width": null,
            "min_height": null,
            "min_width": null,
            "object_fit": null,
            "object_position": null,
            "order": null,
            "overflow": null,
            "overflow_x": null,
            "overflow_y": null,
            "padding": null,
            "right": null,
            "top": null,
            "visibility": null,
            "width": null
          }
        },
        "1ebc3f43e7344c0cb487b4e06de72527": {
          "model_module": "@jupyter-widgets/controls",
          "model_name": "ProgressStyleModel",
          "model_module_version": "1.5.0",
          "state": {
            "_model_module": "@jupyter-widgets/controls",
            "_model_module_version": "1.5.0",
            "_model_name": "ProgressStyleModel",
            "_view_count": null,
            "_view_module": "@jupyter-widgets/base",
            "_view_module_version": "1.2.0",
            "_view_name": "StyleView",
            "bar_color": null,
            "description_width": ""
          }
        },
        "4879d7d947b04ce08f2477a3cd542a26": {
          "model_module": "@jupyter-widgets/base",
          "model_name": "LayoutModel",
          "model_module_version": "1.2.0",
          "state": {
            "_model_module": "@jupyter-widgets/base",
            "_model_module_version": "1.2.0",
            "_model_name": "LayoutModel",
            "_view_count": null,
            "_view_module": "@jupyter-widgets/base",
            "_view_module_version": "1.2.0",
            "_view_name": "LayoutView",
            "align_content": null,
            "align_items": null,
            "align_self": null,
            "border": null,
            "bottom": null,
            "display": null,
            "flex": null,
            "flex_flow": null,
            "grid_area": null,
            "grid_auto_columns": null,
            "grid_auto_flow": null,
            "grid_auto_rows": null,
            "grid_column": null,
            "grid_gap": null,
            "grid_row": null,
            "grid_template_areas": null,
            "grid_template_columns": null,
            "grid_template_rows": null,
            "height": null,
            "justify_content": null,
            "justify_items": null,
            "left": null,
            "margin": null,
            "max_height": null,
            "max_width": null,
            "min_height": null,
            "min_width": null,
            "object_fit": null,
            "object_position": null,
            "order": null,
            "overflow": null,
            "overflow_x": null,
            "overflow_y": null,
            "padding": null,
            "right": null,
            "top": null,
            "visibility": null,
            "width": null
          }
        },
        "f654cdc4edba443fafa6c4ed741ffabc": {
          "model_module": "@jupyter-widgets/controls",
          "model_name": "DescriptionStyleModel",
          "model_module_version": "1.5.0",
          "state": {
            "_model_module": "@jupyter-widgets/controls",
            "_model_module_version": "1.5.0",
            "_model_name": "DescriptionStyleModel",
            "_view_count": null,
            "_view_module": "@jupyter-widgets/base",
            "_view_module_version": "1.2.0",
            "_view_name": "StyleView",
            "description_width": ""
          }
        },
        "cb5e558898ac4e1b88ab1ff60b0925ba": {
          "model_module": "@jupyter-widgets/controls",
          "model_name": "HBoxModel",
          "model_module_version": "1.5.0",
          "state": {
            "_dom_classes": [],
            "_model_module": "@jupyter-widgets/controls",
            "_model_module_version": "1.5.0",
            "_model_name": "HBoxModel",
            "_view_count": null,
            "_view_module": "@jupyter-widgets/controls",
            "_view_module_version": "1.5.0",
            "_view_name": "HBoxView",
            "box_style": "",
            "children": [
              "IPY_MODEL_a9442bf0f5cd4c9ab4e5c70ce627b1f4",
              "IPY_MODEL_d9453c6c8adc40b6908ed8c6b7745001",
              "IPY_MODEL_ef0323bcca824ce49ea9291c18f309bd"
            ],
            "layout": "IPY_MODEL_8dee06e378e04d40bac9524e72ba0a1a"
          }
        },
        "a9442bf0f5cd4c9ab4e5c70ce627b1f4": {
          "model_module": "@jupyter-widgets/controls",
          "model_name": "HTMLModel",
          "model_module_version": "1.5.0",
          "state": {
            "_dom_classes": [],
            "_model_module": "@jupyter-widgets/controls",
            "_model_module_version": "1.5.0",
            "_model_name": "HTMLModel",
            "_view_count": null,
            "_view_module": "@jupyter-widgets/controls",
            "_view_module_version": "1.5.0",
            "_view_name": "HTMLView",
            "description": "",
            "description_tooltip": null,
            "layout": "IPY_MODEL_317964c9484e495887f26e1525341236",
            "placeholder": "​",
            "style": "IPY_MODEL_c4f289bb4ba14c5d8a4afb48f51a964a",
            "value": "tokenizer.json: 100%"
          }
        },
        "d9453c6c8adc40b6908ed8c6b7745001": {
          "model_module": "@jupyter-widgets/controls",
          "model_name": "FloatProgressModel",
          "model_module_version": "1.5.0",
          "state": {
            "_dom_classes": [],
            "_model_module": "@jupyter-widgets/controls",
            "_model_module_version": "1.5.0",
            "_model_name": "FloatProgressModel",
            "_view_count": null,
            "_view_module": "@jupyter-widgets/controls",
            "_view_module_version": "1.5.0",
            "_view_name": "ProgressView",
            "bar_style": "success",
            "description": "",
            "description_tooltip": null,
            "layout": "IPY_MODEL_a38e4a527a664dc382a655d6461fb108",
            "max": 1355256,
            "min": 0,
            "orientation": "horizontal",
            "style": "IPY_MODEL_d194039a4d234d798a1c12994ec25b70",
            "value": 1355256
          }
        },
        "ef0323bcca824ce49ea9291c18f309bd": {
          "model_module": "@jupyter-widgets/controls",
          "model_name": "HTMLModel",
          "model_module_version": "1.5.0",
          "state": {
            "_dom_classes": [],
            "_model_module": "@jupyter-widgets/controls",
            "_model_module_version": "1.5.0",
            "_model_name": "HTMLModel",
            "_view_count": null,
            "_view_module": "@jupyter-widgets/controls",
            "_view_module_version": "1.5.0",
            "_view_name": "HTMLView",
            "description": "",
            "description_tooltip": null,
            "layout": "IPY_MODEL_52a6adb156b7496d82616f4317b5affb",
            "placeholder": "​",
            "style": "IPY_MODEL_2774f92daadc4a4aa9a43e08ee859233",
            "value": " 1.36M/1.36M [00:00&lt;00:00, 29.2MB/s]"
          }
        },
        "8dee06e378e04d40bac9524e72ba0a1a": {
          "model_module": "@jupyter-widgets/base",
          "model_name": "LayoutModel",
          "model_module_version": "1.2.0",
          "state": {
            "_model_module": "@jupyter-widgets/base",
            "_model_module_version": "1.2.0",
            "_model_name": "LayoutModel",
            "_view_count": null,
            "_view_module": "@jupyter-widgets/base",
            "_view_module_version": "1.2.0",
            "_view_name": "LayoutView",
            "align_content": null,
            "align_items": null,
            "align_self": null,
            "border": null,
            "bottom": null,
            "display": null,
            "flex": null,
            "flex_flow": null,
            "grid_area": null,
            "grid_auto_columns": null,
            "grid_auto_flow": null,
            "grid_auto_rows": null,
            "grid_column": null,
            "grid_gap": null,
            "grid_row": null,
            "grid_template_areas": null,
            "grid_template_columns": null,
            "grid_template_rows": null,
            "height": null,
            "justify_content": null,
            "justify_items": null,
            "left": null,
            "margin": null,
            "max_height": null,
            "max_width": null,
            "min_height": null,
            "min_width": null,
            "object_fit": null,
            "object_position": null,
            "order": null,
            "overflow": null,
            "overflow_x": null,
            "overflow_y": null,
            "padding": null,
            "right": null,
            "top": null,
            "visibility": null,
            "width": null
          }
        },
        "317964c9484e495887f26e1525341236": {
          "model_module": "@jupyter-widgets/base",
          "model_name": "LayoutModel",
          "model_module_version": "1.2.0",
          "state": {
            "_model_module": "@jupyter-widgets/base",
            "_model_module_version": "1.2.0",
            "_model_name": "LayoutModel",
            "_view_count": null,
            "_view_module": "@jupyter-widgets/base",
            "_view_module_version": "1.2.0",
            "_view_name": "LayoutView",
            "align_content": null,
            "align_items": null,
            "align_self": null,
            "border": null,
            "bottom": null,
            "display": null,
            "flex": null,
            "flex_flow": null,
            "grid_area": null,
            "grid_auto_columns": null,
            "grid_auto_flow": null,
            "grid_auto_rows": null,
            "grid_column": null,
            "grid_gap": null,
            "grid_row": null,
            "grid_template_areas": null,
            "grid_template_columns": null,
            "grid_template_rows": null,
            "height": null,
            "justify_content": null,
            "justify_items": null,
            "left": null,
            "margin": null,
            "max_height": null,
            "max_width": null,
            "min_height": null,
            "min_width": null,
            "object_fit": null,
            "object_position": null,
            "order": null,
            "overflow": null,
            "overflow_x": null,
            "overflow_y": null,
            "padding": null,
            "right": null,
            "top": null,
            "visibility": null,
            "width": null
          }
        },
        "c4f289bb4ba14c5d8a4afb48f51a964a": {
          "model_module": "@jupyter-widgets/controls",
          "model_name": "DescriptionStyleModel",
          "model_module_version": "1.5.0",
          "state": {
            "_model_module": "@jupyter-widgets/controls",
            "_model_module_version": "1.5.0",
            "_model_name": "DescriptionStyleModel",
            "_view_count": null,
            "_view_module": "@jupyter-widgets/base",
            "_view_module_version": "1.2.0",
            "_view_name": "StyleView",
            "description_width": ""
          }
        },
        "a38e4a527a664dc382a655d6461fb108": {
          "model_module": "@jupyter-widgets/base",
          "model_name": "LayoutModel",
          "model_module_version": "1.2.0",
          "state": {
            "_model_module": "@jupyter-widgets/base",
            "_model_module_version": "1.2.0",
            "_model_name": "LayoutModel",
            "_view_count": null,
            "_view_module": "@jupyter-widgets/base",
            "_view_module_version": "1.2.0",
            "_view_name": "LayoutView",
            "align_content": null,
            "align_items": null,
            "align_self": null,
            "border": null,
            "bottom": null,
            "display": null,
            "flex": null,
            "flex_flow": null,
            "grid_area": null,
            "grid_auto_columns": null,
            "grid_auto_flow": null,
            "grid_auto_rows": null,
            "grid_column": null,
            "grid_gap": null,
            "grid_row": null,
            "grid_template_areas": null,
            "grid_template_columns": null,
            "grid_template_rows": null,
            "height": null,
            "justify_content": null,
            "justify_items": null,
            "left": null,
            "margin": null,
            "max_height": null,
            "max_width": null,
            "min_height": null,
            "min_width": null,
            "object_fit": null,
            "object_position": null,
            "order": null,
            "overflow": null,
            "overflow_x": null,
            "overflow_y": null,
            "padding": null,
            "right": null,
            "top": null,
            "visibility": null,
            "width": null
          }
        },
        "d194039a4d234d798a1c12994ec25b70": {
          "model_module": "@jupyter-widgets/controls",
          "model_name": "ProgressStyleModel",
          "model_module_version": "1.5.0",
          "state": {
            "_model_module": "@jupyter-widgets/controls",
            "_model_module_version": "1.5.0",
            "_model_name": "ProgressStyleModel",
            "_view_count": null,
            "_view_module": "@jupyter-widgets/base",
            "_view_module_version": "1.2.0",
            "_view_name": "StyleView",
            "bar_color": null,
            "description_width": ""
          }
        },
        "52a6adb156b7496d82616f4317b5affb": {
          "model_module": "@jupyter-widgets/base",
          "model_name": "LayoutModel",
          "model_module_version": "1.2.0",
          "state": {
            "_model_module": "@jupyter-widgets/base",
            "_model_module_version": "1.2.0",
            "_model_name": "LayoutModel",
            "_view_count": null,
            "_view_module": "@jupyter-widgets/base",
            "_view_module_version": "1.2.0",
            "_view_name": "LayoutView",
            "align_content": null,
            "align_items": null,
            "align_self": null,
            "border": null,
            "bottom": null,
            "display": null,
            "flex": null,
            "flex_flow": null,
            "grid_area": null,
            "grid_auto_columns": null,
            "grid_auto_flow": null,
            "grid_auto_rows": null,
            "grid_column": null,
            "grid_gap": null,
            "grid_row": null,
            "grid_template_areas": null,
            "grid_template_columns": null,
            "grid_template_rows": null,
            "height": null,
            "justify_content": null,
            "justify_items": null,
            "left": null,
            "margin": null,
            "max_height": null,
            "max_width": null,
            "min_height": null,
            "min_width": null,
            "object_fit": null,
            "object_position": null,
            "order": null,
            "overflow": null,
            "overflow_x": null,
            "overflow_y": null,
            "padding": null,
            "right": null,
            "top": null,
            "visibility": null,
            "width": null
          }
        },
        "2774f92daadc4a4aa9a43e08ee859233": {
          "model_module": "@jupyter-widgets/controls",
          "model_name": "DescriptionStyleModel",
          "model_module_version": "1.5.0",
          "state": {
            "_model_module": "@jupyter-widgets/controls",
            "_model_module_version": "1.5.0",
            "_model_name": "DescriptionStyleModel",
            "_view_count": null,
            "_view_module": "@jupyter-widgets/base",
            "_view_module_version": "1.2.0",
            "_view_name": "StyleView",
            "description_width": ""
          }
        }
      }
    }
  },
  "nbformat": 4,
  "nbformat_minor": 0
}